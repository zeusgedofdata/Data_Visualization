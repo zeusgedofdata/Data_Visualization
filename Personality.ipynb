{
 "cells": [
  {
   "cell_type": "code",
   "execution_count": 1,
   "metadata": {},
   "outputs": [],
   "source": [
    "import pandas as pd\n",
    "import numpy as np\n",
    "import seaborn as sns\n",
    "import matplotlib.pyplot as plt\n",
    "from scipy import stats\n",
    "import urllib.request\n",
    "from bs4 import BeautifulSoup\n",
    "from matplotlib.animation import FuncAnimation\n",
    "from matplotlib import animation, rc\n",
    "from IPython.display import display,  HTML, Markdown, clear_output\n",
    "from IPython.core.display import HTML\n",
    "import ipywidgets as widgets\n",
    "import seaborn as sns"
   ]
  },
  {
   "cell_type": "code",
   "execution_count": 2,
   "metadata": {},
   "outputs": [
    {
     "name": "stdout",
     "output_type": "stream",
     "text": [
      "         EXT1  EXT2  EXT3  EXT4  EXT5  EXT6  EXT7  EXT8  EXT9  EXT10  EST1  \\\n",
      "0         4.0   1.0   5.0   2.0   5.0   1.0   5.0   2.0   4.0    1.0   1.0   \n",
      "1         3.0   5.0   3.0   4.0   3.0   3.0   2.0   5.0   1.0    5.0   2.0   \n",
      "2         2.0   3.0   4.0   4.0   3.0   2.0   1.0   3.0   2.0    5.0   4.0   \n",
      "3         2.0   2.0   2.0   3.0   4.0   2.0   2.0   4.0   1.0    4.0   3.0   \n",
      "4         3.0   3.0   3.0   3.0   5.0   3.0   3.0   5.0   3.0    4.0   1.0   \n",
      "...       ...   ...   ...   ...   ...   ...   ...   ...   ...    ...   ...   \n",
      "1015336   4.0   2.0   4.0   3.0   4.0   3.0   3.0   3.0   3.0    3.0   4.0   \n",
      "1015337   4.0   3.0   4.0   3.0   3.0   3.0   4.0   4.0   3.0    3.0   4.0   \n",
      "1015338   4.0   2.0   4.0   3.0   5.0   1.0   4.0   2.0   4.0    4.0   3.0   \n",
      "1015339   2.0   4.0   3.0   4.0   2.0   2.0   1.0   4.0   2.0    4.0   4.0   \n",
      "1015340   4.0   2.0   4.0   2.0   4.0   1.0   4.0   2.0   4.0    4.0   4.0   \n",
      "\n",
      "         EST2  EST3  EST4  EST5  EST6  EST7  EST8  EST9  EST10  AGR1  AGR2  \\\n",
      "0         4.0   4.0   2.0   2.0   2.0   2.0   2.0   3.0    2.0   2.0   5.0   \n",
      "1         3.0   4.0   1.0   3.0   1.0   2.0   1.0   3.0    1.0   1.0   4.0   \n",
      "2         4.0   4.0   2.0   2.0   2.0   2.0   2.0   1.0    3.0   1.0   4.0   \n",
      "3         3.0   3.0   2.0   3.0   2.0   2.0   2.0   4.0    3.0   2.0   4.0   \n",
      "4         5.0   5.0   3.0   1.0   1.0   1.0   1.0   3.0    2.0   1.0   5.0   \n",
      "...       ...   ...   ...   ...   ...   ...   ...   ...    ...   ...   ...   \n",
      "1015336   3.0   3.0   3.0   4.0   3.0   4.0   3.0   3.0    3.0   5.0   4.0   \n",
      "1015337   3.0   5.0   1.0   5.0   5.0   4.0   4.0   4.0    5.0   2.0   4.0   \n",
      "1015338   2.0   4.0   3.0   2.0   2.0   4.0   2.0   4.0    1.0   3.0   5.0   \n",
      "1015339   3.0   4.0   2.0   4.0   4.0   2.0   2.0   4.0    4.0   2.0   3.0   \n",
      "1015340   3.0   4.0   3.0   2.0   3.0   3.0   1.0   4.0    2.0   1.0   5.0   \n",
      "\n",
      "         AGR3  AGR4  AGR5  AGR6  AGR7  AGR8  AGR9  AGR10  CSN1  CSN2  CSN3  \\\n",
      "0         2.0   4.0   2.0   3.0   2.0   4.0   3.0    4.0   3.0   4.0   3.0   \n",
      "1         1.0   5.0   1.0   5.0   3.0   4.0   5.0    3.0   3.0   2.0   5.0   \n",
      "2         1.0   4.0   2.0   4.0   1.0   4.0   4.0    3.0   4.0   2.0   2.0   \n",
      "3         3.0   4.0   2.0   4.0   2.0   4.0   3.0    4.0   2.0   4.0   4.0   \n",
      "4         1.0   5.0   1.0   3.0   1.0   5.0   5.0    3.0   5.0   1.0   5.0   \n",
      "...       ...   ...   ...   ...   ...   ...   ...    ...   ...   ...   ...   \n",
      "1015336   2.0   5.0   2.0   4.0   2.0   4.0   4.0    4.0   2.0   3.0   3.0   \n",
      "1015337   1.0   4.0   3.0   5.0   3.0   3.0   5.0    3.0   3.0   2.0   3.0   \n",
      "1015338   5.0   3.0   2.0   3.0   2.0   4.0   3.0    5.0   4.0   5.0   3.0   \n",
      "1015339   2.0   4.0   3.0   4.0   2.0   4.0   4.0    3.0   4.0   2.0   4.0   \n",
      "1015340   2.0   4.0   3.0   5.0   2.0   3.0   4.0    5.0   3.0   4.0   3.0   \n",
      "\n",
      "         CSN4  CSN5  CSN6  CSN7  CSN8  CSN9  CSN10  OPN1  OPN2  OPN3  OPN4  \\\n",
      "0         2.0   2.0   4.0   4.0   2.0   4.0    4.0   5.0   1.0   4.0   1.0   \n",
      "1         3.0   3.0   1.0   3.0   3.0   5.0    3.0   1.0   2.0   4.0   2.0   \n",
      "2         2.0   3.0   3.0   4.0   2.0   4.0    2.0   5.0   1.0   2.0   1.0   \n",
      "3         4.0   1.0   2.0   2.0   3.0   1.0    4.0   4.0   2.0   5.0   2.0   \n",
      "4         1.0   3.0   1.0   5.0   1.0   5.0    5.0   5.0   1.0   5.0   1.0   \n",
      "...       ...   ...   ...   ...   ...   ...    ...   ...   ...   ...   ...   \n",
      "1015336   3.0   4.0   4.0   4.0   2.0   3.0    3.0   2.0   2.0   4.0   3.0   \n",
      "1015337   4.0   3.0   3.0   2.0   3.0   2.0    3.0   4.0   1.0   5.0   1.0   \n",
      "1015338   5.0   1.0   5.0   1.0   4.0   1.0    4.0   5.0   1.0   5.0   1.0   \n",
      "1015339   2.0   2.0   2.0   4.0   2.0   4.0    4.0   5.0   2.0   4.0   2.0   \n",
      "1015340   3.0   2.0   3.0   3.0   2.0   2.0    3.0   5.0   1.0   5.0   1.0   \n",
      "\n",
      "         OPN5  OPN6  OPN7  OPN8  OPN9  OPN10  EXT1_E  EXT2_E  EXT3_E  EXT4_E  \\\n",
      "0         4.0   1.0   5.0   3.0   4.0    5.0  9419.0  5491.0  3959.0  4821.0   \n",
      "1         3.0   1.0   4.0   2.0   5.0    3.0  7235.0  3598.0  3315.0  2564.0   \n",
      "2         4.0   2.0   5.0   3.0   4.0    4.0  4657.0  3549.0  2543.0  3335.0   \n",
      "3         3.0   1.0   4.0   4.0   3.0    3.0  3996.0  2896.0  5096.0  4240.0   \n",
      "4         5.0   1.0   5.0   3.0   5.0    5.0  6004.0  3965.0  2721.0  3706.0   \n",
      "...       ...   ...   ...   ...   ...    ...     ...     ...     ...     ...   \n",
      "1015336   4.0   2.0   4.0   2.0   2.0    4.0  5694.0  3927.0  4600.0  5255.0   \n",
      "1015337   5.0   1.0   3.0   4.0   5.0    4.0  2382.0  1984.0  3696.0  1736.0   \n",
      "1015338   4.0   1.0   5.0   5.0   4.0    5.0  4077.0  2120.0  1688.0  2528.0   \n",
      "1015339   3.0   2.0   4.0   5.0   5.0    3.0  8647.0  2664.0  3544.0  2263.0   \n",
      "1015340   3.0   1.0   5.0   4.0   5.0    5.0  4425.0  2472.0  3163.0  2571.0   \n",
      "\n",
      "         EXT5_E  EXT6_E  EXT7_E  EXT8_E   EXT9_E  EXT10_E  EST1_E  EST2_E  \\\n",
      "0        5611.0  2756.0  2388.0  2113.0   5900.0   4110.0  6135.0  4150.0   \n",
      "1        2976.0  3050.0  4787.0  3228.0   3465.0   3309.0  9036.0  2406.0   \n",
      "2        5847.0  2540.0  4922.0  3142.0  14621.0   2191.0  5128.0  3675.0   \n",
      "3        5168.0  5456.0  4360.0  4496.0   5240.0   4000.0  3736.0  4616.0   \n",
      "4        2968.0  2426.0  7339.0  3302.0  16819.0   3731.0  4740.0  2856.0   \n",
      "...         ...     ...     ...     ...      ...      ...     ...     ...   \n",
      "1015336  1688.0  2216.0  5064.0  3288.0   4207.0   3807.0  3607.0  3256.0   \n",
      "1015337  2272.0  2327.0  2088.0  2296.0   1585.0   3287.0  1752.0  1728.0   \n",
      "1015338  1721.0  2711.0  5329.0  2080.0   2992.0   2952.0  1967.0  2305.0   \n",
      "1015339  2248.0  3024.0  4704.0  3383.0   2488.0   3183.0  2423.0  5807.0   \n",
      "1015340   984.0  2853.0  2987.0  4771.0   3255.0   2918.0  2386.0  2269.0   \n",
      "\n",
      "         EST3_E  EST4_E  EST5_E  EST6_E  EST7_E  EST8_E  EST9_E  EST10_E  \\\n",
      "0        5739.0  6364.0  3663.0  5070.0  5709.0  4285.0  2587.0   3997.0   \n",
      "1        3484.0  3359.0  3061.0  2539.0  4226.0  2962.0  1799.0   1607.0   \n",
      "2        3442.0  4546.0  8275.0  2185.0  2164.0  1175.0  3813.0   1593.0   \n",
      "3        3015.0  2711.0  3960.0  4064.0  4208.0  2936.0  7336.0   3896.0   \n",
      "4        7461.0  2179.0  3324.0  2255.0  4308.0  4506.0  3127.0   3115.0   \n",
      "...         ...     ...     ...     ...     ...     ...     ...      ...   \n",
      "1015336  8575.0  1696.0  2016.0  5488.0  2456.0  3487.0  1655.0   2119.0   \n",
      "1015337  1279.0  1768.0  4503.0  1329.0  1640.0  1464.0  2183.0    953.0   \n",
      "1015338  1752.0  3096.0  3206.0  2825.0  2482.0  2358.0  1946.0   2416.0   \n",
      "1015339  1384.0  2696.0  2800.0  1847.0  4655.0  1232.0  5064.0   4921.0   \n",
      "1015340  1952.0  3037.0  2370.0  2370.0  1719.0  4572.0  3087.0   2352.0   \n",
      "\n",
      "         AGR1_E   AGR2_E   AGR3_E  AGR4_E   AGR5_E  AGR6_E   AGR7_E   AGR8_E  \\\n",
      "0        4750.0   5475.0  11641.0  3115.0   3207.0  3260.0  10235.0   5897.0   \n",
      "1        2158.0   2090.0   2143.0  2807.0   3422.0  5324.0   4494.0   3627.0   \n",
      "2        1089.0   2203.0   3386.0  1464.0   2562.0  1493.0   3067.0  13719.0   \n",
      "3        6062.0  11952.0   1040.0  2264.0   3664.0  3049.0   4912.0   7545.0   \n",
      "4        6771.0   2819.0   3682.0  2511.0  16204.0  1736.0  28983.0   1612.0   \n",
      "...         ...      ...      ...     ...      ...     ...      ...      ...   \n",
      "1015336  1655.0   1937.0   1233.0  3151.0   2576.0  1888.0   2815.0   2964.0   \n",
      "1015337  2422.0   1448.0   3216.0  6160.0   2208.0  1513.0   2785.0   3833.0   \n",
      "1015338  2487.0   1863.0   1745.0  4040.0   4068.0  1480.0   4550.0   3000.0   \n",
      "1015339  2982.0   5584.0   2567.0  2168.0   6320.0  3055.0   2580.0   2816.0   \n",
      "1015340  6502.0   3751.0   3136.0  6857.0   6608.0  3870.0   8258.0   3037.0   \n",
      "\n",
      "         AGR9_E  AGR10_E  CSN1_E  CSN2_E   CSN3_E  CSN4_E  CSN5_E  CSN6_E  \\\n",
      "0        1758.0   3081.0  6602.0  5457.0   1569.0  2129.0  3762.0  4420.0   \n",
      "1        1850.0   1747.0  5163.0  5240.0   7208.0  2783.0  4103.0  3431.0   \n",
      "2        3892.0   4100.0  4286.0  4775.0   2713.0  2813.0  4237.0  6308.0   \n",
      "3        4632.0   6896.0  2824.0   520.0   2368.0  3225.0  2848.0  6264.0   \n",
      "4        2437.0   4532.0  3843.0  7019.0   3102.0  3153.0  2869.0  6550.0   \n",
      "...         ...      ...     ...     ...      ...     ...     ...     ...   \n",
      "1015336  2665.0   2888.0  3008.0  2367.0   2504.0  2544.0  2144.0  4784.0   \n",
      "1015337  3280.0   1184.0  2096.0  1880.0   3209.0  1744.0  4392.0  1943.0   \n",
      "1015338  5873.0   2088.0  5286.0  2232.0   2942.0  2296.0  1841.0  2303.0   \n",
      "1015339  2544.0   3744.0  5168.0  3903.0  37726.0  2735.0  1367.0  5056.0   \n",
      "1015340  2251.0   3853.0  5106.0  3087.0   3988.0  2469.0  2919.0  3020.0   \n",
      "\n",
      "         CSN7_E   CSN8_E   CSN9_E  CSN10_E  OPN1_E  OPN2_E   OPN3_E  OPN4_E  \\\n",
      "0        9382.0   5286.0   4983.0   6339.0  3146.0  4067.0   2959.0  3411.0   \n",
      "1        3347.0   2399.0   3360.0   5595.0  2624.0  4985.0   1684.0  3026.0   \n",
      "2        2690.0   1516.0   2379.0   2983.0  1930.0  1470.0   1644.0  1683.0   \n",
      "3        3760.0  10472.0   3192.0   7704.0  3456.0  6665.0   1977.0  3728.0   \n",
      "4        1811.0   3682.0  21500.0  20587.0  8458.0  3510.0  17042.0  7029.0   \n",
      "...         ...      ...      ...      ...     ...     ...      ...     ...   \n",
      "1015336  3529.0   5072.0   2016.0   3353.0  2649.0  3544.0   7577.0  3096.0   \n",
      "1015337  2263.0   1559.0   1304.0   2176.0  2560.0  6632.0   2312.0  2376.0   \n",
      "1015338  1791.0   2744.0   1196.0   4719.0  2121.0  2807.0   1711.0  2335.0   \n",
      "1015339  3216.0   3320.0   2263.0   1415.0  5024.0  4664.0   4792.0  6471.0   \n",
      "1015340  3104.0   2252.0   4539.0   4539.0  5039.0  2493.0   2302.0  5072.0   \n",
      "\n",
      "         OPN5_E  OPN6_E  OPN7_E  OPN8_E   OPN9_E  OPN10_E  \\\n",
      "0        2170.0  4920.0  4436.0  3116.0   2992.0   4354.0   \n",
      "1        4742.0  3336.0  2718.0  3374.0   3096.0   3019.0   \n",
      "2        2229.0  8114.0  2043.0  6295.0   1585.0   2529.0   \n",
      "3        4128.0  3776.0  2984.0  4192.0   3480.0   3257.0   \n",
      "4        2327.0  5835.0  6846.0  5320.0  11401.0   8642.0   \n",
      "...         ...     ...     ...     ...      ...      ...   \n",
      "1015336  1896.0  3912.0  2744.0  2025.0   1873.0   1232.0   \n",
      "1015337  2969.0  2271.0  4064.0  1144.0   2936.0   1615.0   \n",
      "1015338  1609.0  3007.0  2727.0  2648.0   2646.0   1287.0   \n",
      "1015339  1873.0  3136.0  3129.0  2799.0   7184.0   2526.0   \n",
      "1015340  1752.0  1935.0  7174.0  4037.0   3422.0   1769.0   \n",
      "\n",
      "                    dateload  screenw  screenh  introelapse  testelapse  \\\n",
      "0        2016-03-03 02:01:01    768.0   1024.0          9.0       234.0   \n",
      "1        2016-03-03 02:01:20   1360.0    768.0         12.0       179.0   \n",
      "2        2016-03-03 02:01:56   1366.0    768.0          3.0       186.0   \n",
      "3        2016-03-03 02:02:02   1920.0   1200.0        186.0       219.0   \n",
      "4        2016-03-03 02:02:57   1366.0    768.0          8.0       315.0   \n",
      "...                      ...      ...      ...          ...         ...   \n",
      "1015336  2018-11-08 12:04:58   1920.0   1080.0          3.0       160.0   \n",
      "1015337  2018-11-08 12:07:18   1920.0   1080.0          3.0       122.0   \n",
      "1015338  2018-11-08 12:07:49   1920.0   1080.0          2.0       135.0   \n",
      "1015339  2018-11-08 12:08:34   1920.0   1080.0          6.0       212.0   \n",
      "1015340  2018-11-08 12:08:45   1920.0   1080.0          3.0       176.0   \n",
      "\n",
      "         endelapse  IPC country lat_appx_lots_of_err long_appx_lots_of_err  \n",
      "0                6    1      GB              51.5448                0.1991  \n",
      "1               11    1      MY               3.1698               101.706  \n",
      "2                7    1      GB              54.9119               -1.3833  \n",
      "3                7    1      GB                51.75                 -1.25  \n",
      "4               17    2      KE                  1.0                  38.0  \n",
      "...            ...  ...     ...                  ...                   ...  \n",
      "1015336         10    2      US              39.9883              -75.2208  \n",
      "1015337          7    1      US                 38.0                 -97.0  \n",
      "1015338         12    6      US              36.1473               -86.777  \n",
      "1015339          8    1      US              34.1067             -117.8067  \n",
      "1015340          9    1      US                 38.0                 -97.0  \n",
      "\n",
      "[1015341 rows x 110 columns]\n"
     ]
    }
   ],
   "source": [
    "personality_fp = r\"data/Personality/data-final.csv\"\n",
    "personality = pd.read_csv(personality_fp, sep = \"\\t\")\n",
    "personality\n",
    "\n",
    "with pd.option_context('display.max_columns', None):  # more options can be specified also\n",
    "    print(personality)"
   ]
  },
  {
   "cell_type": "markdown",
   "metadata": {},
   "source": [
    "# Compare the different personality type group questions to eachother"
   ]
  },
  {
   "cell_type": "code",
   "execution_count": 3,
   "metadata": {},
   "outputs": [],
   "source": [
    "#Create new dataframe of just the particular personality type\n",
    "ext = personality[['EXT1','EXT2','EXT3','EXT4','EXT5','EXT6','EXT7','EXT8','EXT9','EXT10']]\n",
    "est = personality[['EST1','EST2','EST3','EST4','EST5','EST6','EST7','EST8','EST9','EST10']]\n",
    "arg = personality[['AGR1','AGR2','AGR3','AGR4','AGR5','AGR6','AGR7','AGR8','AGR9','AGR10']]\n",
    "csv = personality[['CSN1','CSN2','CSN3','CSN4','CSN5','CSN6','CSN7','CSN8','CSN9','CSN10']]\n",
    "opn = personality[['OPN1','OPN2','OPN3','OPN4','OPN5','OPN6','OPN7','OPN8','OPN9','OPN10']]"
   ]
  },
  {
   "cell_type": "code",
   "execution_count": 4,
   "metadata": {},
   "outputs": [
    {
     "data": {
      "text/plain": [
       "EXT1     2.648067\n",
       "EXT2     2.773115\n",
       "EXT3     3.288349\n",
       "EXT4     3.140595\n",
       "EXT5     3.276960\n",
       "EXT6     2.401100\n",
       "EXT7     2.771744\n",
       "EXT8     3.414818\n",
       "EXT9     2.963740\n",
       "EXT10    3.556469\n",
       "dtype: float64"
      ]
     },
     "execution_count": 4,
     "metadata": {},
     "output_type": "execute_result"
    }
   ],
   "source": [
    "ext.mean()"
   ]
  },
  {
   "cell_type": "code",
   "execution_count": 5,
   "metadata": {},
   "outputs": [
    {
     "data": {
      "text/plain": [
       "<matplotlib.axes._subplots.AxesSubplot at 0x20ed90d21d0>"
      ]
     },
     "execution_count": 5,
     "metadata": {},
     "output_type": "execute_result"
    },
    {
     "data": {
      "image/png": "[encoded data removed]",
      "text/plain": [
       "<Figure size 432x288 with 1 Axes>"
      ]
     },
     "metadata": {
      "needs_background": "light"
     },
     "output_type": "display_data"
    }
   ],
   "source": [
    "sns.countplot(ext['EXT1'])\n"
   ]
  },
  {
   "cell_type": "markdown",
   "metadata": {},
   "source": [
    "## Question If I scroed high in one question, how likely is it that I scored high in another?"
   ]
  },
  {
   "cell_type": "code",
   "execution_count": 6,
   "metadata": {},
   "outputs": [
    {
     "data": {
      "text/plain": [
       "<matplotlib.axes._subplots.AxesSubplot at 0x20e8695ab70>"
      ]
     },
     "execution_count": 6,
     "metadata": {},
     "output_type": "execute_result"
    },
    {
     "data": {
      "image/png": "[encoded data removed]",
      "text/plain": [
       "<Figure size 432x288 with 1 Axes>"
      ]
     },
     "metadata": {
      "needs_background": "light"
     },
     "output_type": "display_data"
    }
   ],
   "source": [
    "# Get just ext1 values with a score of 1 plot a count of ext2\n",
    "ext1 = ext[ext['EXT1'] == 1]\n",
    "sns.countplot(ext1['EXT2'])"
   ]
  },
  {
   "cell_type": "code",
   "execution_count": 7,
   "metadata": {},
   "outputs": [
    {
     "data": {
      "text/plain": [
       "<matplotlib.axes._subplots.AxesSubplot at 0x20eb5b3c9e8>"
      ]
     },
     "execution_count": 7,
     "metadata": {},
     "output_type": "execute_result"
    },
    {
     "data": {
      "image/png": "[encoded data removed]",
      "text/plain": [
       "<Figure size 432x288 with 1 Axes>"
      ]
     },
     "metadata": {
      "needs_background": "light"
     },
     "output_type": "display_data"
    }
   ],
   "source": [
    "ext5 = ext[ext['EXT1'] == 5]\n",
    "sns.countplot(ext5['EXT2'])"
   ]
  },
  {
   "cell_type": "code",
   "execution_count": 8,
   "metadata": {},
   "outputs": [
    {
     "data": {
      "text/html": [
       "<div>\n",
       "<style scoped>\n",
       "    .dataframe tbody tr th:only-of-type {\n",
       "        vertical-align: middle;\n",
       "    }\n",
       "\n",
       "    .dataframe tbody tr th {\n",
       "        vertical-align: top;\n",
       "    }\n",
       "\n",
       "    .dataframe thead th {\n",
       "        text-align: right;\n",
       "    }\n",
       "</style>\n",
       "<table border=\"1\" class=\"dataframe\">\n",
       "  <thead>\n",
       "    <tr style=\"text-align: right;\">\n",
       "      <th></th>\n",
       "      <th>EXT1</th>\n",
       "      <th>EXT2</th>\n",
       "      <th>EXT3</th>\n",
       "      <th>EXT4</th>\n",
       "      <th>EXT5</th>\n",
       "      <th>EXT6</th>\n",
       "      <th>EXT7</th>\n",
       "      <th>EXT8</th>\n",
       "      <th>EXT9</th>\n",
       "      <th>EXT10</th>\n",
       "    </tr>\n",
       "  </thead>\n",
       "  <tbody>\n",
       "    <tr>\n",
       "      <td>19</td>\n",
       "      <td>5.0</td>\n",
       "      <td>1.0</td>\n",
       "      <td>5.0</td>\n",
       "      <td>2.0</td>\n",
       "      <td>5.0</td>\n",
       "      <td>1.0</td>\n",
       "      <td>5.0</td>\n",
       "      <td>3.0</td>\n",
       "      <td>5.0</td>\n",
       "      <td>4.0</td>\n",
       "    </tr>\n",
       "    <tr>\n",
       "      <td>36</td>\n",
       "      <td>5.0</td>\n",
       "      <td>1.0</td>\n",
       "      <td>4.0</td>\n",
       "      <td>1.0</td>\n",
       "      <td>5.0</td>\n",
       "      <td>2.0</td>\n",
       "      <td>5.0</td>\n",
       "      <td>2.0</td>\n",
       "      <td>5.0</td>\n",
       "      <td>3.0</td>\n",
       "    </tr>\n",
       "    <tr>\n",
       "      <td>39</td>\n",
       "      <td>5.0</td>\n",
       "      <td>1.0</td>\n",
       "      <td>5.0</td>\n",
       "      <td>2.0</td>\n",
       "      <td>5.0</td>\n",
       "      <td>1.0</td>\n",
       "      <td>5.0</td>\n",
       "      <td>2.0</td>\n",
       "      <td>4.0</td>\n",
       "      <td>2.0</td>\n",
       "    </tr>\n",
       "    <tr>\n",
       "      <td>55</td>\n",
       "      <td>5.0</td>\n",
       "      <td>1.0</td>\n",
       "      <td>5.0</td>\n",
       "      <td>2.0</td>\n",
       "      <td>4.0</td>\n",
       "      <td>1.0</td>\n",
       "      <td>4.0</td>\n",
       "      <td>3.0</td>\n",
       "      <td>4.0</td>\n",
       "      <td>2.0</td>\n",
       "    </tr>\n",
       "    <tr>\n",
       "      <td>61</td>\n",
       "      <td>5.0</td>\n",
       "      <td>1.0</td>\n",
       "      <td>5.0</td>\n",
       "      <td>1.0</td>\n",
       "      <td>5.0</td>\n",
       "      <td>1.0</td>\n",
       "      <td>5.0</td>\n",
       "      <td>3.0</td>\n",
       "      <td>3.0</td>\n",
       "      <td>3.0</td>\n",
       "    </tr>\n",
       "    <tr>\n",
       "      <td>...</td>\n",
       "      <td>...</td>\n",
       "      <td>...</td>\n",
       "      <td>...</td>\n",
       "      <td>...</td>\n",
       "      <td>...</td>\n",
       "      <td>...</td>\n",
       "      <td>...</td>\n",
       "      <td>...</td>\n",
       "      <td>...</td>\n",
       "      <td>...</td>\n",
       "    </tr>\n",
       "    <tr>\n",
       "      <td>1015267</td>\n",
       "      <td>5.0</td>\n",
       "      <td>2.0</td>\n",
       "      <td>4.0</td>\n",
       "      <td>2.0</td>\n",
       "      <td>5.0</td>\n",
       "      <td>1.0</td>\n",
       "      <td>4.0</td>\n",
       "      <td>4.0</td>\n",
       "      <td>3.0</td>\n",
       "      <td>3.0</td>\n",
       "    </tr>\n",
       "    <tr>\n",
       "      <td>1015279</td>\n",
       "      <td>5.0</td>\n",
       "      <td>4.0</td>\n",
       "      <td>4.0</td>\n",
       "      <td>3.0</td>\n",
       "      <td>5.0</td>\n",
       "      <td>2.0</td>\n",
       "      <td>5.0</td>\n",
       "      <td>2.0</td>\n",
       "      <td>4.0</td>\n",
       "      <td>3.0</td>\n",
       "    </tr>\n",
       "    <tr>\n",
       "      <td>1015305</td>\n",
       "      <td>5.0</td>\n",
       "      <td>1.0</td>\n",
       "      <td>4.0</td>\n",
       "      <td>1.0</td>\n",
       "      <td>5.0</td>\n",
       "      <td>1.0</td>\n",
       "      <td>5.0</td>\n",
       "      <td>3.0</td>\n",
       "      <td>5.0</td>\n",
       "      <td>2.0</td>\n",
       "    </tr>\n",
       "    <tr>\n",
       "      <td>1015309</td>\n",
       "      <td>5.0</td>\n",
       "      <td>1.0</td>\n",
       "      <td>4.0</td>\n",
       "      <td>1.0</td>\n",
       "      <td>4.0</td>\n",
       "      <td>1.0</td>\n",
       "      <td>2.0</td>\n",
       "      <td>1.0</td>\n",
       "      <td>5.0</td>\n",
       "      <td>1.0</td>\n",
       "    </tr>\n",
       "    <tr>\n",
       "      <td>1015335</td>\n",
       "      <td>5.0</td>\n",
       "      <td>1.0</td>\n",
       "      <td>5.0</td>\n",
       "      <td>2.0</td>\n",
       "      <td>4.0</td>\n",
       "      <td>2.0</td>\n",
       "      <td>3.0</td>\n",
       "      <td>1.0</td>\n",
       "      <td>5.0</td>\n",
       "      <td>1.0</td>\n",
       "    </tr>\n",
       "  </tbody>\n",
       "</table>\n",
       "<p>80702 rows × 10 columns</p>\n",
       "</div>"
      ],
      "text/plain": [
       "         EXT1  EXT2  EXT3  EXT4  EXT5  EXT6  EXT7  EXT8  EXT9  EXT10\n",
       "19        5.0   1.0   5.0   2.0   5.0   1.0   5.0   3.0   5.0    4.0\n",
       "36        5.0   1.0   4.0   1.0   5.0   2.0   5.0   2.0   5.0    3.0\n",
       "39        5.0   1.0   5.0   2.0   5.0   1.0   5.0   2.0   4.0    2.0\n",
       "55        5.0   1.0   5.0   2.0   4.0   1.0   4.0   3.0   4.0    2.0\n",
       "61        5.0   1.0   5.0   1.0   5.0   1.0   5.0   3.0   3.0    3.0\n",
       "...       ...   ...   ...   ...   ...   ...   ...   ...   ...    ...\n",
       "1015267   5.0   2.0   4.0   2.0   5.0   1.0   4.0   4.0   3.0    3.0\n",
       "1015279   5.0   4.0   4.0   3.0   5.0   2.0   5.0   2.0   4.0    3.0\n",
       "1015305   5.0   1.0   4.0   1.0   5.0   1.0   5.0   3.0   5.0    2.0\n",
       "1015309   5.0   1.0   4.0   1.0   4.0   1.0   2.0   1.0   5.0    1.0\n",
       "1015335   5.0   1.0   5.0   2.0   4.0   2.0   3.0   1.0   5.0    1.0\n",
       "\n",
       "[80702 rows x 10 columns]"
      ]
     },
     "execution_count": 8,
     "metadata": {},
     "output_type": "execute_result"
    }
   ],
   "source": [
    "ext5"
   ]
  },
  {
   "cell_type": "code",
   "execution_count": 9,
   "metadata": {},
   "outputs": [
    {
     "data": {
      "text/plain": [
       "<matplotlib.axes._subplots.AxesSubplot at 0x20e8447dc18>"
      ]
     },
     "execution_count": 9,
     "metadata": {},
     "output_type": "execute_result"
    },
    {
     "data": {
      "image/png": "[encoded data removed]",
      "text/plain": [
       "<Figure size 432x288 with 1 Axes>"
      ]
     },
     "metadata": {
      "needs_background": "light"
     },
     "output_type": "display_data"
    }
   ],
   "source": [
    "# We want a bar where the x axis is values of EXT1, and at each values (1,2,3,4,5) \n",
    "#it shows the count of ext (1,2,3,4,5). So there should be 25 bars in all. \n",
    "ext1 = ext[ext['EXT1'] == 1]\n",
    "ext2 = ext[ext['EXT1'] == 2]\n",
    "ext3 = ext[ext['EXT1'] == 3]\n",
    "ext4 = ext[ext['EXT1'] == 4]\n",
    "ext5 = ext[ext['EXT1'] == 5]\n",
    "\n",
    "column_names = [\"ext1\", \"ext2\", \"ext3\", \"ext4\", \"ext5\"]\n",
    "ext1v2 = pd.DataFrame(columns = column_names)\n",
    "\n",
    "for i in range(6):\n",
    "    ext1v2 = ext1v2.append({\"ext1\":len(ext1[ext1['EXT2'] == i]), \"ext2\":len(ext2[ext2['EXT2'] == i]), \n",
    "                 \"ext3\":len(ext3[ext3['EXT2'] == i]), \"ext4\":len(ext4[ext4['EXT2'] == i]), \n",
    "                 \"ext5\":len(ext5[ext5['EXT2'] == i])}, ignore_index = \"True\") \n",
    "\n",
    "\n",
    "    \n",
    "\n",
    "\n",
    "\n",
    "#df = pd.concat(data, axis=1, keys=[s.name for s in data])\n",
    "#ext1v2 = ext1v2.melt('x', var_name='cols', value_name='vals')\n",
    "#data\n",
    "\n",
    "#sns.countplot(ext1v2['1'])\n",
    "\n",
    "ext1v2 = ext1v2.reset_index()\n",
    "\n",
    "ext1v2 = ext1v2.melt('index', var_name='cols', value_name='vals')\n",
    "ext1v2\n",
    "\n",
    "sns.barplot(x= 'index', y='vals', hue='cols', data=ext1v2)"
   ]
  },
  {
   "cell_type": "code",
   "execution_count": 10,
   "metadata": {},
   "outputs": [
    {
     "data": {
      "text/plain": [
       "989"
      ]
     },
     "execution_count": 10,
     "metadata": {},
     "output_type": "execute_result"
    }
   ],
   "source": [
    "len(ext1[ext1['EXT2'] == 0])"
   ]
  },
  {
   "cell_type": "code",
   "execution_count": null,
   "metadata": {},
   "outputs": [],
   "source": []
  },
  {
   "cell_type": "code",
   "execution_count": 11,
   "metadata": {},
   "outputs": [],
   "source": [
    "def compare_two_values(col1, col2):\n",
    "    score0 = personality[personality[col1] == 0]\n",
    "    score1 = personality[personality[col1] == 1]\n",
    "    score2 = personality[personality[col1] == 2]\n",
    "    score3 = personality[personality[col1] == 3]\n",
    "    score4 = personality[personality[col1] == 4]\n",
    "    score5 = personality[personality[col1] == 5]\n",
    "    \n",
    "    column_names = [col2+\"-0\", col2+\"-1\", col2+\"-2\", col2+\"-3\", col2+\"-4\", col2+\"-5\"]\n",
    "    col1v2 = pd.DataFrame(columns = column_names)\n",
    "    \n",
    "    \n",
    "    for i in range(6):\n",
    "        col1v2 = col1v2.append({column_names[0]:len(ext1[ext1[col2] == i]), column_names[1]:len(ext2[ext2[col2] == i]), \n",
    "                     column_names[2]:len(ext3[ext3[col2] == i]), column_names[3]:len(ext4[ext4[col2] == i]), \n",
    "                     column_names[4]:len(ext5[ext5[col2] == i]), column_names[4]:len(ext4[ext4[col2] == i])}, ignore_index = \"True\") \n",
    "    \n",
    "    col1v2 = col1v2.reset_index()\n",
    "    col1v2 = col1v2.melt('index', var_name='cols', value_name='vals')\n",
    "    sns.barplot(x= 'index', y='vals', hue='cols', data=col1v2)"
   ]
  },
  {
   "cell_type": "code",
   "execution_count": 12,
   "metadata": {},
   "outputs": [
    {
     "data": {
      "image/png": "[encoded data removed]",
      "text/plain": [
       "<Figure size 432x288 with 1 Axes>"
      ]
     },
     "metadata": {
      "needs_background": "light"
     },
     "output_type": "display_data"
    }
   ],
   "source": [
    "compare_two_values(\"EXT1\", \"EXT2\")"
   ]
  },
  {
   "cell_type": "code",
   "execution_count": 13,
   "metadata": {},
   "outputs": [
    {
     "data": {
      "text/html": [
       "<div>\n",
       "<style scoped>\n",
       "    .dataframe tbody tr th:only-of-type {\n",
       "        vertical-align: middle;\n",
       "    }\n",
       "\n",
       "    .dataframe tbody tr th {\n",
       "        vertical-align: top;\n",
       "    }\n",
       "\n",
       "    .dataframe thead th {\n",
       "        text-align: right;\n",
       "    }\n",
       "</style>\n",
       "<table border=\"1\" class=\"dataframe\">\n",
       "  <thead>\n",
       "    <tr style=\"text-align: right;\">\n",
       "      <th></th>\n",
       "      <th>AGR1</th>\n",
       "      <th>AGR10</th>\n",
       "      <th>AGR2</th>\n",
       "      <th>AGR3</th>\n",
       "      <th>AGR4</th>\n",
       "      <th>AGR5</th>\n",
       "      <th>AGR6</th>\n",
       "      <th>AGR7</th>\n",
       "      <th>AGR8</th>\n",
       "      <th>AGR9</th>\n",
       "      <th>...</th>\n",
       "      <th>OPN1</th>\n",
       "      <th>OPN10</th>\n",
       "      <th>OPN2</th>\n",
       "      <th>OPN3</th>\n",
       "      <th>OPN4</th>\n",
       "      <th>OPN5</th>\n",
       "      <th>OPN6</th>\n",
       "      <th>OPN7</th>\n",
       "      <th>OPN8</th>\n",
       "      <th>OPN9</th>\n",
       "    </tr>\n",
       "  </thead>\n",
       "  <tbody>\n",
       "    <tr>\n",
       "      <td>0</td>\n",
       "      <td>1.0</td>\n",
       "      <td>1.0</td>\n",
       "      <td>2.0</td>\n",
       "      <td>1.0</td>\n",
       "      <td>1.0</td>\n",
       "      <td>1.0</td>\n",
       "      <td>0.0</td>\n",
       "      <td>1.0</td>\n",
       "      <td>1.0</td>\n",
       "      <td>0.0</td>\n",
       "      <td>...</td>\n",
       "      <td>2.0</td>\n",
       "      <td>2.0</td>\n",
       "      <td>2.0</td>\n",
       "      <td>1.0</td>\n",
       "      <td>2.0</td>\n",
       "      <td>1.0</td>\n",
       "      <td>2.0</td>\n",
       "      <td>2.0</td>\n",
       "      <td>0.0</td>\n",
       "      <td>1.0</td>\n",
       "    </tr>\n",
       "    <tr>\n",
       "      <td>1</td>\n",
       "      <td>2.0</td>\n",
       "      <td>0.0</td>\n",
       "      <td>1.0</td>\n",
       "      <td>2.0</td>\n",
       "      <td>2.0</td>\n",
       "      <td>2.0</td>\n",
       "      <td>2.0</td>\n",
       "      <td>0.0</td>\n",
       "      <td>1.0</td>\n",
       "      <td>2.0</td>\n",
       "      <td>...</td>\n",
       "      <td>-2.0</td>\n",
       "      <td>0.0</td>\n",
       "      <td>1.0</td>\n",
       "      <td>1.0</td>\n",
       "      <td>1.0</td>\n",
       "      <td>0.0</td>\n",
       "      <td>2.0</td>\n",
       "      <td>1.0</td>\n",
       "      <td>-1.0</td>\n",
       "      <td>2.0</td>\n",
       "    </tr>\n",
       "    <tr>\n",
       "      <td>2</td>\n",
       "      <td>2.0</td>\n",
       "      <td>0.0</td>\n",
       "      <td>1.0</td>\n",
       "      <td>2.0</td>\n",
       "      <td>1.0</td>\n",
       "      <td>1.0</td>\n",
       "      <td>1.0</td>\n",
       "      <td>2.0</td>\n",
       "      <td>1.0</td>\n",
       "      <td>1.0</td>\n",
       "      <td>...</td>\n",
       "      <td>2.0</td>\n",
       "      <td>1.0</td>\n",
       "      <td>2.0</td>\n",
       "      <td>-1.0</td>\n",
       "      <td>2.0</td>\n",
       "      <td>1.0</td>\n",
       "      <td>1.0</td>\n",
       "      <td>2.0</td>\n",
       "      <td>0.0</td>\n",
       "      <td>1.0</td>\n",
       "    </tr>\n",
       "    <tr>\n",
       "      <td>3</td>\n",
       "      <td>1.0</td>\n",
       "      <td>1.0</td>\n",
       "      <td>1.0</td>\n",
       "      <td>0.0</td>\n",
       "      <td>1.0</td>\n",
       "      <td>1.0</td>\n",
       "      <td>1.0</td>\n",
       "      <td>1.0</td>\n",
       "      <td>1.0</td>\n",
       "      <td>0.0</td>\n",
       "      <td>...</td>\n",
       "      <td>1.0</td>\n",
       "      <td>0.0</td>\n",
       "      <td>1.0</td>\n",
       "      <td>2.0</td>\n",
       "      <td>1.0</td>\n",
       "      <td>0.0</td>\n",
       "      <td>2.0</td>\n",
       "      <td>1.0</td>\n",
       "      <td>1.0</td>\n",
       "      <td>0.0</td>\n",
       "    </tr>\n",
       "    <tr>\n",
       "      <td>4</td>\n",
       "      <td>2.0</td>\n",
       "      <td>0.0</td>\n",
       "      <td>2.0</td>\n",
       "      <td>2.0</td>\n",
       "      <td>2.0</td>\n",
       "      <td>2.0</td>\n",
       "      <td>0.0</td>\n",
       "      <td>2.0</td>\n",
       "      <td>2.0</td>\n",
       "      <td>2.0</td>\n",
       "      <td>...</td>\n",
       "      <td>2.0</td>\n",
       "      <td>2.0</td>\n",
       "      <td>2.0</td>\n",
       "      <td>2.0</td>\n",
       "      <td>2.0</td>\n",
       "      <td>2.0</td>\n",
       "      <td>2.0</td>\n",
       "      <td>2.0</td>\n",
       "      <td>0.0</td>\n",
       "      <td>2.0</td>\n",
       "    </tr>\n",
       "  </tbody>\n",
       "</table>\n",
       "<p>5 rows × 50 columns</p>\n",
       "</div>"
      ],
      "text/plain": [
       "   AGR1  AGR10  AGR2  AGR3  AGR4  AGR5  AGR6  AGR7  AGR8  AGR9  ...  OPN1  \\\n",
       "0   1.0    1.0   2.0   1.0   1.0   1.0   0.0   1.0   1.0   0.0  ...   2.0   \n",
       "1   2.0    0.0   1.0   2.0   2.0   2.0   2.0   0.0   1.0   2.0  ...  -2.0   \n",
       "2   2.0    0.0   1.0   2.0   1.0   1.0   1.0   2.0   1.0   1.0  ...   2.0   \n",
       "3   1.0    1.0   1.0   0.0   1.0   1.0   1.0   1.0   1.0   0.0  ...   1.0   \n",
       "4   2.0    0.0   2.0   2.0   2.0   2.0   0.0   2.0   2.0   2.0  ...   2.0   \n",
       "\n",
       "   OPN10  OPN2  OPN3  OPN4  OPN5  OPN6  OPN7  OPN8  OPN9  \n",
       "0    2.0   2.0   1.0   2.0   1.0   2.0   2.0   0.0   1.0  \n",
       "1    0.0   1.0   1.0   1.0   0.0   2.0   1.0  -1.0   2.0  \n",
       "2    1.0   2.0  -1.0   2.0   1.0   1.0   2.0   0.0   1.0  \n",
       "3    0.0   1.0   2.0   1.0   0.0   2.0   1.0   1.0   0.0  \n",
       "4    2.0   2.0   2.0   2.0   2.0   2.0   2.0   0.0   2.0  \n",
       "\n",
       "[5 rows x 50 columns]"
      ]
     },
     "execution_count": 13,
     "metadata": {},
     "output_type": "execute_result"
    }
   ],
   "source": [
    "pos_questions = [ # positive questions adding to the trait.\n",
    "    'EXT1','EXT3','EXT5','EXT7','EXT9',                       # 5 Extroversion\n",
    "    'EST1','EST3','EST5','EST6','EST7','EST8','EST9','EST10', # 8 Neuroticism\n",
    "    'AGR2','AGR4','AGR6','AGR8','AGR9','AGR10',               # 6 Agreeableness\n",
    "    'CSN1','CSN3','CSN5','CSN7','CSN9','CSN10',               # 6 Conscientiousness\n",
    "    'OPN1','OPN3','OPN5','OPN7','OPN8','OPN9','OPN10',        # 7 Openness\n",
    "]\n",
    "neg_questions = [ # negative (negating) questions subtracting from the trait.\n",
    "    'EXT2','EXT4','EXT6','EXT8','EXT10', # 5 Extroversion\n",
    "    'EST2','EST4',                       # 2 Neuroticism\n",
    "    'AGR1','AGR3','AGR5','AGR7',         # 4 Agreeableness\n",
    "    'CSN2','CSN4','CSN6','CSN8',         # 4 Conscientiousness\n",
    "    'OPN2','OPN4','OPN6',                # 3 Openness\n",
    "]\n",
    "\n",
    "personality[pos_questions] = personality[pos_questions].replace({1:-2, 2:-1, 3:0, 4:1, 5:2})\n",
    "personality[neg_questions] = personality[neg_questions].replace({1:2, 2:1, 3:0, 4:-1, 5:-2})\n",
    "cols = pos_questions + neg_questions\n",
    "personality = personality[sorted(cols)]\n",
    "personality.head()"
   ]
  },
  {
   "cell_type": "code",
   "execution_count": 16,
   "metadata": {},
   "outputs": [
    {
     "data": {
      "text/html": [
       "<div>\n",
       "<style scoped>\n",
       "    .dataframe tbody tr th:only-of-type {\n",
       "        vertical-align: middle;\n",
       "    }\n",
       "\n",
       "    .dataframe tbody tr th {\n",
       "        vertical-align: top;\n",
       "    }\n",
       "\n",
       "    .dataframe thead th {\n",
       "        text-align: right;\n",
       "    }\n",
       "</style>\n",
       "<table border=\"1\" class=\"dataframe\">\n",
       "  <thead>\n",
       "    <tr style=\"text-align: right;\">\n",
       "      <th></th>\n",
       "      <th>EXT</th>\n",
       "      <th>EST</th>\n",
       "      <th>AGR</th>\n",
       "      <th>CSN</th>\n",
       "      <th>OPN</th>\n",
       "    </tr>\n",
       "  </thead>\n",
       "  <tbody>\n",
       "    <tr>\n",
       "      <td>0</td>\n",
       "      <td>16.0</td>\n",
       "      <td>-6.0</td>\n",
       "      <td>9.0</td>\n",
       "      <td>2.0</td>\n",
       "      <td>15.0</td>\n",
       "    </tr>\n",
       "    <tr>\n",
       "      <td>1</td>\n",
       "      <td>-10.0</td>\n",
       "      <td>-5.0</td>\n",
       "      <td>14.0</td>\n",
       "      <td>7.0</td>\n",
       "      <td>5.0</td>\n",
       "    </tr>\n",
       "    <tr>\n",
       "      <td>2</td>\n",
       "      <td>-5.0</td>\n",
       "      <td>-4.0</td>\n",
       "      <td>12.0</td>\n",
       "      <td>4.0</td>\n",
       "      <td>11.0</td>\n",
       "    </tr>\n",
       "    <tr>\n",
       "      <td>3</td>\n",
       "      <td>-4.0</td>\n",
       "      <td>-1.0</td>\n",
       "      <td>8.0</td>\n",
       "      <td>-5.0</td>\n",
       "      <td>9.0</td>\n",
       "    </tr>\n",
       "    <tr>\n",
       "      <td>4</td>\n",
       "      <td>-1.0</td>\n",
       "      <td>-11.0</td>\n",
       "      <td>16.0</td>\n",
       "      <td>18.0</td>\n",
       "      <td>18.0</td>\n",
       "    </tr>\n",
       "  </tbody>\n",
       "</table>\n",
       "</div>"
      ],
      "text/plain": [
       "    EXT   EST   AGR   CSN   OPN\n",
       "0  16.0  -6.0   9.0   2.0  15.0\n",
       "1 -10.0  -5.0  14.0   7.0   5.0\n",
       "2  -5.0  -4.0  12.0   4.0  11.0\n",
       "3  -4.0  -1.0   8.0  -5.0   9.0\n",
       "4  -1.0 -11.0  16.0  18.0  18.0"
      ]
     },
     "execution_count": 16,
     "metadata": {},
     "output_type": "execute_result"
    }
   ],
   "source": [
    "traits = ['EXT', 'EST', 'AGR', 'CSN', 'OPN']\n",
    "trait_labels = ['Extroversion', 'Neuroticism', 'Agreeableness', 'Conscientiousness', 'Openness']\n",
    "\n",
    "for trait in traits:\n",
    "    trait_cols = sorted([col for col in personality.columns if trait in col and '_E' not in col])\n",
    "    personality[trait] = personality[trait_cols].sum(axis=1)\n",
    "personality[traits].head()"
   ]
  },
  {
   "cell_type": "code",
   "execution_count": 26,
   "metadata": {},
   "outputs": [
    {
     "data": {
      "text/plain": [
       "[Text(0, 0, ''),\n",
       " Text(0, 0, ''),\n",
       " Text(0, 0, ''),\n",
       " Text(0, 0, ''),\n",
       " Text(0, 0, ''),\n",
       " Text(0, 0, ''),\n",
       " Text(0, 0, ''),\n",
       " Text(0, 0, ''),\n",
       " Text(0, 0, ''),\n",
       " Text(0, 0, ''),\n",
       " Text(0, 0, '')]"
      ]
     },
     "execution_count": 26,
     "metadata": {},
     "output_type": "execute_result"
    },
    {
     "data": {
      "image/png": "[encoded data removed]",
      "text/plain": [
       "<Figure size 432x288 with 1 Axes>"
      ]
     },
     "metadata": {
      "needs_background": "light"
     },
     "output_type": "display_data"
    }
   ],
   "source": [
    "ax = sns.scatterplot(x= 'EXT', y='AGR', data=personality)\n",
    "ax.set_xticklabels(ax.get_xticklabels(), rotation=90)"
   ]
  },
  {
   "cell_type": "code",
   "execution_count": null,
   "metadata": {},
   "outputs": [],
   "source": []
  }
 ],
 "metadata": {
  "kernelspec": {
   "display_name": "Python 3",
   "language": "python",
   "name": "python3"
  },
  "language_info": {
   "codemirror_mode": {
    "name": "ipython",
    "version": 3
   },
   "file_extension": ".py",
   "mimetype": "text/x-python",
   "name": "python",
   "nbconvert_exporter": "python",
   "pygments_lexer": "ipython3",
   "version": "3.6.9"
  }
 },
 "nbformat": 4,
 "nbformat_minor": 4
}
