{
 "metadata": {
  "language_info": {
   "codemirror_mode": {
    "name": "ipython",
    "version": 3
   },
   "file_extension": ".py",
   "mimetype": "text/x-python",
   "name": "python",
   "nbconvert_exporter": "python",
   "pygments_lexer": "ipython3",
   "version": "3.8.0-final"
  },
  "orig_nbformat": 2,
  "kernelspec": {
   "name": "python3",
   "display_name": "Python 3",
   "language": "python"
  }
 },
 "nbformat": 4,
 "nbformat_minor": 2,
 "cells": [
  {
   "source": [
    "# A Look at income over time\n",
    "\n",
    "\n",
    "Questions: \n",
    "\n",
    "1. How the wealth distribution changed over time\n",
    "\n",
    "    a. Home Ownership\n",
    "\n",
    "    b. Student Debt\n",
    "\n",
    "    c. Wealth concentration on racial lines\n",
    "\n",
    "    d. Mobility\n",
    "\n",
    "2. How do racail factors differ? \n",
    "\n",
    "    a. Is there a difference between imagrants income mobility and natives for POC? \n",
    "\n",
    "    b. What does mobility look like along racial lines\n",
    "\n",
    "3. How does geography play into the role of mobility and income? \n",
    "    \n",
    "    a. Which locations have seen the biggest wealth growth? \n",
    "\n",
    "    b. Which locations have seen the most even wealth growths? \n",
    "\n",
    "4. How does the US compare to other countries? \n",
    "\n",
    "\n",
    "\n",
    "Datasets: \n",
    "\n",
    "[Tidy Data](https://github.com/rfordatascience/tidytuesday/blob/master/data/2021/2021-02-09/readme.md)\n",
    "\n",
    "[Opportunity Insights](https://opportunityinsights.org/data/)\n",
    "    \n"
   ],
   "cell_type": "markdown",
   "metadata": {}
  },
  {
   "source": [
    "## Import libraries and Data"
   ],
   "cell_type": "markdown",
   "metadata": {}
  },
  {
   "cell_type": "code",
   "execution_count": 72,
   "metadata": {},
   "outputs": [],
   "source": [
    "import csv\n",
    "import requests\n",
    "import pandas as pd\n",
    "import io\n",
    "import plotly.express as px\n",
    "import plotly.graph_objects as go\n",
    "from plotly.subplots import make_subplots\n",
    "import plotly.figure_factory as ff\n",
    "from urllib.request import urlopen\n",
    "import json\n",
    "import plotly.io as pio"
   ]
  },
  {
   "cell_type": "code",
   "execution_count": 96,
   "metadata": {},
   "outputs": [],
   "source": [
    "lifetime_earn = pd.read_csv('https://raw.githubusercontent.com/rfordatascience/tidytuesday/master/data/2021/2021-02-09/lifetime_earn.csv')\n",
    "student_debt = pd.read_csv('https://raw.githubusercontent.com/rfordatascience/tidytuesday/master/data/2021/2021-02-09/student_debt.csv')\n",
    "retirement = pd.read_csv('https://raw.githubusercontent.com/rfordatascience/tidytuesday/master/data/2021/2021-02-09/retirement.csv')\n",
    "home_owner = pd.read_csv('https://raw.githubusercontent.com/rfordatascience/tidytuesday/master/data/2021/2021-02-09/home_owner.csv')\n",
    "race_wealth = pd.read_csv('https://raw.githubusercontent.com/rfordatascience/tidytuesday/master/data/2021/2021-02-09/race_wealth.csv')\n",
    "income_time = pd.read_csv('https://raw.githubusercontent.com/rfordatascience/tidytuesday/master/data/2021/2021-02-09/income_time.csv')\n",
    "income_limits = pd.read_csv('https://raw.githubusercontent.com/rfordatascience/tidytuesday/master/data/2021/2021-02-09/income_limits.csv')\n",
    "income_aggregate = pd.read_csv('https://raw.githubusercontent.com/rfordatascience/tidytuesday/master/data/2021/2021-02-09/income_aggregate.csv')\n",
    "income_distribution = pd.read_csv('https://raw.githubusercontent.com/rfordatascience/tidytuesday/master/data/2021/2021-02-09/income_distribution.csv')\n",
    "income_mean = pd.read_csv('https://raw.githubusercontent.com/rfordatascience/tidytuesday/master/data/2021/2021-02-09/income_mean.csv')"
   ]
  },
  {
   "cell_type": "code",
   "execution_count": 3,
   "metadata": {},
   "outputs": [
    {
     "output_type": "execute_result",
     "data": {
      "text/plain": [
       "  gender               race  lifetime_earn\n",
       "0    Men              White        2706000\n",
       "1    Men              Black        1780000\n",
       "2    Men  Hispanic any race        2011000\n",
       "3  Women              White        1518000\n",
       "4  Women              Black        1260000"
      ],
      "text/html": "<div>\n<style scoped>\n    .dataframe tbody tr th:only-of-type {\n        vertical-align: middle;\n    }\n\n    .dataframe tbody tr th {\n        vertical-align: top;\n    }\n\n    .dataframe thead th {\n        text-align: right;\n    }\n</style>\n<table border=\"1\" class=\"dataframe\">\n  <thead>\n    <tr style=\"text-align: right;\">\n      <th></th>\n      <th>gender</th>\n      <th>race</th>\n      <th>lifetime_earn</th>\n    </tr>\n  </thead>\n  <tbody>\n    <tr>\n      <th>0</th>\n      <td>Men</td>\n      <td>White</td>\n      <td>2706000</td>\n    </tr>\n    <tr>\n      <th>1</th>\n      <td>Men</td>\n      <td>Black</td>\n      <td>1780000</td>\n    </tr>\n    <tr>\n      <th>2</th>\n      <td>Men</td>\n      <td>Hispanic any race</td>\n      <td>2011000</td>\n    </tr>\n    <tr>\n      <th>3</th>\n      <td>Women</td>\n      <td>White</td>\n      <td>1518000</td>\n    </tr>\n    <tr>\n      <th>4</th>\n      <td>Women</td>\n      <td>Black</td>\n      <td>1260000</td>\n    </tr>\n  </tbody>\n</table>\n</div>"
     },
     "metadata": {},
     "execution_count": 3
    }
   ],
   "source": [
    "lifetime_earn.head()"
   ]
  },
  {
   "source": [
    "## How has wealth distribution changed over time?\n",
    "\n",
    "\n",
    "### Home ownership"
   ],
   "cell_type": "markdown",
   "metadata": {}
  },
  {
   "source": [
    "home_white = home_owner[home_owner['race'] == 'White']\n",
    "home_white = home_white.reset_index()\n",
    "home_black = home_owner[home_owner['race'] == 'Black']\n",
    "home_hispanic = home_owner[home_owner['race'] == 'Hispanic']\n",
    "home_poc = home_owner[home_owner['race'] != 'White']\n",
    "\n",
    "home_poc = home_poc.groupby(by=['year']).mean()\n",
    "home_poc = home_poc.reset_index()\n",
    "\n",
    "home_owner_agg = home_owner.groupby(by=['year']).mean()\n",
    "home_owner_agg = home_owner_agg.reset_index()\n",
    "\n",
    "home_poc.head()\n",
    "#home_owner_agg.head()\n",
    "#home_owner.head()"
   ],
   "cell_type": "code",
   "metadata": {},
   "execution_count": 52,
   "outputs": [
    {
     "output_type": "execute_result",
     "data": {
      "text/plain": [
       "   year  home_owner_pct\n",
       "0  1976        0.434726\n",
       "1  1977        0.431910\n",
       "2  1978        0.435778\n",
       "3  1979        0.470971\n",
       "4  1980        0.480933"
      ],
      "text/html": "<div>\n<style scoped>\n    .dataframe tbody tr th:only-of-type {\n        vertical-align: middle;\n    }\n\n    .dataframe tbody tr th {\n        vertical-align: top;\n    }\n\n    .dataframe thead th {\n        text-align: right;\n    }\n</style>\n<table border=\"1\" class=\"dataframe\">\n  <thead>\n    <tr style=\"text-align: right;\">\n      <th></th>\n      <th>year</th>\n      <th>home_owner_pct</th>\n    </tr>\n  </thead>\n  <tbody>\n    <tr>\n      <td>0</td>\n      <td>1976</td>\n      <td>0.434726</td>\n    </tr>\n    <tr>\n      <td>1</td>\n      <td>1977</td>\n      <td>0.431910</td>\n    </tr>\n    <tr>\n      <td>2</td>\n      <td>1978</td>\n      <td>0.435778</td>\n    </tr>\n    <tr>\n      <td>3</td>\n      <td>1979</td>\n      <td>0.470971</td>\n    </tr>\n    <tr>\n      <td>4</td>\n      <td>1980</td>\n      <td>0.480933</td>\n    </tr>\n  </tbody>\n</table>\n</div>"
     },
     "metadata": {},
     "execution_count": 52
    }
   ]
  },
  {
   "cell_type": "code",
   "execution_count": 29,
   "metadata": {},
   "outputs": [
    {
     "output_type": "display_data",
     "data": {
      "application/vnd.plotly.v1+json": {
       "config": {
        "plotlyServerURL": "https://plot.ly"
       },
       "data": [
        {
         "name": "white",
         "type": "scatter",
         "x": [
          1976,
          1977,
          1978,
          1979,
          1980,
          1981,
          1982,
          1983,
          1984,
          1985,
          1986,
          1987,
          1988,
          1989,
          1990,
          1991,
          1992,
          1993,
          1994,
          1995,
          1996,
          1997,
          1998,
          1999,
          2000,
          2001,
          2002,
          2003,
          2004,
          2005,
          2006,
          2007,
          2008,
          2009,
          2010,
          2011,
          2012,
          2013,
          2014,
          2015,
          2016
         ],
         "y": [
          0.6775375823083613,
          0.675531345156305,
          0.6766516269758269,
          0.7019315575939319,
          0.705324590905237,
          0.7059355520926089,
          0.7016267417118539,
          0.6761772020442185,
          0.672999354630526,
          0.6725387638062872,
          0.6662270162975344,
          0.6684048444697479,
          0.6715645668990302,
          0.6739533950385029,
          0.6748000948068311,
          0.6734388894378026,
          0.6748331802877258,
          0.6812007358405516,
          0.6782502093776931,
          0.6860647025806991,
          0.6896380352853475,
          0.6915905430348347,
          0.6973962325505771,
          0.7034582396917856,
          0.7080676620547274,
          0.7147950683105632,
          0.7184336472508326,
          0.7209340389546619,
          0.7250929731845762,
          0.7303832902670112,
          0.7238534854895927,
          0.7207116836492266,
          0.7185633779123559,
          0.7120685855798189,
          0.7101446239881033,
          0.7060100097605551,
          0.6987129243843075,
          0.6944168670999437,
          0.6907763227675111,
          0.682,
          0.682
         ]
        },
        {
         "name": "black",
         "type": "scatter",
         "x": [
          1976,
          1977,
          1978,
          1979,
          1980,
          1981,
          1982,
          1983,
          1984,
          1985,
          1986,
          1987,
          1988,
          1989,
          1990,
          1991,
          1992,
          1993,
          1994,
          1995,
          1996,
          1997,
          1998,
          1999,
          2000,
          2001,
          2002,
          2003,
          2004,
          2005,
          2006,
          2007,
          2008,
          2009,
          2010,
          2011,
          2012,
          2013,
          2014,
          2015,
          2016
         ],
         "y": [
          0.4423821605020697,
          0.4412294238683128,
          0.4454055409301743,
          0.4818993305231837,
          0.4860237596086653,
          0.4781281790437437,
          0.4720455306327419,
          0.4534544638851503,
          0.4551754006063231,
          0.4414556962025317,
          0.44513626620394,
          0.4540415238863133,
          0.4244060475161987,
          0.4182369093835811,
          0.4238985313751669,
          0.4241401930465749,
          0.42253902373003704,
          0.4223413762287757,
          0.4246963921638153,
          0.4193908193908194,
          0.4392329619072299,
          0.4550334461970435,
          0.4597562930896264,
          0.4549646235789808,
          0.4712428982800218,
          0.4768483376347351,
          0.4817123544874202,
          0.4769402153731898,
          0.4906449482720669,
          0.4912738069375046,
          0.4727896014855021,
          0.4816775811620454,
          0.4714452614940554,
          0.4641315519013361,
          0.4599456890699253,
          0.4433016704880445,
          0.4328434832830649,
          0.4281123991935484,
          0.4275398406374502,
          0.423,
          0.416
         ]
        },
        {
         "name": "hispanic",
         "type": "scatter",
         "x": [
          1976,
          1977,
          1978,
          1979,
          1980,
          1981,
          1982,
          1983,
          1984,
          1985,
          1986,
          1987,
          1988,
          1989,
          1990,
          1991,
          1992,
          1993,
          1994,
          1995,
          1996,
          1997,
          1998,
          1999,
          2000,
          2001,
          2002,
          2003,
          2004,
          2005,
          2006,
          2007,
          2008,
          2009,
          2010,
          2011,
          2012,
          2013,
          2014,
          2015,
          2016
         ],
         "y": [
          0.4270691994572592,
          0.4225900681596884,
          0.4261501210653753,
          0.4600425402613187,
          0.4758414766558089,
          0.4664618535586277,
          0.4653266331658292,
          0.41223990208078337,
          0.4042995839112344,
          0.4110178169158305,
          0.40571647803568,
          0.40568475452196384,
          0.40224640224640223,
          0.41573604060913705,
          0.4117647058823529,
          0.38954983922829584,
          0.3992788838375921,
          0.400543314216722,
          0.4156479217603912,
          0.4237879767291532,
          0.41239450812444894,
          0.4307598784194529,
          0.4490104772991851,
          0.4520971302428256,
          0.4553063633437064,
          0.4558501096272673,
          0.4747118773216497,
          0.4749096040215186,
          0.47374273007184403,
          0.4929380850714403,
          0.4874990015176931,
          0.4930239728667232,
          0.4911912437214184,
          0.4780633147113594,
          0.4756354338998346,
          0.4653494328576656,
          0.4611707655005196,
          0.4595354441395007,
          0.4535890692154724,
          0.456,
          0.46
         ]
        },
        {
         "name": "Agg",
         "type": "scatter",
         "x": [
          1976,
          1977,
          1978,
          1979,
          1980,
          1981,
          1982,
          1983,
          1984,
          1985,
          1986,
          1987,
          1988,
          1989,
          1990,
          1991,
          1992,
          1993,
          1994,
          1995,
          1996,
          1997,
          1998,
          1999,
          2000,
          2001,
          2002,
          2003,
          2004,
          2005,
          2006,
          2007,
          2008,
          2009,
          2010,
          2011,
          2012,
          2013,
          2014,
          2015,
          2016
         ],
         "y": [
          0.5156629807558967,
          0.5131169457281021,
          0.5160690963237922,
          0.547957809459478,
          0.5557299423899038,
          0.5501751948983268,
          0.546332968503475,
          0.5139571893367174,
          0.5108247797160278,
          0.5083374256415498,
          0.5056932535123848,
          0.5093770409593418,
          0.4994056722205437,
          0.502642115010407,
          0.5034877773547836,
          0.4957096405708912,
          0.4988836959517849,
          0.5013618087620165,
          0.5061981744339665,
          0.509747832900224,
          0.5137551684390088,
          0.5257946225504436,
          0.535387667646463,
          0.536839997837864,
          0.5448723078928185,
          0.5491645051908552,
          0.5582859596866342,
          0.5575946194497902,
          0.5631602171761624,
          0.5715317274253188,
          0.5613806961642626,
          0.5651377458926651,
          0.5603999610426099,
          0.5514211507308381,
          0.5485752489859543,
          0.5382203710354218,
          0.5309090577226306,
          0.5273549034776642,
          0.5239684108734779,
          0.5203333333333333,
          0.5193333333333333
         ]
        }
       ],
       "layout": {
        "template": {
         "data": {
          "bar": [
           {
            "error_x": {
             "color": "#2a3f5f"
            },
            "error_y": {
             "color": "#2a3f5f"
            },
            "marker": {
             "line": {
              "color": "#E5ECF6",
              "width": 0.5
             }
            },
            "type": "bar"
           }
          ],
          "barpolar": [
           {
            "marker": {
             "line": {
              "color": "#E5ECF6",
              "width": 0.5
             }
            },
            "type": "barpolar"
           }
          ],
          "carpet": [
           {
            "aaxis": {
             "endlinecolor": "#2a3f5f",
             "gridcolor": "white",
             "linecolor": "white",
             "minorgridcolor": "white",
             "startlinecolor": "#2a3f5f"
            },
            "baxis": {
             "endlinecolor": "#2a3f5f",
             "gridcolor": "white",
             "linecolor": "white",
             "minorgridcolor": "white",
             "startlinecolor": "#2a3f5f"
            },
            "type": "carpet"
           }
          ],
          "choropleth": [
           {
            "colorbar": {
             "outlinewidth": 0,
             "ticks": ""
            },
            "type": "choropleth"
           }
          ],
          "contour": [
           {
            "colorbar": {
             "outlinewidth": 0,
             "ticks": ""
            },
            "colorscale": [
             [
              0,
              "#0d0887"
             ],
             [
              0.1111111111111111,
              "#46039f"
             ],
             [
              0.2222222222222222,
              "#7201a8"
             ],
             [
              0.3333333333333333,
              "#9c179e"
             ],
             [
              0.4444444444444444,
              "#bd3786"
             ],
             [
              0.5555555555555556,
              "#d8576b"
             ],
             [
              0.6666666666666666,
              "#ed7953"
             ],
             [
              0.7777777777777778,
              "#fb9f3a"
             ],
             [
              0.8888888888888888,
              "#fdca26"
             ],
             [
              1,
              "#f0f921"
             ]
            ],
            "type": "contour"
           }
          ],
          "contourcarpet": [
           {
            "colorbar": {
             "outlinewidth": 0,
             "ticks": ""
            },
            "type": "contourcarpet"
           }
          ],
          "heatmap": [
           {
            "colorbar": {
             "outlinewidth": 0,
             "ticks": ""
            },
            "colorscale": [
             [
              0,
              "#0d0887"
             ],
             [
              0.1111111111111111,
              "#46039f"
             ],
             [
              0.2222222222222222,
              "#7201a8"
             ],
             [
              0.3333333333333333,
              "#9c179e"
             ],
             [
              0.4444444444444444,
              "#bd3786"
             ],
             [
              0.5555555555555556,
              "#d8576b"
             ],
             [
              0.6666666666666666,
              "#ed7953"
             ],
             [
              0.7777777777777778,
              "#fb9f3a"
             ],
             [
              0.8888888888888888,
              "#fdca26"
             ],
             [
              1,
              "#f0f921"
             ]
            ],
            "type": "heatmap"
           }
          ],
          "heatmapgl": [
           {
            "colorbar": {
             "outlinewidth": 0,
             "ticks": ""
            },
            "colorscale": [
             [
              0,
              "#0d0887"
             ],
             [
              0.1111111111111111,
              "#46039f"
             ],
             [
              0.2222222222222222,
              "#7201a8"
             ],
             [
              0.3333333333333333,
              "#9c179e"
             ],
             [
              0.4444444444444444,
              "#bd3786"
             ],
             [
              0.5555555555555556,
              "#d8576b"
             ],
             [
              0.6666666666666666,
              "#ed7953"
             ],
             [
              0.7777777777777778,
              "#fb9f3a"
             ],
             [
              0.8888888888888888,
              "#fdca26"
             ],
             [
              1,
              "#f0f921"
             ]
            ],
            "type": "heatmapgl"
           }
          ],
          "histogram": [
           {
            "marker": {
             "colorbar": {
              "outlinewidth": 0,
              "ticks": ""
             }
            },
            "type": "histogram"
           }
          ],
          "histogram2d": [
           {
            "colorbar": {
             "outlinewidth": 0,
             "ticks": ""
            },
            "colorscale": [
             [
              0,
              "#0d0887"
             ],
             [
              0.1111111111111111,
              "#46039f"
             ],
             [
              0.2222222222222222,
              "#7201a8"
             ],
             [
              0.3333333333333333,
              "#9c179e"
             ],
             [
              0.4444444444444444,
              "#bd3786"
             ],
             [
              0.5555555555555556,
              "#d8576b"
             ],
             [
              0.6666666666666666,
              "#ed7953"
             ],
             [
              0.7777777777777778,
              "#fb9f3a"
             ],
             [
              0.8888888888888888,
              "#fdca26"
             ],
             [
              1,
              "#f0f921"
             ]
            ],
            "type": "histogram2d"
           }
          ],
          "histogram2dcontour": [
           {
            "colorbar": {
             "outlinewidth": 0,
             "ticks": ""
            },
            "colorscale": [
             [
              0,
              "#0d0887"
             ],
             [
              0.1111111111111111,
              "#46039f"
             ],
             [
              0.2222222222222222,
              "#7201a8"
             ],
             [
              0.3333333333333333,
              "#9c179e"
             ],
             [
              0.4444444444444444,
              "#bd3786"
             ],
             [
              0.5555555555555556,
              "#d8576b"
             ],
             [
              0.6666666666666666,
              "#ed7953"
             ],
             [
              0.7777777777777778,
              "#fb9f3a"
             ],
             [
              0.8888888888888888,
              "#fdca26"
             ],
             [
              1,
              "#f0f921"
             ]
            ],
            "type": "histogram2dcontour"
           }
          ],
          "mesh3d": [
           {
            "colorbar": {
             "outlinewidth": 0,
             "ticks": ""
            },
            "type": "mesh3d"
           }
          ],
          "parcoords": [
           {
            "line": {
             "colorbar": {
              "outlinewidth": 0,
              "ticks": ""
             }
            },
            "type": "parcoords"
           }
          ],
          "pie": [
           {
            "automargin": true,
            "type": "pie"
           }
          ],
          "scatter": [
           {
            "marker": {
             "colorbar": {
              "outlinewidth": 0,
              "ticks": ""
             }
            },
            "type": "scatter"
           }
          ],
          "scatter3d": [
           {
            "line": {
             "colorbar": {
              "outlinewidth": 0,
              "ticks": ""
             }
            },
            "marker": {
             "colorbar": {
              "outlinewidth": 0,
              "ticks": ""
             }
            },
            "type": "scatter3d"
           }
          ],
          "scattercarpet": [
           {
            "marker": {
             "colorbar": {
              "outlinewidth": 0,
              "ticks": ""
             }
            },
            "type": "scattercarpet"
           }
          ],
          "scattergeo": [
           {
            "marker": {
             "colorbar": {
              "outlinewidth": 0,
              "ticks": ""
             }
            },
            "type": "scattergeo"
           }
          ],
          "scattergl": [
           {
            "marker": {
             "colorbar": {
              "outlinewidth": 0,
              "ticks": ""
             }
            },
            "type": "scattergl"
           }
          ],
          "scattermapbox": [
           {
            "marker": {
             "colorbar": {
              "outlinewidth": 0,
              "ticks": ""
             }
            },
            "type": "scattermapbox"
           }
          ],
          "scatterpolar": [
           {
            "marker": {
             "colorbar": {
              "outlinewidth": 0,
              "ticks": ""
             }
            },
            "type": "scatterpolar"
           }
          ],
          "scatterpolargl": [
           {
            "marker": {
             "colorbar": {
              "outlinewidth": 0,
              "ticks": ""
             }
            },
            "type": "scatterpolargl"
           }
          ],
          "scatterternary": [
           {
            "marker": {
             "colorbar": {
              "outlinewidth": 0,
              "ticks": ""
             }
            },
            "type": "scatterternary"
           }
          ],
          "surface": [
           {
            "colorbar": {
             "outlinewidth": 0,
             "ticks": ""
            },
            "colorscale": [
             [
              0,
              "#0d0887"
             ],
             [
              0.1111111111111111,
              "#46039f"
             ],
             [
              0.2222222222222222,
              "#7201a8"
             ],
             [
              0.3333333333333333,
              "#9c179e"
             ],
             [
              0.4444444444444444,
              "#bd3786"
             ],
             [
              0.5555555555555556,
              "#d8576b"
             ],
             [
              0.6666666666666666,
              "#ed7953"
             ],
             [
              0.7777777777777778,
              "#fb9f3a"
             ],
             [
              0.8888888888888888,
              "#fdca26"
             ],
             [
              1,
              "#f0f921"
             ]
            ],
            "type": "surface"
           }
          ],
          "table": [
           {
            "cells": {
             "fill": {
              "color": "#EBF0F8"
             },
             "line": {
              "color": "white"
             }
            },
            "header": {
             "fill": {
              "color": "#C8D4E3"
             },
             "line": {
              "color": "white"
             }
            },
            "type": "table"
           }
          ]
         },
         "layout": {
          "annotationdefaults": {
           "arrowcolor": "#2a3f5f",
           "arrowhead": 0,
           "arrowwidth": 1
          },
          "coloraxis": {
           "colorbar": {
            "outlinewidth": 0,
            "ticks": ""
           }
          },
          "colorscale": {
           "diverging": [
            [
             0,
             "#8e0152"
            ],
            [
             0.1,
             "#c51b7d"
            ],
            [
             0.2,
             "#de77ae"
            ],
            [
             0.3,
             "#f1b6da"
            ],
            [
             0.4,
             "#fde0ef"
            ],
            [
             0.5,
             "#f7f7f7"
            ],
            [
             0.6,
             "#e6f5d0"
            ],
            [
             0.7,
             "#b8e186"
            ],
            [
             0.8,
             "#7fbc41"
            ],
            [
             0.9,
             "#4d9221"
            ],
            [
             1,
             "#276419"
            ]
           ],
           "sequential": [
            [
             0,
             "#0d0887"
            ],
            [
             0.1111111111111111,
             "#46039f"
            ],
            [
             0.2222222222222222,
             "#7201a8"
            ],
            [
             0.3333333333333333,
             "#9c179e"
            ],
            [
             0.4444444444444444,
             "#bd3786"
            ],
            [
             0.5555555555555556,
             "#d8576b"
            ],
            [
             0.6666666666666666,
             "#ed7953"
            ],
            [
             0.7777777777777778,
             "#fb9f3a"
            ],
            [
             0.8888888888888888,
             "#fdca26"
            ],
            [
             1,
             "#f0f921"
            ]
           ],
           "sequentialminus": [
            [
             0,
             "#0d0887"
            ],
            [
             0.1111111111111111,
             "#46039f"
            ],
            [
             0.2222222222222222,
             "#7201a8"
            ],
            [
             0.3333333333333333,
             "#9c179e"
            ],
            [
             0.4444444444444444,
             "#bd3786"
            ],
            [
             0.5555555555555556,
             "#d8576b"
            ],
            [
             0.6666666666666666,
             "#ed7953"
            ],
            [
             0.7777777777777778,
             "#fb9f3a"
            ],
            [
             0.8888888888888888,
             "#fdca26"
            ],
            [
             1,
             "#f0f921"
            ]
           ]
          },
          "colorway": [
           "#636efa",
           "#EF553B",
           "#00cc96",
           "#ab63fa",
           "#FFA15A",
           "#19d3f3",
           "#FF6692",
           "#B6E880",
           "#FF97FF",
           "#FECB52"
          ],
          "font": {
           "color": "#2a3f5f"
          },
          "geo": {
           "bgcolor": "white",
           "lakecolor": "white",
           "landcolor": "#E5ECF6",
           "showlakes": true,
           "showland": true,
           "subunitcolor": "white"
          },
          "hoverlabel": {
           "align": "left"
          },
          "hovermode": "closest",
          "mapbox": {
           "style": "light"
          },
          "paper_bgcolor": "white",
          "plot_bgcolor": "#E5ECF6",
          "polar": {
           "angularaxis": {
            "gridcolor": "white",
            "linecolor": "white",
            "ticks": ""
           },
           "bgcolor": "#E5ECF6",
           "radialaxis": {
            "gridcolor": "white",
            "linecolor": "white",
            "ticks": ""
           }
          },
          "scene": {
           "xaxis": {
            "backgroundcolor": "#E5ECF6",
            "gridcolor": "white",
            "gridwidth": 2,
            "linecolor": "white",
            "showbackground": true,
            "ticks": "",
            "zerolinecolor": "white"
           },
           "yaxis": {
            "backgroundcolor": "#E5ECF6",
            "gridcolor": "white",
            "gridwidth": 2,
            "linecolor": "white",
            "showbackground": true,
            "ticks": "",
            "zerolinecolor": "white"
           },
           "zaxis": {
            "backgroundcolor": "#E5ECF6",
            "gridcolor": "white",
            "gridwidth": 2,
            "linecolor": "white",
            "showbackground": true,
            "ticks": "",
            "zerolinecolor": "white"
           }
          },
          "shapedefaults": {
           "line": {
            "color": "#2a3f5f"
           }
          },
          "ternary": {
           "aaxis": {
            "gridcolor": "white",
            "linecolor": "white",
            "ticks": ""
           },
           "baxis": {
            "gridcolor": "white",
            "linecolor": "white",
            "ticks": ""
           },
           "bgcolor": "#E5ECF6",
           "caxis": {
            "gridcolor": "white",
            "linecolor": "white",
            "ticks": ""
           }
          },
          "title": {
           "x": 0.05
          },
          "xaxis": {
           "automargin": true,
           "gridcolor": "white",
           "linecolor": "white",
           "ticks": "",
           "title": {
            "standoff": 15
           },
           "zerolinecolor": "white",
           "zerolinewidth": 2
          },
          "yaxis": {
           "automargin": true,
           "gridcolor": "white",
           "linecolor": "white",
           "ticks": "",
           "title": {
            "standoff": 15
           },
           "zerolinecolor": "white",
           "zerolinewidth": 2
          }
         }
        }
       }
      },
      "text/html": "<div>\n        \n        \n            <div id=\"524d0754-450c-4c8f-98df-7c8f729f1c45\" class=\"plotly-graph-div\" style=\"height:525px; width:100%;\"></div>\n            <script type=\"text/javascript\">\n                require([\"plotly\"], function(Plotly) {\n                    window.PLOTLYENV=window.PLOTLYENV || {};\n                    \n                if (document.getElementById(\"524d0754-450c-4c8f-98df-7c8f729f1c45\")) {\n                    Plotly.newPlot(\n                        '524d0754-450c-4c8f-98df-7c8f729f1c45',\n                        [{\"name\": \"white\", \"type\": \"scatter\", \"x\": [1976, 1977, 1978, 1979, 1980, 1981, 1982, 1983, 1984, 1985, 1986, 1987, 1988, 1989, 1990, 1991, 1992, 1993, 1994, 1995, 1996, 1997, 1998, 1999, 2000, 2001, 2002, 2003, 2004, 2005, 2006, 2007, 2008, 2009, 2010, 2011, 2012, 2013, 2014, 2015, 2016], \"y\": [0.6775375823083613, 0.675531345156305, 0.6766516269758269, 0.7019315575939319, 0.705324590905237, 0.7059355520926089, 0.7016267417118539, 0.6761772020442185, 0.672999354630526, 0.6725387638062872, 0.6662270162975344, 0.6684048444697479, 0.6715645668990302, 0.6739533950385029, 0.6748000948068311, 0.6734388894378026, 0.6748331802877258, 0.6812007358405516, 0.6782502093776931, 0.6860647025806991, 0.6896380352853475, 0.6915905430348347, 0.6973962325505771, 0.7034582396917856, 0.7080676620547274, 0.7147950683105632, 0.7184336472508326, 0.7209340389546619, 0.7250929731845762, 0.7303832902670112, 0.7238534854895927, 0.7207116836492266, 0.7185633779123559, 0.7120685855798189, 0.7101446239881033, 0.7060100097605551, 0.6987129243843075, 0.6944168670999437, 0.6907763227675111, 0.682, 0.682]}, {\"name\": \"black\", \"type\": \"scatter\", \"x\": [1976, 1977, 1978, 1979, 1980, 1981, 1982, 1983, 1984, 1985, 1986, 1987, 1988, 1989, 1990, 1991, 1992, 1993, 1994, 1995, 1996, 1997, 1998, 1999, 2000, 2001, 2002, 2003, 2004, 2005, 2006, 2007, 2008, 2009, 2010, 2011, 2012, 2013, 2014, 2015, 2016], \"y\": [0.4423821605020697, 0.4412294238683128, 0.4454055409301743, 0.4818993305231837, 0.4860237596086653, 0.4781281790437437, 0.4720455306327419, 0.4534544638851503, 0.4551754006063231, 0.4414556962025317, 0.44513626620394, 0.4540415238863133, 0.4244060475161987, 0.4182369093835811, 0.4238985313751669, 0.4241401930465749, 0.42253902373003704, 0.4223413762287757, 0.4246963921638153, 0.4193908193908194, 0.4392329619072299, 0.4550334461970435, 0.4597562930896264, 0.4549646235789808, 0.4712428982800218, 0.4768483376347351, 0.4817123544874202, 0.4769402153731898, 0.4906449482720669, 0.4912738069375046, 0.4727896014855021, 0.4816775811620454, 0.4714452614940554, 0.4641315519013361, 0.4599456890699253, 0.4433016704880445, 0.4328434832830649, 0.4281123991935484, 0.4275398406374502, 0.423, 0.416]}, {\"name\": \"hispanic\", \"type\": \"scatter\", \"x\": [1976, 1977, 1978, 1979, 1980, 1981, 1982, 1983, 1984, 1985, 1986, 1987, 1988, 1989, 1990, 1991, 1992, 1993, 1994, 1995, 1996, 1997, 1998, 1999, 2000, 2001, 2002, 2003, 2004, 2005, 2006, 2007, 2008, 2009, 2010, 2011, 2012, 2013, 2014, 2015, 2016], \"y\": [0.4270691994572592, 0.4225900681596884, 0.4261501210653753, 0.4600425402613187, 0.4758414766558089, 0.4664618535586277, 0.4653266331658292, 0.41223990208078337, 0.4042995839112344, 0.4110178169158305, 0.40571647803568, 0.40568475452196384, 0.40224640224640223, 0.41573604060913705, 0.4117647058823529, 0.38954983922829584, 0.3992788838375921, 0.400543314216722, 0.4156479217603912, 0.4237879767291532, 0.41239450812444894, 0.4307598784194529, 0.4490104772991851, 0.4520971302428256, 0.4553063633437064, 0.4558501096272673, 0.4747118773216497, 0.4749096040215186, 0.47374273007184403, 0.4929380850714403, 0.4874990015176931, 0.4930239728667232, 0.4911912437214184, 0.4780633147113594, 0.4756354338998346, 0.4653494328576656, 0.4611707655005196, 0.4595354441395007, 0.4535890692154724, 0.456, 0.46]}, {\"name\": \"Agg\", \"type\": \"scatter\", \"x\": [1976, 1977, 1978, 1979, 1980, 1981, 1982, 1983, 1984, 1985, 1986, 1987, 1988, 1989, 1990, 1991, 1992, 1993, 1994, 1995, 1996, 1997, 1998, 1999, 2000, 2001, 2002, 2003, 2004, 2005, 2006, 2007, 2008, 2009, 2010, 2011, 2012, 2013, 2014, 2015, 2016], \"y\": [0.5156629807558967, 0.5131169457281021, 0.5160690963237922, 0.547957809459478, 0.5557299423899038, 0.5501751948983268, 0.546332968503475, 0.5139571893367174, 0.5108247797160278, 0.5083374256415498, 0.5056932535123848, 0.5093770409593418, 0.4994056722205437, 0.502642115010407, 0.5034877773547836, 0.4957096405708912, 0.4988836959517849, 0.5013618087620165, 0.5061981744339665, 0.509747832900224, 0.5137551684390088, 0.5257946225504436, 0.535387667646463, 0.536839997837864, 0.5448723078928185, 0.5491645051908552, 0.5582859596866342, 0.5575946194497902, 0.5631602171761624, 0.5715317274253188, 0.5613806961642626, 0.5651377458926651, 0.5603999610426099, 0.5514211507308381, 0.5485752489859543, 0.5382203710354218, 0.5309090577226306, 0.5273549034776642, 0.5239684108734779, 0.5203333333333333, 0.5193333333333333]}],\n                        {\"template\": {\"data\": {\"bar\": [{\"error_x\": {\"color\": \"#2a3f5f\"}, \"error_y\": {\"color\": \"#2a3f5f\"}, \"marker\": {\"line\": {\"color\": \"#E5ECF6\", \"width\": 0.5}}, \"type\": \"bar\"}], \"barpolar\": [{\"marker\": {\"line\": {\"color\": \"#E5ECF6\", \"width\": 0.5}}, \"type\": \"barpolar\"}], \"carpet\": [{\"aaxis\": {\"endlinecolor\": \"#2a3f5f\", \"gridcolor\": \"white\", \"linecolor\": \"white\", \"minorgridcolor\": \"white\", \"startlinecolor\": \"#2a3f5f\"}, \"baxis\": {\"endlinecolor\": \"#2a3f5f\", \"gridcolor\": \"white\", \"linecolor\": \"white\", \"minorgridcolor\": \"white\", \"startlinecolor\": \"#2a3f5f\"}, \"type\": \"carpet\"}], \"choropleth\": [{\"colorbar\": {\"outlinewidth\": 0, \"ticks\": \"\"}, \"type\": \"choropleth\"}], \"contour\": [{\"colorbar\": {\"outlinewidth\": 0, \"ticks\": \"\"}, \"colorscale\": [[0.0, \"#0d0887\"], [0.1111111111111111, \"#46039f\"], [0.2222222222222222, \"#7201a8\"], [0.3333333333333333, \"#9c179e\"], [0.4444444444444444, \"#bd3786\"], [0.5555555555555556, \"#d8576b\"], [0.6666666666666666, \"#ed7953\"], [0.7777777777777778, \"#fb9f3a\"], [0.8888888888888888, \"#fdca26\"], [1.0, \"#f0f921\"]], \"type\": \"contour\"}], \"contourcarpet\": [{\"colorbar\": {\"outlinewidth\": 0, \"ticks\": \"\"}, \"type\": \"contourcarpet\"}], \"heatmap\": [{\"colorbar\": {\"outlinewidth\": 0, \"ticks\": \"\"}, \"colorscale\": [[0.0, \"#0d0887\"], [0.1111111111111111, \"#46039f\"], [0.2222222222222222, \"#7201a8\"], [0.3333333333333333, \"#9c179e\"], [0.4444444444444444, \"#bd3786\"], [0.5555555555555556, \"#d8576b\"], [0.6666666666666666, \"#ed7953\"], [0.7777777777777778, \"#fb9f3a\"], [0.8888888888888888, \"#fdca26\"], [1.0, \"#f0f921\"]], \"type\": \"heatmap\"}], \"heatmapgl\": [{\"colorbar\": {\"outlinewidth\": 0, \"ticks\": \"\"}, \"colorscale\": [[0.0, \"#0d0887\"], [0.1111111111111111, \"#46039f\"], [0.2222222222222222, \"#7201a8\"], [0.3333333333333333, \"#9c179e\"], [0.4444444444444444, \"#bd3786\"], [0.5555555555555556, \"#d8576b\"], [0.6666666666666666, \"#ed7953\"], [0.7777777777777778, \"#fb9f3a\"], [0.8888888888888888, \"#fdca26\"], [1.0, \"#f0f921\"]], \"type\": \"heatmapgl\"}], \"histogram\": [{\"marker\": {\"colorbar\": {\"outlinewidth\": 0, \"ticks\": \"\"}}, \"type\": \"histogram\"}], \"histogram2d\": [{\"colorbar\": {\"outlinewidth\": 0, \"ticks\": \"\"}, \"colorscale\": [[0.0, \"#0d0887\"], [0.1111111111111111, \"#46039f\"], [0.2222222222222222, \"#7201a8\"], [0.3333333333333333, \"#9c179e\"], [0.4444444444444444, \"#bd3786\"], [0.5555555555555556, \"#d8576b\"], [0.6666666666666666, \"#ed7953\"], [0.7777777777777778, \"#fb9f3a\"], [0.8888888888888888, \"#fdca26\"], [1.0, \"#f0f921\"]], \"type\": \"histogram2d\"}], \"histogram2dcontour\": [{\"colorbar\": {\"outlinewidth\": 0, \"ticks\": \"\"}, \"colorscale\": [[0.0, \"#0d0887\"], [0.1111111111111111, \"#46039f\"], [0.2222222222222222, \"#7201a8\"], [0.3333333333333333, \"#9c179e\"], [0.4444444444444444, \"#bd3786\"], [0.5555555555555556, \"#d8576b\"], [0.6666666666666666, \"#ed7953\"], [0.7777777777777778, \"#fb9f3a\"], [0.8888888888888888, \"#fdca26\"], [1.0, \"#f0f921\"]], \"type\": \"histogram2dcontour\"}], \"mesh3d\": [{\"colorbar\": {\"outlinewidth\": 0, \"ticks\": \"\"}, \"type\": \"mesh3d\"}], \"parcoords\": [{\"line\": {\"colorbar\": {\"outlinewidth\": 0, \"ticks\": \"\"}}, \"type\": \"parcoords\"}], \"pie\": [{\"automargin\": true, \"type\": \"pie\"}], \"scatter\": [{\"marker\": {\"colorbar\": {\"outlinewidth\": 0, \"ticks\": \"\"}}, \"type\": \"scatter\"}], \"scatter3d\": [{\"line\": {\"colorbar\": {\"outlinewidth\": 0, \"ticks\": \"\"}}, \"marker\": {\"colorbar\": {\"outlinewidth\": 0, \"ticks\": \"\"}}, \"type\": \"scatter3d\"}], \"scattercarpet\": [{\"marker\": {\"colorbar\": {\"outlinewidth\": 0, \"ticks\": \"\"}}, \"type\": \"scattercarpet\"}], \"scattergeo\": [{\"marker\": {\"colorbar\": {\"outlinewidth\": 0, \"ticks\": \"\"}}, \"type\": \"scattergeo\"}], \"scattergl\": [{\"marker\": {\"colorbar\": {\"outlinewidth\": 0, \"ticks\": \"\"}}, \"type\": \"scattergl\"}], \"scattermapbox\": [{\"marker\": {\"colorbar\": {\"outlinewidth\": 0, \"ticks\": \"\"}}, \"type\": \"scattermapbox\"}], \"scatterpolar\": [{\"marker\": {\"colorbar\": {\"outlinewidth\": 0, \"ticks\": \"\"}}, \"type\": \"scatterpolar\"}], \"scatterpolargl\": [{\"marker\": {\"colorbar\": {\"outlinewidth\": 0, \"ticks\": \"\"}}, \"type\": \"scatterpolargl\"}], \"scatterternary\": [{\"marker\": {\"colorbar\": {\"outlinewidth\": 0, \"ticks\": \"\"}}, \"type\": \"scatterternary\"}], \"surface\": [{\"colorbar\": {\"outlinewidth\": 0, \"ticks\": \"\"}, \"colorscale\": [[0.0, \"#0d0887\"], [0.1111111111111111, \"#46039f\"], [0.2222222222222222, \"#7201a8\"], [0.3333333333333333, \"#9c179e\"], [0.4444444444444444, \"#bd3786\"], [0.5555555555555556, \"#d8576b\"], [0.6666666666666666, \"#ed7953\"], [0.7777777777777778, \"#fb9f3a\"], [0.8888888888888888, \"#fdca26\"], [1.0, \"#f0f921\"]], \"type\": \"surface\"}], \"table\": [{\"cells\": {\"fill\": {\"color\": \"#EBF0F8\"}, \"line\": {\"color\": \"white\"}}, \"header\": {\"fill\": {\"color\": \"#C8D4E3\"}, \"line\": {\"color\": \"white\"}}, \"type\": \"table\"}]}, \"layout\": {\"annotationdefaults\": {\"arrowcolor\": \"#2a3f5f\", \"arrowhead\": 0, \"arrowwidth\": 1}, \"coloraxis\": {\"colorbar\": {\"outlinewidth\": 0, \"ticks\": \"\"}}, \"colorscale\": {\"diverging\": [[0, \"#8e0152\"], [0.1, \"#c51b7d\"], [0.2, \"#de77ae\"], [0.3, \"#f1b6da\"], [0.4, \"#fde0ef\"], [0.5, \"#f7f7f7\"], [0.6, \"#e6f5d0\"], [0.7, \"#b8e186\"], [0.8, \"#7fbc41\"], [0.9, \"#4d9221\"], [1, \"#276419\"]], \"sequential\": [[0.0, \"#0d0887\"], [0.1111111111111111, \"#46039f\"], [0.2222222222222222, \"#7201a8\"], [0.3333333333333333, \"#9c179e\"], [0.4444444444444444, \"#bd3786\"], [0.5555555555555556, \"#d8576b\"], [0.6666666666666666, \"#ed7953\"], [0.7777777777777778, \"#fb9f3a\"], [0.8888888888888888, \"#fdca26\"], [1.0, \"#f0f921\"]], \"sequentialminus\": [[0.0, \"#0d0887\"], [0.1111111111111111, \"#46039f\"], [0.2222222222222222, \"#7201a8\"], [0.3333333333333333, \"#9c179e\"], [0.4444444444444444, \"#bd3786\"], [0.5555555555555556, \"#d8576b\"], [0.6666666666666666, \"#ed7953\"], [0.7777777777777778, \"#fb9f3a\"], [0.8888888888888888, \"#fdca26\"], [1.0, \"#f0f921\"]]}, \"colorway\": [\"#636efa\", \"#EF553B\", \"#00cc96\", \"#ab63fa\", \"#FFA15A\", \"#19d3f3\", \"#FF6692\", \"#B6E880\", \"#FF97FF\", \"#FECB52\"], \"font\": {\"color\": \"#2a3f5f\"}, \"geo\": {\"bgcolor\": \"white\", \"lakecolor\": \"white\", \"landcolor\": \"#E5ECF6\", \"showlakes\": true, \"showland\": true, \"subunitcolor\": \"white\"}, \"hoverlabel\": {\"align\": \"left\"}, \"hovermode\": \"closest\", \"mapbox\": {\"style\": \"light\"}, \"paper_bgcolor\": \"white\", \"plot_bgcolor\": \"#E5ECF6\", \"polar\": {\"angularaxis\": {\"gridcolor\": \"white\", \"linecolor\": \"white\", \"ticks\": \"\"}, \"bgcolor\": \"#E5ECF6\", \"radialaxis\": {\"gridcolor\": \"white\", \"linecolor\": \"white\", \"ticks\": \"\"}}, \"scene\": {\"xaxis\": {\"backgroundcolor\": \"#E5ECF6\", \"gridcolor\": \"white\", \"gridwidth\": 2, \"linecolor\": \"white\", \"showbackground\": true, \"ticks\": \"\", \"zerolinecolor\": \"white\"}, \"yaxis\": {\"backgroundcolor\": \"#E5ECF6\", \"gridcolor\": \"white\", \"gridwidth\": 2, \"linecolor\": \"white\", \"showbackground\": true, \"ticks\": \"\", \"zerolinecolor\": \"white\"}, \"zaxis\": {\"backgroundcolor\": \"#E5ECF6\", \"gridcolor\": \"white\", \"gridwidth\": 2, \"linecolor\": \"white\", \"showbackground\": true, \"ticks\": \"\", \"zerolinecolor\": \"white\"}}, \"shapedefaults\": {\"line\": {\"color\": \"#2a3f5f\"}}, \"ternary\": {\"aaxis\": {\"gridcolor\": \"white\", \"linecolor\": \"white\", \"ticks\": \"\"}, \"baxis\": {\"gridcolor\": \"white\", \"linecolor\": \"white\", \"ticks\": \"\"}, \"bgcolor\": \"#E5ECF6\", \"caxis\": {\"gridcolor\": \"white\", \"linecolor\": \"white\", \"ticks\": \"\"}}, \"title\": {\"x\": 0.05}, \"xaxis\": {\"automargin\": true, \"gridcolor\": \"white\", \"linecolor\": \"white\", \"ticks\": \"\", \"title\": {\"standoff\": 15}, \"zerolinecolor\": \"white\", \"zerolinewidth\": 2}, \"yaxis\": {\"automargin\": true, \"gridcolor\": \"white\", \"linecolor\": \"white\", \"ticks\": \"\", \"title\": {\"standoff\": 15}, \"zerolinecolor\": \"white\", \"zerolinewidth\": 2}}}},\n                        {\"responsive\": true}\n                    ).then(function(){\n                            \nvar gd = document.getElementById('524d0754-450c-4c8f-98df-7c8f729f1c45');\nvar x = new MutationObserver(function (mutations, observer) {{\n        var display = window.getComputedStyle(gd).display;\n        if (!display || display === 'none') {{\n            console.log([gd, 'removed!']);\n            Plotly.purge(gd);\n            observer.disconnect();\n        }}\n}});\n\n// Listen for the removal of the full notebook cells\nvar notebookContainer = gd.closest('#notebook-container');\nif (notebookContainer) {{\n    x.observe(notebookContainer, {childList: true});\n}}\n\n// Listen for the clearing of the current output cell\nvar outputEl = gd.closest('.output');\nif (outputEl) {{\n    x.observe(outputEl, {childList: true});\n}}\n\n                        })\n                };\n                });\n            </script>\n        </div>"
     },
     "metadata": {}
    }
   ],
   "source": [
    "\n",
    "fig = go.Figure()\n",
    "fig.add_trace(go.Scatter(x=home_white['year'], y = home_white['home_owner_pct'], name = \"white\"))\n",
    "fig.add_trace(go.Scatter(x=home_black['year'], y = home_black['home_owner_pct'], name = \"black\"))\n",
    "fig.add_trace(go.Scatter(x=home_hispanic['year'], y = home_hispanic['home_owner_pct'], name = \"hispanic\"))\n",
    "fig.add_trace(go.Scatter(x=home_owner_agg['year'], y = home_owner_agg['home_owner_pct'], name = \"Agg\"))\n",
    "\n",
    "fig.show()"
   ]
  },
  {
   "source": [
    "Diff in homeownership between white and poc"
   ],
   "cell_type": "markdown",
   "metadata": {}
  },
  {
   "cell_type": "code",
   "execution_count": 53,
   "metadata": {},
   "outputs": [
    {
     "output_type": "display_data",
     "data": {
      "application/vnd.plotly.v1+json": {
       "config": {
        "plotlyServerURL": "https://plot.ly"
       },
       "data": [
        {
         "name": "Diff",
         "type": "scatter",
         "x": [
          1976,
          1977,
          1978,
          1979,
          1980,
          1981,
          1982,
          1983,
          1984,
          1985,
          1986,
          1987,
          1988,
          1989,
          1990,
          1991,
          1992,
          1993,
          1994,
          1995,
          1996,
          1997,
          1998,
          1999,
          2000,
          2001,
          2002,
          2003,
          2004,
          2005,
          2006,
          2007,
          2008,
          2009,
          2010,
          2011,
          2012,
          2013,
          2014,
          2015,
          2016
         ],
         "y": [
          0.24281190232869682,
          0.24362159914230436,
          0.24087379597805214,
          0.23096062220168068,
          0.22439197277299994,
          0.23364053579142324,
          0.2329406598125684,
          0.24333001906125162,
          0.24326186237174718,
          0.24630200724710605,
          0.24080064417772445,
          0.23854170526560936,
          0.25823834201772977,
          0.25696692004214383,
          0.25696847617807117,
          0.2665938733003672,
          0.26392422650391123,
          0.26975839061780277,
          0.25807805241558984,
          0.2644753045207128,
          0.2638243002695081,
          0.2486938807265865,
          0.2430128473561714,
          0.24992736278088235,
          0.24479303124286328,
          0.248445844679562,
          0.24022153134629765,
          0.24500912925730767,
          0.24289913401262075,
          0.23827734426253877,
          0.24370918398799513,
          0.2333609066348422,
          0.237245125304619,
          0.24097115227347116,
          0.24235406250322333,
          0.2516844580877,
          0.2517057999925153,
          0.25059294543341915,
          0.2502118678410498,
          0.24250000000000005,
          0.24400000000000005
         ]
        }
       ],
       "layout": {
        "template": {
         "data": {
          "bar": [
           {
            "error_x": {
             "color": "#2a3f5f"
            },
            "error_y": {
             "color": "#2a3f5f"
            },
            "marker": {
             "line": {
              "color": "#E5ECF6",
              "width": 0.5
             }
            },
            "type": "bar"
           }
          ],
          "barpolar": [
           {
            "marker": {
             "line": {
              "color": "#E5ECF6",
              "width": 0.5
             }
            },
            "type": "barpolar"
           }
          ],
          "carpet": [
           {
            "aaxis": {
             "endlinecolor": "#2a3f5f",
             "gridcolor": "white",
             "linecolor": "white",
             "minorgridcolor": "white",
             "startlinecolor": "#2a3f5f"
            },
            "baxis": {
             "endlinecolor": "#2a3f5f",
             "gridcolor": "white",
             "linecolor": "white",
             "minorgridcolor": "white",
             "startlinecolor": "#2a3f5f"
            },
            "type": "carpet"
           }
          ],
          "choropleth": [
           {
            "colorbar": {
             "outlinewidth": 0,
             "ticks": ""
            },
            "type": "choropleth"
           }
          ],
          "contour": [
           {
            "colorbar": {
             "outlinewidth": 0,
             "ticks": ""
            },
            "colorscale": [
             [
              0,
              "#0d0887"
             ],
             [
              0.1111111111111111,
              "#46039f"
             ],
             [
              0.2222222222222222,
              "#7201a8"
             ],
             [
              0.3333333333333333,
              "#9c179e"
             ],
             [
              0.4444444444444444,
              "#bd3786"
             ],
             [
              0.5555555555555556,
              "#d8576b"
             ],
             [
              0.6666666666666666,
              "#ed7953"
             ],
             [
              0.7777777777777778,
              "#fb9f3a"
             ],
             [
              0.8888888888888888,
              "#fdca26"
             ],
             [
              1,
              "#f0f921"
             ]
            ],
            "type": "contour"
           }
          ],
          "contourcarpet": [
           {
            "colorbar": {
             "outlinewidth": 0,
             "ticks": ""
            },
            "type": "contourcarpet"
           }
          ],
          "heatmap": [
           {
            "colorbar": {
             "outlinewidth": 0,
             "ticks": ""
            },
            "colorscale": [
             [
              0,
              "#0d0887"
             ],
             [
              0.1111111111111111,
              "#46039f"
             ],
             [
              0.2222222222222222,
              "#7201a8"
             ],
             [
              0.3333333333333333,
              "#9c179e"
             ],
             [
              0.4444444444444444,
              "#bd3786"
             ],
             [
              0.5555555555555556,
              "#d8576b"
             ],
             [
              0.6666666666666666,
              "#ed7953"
             ],
             [
              0.7777777777777778,
              "#fb9f3a"
             ],
             [
              0.8888888888888888,
              "#fdca26"
             ],
             [
              1,
              "#f0f921"
             ]
            ],
            "type": "heatmap"
           }
          ],
          "heatmapgl": [
           {
            "colorbar": {
             "outlinewidth": 0,
             "ticks": ""
            },
            "colorscale": [
             [
              0,
              "#0d0887"
             ],
             [
              0.1111111111111111,
              "#46039f"
             ],
             [
              0.2222222222222222,
              "#7201a8"
             ],
             [
              0.3333333333333333,
              "#9c179e"
             ],
             [
              0.4444444444444444,
              "#bd3786"
             ],
             [
              0.5555555555555556,
              "#d8576b"
             ],
             [
              0.6666666666666666,
              "#ed7953"
             ],
             [
              0.7777777777777778,
              "#fb9f3a"
             ],
             [
              0.8888888888888888,
              "#fdca26"
             ],
             [
              1,
              "#f0f921"
             ]
            ],
            "type": "heatmapgl"
           }
          ],
          "histogram": [
           {
            "marker": {
             "colorbar": {
              "outlinewidth": 0,
              "ticks": ""
             }
            },
            "type": "histogram"
           }
          ],
          "histogram2d": [
           {
            "colorbar": {
             "outlinewidth": 0,
             "ticks": ""
            },
            "colorscale": [
             [
              0,
              "#0d0887"
             ],
             [
              0.1111111111111111,
              "#46039f"
             ],
             [
              0.2222222222222222,
              "#7201a8"
             ],
             [
              0.3333333333333333,
              "#9c179e"
             ],
             [
              0.4444444444444444,
              "#bd3786"
             ],
             [
              0.5555555555555556,
              "#d8576b"
             ],
             [
              0.6666666666666666,
              "#ed7953"
             ],
             [
              0.7777777777777778,
              "#fb9f3a"
             ],
             [
              0.8888888888888888,
              "#fdca26"
             ],
             [
              1,
              "#f0f921"
             ]
            ],
            "type": "histogram2d"
           }
          ],
          "histogram2dcontour": [
           {
            "colorbar": {
             "outlinewidth": 0,
             "ticks": ""
            },
            "colorscale": [
             [
              0,
              "#0d0887"
             ],
             [
              0.1111111111111111,
              "#46039f"
             ],
             [
              0.2222222222222222,
              "#7201a8"
             ],
             [
              0.3333333333333333,
              "#9c179e"
             ],
             [
              0.4444444444444444,
              "#bd3786"
             ],
             [
              0.5555555555555556,
              "#d8576b"
             ],
             [
              0.6666666666666666,
              "#ed7953"
             ],
             [
              0.7777777777777778,
              "#fb9f3a"
             ],
             [
              0.8888888888888888,
              "#fdca26"
             ],
             [
              1,
              "#f0f921"
             ]
            ],
            "type": "histogram2dcontour"
           }
          ],
          "mesh3d": [
           {
            "colorbar": {
             "outlinewidth": 0,
             "ticks": ""
            },
            "type": "mesh3d"
           }
          ],
          "parcoords": [
           {
            "line": {
             "colorbar": {
              "outlinewidth": 0,
              "ticks": ""
             }
            },
            "type": "parcoords"
           }
          ],
          "pie": [
           {
            "automargin": true,
            "type": "pie"
           }
          ],
          "scatter": [
           {
            "marker": {
             "colorbar": {
              "outlinewidth": 0,
              "ticks": ""
             }
            },
            "type": "scatter"
           }
          ],
          "scatter3d": [
           {
            "line": {
             "colorbar": {
              "outlinewidth": 0,
              "ticks": ""
             }
            },
            "marker": {
             "colorbar": {
              "outlinewidth": 0,
              "ticks": ""
             }
            },
            "type": "scatter3d"
           }
          ],
          "scattercarpet": [
           {
            "marker": {
             "colorbar": {
              "outlinewidth": 0,
              "ticks": ""
             }
            },
            "type": "scattercarpet"
           }
          ],
          "scattergeo": [
           {
            "marker": {
             "colorbar": {
              "outlinewidth": 0,
              "ticks": ""
             }
            },
            "type": "scattergeo"
           }
          ],
          "scattergl": [
           {
            "marker": {
             "colorbar": {
              "outlinewidth": 0,
              "ticks": ""
             }
            },
            "type": "scattergl"
           }
          ],
          "scattermapbox": [
           {
            "marker": {
             "colorbar": {
              "outlinewidth": 0,
              "ticks": ""
             }
            },
            "type": "scattermapbox"
           }
          ],
          "scatterpolar": [
           {
            "marker": {
             "colorbar": {
              "outlinewidth": 0,
              "ticks": ""
             }
            },
            "type": "scatterpolar"
           }
          ],
          "scatterpolargl": [
           {
            "marker": {
             "colorbar": {
              "outlinewidth": 0,
              "ticks": ""
             }
            },
            "type": "scatterpolargl"
           }
          ],
          "scatterternary": [
           {
            "marker": {
             "colorbar": {
              "outlinewidth": 0,
              "ticks": ""
             }
            },
            "type": "scatterternary"
           }
          ],
          "surface": [
           {
            "colorbar": {
             "outlinewidth": 0,
             "ticks": ""
            },
            "colorscale": [
             [
              0,
              "#0d0887"
             ],
             [
              0.1111111111111111,
              "#46039f"
             ],
             [
              0.2222222222222222,
              "#7201a8"
             ],
             [
              0.3333333333333333,
              "#9c179e"
             ],
             [
              0.4444444444444444,
              "#bd3786"
             ],
             [
              0.5555555555555556,
              "#d8576b"
             ],
             [
              0.6666666666666666,
              "#ed7953"
             ],
             [
              0.7777777777777778,
              "#fb9f3a"
             ],
             [
              0.8888888888888888,
              "#fdca26"
             ],
             [
              1,
              "#f0f921"
             ]
            ],
            "type": "surface"
           }
          ],
          "table": [
           {
            "cells": {
             "fill": {
              "color": "#EBF0F8"
             },
             "line": {
              "color": "white"
             }
            },
            "header": {
             "fill": {
              "color": "#C8D4E3"
             },
             "line": {
              "color": "white"
             }
            },
            "type": "table"
           }
          ]
         },
         "layout": {
          "annotationdefaults": {
           "arrowcolor": "#2a3f5f",
           "arrowhead": 0,
           "arrowwidth": 1
          },
          "coloraxis": {
           "colorbar": {
            "outlinewidth": 0,
            "ticks": ""
           }
          },
          "colorscale": {
           "diverging": [
            [
             0,
             "#8e0152"
            ],
            [
             0.1,
             "#c51b7d"
            ],
            [
             0.2,
             "#de77ae"
            ],
            [
             0.3,
             "#f1b6da"
            ],
            [
             0.4,
             "#fde0ef"
            ],
            [
             0.5,
             "#f7f7f7"
            ],
            [
             0.6,
             "#e6f5d0"
            ],
            [
             0.7,
             "#b8e186"
            ],
            [
             0.8,
             "#7fbc41"
            ],
            [
             0.9,
             "#4d9221"
            ],
            [
             1,
             "#276419"
            ]
           ],
           "sequential": [
            [
             0,
             "#0d0887"
            ],
            [
             0.1111111111111111,
             "#46039f"
            ],
            [
             0.2222222222222222,
             "#7201a8"
            ],
            [
             0.3333333333333333,
             "#9c179e"
            ],
            [
             0.4444444444444444,
             "#bd3786"
            ],
            [
             0.5555555555555556,
             "#d8576b"
            ],
            [
             0.6666666666666666,
             "#ed7953"
            ],
            [
             0.7777777777777778,
             "#fb9f3a"
            ],
            [
             0.8888888888888888,
             "#fdca26"
            ],
            [
             1,
             "#f0f921"
            ]
           ],
           "sequentialminus": [
            [
             0,
             "#0d0887"
            ],
            [
             0.1111111111111111,
             "#46039f"
            ],
            [
             0.2222222222222222,
             "#7201a8"
            ],
            [
             0.3333333333333333,
             "#9c179e"
            ],
            [
             0.4444444444444444,
             "#bd3786"
            ],
            [
             0.5555555555555556,
             "#d8576b"
            ],
            [
             0.6666666666666666,
             "#ed7953"
            ],
            [
             0.7777777777777778,
             "#fb9f3a"
            ],
            [
             0.8888888888888888,
             "#fdca26"
            ],
            [
             1,
             "#f0f921"
            ]
           ]
          },
          "colorway": [
           "#636efa",
           "#EF553B",
           "#00cc96",
           "#ab63fa",
           "#FFA15A",
           "#19d3f3",
           "#FF6692",
           "#B6E880",
           "#FF97FF",
           "#FECB52"
          ],
          "font": {
           "color": "#2a3f5f"
          },
          "geo": {
           "bgcolor": "white",
           "lakecolor": "white",
           "landcolor": "#E5ECF6",
           "showlakes": true,
           "showland": true,
           "subunitcolor": "white"
          },
          "hoverlabel": {
           "align": "left"
          },
          "hovermode": "closest",
          "mapbox": {
           "style": "light"
          },
          "paper_bgcolor": "white",
          "plot_bgcolor": "#E5ECF6",
          "polar": {
           "angularaxis": {
            "gridcolor": "white",
            "linecolor": "white",
            "ticks": ""
           },
           "bgcolor": "#E5ECF6",
           "radialaxis": {
            "gridcolor": "white",
            "linecolor": "white",
            "ticks": ""
           }
          },
          "scene": {
           "xaxis": {
            "backgroundcolor": "#E5ECF6",
            "gridcolor": "white",
            "gridwidth": 2,
            "linecolor": "white",
            "showbackground": true,
            "ticks": "",
            "zerolinecolor": "white"
           },
           "yaxis": {
            "backgroundcolor": "#E5ECF6",
            "gridcolor": "white",
            "gridwidth": 2,
            "linecolor": "white",
            "showbackground": true,
            "ticks": "",
            "zerolinecolor": "white"
           },
           "zaxis": {
            "backgroundcolor": "#E5ECF6",
            "gridcolor": "white",
            "gridwidth": 2,
            "linecolor": "white",
            "showbackground": true,
            "ticks": "",
            "zerolinecolor": "white"
           }
          },
          "shapedefaults": {
           "line": {
            "color": "#2a3f5f"
           }
          },
          "ternary": {
           "aaxis": {
            "gridcolor": "white",
            "linecolor": "white",
            "ticks": ""
           },
           "baxis": {
            "gridcolor": "white",
            "linecolor": "white",
            "ticks": ""
           },
           "bgcolor": "#E5ECF6",
           "caxis": {
            "gridcolor": "white",
            "linecolor": "white",
            "ticks": ""
           }
          },
          "title": {
           "x": 0.05
          },
          "xaxis": {
           "automargin": true,
           "gridcolor": "white",
           "linecolor": "white",
           "ticks": "",
           "title": {
            "standoff": 15
           },
           "zerolinecolor": "white",
           "zerolinewidth": 2
          },
          "yaxis": {
           "automargin": true,
           "gridcolor": "white",
           "linecolor": "white",
           "ticks": "",
           "title": {
            "standoff": 15
           },
           "zerolinecolor": "white",
           "zerolinewidth": 2
          }
         }
        }
       }
      },
      "text/html": "<div>\n        \n        \n            <div id=\"86deb06b-1015-4c12-aae7-cf6aa7119c98\" class=\"plotly-graph-div\" style=\"height:525px; width:100%;\"></div>\n            <script type=\"text/javascript\">\n                require([\"plotly\"], function(Plotly) {\n                    window.PLOTLYENV=window.PLOTLYENV || {};\n                    \n                if (document.getElementById(\"86deb06b-1015-4c12-aae7-cf6aa7119c98\")) {\n                    Plotly.newPlot(\n                        '86deb06b-1015-4c12-aae7-cf6aa7119c98',\n                        [{\"name\": \"Diff\", \"type\": \"scatter\", \"x\": [1976, 1977, 1978, 1979, 1980, 1981, 1982, 1983, 1984, 1985, 1986, 1987, 1988, 1989, 1990, 1991, 1992, 1993, 1994, 1995, 1996, 1997, 1998, 1999, 2000, 2001, 2002, 2003, 2004, 2005, 2006, 2007, 2008, 2009, 2010, 2011, 2012, 2013, 2014, 2015, 2016], \"y\": [0.24281190232869682, 0.24362159914230436, 0.24087379597805214, 0.23096062220168068, 0.22439197277299994, 0.23364053579142324, 0.2329406598125684, 0.24333001906125162, 0.24326186237174718, 0.24630200724710605, 0.24080064417772445, 0.23854170526560936, 0.25823834201772977, 0.25696692004214383, 0.25696847617807117, 0.2665938733003672, 0.26392422650391123, 0.26975839061780277, 0.25807805241558984, 0.2644753045207128, 0.2638243002695081, 0.2486938807265865, 0.2430128473561714, 0.24992736278088235, 0.24479303124286328, 0.248445844679562, 0.24022153134629765, 0.24500912925730767, 0.24289913401262075, 0.23827734426253877, 0.24370918398799513, 0.2333609066348422, 0.237245125304619, 0.24097115227347116, 0.24235406250322333, 0.2516844580877, 0.2517057999925153, 0.25059294543341915, 0.2502118678410498, 0.24250000000000005, 0.24400000000000005]}],\n                        {\"template\": {\"data\": {\"bar\": [{\"error_x\": {\"color\": \"#2a3f5f\"}, \"error_y\": {\"color\": \"#2a3f5f\"}, \"marker\": {\"line\": {\"color\": \"#E5ECF6\", \"width\": 0.5}}, \"type\": \"bar\"}], \"barpolar\": [{\"marker\": {\"line\": {\"color\": \"#E5ECF6\", \"width\": 0.5}}, \"type\": \"barpolar\"}], \"carpet\": [{\"aaxis\": {\"endlinecolor\": \"#2a3f5f\", \"gridcolor\": \"white\", \"linecolor\": \"white\", \"minorgridcolor\": \"white\", \"startlinecolor\": \"#2a3f5f\"}, \"baxis\": {\"endlinecolor\": \"#2a3f5f\", \"gridcolor\": \"white\", \"linecolor\": \"white\", \"minorgridcolor\": \"white\", \"startlinecolor\": \"#2a3f5f\"}, \"type\": \"carpet\"}], \"choropleth\": [{\"colorbar\": {\"outlinewidth\": 0, \"ticks\": \"\"}, \"type\": \"choropleth\"}], \"contour\": [{\"colorbar\": {\"outlinewidth\": 0, \"ticks\": \"\"}, \"colorscale\": [[0.0, \"#0d0887\"], [0.1111111111111111, \"#46039f\"], [0.2222222222222222, \"#7201a8\"], [0.3333333333333333, \"#9c179e\"], [0.4444444444444444, \"#bd3786\"], [0.5555555555555556, \"#d8576b\"], [0.6666666666666666, \"#ed7953\"], [0.7777777777777778, \"#fb9f3a\"], [0.8888888888888888, \"#fdca26\"], [1.0, \"#f0f921\"]], \"type\": \"contour\"}], \"contourcarpet\": [{\"colorbar\": {\"outlinewidth\": 0, \"ticks\": \"\"}, \"type\": \"contourcarpet\"}], \"heatmap\": [{\"colorbar\": {\"outlinewidth\": 0, \"ticks\": \"\"}, \"colorscale\": [[0.0, \"#0d0887\"], [0.1111111111111111, \"#46039f\"], [0.2222222222222222, \"#7201a8\"], [0.3333333333333333, \"#9c179e\"], [0.4444444444444444, \"#bd3786\"], [0.5555555555555556, \"#d8576b\"], [0.6666666666666666, \"#ed7953\"], [0.7777777777777778, \"#fb9f3a\"], [0.8888888888888888, \"#fdca26\"], [1.0, \"#f0f921\"]], \"type\": \"heatmap\"}], \"heatmapgl\": [{\"colorbar\": {\"outlinewidth\": 0, \"ticks\": \"\"}, \"colorscale\": [[0.0, \"#0d0887\"], [0.1111111111111111, \"#46039f\"], [0.2222222222222222, \"#7201a8\"], [0.3333333333333333, \"#9c179e\"], [0.4444444444444444, \"#bd3786\"], [0.5555555555555556, \"#d8576b\"], [0.6666666666666666, \"#ed7953\"], [0.7777777777777778, \"#fb9f3a\"], [0.8888888888888888, \"#fdca26\"], [1.0, \"#f0f921\"]], \"type\": \"heatmapgl\"}], \"histogram\": [{\"marker\": {\"colorbar\": {\"outlinewidth\": 0, \"ticks\": \"\"}}, \"type\": \"histogram\"}], \"histogram2d\": [{\"colorbar\": {\"outlinewidth\": 0, \"ticks\": \"\"}, \"colorscale\": [[0.0, \"#0d0887\"], [0.1111111111111111, \"#46039f\"], [0.2222222222222222, \"#7201a8\"], [0.3333333333333333, \"#9c179e\"], [0.4444444444444444, \"#bd3786\"], [0.5555555555555556, \"#d8576b\"], [0.6666666666666666, \"#ed7953\"], [0.7777777777777778, \"#fb9f3a\"], [0.8888888888888888, \"#fdca26\"], [1.0, \"#f0f921\"]], \"type\": \"histogram2d\"}], \"histogram2dcontour\": [{\"colorbar\": {\"outlinewidth\": 0, \"ticks\": \"\"}, \"colorscale\": [[0.0, \"#0d0887\"], [0.1111111111111111, \"#46039f\"], [0.2222222222222222, \"#7201a8\"], [0.3333333333333333, \"#9c179e\"], [0.4444444444444444, \"#bd3786\"], [0.5555555555555556, \"#d8576b\"], [0.6666666666666666, \"#ed7953\"], [0.7777777777777778, \"#fb9f3a\"], [0.8888888888888888, \"#fdca26\"], [1.0, \"#f0f921\"]], \"type\": \"histogram2dcontour\"}], \"mesh3d\": [{\"colorbar\": {\"outlinewidth\": 0, \"ticks\": \"\"}, \"type\": \"mesh3d\"}], \"parcoords\": [{\"line\": {\"colorbar\": {\"outlinewidth\": 0, \"ticks\": \"\"}}, \"type\": \"parcoords\"}], \"pie\": [{\"automargin\": true, \"type\": \"pie\"}], \"scatter\": [{\"marker\": {\"colorbar\": {\"outlinewidth\": 0, \"ticks\": \"\"}}, \"type\": \"scatter\"}], \"scatter3d\": [{\"line\": {\"colorbar\": {\"outlinewidth\": 0, \"ticks\": \"\"}}, \"marker\": {\"colorbar\": {\"outlinewidth\": 0, \"ticks\": \"\"}}, \"type\": \"scatter3d\"}], \"scattercarpet\": [{\"marker\": {\"colorbar\": {\"outlinewidth\": 0, \"ticks\": \"\"}}, \"type\": \"scattercarpet\"}], \"scattergeo\": [{\"marker\": {\"colorbar\": {\"outlinewidth\": 0, \"ticks\": \"\"}}, \"type\": \"scattergeo\"}], \"scattergl\": [{\"marker\": {\"colorbar\": {\"outlinewidth\": 0, \"ticks\": \"\"}}, \"type\": \"scattergl\"}], \"scattermapbox\": [{\"marker\": {\"colorbar\": {\"outlinewidth\": 0, \"ticks\": \"\"}}, \"type\": \"scattermapbox\"}], \"scatterpolar\": [{\"marker\": {\"colorbar\": {\"outlinewidth\": 0, \"ticks\": \"\"}}, \"type\": \"scatterpolar\"}], \"scatterpolargl\": [{\"marker\": {\"colorbar\": {\"outlinewidth\": 0, \"ticks\": \"\"}}, \"type\": \"scatterpolargl\"}], \"scatterternary\": [{\"marker\": {\"colorbar\": {\"outlinewidth\": 0, \"ticks\": \"\"}}, \"type\": \"scatterternary\"}], \"surface\": [{\"colorbar\": {\"outlinewidth\": 0, \"ticks\": \"\"}, \"colorscale\": [[0.0, \"#0d0887\"], [0.1111111111111111, \"#46039f\"], [0.2222222222222222, \"#7201a8\"], [0.3333333333333333, \"#9c179e\"], [0.4444444444444444, \"#bd3786\"], [0.5555555555555556, \"#d8576b\"], [0.6666666666666666, \"#ed7953\"], [0.7777777777777778, \"#fb9f3a\"], [0.8888888888888888, \"#fdca26\"], [1.0, \"#f0f921\"]], \"type\": \"surface\"}], \"table\": [{\"cells\": {\"fill\": {\"color\": \"#EBF0F8\"}, \"line\": {\"color\": \"white\"}}, \"header\": {\"fill\": {\"color\": \"#C8D4E3\"}, \"line\": {\"color\": \"white\"}}, \"type\": \"table\"}]}, \"layout\": {\"annotationdefaults\": {\"arrowcolor\": \"#2a3f5f\", \"arrowhead\": 0, \"arrowwidth\": 1}, \"coloraxis\": {\"colorbar\": {\"outlinewidth\": 0, \"ticks\": \"\"}}, \"colorscale\": {\"diverging\": [[0, \"#8e0152\"], [0.1, \"#c51b7d\"], [0.2, \"#de77ae\"], [0.3, \"#f1b6da\"], [0.4, \"#fde0ef\"], [0.5, \"#f7f7f7\"], [0.6, \"#e6f5d0\"], [0.7, \"#b8e186\"], [0.8, \"#7fbc41\"], [0.9, \"#4d9221\"], [1, \"#276419\"]], \"sequential\": [[0.0, \"#0d0887\"], [0.1111111111111111, \"#46039f\"], [0.2222222222222222, \"#7201a8\"], [0.3333333333333333, \"#9c179e\"], [0.4444444444444444, \"#bd3786\"], [0.5555555555555556, \"#d8576b\"], [0.6666666666666666, \"#ed7953\"], [0.7777777777777778, \"#fb9f3a\"], [0.8888888888888888, \"#fdca26\"], [1.0, \"#f0f921\"]], \"sequentialminus\": [[0.0, \"#0d0887\"], [0.1111111111111111, \"#46039f\"], [0.2222222222222222, \"#7201a8\"], [0.3333333333333333, \"#9c179e\"], [0.4444444444444444, \"#bd3786\"], [0.5555555555555556, \"#d8576b\"], [0.6666666666666666, \"#ed7953\"], [0.7777777777777778, \"#fb9f3a\"], [0.8888888888888888, \"#fdca26\"], [1.0, \"#f0f921\"]]}, \"colorway\": [\"#636efa\", \"#EF553B\", \"#00cc96\", \"#ab63fa\", \"#FFA15A\", \"#19d3f3\", \"#FF6692\", \"#B6E880\", \"#FF97FF\", \"#FECB52\"], \"font\": {\"color\": \"#2a3f5f\"}, \"geo\": {\"bgcolor\": \"white\", \"lakecolor\": \"white\", \"landcolor\": \"#E5ECF6\", \"showlakes\": true, \"showland\": true, \"subunitcolor\": \"white\"}, \"hoverlabel\": {\"align\": \"left\"}, \"hovermode\": \"closest\", \"mapbox\": {\"style\": \"light\"}, \"paper_bgcolor\": \"white\", \"plot_bgcolor\": \"#E5ECF6\", \"polar\": {\"angularaxis\": {\"gridcolor\": \"white\", \"linecolor\": \"white\", \"ticks\": \"\"}, \"bgcolor\": \"#E5ECF6\", \"radialaxis\": {\"gridcolor\": \"white\", \"linecolor\": \"white\", \"ticks\": \"\"}}, \"scene\": {\"xaxis\": {\"backgroundcolor\": \"#E5ECF6\", \"gridcolor\": \"white\", \"gridwidth\": 2, \"linecolor\": \"white\", \"showbackground\": true, \"ticks\": \"\", \"zerolinecolor\": \"white\"}, \"yaxis\": {\"backgroundcolor\": \"#E5ECF6\", \"gridcolor\": \"white\", \"gridwidth\": 2, \"linecolor\": \"white\", \"showbackground\": true, \"ticks\": \"\", \"zerolinecolor\": \"white\"}, \"zaxis\": {\"backgroundcolor\": \"#E5ECF6\", \"gridcolor\": \"white\", \"gridwidth\": 2, \"linecolor\": \"white\", \"showbackground\": true, \"ticks\": \"\", \"zerolinecolor\": \"white\"}}, \"shapedefaults\": {\"line\": {\"color\": \"#2a3f5f\"}}, \"ternary\": {\"aaxis\": {\"gridcolor\": \"white\", \"linecolor\": \"white\", \"ticks\": \"\"}, \"baxis\": {\"gridcolor\": \"white\", \"linecolor\": \"white\", \"ticks\": \"\"}, \"bgcolor\": \"#E5ECF6\", \"caxis\": {\"gridcolor\": \"white\", \"linecolor\": \"white\", \"ticks\": \"\"}}, \"title\": {\"x\": 0.05}, \"xaxis\": {\"automargin\": true, \"gridcolor\": \"white\", \"linecolor\": \"white\", \"ticks\": \"\", \"title\": {\"standoff\": 15}, \"zerolinecolor\": \"white\", \"zerolinewidth\": 2}, \"yaxis\": {\"automargin\": true, \"gridcolor\": \"white\", \"linecolor\": \"white\", \"ticks\": \"\", \"title\": {\"standoff\": 15}, \"zerolinecolor\": \"white\", \"zerolinewidth\": 2}}}},\n                        {\"responsive\": true}\n                    ).then(function(){\n                            \nvar gd = document.getElementById('86deb06b-1015-4c12-aae7-cf6aa7119c98');\nvar x = new MutationObserver(function (mutations, observer) {{\n        var display = window.getComputedStyle(gd).display;\n        if (!display || display === 'none') {{\n            console.log([gd, 'removed!']);\n            Plotly.purge(gd);\n            observer.disconnect();\n        }}\n}});\n\n// Listen for the removal of the full notebook cells\nvar notebookContainer = gd.closest('#notebook-container');\nif (notebookContainer) {{\n    x.observe(notebookContainer, {childList: true});\n}}\n\n// Listen for the clearing of the current output cell\nvar outputEl = gd.closest('.output');\nif (outputEl) {{\n    x.observe(outputEl, {childList: true});\n}}\n\n                        })\n                };\n                });\n            </script>\n        </div>"
     },
     "metadata": {}
    }
   ],
   "source": [
    "home_white['diff'] = home_white['home_owner_pct'] - home_poc['home_owner_pct']\n",
    "fig = go.Figure()\n",
    "fig.add_trace(go.Scatter(x=home_white['year'], y = home_white['diff'], name = \"Diff\"))\n",
    "fig.show()"
   ]
  },
  {
   "source": [
    "(Look at scale of y-axis)\n",
    "\n",
    "Home ownership had the biggest disparity in the early 90s however there are really been very litter variation in the difference in homeownership between white people and POC only varying by about 5% in the last 40 years. "
   ],
   "cell_type": "markdown",
   "metadata": {}
  },
  {
   "source": [
    "More data: \n",
    "Get data that shows geographic relationship between home ownership\n"
   ],
   "cell_type": "markdown",
   "metadata": {}
  },
  {
   "source": [
    "### Student Debt"
   ],
   "cell_type": "markdown",
   "metadata": {}
  },
  {
   "cell_type": "code",
   "execution_count": 54,
   "metadata": {},
   "outputs": [
    {
     "output_type": "execute_result",
     "data": {
      "text/plain": [
       "   year      race  loan_debt  loan_debt_pct\n",
       "0  2016     White  11108.410       0.336751\n",
       "1  2016     Black  14224.770       0.418359\n",
       "2  2016  Hispanic   7493.999       0.218969\n",
       "3  2013     White   8363.605       0.284555\n",
       "4  2013     Black  10302.660       0.412277"
      ],
      "text/html": "<div>\n<style scoped>\n    .dataframe tbody tr th:only-of-type {\n        vertical-align: middle;\n    }\n\n    .dataframe tbody tr th {\n        vertical-align: top;\n    }\n\n    .dataframe thead th {\n        text-align: right;\n    }\n</style>\n<table border=\"1\" class=\"dataframe\">\n  <thead>\n    <tr style=\"text-align: right;\">\n      <th></th>\n      <th>year</th>\n      <th>race</th>\n      <th>loan_debt</th>\n      <th>loan_debt_pct</th>\n    </tr>\n  </thead>\n  <tbody>\n    <tr>\n      <td>0</td>\n      <td>2016</td>\n      <td>White</td>\n      <td>11108.410</td>\n      <td>0.336751</td>\n    </tr>\n    <tr>\n      <td>1</td>\n      <td>2016</td>\n      <td>Black</td>\n      <td>14224.770</td>\n      <td>0.418359</td>\n    </tr>\n    <tr>\n      <td>2</td>\n      <td>2016</td>\n      <td>Hispanic</td>\n      <td>7493.999</td>\n      <td>0.218969</td>\n    </tr>\n    <tr>\n      <td>3</td>\n      <td>2013</td>\n      <td>White</td>\n      <td>8363.605</td>\n      <td>0.284555</td>\n    </tr>\n    <tr>\n      <td>4</td>\n      <td>2013</td>\n      <td>Black</td>\n      <td>10302.660</td>\n      <td>0.412277</td>\n    </tr>\n  </tbody>\n</table>\n</div>"
     },
     "metadata": {},
     "execution_count": 54
    }
   ],
   "source": [
    "student_debt.head()"
   ]
  },
  {
   "cell_type": "code",
   "execution_count": 55,
   "metadata": {},
   "outputs": [
    {
     "output_type": "execute_result",
     "data": {
      "text/plain": [
       "    year      race  loan_debt  loan_debt_pct\n",
       "29  1989  Hispanic   897.5826       0.127252\n",
       "27  1989     White  1100.4070       0.104712\n",
       "28  1989     Black  1160.5680       0.178820\n",
       "26  1992  Hispanic   793.0610       0.091457\n",
       "25  1992     Black   927.4824       0.138277"
      ],
      "text/html": "<div>\n<style scoped>\n    .dataframe tbody tr th:only-of-type {\n        vertical-align: middle;\n    }\n\n    .dataframe tbody tr th {\n        vertical-align: top;\n    }\n\n    .dataframe thead th {\n        text-align: right;\n    }\n</style>\n<table border=\"1\" class=\"dataframe\">\n  <thead>\n    <tr style=\"text-align: right;\">\n      <th></th>\n      <th>year</th>\n      <th>race</th>\n      <th>loan_debt</th>\n      <th>loan_debt_pct</th>\n    </tr>\n  </thead>\n  <tbody>\n    <tr>\n      <td>29</td>\n      <td>1989</td>\n      <td>Hispanic</td>\n      <td>897.5826</td>\n      <td>0.127252</td>\n    </tr>\n    <tr>\n      <td>27</td>\n      <td>1989</td>\n      <td>White</td>\n      <td>1100.4070</td>\n      <td>0.104712</td>\n    </tr>\n    <tr>\n      <td>28</td>\n      <td>1989</td>\n      <td>Black</td>\n      <td>1160.5680</td>\n      <td>0.178820</td>\n    </tr>\n    <tr>\n      <td>26</td>\n      <td>1992</td>\n      <td>Hispanic</td>\n      <td>793.0610</td>\n      <td>0.091457</td>\n    </tr>\n    <tr>\n      <td>25</td>\n      <td>1992</td>\n      <td>Black</td>\n      <td>927.4824</td>\n      <td>0.138277</td>\n    </tr>\n  </tbody>\n</table>\n</div>"
     },
     "metadata": {},
     "execution_count": 55
    }
   ],
   "source": [
    "student_debt = student_debt.sort_values(by=['year'])\n",
    "student_debt.head()"
   ]
  },
  {
   "cell_type": "code",
   "execution_count": 60,
   "metadata": {},
   "outputs": [],
   "source": [
    "student_debt_white = student_debt[student_debt['race'] == 'White']\n",
    "student_debt_black = student_debt[student_debt['race'] == 'Black']\n",
    "student_debt_hispanic = student_debt[student_debt['race'] == 'Hispanic']\n",
    "student_debt_agg = student_debt.groupby(by=['year']).mean()\n",
    "student_debt_agg = student_debt_agg.reset_index()\n"
   ]
  },
  {
   "cell_type": "code",
   "execution_count": 118,
   "metadata": {},
   "outputs": [
    {
     "output_type": "display_data",
     "data": {
      "application/vnd.plotly.v1+json": {
       "config": {
        "plotlyServerURL": "https://plot.ly"
       },
       "data": [
        {
         "name": "white",
         "type": "scatter",
         "x": [
          1989,
          1992,
          1995,
          1998,
          2001,
          2004,
          2007,
          2010,
          2013,
          2016
         ],
         "xaxis": "x",
         "y": [
          0.10471230000000001,
          0.143334,
          0.1639453,
          0.1564668,
          0.1467881,
          0.1829406,
          0.1969195,
          0.2797834,
          0.28455549999999996,
          0.33675109999999997
         ],
         "yaxis": "y"
        },
        {
         "name": "black",
         "type": "scatter",
         "x": [
          1989,
          1992,
          1995,
          1998,
          2001,
          2004,
          2007,
          2010,
          2013,
          2016
         ],
         "xaxis": "x",
         "y": [
          0.17881979999999997,
          0.1382771,
          0.1696231,
          0.1406358,
          0.18491849999999999,
          0.2160084,
          0.2834677,
          0.3212868,
          0.4122773,
          0.4183588
         ],
         "yaxis": "y"
        },
        {
         "name": "hispanic",
         "type": "scatter",
         "x": [
          1989,
          1992,
          1995,
          1998,
          2001,
          2004,
          2007,
          2010,
          2013,
          2016
         ],
         "xaxis": "x",
         "y": [
          0.1272523,
          0.0914574,
          0.1355392,
          0.1022798,
          0.134081,
          0.1035643,
          0.14205689999999999,
          0.14434760000000002,
          0.1570289,
          0.2189689
         ],
         "yaxis": "y"
        },
        {
         "name": "Agg",
         "type": "scatter",
         "x": [
          1989,
          1992,
          1995,
          1998,
          2001,
          2004,
          2007,
          2010,
          2013,
          2016
         ],
         "xaxis": "x",
         "y": [
          0.13692813333333334,
          0.12435616666666666,
          0.15636919999999999,
          0.13312746666666667,
          0.1552625333333333,
          0.1675044333333333,
          0.20748136666666664,
          0.24847260000000002,
          0.28462056666666663,
          0.3246929333333333
         ],
         "yaxis": "y"
        },
        {
         "name": "white",
         "type": "scatter",
         "x": [
          1989,
          1992,
          1995,
          1998,
          2001,
          2004,
          2007,
          2010,
          2013,
          2016
         ],
         "xaxis": "x2",
         "y": [
          1100.407,
          1321.3029999999999,
          1885.5829999999999,
          3115.208,
          2979.72,
          4035.675,
          5263.566999999999,
          8041.9890000000005,
          8363.605,
          11108.41
         ],
         "yaxis": "y2"
        },
        {
         "name": "black",
         "type": "scatter",
         "x": [
          1989,
          1992,
          1995,
          1998,
          2001,
          2004,
          2007,
          2010,
          2013,
          2016
         ],
         "xaxis": "x2",
         "y": [
          1160.568,
          927.4824,
          1922.886,
          1325.217,
          2223.719,
          3987.177,
          6111.028,
          9510.1,
          10302.66,
          14224.77
         ],
         "yaxis": "y2"
        },
        {
         "name": "hispanic",
         "type": "scatter",
         "x": [
          1989,
          1992,
          1995,
          1998,
          2001,
          2004,
          2007,
          2010,
          2013,
          2016
         ],
         "xaxis": "x2",
         "y": [
          897.5826,
          793.061,
          1396.864,
          1436.579,
          1729.861,
          1651.79,
          3005.4770000000003,
          3089.1659999999997,
          3177.41,
          7493.999
         ],
         "yaxis": "y2"
        },
        {
         "name": "Agg",
         "type": "scatter",
         "x": [
          1989,
          1992,
          1995,
          1998,
          2001,
          2004,
          2007,
          2010,
          2013,
          2016
         ],
         "xaxis": "x2",
         "y": [
          1052.8525333333334,
          1013.9488,
          1735.1109999999999,
          1959.0013333333336,
          2311.1,
          3224.8806666666665,
          4793.357333333333,
          6880.418333333334,
          7281.224999999999,
          10942.393000000002
         ],
         "yaxis": "y2"
        }
       ],
       "layout": {
        "autosize": false,
        "height": 500,
        "template": {
         "data": {
          "bar": [
           {
            "error_x": {
             "color": "#2a3f5f"
            },
            "error_y": {
             "color": "#2a3f5f"
            },
            "marker": {
             "line": {
              "color": "#E5ECF6",
              "width": 0.5
             }
            },
            "type": "bar"
           }
          ],
          "barpolar": [
           {
            "marker": {
             "line": {
              "color": "#E5ECF6",
              "width": 0.5
             }
            },
            "type": "barpolar"
           }
          ],
          "carpet": [
           {
            "aaxis": {
             "endlinecolor": "#2a3f5f",
             "gridcolor": "white",
             "linecolor": "white",
             "minorgridcolor": "white",
             "startlinecolor": "#2a3f5f"
            },
            "baxis": {
             "endlinecolor": "#2a3f5f",
             "gridcolor": "white",
             "linecolor": "white",
             "minorgridcolor": "white",
             "startlinecolor": "#2a3f5f"
            },
            "type": "carpet"
           }
          ],
          "choropleth": [
           {
            "colorbar": {
             "outlinewidth": 0,
             "ticks": ""
            },
            "type": "choropleth"
           }
          ],
          "contour": [
           {
            "colorbar": {
             "outlinewidth": 0,
             "ticks": ""
            },
            "colorscale": [
             [
              0,
              "#0d0887"
             ],
             [
              0.1111111111111111,
              "#46039f"
             ],
             [
              0.2222222222222222,
              "#7201a8"
             ],
             [
              0.3333333333333333,
              "#9c179e"
             ],
             [
              0.4444444444444444,
              "#bd3786"
             ],
             [
              0.5555555555555556,
              "#d8576b"
             ],
             [
              0.6666666666666666,
              "#ed7953"
             ],
             [
              0.7777777777777778,
              "#fb9f3a"
             ],
             [
              0.8888888888888888,
              "#fdca26"
             ],
             [
              1,
              "#f0f921"
             ]
            ],
            "type": "contour"
           }
          ],
          "contourcarpet": [
           {
            "colorbar": {
             "outlinewidth": 0,
             "ticks": ""
            },
            "type": "contourcarpet"
           }
          ],
          "heatmap": [
           {
            "colorbar": {
             "outlinewidth": 0,
             "ticks": ""
            },
            "colorscale": [
             [
              0,
              "#0d0887"
             ],
             [
              0.1111111111111111,
              "#46039f"
             ],
             [
              0.2222222222222222,
              "#7201a8"
             ],
             [
              0.3333333333333333,
              "#9c179e"
             ],
             [
              0.4444444444444444,
              "#bd3786"
             ],
             [
              0.5555555555555556,
              "#d8576b"
             ],
             [
              0.6666666666666666,
              "#ed7953"
             ],
             [
              0.7777777777777778,
              "#fb9f3a"
             ],
             [
              0.8888888888888888,
              "#fdca26"
             ],
             [
              1,
              "#f0f921"
             ]
            ],
            "type": "heatmap"
           }
          ],
          "heatmapgl": [
           {
            "colorbar": {
             "outlinewidth": 0,
             "ticks": ""
            },
            "colorscale": [
             [
              0,
              "#0d0887"
             ],
             [
              0.1111111111111111,
              "#46039f"
             ],
             [
              0.2222222222222222,
              "#7201a8"
             ],
             [
              0.3333333333333333,
              "#9c179e"
             ],
             [
              0.4444444444444444,
              "#bd3786"
             ],
             [
              0.5555555555555556,
              "#d8576b"
             ],
             [
              0.6666666666666666,
              "#ed7953"
             ],
             [
              0.7777777777777778,
              "#fb9f3a"
             ],
             [
              0.8888888888888888,
              "#fdca26"
             ],
             [
              1,
              "#f0f921"
             ]
            ],
            "type": "heatmapgl"
           }
          ],
          "histogram": [
           {
            "marker": {
             "colorbar": {
              "outlinewidth": 0,
              "ticks": ""
             }
            },
            "type": "histogram"
           }
          ],
          "histogram2d": [
           {
            "colorbar": {
             "outlinewidth": 0,
             "ticks": ""
            },
            "colorscale": [
             [
              0,
              "#0d0887"
             ],
             [
              0.1111111111111111,
              "#46039f"
             ],
             [
              0.2222222222222222,
              "#7201a8"
             ],
             [
              0.3333333333333333,
              "#9c179e"
             ],
             [
              0.4444444444444444,
              "#bd3786"
             ],
             [
              0.5555555555555556,
              "#d8576b"
             ],
             [
              0.6666666666666666,
              "#ed7953"
             ],
             [
              0.7777777777777778,
              "#fb9f3a"
             ],
             [
              0.8888888888888888,
              "#fdca26"
             ],
             [
              1,
              "#f0f921"
             ]
            ],
            "type": "histogram2d"
           }
          ],
          "histogram2dcontour": [
           {
            "colorbar": {
             "outlinewidth": 0,
             "ticks": ""
            },
            "colorscale": [
             [
              0,
              "#0d0887"
             ],
             [
              0.1111111111111111,
              "#46039f"
             ],
             [
              0.2222222222222222,
              "#7201a8"
             ],
             [
              0.3333333333333333,
              "#9c179e"
             ],
             [
              0.4444444444444444,
              "#bd3786"
             ],
             [
              0.5555555555555556,
              "#d8576b"
             ],
             [
              0.6666666666666666,
              "#ed7953"
             ],
             [
              0.7777777777777778,
              "#fb9f3a"
             ],
             [
              0.8888888888888888,
              "#fdca26"
             ],
             [
              1,
              "#f0f921"
             ]
            ],
            "type": "histogram2dcontour"
           }
          ],
          "mesh3d": [
           {
            "colorbar": {
             "outlinewidth": 0,
             "ticks": ""
            },
            "type": "mesh3d"
           }
          ],
          "parcoords": [
           {
            "line": {
             "colorbar": {
              "outlinewidth": 0,
              "ticks": ""
             }
            },
            "type": "parcoords"
           }
          ],
          "pie": [
           {
            "automargin": true,
            "type": "pie"
           }
          ],
          "scatter": [
           {
            "marker": {
             "colorbar": {
              "outlinewidth": 0,
              "ticks": ""
             }
            },
            "type": "scatter"
           }
          ],
          "scatter3d": [
           {
            "line": {
             "colorbar": {
              "outlinewidth": 0,
              "ticks": ""
             }
            },
            "marker": {
             "colorbar": {
              "outlinewidth": 0,
              "ticks": ""
             }
            },
            "type": "scatter3d"
           }
          ],
          "scattercarpet": [
           {
            "marker": {
             "colorbar": {
              "outlinewidth": 0,
              "ticks": ""
             }
            },
            "type": "scattercarpet"
           }
          ],
          "scattergeo": [
           {
            "marker": {
             "colorbar": {
              "outlinewidth": 0,
              "ticks": ""
             }
            },
            "type": "scattergeo"
           }
          ],
          "scattergl": [
           {
            "marker": {
             "colorbar": {
              "outlinewidth": 0,
              "ticks": ""
             }
            },
            "type": "scattergl"
           }
          ],
          "scattermapbox": [
           {
            "marker": {
             "colorbar": {
              "outlinewidth": 0,
              "ticks": ""
             }
            },
            "type": "scattermapbox"
           }
          ],
          "scatterpolar": [
           {
            "marker": {
             "colorbar": {
              "outlinewidth": 0,
              "ticks": ""
             }
            },
            "type": "scatterpolar"
           }
          ],
          "scatterpolargl": [
           {
            "marker": {
             "colorbar": {
              "outlinewidth": 0,
              "ticks": ""
             }
            },
            "type": "scatterpolargl"
           }
          ],
          "scatterternary": [
           {
            "marker": {
             "colorbar": {
              "outlinewidth": 0,
              "ticks": ""
             }
            },
            "type": "scatterternary"
           }
          ],
          "surface": [
           {
            "colorbar": {
             "outlinewidth": 0,
             "ticks": ""
            },
            "colorscale": [
             [
              0,
              "#0d0887"
             ],
             [
              0.1111111111111111,
              "#46039f"
             ],
             [
              0.2222222222222222,
              "#7201a8"
             ],
             [
              0.3333333333333333,
              "#9c179e"
             ],
             [
              0.4444444444444444,
              "#bd3786"
             ],
             [
              0.5555555555555556,
              "#d8576b"
             ],
             [
              0.6666666666666666,
              "#ed7953"
             ],
             [
              0.7777777777777778,
              "#fb9f3a"
             ],
             [
              0.8888888888888888,
              "#fdca26"
             ],
             [
              1,
              "#f0f921"
             ]
            ],
            "type": "surface"
           }
          ],
          "table": [
           {
            "cells": {
             "fill": {
              "color": "#EBF0F8"
             },
             "line": {
              "color": "white"
             }
            },
            "header": {
             "fill": {
              "color": "#C8D4E3"
             },
             "line": {
              "color": "white"
             }
            },
            "type": "table"
           }
          ]
         },
         "layout": {
          "annotationdefaults": {
           "arrowcolor": "#2a3f5f",
           "arrowhead": 0,
           "arrowwidth": 1
          },
          "coloraxis": {
           "colorbar": {
            "outlinewidth": 0,
            "ticks": ""
           }
          },
          "colorscale": {
           "diverging": [
            [
             0,
             "#8e0152"
            ],
            [
             0.1,
             "#c51b7d"
            ],
            [
             0.2,
             "#de77ae"
            ],
            [
             0.3,
             "#f1b6da"
            ],
            [
             0.4,
             "#fde0ef"
            ],
            [
             0.5,
             "#f7f7f7"
            ],
            [
             0.6,
             "#e6f5d0"
            ],
            [
             0.7,
             "#b8e186"
            ],
            [
             0.8,
             "#7fbc41"
            ],
            [
             0.9,
             "#4d9221"
            ],
            [
             1,
             "#276419"
            ]
           ],
           "sequential": [
            [
             0,
             "#0d0887"
            ],
            [
             0.1111111111111111,
             "#46039f"
            ],
            [
             0.2222222222222222,
             "#7201a8"
            ],
            [
             0.3333333333333333,
             "#9c179e"
            ],
            [
             0.4444444444444444,
             "#bd3786"
            ],
            [
             0.5555555555555556,
             "#d8576b"
            ],
            [
             0.6666666666666666,
             "#ed7953"
            ],
            [
             0.7777777777777778,
             "#fb9f3a"
            ],
            [
             0.8888888888888888,
             "#fdca26"
            ],
            [
             1,
             "#f0f921"
            ]
           ],
           "sequentialminus": [
            [
             0,
             "#0d0887"
            ],
            [
             0.1111111111111111,
             "#46039f"
            ],
            [
             0.2222222222222222,
             "#7201a8"
            ],
            [
             0.3333333333333333,
             "#9c179e"
            ],
            [
             0.4444444444444444,
             "#bd3786"
            ],
            [
             0.5555555555555556,
             "#d8576b"
            ],
            [
             0.6666666666666666,
             "#ed7953"
            ],
            [
             0.7777777777777778,
             "#fb9f3a"
            ],
            [
             0.8888888888888888,
             "#fdca26"
            ],
            [
             1,
             "#f0f921"
            ]
           ]
          },
          "colorway": [
           "#636efa",
           "#EF553B",
           "#00cc96",
           "#ab63fa",
           "#FFA15A",
           "#19d3f3",
           "#FF6692",
           "#B6E880",
           "#FF97FF",
           "#FECB52"
          ],
          "font": {
           "color": "#2a3f5f"
          },
          "geo": {
           "bgcolor": "white",
           "lakecolor": "white",
           "landcolor": "#E5ECF6",
           "showlakes": true,
           "showland": true,
           "subunitcolor": "white"
          },
          "hoverlabel": {
           "align": "left"
          },
          "hovermode": "closest",
          "mapbox": {
           "style": "light"
          },
          "paper_bgcolor": "white",
          "plot_bgcolor": "#E5ECF6",
          "polar": {
           "angularaxis": {
            "gridcolor": "white",
            "linecolor": "white",
            "ticks": ""
           },
           "bgcolor": "#E5ECF6",
           "radialaxis": {
            "gridcolor": "white",
            "linecolor": "white",
            "ticks": ""
           }
          },
          "scene": {
           "xaxis": {
            "backgroundcolor": "#E5ECF6",
            "gridcolor": "white",
            "gridwidth": 2,
            "linecolor": "white",
            "showbackground": true,
            "ticks": "",
            "zerolinecolor": "white"
           },
           "yaxis": {
            "backgroundcolor": "#E5ECF6",
            "gridcolor": "white",
            "gridwidth": 2,
            "linecolor": "white",
            "showbackground": true,
            "ticks": "",
            "zerolinecolor": "white"
           },
           "zaxis": {
            "backgroundcolor": "#E5ECF6",
            "gridcolor": "white",
            "gridwidth": 2,
            "linecolor": "white",
            "showbackground": true,
            "ticks": "",
            "zerolinecolor": "white"
           }
          },
          "shapedefaults": {
           "line": {
            "color": "#2a3f5f"
           }
          },
          "ternary": {
           "aaxis": {
            "gridcolor": "white",
            "linecolor": "white",
            "ticks": ""
           },
           "baxis": {
            "gridcolor": "white",
            "linecolor": "white",
            "ticks": ""
           },
           "bgcolor": "#E5ECF6",
           "caxis": {
            "gridcolor": "white",
            "linecolor": "white",
            "ticks": ""
           }
          },
          "title": {
           "x": 0.05
          },
          "xaxis": {
           "automargin": true,
           "gridcolor": "white",
           "linecolor": "white",
           "ticks": "",
           "title": {
            "standoff": 15
           },
           "zerolinecolor": "white",
           "zerolinewidth": 2
          },
          "yaxis": {
           "automargin": true,
           "gridcolor": "white",
           "linecolor": "white",
           "ticks": "",
           "title": {
            "standoff": 15
           },
           "zerolinecolor": "white",
           "zerolinewidth": 2
          }
         }
        },
        "width": 1200,
        "xaxis": {
         "anchor": "y",
         "domain": [
          0,
          0.45
         ]
        },
        "xaxis2": {
         "anchor": "y2",
         "domain": [
          0.55,
          1
         ]
        },
        "yaxis": {
         "anchor": "x",
         "domain": [
          0,
          1
         ]
        },
        "yaxis2": {
         "anchor": "x2",
         "domain": [
          0,
          1
         ]
        }
       }
      },
      "text/html": "<div>\n        \n        \n            <div id=\"6075df40-8bf2-451b-b64e-40353f73bf98\" class=\"plotly-graph-div\" style=\"height:500px; width:1200px;\"></div>\n            <script type=\"text/javascript\">\n                require([\"plotly\"], function(Plotly) {\n                    window.PLOTLYENV=window.PLOTLYENV || {};\n                    \n                if (document.getElementById(\"6075df40-8bf2-451b-b64e-40353f73bf98\")) {\n                    Plotly.newPlot(\n                        '6075df40-8bf2-451b-b64e-40353f73bf98',\n                        [{\"name\": \"white\", \"type\": \"scatter\", \"x\": [1989, 1992, 1995, 1998, 2001, 2004, 2007, 2010, 2013, 2016], \"xaxis\": \"x\", \"y\": [0.10471230000000001, 0.143334, 0.1639453, 0.1564668, 0.1467881, 0.1829406, 0.1969195, 0.2797834, 0.28455549999999996, 0.33675109999999997], \"yaxis\": \"y\"}, {\"name\": \"black\", \"type\": \"scatter\", \"x\": [1989, 1992, 1995, 1998, 2001, 2004, 2007, 2010, 2013, 2016], \"xaxis\": \"x\", \"y\": [0.17881979999999997, 0.1382771, 0.1696231, 0.1406358, 0.18491849999999999, 0.2160084, 0.2834677, 0.3212868, 0.4122773, 0.4183588], \"yaxis\": \"y\"}, {\"name\": \"hispanic\", \"type\": \"scatter\", \"x\": [1989, 1992, 1995, 1998, 2001, 2004, 2007, 2010, 2013, 2016], \"xaxis\": \"x\", \"y\": [0.1272523, 0.0914574, 0.1355392, 0.1022798, 0.134081, 0.1035643, 0.14205689999999999, 0.14434760000000002, 0.1570289, 0.2189689], \"yaxis\": \"y\"}, {\"name\": \"Agg\", \"type\": \"scatter\", \"x\": [1989, 1992, 1995, 1998, 2001, 2004, 2007, 2010, 2013, 2016], \"xaxis\": \"x\", \"y\": [0.13692813333333334, 0.12435616666666666, 0.15636919999999999, 0.13312746666666667, 0.1552625333333333, 0.1675044333333333, 0.20748136666666664, 0.24847260000000002, 0.28462056666666663, 0.3246929333333333], \"yaxis\": \"y\"}, {\"name\": \"white\", \"type\": \"scatter\", \"x\": [1989, 1992, 1995, 1998, 2001, 2004, 2007, 2010, 2013, 2016], \"xaxis\": \"x2\", \"y\": [1100.407, 1321.3029999999999, 1885.5829999999999, 3115.208, 2979.72, 4035.675, 5263.566999999999, 8041.9890000000005, 8363.605, 11108.41], \"yaxis\": \"y2\"}, {\"name\": \"black\", \"type\": \"scatter\", \"x\": [1989, 1992, 1995, 1998, 2001, 2004, 2007, 2010, 2013, 2016], \"xaxis\": \"x2\", \"y\": [1160.568, 927.4824, 1922.886, 1325.217, 2223.719, 3987.177, 6111.028, 9510.1, 10302.66, 14224.77], \"yaxis\": \"y2\"}, {\"name\": \"hispanic\", \"type\": \"scatter\", \"x\": [1989, 1992, 1995, 1998, 2001, 2004, 2007, 2010, 2013, 2016], \"xaxis\": \"x2\", \"y\": [897.5826, 793.061, 1396.864, 1436.579, 1729.861, 1651.79, 3005.4770000000003, 3089.1659999999997, 3177.41, 7493.999], \"yaxis\": \"y2\"}, {\"name\": \"Agg\", \"type\": \"scatter\", \"x\": [1989, 1992, 1995, 1998, 2001, 2004, 2007, 2010, 2013, 2016], \"xaxis\": \"x2\", \"y\": [1052.8525333333334, 1013.9488, 1735.1109999999999, 1959.0013333333336, 2311.1, 3224.8806666666665, 4793.357333333333, 6880.418333333334, 7281.224999999999, 10942.393000000002], \"yaxis\": \"y2\"}],\n                        {\"autosize\": false, \"height\": 500, \"template\": {\"data\": {\"bar\": [{\"error_x\": {\"color\": \"#2a3f5f\"}, \"error_y\": {\"color\": \"#2a3f5f\"}, \"marker\": {\"line\": {\"color\": \"#E5ECF6\", \"width\": 0.5}}, \"type\": \"bar\"}], \"barpolar\": [{\"marker\": {\"line\": {\"color\": \"#E5ECF6\", \"width\": 0.5}}, \"type\": \"barpolar\"}], \"carpet\": [{\"aaxis\": {\"endlinecolor\": \"#2a3f5f\", \"gridcolor\": \"white\", \"linecolor\": \"white\", \"minorgridcolor\": \"white\", \"startlinecolor\": \"#2a3f5f\"}, \"baxis\": {\"endlinecolor\": \"#2a3f5f\", \"gridcolor\": \"white\", \"linecolor\": \"white\", \"minorgridcolor\": \"white\", \"startlinecolor\": \"#2a3f5f\"}, \"type\": \"carpet\"}], \"choropleth\": [{\"colorbar\": {\"outlinewidth\": 0, \"ticks\": \"\"}, \"type\": \"choropleth\"}], \"contour\": [{\"colorbar\": {\"outlinewidth\": 0, \"ticks\": \"\"}, \"colorscale\": [[0.0, \"#0d0887\"], [0.1111111111111111, \"#46039f\"], [0.2222222222222222, \"#7201a8\"], [0.3333333333333333, \"#9c179e\"], [0.4444444444444444, \"#bd3786\"], [0.5555555555555556, \"#d8576b\"], [0.6666666666666666, \"#ed7953\"], [0.7777777777777778, \"#fb9f3a\"], [0.8888888888888888, \"#fdca26\"], [1.0, \"#f0f921\"]], \"type\": \"contour\"}], \"contourcarpet\": [{\"colorbar\": {\"outlinewidth\": 0, \"ticks\": \"\"}, \"type\": \"contourcarpet\"}], \"heatmap\": [{\"colorbar\": {\"outlinewidth\": 0, \"ticks\": \"\"}, \"colorscale\": [[0.0, \"#0d0887\"], [0.1111111111111111, \"#46039f\"], [0.2222222222222222, \"#7201a8\"], [0.3333333333333333, \"#9c179e\"], [0.4444444444444444, \"#bd3786\"], [0.5555555555555556, \"#d8576b\"], [0.6666666666666666, \"#ed7953\"], [0.7777777777777778, \"#fb9f3a\"], [0.8888888888888888, \"#fdca26\"], [1.0, \"#f0f921\"]], \"type\": \"heatmap\"}], \"heatmapgl\": [{\"colorbar\": {\"outlinewidth\": 0, \"ticks\": \"\"}, \"colorscale\": [[0.0, \"#0d0887\"], [0.1111111111111111, \"#46039f\"], [0.2222222222222222, \"#7201a8\"], [0.3333333333333333, \"#9c179e\"], [0.4444444444444444, \"#bd3786\"], [0.5555555555555556, \"#d8576b\"], [0.6666666666666666, \"#ed7953\"], [0.7777777777777778, \"#fb9f3a\"], [0.8888888888888888, \"#fdca26\"], [1.0, \"#f0f921\"]], \"type\": \"heatmapgl\"}], \"histogram\": [{\"marker\": {\"colorbar\": {\"outlinewidth\": 0, \"ticks\": \"\"}}, \"type\": \"histogram\"}], \"histogram2d\": [{\"colorbar\": {\"outlinewidth\": 0, \"ticks\": \"\"}, \"colorscale\": [[0.0, \"#0d0887\"], [0.1111111111111111, \"#46039f\"], [0.2222222222222222, \"#7201a8\"], [0.3333333333333333, \"#9c179e\"], [0.4444444444444444, \"#bd3786\"], [0.5555555555555556, \"#d8576b\"], [0.6666666666666666, \"#ed7953\"], [0.7777777777777778, \"#fb9f3a\"], [0.8888888888888888, \"#fdca26\"], [1.0, \"#f0f921\"]], \"type\": \"histogram2d\"}], \"histogram2dcontour\": [{\"colorbar\": {\"outlinewidth\": 0, \"ticks\": \"\"}, \"colorscale\": [[0.0, \"#0d0887\"], [0.1111111111111111, \"#46039f\"], [0.2222222222222222, \"#7201a8\"], [0.3333333333333333, \"#9c179e\"], [0.4444444444444444, \"#bd3786\"], [0.5555555555555556, \"#d8576b\"], [0.6666666666666666, \"#ed7953\"], [0.7777777777777778, \"#fb9f3a\"], [0.8888888888888888, \"#fdca26\"], [1.0, \"#f0f921\"]], \"type\": \"histogram2dcontour\"}], \"mesh3d\": [{\"colorbar\": {\"outlinewidth\": 0, \"ticks\": \"\"}, \"type\": \"mesh3d\"}], \"parcoords\": [{\"line\": {\"colorbar\": {\"outlinewidth\": 0, \"ticks\": \"\"}}, \"type\": \"parcoords\"}], \"pie\": [{\"automargin\": true, \"type\": \"pie\"}], \"scatter\": [{\"marker\": {\"colorbar\": {\"outlinewidth\": 0, \"ticks\": \"\"}}, \"type\": \"scatter\"}], \"scatter3d\": [{\"line\": {\"colorbar\": {\"outlinewidth\": 0, \"ticks\": \"\"}}, \"marker\": {\"colorbar\": {\"outlinewidth\": 0, \"ticks\": \"\"}}, \"type\": \"scatter3d\"}], \"scattercarpet\": [{\"marker\": {\"colorbar\": {\"outlinewidth\": 0, \"ticks\": \"\"}}, \"type\": \"scattercarpet\"}], \"scattergeo\": [{\"marker\": {\"colorbar\": {\"outlinewidth\": 0, \"ticks\": \"\"}}, \"type\": \"scattergeo\"}], \"scattergl\": [{\"marker\": {\"colorbar\": {\"outlinewidth\": 0, \"ticks\": \"\"}}, \"type\": \"scattergl\"}], \"scattermapbox\": [{\"marker\": {\"colorbar\": {\"outlinewidth\": 0, \"ticks\": \"\"}}, \"type\": \"scattermapbox\"}], \"scatterpolar\": [{\"marker\": {\"colorbar\": {\"outlinewidth\": 0, \"ticks\": \"\"}}, \"type\": \"scatterpolar\"}], \"scatterpolargl\": [{\"marker\": {\"colorbar\": {\"outlinewidth\": 0, \"ticks\": \"\"}}, \"type\": \"scatterpolargl\"}], \"scatterternary\": [{\"marker\": {\"colorbar\": {\"outlinewidth\": 0, \"ticks\": \"\"}}, \"type\": \"scatterternary\"}], \"surface\": [{\"colorbar\": {\"outlinewidth\": 0, \"ticks\": \"\"}, \"colorscale\": [[0.0, \"#0d0887\"], [0.1111111111111111, \"#46039f\"], [0.2222222222222222, \"#7201a8\"], [0.3333333333333333, \"#9c179e\"], [0.4444444444444444, \"#bd3786\"], [0.5555555555555556, \"#d8576b\"], [0.6666666666666666, \"#ed7953\"], [0.7777777777777778, \"#fb9f3a\"], [0.8888888888888888, \"#fdca26\"], [1.0, \"#f0f921\"]], \"type\": \"surface\"}], \"table\": [{\"cells\": {\"fill\": {\"color\": \"#EBF0F8\"}, \"line\": {\"color\": \"white\"}}, \"header\": {\"fill\": {\"color\": \"#C8D4E3\"}, \"line\": {\"color\": \"white\"}}, \"type\": \"table\"}]}, \"layout\": {\"annotationdefaults\": {\"arrowcolor\": \"#2a3f5f\", \"arrowhead\": 0, \"arrowwidth\": 1}, \"coloraxis\": {\"colorbar\": {\"outlinewidth\": 0, \"ticks\": \"\"}}, \"colorscale\": {\"diverging\": [[0, \"#8e0152\"], [0.1, \"#c51b7d\"], [0.2, \"#de77ae\"], [0.3, \"#f1b6da\"], [0.4, \"#fde0ef\"], [0.5, \"#f7f7f7\"], [0.6, \"#e6f5d0\"], [0.7, \"#b8e186\"], [0.8, \"#7fbc41\"], [0.9, \"#4d9221\"], [1, \"#276419\"]], \"sequential\": [[0.0, \"#0d0887\"], [0.1111111111111111, \"#46039f\"], [0.2222222222222222, \"#7201a8\"], [0.3333333333333333, \"#9c179e\"], [0.4444444444444444, \"#bd3786\"], [0.5555555555555556, \"#d8576b\"], [0.6666666666666666, \"#ed7953\"], [0.7777777777777778, \"#fb9f3a\"], [0.8888888888888888, \"#fdca26\"], [1.0, \"#f0f921\"]], \"sequentialminus\": [[0.0, \"#0d0887\"], [0.1111111111111111, \"#46039f\"], [0.2222222222222222, \"#7201a8\"], [0.3333333333333333, \"#9c179e\"], [0.4444444444444444, \"#bd3786\"], [0.5555555555555556, \"#d8576b\"], [0.6666666666666666, \"#ed7953\"], [0.7777777777777778, \"#fb9f3a\"], [0.8888888888888888, \"#fdca26\"], [1.0, \"#f0f921\"]]}, \"colorway\": [\"#636efa\", \"#EF553B\", \"#00cc96\", \"#ab63fa\", \"#FFA15A\", \"#19d3f3\", \"#FF6692\", \"#B6E880\", \"#FF97FF\", \"#FECB52\"], \"font\": {\"color\": \"#2a3f5f\"}, \"geo\": {\"bgcolor\": \"white\", \"lakecolor\": \"white\", \"landcolor\": \"#E5ECF6\", \"showlakes\": true, \"showland\": true, \"subunitcolor\": \"white\"}, \"hoverlabel\": {\"align\": \"left\"}, \"hovermode\": \"closest\", \"mapbox\": {\"style\": \"light\"}, \"paper_bgcolor\": \"white\", \"plot_bgcolor\": \"#E5ECF6\", \"polar\": {\"angularaxis\": {\"gridcolor\": \"white\", \"linecolor\": \"white\", \"ticks\": \"\"}, \"bgcolor\": \"#E5ECF6\", \"radialaxis\": {\"gridcolor\": \"white\", \"linecolor\": \"white\", \"ticks\": \"\"}}, \"scene\": {\"xaxis\": {\"backgroundcolor\": \"#E5ECF6\", \"gridcolor\": \"white\", \"gridwidth\": 2, \"linecolor\": \"white\", \"showbackground\": true, \"ticks\": \"\", \"zerolinecolor\": \"white\"}, \"yaxis\": {\"backgroundcolor\": \"#E5ECF6\", \"gridcolor\": \"white\", \"gridwidth\": 2, \"linecolor\": \"white\", \"showbackground\": true, \"ticks\": \"\", \"zerolinecolor\": \"white\"}, \"zaxis\": {\"backgroundcolor\": \"#E5ECF6\", \"gridcolor\": \"white\", \"gridwidth\": 2, \"linecolor\": \"white\", \"showbackground\": true, \"ticks\": \"\", \"zerolinecolor\": \"white\"}}, \"shapedefaults\": {\"line\": {\"color\": \"#2a3f5f\"}}, \"ternary\": {\"aaxis\": {\"gridcolor\": \"white\", \"linecolor\": \"white\", \"ticks\": \"\"}, \"baxis\": {\"gridcolor\": \"white\", \"linecolor\": \"white\", \"ticks\": \"\"}, \"bgcolor\": \"#E5ECF6\", \"caxis\": {\"gridcolor\": \"white\", \"linecolor\": \"white\", \"ticks\": \"\"}}, \"title\": {\"x\": 0.05}, \"xaxis\": {\"automargin\": true, \"gridcolor\": \"white\", \"linecolor\": \"white\", \"ticks\": \"\", \"title\": {\"standoff\": 15}, \"zerolinecolor\": \"white\", \"zerolinewidth\": 2}, \"yaxis\": {\"automargin\": true, \"gridcolor\": \"white\", \"linecolor\": \"white\", \"ticks\": \"\", \"title\": {\"standoff\": 15}, \"zerolinecolor\": \"white\", \"zerolinewidth\": 2}}}, \"width\": 1200, \"xaxis\": {\"anchor\": \"y\", \"domain\": [0.0, 0.45]}, \"xaxis2\": {\"anchor\": \"y2\", \"domain\": [0.55, 1.0]}, \"yaxis\": {\"anchor\": \"x\", \"domain\": [0.0, 1.0]}, \"yaxis2\": {\"anchor\": \"x2\", \"domain\": [0.0, 1.0]}},\n                        {\"responsive\": true}\n                    ).then(function(){\n                            \nvar gd = document.getElementById('6075df40-8bf2-451b-b64e-40353f73bf98');\nvar x = new MutationObserver(function (mutations, observer) {{\n        var display = window.getComputedStyle(gd).display;\n        if (!display || display === 'none') {{\n            console.log([gd, 'removed!']);\n            Plotly.purge(gd);\n            observer.disconnect();\n        }}\n}});\n\n// Listen for the removal of the full notebook cells\nvar notebookContainer = gd.closest('#notebook-container');\nif (notebookContainer) {{\n    x.observe(notebookContainer, {childList: true});\n}}\n\n// Listen for the clearing of the current output cell\nvar outputEl = gd.closest('.output');\nif (outputEl) {{\n    x.observe(outputEl, {childList: true});\n}}\n\n                        })\n                };\n                });\n            </script>\n        </div>"
     },
     "metadata": {}
    }
   ],
   "source": [
    "fig = make_subplots(rows=1, cols=2)\n",
    "\n",
    "fig.update_layout(\n",
    "    autosize=False,\n",
    "    width=1200,\n",
    "    height=500,\n",
    ")\n",
    "\n",
    "\n",
    "fig.add_trace(go.Scatter(x=student_debt_white['year'], y = student_debt_white['loan_debt_pct'], name = \"white\"), row=1,col=1)\n",
    "fig.add_trace(go.Scatter(x=student_debt_black['year'], y = student_debt_black['loan_debt_pct'], name = \"black\"), row=1,col=1)\n",
    "fig.add_trace(go.Scatter(x=student_debt_hispanic['year'], y = student_debt_hispanic['loan_debt_pct'], name = \"hispanic\"), row=1,col=1)\n",
    "fig.add_trace(go.Scatter(x=student_debt_agg['year'], y = student_debt_agg['loan_debt_pct'], name = \"Agg\"), row=1,col=1)\n",
    "\n",
    "fig.add_trace(go.Scatter(x=student_debt_white['year'], y = student_debt_white['loan_debt'], name = \"white\"), row=1,col=2)\n",
    "fig.add_trace(go.Scatter(x=student_debt_black['year'], y = student_debt_black['loan_debt'], name = \"black\"), row=1,col=2)\n",
    "fig.add_trace(go.Scatter(x=student_debt_hispanic['year'], y = student_debt_hispanic['loan_debt'], name = \"hispanic\"), row=1,col=2)\n",
    "fig.add_trace(go.Scatter(x=student_debt_agg['year'], y = student_debt_agg['loan_debt'], name = \"Agg\"), row=1,col=2)\n",
    "\n",
    "fig.show()"
   ]
  },
  {
   "source": [
    "No surprises here but debt has exploded over the past 25 years. Oh to have finished collage with less then 1k debt...\n",
    "\n",
    "With black people having the largest debt burden then white, then hispanic. This was a little surpising. I figured white people would either have the most debt (assuming a larger portion of them went to school) or the least (Because of having more means to pay off the debt). It seems neither of those assumtions were true. "
   ],
   "cell_type": "markdown",
   "metadata": {}
  },
  {
   "cell_type": "code",
   "execution_count": 111,
   "metadata": {},
   "outputs": [
    {
     "output_type": "execute_result",
     "data": {
      "text/plain": [
       "array(['Average', 'Median'], dtype=object)"
      ]
     },
     "metadata": {},
     "execution_count": 111
    }
   ],
   "source": [
    "race_wealth = race_wealth.dropna()\n",
    "race_wealth = race_wealth.sort_values(by=['year'])\n",
    "race_wealth.head()\n",
    "\n",
    "race_wealth_white = race_wealth[race_wealth['race'] == 'White']\n",
    "race_wealth_black = race_wealth[race_wealth['race'] == 'Black']\n",
    "race_wealth_hispanic = race_wealth[race_wealth['race'] == 'Hispanic']\n",
    "race_wealth_non_white = race_wealth[race_wealth['race'] == 'Non-White']\n",
    "\n",
    "\n",
    "race_wealth['type'].unique()"
   ]
  },
  {
   "cell_type": "code",
   "execution_count": 117,
   "metadata": {},
   "outputs": [
    {
     "output_type": "display_data",
     "data": {
      "application/vnd.plotly.v1+json": {
       "config": {
        "plotlyServerURL": "https://plot.ly"
       },
       "data": [
        {
         "name": "White",
         "type": "scatter",
         "x": [
          1963,
          1983,
          1989,
          1992,
          1995,
          1998,
          2001,
          2004,
          2007,
          2010,
          2013,
          2016
         ],
         "xaxis": "x",
         "y": [
          140632.66040256922,
          324057.6,
          424082.4,
          373825.9,
          394522.3,
          497581.1,
          662337.1,
          715453.3,
          802519.8,
          715067.3,
          717069.1,
          919336.1
         ],
         "yaxis": "y"
        },
        {
         "name": "Black",
         "type": "scatter",
         "x": [
          1983,
          1989,
          1992,
          1995,
          1998,
          2001,
          2004,
          2007,
          2010,
          2013,
          2016
         ],
         "xaxis": "x",
         "y": [
          67269.6,
          78092.2,
          80779.48,
          68908.64,
          94972.45,
          97930.09,
          146127.9,
          156285.1,
          110569.1,
          102106,
          139523.1
         ],
         "yaxis": "y"
        },
        {
         "name": "Hispanic",
         "type": "scatter",
         "x": [
          1983,
          1989,
          1992,
          1995,
          1998,
          2001,
          2004,
          2007,
          2010,
          2013,
          2016
         ],
         "xaxis": "x",
         "y": [
          62562.48,
          84397.75,
          90751.79,
          96487.67,
          128518.9,
          119857.1,
          158725.1,
          215534,
          128038.7,
          111160.1,
          191727.3
         ],
         "yaxis": "y"
        },
        {
         "name": "Non-White",
         "type": "scatter",
         "x": [
          1963,
          1983
         ],
         "xaxis": "x",
         "y": [
          2467.4026645094395,
          13324.170541700874
         ],
         "yaxis": "y"
        },
        {
         "name": "White",
         "type": "scatter",
         "x": [
          1963,
          1983,
          1989,
          1992,
          1995,
          1998,
          2001,
          2004,
          2007,
          2010,
          2013,
          2016
         ],
         "xaxis": "x2",
         "y": [
          47654.940164751366,
          105369.1,
          134677.8,
          116891.7,
          120269.1,
          141614.4,
          166511.2,
          179283.1,
          198622.7,
          143416.4,
          146313.8,
          171000
         ],
         "yaxis": "y2"
        },
        {
         "name": "Black",
         "type": "scatter",
         "x": [
          1983,
          1989,
          1992,
          1995,
          1998,
          2001,
          2004,
          2007,
          2010,
          2013,
          2016
         ],
         "xaxis": "x2",
         "y": [
          13324.17,
          8023.198,
          16602.98,
          17100.77,
          22869.59,
          26148.63,
          25944.35,
          24318.31,
          17574.73,
          13486.85,
          17409
         ],
         "yaxis": "y2"
        },
        {
         "name": "Hispanic",
         "type": "scatter",
         "x": [
          1983,
          1989,
          1992,
          1995,
          1998,
          2001,
          2004,
          2007,
          2010,
          2013,
          2016
         ],
         "xaxis": "x2",
         "y": [
          9644.209,
          9329.301,
          11387.3,
          19575.05,
          14503.75,
          15851.76,
          19509.14,
          24434.12,
          18293.19,
          14229.24,
          20920
         ],
         "yaxis": "y2"
        },
        {
         "name": "Non-White",
         "type": "scatter",
         "x": [
          1963,
          1983
         ],
         "xaxis": "x2",
         "y": [
          2467.4026645094395,
          13324.170541700874
         ],
         "yaxis": "y2"
        }
       ],
       "layout": {
        "autosize": false,
        "height": 500,
        "template": {
         "data": {
          "bar": [
           {
            "error_x": {
             "color": "#2a3f5f"
            },
            "error_y": {
             "color": "#2a3f5f"
            },
            "marker": {
             "line": {
              "color": "#E5ECF6",
              "width": 0.5
             }
            },
            "type": "bar"
           }
          ],
          "barpolar": [
           {
            "marker": {
             "line": {
              "color": "#E5ECF6",
              "width": 0.5
             }
            },
            "type": "barpolar"
           }
          ],
          "carpet": [
           {
            "aaxis": {
             "endlinecolor": "#2a3f5f",
             "gridcolor": "white",
             "linecolor": "white",
             "minorgridcolor": "white",
             "startlinecolor": "#2a3f5f"
            },
            "baxis": {
             "endlinecolor": "#2a3f5f",
             "gridcolor": "white",
             "linecolor": "white",
             "minorgridcolor": "white",
             "startlinecolor": "#2a3f5f"
            },
            "type": "carpet"
           }
          ],
          "choropleth": [
           {
            "colorbar": {
             "outlinewidth": 0,
             "ticks": ""
            },
            "type": "choropleth"
           }
          ],
          "contour": [
           {
            "colorbar": {
             "outlinewidth": 0,
             "ticks": ""
            },
            "colorscale": [
             [
              0,
              "#0d0887"
             ],
             [
              0.1111111111111111,
              "#46039f"
             ],
             [
              0.2222222222222222,
              "#7201a8"
             ],
             [
              0.3333333333333333,
              "#9c179e"
             ],
             [
              0.4444444444444444,
              "#bd3786"
             ],
             [
              0.5555555555555556,
              "#d8576b"
             ],
             [
              0.6666666666666666,
              "#ed7953"
             ],
             [
              0.7777777777777778,
              "#fb9f3a"
             ],
             [
              0.8888888888888888,
              "#fdca26"
             ],
             [
              1,
              "#f0f921"
             ]
            ],
            "type": "contour"
           }
          ],
          "contourcarpet": [
           {
            "colorbar": {
             "outlinewidth": 0,
             "ticks": ""
            },
            "type": "contourcarpet"
           }
          ],
          "heatmap": [
           {
            "colorbar": {
             "outlinewidth": 0,
             "ticks": ""
            },
            "colorscale": [
             [
              0,
              "#0d0887"
             ],
             [
              0.1111111111111111,
              "#46039f"
             ],
             [
              0.2222222222222222,
              "#7201a8"
             ],
             [
              0.3333333333333333,
              "#9c179e"
             ],
             [
              0.4444444444444444,
              "#bd3786"
             ],
             [
              0.5555555555555556,
              "#d8576b"
             ],
             [
              0.6666666666666666,
              "#ed7953"
             ],
             [
              0.7777777777777778,
              "#fb9f3a"
             ],
             [
              0.8888888888888888,
              "#fdca26"
             ],
             [
              1,
              "#f0f921"
             ]
            ],
            "type": "heatmap"
           }
          ],
          "heatmapgl": [
           {
            "colorbar": {
             "outlinewidth": 0,
             "ticks": ""
            },
            "colorscale": [
             [
              0,
              "#0d0887"
             ],
             [
              0.1111111111111111,
              "#46039f"
             ],
             [
              0.2222222222222222,
              "#7201a8"
             ],
             [
              0.3333333333333333,
              "#9c179e"
             ],
             [
              0.4444444444444444,
              "#bd3786"
             ],
             [
              0.5555555555555556,
              "#d8576b"
             ],
             [
              0.6666666666666666,
              "#ed7953"
             ],
             [
              0.7777777777777778,
              "#fb9f3a"
             ],
             [
              0.8888888888888888,
              "#fdca26"
             ],
             [
              1,
              "#f0f921"
             ]
            ],
            "type": "heatmapgl"
           }
          ],
          "histogram": [
           {
            "marker": {
             "colorbar": {
              "outlinewidth": 0,
              "ticks": ""
             }
            },
            "type": "histogram"
           }
          ],
          "histogram2d": [
           {
            "colorbar": {
             "outlinewidth": 0,
             "ticks": ""
            },
            "colorscale": [
             [
              0,
              "#0d0887"
             ],
             [
              0.1111111111111111,
              "#46039f"
             ],
             [
              0.2222222222222222,
              "#7201a8"
             ],
             [
              0.3333333333333333,
              "#9c179e"
             ],
             [
              0.4444444444444444,
              "#bd3786"
             ],
             [
              0.5555555555555556,
              "#d8576b"
             ],
             [
              0.6666666666666666,
              "#ed7953"
             ],
             [
              0.7777777777777778,
              "#fb9f3a"
             ],
             [
              0.8888888888888888,
              "#fdca26"
             ],
             [
              1,
              "#f0f921"
             ]
            ],
            "type": "histogram2d"
           }
          ],
          "histogram2dcontour": [
           {
            "colorbar": {
             "outlinewidth": 0,
             "ticks": ""
            },
            "colorscale": [
             [
              0,
              "#0d0887"
             ],
             [
              0.1111111111111111,
              "#46039f"
             ],
             [
              0.2222222222222222,
              "#7201a8"
             ],
             [
              0.3333333333333333,
              "#9c179e"
             ],
             [
              0.4444444444444444,
              "#bd3786"
             ],
             [
              0.5555555555555556,
              "#d8576b"
             ],
             [
              0.6666666666666666,
              "#ed7953"
             ],
             [
              0.7777777777777778,
              "#fb9f3a"
             ],
             [
              0.8888888888888888,
              "#fdca26"
             ],
             [
              1,
              "#f0f921"
             ]
            ],
            "type": "histogram2dcontour"
           }
          ],
          "mesh3d": [
           {
            "colorbar": {
             "outlinewidth": 0,
             "ticks": ""
            },
            "type": "mesh3d"
           }
          ],
          "parcoords": [
           {
            "line": {
             "colorbar": {
              "outlinewidth": 0,
              "ticks": ""
             }
            },
            "type": "parcoords"
           }
          ],
          "pie": [
           {
            "automargin": true,
            "type": "pie"
           }
          ],
          "scatter": [
           {
            "marker": {
             "colorbar": {
              "outlinewidth": 0,
              "ticks": ""
             }
            },
            "type": "scatter"
           }
          ],
          "scatter3d": [
           {
            "line": {
             "colorbar": {
              "outlinewidth": 0,
              "ticks": ""
             }
            },
            "marker": {
             "colorbar": {
              "outlinewidth": 0,
              "ticks": ""
             }
            },
            "type": "scatter3d"
           }
          ],
          "scattercarpet": [
           {
            "marker": {
             "colorbar": {
              "outlinewidth": 0,
              "ticks": ""
             }
            },
            "type": "scattercarpet"
           }
          ],
          "scattergeo": [
           {
            "marker": {
             "colorbar": {
              "outlinewidth": 0,
              "ticks": ""
             }
            },
            "type": "scattergeo"
           }
          ],
          "scattergl": [
           {
            "marker": {
             "colorbar": {
              "outlinewidth": 0,
              "ticks": ""
             }
            },
            "type": "scattergl"
           }
          ],
          "scattermapbox": [
           {
            "marker": {
             "colorbar": {
              "outlinewidth": 0,
              "ticks": ""
             }
            },
            "type": "scattermapbox"
           }
          ],
          "scatterpolar": [
           {
            "marker": {
             "colorbar": {
              "outlinewidth": 0,
              "ticks": ""
             }
            },
            "type": "scatterpolar"
           }
          ],
          "scatterpolargl": [
           {
            "marker": {
             "colorbar": {
              "outlinewidth": 0,
              "ticks": ""
             }
            },
            "type": "scatterpolargl"
           }
          ],
          "scatterternary": [
           {
            "marker": {
             "colorbar": {
              "outlinewidth": 0,
              "ticks": ""
             }
            },
            "type": "scatterternary"
           }
          ],
          "surface": [
           {
            "colorbar": {
             "outlinewidth": 0,
             "ticks": ""
            },
            "colorscale": [
             [
              0,
              "#0d0887"
             ],
             [
              0.1111111111111111,
              "#46039f"
             ],
             [
              0.2222222222222222,
              "#7201a8"
             ],
             [
              0.3333333333333333,
              "#9c179e"
             ],
             [
              0.4444444444444444,
              "#bd3786"
             ],
             [
              0.5555555555555556,
              "#d8576b"
             ],
             [
              0.6666666666666666,
              "#ed7953"
             ],
             [
              0.7777777777777778,
              "#fb9f3a"
             ],
             [
              0.8888888888888888,
              "#fdca26"
             ],
             [
              1,
              "#f0f921"
             ]
            ],
            "type": "surface"
           }
          ],
          "table": [
           {
            "cells": {
             "fill": {
              "color": "#EBF0F8"
             },
             "line": {
              "color": "white"
             }
            },
            "header": {
             "fill": {
              "color": "#C8D4E3"
             },
             "line": {
              "color": "white"
             }
            },
            "type": "table"
           }
          ]
         },
         "layout": {
          "annotationdefaults": {
           "arrowcolor": "#2a3f5f",
           "arrowhead": 0,
           "arrowwidth": 1
          },
          "coloraxis": {
           "colorbar": {
            "outlinewidth": 0,
            "ticks": ""
           }
          },
          "colorscale": {
           "diverging": [
            [
             0,
             "#8e0152"
            ],
            [
             0.1,
             "#c51b7d"
            ],
            [
             0.2,
             "#de77ae"
            ],
            [
             0.3,
             "#f1b6da"
            ],
            [
             0.4,
             "#fde0ef"
            ],
            [
             0.5,
             "#f7f7f7"
            ],
            [
             0.6,
             "#e6f5d0"
            ],
            [
             0.7,
             "#b8e186"
            ],
            [
             0.8,
             "#7fbc41"
            ],
            [
             0.9,
             "#4d9221"
            ],
            [
             1,
             "#276419"
            ]
           ],
           "sequential": [
            [
             0,
             "#0d0887"
            ],
            [
             0.1111111111111111,
             "#46039f"
            ],
            [
             0.2222222222222222,
             "#7201a8"
            ],
            [
             0.3333333333333333,
             "#9c179e"
            ],
            [
             0.4444444444444444,
             "#bd3786"
            ],
            [
             0.5555555555555556,
             "#d8576b"
            ],
            [
             0.6666666666666666,
             "#ed7953"
            ],
            [
             0.7777777777777778,
             "#fb9f3a"
            ],
            [
             0.8888888888888888,
             "#fdca26"
            ],
            [
             1,
             "#f0f921"
            ]
           ],
           "sequentialminus": [
            [
             0,
             "#0d0887"
            ],
            [
             0.1111111111111111,
             "#46039f"
            ],
            [
             0.2222222222222222,
             "#7201a8"
            ],
            [
             0.3333333333333333,
             "#9c179e"
            ],
            [
             0.4444444444444444,
             "#bd3786"
            ],
            [
             0.5555555555555556,
             "#d8576b"
            ],
            [
             0.6666666666666666,
             "#ed7953"
            ],
            [
             0.7777777777777778,
             "#fb9f3a"
            ],
            [
             0.8888888888888888,
             "#fdca26"
            ],
            [
             1,
             "#f0f921"
            ]
           ]
          },
          "colorway": [
           "#636efa",
           "#EF553B",
           "#00cc96",
           "#ab63fa",
           "#FFA15A",
           "#19d3f3",
           "#FF6692",
           "#B6E880",
           "#FF97FF",
           "#FECB52"
          ],
          "font": {
           "color": "#2a3f5f"
          },
          "geo": {
           "bgcolor": "white",
           "lakecolor": "white",
           "landcolor": "#E5ECF6",
           "showlakes": true,
           "showland": true,
           "subunitcolor": "white"
          },
          "hoverlabel": {
           "align": "left"
          },
          "hovermode": "closest",
          "mapbox": {
           "style": "light"
          },
          "paper_bgcolor": "white",
          "plot_bgcolor": "#E5ECF6",
          "polar": {
           "angularaxis": {
            "gridcolor": "white",
            "linecolor": "white",
            "ticks": ""
           },
           "bgcolor": "#E5ECF6",
           "radialaxis": {
            "gridcolor": "white",
            "linecolor": "white",
            "ticks": ""
           }
          },
          "scene": {
           "xaxis": {
            "backgroundcolor": "#E5ECF6",
            "gridcolor": "white",
            "gridwidth": 2,
            "linecolor": "white",
            "showbackground": true,
            "ticks": "",
            "zerolinecolor": "white"
           },
           "yaxis": {
            "backgroundcolor": "#E5ECF6",
            "gridcolor": "white",
            "gridwidth": 2,
            "linecolor": "white",
            "showbackground": true,
            "ticks": "",
            "zerolinecolor": "white"
           },
           "zaxis": {
            "backgroundcolor": "#E5ECF6",
            "gridcolor": "white",
            "gridwidth": 2,
            "linecolor": "white",
            "showbackground": true,
            "ticks": "",
            "zerolinecolor": "white"
           }
          },
          "shapedefaults": {
           "line": {
            "color": "#2a3f5f"
           }
          },
          "ternary": {
           "aaxis": {
            "gridcolor": "white",
            "linecolor": "white",
            "ticks": ""
           },
           "baxis": {
            "gridcolor": "white",
            "linecolor": "white",
            "ticks": ""
           },
           "bgcolor": "#E5ECF6",
           "caxis": {
            "gridcolor": "white",
            "linecolor": "white",
            "ticks": ""
           }
          },
          "title": {
           "x": 0.05
          },
          "xaxis": {
           "automargin": true,
           "gridcolor": "white",
           "linecolor": "white",
           "ticks": "",
           "title": {
            "standoff": 15
           },
           "zerolinecolor": "white",
           "zerolinewidth": 2
          },
          "yaxis": {
           "automargin": true,
           "gridcolor": "white",
           "linecolor": "white",
           "ticks": "",
           "title": {
            "standoff": 15
           },
           "zerolinecolor": "white",
           "zerolinewidth": 2
          }
         }
        },
        "width": 1200,
        "xaxis": {
         "anchor": "y",
         "domain": [
          0,
          0.45
         ]
        },
        "xaxis2": {
         "anchor": "y2",
         "domain": [
          0.55,
          1
         ]
        },
        "yaxis": {
         "anchor": "x",
         "domain": [
          0,
          1
         ]
        },
        "yaxis2": {
         "anchor": "x2",
         "domain": [
          0,
          1
         ]
        }
       }
      },
      "text/html": "<div>\n        \n        \n            <div id=\"f5783d54-9e40-478e-8600-71656f611676\" class=\"plotly-graph-div\" style=\"height:500px; width:1200px;\"></div>\n            <script type=\"text/javascript\">\n                require([\"plotly\"], function(Plotly) {\n                    window.PLOTLYENV=window.PLOTLYENV || {};\n                    \n                if (document.getElementById(\"f5783d54-9e40-478e-8600-71656f611676\")) {\n                    Plotly.newPlot(\n                        'f5783d54-9e40-478e-8600-71656f611676',\n                        [{\"name\": \"White\", \"type\": \"scatter\", \"x\": [1963, 1983, 1989, 1992, 1995, 1998, 2001, 2004, 2007, 2010, 2013, 2016], \"xaxis\": \"x\", \"y\": [140632.66040256922, 324057.6, 424082.4, 373825.9, 394522.3, 497581.1, 662337.1, 715453.3, 802519.8, 715067.3, 717069.1, 919336.1], \"yaxis\": \"y\"}, {\"name\": \"Black\", \"type\": \"scatter\", \"x\": [1983, 1989, 1992, 1995, 1998, 2001, 2004, 2007, 2010, 2013, 2016], \"xaxis\": \"x\", \"y\": [67269.6, 78092.2, 80779.48, 68908.64, 94972.45, 97930.09, 146127.9, 156285.1, 110569.1, 102106.0, 139523.1], \"yaxis\": \"y\"}, {\"name\": \"Hispanic\", \"type\": \"scatter\", \"x\": [1983, 1989, 1992, 1995, 1998, 2001, 2004, 2007, 2010, 2013, 2016], \"xaxis\": \"x\", \"y\": [62562.48, 84397.75, 90751.79, 96487.67, 128518.9, 119857.1, 158725.1, 215534.0, 128038.7, 111160.1, 191727.3], \"yaxis\": \"y\"}, {\"name\": \"Non-White\", \"type\": \"scatter\", \"x\": [1963, 1983], \"xaxis\": \"x\", \"y\": [2467.4026645094395, 13324.170541700874], \"yaxis\": \"y\"}, {\"name\": \"White\", \"type\": \"scatter\", \"x\": [1963, 1983, 1989, 1992, 1995, 1998, 2001, 2004, 2007, 2010, 2013, 2016], \"xaxis\": \"x2\", \"y\": [47654.940164751366, 105369.1, 134677.8, 116891.7, 120269.1, 141614.4, 166511.2, 179283.1, 198622.7, 143416.4, 146313.8, 171000.0], \"yaxis\": \"y2\"}, {\"name\": \"Black\", \"type\": \"scatter\", \"x\": [1983, 1989, 1992, 1995, 1998, 2001, 2004, 2007, 2010, 2013, 2016], \"xaxis\": \"x2\", \"y\": [13324.17, 8023.198, 16602.98, 17100.77, 22869.59, 26148.63, 25944.35, 24318.31, 17574.73, 13486.85, 17409.0], \"yaxis\": \"y2\"}, {\"name\": \"Hispanic\", \"type\": \"scatter\", \"x\": [1983, 1989, 1992, 1995, 1998, 2001, 2004, 2007, 2010, 2013, 2016], \"xaxis\": \"x2\", \"y\": [9644.209, 9329.301, 11387.3, 19575.05, 14503.75, 15851.76, 19509.14, 24434.12, 18293.19, 14229.24, 20920.0], \"yaxis\": \"y2\"}, {\"name\": \"Non-White\", \"type\": \"scatter\", \"x\": [1963, 1983], \"xaxis\": \"x2\", \"y\": [2467.4026645094395, 13324.170541700874], \"yaxis\": \"y2\"}],\n                        {\"autosize\": false, \"height\": 500, \"template\": {\"data\": {\"bar\": [{\"error_x\": {\"color\": \"#2a3f5f\"}, \"error_y\": {\"color\": \"#2a3f5f\"}, \"marker\": {\"line\": {\"color\": \"#E5ECF6\", \"width\": 0.5}}, \"type\": \"bar\"}], \"barpolar\": [{\"marker\": {\"line\": {\"color\": \"#E5ECF6\", \"width\": 0.5}}, \"type\": \"barpolar\"}], \"carpet\": [{\"aaxis\": {\"endlinecolor\": \"#2a3f5f\", \"gridcolor\": \"white\", \"linecolor\": \"white\", \"minorgridcolor\": \"white\", \"startlinecolor\": \"#2a3f5f\"}, \"baxis\": {\"endlinecolor\": \"#2a3f5f\", \"gridcolor\": \"white\", \"linecolor\": \"white\", \"minorgridcolor\": \"white\", \"startlinecolor\": \"#2a3f5f\"}, \"type\": \"carpet\"}], \"choropleth\": [{\"colorbar\": {\"outlinewidth\": 0, \"ticks\": \"\"}, \"type\": \"choropleth\"}], \"contour\": [{\"colorbar\": {\"outlinewidth\": 0, \"ticks\": \"\"}, \"colorscale\": [[0.0, \"#0d0887\"], [0.1111111111111111, \"#46039f\"], [0.2222222222222222, \"#7201a8\"], [0.3333333333333333, \"#9c179e\"], [0.4444444444444444, \"#bd3786\"], [0.5555555555555556, \"#d8576b\"], [0.6666666666666666, \"#ed7953\"], [0.7777777777777778, \"#fb9f3a\"], [0.8888888888888888, \"#fdca26\"], [1.0, \"#f0f921\"]], \"type\": \"contour\"}], \"contourcarpet\": [{\"colorbar\": {\"outlinewidth\": 0, \"ticks\": \"\"}, \"type\": \"contourcarpet\"}], \"heatmap\": [{\"colorbar\": {\"outlinewidth\": 0, \"ticks\": \"\"}, \"colorscale\": [[0.0, \"#0d0887\"], [0.1111111111111111, \"#46039f\"], [0.2222222222222222, \"#7201a8\"], [0.3333333333333333, \"#9c179e\"], [0.4444444444444444, \"#bd3786\"], [0.5555555555555556, \"#d8576b\"], [0.6666666666666666, \"#ed7953\"], [0.7777777777777778, \"#fb9f3a\"], [0.8888888888888888, \"#fdca26\"], [1.0, \"#f0f921\"]], \"type\": \"heatmap\"}], \"heatmapgl\": [{\"colorbar\": {\"outlinewidth\": 0, \"ticks\": \"\"}, \"colorscale\": [[0.0, \"#0d0887\"], [0.1111111111111111, \"#46039f\"], [0.2222222222222222, \"#7201a8\"], [0.3333333333333333, \"#9c179e\"], [0.4444444444444444, \"#bd3786\"], [0.5555555555555556, \"#d8576b\"], [0.6666666666666666, \"#ed7953\"], [0.7777777777777778, \"#fb9f3a\"], [0.8888888888888888, \"#fdca26\"], [1.0, \"#f0f921\"]], \"type\": \"heatmapgl\"}], \"histogram\": [{\"marker\": {\"colorbar\": {\"outlinewidth\": 0, \"ticks\": \"\"}}, \"type\": \"histogram\"}], \"histogram2d\": [{\"colorbar\": {\"outlinewidth\": 0, \"ticks\": \"\"}, \"colorscale\": [[0.0, \"#0d0887\"], [0.1111111111111111, \"#46039f\"], [0.2222222222222222, \"#7201a8\"], [0.3333333333333333, \"#9c179e\"], [0.4444444444444444, \"#bd3786\"], [0.5555555555555556, \"#d8576b\"], [0.6666666666666666, \"#ed7953\"], [0.7777777777777778, \"#fb9f3a\"], [0.8888888888888888, \"#fdca26\"], [1.0, \"#f0f921\"]], \"type\": \"histogram2d\"}], \"histogram2dcontour\": [{\"colorbar\": {\"outlinewidth\": 0, \"ticks\": \"\"}, \"colorscale\": [[0.0, \"#0d0887\"], [0.1111111111111111, \"#46039f\"], [0.2222222222222222, \"#7201a8\"], [0.3333333333333333, \"#9c179e\"], [0.4444444444444444, \"#bd3786\"], [0.5555555555555556, \"#d8576b\"], [0.6666666666666666, \"#ed7953\"], [0.7777777777777778, \"#fb9f3a\"], [0.8888888888888888, \"#fdca26\"], [1.0, \"#f0f921\"]], \"type\": \"histogram2dcontour\"}], \"mesh3d\": [{\"colorbar\": {\"outlinewidth\": 0, \"ticks\": \"\"}, \"type\": \"mesh3d\"}], \"parcoords\": [{\"line\": {\"colorbar\": {\"outlinewidth\": 0, \"ticks\": \"\"}}, \"type\": \"parcoords\"}], \"pie\": [{\"automargin\": true, \"type\": \"pie\"}], \"scatter\": [{\"marker\": {\"colorbar\": {\"outlinewidth\": 0, \"ticks\": \"\"}}, \"type\": \"scatter\"}], \"scatter3d\": [{\"line\": {\"colorbar\": {\"outlinewidth\": 0, \"ticks\": \"\"}}, \"marker\": {\"colorbar\": {\"outlinewidth\": 0, \"ticks\": \"\"}}, \"type\": \"scatter3d\"}], \"scattercarpet\": [{\"marker\": {\"colorbar\": {\"outlinewidth\": 0, \"ticks\": \"\"}}, \"type\": \"scattercarpet\"}], \"scattergeo\": [{\"marker\": {\"colorbar\": {\"outlinewidth\": 0, \"ticks\": \"\"}}, \"type\": \"scattergeo\"}], \"scattergl\": [{\"marker\": {\"colorbar\": {\"outlinewidth\": 0, \"ticks\": \"\"}}, \"type\": \"scattergl\"}], \"scattermapbox\": [{\"marker\": {\"colorbar\": {\"outlinewidth\": 0, \"ticks\": \"\"}}, \"type\": \"scattermapbox\"}], \"scatterpolar\": [{\"marker\": {\"colorbar\": {\"outlinewidth\": 0, \"ticks\": \"\"}}, \"type\": \"scatterpolar\"}], \"scatterpolargl\": [{\"marker\": {\"colorbar\": {\"outlinewidth\": 0, \"ticks\": \"\"}}, \"type\": \"scatterpolargl\"}], \"scatterternary\": [{\"marker\": {\"colorbar\": {\"outlinewidth\": 0, \"ticks\": \"\"}}, \"type\": \"scatterternary\"}], \"surface\": [{\"colorbar\": {\"outlinewidth\": 0, \"ticks\": \"\"}, \"colorscale\": [[0.0, \"#0d0887\"], [0.1111111111111111, \"#46039f\"], [0.2222222222222222, \"#7201a8\"], [0.3333333333333333, \"#9c179e\"], [0.4444444444444444, \"#bd3786\"], [0.5555555555555556, \"#d8576b\"], [0.6666666666666666, \"#ed7953\"], [0.7777777777777778, \"#fb9f3a\"], [0.8888888888888888, \"#fdca26\"], [1.0, \"#f0f921\"]], \"type\": \"surface\"}], \"table\": [{\"cells\": {\"fill\": {\"color\": \"#EBF0F8\"}, \"line\": {\"color\": \"white\"}}, \"header\": {\"fill\": {\"color\": \"#C8D4E3\"}, \"line\": {\"color\": \"white\"}}, \"type\": \"table\"}]}, \"layout\": {\"annotationdefaults\": {\"arrowcolor\": \"#2a3f5f\", \"arrowhead\": 0, \"arrowwidth\": 1}, \"coloraxis\": {\"colorbar\": {\"outlinewidth\": 0, \"ticks\": \"\"}}, \"colorscale\": {\"diverging\": [[0, \"#8e0152\"], [0.1, \"#c51b7d\"], [0.2, \"#de77ae\"], [0.3, \"#f1b6da\"], [0.4, \"#fde0ef\"], [0.5, \"#f7f7f7\"], [0.6, \"#e6f5d0\"], [0.7, \"#b8e186\"], [0.8, \"#7fbc41\"], [0.9, \"#4d9221\"], [1, \"#276419\"]], \"sequential\": [[0.0, \"#0d0887\"], [0.1111111111111111, \"#46039f\"], [0.2222222222222222, \"#7201a8\"], [0.3333333333333333, \"#9c179e\"], [0.4444444444444444, \"#bd3786\"], [0.5555555555555556, \"#d8576b\"], [0.6666666666666666, \"#ed7953\"], [0.7777777777777778, \"#fb9f3a\"], [0.8888888888888888, \"#fdca26\"], [1.0, \"#f0f921\"]], \"sequentialminus\": [[0.0, \"#0d0887\"], [0.1111111111111111, \"#46039f\"], [0.2222222222222222, \"#7201a8\"], [0.3333333333333333, \"#9c179e\"], [0.4444444444444444, \"#bd3786\"], [0.5555555555555556, \"#d8576b\"], [0.6666666666666666, \"#ed7953\"], [0.7777777777777778, \"#fb9f3a\"], [0.8888888888888888, \"#fdca26\"], [1.0, \"#f0f921\"]]}, \"colorway\": [\"#636efa\", \"#EF553B\", \"#00cc96\", \"#ab63fa\", \"#FFA15A\", \"#19d3f3\", \"#FF6692\", \"#B6E880\", \"#FF97FF\", \"#FECB52\"], \"font\": {\"color\": \"#2a3f5f\"}, \"geo\": {\"bgcolor\": \"white\", \"lakecolor\": \"white\", \"landcolor\": \"#E5ECF6\", \"showlakes\": true, \"showland\": true, \"subunitcolor\": \"white\"}, \"hoverlabel\": {\"align\": \"left\"}, \"hovermode\": \"closest\", \"mapbox\": {\"style\": \"light\"}, \"paper_bgcolor\": \"white\", \"plot_bgcolor\": \"#E5ECF6\", \"polar\": {\"angularaxis\": {\"gridcolor\": \"white\", \"linecolor\": \"white\", \"ticks\": \"\"}, \"bgcolor\": \"#E5ECF6\", \"radialaxis\": {\"gridcolor\": \"white\", \"linecolor\": \"white\", \"ticks\": \"\"}}, \"scene\": {\"xaxis\": {\"backgroundcolor\": \"#E5ECF6\", \"gridcolor\": \"white\", \"gridwidth\": 2, \"linecolor\": \"white\", \"showbackground\": true, \"ticks\": \"\", \"zerolinecolor\": \"white\"}, \"yaxis\": {\"backgroundcolor\": \"#E5ECF6\", \"gridcolor\": \"white\", \"gridwidth\": 2, \"linecolor\": \"white\", \"showbackground\": true, \"ticks\": \"\", \"zerolinecolor\": \"white\"}, \"zaxis\": {\"backgroundcolor\": \"#E5ECF6\", \"gridcolor\": \"white\", \"gridwidth\": 2, \"linecolor\": \"white\", \"showbackground\": true, \"ticks\": \"\", \"zerolinecolor\": \"white\"}}, \"shapedefaults\": {\"line\": {\"color\": \"#2a3f5f\"}}, \"ternary\": {\"aaxis\": {\"gridcolor\": \"white\", \"linecolor\": \"white\", \"ticks\": \"\"}, \"baxis\": {\"gridcolor\": \"white\", \"linecolor\": \"white\", \"ticks\": \"\"}, \"bgcolor\": \"#E5ECF6\", \"caxis\": {\"gridcolor\": \"white\", \"linecolor\": \"white\", \"ticks\": \"\"}}, \"title\": {\"x\": 0.05}, \"xaxis\": {\"automargin\": true, \"gridcolor\": \"white\", \"linecolor\": \"white\", \"ticks\": \"\", \"title\": {\"standoff\": 15}, \"zerolinecolor\": \"white\", \"zerolinewidth\": 2}, \"yaxis\": {\"automargin\": true, \"gridcolor\": \"white\", \"linecolor\": \"white\", \"ticks\": \"\", \"title\": {\"standoff\": 15}, \"zerolinecolor\": \"white\", \"zerolinewidth\": 2}}}, \"width\": 1200, \"xaxis\": {\"anchor\": \"y\", \"domain\": [0.0, 0.45]}, \"xaxis2\": {\"anchor\": \"y2\", \"domain\": [0.55, 1.0]}, \"yaxis\": {\"anchor\": \"x\", \"domain\": [0.0, 1.0]}, \"yaxis2\": {\"anchor\": \"x2\", \"domain\": [0.0, 1.0]}},\n                        {\"responsive\": true}\n                    ).then(function(){\n                            \nvar gd = document.getElementById('f5783d54-9e40-478e-8600-71656f611676');\nvar x = new MutationObserver(function (mutations, observer) {{\n        var display = window.getComputedStyle(gd).display;\n        if (!display || display === 'none') {{\n            console.log([gd, 'removed!']);\n            Plotly.purge(gd);\n            observer.disconnect();\n        }}\n}});\n\n// Listen for the removal of the full notebook cells\nvar notebookContainer = gd.closest('#notebook-container');\nif (notebookContainer) {{\n    x.observe(notebookContainer, {childList: true});\n}}\n\n// Listen for the clearing of the current output cell\nvar outputEl = gd.closest('.output');\nif (outputEl) {{\n    x.observe(outputEl, {childList: true});\n}}\n\n                        })\n                };\n                });\n            </script>\n        </div>"
     },
     "metadata": {}
    }
   ],
   "source": [
    "fig = make_subplots(rows=1, cols=2)\n",
    "\n",
    "fig.update_layout(\n",
    "    autosize=False,\n",
    "    width=1200,\n",
    "    height=500,\n",
    ")\n",
    "\n",
    "fig.add_trace(go.Scatter(x=race_wealth_white[race_wealth_white['type']=='Median']['year'], y = race_wealth_white[race_wealth_white['type']=='Average']['wealth_family'], name = \"White\"), row=1,col=1)\n",
    "fig.add_trace(go.Scatter(x=race_wealth_black[race_wealth_black['type']=='Median']['year'], y = race_wealth_black[race_wealth_black['type']=='Average']['wealth_family'], name = \"Black\"), row=1,col=1)\n",
    "fig.add_trace(go.Scatter(x=race_wealth_hispanic[race_wealth_hispanic['type']=='Median']['year'], y = race_wealth_hispanic[race_wealth_hispanic['type']=='Average']['wealth_family'], name = \"Hispanic\"), row=1,col=1)\n",
    "fig.add_trace(go.Scatter(x=race_wealth_non_white[race_wealth_non_white['type']=='Median']['year'], y = race_wealth_non_white[race_wealth_non_white['type']=='Median']['wealth_family'], name = \"Non-White\"), row=1,col=1)\n",
    "\n",
    "\n",
    "fig.add_trace(go.Scatter(x=race_wealth_white[race_wealth_white['type']=='Median']['year'], y = race_wealth_white[race_wealth_white['type']=='Median']['wealth_family'], name = \"White\"), row=1,col=2)\n",
    "fig.add_trace(go.Scatter(x=race_wealth_black[race_wealth_black['type']=='Median']['year'], y = race_wealth_black[race_wealth_black['type']=='Median']['wealth_family'], name = \"Black\"), row=1,col=2)\n",
    "fig.add_trace(go.Scatter(x=race_wealth_hispanic[race_wealth_hispanic['type']=='Median']['year'], y = race_wealth_hispanic[race_wealth_hispanic['type']=='Median']['wealth_family'], name = \"Hispanic\"), row=1,col=2)\n",
    "fig.add_trace(go.Scatter(x=race_wealth_non_white[race_wealth_non_white['type']=='Median']['year'], y = race_wealth_non_white[race_wealth_non_white['type']=='Median']['wealth_family'], name = \"Non-White\"), row=1,col=2)\n",
    "\n",
    "\n",
    "fig.show()"
   ]
  },
  {
   "source": [
    "White families on avg have almost 8-10x the amount of wealth as families of color do. \n",
    "\n",
    "This wealth gap has INCREASED over the years which is a very concerning trend. I suspect when we dig into the income percentile data we will see this largly caused by the explotion of wealth from the top 10% being mostly white\n",
    "\n",
    "Similar story with the median about 8-10x more wealth being held by white families then families of color. "
   ],
   "cell_type": "markdown",
   "metadata": {}
  },
  {
   "source": [],
   "cell_type": "markdown",
   "metadata": {}
  },
  {
   "cell_type": "code",
   "execution_count": 121,
   "metadata": {},
   "outputs": [],
   "source": [
    "retirement = retirement.sort_values(by=['year'])\n",
    "\n",
    "retirement_white = retirement[retirement['race']=='White']\n",
    "retirement_black = retirement[retirement['race']=='Black']\n",
    "retirement_hispanic = retirement[retirement['race']=='Hispanic']\n"
   ]
  },
  {
   "cell_type": "code",
   "execution_count": 126,
   "metadata": {},
   "outputs": [
    {
     "output_type": "display_data",
     "data": {
      "application/vnd.plotly.v1+json": {
       "config": {
        "plotlyServerURL": "https://plot.ly"
       },
       "data": [
        {
         "name": "white",
         "type": "scatter",
         "x": [
          1989,
          1992,
          1995,
          1998,
          2001,
          2004,
          2007,
          2010,
          2013,
          2016
         ],
         "y": [
          32649.43,
          36637.76,
          47702.19,
          64303.56,
          91828.2,
          98172.39,
          114264.6,
          124496.6,
          138557.5,
          157884.2
         ]
        },
        {
         "name": "black",
         "type": "scatter",
         "x": [
          1989,
          1992,
          1995,
          1998,
          2001,
          2004,
          2007,
          2010,
          2013,
          2016
         ],
         "y": [
          5954.398,
          7798.196999999999,
          9930.388,
          16252.23,
          17565.83,
          25085.81,
          29364.69,
          19290.86,
          20440.14,
          25211.85
         ]
        },
        {
         "name": "hispanic",
         "type": "scatter",
         "x": [
          1989,
          1992,
          1995,
          1998,
          2001,
          2004,
          2007,
          2010,
          2013,
          2016
         ],
         "y": [
          7121.722,
          5248.894,
          19817.64,
          14610.48,
          17314.47,
          12732.21,
          23178.79,
          20058.13,
          10264.48,
          28581.12
         ]
        }
       ],
       "layout": {
        "template": {
         "data": {
          "bar": [
           {
            "error_x": {
             "color": "#2a3f5f"
            },
            "error_y": {
             "color": "#2a3f5f"
            },
            "marker": {
             "line": {
              "color": "#E5ECF6",
              "width": 0.5
             }
            },
            "type": "bar"
           }
          ],
          "barpolar": [
           {
            "marker": {
             "line": {
              "color": "#E5ECF6",
              "width": 0.5
             }
            },
            "type": "barpolar"
           }
          ],
          "carpet": [
           {
            "aaxis": {
             "endlinecolor": "#2a3f5f",
             "gridcolor": "white",
             "linecolor": "white",
             "minorgridcolor": "white",
             "startlinecolor": "#2a3f5f"
            },
            "baxis": {
             "endlinecolor": "#2a3f5f",
             "gridcolor": "white",
             "linecolor": "white",
             "minorgridcolor": "white",
             "startlinecolor": "#2a3f5f"
            },
            "type": "carpet"
           }
          ],
          "choropleth": [
           {
            "colorbar": {
             "outlinewidth": 0,
             "ticks": ""
            },
            "type": "choropleth"
           }
          ],
          "contour": [
           {
            "colorbar": {
             "outlinewidth": 0,
             "ticks": ""
            },
            "colorscale": [
             [
              0,
              "#0d0887"
             ],
             [
              0.1111111111111111,
              "#46039f"
             ],
             [
              0.2222222222222222,
              "#7201a8"
             ],
             [
              0.3333333333333333,
              "#9c179e"
             ],
             [
              0.4444444444444444,
              "#bd3786"
             ],
             [
              0.5555555555555556,
              "#d8576b"
             ],
             [
              0.6666666666666666,
              "#ed7953"
             ],
             [
              0.7777777777777778,
              "#fb9f3a"
             ],
             [
              0.8888888888888888,
              "#fdca26"
             ],
             [
              1,
              "#f0f921"
             ]
            ],
            "type": "contour"
           }
          ],
          "contourcarpet": [
           {
            "colorbar": {
             "outlinewidth": 0,
             "ticks": ""
            },
            "type": "contourcarpet"
           }
          ],
          "heatmap": [
           {
            "colorbar": {
             "outlinewidth": 0,
             "ticks": ""
            },
            "colorscale": [
             [
              0,
              "#0d0887"
             ],
             [
              0.1111111111111111,
              "#46039f"
             ],
             [
              0.2222222222222222,
              "#7201a8"
             ],
             [
              0.3333333333333333,
              "#9c179e"
             ],
             [
              0.4444444444444444,
              "#bd3786"
             ],
             [
              0.5555555555555556,
              "#d8576b"
             ],
             [
              0.6666666666666666,
              "#ed7953"
             ],
             [
              0.7777777777777778,
              "#fb9f3a"
             ],
             [
              0.8888888888888888,
              "#fdca26"
             ],
             [
              1,
              "#f0f921"
             ]
            ],
            "type": "heatmap"
           }
          ],
          "heatmapgl": [
           {
            "colorbar": {
             "outlinewidth": 0,
             "ticks": ""
            },
            "colorscale": [
             [
              0,
              "#0d0887"
             ],
             [
              0.1111111111111111,
              "#46039f"
             ],
             [
              0.2222222222222222,
              "#7201a8"
             ],
             [
              0.3333333333333333,
              "#9c179e"
             ],
             [
              0.4444444444444444,
              "#bd3786"
             ],
             [
              0.5555555555555556,
              "#d8576b"
             ],
             [
              0.6666666666666666,
              "#ed7953"
             ],
             [
              0.7777777777777778,
              "#fb9f3a"
             ],
             [
              0.8888888888888888,
              "#fdca26"
             ],
             [
              1,
              "#f0f921"
             ]
            ],
            "type": "heatmapgl"
           }
          ],
          "histogram": [
           {
            "marker": {
             "colorbar": {
              "outlinewidth": 0,
              "ticks": ""
             }
            },
            "type": "histogram"
           }
          ],
          "histogram2d": [
           {
            "colorbar": {
             "outlinewidth": 0,
             "ticks": ""
            },
            "colorscale": [
             [
              0,
              "#0d0887"
             ],
             [
              0.1111111111111111,
              "#46039f"
             ],
             [
              0.2222222222222222,
              "#7201a8"
             ],
             [
              0.3333333333333333,
              "#9c179e"
             ],
             [
              0.4444444444444444,
              "#bd3786"
             ],
             [
              0.5555555555555556,
              "#d8576b"
             ],
             [
              0.6666666666666666,
              "#ed7953"
             ],
             [
              0.7777777777777778,
              "#fb9f3a"
             ],
             [
              0.8888888888888888,
              "#fdca26"
             ],
             [
              1,
              "#f0f921"
             ]
            ],
            "type": "histogram2d"
           }
          ],
          "histogram2dcontour": [
           {
            "colorbar": {
             "outlinewidth": 0,
             "ticks": ""
            },
            "colorscale": [
             [
              0,
              "#0d0887"
             ],
             [
              0.1111111111111111,
              "#46039f"
             ],
             [
              0.2222222222222222,
              "#7201a8"
             ],
             [
              0.3333333333333333,
              "#9c179e"
             ],
             [
              0.4444444444444444,
              "#bd3786"
             ],
             [
              0.5555555555555556,
              "#d8576b"
             ],
             [
              0.6666666666666666,
              "#ed7953"
             ],
             [
              0.7777777777777778,
              "#fb9f3a"
             ],
             [
              0.8888888888888888,
              "#fdca26"
             ],
             [
              1,
              "#f0f921"
             ]
            ],
            "type": "histogram2dcontour"
           }
          ],
          "mesh3d": [
           {
            "colorbar": {
             "outlinewidth": 0,
             "ticks": ""
            },
            "type": "mesh3d"
           }
          ],
          "parcoords": [
           {
            "line": {
             "colorbar": {
              "outlinewidth": 0,
              "ticks": ""
             }
            },
            "type": "parcoords"
           }
          ],
          "pie": [
           {
            "automargin": true,
            "type": "pie"
           }
          ],
          "scatter": [
           {
            "marker": {
             "colorbar": {
              "outlinewidth": 0,
              "ticks": ""
             }
            },
            "type": "scatter"
           }
          ],
          "scatter3d": [
           {
            "line": {
             "colorbar": {
              "outlinewidth": 0,
              "ticks": ""
             }
            },
            "marker": {
             "colorbar": {
              "outlinewidth": 0,
              "ticks": ""
             }
            },
            "type": "scatter3d"
           }
          ],
          "scattercarpet": [
           {
            "marker": {
             "colorbar": {
              "outlinewidth": 0,
              "ticks": ""
             }
            },
            "type": "scattercarpet"
           }
          ],
          "scattergeo": [
           {
            "marker": {
             "colorbar": {
              "outlinewidth": 0,
              "ticks": ""
             }
            },
            "type": "scattergeo"
           }
          ],
          "scattergl": [
           {
            "marker": {
             "colorbar": {
              "outlinewidth": 0,
              "ticks": ""
             }
            },
            "type": "scattergl"
           }
          ],
          "scattermapbox": [
           {
            "marker": {
             "colorbar": {
              "outlinewidth": 0,
              "ticks": ""
             }
            },
            "type": "scattermapbox"
           }
          ],
          "scatterpolar": [
           {
            "marker": {
             "colorbar": {
              "outlinewidth": 0,
              "ticks": ""
             }
            },
            "type": "scatterpolar"
           }
          ],
          "scatterpolargl": [
           {
            "marker": {
             "colorbar": {
              "outlinewidth": 0,
              "ticks": ""
             }
            },
            "type": "scatterpolargl"
           }
          ],
          "scatterternary": [
           {
            "marker": {
             "colorbar": {
              "outlinewidth": 0,
              "ticks": ""
             }
            },
            "type": "scatterternary"
           }
          ],
          "surface": [
           {
            "colorbar": {
             "outlinewidth": 0,
             "ticks": ""
            },
            "colorscale": [
             [
              0,
              "#0d0887"
             ],
             [
              0.1111111111111111,
              "#46039f"
             ],
             [
              0.2222222222222222,
              "#7201a8"
             ],
             [
              0.3333333333333333,
              "#9c179e"
             ],
             [
              0.4444444444444444,
              "#bd3786"
             ],
             [
              0.5555555555555556,
              "#d8576b"
             ],
             [
              0.6666666666666666,
              "#ed7953"
             ],
             [
              0.7777777777777778,
              "#fb9f3a"
             ],
             [
              0.8888888888888888,
              "#fdca26"
             ],
             [
              1,
              "#f0f921"
             ]
            ],
            "type": "surface"
           }
          ],
          "table": [
           {
            "cells": {
             "fill": {
              "color": "#EBF0F8"
             },
             "line": {
              "color": "white"
             }
            },
            "header": {
             "fill": {
              "color": "#C8D4E3"
             },
             "line": {
              "color": "white"
             }
            },
            "type": "table"
           }
          ]
         },
         "layout": {
          "annotationdefaults": {
           "arrowcolor": "#2a3f5f",
           "arrowhead": 0,
           "arrowwidth": 1
          },
          "coloraxis": {
           "colorbar": {
            "outlinewidth": 0,
            "ticks": ""
           }
          },
          "colorscale": {
           "diverging": [
            [
             0,
             "#8e0152"
            ],
            [
             0.1,
             "#c51b7d"
            ],
            [
             0.2,
             "#de77ae"
            ],
            [
             0.3,
             "#f1b6da"
            ],
            [
             0.4,
             "#fde0ef"
            ],
            [
             0.5,
             "#f7f7f7"
            ],
            [
             0.6,
             "#e6f5d0"
            ],
            [
             0.7,
             "#b8e186"
            ],
            [
             0.8,
             "#7fbc41"
            ],
            [
             0.9,
             "#4d9221"
            ],
            [
             1,
             "#276419"
            ]
           ],
           "sequential": [
            [
             0,
             "#0d0887"
            ],
            [
             0.1111111111111111,
             "#46039f"
            ],
            [
             0.2222222222222222,
             "#7201a8"
            ],
            [
             0.3333333333333333,
             "#9c179e"
            ],
            [
             0.4444444444444444,
             "#bd3786"
            ],
            [
             0.5555555555555556,
             "#d8576b"
            ],
            [
             0.6666666666666666,
             "#ed7953"
            ],
            [
             0.7777777777777778,
             "#fb9f3a"
            ],
            [
             0.8888888888888888,
             "#fdca26"
            ],
            [
             1,
             "#f0f921"
            ]
           ],
           "sequentialminus": [
            [
             0,
             "#0d0887"
            ],
            [
             0.1111111111111111,
             "#46039f"
            ],
            [
             0.2222222222222222,
             "#7201a8"
            ],
            [
             0.3333333333333333,
             "#9c179e"
            ],
            [
             0.4444444444444444,
             "#bd3786"
            ],
            [
             0.5555555555555556,
             "#d8576b"
            ],
            [
             0.6666666666666666,
             "#ed7953"
            ],
            [
             0.7777777777777778,
             "#fb9f3a"
            ],
            [
             0.8888888888888888,
             "#fdca26"
            ],
            [
             1,
             "#f0f921"
            ]
           ]
          },
          "colorway": [
           "#636efa",
           "#EF553B",
           "#00cc96",
           "#ab63fa",
           "#FFA15A",
           "#19d3f3",
           "#FF6692",
           "#B6E880",
           "#FF97FF",
           "#FECB52"
          ],
          "font": {
           "color": "#2a3f5f"
          },
          "geo": {
           "bgcolor": "white",
           "lakecolor": "white",
           "landcolor": "#E5ECF6",
           "showlakes": true,
           "showland": true,
           "subunitcolor": "white"
          },
          "hoverlabel": {
           "align": "left"
          },
          "hovermode": "closest",
          "mapbox": {
           "style": "light"
          },
          "paper_bgcolor": "white",
          "plot_bgcolor": "#E5ECF6",
          "polar": {
           "angularaxis": {
            "gridcolor": "white",
            "linecolor": "white",
            "ticks": ""
           },
           "bgcolor": "#E5ECF6",
           "radialaxis": {
            "gridcolor": "white",
            "linecolor": "white",
            "ticks": ""
           }
          },
          "scene": {
           "xaxis": {
            "backgroundcolor": "#E5ECF6",
            "gridcolor": "white",
            "gridwidth": 2,
            "linecolor": "white",
            "showbackground": true,
            "ticks": "",
            "zerolinecolor": "white"
           },
           "yaxis": {
            "backgroundcolor": "#E5ECF6",
            "gridcolor": "white",
            "gridwidth": 2,
            "linecolor": "white",
            "showbackground": true,
            "ticks": "",
            "zerolinecolor": "white"
           },
           "zaxis": {
            "backgroundcolor": "#E5ECF6",
            "gridcolor": "white",
            "gridwidth": 2,
            "linecolor": "white",
            "showbackground": true,
            "ticks": "",
            "zerolinecolor": "white"
           }
          },
          "shapedefaults": {
           "line": {
            "color": "#2a3f5f"
           }
          },
          "ternary": {
           "aaxis": {
            "gridcolor": "white",
            "linecolor": "white",
            "ticks": ""
           },
           "baxis": {
            "gridcolor": "white",
            "linecolor": "white",
            "ticks": ""
           },
           "bgcolor": "#E5ECF6",
           "caxis": {
            "gridcolor": "white",
            "linecolor": "white",
            "ticks": ""
           }
          },
          "title": {
           "x": 0.05
          },
          "xaxis": {
           "automargin": true,
           "gridcolor": "white",
           "linecolor": "white",
           "ticks": "",
           "title": {
            "standoff": 15
           },
           "zerolinecolor": "white",
           "zerolinewidth": 2
          },
          "yaxis": {
           "automargin": true,
           "gridcolor": "white",
           "linecolor": "white",
           "ticks": "",
           "title": {
            "standoff": 15
           },
           "zerolinecolor": "white",
           "zerolinewidth": 2
          }
         }
        }
       }
      },
      "text/html": "<div>\n        \n        \n            <div id=\"c4062c80-dd5f-4465-b19f-0f6a17163bbd\" class=\"plotly-graph-div\" style=\"height:525px; width:100%;\"></div>\n            <script type=\"text/javascript\">\n                require([\"plotly\"], function(Plotly) {\n                    window.PLOTLYENV=window.PLOTLYENV || {};\n                    \n                if (document.getElementById(\"c4062c80-dd5f-4465-b19f-0f6a17163bbd\")) {\n                    Plotly.newPlot(\n                        'c4062c80-dd5f-4465-b19f-0f6a17163bbd',\n                        [{\"name\": \"white\", \"type\": \"scatter\", \"x\": [1989, 1992, 1995, 1998, 2001, 2004, 2007, 2010, 2013, 2016], \"y\": [32649.43, 36637.76, 47702.19, 64303.56, 91828.2, 98172.39, 114264.6, 124496.6, 138557.5, 157884.2]}, {\"name\": \"black\", \"type\": \"scatter\", \"x\": [1989, 1992, 1995, 1998, 2001, 2004, 2007, 2010, 2013, 2016], \"y\": [5954.398, 7798.196999999999, 9930.388, 16252.23, 17565.83, 25085.81, 29364.69, 19290.86, 20440.14, 25211.85]}, {\"name\": \"hispanic\", \"type\": \"scatter\", \"x\": [1989, 1992, 1995, 1998, 2001, 2004, 2007, 2010, 2013, 2016], \"y\": [7121.722, 5248.894, 19817.64, 14610.48, 17314.47, 12732.21, 23178.79, 20058.13, 10264.48, 28581.12]}],\n                        {\"template\": {\"data\": {\"bar\": [{\"error_x\": {\"color\": \"#2a3f5f\"}, \"error_y\": {\"color\": \"#2a3f5f\"}, \"marker\": {\"line\": {\"color\": \"#E5ECF6\", \"width\": 0.5}}, \"type\": \"bar\"}], \"barpolar\": [{\"marker\": {\"line\": {\"color\": \"#E5ECF6\", \"width\": 0.5}}, \"type\": \"barpolar\"}], \"carpet\": [{\"aaxis\": {\"endlinecolor\": \"#2a3f5f\", \"gridcolor\": \"white\", \"linecolor\": \"white\", \"minorgridcolor\": \"white\", \"startlinecolor\": \"#2a3f5f\"}, \"baxis\": {\"endlinecolor\": \"#2a3f5f\", \"gridcolor\": \"white\", \"linecolor\": \"white\", \"minorgridcolor\": \"white\", \"startlinecolor\": \"#2a3f5f\"}, \"type\": \"carpet\"}], \"choropleth\": [{\"colorbar\": {\"outlinewidth\": 0, \"ticks\": \"\"}, \"type\": \"choropleth\"}], \"contour\": [{\"colorbar\": {\"outlinewidth\": 0, \"ticks\": \"\"}, \"colorscale\": [[0.0, \"#0d0887\"], [0.1111111111111111, \"#46039f\"], [0.2222222222222222, \"#7201a8\"], [0.3333333333333333, \"#9c179e\"], [0.4444444444444444, \"#bd3786\"], [0.5555555555555556, \"#d8576b\"], [0.6666666666666666, \"#ed7953\"], [0.7777777777777778, \"#fb9f3a\"], [0.8888888888888888, \"#fdca26\"], [1.0, \"#f0f921\"]], \"type\": \"contour\"}], \"contourcarpet\": [{\"colorbar\": {\"outlinewidth\": 0, \"ticks\": \"\"}, \"type\": \"contourcarpet\"}], \"heatmap\": [{\"colorbar\": {\"outlinewidth\": 0, \"ticks\": \"\"}, \"colorscale\": [[0.0, \"#0d0887\"], [0.1111111111111111, \"#46039f\"], [0.2222222222222222, \"#7201a8\"], [0.3333333333333333, \"#9c179e\"], [0.4444444444444444, \"#bd3786\"], [0.5555555555555556, \"#d8576b\"], [0.6666666666666666, \"#ed7953\"], [0.7777777777777778, \"#fb9f3a\"], [0.8888888888888888, \"#fdca26\"], [1.0, \"#f0f921\"]], \"type\": \"heatmap\"}], \"heatmapgl\": [{\"colorbar\": {\"outlinewidth\": 0, \"ticks\": \"\"}, \"colorscale\": [[0.0, \"#0d0887\"], [0.1111111111111111, \"#46039f\"], [0.2222222222222222, \"#7201a8\"], [0.3333333333333333, \"#9c179e\"], [0.4444444444444444, \"#bd3786\"], [0.5555555555555556, \"#d8576b\"], [0.6666666666666666, \"#ed7953\"], [0.7777777777777778, \"#fb9f3a\"], [0.8888888888888888, \"#fdca26\"], [1.0, \"#f0f921\"]], \"type\": \"heatmapgl\"}], \"histogram\": [{\"marker\": {\"colorbar\": {\"outlinewidth\": 0, \"ticks\": \"\"}}, \"type\": \"histogram\"}], \"histogram2d\": [{\"colorbar\": {\"outlinewidth\": 0, \"ticks\": \"\"}, \"colorscale\": [[0.0, \"#0d0887\"], [0.1111111111111111, \"#46039f\"], [0.2222222222222222, \"#7201a8\"], [0.3333333333333333, \"#9c179e\"], [0.4444444444444444, \"#bd3786\"], [0.5555555555555556, \"#d8576b\"], [0.6666666666666666, \"#ed7953\"], [0.7777777777777778, \"#fb9f3a\"], [0.8888888888888888, \"#fdca26\"], [1.0, \"#f0f921\"]], \"type\": \"histogram2d\"}], \"histogram2dcontour\": [{\"colorbar\": {\"outlinewidth\": 0, \"ticks\": \"\"}, \"colorscale\": [[0.0, \"#0d0887\"], [0.1111111111111111, \"#46039f\"], [0.2222222222222222, \"#7201a8\"], [0.3333333333333333, \"#9c179e\"], [0.4444444444444444, \"#bd3786\"], [0.5555555555555556, \"#d8576b\"], [0.6666666666666666, \"#ed7953\"], [0.7777777777777778, \"#fb9f3a\"], [0.8888888888888888, \"#fdca26\"], [1.0, \"#f0f921\"]], \"type\": \"histogram2dcontour\"}], \"mesh3d\": [{\"colorbar\": {\"outlinewidth\": 0, \"ticks\": \"\"}, \"type\": \"mesh3d\"}], \"parcoords\": [{\"line\": {\"colorbar\": {\"outlinewidth\": 0, \"ticks\": \"\"}}, \"type\": \"parcoords\"}], \"pie\": [{\"automargin\": true, \"type\": \"pie\"}], \"scatter\": [{\"marker\": {\"colorbar\": {\"outlinewidth\": 0, \"ticks\": \"\"}}, \"type\": \"scatter\"}], \"scatter3d\": [{\"line\": {\"colorbar\": {\"outlinewidth\": 0, \"ticks\": \"\"}}, \"marker\": {\"colorbar\": {\"outlinewidth\": 0, \"ticks\": \"\"}}, \"type\": \"scatter3d\"}], \"scattercarpet\": [{\"marker\": {\"colorbar\": {\"outlinewidth\": 0, \"ticks\": \"\"}}, \"type\": \"scattercarpet\"}], \"scattergeo\": [{\"marker\": {\"colorbar\": {\"outlinewidth\": 0, \"ticks\": \"\"}}, \"type\": \"scattergeo\"}], \"scattergl\": [{\"marker\": {\"colorbar\": {\"outlinewidth\": 0, \"ticks\": \"\"}}, \"type\": \"scattergl\"}], \"scattermapbox\": [{\"marker\": {\"colorbar\": {\"outlinewidth\": 0, \"ticks\": \"\"}}, \"type\": \"scattermapbox\"}], \"scatterpolar\": [{\"marker\": {\"colorbar\": {\"outlinewidth\": 0, \"ticks\": \"\"}}, \"type\": \"scatterpolar\"}], \"scatterpolargl\": [{\"marker\": {\"colorbar\": {\"outlinewidth\": 0, \"ticks\": \"\"}}, \"type\": \"scatterpolargl\"}], \"scatterternary\": [{\"marker\": {\"colorbar\": {\"outlinewidth\": 0, \"ticks\": \"\"}}, \"type\": \"scatterternary\"}], \"surface\": [{\"colorbar\": {\"outlinewidth\": 0, \"ticks\": \"\"}, \"colorscale\": [[0.0, \"#0d0887\"], [0.1111111111111111, \"#46039f\"], [0.2222222222222222, \"#7201a8\"], [0.3333333333333333, \"#9c179e\"], [0.4444444444444444, \"#bd3786\"], [0.5555555555555556, \"#d8576b\"], [0.6666666666666666, \"#ed7953\"], [0.7777777777777778, \"#fb9f3a\"], [0.8888888888888888, \"#fdca26\"], [1.0, \"#f0f921\"]], \"type\": \"surface\"}], \"table\": [{\"cells\": {\"fill\": {\"color\": \"#EBF0F8\"}, \"line\": {\"color\": \"white\"}}, \"header\": {\"fill\": {\"color\": \"#C8D4E3\"}, \"line\": {\"color\": \"white\"}}, \"type\": \"table\"}]}, \"layout\": {\"annotationdefaults\": {\"arrowcolor\": \"#2a3f5f\", \"arrowhead\": 0, \"arrowwidth\": 1}, \"coloraxis\": {\"colorbar\": {\"outlinewidth\": 0, \"ticks\": \"\"}}, \"colorscale\": {\"diverging\": [[0, \"#8e0152\"], [0.1, \"#c51b7d\"], [0.2, \"#de77ae\"], [0.3, \"#f1b6da\"], [0.4, \"#fde0ef\"], [0.5, \"#f7f7f7\"], [0.6, \"#e6f5d0\"], [0.7, \"#b8e186\"], [0.8, \"#7fbc41\"], [0.9, \"#4d9221\"], [1, \"#276419\"]], \"sequential\": [[0.0, \"#0d0887\"], [0.1111111111111111, \"#46039f\"], [0.2222222222222222, \"#7201a8\"], [0.3333333333333333, \"#9c179e\"], [0.4444444444444444, \"#bd3786\"], [0.5555555555555556, \"#d8576b\"], [0.6666666666666666, \"#ed7953\"], [0.7777777777777778, \"#fb9f3a\"], [0.8888888888888888, \"#fdca26\"], [1.0, \"#f0f921\"]], \"sequentialminus\": [[0.0, \"#0d0887\"], [0.1111111111111111, \"#46039f\"], [0.2222222222222222, \"#7201a8\"], [0.3333333333333333, \"#9c179e\"], [0.4444444444444444, \"#bd3786\"], [0.5555555555555556, \"#d8576b\"], [0.6666666666666666, \"#ed7953\"], [0.7777777777777778, \"#fb9f3a\"], [0.8888888888888888, \"#fdca26\"], [1.0, \"#f0f921\"]]}, \"colorway\": [\"#636efa\", \"#EF553B\", \"#00cc96\", \"#ab63fa\", \"#FFA15A\", \"#19d3f3\", \"#FF6692\", \"#B6E880\", \"#FF97FF\", \"#FECB52\"], \"font\": {\"color\": \"#2a3f5f\"}, \"geo\": {\"bgcolor\": \"white\", \"lakecolor\": \"white\", \"landcolor\": \"#E5ECF6\", \"showlakes\": true, \"showland\": true, \"subunitcolor\": \"white\"}, \"hoverlabel\": {\"align\": \"left\"}, \"hovermode\": \"closest\", \"mapbox\": {\"style\": \"light\"}, \"paper_bgcolor\": \"white\", \"plot_bgcolor\": \"#E5ECF6\", \"polar\": {\"angularaxis\": {\"gridcolor\": \"white\", \"linecolor\": \"white\", \"ticks\": \"\"}, \"bgcolor\": \"#E5ECF6\", \"radialaxis\": {\"gridcolor\": \"white\", \"linecolor\": \"white\", \"ticks\": \"\"}}, \"scene\": {\"xaxis\": {\"backgroundcolor\": \"#E5ECF6\", \"gridcolor\": \"white\", \"gridwidth\": 2, \"linecolor\": \"white\", \"showbackground\": true, \"ticks\": \"\", \"zerolinecolor\": \"white\"}, \"yaxis\": {\"backgroundcolor\": \"#E5ECF6\", \"gridcolor\": \"white\", \"gridwidth\": 2, \"linecolor\": \"white\", \"showbackground\": true, \"ticks\": \"\", \"zerolinecolor\": \"white\"}, \"zaxis\": {\"backgroundcolor\": \"#E5ECF6\", \"gridcolor\": \"white\", \"gridwidth\": 2, \"linecolor\": \"white\", \"showbackground\": true, \"ticks\": \"\", \"zerolinecolor\": \"white\"}}, \"shapedefaults\": {\"line\": {\"color\": \"#2a3f5f\"}}, \"ternary\": {\"aaxis\": {\"gridcolor\": \"white\", \"linecolor\": \"white\", \"ticks\": \"\"}, \"baxis\": {\"gridcolor\": \"white\", \"linecolor\": \"white\", \"ticks\": \"\"}, \"bgcolor\": \"#E5ECF6\", \"caxis\": {\"gridcolor\": \"white\", \"linecolor\": \"white\", \"ticks\": \"\"}}, \"title\": {\"x\": 0.05}, \"xaxis\": {\"automargin\": true, \"gridcolor\": \"white\", \"linecolor\": \"white\", \"ticks\": \"\", \"title\": {\"standoff\": 15}, \"zerolinecolor\": \"white\", \"zerolinewidth\": 2}, \"yaxis\": {\"automargin\": true, \"gridcolor\": \"white\", \"linecolor\": \"white\", \"ticks\": \"\", \"title\": {\"standoff\": 15}, \"zerolinecolor\": \"white\", \"zerolinewidth\": 2}}}},\n                        {\"responsive\": true}\n                    ).then(function(){\n                            \nvar gd = document.getElementById('c4062c80-dd5f-4465-b19f-0f6a17163bbd');\nvar x = new MutationObserver(function (mutations, observer) {{\n        var display = window.getComputedStyle(gd).display;\n        if (!display || display === 'none') {{\n            console.log([gd, 'removed!']);\n            Plotly.purge(gd);\n            observer.disconnect();\n        }}\n}});\n\n// Listen for the removal of the full notebook cells\nvar notebookContainer = gd.closest('#notebook-container');\nif (notebookContainer) {{\n    x.observe(notebookContainer, {childList: true});\n}}\n\n// Listen for the clearing of the current output cell\nvar outputEl = gd.closest('.output');\nif (outputEl) {{\n    x.observe(outputEl, {childList: true});\n}}\n\n                        })\n                };\n                });\n            </script>\n        </div>"
     },
     "metadata": {}
    }
   ],
   "source": [
    "fig = go.Figure()\n",
    "fig.add_trace(go.Scatter(x=retirement_white['year'], y = retirement_white['retirement'], name = \"white\"))\n",
    "fig.add_trace(go.Scatter(x=retirement_black['year'], y = retirement_black['retirement'], name = \"black\"))\n",
    "fig.add_trace(go.Scatter(x=retirement_hispanic['year'], y = retirement_hispanic['retirement'], name = \"hispanic\"))\n",
    "fig.show()"
   ]
  },
  {
   "source": [
    "Again no real surpises here. POC have had little increase in retirment funds going from 5k in the 90s to 25k in 2015. White people on the other hand have gone from 32k all the way to 150k with a nice linear growth. "
   ],
   "cell_type": "markdown",
   "metadata": {}
  },
  {
   "source": [
    "## Income aggragate"
   ],
   "cell_type": "markdown",
   "metadata": {}
  },
  {
   "cell_type": "code",
   "execution_count": 102,
   "metadata": {},
   "outputs": [
    {
     "output_type": "execute_result",
     "data": {
      "text/plain": [
       "     year       race    number income_quintile  income_share\n",
       "312  1967  All Races  60813000          Lowest           4.0\n",
       "313  1967  All Races  60813000          Second          10.8\n",
       "314  1967  All Races  60813000           Third          17.3\n",
       "315  1967  All Races  60813000          Fourth          24.2\n",
       "316  1967  All Races  60813000         Highest          43.6"
      ],
      "text/html": "<div>\n<style scoped>\n    .dataframe tbody tr th:only-of-type {\n        vertical-align: middle;\n    }\n\n    .dataframe tbody tr th {\n        vertical-align: top;\n    }\n\n    .dataframe thead th {\n        text-align: right;\n    }\n</style>\n<table border=\"1\" class=\"dataframe\">\n  <thead>\n    <tr style=\"text-align: right;\">\n      <th></th>\n      <th>year</th>\n      <th>race</th>\n      <th>number</th>\n      <th>income_quintile</th>\n      <th>income_share</th>\n    </tr>\n  </thead>\n  <tbody>\n    <tr>\n      <th>312</th>\n      <td>1967</td>\n      <td>All Races</td>\n      <td>60813000</td>\n      <td>Lowest</td>\n      <td>4.0</td>\n    </tr>\n    <tr>\n      <th>313</th>\n      <td>1967</td>\n      <td>All Races</td>\n      <td>60813000</td>\n      <td>Second</td>\n      <td>10.8</td>\n    </tr>\n    <tr>\n      <th>314</th>\n      <td>1967</td>\n      <td>All Races</td>\n      <td>60813000</td>\n      <td>Third</td>\n      <td>17.3</td>\n    </tr>\n    <tr>\n      <th>315</th>\n      <td>1967</td>\n      <td>All Races</td>\n      <td>60813000</td>\n      <td>Fourth</td>\n      <td>24.2</td>\n    </tr>\n    <tr>\n      <th>316</th>\n      <td>1967</td>\n      <td>All Races</td>\n      <td>60813000</td>\n      <td>Highest</td>\n      <td>43.6</td>\n    </tr>\n  </tbody>\n</table>\n</div>"
     },
     "metadata": {},
     "execution_count": 102
    }
   ],
   "source": [
    "income_quintiles = [\"Lowest\", \"Second\", \"Third\", \"Fourth\", \"Highest\"]\n",
    "custom_sort = {'Lowest': 0, 'Second': 1, 'Third': 2, \"Fourth\":3, \"Highest\":4, \"Top 5%\": 5} \n",
    "\n",
    "income_aggregate = income_aggregate.sort_values(by=[\"income_quintile\"], key = lambda x: x.map(custom_sort))\n",
    "income_aggregate = income_aggregate.sort_values(by=[\"year\", \"race\"])\n",
    "income_aggregate_all = income_aggregate[income_aggregate['race']=='All Races']\n",
    "#income_aggregate_all = income_aggregate_all[income_aggregate_all['income_quintile'] != \"Top 5%\"]\n",
    "\n",
    "races = [\"Asian Alone\", \"Black Alone\", \"Hispanic\", \"White, Not Hispanic\"]\n",
    "income_races = []\n",
    "for race in races: \n",
    "    df_ = income_aggregate[income_aggregate['race']==race]\n",
    "    df_ = df_[df_['income_quintile'] != \"Top 5%\"]\n",
    "    income_races.append(df_)\n",
    "\n",
    "income_aggregate_all.head()"
   ]
  },
  {
   "cell_type": "code",
   "execution_count": 98,
   "metadata": {},
   "outputs": [
    {
     "output_type": "display_data",
     "data": {
      "application/vnd.plotly.v1+json": {
       "config": {
        "plotlyServerURL": "https://plot.ly"
       },
       "data": [
        {
         "fill": "tonexty",
         "name": "Lowest",
         "type": "scatter",
         "x": [
          1967,
          1968,
          1969,
          1970,
          1971,
          1972,
          1973,
          1974,
          1975,
          1976,
          1977,
          1978,
          1979,
          1980,
          1981,
          1982,
          1983,
          1984,
          1985,
          1986,
          1987,
          1988,
          1989,
          1990,
          1991,
          1992,
          1993,
          1994,
          1995,
          1996,
          1997,
          1998,
          1999,
          2000,
          2001,
          2002,
          2003,
          2004,
          2005,
          2006,
          2007,
          2008,
          2009,
          2010,
          2011,
          2012,
          2013,
          2014,
          2015,
          2016,
          2017,
          2018,
          2019
         ],
         "y": [
          4,
          4.2,
          4.1,
          4.1,
          4.1,
          4.1,
          4.2,
          4.3,
          4.3,
          4.3,
          4.2,
          4.2,
          4.1,
          4.2,
          4.1,
          4,
          4,
          4,
          3.9,
          3.8,
          3.8,
          3.8,
          3.8,
          3.8,
          3.8,
          3.8,
          3.6,
          3.6,
          3.7,
          3.6,
          3.6,
          3.6,
          3.6,
          3.6,
          3.5,
          3.5,
          3.4,
          3.4,
          3.4,
          3.4,
          3.4,
          3.4,
          3.4,
          3.3,
          3.2,
          3.2,
          3.1,
          3.1,
          3.1,
          3.1,
          3.1,
          3.1,
          3.1
         ]
        },
        {
         "fill": "tonexty",
         "name": "Second",
         "type": "scatter",
         "x": [
          1967,
          1968,
          1969,
          1970,
          1971,
          1972,
          1973,
          1974,
          1975,
          1976,
          1977,
          1978,
          1979,
          1980,
          1981,
          1982,
          1983,
          1984,
          1985,
          1986,
          1987,
          1988,
          1989,
          1990,
          1991,
          1992,
          1993,
          1994,
          1995,
          1996,
          1997,
          1998,
          1999,
          2000,
          2001,
          2002,
          2003,
          2004,
          2005,
          2006,
          2007,
          2008,
          2009,
          2010,
          2011,
          2012,
          2013,
          2014,
          2015,
          2016,
          2017,
          2018,
          2019
         ],
         "y": [
          10.8,
          11.1,
          10.9,
          10.8,
          10.6,
          10.4,
          10.4,
          10.6,
          10.4,
          10.3,
          10.2,
          10.2,
          10.2,
          10.2,
          10.1,
          10,
          9.9,
          9.9,
          9.8,
          9.7,
          9.6,
          9.6,
          9.5,
          9.6,
          9.6,
          9.4,
          9,
          8.9,
          9.1,
          9,
          8.9,
          9,
          8.9,
          8.9,
          8.7,
          8.8,
          8.7,
          8.7,
          8.6,
          8.6,
          8.7,
          8.6,
          8.6,
          8.5,
          8.4,
          8.3,
          8.2,
          8.2,
          8.2,
          8.3,
          8.2,
          8.3,
          8.3
         ]
        },
        {
         "fill": "tonexty",
         "name": "Third",
         "type": "scatter",
         "x": [
          1967,
          1968,
          1969,
          1970,
          1971,
          1972,
          1973,
          1974,
          1975,
          1976,
          1977,
          1978,
          1979,
          1980,
          1981,
          1982,
          1983,
          1984,
          1985,
          1986,
          1987,
          1988,
          1989,
          1990,
          1991,
          1992,
          1993,
          1994,
          1995,
          1996,
          1997,
          1998,
          1999,
          2000,
          2001,
          2002,
          2003,
          2004,
          2005,
          2006,
          2007,
          2008,
          2009,
          2010,
          2011,
          2012,
          2013,
          2014,
          2015,
          2016,
          2017,
          2018,
          2019
         ],
         "y": [
          17.3,
          17.6,
          17.5,
          17.4,
          17.3,
          17,
          17,
          17,
          17,
          17,
          16.9,
          16.8,
          16.8,
          16.8,
          16.7,
          16.5,
          16.4,
          16.3,
          16.2,
          16.2,
          16.1,
          16,
          15.8,
          15.9,
          15.9,
          15.8,
          15.1,
          15,
          15.2,
          15.1,
          15,
          15,
          14.9,
          14.8,
          14.6,
          14.8,
          14.8,
          14.7,
          14.6,
          14.5,
          14.8,
          14.7,
          14.6,
          14.6,
          14.3,
          14.4,
          14.3,
          14.3,
          14.3,
          14.2,
          14.3,
          14.1,
          14.1
         ]
        },
        {
         "fill": "tonexty",
         "name": "Fourth",
         "type": "scatter",
         "x": [
          1967,
          1968,
          1969,
          1970,
          1971,
          1972,
          1973,
          1974,
          1975,
          1976,
          1977,
          1978,
          1979,
          1980,
          1981,
          1982,
          1983,
          1984,
          1985,
          1986,
          1987,
          1988,
          1989,
          1990,
          1991,
          1992,
          1993,
          1994,
          1995,
          1996,
          1997,
          1998,
          1999,
          2000,
          2001,
          2002,
          2003,
          2004,
          2005,
          2006,
          2007,
          2008,
          2009,
          2010,
          2011,
          2012,
          2013,
          2014,
          2015,
          2016,
          2017,
          2018,
          2019
         ],
         "y": [
          24.2,
          24.5,
          24.5,
          24.5,
          24.5,
          24.5,
          24.5,
          24.6,
          24.7,
          24.7,
          24.7,
          24.7,
          24.6,
          24.7,
          24.8,
          24.5,
          24.6,
          24.6,
          24.4,
          24.3,
          24.3,
          24.2,
          24,
          24,
          24.2,
          24.2,
          23.5,
          23.4,
          23.3,
          23.3,
          23.2,
          23.2,
          23.2,
          23,
          23,
          23.3,
          23.4,
          23.2,
          23,
          22.9,
          23.4,
          23.3,
          23.2,
          23.4,
          23,
          23,
          23,
          23.2,
          23.2,
          22.9,
          23,
          22.6,
          22.7
         ]
        },
        {
         "fill": "tonexty",
         "name": "Highest",
         "type": "scatter",
         "x": [
          1967,
          1968,
          1969,
          1970,
          1971,
          1972,
          1973,
          1974,
          1975,
          1976,
          1977,
          1978,
          1979,
          1980,
          1981,
          1982,
          1983,
          1984,
          1985,
          1986,
          1987,
          1988,
          1989,
          1990,
          1991,
          1992,
          1993,
          1994,
          1995,
          1996,
          1997,
          1998,
          1999,
          2000,
          2001,
          2002,
          2003,
          2004,
          2005,
          2006,
          2007,
          2008,
          2009,
          2010,
          2011,
          2012,
          2013,
          2014,
          2015,
          2016,
          2017,
          2018,
          2019
         ],
         "y": [
          43.6,
          42.6,
          43,
          43.3,
          43.5,
          43.9,
          43.9,
          43.5,
          43.6,
          43.7,
          44,
          44.1,
          44.2,
          44.1,
          44.3,
          45,
          45.1,
          45.2,
          45.6,
          46.1,
          46.2,
          46.3,
          46.8,
          46.6,
          46.5,
          46.9,
          48.9,
          49.1,
          48.7,
          49,
          49.4,
          49.2,
          49.4,
          49.8,
          50.1,
          49.7,
          49.8,
          50.1,
          50.4,
          50.5,
          49.7,
          50,
          50.3,
          50.3,
          51.1,
          51,
          51.4,
          51.2,
          51.1,
          51.5,
          51.5,
          52,
          51.9
         ]
        }
       ],
       "layout": {
        "template": {
         "data": {
          "bar": [
           {
            "error_x": {
             "color": "#2a3f5f"
            },
            "error_y": {
             "color": "#2a3f5f"
            },
            "marker": {
             "line": {
              "color": "#E5ECF6",
              "width": 0.5
             }
            },
            "type": "bar"
           }
          ],
          "barpolar": [
           {
            "marker": {
             "line": {
              "color": "#E5ECF6",
              "width": 0.5
             }
            },
            "type": "barpolar"
           }
          ],
          "carpet": [
           {
            "aaxis": {
             "endlinecolor": "#2a3f5f",
             "gridcolor": "white",
             "linecolor": "white",
             "minorgridcolor": "white",
             "startlinecolor": "#2a3f5f"
            },
            "baxis": {
             "endlinecolor": "#2a3f5f",
             "gridcolor": "white",
             "linecolor": "white",
             "minorgridcolor": "white",
             "startlinecolor": "#2a3f5f"
            },
            "type": "carpet"
           }
          ],
          "choropleth": [
           {
            "colorbar": {
             "outlinewidth": 0,
             "ticks": ""
            },
            "type": "choropleth"
           }
          ],
          "contour": [
           {
            "colorbar": {
             "outlinewidth": 0,
             "ticks": ""
            },
            "colorscale": [
             [
              0,
              "#0d0887"
             ],
             [
              0.1111111111111111,
              "#46039f"
             ],
             [
              0.2222222222222222,
              "#7201a8"
             ],
             [
              0.3333333333333333,
              "#9c179e"
             ],
             [
              0.4444444444444444,
              "#bd3786"
             ],
             [
              0.5555555555555556,
              "#d8576b"
             ],
             [
              0.6666666666666666,
              "#ed7953"
             ],
             [
              0.7777777777777778,
              "#fb9f3a"
             ],
             [
              0.8888888888888888,
              "#fdca26"
             ],
             [
              1,
              "#f0f921"
             ]
            ],
            "type": "contour"
           }
          ],
          "contourcarpet": [
           {
            "colorbar": {
             "outlinewidth": 0,
             "ticks": ""
            },
            "type": "contourcarpet"
           }
          ],
          "heatmap": [
           {
            "colorbar": {
             "outlinewidth": 0,
             "ticks": ""
            },
            "colorscale": [
             [
              0,
              "#0d0887"
             ],
             [
              0.1111111111111111,
              "#46039f"
             ],
             [
              0.2222222222222222,
              "#7201a8"
             ],
             [
              0.3333333333333333,
              "#9c179e"
             ],
             [
              0.4444444444444444,
              "#bd3786"
             ],
             [
              0.5555555555555556,
              "#d8576b"
             ],
             [
              0.6666666666666666,
              "#ed7953"
             ],
             [
              0.7777777777777778,
              "#fb9f3a"
             ],
             [
              0.8888888888888888,
              "#fdca26"
             ],
             [
              1,
              "#f0f921"
             ]
            ],
            "type": "heatmap"
           }
          ],
          "heatmapgl": [
           {
            "colorbar": {
             "outlinewidth": 0,
             "ticks": ""
            },
            "colorscale": [
             [
              0,
              "#0d0887"
             ],
             [
              0.1111111111111111,
              "#46039f"
             ],
             [
              0.2222222222222222,
              "#7201a8"
             ],
             [
              0.3333333333333333,
              "#9c179e"
             ],
             [
              0.4444444444444444,
              "#bd3786"
             ],
             [
              0.5555555555555556,
              "#d8576b"
             ],
             [
              0.6666666666666666,
              "#ed7953"
             ],
             [
              0.7777777777777778,
              "#fb9f3a"
             ],
             [
              0.8888888888888888,
              "#fdca26"
             ],
             [
              1,
              "#f0f921"
             ]
            ],
            "type": "heatmapgl"
           }
          ],
          "histogram": [
           {
            "marker": {
             "colorbar": {
              "outlinewidth": 0,
              "ticks": ""
             }
            },
            "type": "histogram"
           }
          ],
          "histogram2d": [
           {
            "colorbar": {
             "outlinewidth": 0,
             "ticks": ""
            },
            "colorscale": [
             [
              0,
              "#0d0887"
             ],
             [
              0.1111111111111111,
              "#46039f"
             ],
             [
              0.2222222222222222,
              "#7201a8"
             ],
             [
              0.3333333333333333,
              "#9c179e"
             ],
             [
              0.4444444444444444,
              "#bd3786"
             ],
             [
              0.5555555555555556,
              "#d8576b"
             ],
             [
              0.6666666666666666,
              "#ed7953"
             ],
             [
              0.7777777777777778,
              "#fb9f3a"
             ],
             [
              0.8888888888888888,
              "#fdca26"
             ],
             [
              1,
              "#f0f921"
             ]
            ],
            "type": "histogram2d"
           }
          ],
          "histogram2dcontour": [
           {
            "colorbar": {
             "outlinewidth": 0,
             "ticks": ""
            },
            "colorscale": [
             [
              0,
              "#0d0887"
             ],
             [
              0.1111111111111111,
              "#46039f"
             ],
             [
              0.2222222222222222,
              "#7201a8"
             ],
             [
              0.3333333333333333,
              "#9c179e"
             ],
             [
              0.4444444444444444,
              "#bd3786"
             ],
             [
              0.5555555555555556,
              "#d8576b"
             ],
             [
              0.6666666666666666,
              "#ed7953"
             ],
             [
              0.7777777777777778,
              "#fb9f3a"
             ],
             [
              0.8888888888888888,
              "#fdca26"
             ],
             [
              1,
              "#f0f921"
             ]
            ],
            "type": "histogram2dcontour"
           }
          ],
          "mesh3d": [
           {
            "colorbar": {
             "outlinewidth": 0,
             "ticks": ""
            },
            "type": "mesh3d"
           }
          ],
          "parcoords": [
           {
            "line": {
             "colorbar": {
              "outlinewidth": 0,
              "ticks": ""
             }
            },
            "type": "parcoords"
           }
          ],
          "pie": [
           {
            "automargin": true,
            "type": "pie"
           }
          ],
          "scatter": [
           {
            "marker": {
             "colorbar": {
              "outlinewidth": 0,
              "ticks": ""
             }
            },
            "type": "scatter"
           }
          ],
          "scatter3d": [
           {
            "line": {
             "colorbar": {
              "outlinewidth": 0,
              "ticks": ""
             }
            },
            "marker": {
             "colorbar": {
              "outlinewidth": 0,
              "ticks": ""
             }
            },
            "type": "scatter3d"
           }
          ],
          "scattercarpet": [
           {
            "marker": {
             "colorbar": {
              "outlinewidth": 0,
              "ticks": ""
             }
            },
            "type": "scattercarpet"
           }
          ],
          "scattergeo": [
           {
            "marker": {
             "colorbar": {
              "outlinewidth": 0,
              "ticks": ""
             }
            },
            "type": "scattergeo"
           }
          ],
          "scattergl": [
           {
            "marker": {
             "colorbar": {
              "outlinewidth": 0,
              "ticks": ""
             }
            },
            "type": "scattergl"
           }
          ],
          "scattermapbox": [
           {
            "marker": {
             "colorbar": {
              "outlinewidth": 0,
              "ticks": ""
             }
            },
            "type": "scattermapbox"
           }
          ],
          "scatterpolar": [
           {
            "marker": {
             "colorbar": {
              "outlinewidth": 0,
              "ticks": ""
             }
            },
            "type": "scatterpolar"
           }
          ],
          "scatterpolargl": [
           {
            "marker": {
             "colorbar": {
              "outlinewidth": 0,
              "ticks": ""
             }
            },
            "type": "scatterpolargl"
           }
          ],
          "scatterternary": [
           {
            "marker": {
             "colorbar": {
              "outlinewidth": 0,
              "ticks": ""
             }
            },
            "type": "scatterternary"
           }
          ],
          "surface": [
           {
            "colorbar": {
             "outlinewidth": 0,
             "ticks": ""
            },
            "colorscale": [
             [
              0,
              "#0d0887"
             ],
             [
              0.1111111111111111,
              "#46039f"
             ],
             [
              0.2222222222222222,
              "#7201a8"
             ],
             [
              0.3333333333333333,
              "#9c179e"
             ],
             [
              0.4444444444444444,
              "#bd3786"
             ],
             [
              0.5555555555555556,
              "#d8576b"
             ],
             [
              0.6666666666666666,
              "#ed7953"
             ],
             [
              0.7777777777777778,
              "#fb9f3a"
             ],
             [
              0.8888888888888888,
              "#fdca26"
             ],
             [
              1,
              "#f0f921"
             ]
            ],
            "type": "surface"
           }
          ],
          "table": [
           {
            "cells": {
             "fill": {
              "color": "#EBF0F8"
             },
             "line": {
              "color": "white"
             }
            },
            "header": {
             "fill": {
              "color": "#C8D4E3"
             },
             "line": {
              "color": "white"
             }
            },
            "type": "table"
           }
          ]
         },
         "layout": {
          "annotationdefaults": {
           "arrowcolor": "#2a3f5f",
           "arrowhead": 0,
           "arrowwidth": 1
          },
          "coloraxis": {
           "colorbar": {
            "outlinewidth": 0,
            "ticks": ""
           }
          },
          "colorscale": {
           "diverging": [
            [
             0,
             "#8e0152"
            ],
            [
             0.1,
             "#c51b7d"
            ],
            [
             0.2,
             "#de77ae"
            ],
            [
             0.3,
             "#f1b6da"
            ],
            [
             0.4,
             "#fde0ef"
            ],
            [
             0.5,
             "#f7f7f7"
            ],
            [
             0.6,
             "#e6f5d0"
            ],
            [
             0.7,
             "#b8e186"
            ],
            [
             0.8,
             "#7fbc41"
            ],
            [
             0.9,
             "#4d9221"
            ],
            [
             1,
             "#276419"
            ]
           ],
           "sequential": [
            [
             0,
             "#0d0887"
            ],
            [
             0.1111111111111111,
             "#46039f"
            ],
            [
             0.2222222222222222,
             "#7201a8"
            ],
            [
             0.3333333333333333,
             "#9c179e"
            ],
            [
             0.4444444444444444,
             "#bd3786"
            ],
            [
             0.5555555555555556,
             "#d8576b"
            ],
            [
             0.6666666666666666,
             "#ed7953"
            ],
            [
             0.7777777777777778,
             "#fb9f3a"
            ],
            [
             0.8888888888888888,
             "#fdca26"
            ],
            [
             1,
             "#f0f921"
            ]
           ],
           "sequentialminus": [
            [
             0,
             "#0d0887"
            ],
            [
             0.1111111111111111,
             "#46039f"
            ],
            [
             0.2222222222222222,
             "#7201a8"
            ],
            [
             0.3333333333333333,
             "#9c179e"
            ],
            [
             0.4444444444444444,
             "#bd3786"
            ],
            [
             0.5555555555555556,
             "#d8576b"
            ],
            [
             0.6666666666666666,
             "#ed7953"
            ],
            [
             0.7777777777777778,
             "#fb9f3a"
            ],
            [
             0.8888888888888888,
             "#fdca26"
            ],
            [
             1,
             "#f0f921"
            ]
           ]
          },
          "colorway": [
           "#636efa",
           "#EF553B",
           "#00cc96",
           "#ab63fa",
           "#FFA15A",
           "#19d3f3",
           "#FF6692",
           "#B6E880",
           "#FF97FF",
           "#FECB52"
          ],
          "font": {
           "color": "#2a3f5f"
          },
          "geo": {
           "bgcolor": "white",
           "lakecolor": "white",
           "landcolor": "#E5ECF6",
           "showlakes": true,
           "showland": true,
           "subunitcolor": "white"
          },
          "hoverlabel": {
           "align": "left"
          },
          "hovermode": "closest",
          "mapbox": {
           "style": "light"
          },
          "paper_bgcolor": "white",
          "plot_bgcolor": "#E5ECF6",
          "polar": {
           "angularaxis": {
            "gridcolor": "white",
            "linecolor": "white",
            "ticks": ""
           },
           "bgcolor": "#E5ECF6",
           "radialaxis": {
            "gridcolor": "white",
            "linecolor": "white",
            "ticks": ""
           }
          },
          "scene": {
           "xaxis": {
            "backgroundcolor": "#E5ECF6",
            "gridcolor": "white",
            "gridwidth": 2,
            "linecolor": "white",
            "showbackground": true,
            "ticks": "",
            "zerolinecolor": "white"
           },
           "yaxis": {
            "backgroundcolor": "#E5ECF6",
            "gridcolor": "white",
            "gridwidth": 2,
            "linecolor": "white",
            "showbackground": true,
            "ticks": "",
            "zerolinecolor": "white"
           },
           "zaxis": {
            "backgroundcolor": "#E5ECF6",
            "gridcolor": "white",
            "gridwidth": 2,
            "linecolor": "white",
            "showbackground": true,
            "ticks": "",
            "zerolinecolor": "white"
           }
          },
          "shapedefaults": {
           "line": {
            "color": "#2a3f5f"
           }
          },
          "ternary": {
           "aaxis": {
            "gridcolor": "white",
            "linecolor": "white",
            "ticks": ""
           },
           "baxis": {
            "gridcolor": "white",
            "linecolor": "white",
            "ticks": ""
           },
           "bgcolor": "#E5ECF6",
           "caxis": {
            "gridcolor": "white",
            "linecolor": "white",
            "ticks": ""
           }
          },
          "title": {
           "x": 0.05
          },
          "xaxis": {
           "automargin": true,
           "gridcolor": "white",
           "linecolor": "white",
           "ticks": "",
           "title": {
            "standoff": 15
           },
           "zerolinecolor": "white",
           "zerolinewidth": 2
          },
          "yaxis": {
           "automargin": true,
           "gridcolor": "white",
           "linecolor": "white",
           "ticks": "",
           "title": {
            "standoff": 15
           },
           "zerolinecolor": "white",
           "zerolinewidth": 2
          }
         }
        }
       }
      },
      "text/html": "<div>\n        \n        \n            <div id=\"72c62d9b-b316-4fe3-9d55-35f50a3ef703\" class=\"plotly-graph-div\" style=\"height:525px; width:100%;\"></div>\n            <script type=\"text/javascript\">\n                require([\"plotly\"], function(Plotly) {\n                    window.PLOTLYENV=window.PLOTLYENV || {};\n                    \n                if (document.getElementById(\"72c62d9b-b316-4fe3-9d55-35f50a3ef703\")) {\n                    Plotly.newPlot(\n                        '72c62d9b-b316-4fe3-9d55-35f50a3ef703',\n                        [{\"fill\": \"tonexty\", \"name\": \"Lowest\", \"type\": \"scatter\", \"x\": [1967, 1968, 1969, 1970, 1971, 1972, 1973, 1974, 1975, 1976, 1977, 1978, 1979, 1980, 1981, 1982, 1983, 1984, 1985, 1986, 1987, 1988, 1989, 1990, 1991, 1992, 1993, 1994, 1995, 1996, 1997, 1998, 1999, 2000, 2001, 2002, 2003, 2004, 2005, 2006, 2007, 2008, 2009, 2010, 2011, 2012, 2013, 2014, 2015, 2016, 2017, 2018, 2019], \"y\": [4.0, 4.2, 4.1, 4.1, 4.1, 4.1, 4.2, 4.3, 4.3, 4.3, 4.2, 4.2, 4.1, 4.2, 4.1, 4.0, 4.0, 4.0, 3.9, 3.8, 3.8, 3.8, 3.8, 3.8, 3.8, 3.8, 3.6, 3.6, 3.7, 3.6, 3.6, 3.6, 3.6, 3.6, 3.5, 3.5, 3.4, 3.4, 3.4, 3.4, 3.4, 3.4, 3.4, 3.3, 3.2, 3.2, 3.1, 3.1, 3.1, 3.1, 3.1, 3.1, 3.1]}, {\"fill\": \"tonexty\", \"name\": \"Second\", \"type\": \"scatter\", \"x\": [1967, 1968, 1969, 1970, 1971, 1972, 1973, 1974, 1975, 1976, 1977, 1978, 1979, 1980, 1981, 1982, 1983, 1984, 1985, 1986, 1987, 1988, 1989, 1990, 1991, 1992, 1993, 1994, 1995, 1996, 1997, 1998, 1999, 2000, 2001, 2002, 2003, 2004, 2005, 2006, 2007, 2008, 2009, 2010, 2011, 2012, 2013, 2014, 2015, 2016, 2017, 2018, 2019], \"y\": [10.8, 11.1, 10.9, 10.8, 10.6, 10.4, 10.4, 10.6, 10.4, 10.3, 10.2, 10.2, 10.2, 10.2, 10.1, 10.0, 9.9, 9.9, 9.8, 9.7, 9.6, 9.6, 9.5, 9.6, 9.6, 9.4, 9.0, 8.9, 9.1, 9.0, 8.9, 9.0, 8.9, 8.9, 8.7, 8.8, 8.7, 8.7, 8.6, 8.6, 8.7, 8.6, 8.6, 8.5, 8.4, 8.3, 8.2, 8.2, 8.2, 8.3, 8.2, 8.3, 8.3]}, {\"fill\": \"tonexty\", \"name\": \"Third\", \"type\": \"scatter\", \"x\": [1967, 1968, 1969, 1970, 1971, 1972, 1973, 1974, 1975, 1976, 1977, 1978, 1979, 1980, 1981, 1982, 1983, 1984, 1985, 1986, 1987, 1988, 1989, 1990, 1991, 1992, 1993, 1994, 1995, 1996, 1997, 1998, 1999, 2000, 2001, 2002, 2003, 2004, 2005, 2006, 2007, 2008, 2009, 2010, 2011, 2012, 2013, 2014, 2015, 2016, 2017, 2018, 2019], \"y\": [17.3, 17.6, 17.5, 17.4, 17.3, 17.0, 17.0, 17.0, 17.0, 17.0, 16.9, 16.8, 16.8, 16.8, 16.7, 16.5, 16.4, 16.3, 16.2, 16.2, 16.1, 16.0, 15.8, 15.9, 15.9, 15.8, 15.1, 15.0, 15.2, 15.1, 15.0, 15.0, 14.9, 14.8, 14.6, 14.8, 14.8, 14.7, 14.6, 14.5, 14.8, 14.7, 14.6, 14.6, 14.3, 14.4, 14.3, 14.3, 14.3, 14.2, 14.3, 14.1, 14.1]}, {\"fill\": \"tonexty\", \"name\": \"Fourth\", \"type\": \"scatter\", \"x\": [1967, 1968, 1969, 1970, 1971, 1972, 1973, 1974, 1975, 1976, 1977, 1978, 1979, 1980, 1981, 1982, 1983, 1984, 1985, 1986, 1987, 1988, 1989, 1990, 1991, 1992, 1993, 1994, 1995, 1996, 1997, 1998, 1999, 2000, 2001, 2002, 2003, 2004, 2005, 2006, 2007, 2008, 2009, 2010, 2011, 2012, 2013, 2014, 2015, 2016, 2017, 2018, 2019], \"y\": [24.2, 24.5, 24.5, 24.5, 24.5, 24.5, 24.5, 24.6, 24.7, 24.7, 24.7, 24.7, 24.6, 24.7, 24.8, 24.5, 24.6, 24.6, 24.4, 24.3, 24.3, 24.2, 24.0, 24.0, 24.2, 24.2, 23.5, 23.4, 23.3, 23.3, 23.2, 23.2, 23.2, 23.0, 23.0, 23.3, 23.4, 23.2, 23.0, 22.9, 23.4, 23.3, 23.2, 23.4, 23.0, 23.0, 23.0, 23.2, 23.2, 22.9, 23.0, 22.6, 22.7]}, {\"fill\": \"tonexty\", \"name\": \"Highest\", \"type\": \"scatter\", \"x\": [1967, 1968, 1969, 1970, 1971, 1972, 1973, 1974, 1975, 1976, 1977, 1978, 1979, 1980, 1981, 1982, 1983, 1984, 1985, 1986, 1987, 1988, 1989, 1990, 1991, 1992, 1993, 1994, 1995, 1996, 1997, 1998, 1999, 2000, 2001, 2002, 2003, 2004, 2005, 2006, 2007, 2008, 2009, 2010, 2011, 2012, 2013, 2014, 2015, 2016, 2017, 2018, 2019], \"y\": [43.6, 42.6, 43.0, 43.3, 43.5, 43.9, 43.9, 43.5, 43.6, 43.7, 44.0, 44.1, 44.2, 44.1, 44.3, 45.0, 45.1, 45.2, 45.6, 46.1, 46.2, 46.3, 46.8, 46.6, 46.5, 46.9, 48.9, 49.1, 48.7, 49.0, 49.4, 49.2, 49.4, 49.8, 50.1, 49.7, 49.8, 50.1, 50.4, 50.5, 49.7, 50.0, 50.3, 50.3, 51.1, 51.0, 51.4, 51.2, 51.1, 51.5, 51.5, 52.0, 51.9]}],\n                        {\"template\": {\"data\": {\"bar\": [{\"error_x\": {\"color\": \"#2a3f5f\"}, \"error_y\": {\"color\": \"#2a3f5f\"}, \"marker\": {\"line\": {\"color\": \"#E5ECF6\", \"width\": 0.5}}, \"type\": \"bar\"}], \"barpolar\": [{\"marker\": {\"line\": {\"color\": \"#E5ECF6\", \"width\": 0.5}}, \"type\": \"barpolar\"}], \"carpet\": [{\"aaxis\": {\"endlinecolor\": \"#2a3f5f\", \"gridcolor\": \"white\", \"linecolor\": \"white\", \"minorgridcolor\": \"white\", \"startlinecolor\": \"#2a3f5f\"}, \"baxis\": {\"endlinecolor\": \"#2a3f5f\", \"gridcolor\": \"white\", \"linecolor\": \"white\", \"minorgridcolor\": \"white\", \"startlinecolor\": \"#2a3f5f\"}, \"type\": \"carpet\"}], \"choropleth\": [{\"colorbar\": {\"outlinewidth\": 0, \"ticks\": \"\"}, \"type\": \"choropleth\"}], \"contour\": [{\"colorbar\": {\"outlinewidth\": 0, \"ticks\": \"\"}, \"colorscale\": [[0.0, \"#0d0887\"], [0.1111111111111111, \"#46039f\"], [0.2222222222222222, \"#7201a8\"], [0.3333333333333333, \"#9c179e\"], [0.4444444444444444, \"#bd3786\"], [0.5555555555555556, \"#d8576b\"], [0.6666666666666666, \"#ed7953\"], [0.7777777777777778, \"#fb9f3a\"], [0.8888888888888888, \"#fdca26\"], [1.0, \"#f0f921\"]], \"type\": \"contour\"}], \"contourcarpet\": [{\"colorbar\": {\"outlinewidth\": 0, \"ticks\": \"\"}, \"type\": \"contourcarpet\"}], \"heatmap\": [{\"colorbar\": {\"outlinewidth\": 0, \"ticks\": \"\"}, \"colorscale\": [[0.0, \"#0d0887\"], [0.1111111111111111, \"#46039f\"], [0.2222222222222222, \"#7201a8\"], [0.3333333333333333, \"#9c179e\"], [0.4444444444444444, \"#bd3786\"], [0.5555555555555556, \"#d8576b\"], [0.6666666666666666, \"#ed7953\"], [0.7777777777777778, \"#fb9f3a\"], [0.8888888888888888, \"#fdca26\"], [1.0, \"#f0f921\"]], \"type\": \"heatmap\"}], \"heatmapgl\": [{\"colorbar\": {\"outlinewidth\": 0, \"ticks\": \"\"}, \"colorscale\": [[0.0, \"#0d0887\"], [0.1111111111111111, \"#46039f\"], [0.2222222222222222, \"#7201a8\"], [0.3333333333333333, \"#9c179e\"], [0.4444444444444444, \"#bd3786\"], [0.5555555555555556, \"#d8576b\"], [0.6666666666666666, \"#ed7953\"], [0.7777777777777778, \"#fb9f3a\"], [0.8888888888888888, \"#fdca26\"], [1.0, \"#f0f921\"]], \"type\": \"heatmapgl\"}], \"histogram\": [{\"marker\": {\"colorbar\": {\"outlinewidth\": 0, \"ticks\": \"\"}}, \"type\": \"histogram\"}], \"histogram2d\": [{\"colorbar\": {\"outlinewidth\": 0, \"ticks\": \"\"}, \"colorscale\": [[0.0, \"#0d0887\"], [0.1111111111111111, \"#46039f\"], [0.2222222222222222, \"#7201a8\"], [0.3333333333333333, \"#9c179e\"], [0.4444444444444444, \"#bd3786\"], [0.5555555555555556, \"#d8576b\"], [0.6666666666666666, \"#ed7953\"], [0.7777777777777778, \"#fb9f3a\"], [0.8888888888888888, \"#fdca26\"], [1.0, \"#f0f921\"]], \"type\": \"histogram2d\"}], \"histogram2dcontour\": [{\"colorbar\": {\"outlinewidth\": 0, \"ticks\": \"\"}, \"colorscale\": [[0.0, \"#0d0887\"], [0.1111111111111111, \"#46039f\"], [0.2222222222222222, \"#7201a8\"], [0.3333333333333333, \"#9c179e\"], [0.4444444444444444, \"#bd3786\"], [0.5555555555555556, \"#d8576b\"], [0.6666666666666666, \"#ed7953\"], [0.7777777777777778, \"#fb9f3a\"], [0.8888888888888888, \"#fdca26\"], [1.0, \"#f0f921\"]], \"type\": \"histogram2dcontour\"}], \"mesh3d\": [{\"colorbar\": {\"outlinewidth\": 0, \"ticks\": \"\"}, \"type\": \"mesh3d\"}], \"parcoords\": [{\"line\": {\"colorbar\": {\"outlinewidth\": 0, \"ticks\": \"\"}}, \"type\": \"parcoords\"}], \"pie\": [{\"automargin\": true, \"type\": \"pie\"}], \"scatter\": [{\"marker\": {\"colorbar\": {\"outlinewidth\": 0, \"ticks\": \"\"}}, \"type\": \"scatter\"}], \"scatter3d\": [{\"line\": {\"colorbar\": {\"outlinewidth\": 0, \"ticks\": \"\"}}, \"marker\": {\"colorbar\": {\"outlinewidth\": 0, \"ticks\": \"\"}}, \"type\": \"scatter3d\"}], \"scattercarpet\": [{\"marker\": {\"colorbar\": {\"outlinewidth\": 0, \"ticks\": \"\"}}, \"type\": \"scattercarpet\"}], \"scattergeo\": [{\"marker\": {\"colorbar\": {\"outlinewidth\": 0, \"ticks\": \"\"}}, \"type\": \"scattergeo\"}], \"scattergl\": [{\"marker\": {\"colorbar\": {\"outlinewidth\": 0, \"ticks\": \"\"}}, \"type\": \"scattergl\"}], \"scattermapbox\": [{\"marker\": {\"colorbar\": {\"outlinewidth\": 0, \"ticks\": \"\"}}, \"type\": \"scattermapbox\"}], \"scatterpolar\": [{\"marker\": {\"colorbar\": {\"outlinewidth\": 0, \"ticks\": \"\"}}, \"type\": \"scatterpolar\"}], \"scatterpolargl\": [{\"marker\": {\"colorbar\": {\"outlinewidth\": 0, \"ticks\": \"\"}}, \"type\": \"scatterpolargl\"}], \"scatterternary\": [{\"marker\": {\"colorbar\": {\"outlinewidth\": 0, \"ticks\": \"\"}}, \"type\": \"scatterternary\"}], \"surface\": [{\"colorbar\": {\"outlinewidth\": 0, \"ticks\": \"\"}, \"colorscale\": [[0.0, \"#0d0887\"], [0.1111111111111111, \"#46039f\"], [0.2222222222222222, \"#7201a8\"], [0.3333333333333333, \"#9c179e\"], [0.4444444444444444, \"#bd3786\"], [0.5555555555555556, \"#d8576b\"], [0.6666666666666666, \"#ed7953\"], [0.7777777777777778, \"#fb9f3a\"], [0.8888888888888888, \"#fdca26\"], [1.0, \"#f0f921\"]], \"type\": \"surface\"}], \"table\": [{\"cells\": {\"fill\": {\"color\": \"#EBF0F8\"}, \"line\": {\"color\": \"white\"}}, \"header\": {\"fill\": {\"color\": \"#C8D4E3\"}, \"line\": {\"color\": \"white\"}}, \"type\": \"table\"}]}, \"layout\": {\"annotationdefaults\": {\"arrowcolor\": \"#2a3f5f\", \"arrowhead\": 0, \"arrowwidth\": 1}, \"coloraxis\": {\"colorbar\": {\"outlinewidth\": 0, \"ticks\": \"\"}}, \"colorscale\": {\"diverging\": [[0, \"#8e0152\"], [0.1, \"#c51b7d\"], [0.2, \"#de77ae\"], [0.3, \"#f1b6da\"], [0.4, \"#fde0ef\"], [0.5, \"#f7f7f7\"], [0.6, \"#e6f5d0\"], [0.7, \"#b8e186\"], [0.8, \"#7fbc41\"], [0.9, \"#4d9221\"], [1, \"#276419\"]], \"sequential\": [[0.0, \"#0d0887\"], [0.1111111111111111, \"#46039f\"], [0.2222222222222222, \"#7201a8\"], [0.3333333333333333, \"#9c179e\"], [0.4444444444444444, \"#bd3786\"], [0.5555555555555556, \"#d8576b\"], [0.6666666666666666, \"#ed7953\"], [0.7777777777777778, \"#fb9f3a\"], [0.8888888888888888, \"#fdca26\"], [1.0, \"#f0f921\"]], \"sequentialminus\": [[0.0, \"#0d0887\"], [0.1111111111111111, \"#46039f\"], [0.2222222222222222, \"#7201a8\"], [0.3333333333333333, \"#9c179e\"], [0.4444444444444444, \"#bd3786\"], [0.5555555555555556, \"#d8576b\"], [0.6666666666666666, \"#ed7953\"], [0.7777777777777778, \"#fb9f3a\"], [0.8888888888888888, \"#fdca26\"], [1.0, \"#f0f921\"]]}, \"colorway\": [\"#636efa\", \"#EF553B\", \"#00cc96\", \"#ab63fa\", \"#FFA15A\", \"#19d3f3\", \"#FF6692\", \"#B6E880\", \"#FF97FF\", \"#FECB52\"], \"font\": {\"color\": \"#2a3f5f\"}, \"geo\": {\"bgcolor\": \"white\", \"lakecolor\": \"white\", \"landcolor\": \"#E5ECF6\", \"showlakes\": true, \"showland\": true, \"subunitcolor\": \"white\"}, \"hoverlabel\": {\"align\": \"left\"}, \"hovermode\": \"closest\", \"mapbox\": {\"style\": \"light\"}, \"paper_bgcolor\": \"white\", \"plot_bgcolor\": \"#E5ECF6\", \"polar\": {\"angularaxis\": {\"gridcolor\": \"white\", \"linecolor\": \"white\", \"ticks\": \"\"}, \"bgcolor\": \"#E5ECF6\", \"radialaxis\": {\"gridcolor\": \"white\", \"linecolor\": \"white\", \"ticks\": \"\"}}, \"scene\": {\"xaxis\": {\"backgroundcolor\": \"#E5ECF6\", \"gridcolor\": \"white\", \"gridwidth\": 2, \"linecolor\": \"white\", \"showbackground\": true, \"ticks\": \"\", \"zerolinecolor\": \"white\"}, \"yaxis\": {\"backgroundcolor\": \"#E5ECF6\", \"gridcolor\": \"white\", \"gridwidth\": 2, \"linecolor\": \"white\", \"showbackground\": true, \"ticks\": \"\", \"zerolinecolor\": \"white\"}, \"zaxis\": {\"backgroundcolor\": \"#E5ECF6\", \"gridcolor\": \"white\", \"gridwidth\": 2, \"linecolor\": \"white\", \"showbackground\": true, \"ticks\": \"\", \"zerolinecolor\": \"white\"}}, \"shapedefaults\": {\"line\": {\"color\": \"#2a3f5f\"}}, \"ternary\": {\"aaxis\": {\"gridcolor\": \"white\", \"linecolor\": \"white\", \"ticks\": \"\"}, \"baxis\": {\"gridcolor\": \"white\", \"linecolor\": \"white\", \"ticks\": \"\"}, \"bgcolor\": \"#E5ECF6\", \"caxis\": {\"gridcolor\": \"white\", \"linecolor\": \"white\", \"ticks\": \"\"}}, \"title\": {\"x\": 0.05}, \"xaxis\": {\"automargin\": true, \"gridcolor\": \"white\", \"linecolor\": \"white\", \"ticks\": \"\", \"title\": {\"standoff\": 15}, \"zerolinecolor\": \"white\", \"zerolinewidth\": 2}, \"yaxis\": {\"automargin\": true, \"gridcolor\": \"white\", \"linecolor\": \"white\", \"ticks\": \"\", \"title\": {\"standoff\": 15}, \"zerolinecolor\": \"white\", \"zerolinewidth\": 2}}}},\n                        {\"responsive\": true}\n                    ).then(function(){\n                            \nvar gd = document.getElementById('72c62d9b-b316-4fe3-9d55-35f50a3ef703');\nvar x = new MutationObserver(function (mutations, observer) {{\n        var display = window.getComputedStyle(gd).display;\n        if (!display || display === 'none') {{\n            console.log([gd, 'removed!']);\n            Plotly.purge(gd);\n            observer.disconnect();\n        }}\n}});\n\n// Listen for the removal of the full notebook cells\nvar notebookContainer = gd.closest('#notebook-container');\nif (notebookContainer) {{\n    x.observe(notebookContainer, {childList: true});\n}}\n\n// Listen for the clearing of the current output cell\nvar outputEl = gd.closest('.output');\nif (outputEl) {{\n    x.observe(outputEl, {childList: true});\n}}\n\n                        })\n                };\n                });\n            </script>\n        </div>"
     },
     "metadata": {}
    }
   ],
   "source": [
    "\n",
    "fig = go.Figure()\n",
    "for income_quintile in income_quintiles:\n",
    "\n",
    "    fig.add_trace(go.Scatter(x = income_aggregate_all[income_aggregate_all['income_quintile']==income_quintile][\"year\"],\n",
    "    y= income_aggregate_all[income_aggregate_all['income_quintile']==income_quintile][\"income_share\"], fill=\"tonexty\", name = income_quintile))\n",
    "\n",
    "fig.show()"
   ]
  },
  {
   "cell_type": "code",
   "execution_count": 15,
   "metadata": {},
   "outputs": [
    {
     "output_type": "display_data",
     "data": {
      "application/vnd.plotly.v1+json": {
       "config": {
        "plotlyServerURL": "https://plot.ly"
       },
       "data": [
        {
         "labels": [
          "Lowest",
          "Second",
          "Third",
          "Fourth",
          "Highest"
         ],
         "parents": [
          "",
          "",
          "",
          "",
          ""
         ],
         "type": "treemap",
         "values": [
          3.1,
          8.3,
          14.1,
          22.6,
          52
         ]
        }
       ],
       "layout": {
        "template": {
         "data": {
          "bar": [
           {
            "error_x": {
             "color": "#2a3f5f"
            },
            "error_y": {
             "color": "#2a3f5f"
            },
            "marker": {
             "line": {
              "color": "#E5ECF6",
              "width": 0.5
             }
            },
            "type": "bar"
           }
          ],
          "barpolar": [
           {
            "marker": {
             "line": {
              "color": "#E5ECF6",
              "width": 0.5
             }
            },
            "type": "barpolar"
           }
          ],
          "carpet": [
           {
            "aaxis": {
             "endlinecolor": "#2a3f5f",
             "gridcolor": "white",
             "linecolor": "white",
             "minorgridcolor": "white",
             "startlinecolor": "#2a3f5f"
            },
            "baxis": {
             "endlinecolor": "#2a3f5f",
             "gridcolor": "white",
             "linecolor": "white",
             "minorgridcolor": "white",
             "startlinecolor": "#2a3f5f"
            },
            "type": "carpet"
           }
          ],
          "choropleth": [
           {
            "colorbar": {
             "outlinewidth": 0,
             "ticks": ""
            },
            "type": "choropleth"
           }
          ],
          "contour": [
           {
            "colorbar": {
             "outlinewidth": 0,
             "ticks": ""
            },
            "colorscale": [
             [
              0,
              "#0d0887"
             ],
             [
              0.1111111111111111,
              "#46039f"
             ],
             [
              0.2222222222222222,
              "#7201a8"
             ],
             [
              0.3333333333333333,
              "#9c179e"
             ],
             [
              0.4444444444444444,
              "#bd3786"
             ],
             [
              0.5555555555555556,
              "#d8576b"
             ],
             [
              0.6666666666666666,
              "#ed7953"
             ],
             [
              0.7777777777777778,
              "#fb9f3a"
             ],
             [
              0.8888888888888888,
              "#fdca26"
             ],
             [
              1,
              "#f0f921"
             ]
            ],
            "type": "contour"
           }
          ],
          "contourcarpet": [
           {
            "colorbar": {
             "outlinewidth": 0,
             "ticks": ""
            },
            "type": "contourcarpet"
           }
          ],
          "heatmap": [
           {
            "colorbar": {
             "outlinewidth": 0,
             "ticks": ""
            },
            "colorscale": [
             [
              0,
              "#0d0887"
             ],
             [
              0.1111111111111111,
              "#46039f"
             ],
             [
              0.2222222222222222,
              "#7201a8"
             ],
             [
              0.3333333333333333,
              "#9c179e"
             ],
             [
              0.4444444444444444,
              "#bd3786"
             ],
             [
              0.5555555555555556,
              "#d8576b"
             ],
             [
              0.6666666666666666,
              "#ed7953"
             ],
             [
              0.7777777777777778,
              "#fb9f3a"
             ],
             [
              0.8888888888888888,
              "#fdca26"
             ],
             [
              1,
              "#f0f921"
             ]
            ],
            "type": "heatmap"
           }
          ],
          "heatmapgl": [
           {
            "colorbar": {
             "outlinewidth": 0,
             "ticks": ""
            },
            "colorscale": [
             [
              0,
              "#0d0887"
             ],
             [
              0.1111111111111111,
              "#46039f"
             ],
             [
              0.2222222222222222,
              "#7201a8"
             ],
             [
              0.3333333333333333,
              "#9c179e"
             ],
             [
              0.4444444444444444,
              "#bd3786"
             ],
             [
              0.5555555555555556,
              "#d8576b"
             ],
             [
              0.6666666666666666,
              "#ed7953"
             ],
             [
              0.7777777777777778,
              "#fb9f3a"
             ],
             [
              0.8888888888888888,
              "#fdca26"
             ],
             [
              1,
              "#f0f921"
             ]
            ],
            "type": "heatmapgl"
           }
          ],
          "histogram": [
           {
            "marker": {
             "colorbar": {
              "outlinewidth": 0,
              "ticks": ""
             }
            },
            "type": "histogram"
           }
          ],
          "histogram2d": [
           {
            "colorbar": {
             "outlinewidth": 0,
             "ticks": ""
            },
            "colorscale": [
             [
              0,
              "#0d0887"
             ],
             [
              0.1111111111111111,
              "#46039f"
             ],
             [
              0.2222222222222222,
              "#7201a8"
             ],
             [
              0.3333333333333333,
              "#9c179e"
             ],
             [
              0.4444444444444444,
              "#bd3786"
             ],
             [
              0.5555555555555556,
              "#d8576b"
             ],
             [
              0.6666666666666666,
              "#ed7953"
             ],
             [
              0.7777777777777778,
              "#fb9f3a"
             ],
             [
              0.8888888888888888,
              "#fdca26"
             ],
             [
              1,
              "#f0f921"
             ]
            ],
            "type": "histogram2d"
           }
          ],
          "histogram2dcontour": [
           {
            "colorbar": {
             "outlinewidth": 0,
             "ticks": ""
            },
            "colorscale": [
             [
              0,
              "#0d0887"
             ],
             [
              0.1111111111111111,
              "#46039f"
             ],
             [
              0.2222222222222222,
              "#7201a8"
             ],
             [
              0.3333333333333333,
              "#9c179e"
             ],
             [
              0.4444444444444444,
              "#bd3786"
             ],
             [
              0.5555555555555556,
              "#d8576b"
             ],
             [
              0.6666666666666666,
              "#ed7953"
             ],
             [
              0.7777777777777778,
              "#fb9f3a"
             ],
             [
              0.8888888888888888,
              "#fdca26"
             ],
             [
              1,
              "#f0f921"
             ]
            ],
            "type": "histogram2dcontour"
           }
          ],
          "mesh3d": [
           {
            "colorbar": {
             "outlinewidth": 0,
             "ticks": ""
            },
            "type": "mesh3d"
           }
          ],
          "parcoords": [
           {
            "line": {
             "colorbar": {
              "outlinewidth": 0,
              "ticks": ""
             }
            },
            "type": "parcoords"
           }
          ],
          "pie": [
           {
            "automargin": true,
            "type": "pie"
           }
          ],
          "scatter": [
           {
            "marker": {
             "colorbar": {
              "outlinewidth": 0,
              "ticks": ""
             }
            },
            "type": "scatter"
           }
          ],
          "scatter3d": [
           {
            "line": {
             "colorbar": {
              "outlinewidth": 0,
              "ticks": ""
             }
            },
            "marker": {
             "colorbar": {
              "outlinewidth": 0,
              "ticks": ""
             }
            },
            "type": "scatter3d"
           }
          ],
          "scattercarpet": [
           {
            "marker": {
             "colorbar": {
              "outlinewidth": 0,
              "ticks": ""
             }
            },
            "type": "scattercarpet"
           }
          ],
          "scattergeo": [
           {
            "marker": {
             "colorbar": {
              "outlinewidth": 0,
              "ticks": ""
             }
            },
            "type": "scattergeo"
           }
          ],
          "scattergl": [
           {
            "marker": {
             "colorbar": {
              "outlinewidth": 0,
              "ticks": ""
             }
            },
            "type": "scattergl"
           }
          ],
          "scattermapbox": [
           {
            "marker": {
             "colorbar": {
              "outlinewidth": 0,
              "ticks": ""
             }
            },
            "type": "scattermapbox"
           }
          ],
          "scatterpolar": [
           {
            "marker": {
             "colorbar": {
              "outlinewidth": 0,
              "ticks": ""
             }
            },
            "type": "scatterpolar"
           }
          ],
          "scatterpolargl": [
           {
            "marker": {
             "colorbar": {
              "outlinewidth": 0,
              "ticks": ""
             }
            },
            "type": "scatterpolargl"
           }
          ],
          "scatterternary": [
           {
            "marker": {
             "colorbar": {
              "outlinewidth": 0,
              "ticks": ""
             }
            },
            "type": "scatterternary"
           }
          ],
          "surface": [
           {
            "colorbar": {
             "outlinewidth": 0,
             "ticks": ""
            },
            "colorscale": [
             [
              0,
              "#0d0887"
             ],
             [
              0.1111111111111111,
              "#46039f"
             ],
             [
              0.2222222222222222,
              "#7201a8"
             ],
             [
              0.3333333333333333,
              "#9c179e"
             ],
             [
              0.4444444444444444,
              "#bd3786"
             ],
             [
              0.5555555555555556,
              "#d8576b"
             ],
             [
              0.6666666666666666,
              "#ed7953"
             ],
             [
              0.7777777777777778,
              "#fb9f3a"
             ],
             [
              0.8888888888888888,
              "#fdca26"
             ],
             [
              1,
              "#f0f921"
             ]
            ],
            "type": "surface"
           }
          ],
          "table": [
           {
            "cells": {
             "fill": {
              "color": "#EBF0F8"
             },
             "line": {
              "color": "white"
             }
            },
            "header": {
             "fill": {
              "color": "#C8D4E3"
             },
             "line": {
              "color": "white"
             }
            },
            "type": "table"
           }
          ]
         },
         "layout": {
          "annotationdefaults": {
           "arrowcolor": "#2a3f5f",
           "arrowhead": 0,
           "arrowwidth": 1
          },
          "coloraxis": {
           "colorbar": {
            "outlinewidth": 0,
            "ticks": ""
           }
          },
          "colorscale": {
           "diverging": [
            [
             0,
             "#8e0152"
            ],
            [
             0.1,
             "#c51b7d"
            ],
            [
             0.2,
             "#de77ae"
            ],
            [
             0.3,
             "#f1b6da"
            ],
            [
             0.4,
             "#fde0ef"
            ],
            [
             0.5,
             "#f7f7f7"
            ],
            [
             0.6,
             "#e6f5d0"
            ],
            [
             0.7,
             "#b8e186"
            ],
            [
             0.8,
             "#7fbc41"
            ],
            [
             0.9,
             "#4d9221"
            ],
            [
             1,
             "#276419"
            ]
           ],
           "sequential": [
            [
             0,
             "#0d0887"
            ],
            [
             0.1111111111111111,
             "#46039f"
            ],
            [
             0.2222222222222222,
             "#7201a8"
            ],
            [
             0.3333333333333333,
             "#9c179e"
            ],
            [
             0.4444444444444444,
             "#bd3786"
            ],
            [
             0.5555555555555556,
             "#d8576b"
            ],
            [
             0.6666666666666666,
             "#ed7953"
            ],
            [
             0.7777777777777778,
             "#fb9f3a"
            ],
            [
             0.8888888888888888,
             "#fdca26"
            ],
            [
             1,
             "#f0f921"
            ]
           ],
           "sequentialminus": [
            [
             0,
             "#0d0887"
            ],
            [
             0.1111111111111111,
             "#46039f"
            ],
            [
             0.2222222222222222,
             "#7201a8"
            ],
            [
             0.3333333333333333,
             "#9c179e"
            ],
            [
             0.4444444444444444,
             "#bd3786"
            ],
            [
             0.5555555555555556,
             "#d8576b"
            ],
            [
             0.6666666666666666,
             "#ed7953"
            ],
            [
             0.7777777777777778,
             "#fb9f3a"
            ],
            [
             0.8888888888888888,
             "#fdca26"
            ],
            [
             1,
             "#f0f921"
            ]
           ]
          },
          "colorway": [
           "#636efa",
           "#EF553B",
           "#00cc96",
           "#ab63fa",
           "#FFA15A",
           "#19d3f3",
           "#FF6692",
           "#B6E880",
           "#FF97FF",
           "#FECB52"
          ],
          "font": {
           "color": "#2a3f5f"
          },
          "geo": {
           "bgcolor": "white",
           "lakecolor": "white",
           "landcolor": "#E5ECF6",
           "showlakes": true,
           "showland": true,
           "subunitcolor": "white"
          },
          "hoverlabel": {
           "align": "left"
          },
          "hovermode": "closest",
          "mapbox": {
           "style": "light"
          },
          "paper_bgcolor": "white",
          "plot_bgcolor": "#E5ECF6",
          "polar": {
           "angularaxis": {
            "gridcolor": "white",
            "linecolor": "white",
            "ticks": ""
           },
           "bgcolor": "#E5ECF6",
           "radialaxis": {
            "gridcolor": "white",
            "linecolor": "white",
            "ticks": ""
           }
          },
          "scene": {
           "xaxis": {
            "backgroundcolor": "#E5ECF6",
            "gridcolor": "white",
            "gridwidth": 2,
            "linecolor": "white",
            "showbackground": true,
            "ticks": "",
            "zerolinecolor": "white"
           },
           "yaxis": {
            "backgroundcolor": "#E5ECF6",
            "gridcolor": "white",
            "gridwidth": 2,
            "linecolor": "white",
            "showbackground": true,
            "ticks": "",
            "zerolinecolor": "white"
           },
           "zaxis": {
            "backgroundcolor": "#E5ECF6",
            "gridcolor": "white",
            "gridwidth": 2,
            "linecolor": "white",
            "showbackground": true,
            "ticks": "",
            "zerolinecolor": "white"
           }
          },
          "shapedefaults": {
           "line": {
            "color": "#2a3f5f"
           }
          },
          "ternary": {
           "aaxis": {
            "gridcolor": "white",
            "linecolor": "white",
            "ticks": ""
           },
           "baxis": {
            "gridcolor": "white",
            "linecolor": "white",
            "ticks": ""
           },
           "bgcolor": "#E5ECF6",
           "caxis": {
            "gridcolor": "white",
            "linecolor": "white",
            "ticks": ""
           }
          },
          "title": {
           "x": 0.05
          },
          "xaxis": {
           "automargin": true,
           "gridcolor": "white",
           "linecolor": "white",
           "ticks": "",
           "title": {
            "standoff": 15
           },
           "zerolinecolor": "white",
           "zerolinewidth": 2
          },
          "yaxis": {
           "automargin": true,
           "gridcolor": "white",
           "linecolor": "white",
           "ticks": "",
           "title": {
            "standoff": 15
           },
           "zerolinecolor": "white",
           "zerolinewidth": 2
          }
         }
        }
       }
      },
      "text/html": "<div>\n        \n        \n            <div id=\"bbabcae2-0782-4131-b2ed-853990887b5d\" class=\"plotly-graph-div\" style=\"height:525px; width:100%;\"></div>\n            <script type=\"text/javascript\">\n                require([\"plotly\"], function(Plotly) {\n                    window.PLOTLYENV=window.PLOTLYENV || {};\n                    \n                if (document.getElementById(\"bbabcae2-0782-4131-b2ed-853990887b5d\")) {\n                    Plotly.newPlot(\n                        'bbabcae2-0782-4131-b2ed-853990887b5d',\n                        [{\"labels\": [\"Lowest\", \"Second\", \"Third\", \"Fourth\", \"Highest\"], \"parents\": [\"\", \"\", \"\", \"\", \"\"], \"type\": \"treemap\", \"values\": [3.1, 8.3, 14.1, 22.6, 52.0]}],\n                        {\"template\": {\"data\": {\"bar\": [{\"error_x\": {\"color\": \"#2a3f5f\"}, \"error_y\": {\"color\": \"#2a3f5f\"}, \"marker\": {\"line\": {\"color\": \"#E5ECF6\", \"width\": 0.5}}, \"type\": \"bar\"}], \"barpolar\": [{\"marker\": {\"line\": {\"color\": \"#E5ECF6\", \"width\": 0.5}}, \"type\": \"barpolar\"}], \"carpet\": [{\"aaxis\": {\"endlinecolor\": \"#2a3f5f\", \"gridcolor\": \"white\", \"linecolor\": \"white\", \"minorgridcolor\": \"white\", \"startlinecolor\": \"#2a3f5f\"}, \"baxis\": {\"endlinecolor\": \"#2a3f5f\", \"gridcolor\": \"white\", \"linecolor\": \"white\", \"minorgridcolor\": \"white\", \"startlinecolor\": \"#2a3f5f\"}, \"type\": \"carpet\"}], \"choropleth\": [{\"colorbar\": {\"outlinewidth\": 0, \"ticks\": \"\"}, \"type\": \"choropleth\"}], \"contour\": [{\"colorbar\": {\"outlinewidth\": 0, \"ticks\": \"\"}, \"colorscale\": [[0.0, \"#0d0887\"], [0.1111111111111111, \"#46039f\"], [0.2222222222222222, \"#7201a8\"], [0.3333333333333333, \"#9c179e\"], [0.4444444444444444, \"#bd3786\"], [0.5555555555555556, \"#d8576b\"], [0.6666666666666666, \"#ed7953\"], [0.7777777777777778, \"#fb9f3a\"], [0.8888888888888888, \"#fdca26\"], [1.0, \"#f0f921\"]], \"type\": \"contour\"}], \"contourcarpet\": [{\"colorbar\": {\"outlinewidth\": 0, \"ticks\": \"\"}, \"type\": \"contourcarpet\"}], \"heatmap\": [{\"colorbar\": {\"outlinewidth\": 0, \"ticks\": \"\"}, \"colorscale\": [[0.0, \"#0d0887\"], [0.1111111111111111, \"#46039f\"], [0.2222222222222222, \"#7201a8\"], [0.3333333333333333, \"#9c179e\"], [0.4444444444444444, \"#bd3786\"], [0.5555555555555556, \"#d8576b\"], [0.6666666666666666, \"#ed7953\"], [0.7777777777777778, \"#fb9f3a\"], [0.8888888888888888, \"#fdca26\"], [1.0, \"#f0f921\"]], \"type\": \"heatmap\"}], \"heatmapgl\": [{\"colorbar\": {\"outlinewidth\": 0, \"ticks\": \"\"}, \"colorscale\": [[0.0, \"#0d0887\"], [0.1111111111111111, \"#46039f\"], [0.2222222222222222, \"#7201a8\"], [0.3333333333333333, \"#9c179e\"], [0.4444444444444444, \"#bd3786\"], [0.5555555555555556, \"#d8576b\"], [0.6666666666666666, \"#ed7953\"], [0.7777777777777778, \"#fb9f3a\"], [0.8888888888888888, \"#fdca26\"], [1.0, \"#f0f921\"]], \"type\": \"heatmapgl\"}], \"histogram\": [{\"marker\": {\"colorbar\": {\"outlinewidth\": 0, \"ticks\": \"\"}}, \"type\": \"histogram\"}], \"histogram2d\": [{\"colorbar\": {\"outlinewidth\": 0, \"ticks\": \"\"}, \"colorscale\": [[0.0, \"#0d0887\"], [0.1111111111111111, \"#46039f\"], [0.2222222222222222, \"#7201a8\"], [0.3333333333333333, \"#9c179e\"], [0.4444444444444444, \"#bd3786\"], [0.5555555555555556, \"#d8576b\"], [0.6666666666666666, \"#ed7953\"], [0.7777777777777778, \"#fb9f3a\"], [0.8888888888888888, \"#fdca26\"], [1.0, \"#f0f921\"]], \"type\": \"histogram2d\"}], \"histogram2dcontour\": [{\"colorbar\": {\"outlinewidth\": 0, \"ticks\": \"\"}, \"colorscale\": [[0.0, \"#0d0887\"], [0.1111111111111111, \"#46039f\"], [0.2222222222222222, \"#7201a8\"], [0.3333333333333333, \"#9c179e\"], [0.4444444444444444, \"#bd3786\"], [0.5555555555555556, \"#d8576b\"], [0.6666666666666666, \"#ed7953\"], [0.7777777777777778, \"#fb9f3a\"], [0.8888888888888888, \"#fdca26\"], [1.0, \"#f0f921\"]], \"type\": \"histogram2dcontour\"}], \"mesh3d\": [{\"colorbar\": {\"outlinewidth\": 0, \"ticks\": \"\"}, \"type\": \"mesh3d\"}], \"parcoords\": [{\"line\": {\"colorbar\": {\"outlinewidth\": 0, \"ticks\": \"\"}}, \"type\": \"parcoords\"}], \"pie\": [{\"automargin\": true, \"type\": \"pie\"}], \"scatter\": [{\"marker\": {\"colorbar\": {\"outlinewidth\": 0, \"ticks\": \"\"}}, \"type\": \"scatter\"}], \"scatter3d\": [{\"line\": {\"colorbar\": {\"outlinewidth\": 0, \"ticks\": \"\"}}, \"marker\": {\"colorbar\": {\"outlinewidth\": 0, \"ticks\": \"\"}}, \"type\": \"scatter3d\"}], \"scattercarpet\": [{\"marker\": {\"colorbar\": {\"outlinewidth\": 0, \"ticks\": \"\"}}, \"type\": \"scattercarpet\"}], \"scattergeo\": [{\"marker\": {\"colorbar\": {\"outlinewidth\": 0, \"ticks\": \"\"}}, \"type\": \"scattergeo\"}], \"scattergl\": [{\"marker\": {\"colorbar\": {\"outlinewidth\": 0, \"ticks\": \"\"}}, \"type\": \"scattergl\"}], \"scattermapbox\": [{\"marker\": {\"colorbar\": {\"outlinewidth\": 0, \"ticks\": \"\"}}, \"type\": \"scattermapbox\"}], \"scatterpolar\": [{\"marker\": {\"colorbar\": {\"outlinewidth\": 0, \"ticks\": \"\"}}, \"type\": \"scatterpolar\"}], \"scatterpolargl\": [{\"marker\": {\"colorbar\": {\"outlinewidth\": 0, \"ticks\": \"\"}}, \"type\": \"scatterpolargl\"}], \"scatterternary\": [{\"marker\": {\"colorbar\": {\"outlinewidth\": 0, \"ticks\": \"\"}}, \"type\": \"scatterternary\"}], \"surface\": [{\"colorbar\": {\"outlinewidth\": 0, \"ticks\": \"\"}, \"colorscale\": [[0.0, \"#0d0887\"], [0.1111111111111111, \"#46039f\"], [0.2222222222222222, \"#7201a8\"], [0.3333333333333333, \"#9c179e\"], [0.4444444444444444, \"#bd3786\"], [0.5555555555555556, \"#d8576b\"], [0.6666666666666666, \"#ed7953\"], [0.7777777777777778, \"#fb9f3a\"], [0.8888888888888888, \"#fdca26\"], [1.0, \"#f0f921\"]], \"type\": \"surface\"}], \"table\": [{\"cells\": {\"fill\": {\"color\": \"#EBF0F8\"}, \"line\": {\"color\": \"white\"}}, \"header\": {\"fill\": {\"color\": \"#C8D4E3\"}, \"line\": {\"color\": \"white\"}}, \"type\": \"table\"}]}, \"layout\": {\"annotationdefaults\": {\"arrowcolor\": \"#2a3f5f\", \"arrowhead\": 0, \"arrowwidth\": 1}, \"coloraxis\": {\"colorbar\": {\"outlinewidth\": 0, \"ticks\": \"\"}}, \"colorscale\": {\"diverging\": [[0, \"#8e0152\"], [0.1, \"#c51b7d\"], [0.2, \"#de77ae\"], [0.3, \"#f1b6da\"], [0.4, \"#fde0ef\"], [0.5, \"#f7f7f7\"], [0.6, \"#e6f5d0\"], [0.7, \"#b8e186\"], [0.8, \"#7fbc41\"], [0.9, \"#4d9221\"], [1, \"#276419\"]], \"sequential\": [[0.0, \"#0d0887\"], [0.1111111111111111, \"#46039f\"], [0.2222222222222222, \"#7201a8\"], [0.3333333333333333, \"#9c179e\"], [0.4444444444444444, \"#bd3786\"], [0.5555555555555556, \"#d8576b\"], [0.6666666666666666, \"#ed7953\"], [0.7777777777777778, \"#fb9f3a\"], [0.8888888888888888, \"#fdca26\"], [1.0, \"#f0f921\"]], \"sequentialminus\": [[0.0, \"#0d0887\"], [0.1111111111111111, \"#46039f\"], [0.2222222222222222, \"#7201a8\"], [0.3333333333333333, \"#9c179e\"], [0.4444444444444444, \"#bd3786\"], [0.5555555555555556, \"#d8576b\"], [0.6666666666666666, \"#ed7953\"], [0.7777777777777778, \"#fb9f3a\"], [0.8888888888888888, \"#fdca26\"], [1.0, \"#f0f921\"]]}, \"colorway\": [\"#636efa\", \"#EF553B\", \"#00cc96\", \"#ab63fa\", \"#FFA15A\", \"#19d3f3\", \"#FF6692\", \"#B6E880\", \"#FF97FF\", \"#FECB52\"], \"font\": {\"color\": \"#2a3f5f\"}, \"geo\": {\"bgcolor\": \"white\", \"lakecolor\": \"white\", \"landcolor\": \"#E5ECF6\", \"showlakes\": true, \"showland\": true, \"subunitcolor\": \"white\"}, \"hoverlabel\": {\"align\": \"left\"}, \"hovermode\": \"closest\", \"mapbox\": {\"style\": \"light\"}, \"paper_bgcolor\": \"white\", \"plot_bgcolor\": \"#E5ECF6\", \"polar\": {\"angularaxis\": {\"gridcolor\": \"white\", \"linecolor\": \"white\", \"ticks\": \"\"}, \"bgcolor\": \"#E5ECF6\", \"radialaxis\": {\"gridcolor\": \"white\", \"linecolor\": \"white\", \"ticks\": \"\"}}, \"scene\": {\"xaxis\": {\"backgroundcolor\": \"#E5ECF6\", \"gridcolor\": \"white\", \"gridwidth\": 2, \"linecolor\": \"white\", \"showbackground\": true, \"ticks\": \"\", \"zerolinecolor\": \"white\"}, \"yaxis\": {\"backgroundcolor\": \"#E5ECF6\", \"gridcolor\": \"white\", \"gridwidth\": 2, \"linecolor\": \"white\", \"showbackground\": true, \"ticks\": \"\", \"zerolinecolor\": \"white\"}, \"zaxis\": {\"backgroundcolor\": \"#E5ECF6\", \"gridcolor\": \"white\", \"gridwidth\": 2, \"linecolor\": \"white\", \"showbackground\": true, \"ticks\": \"\", \"zerolinecolor\": \"white\"}}, \"shapedefaults\": {\"line\": {\"color\": \"#2a3f5f\"}}, \"ternary\": {\"aaxis\": {\"gridcolor\": \"white\", \"linecolor\": \"white\", \"ticks\": \"\"}, \"baxis\": {\"gridcolor\": \"white\", \"linecolor\": \"white\", \"ticks\": \"\"}, \"bgcolor\": \"#E5ECF6\", \"caxis\": {\"gridcolor\": \"white\", \"linecolor\": \"white\", \"ticks\": \"\"}}, \"title\": {\"x\": 0.05}, \"xaxis\": {\"automargin\": true, \"gridcolor\": \"white\", \"linecolor\": \"white\", \"ticks\": \"\", \"title\": {\"standoff\": 15}, \"zerolinecolor\": \"white\", \"zerolinewidth\": 2}, \"yaxis\": {\"automargin\": true, \"gridcolor\": \"white\", \"linecolor\": \"white\", \"ticks\": \"\", \"title\": {\"standoff\": 15}, \"zerolinecolor\": \"white\", \"zerolinewidth\": 2}}}},\n                        {\"responsive\": true}\n                    ).then(function(){\n                            \nvar gd = document.getElementById('bbabcae2-0782-4131-b2ed-853990887b5d');\nvar x = new MutationObserver(function (mutations, observer) {{\n        var display = window.getComputedStyle(gd).display;\n        if (!display || display === 'none') {{\n            console.log([gd, 'removed!']);\n            Plotly.purge(gd);\n            observer.disconnect();\n        }}\n}});\n\n// Listen for the removal of the full notebook cells\nvar notebookContainer = gd.closest('#notebook-container');\nif (notebookContainer) {{\n    x.observe(notebookContainer, {childList: true});\n}}\n\n// Listen for the clearing of the current output cell\nvar outputEl = gd.closest('.output');\nif (outputEl) {{\n    x.observe(outputEl, {childList: true});\n}}\n\n                        })\n                };\n                });\n            </script>\n        </div>"
     },
     "metadata": {}
    }
   ],
   "source": [
    "fig = go.Figure()\n",
    "fig.add_trace(go.Treemap(\n",
    "    labels = income_quintiles,\n",
    "    parents = [\"\", \"\", \"\", \"\", \"\"],\n",
    "    values = list(income_aggregate_all[income_aggregate_all['year']==2018]['income_share'])\n",
    "))"
   ]
  },
  {
   "cell_type": "code",
   "execution_count": 51,
   "metadata": {},
   "outputs": [
    {
     "output_type": "display_data",
     "data": {
      "application/vnd.plotly.v1+json": {
       "config": {
        "plotlyServerURL": "https://plot.ly"
       },
       "data": [
        {
         "domain": {
          "x": [
           0,
           0.45
          ],
          "y": [
           0.625,
           1
          ]
         },
         "labels": [
          "Lowest",
          "Second",
          "Third",
          "Fourth",
          "Highest"
         ],
         "parents": [
          "",
          "",
          "",
          "",
          ""
         ],
         "textinfo": "label+value",
         "type": "treemap",
         "values": [
          2.7,
          8.4,
          14.6,
          23.1,
          51.1
         ]
        },
        {
         "domain": {
          "x": [
           0.55,
           1
          ],
          "y": [
           0.625,
           1
          ]
         },
         "labels": [
          "Lowest",
          "Second",
          "Third",
          "Fourth",
          "Highest"
         ],
         "parents": [
          "",
          "",
          "",
          "",
          ""
         ],
         "textinfo": "label+value",
         "type": "treemap",
         "values": [
          2.6,
          7.9,
          14.1,
          23.3,
          52.1
         ]
        },
        {
         "domain": {
          "x": [
           0,
           0.45
          ],
          "y": [
           0,
           0.375
          ]
         },
         "labels": [
          "Lowest",
          "Second",
          "Third",
          "Fourth",
          "Highest"
         ],
         "parents": [
          "",
          "",
          "",
          "",
          ""
         ],
         "textinfo": "label+value",
         "type": "treemap",
         "values": [
          3.5,
          8.9,
          14.5,
          22.5,
          50.6
         ]
        },
        {
         "domain": {
          "x": [
           0.55,
           1
          ],
          "y": [
           0,
           0.375
          ]
         },
         "labels": [
          "Lowest",
          "Second",
          "Third",
          "Fourth",
          "Highest"
         ],
         "parents": [
          "",
          "",
          "",
          "",
          ""
         ],
         "textinfo": "label+value",
         "type": "treemap",
         "values": [
          3.3,
          8.6,
          14.4,
          22.5,
          51.1
         ]
        }
       ],
       "layout": {
        "annotations": [
         {
          "font": {
           "size": 16
          },
          "showarrow": false,
          "text": "Asain",
          "x": 0.225,
          "xanchor": "center",
          "xref": "paper",
          "y": 1,
          "yanchor": "bottom",
          "yref": "paper"
         },
         {
          "font": {
           "size": 16
          },
          "showarrow": false,
          "text": "Black",
          "x": 0.775,
          "xanchor": "center",
          "xref": "paper",
          "y": 1,
          "yanchor": "bottom",
          "yref": "paper"
         },
         {
          "font": {
           "size": 16
          },
          "showarrow": false,
          "text": "Hispanic",
          "x": 0.225,
          "xanchor": "center",
          "xref": "paper",
          "y": 0.375,
          "yanchor": "bottom",
          "yref": "paper"
         },
         {
          "font": {
           "size": 16
          },
          "showarrow": false,
          "text": "White",
          "x": 0.775,
          "xanchor": "center",
          "xref": "paper",
          "y": 0.375,
          "yanchor": "bottom",
          "yref": "paper"
         }
        ],
        "autosize": false,
        "height": 1000,
        "template": {
         "data": {
          "bar": [
           {
            "error_x": {
             "color": "#2a3f5f"
            },
            "error_y": {
             "color": "#2a3f5f"
            },
            "marker": {
             "line": {
              "color": "#E5ECF6",
              "width": 0.5
             }
            },
            "type": "bar"
           }
          ],
          "barpolar": [
           {
            "marker": {
             "line": {
              "color": "#E5ECF6",
              "width": 0.5
             }
            },
            "type": "barpolar"
           }
          ],
          "carpet": [
           {
            "aaxis": {
             "endlinecolor": "#2a3f5f",
             "gridcolor": "white",
             "linecolor": "white",
             "minorgridcolor": "white",
             "startlinecolor": "#2a3f5f"
            },
            "baxis": {
             "endlinecolor": "#2a3f5f",
             "gridcolor": "white",
             "linecolor": "white",
             "minorgridcolor": "white",
             "startlinecolor": "#2a3f5f"
            },
            "type": "carpet"
           }
          ],
          "choropleth": [
           {
            "colorbar": {
             "outlinewidth": 0,
             "ticks": ""
            },
            "type": "choropleth"
           }
          ],
          "contour": [
           {
            "colorbar": {
             "outlinewidth": 0,
             "ticks": ""
            },
            "colorscale": [
             [
              0,
              "#0d0887"
             ],
             [
              0.1111111111111111,
              "#46039f"
             ],
             [
              0.2222222222222222,
              "#7201a8"
             ],
             [
              0.3333333333333333,
              "#9c179e"
             ],
             [
              0.4444444444444444,
              "#bd3786"
             ],
             [
              0.5555555555555556,
              "#d8576b"
             ],
             [
              0.6666666666666666,
              "#ed7953"
             ],
             [
              0.7777777777777778,
              "#fb9f3a"
             ],
             [
              0.8888888888888888,
              "#fdca26"
             ],
             [
              1,
              "#f0f921"
             ]
            ],
            "type": "contour"
           }
          ],
          "contourcarpet": [
           {
            "colorbar": {
             "outlinewidth": 0,
             "ticks": ""
            },
            "type": "contourcarpet"
           }
          ],
          "heatmap": [
           {
            "colorbar": {
             "outlinewidth": 0,
             "ticks": ""
            },
            "colorscale": [
             [
              0,
              "#0d0887"
             ],
             [
              0.1111111111111111,
              "#46039f"
             ],
             [
              0.2222222222222222,
              "#7201a8"
             ],
             [
              0.3333333333333333,
              "#9c179e"
             ],
             [
              0.4444444444444444,
              "#bd3786"
             ],
             [
              0.5555555555555556,
              "#d8576b"
             ],
             [
              0.6666666666666666,
              "#ed7953"
             ],
             [
              0.7777777777777778,
              "#fb9f3a"
             ],
             [
              0.8888888888888888,
              "#fdca26"
             ],
             [
              1,
              "#f0f921"
             ]
            ],
            "type": "heatmap"
           }
          ],
          "heatmapgl": [
           {
            "colorbar": {
             "outlinewidth": 0,
             "ticks": ""
            },
            "colorscale": [
             [
              0,
              "#0d0887"
             ],
             [
              0.1111111111111111,
              "#46039f"
             ],
             [
              0.2222222222222222,
              "#7201a8"
             ],
             [
              0.3333333333333333,
              "#9c179e"
             ],
             [
              0.4444444444444444,
              "#bd3786"
             ],
             [
              0.5555555555555556,
              "#d8576b"
             ],
             [
              0.6666666666666666,
              "#ed7953"
             ],
             [
              0.7777777777777778,
              "#fb9f3a"
             ],
             [
              0.8888888888888888,
              "#fdca26"
             ],
             [
              1,
              "#f0f921"
             ]
            ],
            "type": "heatmapgl"
           }
          ],
          "histogram": [
           {
            "marker": {
             "colorbar": {
              "outlinewidth": 0,
              "ticks": ""
             }
            },
            "type": "histogram"
           }
          ],
          "histogram2d": [
           {
            "colorbar": {
             "outlinewidth": 0,
             "ticks": ""
            },
            "colorscale": [
             [
              0,
              "#0d0887"
             ],
             [
              0.1111111111111111,
              "#46039f"
             ],
             [
              0.2222222222222222,
              "#7201a8"
             ],
             [
              0.3333333333333333,
              "#9c179e"
             ],
             [
              0.4444444444444444,
              "#bd3786"
             ],
             [
              0.5555555555555556,
              "#d8576b"
             ],
             [
              0.6666666666666666,
              "#ed7953"
             ],
             [
              0.7777777777777778,
              "#fb9f3a"
             ],
             [
              0.8888888888888888,
              "#fdca26"
             ],
             [
              1,
              "#f0f921"
             ]
            ],
            "type": "histogram2d"
           }
          ],
          "histogram2dcontour": [
           {
            "colorbar": {
             "outlinewidth": 0,
             "ticks": ""
            },
            "colorscale": [
             [
              0,
              "#0d0887"
             ],
             [
              0.1111111111111111,
              "#46039f"
             ],
             [
              0.2222222222222222,
              "#7201a8"
             ],
             [
              0.3333333333333333,
              "#9c179e"
             ],
             [
              0.4444444444444444,
              "#bd3786"
             ],
             [
              0.5555555555555556,
              "#d8576b"
             ],
             [
              0.6666666666666666,
              "#ed7953"
             ],
             [
              0.7777777777777778,
              "#fb9f3a"
             ],
             [
              0.8888888888888888,
              "#fdca26"
             ],
             [
              1,
              "#f0f921"
             ]
            ],
            "type": "histogram2dcontour"
           }
          ],
          "mesh3d": [
           {
            "colorbar": {
             "outlinewidth": 0,
             "ticks": ""
            },
            "type": "mesh3d"
           }
          ],
          "parcoords": [
           {
            "line": {
             "colorbar": {
              "outlinewidth": 0,
              "ticks": ""
             }
            },
            "type": "parcoords"
           }
          ],
          "pie": [
           {
            "automargin": true,
            "type": "pie"
           }
          ],
          "scatter": [
           {
            "marker": {
             "colorbar": {
              "outlinewidth": 0,
              "ticks": ""
             }
            },
            "type": "scatter"
           }
          ],
          "scatter3d": [
           {
            "line": {
             "colorbar": {
              "outlinewidth": 0,
              "ticks": ""
             }
            },
            "marker": {
             "colorbar": {
              "outlinewidth": 0,
              "ticks": ""
             }
            },
            "type": "scatter3d"
           }
          ],
          "scattercarpet": [
           {
            "marker": {
             "colorbar": {
              "outlinewidth": 0,
              "ticks": ""
             }
            },
            "type": "scattercarpet"
           }
          ],
          "scattergeo": [
           {
            "marker": {
             "colorbar": {
              "outlinewidth": 0,
              "ticks": ""
             }
            },
            "type": "scattergeo"
           }
          ],
          "scattergl": [
           {
            "marker": {
             "colorbar": {
              "outlinewidth": 0,
              "ticks": ""
             }
            },
            "type": "scattergl"
           }
          ],
          "scattermapbox": [
           {
            "marker": {
             "colorbar": {
              "outlinewidth": 0,
              "ticks": ""
             }
            },
            "type": "scattermapbox"
           }
          ],
          "scatterpolar": [
           {
            "marker": {
             "colorbar": {
              "outlinewidth": 0,
              "ticks": ""
             }
            },
            "type": "scatterpolar"
           }
          ],
          "scatterpolargl": [
           {
            "marker": {
             "colorbar": {
              "outlinewidth": 0,
              "ticks": ""
             }
            },
            "type": "scatterpolargl"
           }
          ],
          "scatterternary": [
           {
            "marker": {
             "colorbar": {
              "outlinewidth": 0,
              "ticks": ""
             }
            },
            "type": "scatterternary"
           }
          ],
          "surface": [
           {
            "colorbar": {
             "outlinewidth": 0,
             "ticks": ""
            },
            "colorscale": [
             [
              0,
              "#0d0887"
             ],
             [
              0.1111111111111111,
              "#46039f"
             ],
             [
              0.2222222222222222,
              "#7201a8"
             ],
             [
              0.3333333333333333,
              "#9c179e"
             ],
             [
              0.4444444444444444,
              "#bd3786"
             ],
             [
              0.5555555555555556,
              "#d8576b"
             ],
             [
              0.6666666666666666,
              "#ed7953"
             ],
             [
              0.7777777777777778,
              "#fb9f3a"
             ],
             [
              0.8888888888888888,
              "#fdca26"
             ],
             [
              1,
              "#f0f921"
             ]
            ],
            "type": "surface"
           }
          ],
          "table": [
           {
            "cells": {
             "fill": {
              "color": "#EBF0F8"
             },
             "line": {
              "color": "white"
             }
            },
            "header": {
             "fill": {
              "color": "#C8D4E3"
             },
             "line": {
              "color": "white"
             }
            },
            "type": "table"
           }
          ]
         },
         "layout": {
          "annotationdefaults": {
           "arrowcolor": "#2a3f5f",
           "arrowhead": 0,
           "arrowwidth": 1
          },
          "coloraxis": {
           "colorbar": {
            "outlinewidth": 0,
            "ticks": ""
           }
          },
          "colorscale": {
           "diverging": [
            [
             0,
             "#8e0152"
            ],
            [
             0.1,
             "#c51b7d"
            ],
            [
             0.2,
             "#de77ae"
            ],
            [
             0.3,
             "#f1b6da"
            ],
            [
             0.4,
             "#fde0ef"
            ],
            [
             0.5,
             "#f7f7f7"
            ],
            [
             0.6,
             "#e6f5d0"
            ],
            [
             0.7,
             "#b8e186"
            ],
            [
             0.8,
             "#7fbc41"
            ],
            [
             0.9,
             "#4d9221"
            ],
            [
             1,
             "#276419"
            ]
           ],
           "sequential": [
            [
             0,
             "#0d0887"
            ],
            [
             0.1111111111111111,
             "#46039f"
            ],
            [
             0.2222222222222222,
             "#7201a8"
            ],
            [
             0.3333333333333333,
             "#9c179e"
            ],
            [
             0.4444444444444444,
             "#bd3786"
            ],
            [
             0.5555555555555556,
             "#d8576b"
            ],
            [
             0.6666666666666666,
             "#ed7953"
            ],
            [
             0.7777777777777778,
             "#fb9f3a"
            ],
            [
             0.8888888888888888,
             "#fdca26"
            ],
            [
             1,
             "#f0f921"
            ]
           ],
           "sequentialminus": [
            [
             0,
             "#0d0887"
            ],
            [
             0.1111111111111111,
             "#46039f"
            ],
            [
             0.2222222222222222,
             "#7201a8"
            ],
            [
             0.3333333333333333,
             "#9c179e"
            ],
            [
             0.4444444444444444,
             "#bd3786"
            ],
            [
             0.5555555555555556,
             "#d8576b"
            ],
            [
             0.6666666666666666,
             "#ed7953"
            ],
            [
             0.7777777777777778,
             "#fb9f3a"
            ],
            [
             0.8888888888888888,
             "#fdca26"
            ],
            [
             1,
             "#f0f921"
            ]
           ]
          },
          "colorway": [
           "#636efa",
           "#EF553B",
           "#00cc96",
           "#ab63fa",
           "#FFA15A",
           "#19d3f3",
           "#FF6692",
           "#B6E880",
           "#FF97FF",
           "#FECB52"
          ],
          "font": {
           "color": "#2a3f5f"
          },
          "geo": {
           "bgcolor": "white",
           "lakecolor": "white",
           "landcolor": "#E5ECF6",
           "showlakes": true,
           "showland": true,
           "subunitcolor": "white"
          },
          "hoverlabel": {
           "align": "left"
          },
          "hovermode": "closest",
          "mapbox": {
           "style": "light"
          },
          "paper_bgcolor": "white",
          "plot_bgcolor": "#E5ECF6",
          "polar": {
           "angularaxis": {
            "gridcolor": "white",
            "linecolor": "white",
            "ticks": ""
           },
           "bgcolor": "#E5ECF6",
           "radialaxis": {
            "gridcolor": "white",
            "linecolor": "white",
            "ticks": ""
           }
          },
          "scene": {
           "xaxis": {
            "backgroundcolor": "#E5ECF6",
            "gridcolor": "white",
            "gridwidth": 2,
            "linecolor": "white",
            "showbackground": true,
            "ticks": "",
            "zerolinecolor": "white"
           },
           "yaxis": {
            "backgroundcolor": "#E5ECF6",
            "gridcolor": "white",
            "gridwidth": 2,
            "linecolor": "white",
            "showbackground": true,
            "ticks": "",
            "zerolinecolor": "white"
           },
           "zaxis": {
            "backgroundcolor": "#E5ECF6",
            "gridcolor": "white",
            "gridwidth": 2,
            "linecolor": "white",
            "showbackground": true,
            "ticks": "",
            "zerolinecolor": "white"
           }
          },
          "shapedefaults": {
           "line": {
            "color": "#2a3f5f"
           }
          },
          "ternary": {
           "aaxis": {
            "gridcolor": "white",
            "linecolor": "white",
            "ticks": ""
           },
           "baxis": {
            "gridcolor": "white",
            "linecolor": "white",
            "ticks": ""
           },
           "bgcolor": "#E5ECF6",
           "caxis": {
            "gridcolor": "white",
            "linecolor": "white",
            "ticks": ""
           }
          },
          "title": {
           "x": 0.05
          },
          "xaxis": {
           "automargin": true,
           "gridcolor": "white",
           "linecolor": "white",
           "ticks": "",
           "title": {
            "standoff": 15
           },
           "zerolinecolor": "white",
           "zerolinewidth": 2
          },
          "yaxis": {
           "automargin": true,
           "gridcolor": "white",
           "linecolor": "white",
           "ticks": "",
           "title": {
            "standoff": 15
           },
           "zerolinecolor": "white",
           "zerolinewidth": 2
          }
         }
        },
        "width": 1200
       }
      },
      "text/html": "<div>\n        \n        \n            <div id=\"8bf7a867-5271-4829-bdb0-c7d9ab6aff2d\" class=\"plotly-graph-div\" style=\"height:1000px; width:1200px;\"></div>\n            <script type=\"text/javascript\">\n                require([\"plotly\"], function(Plotly) {\n                    window.PLOTLYENV=window.PLOTLYENV || {};\n                    \n                if (document.getElementById(\"8bf7a867-5271-4829-bdb0-c7d9ab6aff2d\")) {\n                    Plotly.newPlot(\n                        '8bf7a867-5271-4829-bdb0-c7d9ab6aff2d',\n                        [{\"domain\": {\"x\": [0.0, 0.45], \"y\": [0.625, 1.0]}, \"labels\": [\"Lowest\", \"Second\", \"Third\", \"Fourth\", \"Highest\"], \"parents\": [\"\", \"\", \"\", \"\", \"\"], \"textinfo\": \"label+value\", \"type\": \"treemap\", \"values\": [2.7, 8.4, 14.6, 23.1, 51.1]}, {\"domain\": {\"x\": [0.55, 1.0], \"y\": [0.625, 1.0]}, \"labels\": [\"Lowest\", \"Second\", \"Third\", \"Fourth\", \"Highest\"], \"parents\": [\"\", \"\", \"\", \"\", \"\"], \"textinfo\": \"label+value\", \"type\": \"treemap\", \"values\": [2.6, 7.9, 14.1, 23.3, 52.1]}, {\"domain\": {\"x\": [0.0, 0.45], \"y\": [0.0, 0.375]}, \"labels\": [\"Lowest\", \"Second\", \"Third\", \"Fourth\", \"Highest\"], \"parents\": [\"\", \"\", \"\", \"\", \"\"], \"textinfo\": \"label+value\", \"type\": \"treemap\", \"values\": [3.5, 8.9, 14.5, 22.5, 50.6]}, {\"domain\": {\"x\": [0.55, 1.0], \"y\": [0.0, 0.375]}, \"labels\": [\"Lowest\", \"Second\", \"Third\", \"Fourth\", \"Highest\"], \"parents\": [\"\", \"\", \"\", \"\", \"\"], \"textinfo\": \"label+value\", \"type\": \"treemap\", \"values\": [3.3, 8.6, 14.4, 22.5, 51.1]}],\n                        {\"annotations\": [{\"font\": {\"size\": 16}, \"showarrow\": false, \"text\": \"Asain\", \"x\": 0.225, \"xanchor\": \"center\", \"xref\": \"paper\", \"y\": 1.0, \"yanchor\": \"bottom\", \"yref\": \"paper\"}, {\"font\": {\"size\": 16}, \"showarrow\": false, \"text\": \"Black\", \"x\": 0.775, \"xanchor\": \"center\", \"xref\": \"paper\", \"y\": 1.0, \"yanchor\": \"bottom\", \"yref\": \"paper\"}, {\"font\": {\"size\": 16}, \"showarrow\": false, \"text\": \"Hispanic\", \"x\": 0.225, \"xanchor\": \"center\", \"xref\": \"paper\", \"y\": 0.375, \"yanchor\": \"bottom\", \"yref\": \"paper\"}, {\"font\": {\"size\": 16}, \"showarrow\": false, \"text\": \"White\", \"x\": 0.775, \"xanchor\": \"center\", \"xref\": \"paper\", \"y\": 0.375, \"yanchor\": \"bottom\", \"yref\": \"paper\"}], \"autosize\": false, \"height\": 1000, \"template\": {\"data\": {\"bar\": [{\"error_x\": {\"color\": \"#2a3f5f\"}, \"error_y\": {\"color\": \"#2a3f5f\"}, \"marker\": {\"line\": {\"color\": \"#E5ECF6\", \"width\": 0.5}}, \"type\": \"bar\"}], \"barpolar\": [{\"marker\": {\"line\": {\"color\": \"#E5ECF6\", \"width\": 0.5}}, \"type\": \"barpolar\"}], \"carpet\": [{\"aaxis\": {\"endlinecolor\": \"#2a3f5f\", \"gridcolor\": \"white\", \"linecolor\": \"white\", \"minorgridcolor\": \"white\", \"startlinecolor\": \"#2a3f5f\"}, \"baxis\": {\"endlinecolor\": \"#2a3f5f\", \"gridcolor\": \"white\", \"linecolor\": \"white\", \"minorgridcolor\": \"white\", \"startlinecolor\": \"#2a3f5f\"}, \"type\": \"carpet\"}], \"choropleth\": [{\"colorbar\": {\"outlinewidth\": 0, \"ticks\": \"\"}, \"type\": \"choropleth\"}], \"contour\": [{\"colorbar\": {\"outlinewidth\": 0, \"ticks\": \"\"}, \"colorscale\": [[0.0, \"#0d0887\"], [0.1111111111111111, \"#46039f\"], [0.2222222222222222, \"#7201a8\"], [0.3333333333333333, \"#9c179e\"], [0.4444444444444444, \"#bd3786\"], [0.5555555555555556, \"#d8576b\"], [0.6666666666666666, \"#ed7953\"], [0.7777777777777778, \"#fb9f3a\"], [0.8888888888888888, \"#fdca26\"], [1.0, \"#f0f921\"]], \"type\": \"contour\"}], \"contourcarpet\": [{\"colorbar\": {\"outlinewidth\": 0, \"ticks\": \"\"}, \"type\": \"contourcarpet\"}], \"heatmap\": [{\"colorbar\": {\"outlinewidth\": 0, \"ticks\": \"\"}, \"colorscale\": [[0.0, \"#0d0887\"], [0.1111111111111111, \"#46039f\"], [0.2222222222222222, \"#7201a8\"], [0.3333333333333333, \"#9c179e\"], [0.4444444444444444, \"#bd3786\"], [0.5555555555555556, \"#d8576b\"], [0.6666666666666666, \"#ed7953\"], [0.7777777777777778, \"#fb9f3a\"], [0.8888888888888888, \"#fdca26\"], [1.0, \"#f0f921\"]], \"type\": \"heatmap\"}], \"heatmapgl\": [{\"colorbar\": {\"outlinewidth\": 0, \"ticks\": \"\"}, \"colorscale\": [[0.0, \"#0d0887\"], [0.1111111111111111, \"#46039f\"], [0.2222222222222222, \"#7201a8\"], [0.3333333333333333, \"#9c179e\"], [0.4444444444444444, \"#bd3786\"], [0.5555555555555556, \"#d8576b\"], [0.6666666666666666, \"#ed7953\"], [0.7777777777777778, \"#fb9f3a\"], [0.8888888888888888, \"#fdca26\"], [1.0, \"#f0f921\"]], \"type\": \"heatmapgl\"}], \"histogram\": [{\"marker\": {\"colorbar\": {\"outlinewidth\": 0, \"ticks\": \"\"}}, \"type\": \"histogram\"}], \"histogram2d\": [{\"colorbar\": {\"outlinewidth\": 0, \"ticks\": \"\"}, \"colorscale\": [[0.0, \"#0d0887\"], [0.1111111111111111, \"#46039f\"], [0.2222222222222222, \"#7201a8\"], [0.3333333333333333, \"#9c179e\"], [0.4444444444444444, \"#bd3786\"], [0.5555555555555556, \"#d8576b\"], [0.6666666666666666, \"#ed7953\"], [0.7777777777777778, \"#fb9f3a\"], [0.8888888888888888, \"#fdca26\"], [1.0, \"#f0f921\"]], \"type\": \"histogram2d\"}], \"histogram2dcontour\": [{\"colorbar\": {\"outlinewidth\": 0, \"ticks\": \"\"}, \"colorscale\": [[0.0, \"#0d0887\"], [0.1111111111111111, \"#46039f\"], [0.2222222222222222, \"#7201a8\"], [0.3333333333333333, \"#9c179e\"], [0.4444444444444444, \"#bd3786\"], [0.5555555555555556, \"#d8576b\"], [0.6666666666666666, \"#ed7953\"], [0.7777777777777778, \"#fb9f3a\"], [0.8888888888888888, \"#fdca26\"], [1.0, \"#f0f921\"]], \"type\": \"histogram2dcontour\"}], \"mesh3d\": [{\"colorbar\": {\"outlinewidth\": 0, \"ticks\": \"\"}, \"type\": \"mesh3d\"}], \"parcoords\": [{\"line\": {\"colorbar\": {\"outlinewidth\": 0, \"ticks\": \"\"}}, \"type\": \"parcoords\"}], \"pie\": [{\"automargin\": true, \"type\": \"pie\"}], \"scatter\": [{\"marker\": {\"colorbar\": {\"outlinewidth\": 0, \"ticks\": \"\"}}, \"type\": \"scatter\"}], \"scatter3d\": [{\"line\": {\"colorbar\": {\"outlinewidth\": 0, \"ticks\": \"\"}}, \"marker\": {\"colorbar\": {\"outlinewidth\": 0, \"ticks\": \"\"}}, \"type\": \"scatter3d\"}], \"scattercarpet\": [{\"marker\": {\"colorbar\": {\"outlinewidth\": 0, \"ticks\": \"\"}}, \"type\": \"scattercarpet\"}], \"scattergeo\": [{\"marker\": {\"colorbar\": {\"outlinewidth\": 0, \"ticks\": \"\"}}, \"type\": \"scattergeo\"}], \"scattergl\": [{\"marker\": {\"colorbar\": {\"outlinewidth\": 0, \"ticks\": \"\"}}, \"type\": \"scattergl\"}], \"scattermapbox\": [{\"marker\": {\"colorbar\": {\"outlinewidth\": 0, \"ticks\": \"\"}}, \"type\": \"scattermapbox\"}], \"scatterpolar\": [{\"marker\": {\"colorbar\": {\"outlinewidth\": 0, \"ticks\": \"\"}}, \"type\": \"scatterpolar\"}], \"scatterpolargl\": [{\"marker\": {\"colorbar\": {\"outlinewidth\": 0, \"ticks\": \"\"}}, \"type\": \"scatterpolargl\"}], \"scatterternary\": [{\"marker\": {\"colorbar\": {\"outlinewidth\": 0, \"ticks\": \"\"}}, \"type\": \"scatterternary\"}], \"surface\": [{\"colorbar\": {\"outlinewidth\": 0, \"ticks\": \"\"}, \"colorscale\": [[0.0, \"#0d0887\"], [0.1111111111111111, \"#46039f\"], [0.2222222222222222, \"#7201a8\"], [0.3333333333333333, \"#9c179e\"], [0.4444444444444444, \"#bd3786\"], [0.5555555555555556, \"#d8576b\"], [0.6666666666666666, \"#ed7953\"], [0.7777777777777778, \"#fb9f3a\"], [0.8888888888888888, \"#fdca26\"], [1.0, \"#f0f921\"]], \"type\": \"surface\"}], \"table\": [{\"cells\": {\"fill\": {\"color\": \"#EBF0F8\"}, \"line\": {\"color\": \"white\"}}, \"header\": {\"fill\": {\"color\": \"#C8D4E3\"}, \"line\": {\"color\": \"white\"}}, \"type\": \"table\"}]}, \"layout\": {\"annotationdefaults\": {\"arrowcolor\": \"#2a3f5f\", \"arrowhead\": 0, \"arrowwidth\": 1}, \"coloraxis\": {\"colorbar\": {\"outlinewidth\": 0, \"ticks\": \"\"}}, \"colorscale\": {\"diverging\": [[0, \"#8e0152\"], [0.1, \"#c51b7d\"], [0.2, \"#de77ae\"], [0.3, \"#f1b6da\"], [0.4, \"#fde0ef\"], [0.5, \"#f7f7f7\"], [0.6, \"#e6f5d0\"], [0.7, \"#b8e186\"], [0.8, \"#7fbc41\"], [0.9, \"#4d9221\"], [1, \"#276419\"]], \"sequential\": [[0.0, \"#0d0887\"], [0.1111111111111111, \"#46039f\"], [0.2222222222222222, \"#7201a8\"], [0.3333333333333333, \"#9c179e\"], [0.4444444444444444, \"#bd3786\"], [0.5555555555555556, \"#d8576b\"], [0.6666666666666666, \"#ed7953\"], [0.7777777777777778, \"#fb9f3a\"], [0.8888888888888888, \"#fdca26\"], [1.0, \"#f0f921\"]], \"sequentialminus\": [[0.0, \"#0d0887\"], [0.1111111111111111, \"#46039f\"], [0.2222222222222222, \"#7201a8\"], [0.3333333333333333, \"#9c179e\"], [0.4444444444444444, \"#bd3786\"], [0.5555555555555556, \"#d8576b\"], [0.6666666666666666, \"#ed7953\"], [0.7777777777777778, \"#fb9f3a\"], [0.8888888888888888, \"#fdca26\"], [1.0, \"#f0f921\"]]}, \"colorway\": [\"#636efa\", \"#EF553B\", \"#00cc96\", \"#ab63fa\", \"#FFA15A\", \"#19d3f3\", \"#FF6692\", \"#B6E880\", \"#FF97FF\", \"#FECB52\"], \"font\": {\"color\": \"#2a3f5f\"}, \"geo\": {\"bgcolor\": \"white\", \"lakecolor\": \"white\", \"landcolor\": \"#E5ECF6\", \"showlakes\": true, \"showland\": true, \"subunitcolor\": \"white\"}, \"hoverlabel\": {\"align\": \"left\"}, \"hovermode\": \"closest\", \"mapbox\": {\"style\": \"light\"}, \"paper_bgcolor\": \"white\", \"plot_bgcolor\": \"#E5ECF6\", \"polar\": {\"angularaxis\": {\"gridcolor\": \"white\", \"linecolor\": \"white\", \"ticks\": \"\"}, \"bgcolor\": \"#E5ECF6\", \"radialaxis\": {\"gridcolor\": \"white\", \"linecolor\": \"white\", \"ticks\": \"\"}}, \"scene\": {\"xaxis\": {\"backgroundcolor\": \"#E5ECF6\", \"gridcolor\": \"white\", \"gridwidth\": 2, \"linecolor\": \"white\", \"showbackground\": true, \"ticks\": \"\", \"zerolinecolor\": \"white\"}, \"yaxis\": {\"backgroundcolor\": \"#E5ECF6\", \"gridcolor\": \"white\", \"gridwidth\": 2, \"linecolor\": \"white\", \"showbackground\": true, \"ticks\": \"\", \"zerolinecolor\": \"white\"}, \"zaxis\": {\"backgroundcolor\": \"#E5ECF6\", \"gridcolor\": \"white\", \"gridwidth\": 2, \"linecolor\": \"white\", \"showbackground\": true, \"ticks\": \"\", \"zerolinecolor\": \"white\"}}, \"shapedefaults\": {\"line\": {\"color\": \"#2a3f5f\"}}, \"ternary\": {\"aaxis\": {\"gridcolor\": \"white\", \"linecolor\": \"white\", \"ticks\": \"\"}, \"baxis\": {\"gridcolor\": \"white\", \"linecolor\": \"white\", \"ticks\": \"\"}, \"bgcolor\": \"#E5ECF6\", \"caxis\": {\"gridcolor\": \"white\", \"linecolor\": \"white\", \"ticks\": \"\"}}, \"title\": {\"x\": 0.05}, \"xaxis\": {\"automargin\": true, \"gridcolor\": \"white\", \"linecolor\": \"white\", \"ticks\": \"\", \"title\": {\"standoff\": 15}, \"zerolinecolor\": \"white\", \"zerolinewidth\": 2}, \"yaxis\": {\"automargin\": true, \"gridcolor\": \"white\", \"linecolor\": \"white\", \"ticks\": \"\", \"title\": {\"standoff\": 15}, \"zerolinecolor\": \"white\", \"zerolinewidth\": 2}}}, \"width\": 1200},\n                        {\"responsive\": true}\n                    ).then(function(){\n                            \nvar gd = document.getElementById('8bf7a867-5271-4829-bdb0-c7d9ab6aff2d');\nvar x = new MutationObserver(function (mutations, observer) {{\n        var display = window.getComputedStyle(gd).display;\n        if (!display || display === 'none') {{\n            console.log([gd, 'removed!']);\n            Plotly.purge(gd);\n            observer.disconnect();\n        }}\n}});\n\n// Listen for the removal of the full notebook cells\nvar notebookContainer = gd.closest('#notebook-container');\nif (notebookContainer) {{\n    x.observe(notebookContainer, {childList: true});\n}}\n\n// Listen for the clearing of the current output cell\nvar outputEl = gd.closest('.output');\nif (outputEl) {{\n    x.observe(outputEl, {childList: true});\n}}\n\n                        })\n                };\n                });\n            </script>\n        </div>"
     },
     "metadata": {}
    }
   ],
   "source": [
    "fig = make_subplots(\n",
    "    cols = 2, rows = 2,\n",
    "    column_widths = [0.4, 0.4],\n",
    "    subplot_titles = ('Asain', 'Black', 'Hispanic', 'White'),\n",
    "    specs = [[{'type': 'treemap'}, {'type': 'treemap'}], [{'type': 'treemap'}, {'type': 'treemap'}]]\n",
    ")\n",
    "\n",
    "fig.update_layout(\n",
    "    autosize=False,\n",
    "    width=1200,\n",
    "    height=1000,\n",
    ")\n",
    "i, j = 1, 1\n",
    "for count, income_race in enumerate(income_races):\n",
    "    fig.add_trace(go.Treemap(\n",
    "        labels = income_quintiles,\n",
    "        textinfo=\"label+value\",\n",
    "        parents = [\"\", \"\", \"\", \"\", \"\"],\n",
    "        values = list(income_race[income_race['year']==2018]['income_share'])\n",
    "    ), row=i, col=j)\n",
    "    \n",
    "    if j > i: \n",
    "        i +=1\n",
    "        j -=1\n",
    "    else:\n",
    "        j +=1\n",
    "\n",
    "fig.show()    "
   ]
  },
  {
   "cell_type": "code",
   "execution_count": 104,
   "metadata": {},
   "outputs": [
    {
     "output_type": "display_data",
     "data": {
      "application/vnd.plotly.v1+json": {
       "config": {
        "plotlyServerURL": "https://plot.ly"
       },
       "data": [
        {
         "labels": [
          "Lowest",
          "Second",
          "Third",
          "Fourth",
          "Highest",
          "Top 5%"
         ],
         "parents": [
          "",
          "",
          "",
          "",
          "",
          "Highest"
         ],
         "textinfo": "label+value",
         "type": "treemap",
         "values": [
          4,
          10.8,
          17.3,
          24.2,
          43.6,
          17.2
         ]
        }
       ],
       "frames": [
        {
         "data": [
          {
           "labels": [
            "Lowest",
            "Second",
            "Third",
            "Fourth",
            "Highest",
            "Top 5%"
           ],
           "parents": [
            "",
            "",
            "",
            "",
            "",
            "Highest"
           ],
           "textinfo": "label+value",
           "type": "treemap",
           "values": [
            4,
            10.8,
            17.3,
            24.2,
            43.6,
            17.2
           ]
          }
         ],
         "layout": {
          "title": {
           "text": "Income Share Over Time 1967"
          },
          "uniformtext": {
           "minsize": 10,
           "mode": "show"
          }
         }
        },
        {
         "data": [
          {
           "labels": [
            "Lowest",
            "Second",
            "Third",
            "Fourth",
            "Highest",
            "Top 5%"
           ],
           "parents": [
            "",
            "",
            "",
            "",
            "",
            "Highest"
           ],
           "textinfo": "label+value",
           "type": "treemap",
           "values": [
            4.2,
            11.1,
            17.6,
            24.5,
            42.6,
            16.3
           ]
          }
         ],
         "layout": {
          "title": {
           "text": "Income Share Over Time 1968"
          },
          "uniformtext": {
           "minsize": 10,
           "mode": "show"
          }
         }
        },
        {
         "data": [
          {
           "labels": [
            "Lowest",
            "Second",
            "Third",
            "Fourth",
            "Highest",
            "Top 5%"
           ],
           "parents": [
            "",
            "",
            "",
            "",
            "",
            "Highest"
           ],
           "textinfo": "label+value",
           "type": "treemap",
           "values": [
            4.1,
            10.9,
            17.5,
            24.5,
            43,
            16.6
           ]
          }
         ],
         "layout": {
          "title": {
           "text": "Income Share Over Time 1969"
          },
          "uniformtext": {
           "minsize": 10,
           "mode": "show"
          }
         }
        },
        {
         "data": [
          {
           "labels": [
            "Lowest",
            "Second",
            "Third",
            "Fourth",
            "Highest",
            "Top 5%"
           ],
           "parents": [
            "",
            "",
            "",
            "",
            "",
            "Highest"
           ],
           "textinfo": "label+value",
           "type": "treemap",
           "values": [
            4.1,
            10.8,
            17.4,
            24.5,
            43.3,
            16.6
           ]
          }
         ],
         "layout": {
          "title": {
           "text": "Income Share Over Time 1970"
          },
          "uniformtext": {
           "minsize": 10,
           "mode": "show"
          }
         }
        },
        {
         "data": [
          {
           "labels": [
            "Lowest",
            "Second",
            "Third",
            "Fourth",
            "Highest",
            "Top 5%"
           ],
           "parents": [
            "",
            "",
            "",
            "",
            "",
            "Highest"
           ],
           "textinfo": "label+value",
           "type": "treemap",
           "values": [
            4.1,
            10.6,
            17.3,
            24.5,
            43.5,
            16.7
           ]
          }
         ],
         "layout": {
          "title": {
           "text": "Income Share Over Time 1971"
          },
          "uniformtext": {
           "minsize": 10,
           "mode": "show"
          }
         }
        },
        {
         "data": [
          {
           "labels": [
            "Lowest",
            "Second",
            "Third",
            "Fourth",
            "Highest",
            "Top 5%"
           ],
           "parents": [
            "",
            "",
            "",
            "",
            "",
            "Highest"
           ],
           "textinfo": "label+value",
           "type": "treemap",
           "values": [
            4.1,
            10.4,
            17,
            24.5,
            43.9,
            17
           ]
          }
         ],
         "layout": {
          "title": {
           "text": "Income Share Over Time 1972"
          },
          "uniformtext": {
           "minsize": 10,
           "mode": "show"
          }
         }
        },
        {
         "data": [
          {
           "labels": [
            "Lowest",
            "Second",
            "Third",
            "Fourth",
            "Highest",
            "Top 5%"
           ],
           "parents": [
            "",
            "",
            "",
            "",
            "",
            "Highest"
           ],
           "textinfo": "label+value",
           "type": "treemap",
           "values": [
            4.2,
            10.4,
            17,
            24.5,
            43.9,
            16.9
           ]
          }
         ],
         "layout": {
          "title": {
           "text": "Income Share Over Time 1973"
          },
          "uniformtext": {
           "minsize": 10,
           "mode": "show"
          }
         }
        },
        {
         "data": [
          {
           "labels": [
            "Lowest",
            "Second",
            "Third",
            "Fourth",
            "Highest",
            "Top 5%"
           ],
           "parents": [
            "",
            "",
            "",
            "",
            "",
            "Highest"
           ],
           "textinfo": "label+value",
           "type": "treemap",
           "values": [
            4.3,
            10.6,
            17,
            24.6,
            43.5,
            16.5
           ]
          }
         ],
         "layout": {
          "title": {
           "text": "Income Share Over Time 1974"
          },
          "uniformtext": {
           "minsize": 10,
           "mode": "show"
          }
         }
        },
        {
         "data": [
          {
           "labels": [
            "Lowest",
            "Second",
            "Third",
            "Fourth",
            "Highest",
            "Top 5%"
           ],
           "parents": [
            "",
            "",
            "",
            "",
            "",
            "Highest"
           ],
           "textinfo": "label+value",
           "type": "treemap",
           "values": [
            4.3,
            10.4,
            17,
            24.7,
            43.6,
            16.5
           ]
          }
         ],
         "layout": {
          "title": {
           "text": "Income Share Over Time 1975"
          },
          "uniformtext": {
           "minsize": 10,
           "mode": "show"
          }
         }
        },
        {
         "data": [
          {
           "labels": [
            "Lowest",
            "Second",
            "Third",
            "Fourth",
            "Highest",
            "Top 5%"
           ],
           "parents": [
            "",
            "",
            "",
            "",
            "",
            "Highest"
           ],
           "textinfo": "label+value",
           "type": "treemap",
           "values": [
            4.3,
            10.3,
            17,
            24.7,
            43.7,
            16.6
           ]
          }
         ],
         "layout": {
          "title": {
           "text": "Income Share Over Time 1976"
          },
          "uniformtext": {
           "minsize": 10,
           "mode": "show"
          }
         }
        },
        {
         "data": [
          {
           "labels": [
            "Lowest",
            "Second",
            "Third",
            "Fourth",
            "Highest",
            "Top 5%"
           ],
           "parents": [
            "",
            "",
            "",
            "",
            "",
            "Highest"
           ],
           "textinfo": "label+value",
           "type": "treemap",
           "values": [
            4.2,
            10.2,
            16.9,
            24.7,
            44,
            16.8
           ]
          }
         ],
         "layout": {
          "title": {
           "text": "Income Share Over Time 1977"
          },
          "uniformtext": {
           "minsize": 10,
           "mode": "show"
          }
         }
        },
        {
         "data": [
          {
           "labels": [
            "Lowest",
            "Second",
            "Third",
            "Fourth",
            "Highest",
            "Top 5%"
           ],
           "parents": [
            "",
            "",
            "",
            "",
            "",
            "Highest"
           ],
           "textinfo": "label+value",
           "type": "treemap",
           "values": [
            4.2,
            10.2,
            16.8,
            24.7,
            44.1,
            16.8
           ]
          }
         ],
         "layout": {
          "title": {
           "text": "Income Share Over Time 1978"
          },
          "uniformtext": {
           "minsize": 10,
           "mode": "show"
          }
         }
        },
        {
         "data": [
          {
           "labels": [
            "Lowest",
            "Second",
            "Third",
            "Fourth",
            "Highest",
            "Top 5%"
           ],
           "parents": [
            "",
            "",
            "",
            "",
            "",
            "Highest"
           ],
           "textinfo": "label+value",
           "type": "treemap",
           "values": [
            4.1,
            10.2,
            16.8,
            24.6,
            44.2,
            16.9
           ]
          }
         ],
         "layout": {
          "title": {
           "text": "Income Share Over Time 1979"
          },
          "uniformtext": {
           "minsize": 10,
           "mode": "show"
          }
         }
        },
        {
         "data": [
          {
           "labels": [
            "Lowest",
            "Second",
            "Third",
            "Fourth",
            "Highest",
            "Top 5%"
           ],
           "parents": [
            "",
            "",
            "",
            "",
            "",
            "Highest"
           ],
           "textinfo": "label+value",
           "type": "treemap",
           "values": [
            4.2,
            10.2,
            16.8,
            24.7,
            44.1,
            16.5
           ]
          }
         ],
         "layout": {
          "title": {
           "text": "Income Share Over Time 1980"
          },
          "uniformtext": {
           "minsize": 10,
           "mode": "show"
          }
         }
        },
        {
         "data": [
          {
           "labels": [
            "Lowest",
            "Second",
            "Third",
            "Fourth",
            "Highest",
            "Top 5%"
           ],
           "parents": [
            "",
            "",
            "",
            "",
            "",
            "Highest"
           ],
           "textinfo": "label+value",
           "type": "treemap",
           "values": [
            4.1,
            10.1,
            16.7,
            24.8,
            44.3,
            16.5
           ]
          }
         ],
         "layout": {
          "title": {
           "text": "Income Share Over Time 1981"
          },
          "uniformtext": {
           "minsize": 10,
           "mode": "show"
          }
         }
        },
        {
         "data": [
          {
           "labels": [
            "Lowest",
            "Second",
            "Third",
            "Fourth",
            "Highest",
            "Top 5%"
           ],
           "parents": [
            "",
            "",
            "",
            "",
            "",
            "Highest"
           ],
           "textinfo": "label+value",
           "type": "treemap",
           "values": [
            4,
            10,
            16.5,
            24.5,
            45,
            17
           ]
          }
         ],
         "layout": {
          "title": {
           "text": "Income Share Over Time 1982"
          },
          "uniformtext": {
           "minsize": 10,
           "mode": "show"
          }
         }
        },
        {
         "data": [
          {
           "labels": [
            "Lowest",
            "Second",
            "Third",
            "Fourth",
            "Highest",
            "Top 5%"
           ],
           "parents": [
            "",
            "",
            "",
            "",
            "",
            "Highest"
           ],
           "textinfo": "label+value",
           "type": "treemap",
           "values": [
            4,
            9.9,
            16.4,
            24.6,
            45.1,
            17
           ]
          }
         ],
         "layout": {
          "title": {
           "text": "Income Share Over Time 1983"
          },
          "uniformtext": {
           "minsize": 10,
           "mode": "show"
          }
         }
        },
        {
         "data": [
          {
           "labels": [
            "Lowest",
            "Second",
            "Third",
            "Fourth",
            "Highest",
            "Top 5%"
           ],
           "parents": [
            "",
            "",
            "",
            "",
            "",
            "Highest"
           ],
           "textinfo": "label+value",
           "type": "treemap",
           "values": [
            4,
            9.9,
            16.3,
            24.6,
            45.2,
            17.1
           ]
          }
         ],
         "layout": {
          "title": {
           "text": "Income Share Over Time 1984"
          },
          "uniformtext": {
           "minsize": 10,
           "mode": "show"
          }
         }
        },
        {
         "data": [
          {
           "labels": [
            "Lowest",
            "Second",
            "Third",
            "Fourth",
            "Highest",
            "Top 5%"
           ],
           "parents": [
            "",
            "",
            "",
            "",
            "",
            "Highest"
           ],
           "textinfo": "label+value",
           "type": "treemap",
           "values": [
            3.9,
            9.8,
            16.2,
            24.4,
            45.6,
            17.6
           ]
          }
         ],
         "layout": {
          "title": {
           "text": "Income Share Over Time 1985"
          },
          "uniformtext": {
           "minsize": 10,
           "mode": "show"
          }
         }
        },
        {
         "data": [
          {
           "labels": [
            "Lowest",
            "Second",
            "Third",
            "Fourth",
            "Highest",
            "Top 5%"
           ],
           "parents": [
            "",
            "",
            "",
            "",
            "",
            "Highest"
           ],
           "textinfo": "label+value",
           "type": "treemap",
           "values": [
            3.8,
            9.7,
            16.2,
            24.3,
            46.1,
            18
           ]
          }
         ],
         "layout": {
          "title": {
           "text": "Income Share Over Time 1986"
          },
          "uniformtext": {
           "minsize": 10,
           "mode": "show"
          }
         }
        },
        {
         "data": [
          {
           "labels": [
            "Lowest",
            "Second",
            "Third",
            "Fourth",
            "Highest",
            "Top 5%"
           ],
           "parents": [
            "",
            "",
            "",
            "",
            "",
            "Highest"
           ],
           "textinfo": "label+value",
           "type": "treemap",
           "values": [
            3.8,
            9.6,
            16.1,
            24.3,
            46.2,
            18.2
           ]
          }
         ],
         "layout": {
          "title": {
           "text": "Income Share Over Time 1987"
          },
          "uniformtext": {
           "minsize": 10,
           "mode": "show"
          }
         }
        },
        {
         "data": [
          {
           "labels": [
            "Lowest",
            "Second",
            "Third",
            "Fourth",
            "Highest",
            "Top 5%"
           ],
           "parents": [
            "",
            "",
            "",
            "",
            "",
            "Highest"
           ],
           "textinfo": "label+value",
           "type": "treemap",
           "values": [
            3.8,
            9.6,
            16,
            24.2,
            46.3,
            18.3
           ]
          }
         ],
         "layout": {
          "title": {
           "text": "Income Share Over Time 1988"
          },
          "uniformtext": {
           "minsize": 10,
           "mode": "show"
          }
         }
        },
        {
         "data": [
          {
           "labels": [
            "Lowest",
            "Second",
            "Third",
            "Fourth",
            "Highest",
            "Top 5%"
           ],
           "parents": [
            "",
            "",
            "",
            "",
            "",
            "Highest"
           ],
           "textinfo": "label+value",
           "type": "treemap",
           "values": [
            3.8,
            9.5,
            15.8,
            24,
            46.8,
            18.9
           ]
          }
         ],
         "layout": {
          "title": {
           "text": "Income Share Over Time 1989"
          },
          "uniformtext": {
           "minsize": 10,
           "mode": "show"
          }
         }
        },
        {
         "data": [
          {
           "labels": [
            "Lowest",
            "Second",
            "Third",
            "Fourth",
            "Highest",
            "Top 5%"
           ],
           "parents": [
            "",
            "",
            "",
            "",
            "",
            "Highest"
           ],
           "textinfo": "label+value",
           "type": "treemap",
           "values": [
            3.8,
            9.6,
            15.9,
            24,
            46.6,
            18.5
           ]
          }
         ],
         "layout": {
          "title": {
           "text": "Income Share Over Time 1990"
          },
          "uniformtext": {
           "minsize": 10,
           "mode": "show"
          }
         }
        },
        {
         "data": [
          {
           "labels": [
            "Lowest",
            "Second",
            "Third",
            "Fourth",
            "Highest",
            "Top 5%"
           ],
           "parents": [
            "",
            "",
            "",
            "",
            "",
            "Highest"
           ],
           "textinfo": "label+value",
           "type": "treemap",
           "values": [
            3.8,
            9.6,
            15.9,
            24.2,
            46.5,
            18.1
           ]
          }
         ],
         "layout": {
          "title": {
           "text": "Income Share Over Time 1991"
          },
          "uniformtext": {
           "minsize": 10,
           "mode": "show"
          }
         }
        },
        {
         "data": [
          {
           "labels": [
            "Lowest",
            "Second",
            "Third",
            "Fourth",
            "Highest",
            "Top 5%"
           ],
           "parents": [
            "",
            "",
            "",
            "",
            "",
            "Highest"
           ],
           "textinfo": "label+value",
           "type": "treemap",
           "values": [
            3.8,
            9.4,
            15.8,
            24.2,
            46.9,
            18.6
           ]
          }
         ],
         "layout": {
          "title": {
           "text": "Income Share Over Time 1992"
          },
          "uniformtext": {
           "minsize": 10,
           "mode": "show"
          }
         }
        },
        {
         "data": [
          {
           "labels": [
            "Lowest",
            "Second",
            "Third",
            "Fourth",
            "Highest",
            "Top 5%"
           ],
           "parents": [
            "",
            "",
            "",
            "",
            "",
            "Highest"
           ],
           "textinfo": "label+value",
           "type": "treemap",
           "values": [
            3.6,
            9,
            15.1,
            23.5,
            48.9,
            21
           ]
          }
         ],
         "layout": {
          "title": {
           "text": "Income Share Over Time 1993"
          },
          "uniformtext": {
           "minsize": 10,
           "mode": "show"
          }
         }
        },
        {
         "data": [
          {
           "labels": [
            "Lowest",
            "Second",
            "Third",
            "Fourth",
            "Highest",
            "Top 5%"
           ],
           "parents": [
            "",
            "",
            "",
            "",
            "",
            "Highest"
           ],
           "textinfo": "label+value",
           "type": "treemap",
           "values": [
            3.6,
            8.9,
            15,
            23.4,
            49.1,
            21.2
           ]
          }
         ],
         "layout": {
          "title": {
           "text": "Income Share Over Time 1994"
          },
          "uniformtext": {
           "minsize": 10,
           "mode": "show"
          }
         }
        },
        {
         "data": [
          {
           "labels": [
            "Lowest",
            "Second",
            "Third",
            "Fourth",
            "Highest",
            "Top 5%"
           ],
           "parents": [
            "",
            "",
            "",
            "",
            "",
            "Highest"
           ],
           "textinfo": "label+value",
           "type": "treemap",
           "values": [
            3.7,
            9.1,
            15.2,
            23.3,
            48.7,
            21
           ]
          }
         ],
         "layout": {
          "title": {
           "text": "Income Share Over Time 1995"
          },
          "uniformtext": {
           "minsize": 10,
           "mode": "show"
          }
         }
        },
        {
         "data": [
          {
           "labels": [
            "Lowest",
            "Second",
            "Third",
            "Fourth",
            "Highest",
            "Top 5%"
           ],
           "parents": [
            "",
            "",
            "",
            "",
            "",
            "Highest"
           ],
           "textinfo": "label+value",
           "type": "treemap",
           "values": [
            3.6,
            9,
            15.1,
            23.3,
            49,
            21.4
           ]
          }
         ],
         "layout": {
          "title": {
           "text": "Income Share Over Time 1996"
          },
          "uniformtext": {
           "minsize": 10,
           "mode": "show"
          }
         }
        },
        {
         "data": [
          {
           "labels": [
            "Lowest",
            "Second",
            "Third",
            "Fourth",
            "Highest",
            "Top 5%"
           ],
           "parents": [
            "",
            "",
            "",
            "",
            "",
            "Highest"
           ],
           "textinfo": "label+value",
           "type": "treemap",
           "values": [
            3.6,
            8.9,
            15,
            23.2,
            49.4,
            21.7
           ]
          }
         ],
         "layout": {
          "title": {
           "text": "Income Share Over Time 1997"
          },
          "uniformtext": {
           "minsize": 10,
           "mode": "show"
          }
         }
        },
        {
         "data": [
          {
           "labels": [
            "Lowest",
            "Second",
            "Third",
            "Fourth",
            "Highest",
            "Top 5%"
           ],
           "parents": [
            "",
            "",
            "",
            "",
            "",
            "Highest"
           ],
           "textinfo": "label+value",
           "type": "treemap",
           "values": [
            3.6,
            9,
            15,
            23.2,
            49.2,
            21.4
           ]
          }
         ],
         "layout": {
          "title": {
           "text": "Income Share Over Time 1998"
          },
          "uniformtext": {
           "minsize": 10,
           "mode": "show"
          }
         }
        },
        {
         "data": [
          {
           "labels": [
            "Lowest",
            "Second",
            "Third",
            "Fourth",
            "Highest",
            "Top 5%"
           ],
           "parents": [
            "",
            "",
            "",
            "",
            "",
            "Highest"
           ],
           "textinfo": "label+value",
           "type": "treemap",
           "values": [
            3.6,
            8.9,
            14.9,
            23.2,
            49.4,
            21.5
           ]
          }
         ],
         "layout": {
          "title": {
           "text": "Income Share Over Time 1999"
          },
          "uniformtext": {
           "minsize": 10,
           "mode": "show"
          }
         }
        },
        {
         "data": [
          {
           "labels": [
            "Lowest",
            "Second",
            "Third",
            "Fourth",
            "Highest",
            "Top 5%"
           ],
           "parents": [
            "",
            "",
            "",
            "",
            "",
            "Highest"
           ],
           "textinfo": "label+value",
           "type": "treemap",
           "values": [
            3.6,
            8.9,
            14.8,
            23,
            49.8,
            22.1
           ]
          }
         ],
         "layout": {
          "title": {
           "text": "Income Share Over Time 2000"
          },
          "uniformtext": {
           "minsize": 10,
           "mode": "show"
          }
         }
        },
        {
         "data": [
          {
           "labels": [
            "Lowest",
            "Second",
            "Third",
            "Fourth",
            "Highest",
            "Top 5%"
           ],
           "parents": [
            "",
            "",
            "",
            "",
            "",
            "Highest"
           ],
           "textinfo": "label+value",
           "type": "treemap",
           "values": [
            3.5,
            8.7,
            14.6,
            23,
            50.1,
            22.4
           ]
          }
         ],
         "layout": {
          "title": {
           "text": "Income Share Over Time 2001"
          },
          "uniformtext": {
           "minsize": 10,
           "mode": "show"
          }
         }
        },
        {
         "data": [
          {
           "labels": [
            "Lowest",
            "Second",
            "Third",
            "Fourth",
            "Highest",
            "Top 5%"
           ],
           "parents": [
            "",
            "",
            "",
            "",
            "",
            "Highest"
           ],
           "textinfo": "label+value",
           "type": "treemap",
           "values": [
            3.5,
            8.8,
            14.8,
            23.3,
            49.7,
            21.7
           ]
          }
         ],
         "layout": {
          "title": {
           "text": "Income Share Over Time 2002"
          },
          "uniformtext": {
           "minsize": 10,
           "mode": "show"
          }
         }
        },
        {
         "data": [
          {
           "labels": [
            "Lowest",
            "Second",
            "Third",
            "Fourth",
            "Highest",
            "Top 5%"
           ],
           "parents": [
            "",
            "",
            "",
            "",
            "",
            "Highest"
           ],
           "textinfo": "label+value",
           "type": "treemap",
           "values": [
            3.4,
            8.7,
            14.8,
            23.4,
            49.8,
            21.4
           ]
          }
         ],
         "layout": {
          "title": {
           "text": "Income Share Over Time 2003"
          },
          "uniformtext": {
           "minsize": 10,
           "mode": "show"
          }
         }
        },
        {
         "data": [
          {
           "labels": [
            "Lowest",
            "Second",
            "Third",
            "Fourth",
            "Highest",
            "Top 5%"
           ],
           "parents": [
            "",
            "",
            "",
            "",
            "",
            "Highest"
           ],
           "textinfo": "label+value",
           "type": "treemap",
           "values": [
            3.4,
            8.7,
            14.7,
            23.2,
            50.1,
            21.8
           ]
          }
         ],
         "layout": {
          "title": {
           "text": "Income Share Over Time 2004"
          },
          "uniformtext": {
           "minsize": 10,
           "mode": "show"
          }
         }
        },
        {
         "data": [
          {
           "labels": [
            "Lowest",
            "Second",
            "Third",
            "Fourth",
            "Highest",
            "Top 5%"
           ],
           "parents": [
            "",
            "",
            "",
            "",
            "",
            "Highest"
           ],
           "textinfo": "label+value",
           "type": "treemap",
           "values": [
            3.4,
            8.6,
            14.6,
            23,
            50.4,
            22.2
           ]
          }
         ],
         "layout": {
          "title": {
           "text": "Income Share Over Time 2005"
          },
          "uniformtext": {
           "minsize": 10,
           "mode": "show"
          }
         }
        },
        {
         "data": [
          {
           "labels": [
            "Lowest",
            "Second",
            "Third",
            "Fourth",
            "Highest",
            "Top 5%"
           ],
           "parents": [
            "",
            "",
            "",
            "",
            "",
            "Highest"
           ],
           "textinfo": "label+value",
           "type": "treemap",
           "values": [
            3.4,
            8.6,
            14.5,
            22.9,
            50.5,
            22.3
           ]
          }
         ],
         "layout": {
          "title": {
           "text": "Income Share Over Time 2006"
          },
          "uniformtext": {
           "minsize": 10,
           "mode": "show"
          }
         }
        },
        {
         "data": [
          {
           "labels": [
            "Lowest",
            "Second",
            "Third",
            "Fourth",
            "Highest",
            "Top 5%"
           ],
           "parents": [
            "",
            "",
            "",
            "",
            "",
            "Highest"
           ],
           "textinfo": "label+value",
           "type": "treemap",
           "values": [
            3.4,
            8.7,
            14.8,
            23.4,
            49.7,
            21.2
           ]
          }
         ],
         "layout": {
          "title": {
           "text": "Income Share Over Time 2007"
          },
          "uniformtext": {
           "minsize": 10,
           "mode": "show"
          }
         }
        },
        {
         "data": [
          {
           "labels": [
            "Lowest",
            "Second",
            "Third",
            "Fourth",
            "Highest",
            "Top 5%"
           ],
           "parents": [
            "",
            "",
            "",
            "",
            "",
            "Highest"
           ],
           "textinfo": "label+value",
           "type": "treemap",
           "values": [
            3.4,
            8.6,
            14.7,
            23.3,
            50,
            21.5
           ]
          }
         ],
         "layout": {
          "title": {
           "text": "Income Share Over Time 2008"
          },
          "uniformtext": {
           "minsize": 10,
           "mode": "show"
          }
         }
        },
        {
         "data": [
          {
           "labels": [
            "Lowest",
            "Second",
            "Third",
            "Fourth",
            "Highest",
            "Top 5%"
           ],
           "parents": [
            "",
            "",
            "",
            "",
            "",
            "Highest"
           ],
           "textinfo": "label+value",
           "type": "treemap",
           "values": [
            3.4,
            8.6,
            14.6,
            23.2,
            50.3,
            21.7
           ]
          }
         ],
         "layout": {
          "title": {
           "text": "Income Share Over Time 2009"
          },
          "uniformtext": {
           "minsize": 10,
           "mode": "show"
          }
         }
        },
        {
         "data": [
          {
           "labels": [
            "Lowest",
            "Second",
            "Third",
            "Fourth",
            "Highest",
            "Top 5%"
           ],
           "parents": [
            "",
            "",
            "",
            "",
            "",
            "Highest"
           ],
           "textinfo": "label+value",
           "type": "treemap",
           "values": [
            3.3,
            8.5,
            14.6,
            23.4,
            50.3,
            21.3
           ]
          }
         ],
         "layout": {
          "title": {
           "text": "Income Share Over Time 2010"
          },
          "uniformtext": {
           "minsize": 10,
           "mode": "show"
          }
         }
        },
        {
         "data": [
          {
           "labels": [
            "Lowest",
            "Second",
            "Third",
            "Fourth",
            "Highest",
            "Top 5%"
           ],
           "parents": [
            "",
            "",
            "",
            "",
            "",
            "Highest"
           ],
           "textinfo": "label+value",
           "type": "treemap",
           "values": [
            3.2,
            8.4,
            14.3,
            23,
            51.1,
            22.3
           ]
          }
         ],
         "layout": {
          "title": {
           "text": "Income Share Over Time 2011"
          },
          "uniformtext": {
           "minsize": 10,
           "mode": "show"
          }
         }
        },
        {
         "data": [
          {
           "labels": [
            "Lowest",
            "Second",
            "Third",
            "Fourth",
            "Highest",
            "Top 5%"
           ],
           "parents": [
            "",
            "",
            "",
            "",
            "",
            "Highest"
           ],
           "textinfo": "label+value",
           "type": "treemap",
           "values": [
            3.2,
            8.3,
            14.4,
            23,
            51,
            22.3
           ]
          }
         ],
         "layout": {
          "title": {
           "text": "Income Share Over Time 2012"
          },
          "uniformtext": {
           "minsize": 10,
           "mode": "show"
          }
         }
        },
        {
         "data": [
          {
           "labels": [
            "Lowest",
            "Second",
            "Third",
            "Fourth",
            "Highest",
            "Top 5%"
           ],
           "parents": [
            "",
            "",
            "",
            "",
            "",
            "Highest"
           ],
           "textinfo": "label+value",
           "type": "treemap",
           "values": [
            3.1,
            8.2,
            14.3,
            23,
            51.4,
            22.2
           ]
          }
         ],
         "layout": {
          "title": {
           "text": "Income Share Over Time 2013"
          },
          "uniformtext": {
           "minsize": 10,
           "mode": "show"
          }
         }
        },
        {
         "data": [
          {
           "labels": [
            "Lowest",
            "Second",
            "Third",
            "Fourth",
            "Highest",
            "Top 5%"
           ],
           "parents": [
            "",
            "",
            "",
            "",
            "",
            "Highest"
           ],
           "textinfo": "label+value",
           "type": "treemap",
           "values": [
            3.1,
            8.2,
            14.3,
            23.2,
            51.2,
            21.9
           ]
          }
         ],
         "layout": {
          "title": {
           "text": "Income Share Over Time 2014"
          },
          "uniformtext": {
           "minsize": 10,
           "mode": "show"
          }
         }
        },
        {
         "data": [
          {
           "labels": [
            "Lowest",
            "Second",
            "Third",
            "Fourth",
            "Highest",
            "Top 5%"
           ],
           "parents": [
            "",
            "",
            "",
            "",
            "",
            "Highest"
           ],
           "textinfo": "label+value",
           "type": "treemap",
           "values": [
            3.1,
            8.2,
            14.3,
            23.2,
            51.1,
            22.1
           ]
          }
         ],
         "layout": {
          "title": {
           "text": "Income Share Over Time 2015"
          },
          "uniformtext": {
           "minsize": 10,
           "mode": "show"
          }
         }
        },
        {
         "data": [
          {
           "labels": [
            "Lowest",
            "Second",
            "Third",
            "Fourth",
            "Highest",
            "Top 5%"
           ],
           "parents": [
            "",
            "",
            "",
            "",
            "",
            "Highest"
           ],
           "textinfo": "label+value",
           "type": "treemap",
           "values": [
            3.1,
            8.3,
            14.2,
            22.9,
            51.5,
            22.6
           ]
          }
         ],
         "layout": {
          "title": {
           "text": "Income Share Over Time 2016"
          },
          "uniformtext": {
           "minsize": 10,
           "mode": "show"
          }
         }
        },
        {
         "data": [
          {
           "labels": [
            "Lowest",
            "Second",
            "Third",
            "Fourth",
            "Highest",
            "Top 5%"
           ],
           "parents": [
            "",
            "",
            "",
            "",
            "",
            "Highest"
           ],
           "textinfo": "label+value",
           "type": "treemap",
           "values": [
            3.1,
            8.2,
            14.3,
            23,
            51.5,
            22.3
           ]
          }
         ],
         "layout": {
          "title": {
           "text": "Income Share Over Time 2017"
          },
          "uniformtext": {
           "minsize": 10,
           "mode": "show"
          }
         }
        },
        {
         "data": [
          {
           "labels": [
            "Lowest",
            "Second",
            "Third",
            "Fourth",
            "Highest",
            "Top 5%"
           ],
           "parents": [
            "",
            "",
            "",
            "",
            "",
            "Highest"
           ],
           "textinfo": "label+value",
           "type": "treemap",
           "values": [
            3.1,
            8.3,
            14.1,
            22.6,
            52,
            23.1
           ]
          }
         ],
         "layout": {
          "title": {
           "text": "Income Share Over Time 2018"
          },
          "uniformtext": {
           "minsize": 10,
           "mode": "show"
          }
         }
        },
        {
         "data": [
          {
           "labels": [
            "Lowest",
            "Second",
            "Third",
            "Fourth",
            "Highest",
            "Top 5%"
           ],
           "parents": [
            "",
            "",
            "",
            "",
            "",
            "Highest"
           ],
           "textinfo": "label+value",
           "type": "treemap",
           "values": [
            3.1,
            8.3,
            14.1,
            22.7,
            51.9,
            23
           ]
          }
         ],
         "layout": {
          "title": {
           "text": "Income Share Over Time 2019"
          },
          "uniformtext": {
           "minsize": 10,
           "mode": "show"
          }
         }
        }
       ],
       "layout": {
        "template": {
         "data": {
          "bar": [
           {
            "error_x": {
             "color": "#2a3f5f"
            },
            "error_y": {
             "color": "#2a3f5f"
            },
            "marker": {
             "line": {
              "color": "#E5ECF6",
              "width": 0.5
             }
            },
            "type": "bar"
           }
          ],
          "barpolar": [
           {
            "marker": {
             "line": {
              "color": "#E5ECF6",
              "width": 0.5
             }
            },
            "type": "barpolar"
           }
          ],
          "carpet": [
           {
            "aaxis": {
             "endlinecolor": "#2a3f5f",
             "gridcolor": "white",
             "linecolor": "white",
             "minorgridcolor": "white",
             "startlinecolor": "#2a3f5f"
            },
            "baxis": {
             "endlinecolor": "#2a3f5f",
             "gridcolor": "white",
             "linecolor": "white",
             "minorgridcolor": "white",
             "startlinecolor": "#2a3f5f"
            },
            "type": "carpet"
           }
          ],
          "choropleth": [
           {
            "colorbar": {
             "outlinewidth": 0,
             "ticks": ""
            },
            "type": "choropleth"
           }
          ],
          "contour": [
           {
            "colorbar": {
             "outlinewidth": 0,
             "ticks": ""
            },
            "colorscale": [
             [
              0,
              "#0d0887"
             ],
             [
              0.1111111111111111,
              "#46039f"
             ],
             [
              0.2222222222222222,
              "#7201a8"
             ],
             [
              0.3333333333333333,
              "#9c179e"
             ],
             [
              0.4444444444444444,
              "#bd3786"
             ],
             [
              0.5555555555555556,
              "#d8576b"
             ],
             [
              0.6666666666666666,
              "#ed7953"
             ],
             [
              0.7777777777777778,
              "#fb9f3a"
             ],
             [
              0.8888888888888888,
              "#fdca26"
             ],
             [
              1,
              "#f0f921"
             ]
            ],
            "type": "contour"
           }
          ],
          "contourcarpet": [
           {
            "colorbar": {
             "outlinewidth": 0,
             "ticks": ""
            },
            "type": "contourcarpet"
           }
          ],
          "heatmap": [
           {
            "colorbar": {
             "outlinewidth": 0,
             "ticks": ""
            },
            "colorscale": [
             [
              0,
              "#0d0887"
             ],
             [
              0.1111111111111111,
              "#46039f"
             ],
             [
              0.2222222222222222,
              "#7201a8"
             ],
             [
              0.3333333333333333,
              "#9c179e"
             ],
             [
              0.4444444444444444,
              "#bd3786"
             ],
             [
              0.5555555555555556,
              "#d8576b"
             ],
             [
              0.6666666666666666,
              "#ed7953"
             ],
             [
              0.7777777777777778,
              "#fb9f3a"
             ],
             [
              0.8888888888888888,
              "#fdca26"
             ],
             [
              1,
              "#f0f921"
             ]
            ],
            "type": "heatmap"
           }
          ],
          "heatmapgl": [
           {
            "colorbar": {
             "outlinewidth": 0,
             "ticks": ""
            },
            "colorscale": [
             [
              0,
              "#0d0887"
             ],
             [
              0.1111111111111111,
              "#46039f"
             ],
             [
              0.2222222222222222,
              "#7201a8"
             ],
             [
              0.3333333333333333,
              "#9c179e"
             ],
             [
              0.4444444444444444,
              "#bd3786"
             ],
             [
              0.5555555555555556,
              "#d8576b"
             ],
             [
              0.6666666666666666,
              "#ed7953"
             ],
             [
              0.7777777777777778,
              "#fb9f3a"
             ],
             [
              0.8888888888888888,
              "#fdca26"
             ],
             [
              1,
              "#f0f921"
             ]
            ],
            "type": "heatmapgl"
           }
          ],
          "histogram": [
           {
            "marker": {
             "colorbar": {
              "outlinewidth": 0,
              "ticks": ""
             }
            },
            "type": "histogram"
           }
          ],
          "histogram2d": [
           {
            "colorbar": {
             "outlinewidth": 0,
             "ticks": ""
            },
            "colorscale": [
             [
              0,
              "#0d0887"
             ],
             [
              0.1111111111111111,
              "#46039f"
             ],
             [
              0.2222222222222222,
              "#7201a8"
             ],
             [
              0.3333333333333333,
              "#9c179e"
             ],
             [
              0.4444444444444444,
              "#bd3786"
             ],
             [
              0.5555555555555556,
              "#d8576b"
             ],
             [
              0.6666666666666666,
              "#ed7953"
             ],
             [
              0.7777777777777778,
              "#fb9f3a"
             ],
             [
              0.8888888888888888,
              "#fdca26"
             ],
             [
              1,
              "#f0f921"
             ]
            ],
            "type": "histogram2d"
           }
          ],
          "histogram2dcontour": [
           {
            "colorbar": {
             "outlinewidth": 0,
             "ticks": ""
            },
            "colorscale": [
             [
              0,
              "#0d0887"
             ],
             [
              0.1111111111111111,
              "#46039f"
             ],
             [
              0.2222222222222222,
              "#7201a8"
             ],
             [
              0.3333333333333333,
              "#9c179e"
             ],
             [
              0.4444444444444444,
              "#bd3786"
             ],
             [
              0.5555555555555556,
              "#d8576b"
             ],
             [
              0.6666666666666666,
              "#ed7953"
             ],
             [
              0.7777777777777778,
              "#fb9f3a"
             ],
             [
              0.8888888888888888,
              "#fdca26"
             ],
             [
              1,
              "#f0f921"
             ]
            ],
            "type": "histogram2dcontour"
           }
          ],
          "mesh3d": [
           {
            "colorbar": {
             "outlinewidth": 0,
             "ticks": ""
            },
            "type": "mesh3d"
           }
          ],
          "parcoords": [
           {
            "line": {
             "colorbar": {
              "outlinewidth": 0,
              "ticks": ""
             }
            },
            "type": "parcoords"
           }
          ],
          "pie": [
           {
            "automargin": true,
            "type": "pie"
           }
          ],
          "scatter": [
           {
            "marker": {
             "colorbar": {
              "outlinewidth": 0,
              "ticks": ""
             }
            },
            "type": "scatter"
           }
          ],
          "scatter3d": [
           {
            "line": {
             "colorbar": {
              "outlinewidth": 0,
              "ticks": ""
             }
            },
            "marker": {
             "colorbar": {
              "outlinewidth": 0,
              "ticks": ""
             }
            },
            "type": "scatter3d"
           }
          ],
          "scattercarpet": [
           {
            "marker": {
             "colorbar": {
              "outlinewidth": 0,
              "ticks": ""
             }
            },
            "type": "scattercarpet"
           }
          ],
          "scattergeo": [
           {
            "marker": {
             "colorbar": {
              "outlinewidth": 0,
              "ticks": ""
             }
            },
            "type": "scattergeo"
           }
          ],
          "scattergl": [
           {
            "marker": {
             "colorbar": {
              "outlinewidth": 0,
              "ticks": ""
             }
            },
            "type": "scattergl"
           }
          ],
          "scattermapbox": [
           {
            "marker": {
             "colorbar": {
              "outlinewidth": 0,
              "ticks": ""
             }
            },
            "type": "scattermapbox"
           }
          ],
          "scatterpolar": [
           {
            "marker": {
             "colorbar": {
              "outlinewidth": 0,
              "ticks": ""
             }
            },
            "type": "scatterpolar"
           }
          ],
          "scatterpolargl": [
           {
            "marker": {
             "colorbar": {
              "outlinewidth": 0,
              "ticks": ""
             }
            },
            "type": "scatterpolargl"
           }
          ],
          "scatterternary": [
           {
            "marker": {
             "colorbar": {
              "outlinewidth": 0,
              "ticks": ""
             }
            },
            "type": "scatterternary"
           }
          ],
          "surface": [
           {
            "colorbar": {
             "outlinewidth": 0,
             "ticks": ""
            },
            "colorscale": [
             [
              0,
              "#0d0887"
             ],
             [
              0.1111111111111111,
              "#46039f"
             ],
             [
              0.2222222222222222,
              "#7201a8"
             ],
             [
              0.3333333333333333,
              "#9c179e"
             ],
             [
              0.4444444444444444,
              "#bd3786"
             ],
             [
              0.5555555555555556,
              "#d8576b"
             ],
             [
              0.6666666666666666,
              "#ed7953"
             ],
             [
              0.7777777777777778,
              "#fb9f3a"
             ],
             [
              0.8888888888888888,
              "#fdca26"
             ],
             [
              1,
              "#f0f921"
             ]
            ],
            "type": "surface"
           }
          ],
          "table": [
           {
            "cells": {
             "fill": {
              "color": "#EBF0F8"
             },
             "line": {
              "color": "white"
             }
            },
            "header": {
             "fill": {
              "color": "#C8D4E3"
             },
             "line": {
              "color": "white"
             }
            },
            "type": "table"
           }
          ]
         },
         "layout": {
          "annotationdefaults": {
           "arrowcolor": "#2a3f5f",
           "arrowhead": 0,
           "arrowwidth": 1
          },
          "coloraxis": {
           "colorbar": {
            "outlinewidth": 0,
            "ticks": ""
           }
          },
          "colorscale": {
           "diverging": [
            [
             0,
             "#8e0152"
            ],
            [
             0.1,
             "#c51b7d"
            ],
            [
             0.2,
             "#de77ae"
            ],
            [
             0.3,
             "#f1b6da"
            ],
            [
             0.4,
             "#fde0ef"
            ],
            [
             0.5,
             "#f7f7f7"
            ],
            [
             0.6,
             "#e6f5d0"
            ],
            [
             0.7,
             "#b8e186"
            ],
            [
             0.8,
             "#7fbc41"
            ],
            [
             0.9,
             "#4d9221"
            ],
            [
             1,
             "#276419"
            ]
           ],
           "sequential": [
            [
             0,
             "#0d0887"
            ],
            [
             0.1111111111111111,
             "#46039f"
            ],
            [
             0.2222222222222222,
             "#7201a8"
            ],
            [
             0.3333333333333333,
             "#9c179e"
            ],
            [
             0.4444444444444444,
             "#bd3786"
            ],
            [
             0.5555555555555556,
             "#d8576b"
            ],
            [
             0.6666666666666666,
             "#ed7953"
            ],
            [
             0.7777777777777778,
             "#fb9f3a"
            ],
            [
             0.8888888888888888,
             "#fdca26"
            ],
            [
             1,
             "#f0f921"
            ]
           ],
           "sequentialminus": [
            [
             0,
             "#0d0887"
            ],
            [
             0.1111111111111111,
             "#46039f"
            ],
            [
             0.2222222222222222,
             "#7201a8"
            ],
            [
             0.3333333333333333,
             "#9c179e"
            ],
            [
             0.4444444444444444,
             "#bd3786"
            ],
            [
             0.5555555555555556,
             "#d8576b"
            ],
            [
             0.6666666666666666,
             "#ed7953"
            ],
            [
             0.7777777777777778,
             "#fb9f3a"
            ],
            [
             0.8888888888888888,
             "#fdca26"
            ],
            [
             1,
             "#f0f921"
            ]
           ]
          },
          "colorway": [
           "#636efa",
           "#EF553B",
           "#00cc96",
           "#ab63fa",
           "#FFA15A",
           "#19d3f3",
           "#FF6692",
           "#B6E880",
           "#FF97FF",
           "#FECB52"
          ],
          "font": {
           "color": "#2a3f5f"
          },
          "geo": {
           "bgcolor": "white",
           "lakecolor": "white",
           "landcolor": "#E5ECF6",
           "showlakes": true,
           "showland": true,
           "subunitcolor": "white"
          },
          "hoverlabel": {
           "align": "left"
          },
          "hovermode": "closest",
          "mapbox": {
           "style": "light"
          },
          "paper_bgcolor": "white",
          "plot_bgcolor": "#E5ECF6",
          "polar": {
           "angularaxis": {
            "gridcolor": "white",
            "linecolor": "white",
            "ticks": ""
           },
           "bgcolor": "#E5ECF6",
           "radialaxis": {
            "gridcolor": "white",
            "linecolor": "white",
            "ticks": ""
           }
          },
          "scene": {
           "xaxis": {
            "backgroundcolor": "#E5ECF6",
            "gridcolor": "white",
            "gridwidth": 2,
            "linecolor": "white",
            "showbackground": true,
            "ticks": "",
            "zerolinecolor": "white"
           },
           "yaxis": {
            "backgroundcolor": "#E5ECF6",
            "gridcolor": "white",
            "gridwidth": 2,
            "linecolor": "white",
            "showbackground": true,
            "ticks": "",
            "zerolinecolor": "white"
           },
           "zaxis": {
            "backgroundcolor": "#E5ECF6",
            "gridcolor": "white",
            "gridwidth": 2,
            "linecolor": "white",
            "showbackground": true,
            "ticks": "",
            "zerolinecolor": "white"
           }
          },
          "shapedefaults": {
           "line": {
            "color": "#2a3f5f"
           }
          },
          "ternary": {
           "aaxis": {
            "gridcolor": "white",
            "linecolor": "white",
            "ticks": ""
           },
           "baxis": {
            "gridcolor": "white",
            "linecolor": "white",
            "ticks": ""
           },
           "bgcolor": "#E5ECF6",
           "caxis": {
            "gridcolor": "white",
            "linecolor": "white",
            "ticks": ""
           }
          },
          "title": {
           "x": 0.05
          },
          "xaxis": {
           "automargin": true,
           "gridcolor": "white",
           "linecolor": "white",
           "ticks": "",
           "title": {
            "standoff": 15
           },
           "zerolinecolor": "white",
           "zerolinewidth": 2
          },
          "yaxis": {
           "automargin": true,
           "gridcolor": "white",
           "linecolor": "white",
           "ticks": "",
           "title": {
            "standoff": 15
           },
           "zerolinecolor": "white",
           "zerolinewidth": 2
          }
         }
        },
        "title": {
         "text": "Income Share Over Time 1967"
        },
        "updatemenus": [
         {
          "buttons": [
           {
            "args": [
             null
            ],
            "label": "Play",
            "method": "animate"
           }
          ],
          "type": "buttons"
         }
        ]
       }
      },
      "text/html": "<div>\n        \n        \n            <div id=\"a032a6aa-1ad3-4643-98c8-ec0cb2c0aba0\" class=\"plotly-graph-div\" style=\"height:525px; width:100%;\"></div>\n            <script type=\"text/javascript\">\n                require([\"plotly\"], function(Plotly) {\n                    window.PLOTLYENV=window.PLOTLYENV || {};\n                    \n                if (document.getElementById(\"a032a6aa-1ad3-4643-98c8-ec0cb2c0aba0\")) {\n                    Plotly.newPlot(\n                        'a032a6aa-1ad3-4643-98c8-ec0cb2c0aba0',\n                        [{\"labels\": [\"Lowest\", \"Second\", \"Third\", \"Fourth\", \"Highest\", \"Top 5%\"], \"parents\": [\"\", \"\", \"\", \"\", \"\", \"Highest\"], \"textinfo\": \"label+value\", \"type\": \"treemap\", \"values\": [4.0, 10.8, 17.3, 24.2, 43.6, 17.2]}],\n                        {\"template\": {\"data\": {\"bar\": [{\"error_x\": {\"color\": \"#2a3f5f\"}, \"error_y\": {\"color\": \"#2a3f5f\"}, \"marker\": {\"line\": {\"color\": \"#E5ECF6\", \"width\": 0.5}}, \"type\": \"bar\"}], \"barpolar\": [{\"marker\": {\"line\": {\"color\": \"#E5ECF6\", \"width\": 0.5}}, \"type\": \"barpolar\"}], \"carpet\": [{\"aaxis\": {\"endlinecolor\": \"#2a3f5f\", \"gridcolor\": \"white\", \"linecolor\": \"white\", \"minorgridcolor\": \"white\", \"startlinecolor\": \"#2a3f5f\"}, \"baxis\": {\"endlinecolor\": \"#2a3f5f\", \"gridcolor\": \"white\", \"linecolor\": \"white\", \"minorgridcolor\": \"white\", \"startlinecolor\": \"#2a3f5f\"}, \"type\": \"carpet\"}], \"choropleth\": [{\"colorbar\": {\"outlinewidth\": 0, \"ticks\": \"\"}, \"type\": \"choropleth\"}], \"contour\": [{\"colorbar\": {\"outlinewidth\": 0, \"ticks\": \"\"}, \"colorscale\": [[0.0, \"#0d0887\"], [0.1111111111111111, \"#46039f\"], [0.2222222222222222, \"#7201a8\"], [0.3333333333333333, \"#9c179e\"], [0.4444444444444444, \"#bd3786\"], [0.5555555555555556, \"#d8576b\"], [0.6666666666666666, \"#ed7953\"], [0.7777777777777778, \"#fb9f3a\"], [0.8888888888888888, \"#fdca26\"], [1.0, \"#f0f921\"]], \"type\": \"contour\"}], \"contourcarpet\": [{\"colorbar\": {\"outlinewidth\": 0, \"ticks\": \"\"}, \"type\": \"contourcarpet\"}], \"heatmap\": [{\"colorbar\": {\"outlinewidth\": 0, \"ticks\": \"\"}, \"colorscale\": [[0.0, \"#0d0887\"], [0.1111111111111111, \"#46039f\"], [0.2222222222222222, \"#7201a8\"], [0.3333333333333333, \"#9c179e\"], [0.4444444444444444, \"#bd3786\"], [0.5555555555555556, \"#d8576b\"], [0.6666666666666666, \"#ed7953\"], [0.7777777777777778, \"#fb9f3a\"], [0.8888888888888888, \"#fdca26\"], [1.0, \"#f0f921\"]], \"type\": \"heatmap\"}], \"heatmapgl\": [{\"colorbar\": {\"outlinewidth\": 0, \"ticks\": \"\"}, \"colorscale\": [[0.0, \"#0d0887\"], [0.1111111111111111, \"#46039f\"], [0.2222222222222222, \"#7201a8\"], [0.3333333333333333, \"#9c179e\"], [0.4444444444444444, \"#bd3786\"], [0.5555555555555556, \"#d8576b\"], [0.6666666666666666, \"#ed7953\"], [0.7777777777777778, \"#fb9f3a\"], [0.8888888888888888, \"#fdca26\"], [1.0, \"#f0f921\"]], \"type\": \"heatmapgl\"}], \"histogram\": [{\"marker\": {\"colorbar\": {\"outlinewidth\": 0, \"ticks\": \"\"}}, \"type\": \"histogram\"}], \"histogram2d\": [{\"colorbar\": {\"outlinewidth\": 0, \"ticks\": \"\"}, \"colorscale\": [[0.0, \"#0d0887\"], [0.1111111111111111, \"#46039f\"], [0.2222222222222222, \"#7201a8\"], [0.3333333333333333, \"#9c179e\"], [0.4444444444444444, \"#bd3786\"], [0.5555555555555556, \"#d8576b\"], [0.6666666666666666, \"#ed7953\"], [0.7777777777777778, \"#fb9f3a\"], [0.8888888888888888, \"#fdca26\"], [1.0, \"#f0f921\"]], \"type\": \"histogram2d\"}], \"histogram2dcontour\": [{\"colorbar\": {\"outlinewidth\": 0, \"ticks\": \"\"}, \"colorscale\": [[0.0, \"#0d0887\"], [0.1111111111111111, \"#46039f\"], [0.2222222222222222, \"#7201a8\"], [0.3333333333333333, \"#9c179e\"], [0.4444444444444444, \"#bd3786\"], [0.5555555555555556, \"#d8576b\"], [0.6666666666666666, \"#ed7953\"], [0.7777777777777778, \"#fb9f3a\"], [0.8888888888888888, \"#fdca26\"], [1.0, \"#f0f921\"]], \"type\": \"histogram2dcontour\"}], \"mesh3d\": [{\"colorbar\": {\"outlinewidth\": 0, \"ticks\": \"\"}, \"type\": \"mesh3d\"}], \"parcoords\": [{\"line\": {\"colorbar\": {\"outlinewidth\": 0, \"ticks\": \"\"}}, \"type\": \"parcoords\"}], \"pie\": [{\"automargin\": true, \"type\": \"pie\"}], \"scatter\": [{\"marker\": {\"colorbar\": {\"outlinewidth\": 0, \"ticks\": \"\"}}, \"type\": \"scatter\"}], \"scatter3d\": [{\"line\": {\"colorbar\": {\"outlinewidth\": 0, \"ticks\": \"\"}}, \"marker\": {\"colorbar\": {\"outlinewidth\": 0, \"ticks\": \"\"}}, \"type\": \"scatter3d\"}], \"scattercarpet\": [{\"marker\": {\"colorbar\": {\"outlinewidth\": 0, \"ticks\": \"\"}}, \"type\": \"scattercarpet\"}], \"scattergeo\": [{\"marker\": {\"colorbar\": {\"outlinewidth\": 0, \"ticks\": \"\"}}, \"type\": \"scattergeo\"}], \"scattergl\": [{\"marker\": {\"colorbar\": {\"outlinewidth\": 0, \"ticks\": \"\"}}, \"type\": \"scattergl\"}], \"scattermapbox\": [{\"marker\": {\"colorbar\": {\"outlinewidth\": 0, \"ticks\": \"\"}}, \"type\": \"scattermapbox\"}], \"scatterpolar\": [{\"marker\": {\"colorbar\": {\"outlinewidth\": 0, \"ticks\": \"\"}}, \"type\": \"scatterpolar\"}], \"scatterpolargl\": [{\"marker\": {\"colorbar\": {\"outlinewidth\": 0, \"ticks\": \"\"}}, \"type\": \"scatterpolargl\"}], \"scatterternary\": [{\"marker\": {\"colorbar\": {\"outlinewidth\": 0, \"ticks\": \"\"}}, \"type\": \"scatterternary\"}], \"surface\": [{\"colorbar\": {\"outlinewidth\": 0, \"ticks\": \"\"}, \"colorscale\": [[0.0, \"#0d0887\"], [0.1111111111111111, \"#46039f\"], [0.2222222222222222, \"#7201a8\"], [0.3333333333333333, \"#9c179e\"], [0.4444444444444444, \"#bd3786\"], [0.5555555555555556, \"#d8576b\"], [0.6666666666666666, \"#ed7953\"], [0.7777777777777778, \"#fb9f3a\"], [0.8888888888888888, \"#fdca26\"], [1.0, \"#f0f921\"]], \"type\": \"surface\"}], \"table\": [{\"cells\": {\"fill\": {\"color\": \"#EBF0F8\"}, \"line\": {\"color\": \"white\"}}, \"header\": {\"fill\": {\"color\": \"#C8D4E3\"}, \"line\": {\"color\": \"white\"}}, \"type\": \"table\"}]}, \"layout\": {\"annotationdefaults\": {\"arrowcolor\": \"#2a3f5f\", \"arrowhead\": 0, \"arrowwidth\": 1}, \"coloraxis\": {\"colorbar\": {\"outlinewidth\": 0, \"ticks\": \"\"}}, \"colorscale\": {\"diverging\": [[0, \"#8e0152\"], [0.1, \"#c51b7d\"], [0.2, \"#de77ae\"], [0.3, \"#f1b6da\"], [0.4, \"#fde0ef\"], [0.5, \"#f7f7f7\"], [0.6, \"#e6f5d0\"], [0.7, \"#b8e186\"], [0.8, \"#7fbc41\"], [0.9, \"#4d9221\"], [1, \"#276419\"]], \"sequential\": [[0.0, \"#0d0887\"], [0.1111111111111111, \"#46039f\"], [0.2222222222222222, \"#7201a8\"], [0.3333333333333333, \"#9c179e\"], [0.4444444444444444, \"#bd3786\"], [0.5555555555555556, \"#d8576b\"], [0.6666666666666666, \"#ed7953\"], [0.7777777777777778, \"#fb9f3a\"], [0.8888888888888888, \"#fdca26\"], [1.0, \"#f0f921\"]], \"sequentialminus\": [[0.0, \"#0d0887\"], [0.1111111111111111, \"#46039f\"], [0.2222222222222222, \"#7201a8\"], [0.3333333333333333, \"#9c179e\"], [0.4444444444444444, \"#bd3786\"], [0.5555555555555556, \"#d8576b\"], [0.6666666666666666, \"#ed7953\"], [0.7777777777777778, \"#fb9f3a\"], [0.8888888888888888, \"#fdca26\"], [1.0, \"#f0f921\"]]}, \"colorway\": [\"#636efa\", \"#EF553B\", \"#00cc96\", \"#ab63fa\", \"#FFA15A\", \"#19d3f3\", \"#FF6692\", \"#B6E880\", \"#FF97FF\", \"#FECB52\"], \"font\": {\"color\": \"#2a3f5f\"}, \"geo\": {\"bgcolor\": \"white\", \"lakecolor\": \"white\", \"landcolor\": \"#E5ECF6\", \"showlakes\": true, \"showland\": true, \"subunitcolor\": \"white\"}, \"hoverlabel\": {\"align\": \"left\"}, \"hovermode\": \"closest\", \"mapbox\": {\"style\": \"light\"}, \"paper_bgcolor\": \"white\", \"plot_bgcolor\": \"#E5ECF6\", \"polar\": {\"angularaxis\": {\"gridcolor\": \"white\", \"linecolor\": \"white\", \"ticks\": \"\"}, \"bgcolor\": \"#E5ECF6\", \"radialaxis\": {\"gridcolor\": \"white\", \"linecolor\": \"white\", \"ticks\": \"\"}}, \"scene\": {\"xaxis\": {\"backgroundcolor\": \"#E5ECF6\", \"gridcolor\": \"white\", \"gridwidth\": 2, \"linecolor\": \"white\", \"showbackground\": true, \"ticks\": \"\", \"zerolinecolor\": \"white\"}, \"yaxis\": {\"backgroundcolor\": \"#E5ECF6\", \"gridcolor\": \"white\", \"gridwidth\": 2, \"linecolor\": \"white\", \"showbackground\": true, \"ticks\": \"\", \"zerolinecolor\": \"white\"}, \"zaxis\": {\"backgroundcolor\": \"#E5ECF6\", \"gridcolor\": \"white\", \"gridwidth\": 2, \"linecolor\": \"white\", \"showbackground\": true, \"ticks\": \"\", \"zerolinecolor\": \"white\"}}, \"shapedefaults\": {\"line\": {\"color\": \"#2a3f5f\"}}, \"ternary\": {\"aaxis\": {\"gridcolor\": \"white\", \"linecolor\": \"white\", \"ticks\": \"\"}, \"baxis\": {\"gridcolor\": \"white\", \"linecolor\": \"white\", \"ticks\": \"\"}, \"bgcolor\": \"#E5ECF6\", \"caxis\": {\"gridcolor\": \"white\", \"linecolor\": \"white\", \"ticks\": \"\"}}, \"title\": {\"x\": 0.05}, \"xaxis\": {\"automargin\": true, \"gridcolor\": \"white\", \"linecolor\": \"white\", \"ticks\": \"\", \"title\": {\"standoff\": 15}, \"zerolinecolor\": \"white\", \"zerolinewidth\": 2}, \"yaxis\": {\"automargin\": true, \"gridcolor\": \"white\", \"linecolor\": \"white\", \"ticks\": \"\", \"title\": {\"standoff\": 15}, \"zerolinecolor\": \"white\", \"zerolinewidth\": 2}}}, \"title\": {\"text\": \"Income Share Over Time 1967\"}, \"updatemenus\": [{\"buttons\": [{\"args\": [null], \"label\": \"Play\", \"method\": \"animate\"}], \"type\": \"buttons\"}]},\n                        {\"responsive\": true}\n                    ).then(function(){\n                            Plotly.addFrames('a032a6aa-1ad3-4643-98c8-ec0cb2c0aba0', [{\"data\": [{\"labels\": [\"Lowest\", \"Second\", \"Third\", \"Fourth\", \"Highest\", \"Top 5%\"], \"parents\": [\"\", \"\", \"\", \"\", \"\", \"Highest\"], \"textinfo\": \"label+value\", \"values\": [4.0, 10.8, 17.3, 24.2, 43.6, 17.2], \"type\": \"treemap\"}], \"layout\": {\"title\": {\"text\": \"Income Share Over Time 1967\"}, \"uniformtext\": {\"minsize\": 10, \"mode\": \"show\"}}}, {\"data\": [{\"labels\": [\"Lowest\", \"Second\", \"Third\", \"Fourth\", \"Highest\", \"Top 5%\"], \"parents\": [\"\", \"\", \"\", \"\", \"\", \"Highest\"], \"textinfo\": \"label+value\", \"values\": [4.2, 11.1, 17.6, 24.5, 42.6, 16.3], \"type\": \"treemap\"}], \"layout\": {\"title\": {\"text\": \"Income Share Over Time 1968\"}, \"uniformtext\": {\"minsize\": 10, \"mode\": \"show\"}}}, {\"data\": [{\"labels\": [\"Lowest\", \"Second\", \"Third\", \"Fourth\", \"Highest\", \"Top 5%\"], \"parents\": [\"\", \"\", \"\", \"\", \"\", \"Highest\"], \"textinfo\": \"label+value\", \"values\": [4.1, 10.9, 17.5, 24.5, 43.0, 16.6], \"type\": \"treemap\"}], \"layout\": {\"title\": {\"text\": \"Income Share Over Time 1969\"}, \"uniformtext\": {\"minsize\": 10, \"mode\": \"show\"}}}, {\"data\": [{\"labels\": [\"Lowest\", \"Second\", \"Third\", \"Fourth\", \"Highest\", \"Top 5%\"], \"parents\": [\"\", \"\", \"\", \"\", \"\", \"Highest\"], \"textinfo\": \"label+value\", \"values\": [4.1, 10.8, 17.4, 24.5, 43.3, 16.6], \"type\": \"treemap\"}], \"layout\": {\"title\": {\"text\": \"Income Share Over Time 1970\"}, \"uniformtext\": {\"minsize\": 10, \"mode\": \"show\"}}}, {\"data\": [{\"labels\": [\"Lowest\", \"Second\", \"Third\", \"Fourth\", \"Highest\", \"Top 5%\"], \"parents\": [\"\", \"\", \"\", \"\", \"\", \"Highest\"], \"textinfo\": \"label+value\", \"values\": [4.1, 10.6, 17.3, 24.5, 43.5, 16.7], \"type\": \"treemap\"}], \"layout\": {\"title\": {\"text\": \"Income Share Over Time 1971\"}, \"uniformtext\": {\"minsize\": 10, \"mode\": \"show\"}}}, {\"data\": [{\"labels\": [\"Lowest\", \"Second\", \"Third\", \"Fourth\", \"Highest\", \"Top 5%\"], \"parents\": [\"\", \"\", \"\", \"\", \"\", \"Highest\"], \"textinfo\": \"label+value\", \"values\": [4.1, 10.4, 17.0, 24.5, 43.9, 17.0], \"type\": \"treemap\"}], \"layout\": {\"title\": {\"text\": \"Income Share Over Time 1972\"}, \"uniformtext\": {\"minsize\": 10, \"mode\": \"show\"}}}, {\"data\": [{\"labels\": [\"Lowest\", \"Second\", \"Third\", \"Fourth\", \"Highest\", \"Top 5%\"], \"parents\": [\"\", \"\", \"\", \"\", \"\", \"Highest\"], \"textinfo\": \"label+value\", \"values\": [4.2, 10.4, 17.0, 24.5, 43.9, 16.9], \"type\": \"treemap\"}], \"layout\": {\"title\": {\"text\": \"Income Share Over Time 1973\"}, \"uniformtext\": {\"minsize\": 10, \"mode\": \"show\"}}}, {\"data\": [{\"labels\": [\"Lowest\", \"Second\", \"Third\", \"Fourth\", \"Highest\", \"Top 5%\"], \"parents\": [\"\", \"\", \"\", \"\", \"\", \"Highest\"], \"textinfo\": \"label+value\", \"values\": [4.3, 10.6, 17.0, 24.6, 43.5, 16.5], \"type\": \"treemap\"}], \"layout\": {\"title\": {\"text\": \"Income Share Over Time 1974\"}, \"uniformtext\": {\"minsize\": 10, \"mode\": \"show\"}}}, {\"data\": [{\"labels\": [\"Lowest\", \"Second\", \"Third\", \"Fourth\", \"Highest\", \"Top 5%\"], \"parents\": [\"\", \"\", \"\", \"\", \"\", \"Highest\"], \"textinfo\": \"label+value\", \"values\": [4.3, 10.4, 17.0, 24.7, 43.6, 16.5], \"type\": \"treemap\"}], \"layout\": {\"title\": {\"text\": \"Income Share Over Time 1975\"}, \"uniformtext\": {\"minsize\": 10, \"mode\": \"show\"}}}, {\"data\": [{\"labels\": [\"Lowest\", \"Second\", \"Third\", \"Fourth\", \"Highest\", \"Top 5%\"], \"parents\": [\"\", \"\", \"\", \"\", \"\", \"Highest\"], \"textinfo\": \"label+value\", \"values\": [4.3, 10.3, 17.0, 24.7, 43.7, 16.6], \"type\": \"treemap\"}], \"layout\": {\"title\": {\"text\": \"Income Share Over Time 1976\"}, \"uniformtext\": {\"minsize\": 10, \"mode\": \"show\"}}}, {\"data\": [{\"labels\": [\"Lowest\", \"Second\", \"Third\", \"Fourth\", \"Highest\", \"Top 5%\"], \"parents\": [\"\", \"\", \"\", \"\", \"\", \"Highest\"], \"textinfo\": \"label+value\", \"values\": [4.2, 10.2, 16.9, 24.7, 44.0, 16.8], \"type\": \"treemap\"}], \"layout\": {\"title\": {\"text\": \"Income Share Over Time 1977\"}, \"uniformtext\": {\"minsize\": 10, \"mode\": \"show\"}}}, {\"data\": [{\"labels\": [\"Lowest\", \"Second\", \"Third\", \"Fourth\", \"Highest\", \"Top 5%\"], \"parents\": [\"\", \"\", \"\", \"\", \"\", \"Highest\"], \"textinfo\": \"label+value\", \"values\": [4.2, 10.2, 16.8, 24.7, 44.1, 16.8], \"type\": \"treemap\"}], \"layout\": {\"title\": {\"text\": \"Income Share Over Time 1978\"}, \"uniformtext\": {\"minsize\": 10, \"mode\": \"show\"}}}, {\"data\": [{\"labels\": [\"Lowest\", \"Second\", \"Third\", \"Fourth\", \"Highest\", \"Top 5%\"], \"parents\": [\"\", \"\", \"\", \"\", \"\", \"Highest\"], \"textinfo\": \"label+value\", \"values\": [4.1, 10.2, 16.8, 24.6, 44.2, 16.9], \"type\": \"treemap\"}], \"layout\": {\"title\": {\"text\": \"Income Share Over Time 1979\"}, \"uniformtext\": {\"minsize\": 10, \"mode\": \"show\"}}}, {\"data\": [{\"labels\": [\"Lowest\", \"Second\", \"Third\", \"Fourth\", \"Highest\", \"Top 5%\"], \"parents\": [\"\", \"\", \"\", \"\", \"\", \"Highest\"], \"textinfo\": \"label+value\", \"values\": [4.2, 10.2, 16.8, 24.7, 44.1, 16.5], \"type\": \"treemap\"}], \"layout\": {\"title\": {\"text\": \"Income Share Over Time 1980\"}, \"uniformtext\": {\"minsize\": 10, \"mode\": \"show\"}}}, {\"data\": [{\"labels\": [\"Lowest\", \"Second\", \"Third\", \"Fourth\", \"Highest\", \"Top 5%\"], \"parents\": [\"\", \"\", \"\", \"\", \"\", \"Highest\"], \"textinfo\": \"label+value\", \"values\": [4.1, 10.1, 16.7, 24.8, 44.3, 16.5], \"type\": \"treemap\"}], \"layout\": {\"title\": {\"text\": \"Income Share Over Time 1981\"}, \"uniformtext\": {\"minsize\": 10, \"mode\": \"show\"}}}, {\"data\": [{\"labels\": [\"Lowest\", \"Second\", \"Third\", \"Fourth\", \"Highest\", \"Top 5%\"], \"parents\": [\"\", \"\", \"\", \"\", \"\", \"Highest\"], \"textinfo\": \"label+value\", \"values\": [4.0, 10.0, 16.5, 24.5, 45.0, 17.0], \"type\": \"treemap\"}], \"layout\": {\"title\": {\"text\": \"Income Share Over Time 1982\"}, \"uniformtext\": {\"minsize\": 10, \"mode\": \"show\"}}}, {\"data\": [{\"labels\": [\"Lowest\", \"Second\", \"Third\", \"Fourth\", \"Highest\", \"Top 5%\"], \"parents\": [\"\", \"\", \"\", \"\", \"\", \"Highest\"], \"textinfo\": \"label+value\", \"values\": [4.0, 9.9, 16.4, 24.6, 45.1, 17.0], \"type\": \"treemap\"}], \"layout\": {\"title\": {\"text\": \"Income Share Over Time 1983\"}, \"uniformtext\": {\"minsize\": 10, \"mode\": \"show\"}}}, {\"data\": [{\"labels\": [\"Lowest\", \"Second\", \"Third\", \"Fourth\", \"Highest\", \"Top 5%\"], \"parents\": [\"\", \"\", \"\", \"\", \"\", \"Highest\"], \"textinfo\": \"label+value\", \"values\": [4.0, 9.9, 16.3, 24.6, 45.2, 17.1], \"type\": \"treemap\"}], \"layout\": {\"title\": {\"text\": \"Income Share Over Time 1984\"}, \"uniformtext\": {\"minsize\": 10, \"mode\": \"show\"}}}, {\"data\": [{\"labels\": [\"Lowest\", \"Second\", \"Third\", \"Fourth\", \"Highest\", \"Top 5%\"], \"parents\": [\"\", \"\", \"\", \"\", \"\", \"Highest\"], \"textinfo\": \"label+value\", \"values\": [3.9, 9.8, 16.2, 24.4, 45.6, 17.6], \"type\": \"treemap\"}], \"layout\": {\"title\": {\"text\": \"Income Share Over Time 1985\"}, \"uniformtext\": {\"minsize\": 10, \"mode\": \"show\"}}}, {\"data\": [{\"labels\": [\"Lowest\", \"Second\", \"Third\", \"Fourth\", \"Highest\", \"Top 5%\"], \"parents\": [\"\", \"\", \"\", \"\", \"\", \"Highest\"], \"textinfo\": \"label+value\", \"values\": [3.8, 9.7, 16.2, 24.3, 46.1, 18.0], \"type\": \"treemap\"}], \"layout\": {\"title\": {\"text\": \"Income Share Over Time 1986\"}, \"uniformtext\": {\"minsize\": 10, \"mode\": \"show\"}}}, {\"data\": [{\"labels\": [\"Lowest\", \"Second\", \"Third\", \"Fourth\", \"Highest\", \"Top 5%\"], \"parents\": [\"\", \"\", \"\", \"\", \"\", \"Highest\"], \"textinfo\": \"label+value\", \"values\": [3.8, 9.6, 16.1, 24.3, 46.2, 18.2], \"type\": \"treemap\"}], \"layout\": {\"title\": {\"text\": \"Income Share Over Time 1987\"}, \"uniformtext\": {\"minsize\": 10, \"mode\": \"show\"}}}, {\"data\": [{\"labels\": [\"Lowest\", \"Second\", \"Third\", \"Fourth\", \"Highest\", \"Top 5%\"], \"parents\": [\"\", \"\", \"\", \"\", \"\", \"Highest\"], \"textinfo\": \"label+value\", \"values\": [3.8, 9.6, 16.0, 24.2, 46.3, 18.3], \"type\": \"treemap\"}], \"layout\": {\"title\": {\"text\": \"Income Share Over Time 1988\"}, \"uniformtext\": {\"minsize\": 10, \"mode\": \"show\"}}}, {\"data\": [{\"labels\": [\"Lowest\", \"Second\", \"Third\", \"Fourth\", \"Highest\", \"Top 5%\"], \"parents\": [\"\", \"\", \"\", \"\", \"\", \"Highest\"], \"textinfo\": \"label+value\", \"values\": [3.8, 9.5, 15.8, 24.0, 46.8, 18.9], \"type\": \"treemap\"}], \"layout\": {\"title\": {\"text\": \"Income Share Over Time 1989\"}, \"uniformtext\": {\"minsize\": 10, \"mode\": \"show\"}}}, {\"data\": [{\"labels\": [\"Lowest\", \"Second\", \"Third\", \"Fourth\", \"Highest\", \"Top 5%\"], \"parents\": [\"\", \"\", \"\", \"\", \"\", \"Highest\"], \"textinfo\": \"label+value\", \"values\": [3.8, 9.6, 15.9, 24.0, 46.6, 18.5], \"type\": \"treemap\"}], \"layout\": {\"title\": {\"text\": \"Income Share Over Time 1990\"}, \"uniformtext\": {\"minsize\": 10, \"mode\": \"show\"}}}, {\"data\": [{\"labels\": [\"Lowest\", \"Second\", \"Third\", \"Fourth\", \"Highest\", \"Top 5%\"], \"parents\": [\"\", \"\", \"\", \"\", \"\", \"Highest\"], \"textinfo\": \"label+value\", \"values\": [3.8, 9.6, 15.9, 24.2, 46.5, 18.1], \"type\": \"treemap\"}], \"layout\": {\"title\": {\"text\": \"Income Share Over Time 1991\"}, \"uniformtext\": {\"minsize\": 10, \"mode\": \"show\"}}}, {\"data\": [{\"labels\": [\"Lowest\", \"Second\", \"Third\", \"Fourth\", \"Highest\", \"Top 5%\"], \"parents\": [\"\", \"\", \"\", \"\", \"\", \"Highest\"], \"textinfo\": \"label+value\", \"values\": [3.8, 9.4, 15.8, 24.2, 46.9, 18.6], \"type\": \"treemap\"}], \"layout\": {\"title\": {\"text\": \"Income Share Over Time 1992\"}, \"uniformtext\": {\"minsize\": 10, \"mode\": \"show\"}}}, {\"data\": [{\"labels\": [\"Lowest\", \"Second\", \"Third\", \"Fourth\", \"Highest\", \"Top 5%\"], \"parents\": [\"\", \"\", \"\", \"\", \"\", \"Highest\"], \"textinfo\": \"label+value\", \"values\": [3.6, 9.0, 15.1, 23.5, 48.9, 21.0], \"type\": \"treemap\"}], \"layout\": {\"title\": {\"text\": \"Income Share Over Time 1993\"}, \"uniformtext\": {\"minsize\": 10, \"mode\": \"show\"}}}, {\"data\": [{\"labels\": [\"Lowest\", \"Second\", \"Third\", \"Fourth\", \"Highest\", \"Top 5%\"], \"parents\": [\"\", \"\", \"\", \"\", \"\", \"Highest\"], \"textinfo\": \"label+value\", \"values\": [3.6, 8.9, 15.0, 23.4, 49.1, 21.2], \"type\": \"treemap\"}], \"layout\": {\"title\": {\"text\": \"Income Share Over Time 1994\"}, \"uniformtext\": {\"minsize\": 10, \"mode\": \"show\"}}}, {\"data\": [{\"labels\": [\"Lowest\", \"Second\", \"Third\", \"Fourth\", \"Highest\", \"Top 5%\"], \"parents\": [\"\", \"\", \"\", \"\", \"\", \"Highest\"], \"textinfo\": \"label+value\", \"values\": [3.7, 9.1, 15.2, 23.3, 48.7, 21.0], \"type\": \"treemap\"}], \"layout\": {\"title\": {\"text\": \"Income Share Over Time 1995\"}, \"uniformtext\": {\"minsize\": 10, \"mode\": \"show\"}}}, {\"data\": [{\"labels\": [\"Lowest\", \"Second\", \"Third\", \"Fourth\", \"Highest\", \"Top 5%\"], \"parents\": [\"\", \"\", \"\", \"\", \"\", \"Highest\"], \"textinfo\": \"label+value\", \"values\": [3.6, 9.0, 15.1, 23.3, 49.0, 21.4], \"type\": \"treemap\"}], \"layout\": {\"title\": {\"text\": \"Income Share Over Time 1996\"}, \"uniformtext\": {\"minsize\": 10, \"mode\": \"show\"}}}, {\"data\": [{\"labels\": [\"Lowest\", \"Second\", \"Third\", \"Fourth\", \"Highest\", \"Top 5%\"], \"parents\": [\"\", \"\", \"\", \"\", \"\", \"Highest\"], \"textinfo\": \"label+value\", \"values\": [3.6, 8.9, 15.0, 23.2, 49.4, 21.7], \"type\": \"treemap\"}], \"layout\": {\"title\": {\"text\": \"Income Share Over Time 1997\"}, \"uniformtext\": {\"minsize\": 10, \"mode\": \"show\"}}}, {\"data\": [{\"labels\": [\"Lowest\", \"Second\", \"Third\", \"Fourth\", \"Highest\", \"Top 5%\"], \"parents\": [\"\", \"\", \"\", \"\", \"\", \"Highest\"], \"textinfo\": \"label+value\", \"values\": [3.6, 9.0, 15.0, 23.2, 49.2, 21.4], \"type\": \"treemap\"}], \"layout\": {\"title\": {\"text\": \"Income Share Over Time 1998\"}, \"uniformtext\": {\"minsize\": 10, \"mode\": \"show\"}}}, {\"data\": [{\"labels\": [\"Lowest\", \"Second\", \"Third\", \"Fourth\", \"Highest\", \"Top 5%\"], \"parents\": [\"\", \"\", \"\", \"\", \"\", \"Highest\"], \"textinfo\": \"label+value\", \"values\": [3.6, 8.9, 14.9, 23.2, 49.4, 21.5], \"type\": \"treemap\"}], \"layout\": {\"title\": {\"text\": \"Income Share Over Time 1999\"}, \"uniformtext\": {\"minsize\": 10, \"mode\": \"show\"}}}, {\"data\": [{\"labels\": [\"Lowest\", \"Second\", \"Third\", \"Fourth\", \"Highest\", \"Top 5%\"], \"parents\": [\"\", \"\", \"\", \"\", \"\", \"Highest\"], \"textinfo\": \"label+value\", \"values\": [3.6, 8.9, 14.8, 23.0, 49.8, 22.1], \"type\": \"treemap\"}], \"layout\": {\"title\": {\"text\": \"Income Share Over Time 2000\"}, \"uniformtext\": {\"minsize\": 10, \"mode\": \"show\"}}}, {\"data\": [{\"labels\": [\"Lowest\", \"Second\", \"Third\", \"Fourth\", \"Highest\", \"Top 5%\"], \"parents\": [\"\", \"\", \"\", \"\", \"\", \"Highest\"], \"textinfo\": \"label+value\", \"values\": [3.5, 8.7, 14.6, 23.0, 50.1, 22.4], \"type\": \"treemap\"}], \"layout\": {\"title\": {\"text\": \"Income Share Over Time 2001\"}, \"uniformtext\": {\"minsize\": 10, \"mode\": \"show\"}}}, {\"data\": [{\"labels\": [\"Lowest\", \"Second\", \"Third\", \"Fourth\", \"Highest\", \"Top 5%\"], \"parents\": [\"\", \"\", \"\", \"\", \"\", \"Highest\"], \"textinfo\": \"label+value\", \"values\": [3.5, 8.8, 14.8, 23.3, 49.7, 21.7], \"type\": \"treemap\"}], \"layout\": {\"title\": {\"text\": \"Income Share Over Time 2002\"}, \"uniformtext\": {\"minsize\": 10, \"mode\": \"show\"}}}, {\"data\": [{\"labels\": [\"Lowest\", \"Second\", \"Third\", \"Fourth\", \"Highest\", \"Top 5%\"], \"parents\": [\"\", \"\", \"\", \"\", \"\", \"Highest\"], \"textinfo\": \"label+value\", \"values\": [3.4, 8.7, 14.8, 23.4, 49.8, 21.4], \"type\": \"treemap\"}], \"layout\": {\"title\": {\"text\": \"Income Share Over Time 2003\"}, \"uniformtext\": {\"minsize\": 10, \"mode\": \"show\"}}}, {\"data\": [{\"labels\": [\"Lowest\", \"Second\", \"Third\", \"Fourth\", \"Highest\", \"Top 5%\"], \"parents\": [\"\", \"\", \"\", \"\", \"\", \"Highest\"], \"textinfo\": \"label+value\", \"values\": [3.4, 8.7, 14.7, 23.2, 50.1, 21.8], \"type\": \"treemap\"}], \"layout\": {\"title\": {\"text\": \"Income Share Over Time 2004\"}, \"uniformtext\": {\"minsize\": 10, \"mode\": \"show\"}}}, {\"data\": [{\"labels\": [\"Lowest\", \"Second\", \"Third\", \"Fourth\", \"Highest\", \"Top 5%\"], \"parents\": [\"\", \"\", \"\", \"\", \"\", \"Highest\"], \"textinfo\": \"label+value\", \"values\": [3.4, 8.6, 14.6, 23.0, 50.4, 22.2], \"type\": \"treemap\"}], \"layout\": {\"title\": {\"text\": \"Income Share Over Time 2005\"}, \"uniformtext\": {\"minsize\": 10, \"mode\": \"show\"}}}, {\"data\": [{\"labels\": [\"Lowest\", \"Second\", \"Third\", \"Fourth\", \"Highest\", \"Top 5%\"], \"parents\": [\"\", \"\", \"\", \"\", \"\", \"Highest\"], \"textinfo\": \"label+value\", \"values\": [3.4, 8.6, 14.5, 22.9, 50.5, 22.3], \"type\": \"treemap\"}], \"layout\": {\"title\": {\"text\": \"Income Share Over Time 2006\"}, \"uniformtext\": {\"minsize\": 10, \"mode\": \"show\"}}}, {\"data\": [{\"labels\": [\"Lowest\", \"Second\", \"Third\", \"Fourth\", \"Highest\", \"Top 5%\"], \"parents\": [\"\", \"\", \"\", \"\", \"\", \"Highest\"], \"textinfo\": \"label+value\", \"values\": [3.4, 8.7, 14.8, 23.4, 49.7, 21.2], \"type\": \"treemap\"}], \"layout\": {\"title\": {\"text\": \"Income Share Over Time 2007\"}, \"uniformtext\": {\"minsize\": 10, \"mode\": \"show\"}}}, {\"data\": [{\"labels\": [\"Lowest\", \"Second\", \"Third\", \"Fourth\", \"Highest\", \"Top 5%\"], \"parents\": [\"\", \"\", \"\", \"\", \"\", \"Highest\"], \"textinfo\": \"label+value\", \"values\": [3.4, 8.6, 14.7, 23.3, 50.0, 21.5], \"type\": \"treemap\"}], \"layout\": {\"title\": {\"text\": \"Income Share Over Time 2008\"}, \"uniformtext\": {\"minsize\": 10, \"mode\": \"show\"}}}, {\"data\": [{\"labels\": [\"Lowest\", \"Second\", \"Third\", \"Fourth\", \"Highest\", \"Top 5%\"], \"parents\": [\"\", \"\", \"\", \"\", \"\", \"Highest\"], \"textinfo\": \"label+value\", \"values\": [3.4, 8.6, 14.6, 23.2, 50.3, 21.7], \"type\": \"treemap\"}], \"layout\": {\"title\": {\"text\": \"Income Share Over Time 2009\"}, \"uniformtext\": {\"minsize\": 10, \"mode\": \"show\"}}}, {\"data\": [{\"labels\": [\"Lowest\", \"Second\", \"Third\", \"Fourth\", \"Highest\", \"Top 5%\"], \"parents\": [\"\", \"\", \"\", \"\", \"\", \"Highest\"], \"textinfo\": \"label+value\", \"values\": [3.3, 8.5, 14.6, 23.4, 50.3, 21.3], \"type\": \"treemap\"}], \"layout\": {\"title\": {\"text\": \"Income Share Over Time 2010\"}, \"uniformtext\": {\"minsize\": 10, \"mode\": \"show\"}}}, {\"data\": [{\"labels\": [\"Lowest\", \"Second\", \"Third\", \"Fourth\", \"Highest\", \"Top 5%\"], \"parents\": [\"\", \"\", \"\", \"\", \"\", \"Highest\"], \"textinfo\": \"label+value\", \"values\": [3.2, 8.4, 14.3, 23.0, 51.1, 22.3], \"type\": \"treemap\"}], \"layout\": {\"title\": {\"text\": \"Income Share Over Time 2011\"}, \"uniformtext\": {\"minsize\": 10, \"mode\": \"show\"}}}, {\"data\": [{\"labels\": [\"Lowest\", \"Second\", \"Third\", \"Fourth\", \"Highest\", \"Top 5%\"], \"parents\": [\"\", \"\", \"\", \"\", \"\", \"Highest\"], \"textinfo\": \"label+value\", \"values\": [3.2, 8.3, 14.4, 23.0, 51.0, 22.3], \"type\": \"treemap\"}], \"layout\": {\"title\": {\"text\": \"Income Share Over Time 2012\"}, \"uniformtext\": {\"minsize\": 10, \"mode\": \"show\"}}}, {\"data\": [{\"labels\": [\"Lowest\", \"Second\", \"Third\", \"Fourth\", \"Highest\", \"Top 5%\"], \"parents\": [\"\", \"\", \"\", \"\", \"\", \"Highest\"], \"textinfo\": \"label+value\", \"values\": [3.1, 8.2, 14.3, 23.0, 51.4, 22.2], \"type\": \"treemap\"}], \"layout\": {\"title\": {\"text\": \"Income Share Over Time 2013\"}, \"uniformtext\": {\"minsize\": 10, \"mode\": \"show\"}}}, {\"data\": [{\"labels\": [\"Lowest\", \"Second\", \"Third\", \"Fourth\", \"Highest\", \"Top 5%\"], \"parents\": [\"\", \"\", \"\", \"\", \"\", \"Highest\"], \"textinfo\": \"label+value\", \"values\": [3.1, 8.2, 14.3, 23.2, 51.2, 21.9], \"type\": \"treemap\"}], \"layout\": {\"title\": {\"text\": \"Income Share Over Time 2014\"}, \"uniformtext\": {\"minsize\": 10, \"mode\": \"show\"}}}, {\"data\": [{\"labels\": [\"Lowest\", \"Second\", \"Third\", \"Fourth\", \"Highest\", \"Top 5%\"], \"parents\": [\"\", \"\", \"\", \"\", \"\", \"Highest\"], \"textinfo\": \"label+value\", \"values\": [3.1, 8.2, 14.3, 23.2, 51.1, 22.1], \"type\": \"treemap\"}], \"layout\": {\"title\": {\"text\": \"Income Share Over Time 2015\"}, \"uniformtext\": {\"minsize\": 10, \"mode\": \"show\"}}}, {\"data\": [{\"labels\": [\"Lowest\", \"Second\", \"Third\", \"Fourth\", \"Highest\", \"Top 5%\"], \"parents\": [\"\", \"\", \"\", \"\", \"\", \"Highest\"], \"textinfo\": \"label+value\", \"values\": [3.1, 8.3, 14.2, 22.9, 51.5, 22.6], \"type\": \"treemap\"}], \"layout\": {\"title\": {\"text\": \"Income Share Over Time 2016\"}, \"uniformtext\": {\"minsize\": 10, \"mode\": \"show\"}}}, {\"data\": [{\"labels\": [\"Lowest\", \"Second\", \"Third\", \"Fourth\", \"Highest\", \"Top 5%\"], \"parents\": [\"\", \"\", \"\", \"\", \"\", \"Highest\"], \"textinfo\": \"label+value\", \"values\": [3.1, 8.2, 14.3, 23.0, 51.5, 22.3], \"type\": \"treemap\"}], \"layout\": {\"title\": {\"text\": \"Income Share Over Time 2017\"}, \"uniformtext\": {\"minsize\": 10, \"mode\": \"show\"}}}, {\"data\": [{\"labels\": [\"Lowest\", \"Second\", \"Third\", \"Fourth\", \"Highest\", \"Top 5%\"], \"parents\": [\"\", \"\", \"\", \"\", \"\", \"Highest\"], \"textinfo\": \"label+value\", \"values\": [3.1, 8.3, 14.1, 22.6, 52.0, 23.1], \"type\": \"treemap\"}], \"layout\": {\"title\": {\"text\": \"Income Share Over Time 2018\"}, \"uniformtext\": {\"minsize\": 10, \"mode\": \"show\"}}}, {\"data\": [{\"labels\": [\"Lowest\", \"Second\", \"Third\", \"Fourth\", \"Highest\", \"Top 5%\"], \"parents\": [\"\", \"\", \"\", \"\", \"\", \"Highest\"], \"textinfo\": \"label+value\", \"values\": [3.1, 8.3, 14.1, 22.7, 51.9, 23.0], \"type\": \"treemap\"}], \"layout\": {\"title\": {\"text\": \"Income Share Over Time 2019\"}, \"uniformtext\": {\"minsize\": 10, \"mode\": \"show\"}}}]);\n                        }).then(function(){\n                            \nvar gd = document.getElementById('a032a6aa-1ad3-4643-98c8-ec0cb2c0aba0');\nvar x = new MutationObserver(function (mutations, observer) {{\n        var display = window.getComputedStyle(gd).display;\n        if (!display || display === 'none') {{\n            console.log([gd, 'removed!']);\n            Plotly.purge(gd);\n            observer.disconnect();\n        }}\n}});\n\n// Listen for the removal of the full notebook cells\nvar notebookContainer = gd.closest('#notebook-container');\nif (notebookContainer) {{\n    x.observe(notebookContainer, {childList: true});\n}}\n\n// Listen for the clearing of the current output cell\nvar outputEl = gd.closest('.output');\nif (outputEl) {{\n    x.observe(outputEl, {childList: true});\n}}\n\n                        })\n                };\n                });\n            </script>\n        </div>"
     },
     "metadata": {}
    }
   ],
   "source": [
    "years = list(income_aggregate_all['year'].unique())\n",
    "income_quintiles.append(\"Top 5%\")\n",
    "fig = go.Figure(\n",
    "    data=[go.Treemap(\n",
    "    labels = income_quintiles,\n",
    "    textinfo=\"label+value\",\n",
    "    parents = [\"\", \"\", \"\", \"\", \"\", \"Highest\"],\n",
    "    values = list(income_aggregate_all[income_aggregate_all['year']==years[0]]['income_share']))\n",
    "    ],\n",
    "    layout=go.Layout(\n",
    "        title_text=\"Income Share Over Time \" + str(years[0]),\n",
    "        updatemenus=[dict(type=\"buttons\",\n",
    "                          buttons=[dict(label=\"Play\",\n",
    "                                        method=\"animate\",\n",
    "                                        args=[None])])]\n",
    "    ), \n",
    "    frames = [go.Frame(\n",
    "        data=[go.Treemap(\n",
    "        labels = income_quintiles,\n",
    "        textinfo=\"label+value\",\n",
    "        parents = [\"\", \"\", \"\", \"\", \"\", \"Highest\"],\n",
    "        values = list(income_aggregate_all[income_aggregate_all['year']==years[k]]['income_share']))\n",
    "        ],\n",
    "        layout=go.Layout(\n",
    "        uniformtext=dict(minsize=10, mode='show'),\n",
    "        title_text=\"Income Share Over Time \" + str(years[k]))) \n",
    "        for k in range(len(years))])\n",
    "\n",
    "fig.show()\n",
    "pio.write_html(fig, file='./IncomeShare.html', auto_open=True)"
   ]
  },
  {
   "cell_type": "code",
   "execution_count": 111,
   "metadata": {},
   "outputs": [
    {
     "output_type": "execute_result",
     "data": {
      "text/plain": [
       "     year percentile  income_family\n",
       "151  2015       50th   62396.592020\n",
       "152  2015       90th  175716.077391\n",
       "153  2016       10th   14458.717669\n",
       "154  2016       50th   64959.116023\n",
       "155  2016       90th  182826.035465"
      ],
      "text/html": "<div>\n<style scoped>\n    .dataframe tbody tr th:only-of-type {\n        vertical-align: middle;\n    }\n\n    .dataframe tbody tr th {\n        vertical-align: top;\n    }\n\n    .dataframe thead th {\n        text-align: right;\n    }\n</style>\n<table border=\"1\" class=\"dataframe\">\n  <thead>\n    <tr style=\"text-align: right;\">\n      <th></th>\n      <th>year</th>\n      <th>percentile</th>\n      <th>income_family</th>\n    </tr>\n  </thead>\n  <tbody>\n    <tr>\n      <th>151</th>\n      <td>2015</td>\n      <td>50th</td>\n      <td>62396.592020</td>\n    </tr>\n    <tr>\n      <th>152</th>\n      <td>2015</td>\n      <td>90th</td>\n      <td>175716.077391</td>\n    </tr>\n    <tr>\n      <th>153</th>\n      <td>2016</td>\n      <td>10th</td>\n      <td>14458.717669</td>\n    </tr>\n    <tr>\n      <th>154</th>\n      <td>2016</td>\n      <td>50th</td>\n      <td>64959.116023</td>\n    </tr>\n    <tr>\n      <th>155</th>\n      <td>2016</td>\n      <td>90th</td>\n      <td>182826.035465</td>\n    </tr>\n  </tbody>\n</table>\n</div>"
     },
     "metadata": {},
     "execution_count": 111
    }
   ],
   "source": [
    "income_time.tail()\n",
    "\n"
   ]
  },
  {
   "cell_type": "code",
   "execution_count": 122,
   "metadata": {},
   "outputs": [
    {
     "output_type": "display_data",
     "data": {
      "application/vnd.plotly.v1+json": {
       "config": {
        "plotlyServerURL": "https://plot.ly"
       },
       "data": [
        {
         "labels": [
          "10th",
          "50th",
          "90th"
         ],
         "parents": [
          "",
          "",
          ""
         ],
         "type": "treemap",
         "values": [
          14458.717669411022,
          64959.11602279925,
          182826.03546548449
         ]
        }
       ],
       "layout": {
        "template": {
         "data": {
          "bar": [
           {
            "error_x": {
             "color": "#2a3f5f"
            },
            "error_y": {
             "color": "#2a3f5f"
            },
            "marker": {
             "line": {
              "color": "#E5ECF6",
              "width": 0.5
             }
            },
            "type": "bar"
           }
          ],
          "barpolar": [
           {
            "marker": {
             "line": {
              "color": "#E5ECF6",
              "width": 0.5
             }
            },
            "type": "barpolar"
           }
          ],
          "carpet": [
           {
            "aaxis": {
             "endlinecolor": "#2a3f5f",
             "gridcolor": "white",
             "linecolor": "white",
             "minorgridcolor": "white",
             "startlinecolor": "#2a3f5f"
            },
            "baxis": {
             "endlinecolor": "#2a3f5f",
             "gridcolor": "white",
             "linecolor": "white",
             "minorgridcolor": "white",
             "startlinecolor": "#2a3f5f"
            },
            "type": "carpet"
           }
          ],
          "choropleth": [
           {
            "colorbar": {
             "outlinewidth": 0,
             "ticks": ""
            },
            "type": "choropleth"
           }
          ],
          "contour": [
           {
            "colorbar": {
             "outlinewidth": 0,
             "ticks": ""
            },
            "colorscale": [
             [
              0,
              "#0d0887"
             ],
             [
              0.1111111111111111,
              "#46039f"
             ],
             [
              0.2222222222222222,
              "#7201a8"
             ],
             [
              0.3333333333333333,
              "#9c179e"
             ],
             [
              0.4444444444444444,
              "#bd3786"
             ],
             [
              0.5555555555555556,
              "#d8576b"
             ],
             [
              0.6666666666666666,
              "#ed7953"
             ],
             [
              0.7777777777777778,
              "#fb9f3a"
             ],
             [
              0.8888888888888888,
              "#fdca26"
             ],
             [
              1,
              "#f0f921"
             ]
            ],
            "type": "contour"
           }
          ],
          "contourcarpet": [
           {
            "colorbar": {
             "outlinewidth": 0,
             "ticks": ""
            },
            "type": "contourcarpet"
           }
          ],
          "heatmap": [
           {
            "colorbar": {
             "outlinewidth": 0,
             "ticks": ""
            },
            "colorscale": [
             [
              0,
              "#0d0887"
             ],
             [
              0.1111111111111111,
              "#46039f"
             ],
             [
              0.2222222222222222,
              "#7201a8"
             ],
             [
              0.3333333333333333,
              "#9c179e"
             ],
             [
              0.4444444444444444,
              "#bd3786"
             ],
             [
              0.5555555555555556,
              "#d8576b"
             ],
             [
              0.6666666666666666,
              "#ed7953"
             ],
             [
              0.7777777777777778,
              "#fb9f3a"
             ],
             [
              0.8888888888888888,
              "#fdca26"
             ],
             [
              1,
              "#f0f921"
             ]
            ],
            "type": "heatmap"
           }
          ],
          "heatmapgl": [
           {
            "colorbar": {
             "outlinewidth": 0,
             "ticks": ""
            },
            "colorscale": [
             [
              0,
              "#0d0887"
             ],
             [
              0.1111111111111111,
              "#46039f"
             ],
             [
              0.2222222222222222,
              "#7201a8"
             ],
             [
              0.3333333333333333,
              "#9c179e"
             ],
             [
              0.4444444444444444,
              "#bd3786"
             ],
             [
              0.5555555555555556,
              "#d8576b"
             ],
             [
              0.6666666666666666,
              "#ed7953"
             ],
             [
              0.7777777777777778,
              "#fb9f3a"
             ],
             [
              0.8888888888888888,
              "#fdca26"
             ],
             [
              1,
              "#f0f921"
             ]
            ],
            "type": "heatmapgl"
           }
          ],
          "histogram": [
           {
            "marker": {
             "colorbar": {
              "outlinewidth": 0,
              "ticks": ""
             }
            },
            "type": "histogram"
           }
          ],
          "histogram2d": [
           {
            "colorbar": {
             "outlinewidth": 0,
             "ticks": ""
            },
            "colorscale": [
             [
              0,
              "#0d0887"
             ],
             [
              0.1111111111111111,
              "#46039f"
             ],
             [
              0.2222222222222222,
              "#7201a8"
             ],
             [
              0.3333333333333333,
              "#9c179e"
             ],
             [
              0.4444444444444444,
              "#bd3786"
             ],
             [
              0.5555555555555556,
              "#d8576b"
             ],
             [
              0.6666666666666666,
              "#ed7953"
             ],
             [
              0.7777777777777778,
              "#fb9f3a"
             ],
             [
              0.8888888888888888,
              "#fdca26"
             ],
             [
              1,
              "#f0f921"
             ]
            ],
            "type": "histogram2d"
           }
          ],
          "histogram2dcontour": [
           {
            "colorbar": {
             "outlinewidth": 0,
             "ticks": ""
            },
            "colorscale": [
             [
              0,
              "#0d0887"
             ],
             [
              0.1111111111111111,
              "#46039f"
             ],
             [
              0.2222222222222222,
              "#7201a8"
             ],
             [
              0.3333333333333333,
              "#9c179e"
             ],
             [
              0.4444444444444444,
              "#bd3786"
             ],
             [
              0.5555555555555556,
              "#d8576b"
             ],
             [
              0.6666666666666666,
              "#ed7953"
             ],
             [
              0.7777777777777778,
              "#fb9f3a"
             ],
             [
              0.8888888888888888,
              "#fdca26"
             ],
             [
              1,
              "#f0f921"
             ]
            ],
            "type": "histogram2dcontour"
           }
          ],
          "mesh3d": [
           {
            "colorbar": {
             "outlinewidth": 0,
             "ticks": ""
            },
            "type": "mesh3d"
           }
          ],
          "parcoords": [
           {
            "line": {
             "colorbar": {
              "outlinewidth": 0,
              "ticks": ""
             }
            },
            "type": "parcoords"
           }
          ],
          "pie": [
           {
            "automargin": true,
            "type": "pie"
           }
          ],
          "scatter": [
           {
            "marker": {
             "colorbar": {
              "outlinewidth": 0,
              "ticks": ""
             }
            },
            "type": "scatter"
           }
          ],
          "scatter3d": [
           {
            "line": {
             "colorbar": {
              "outlinewidth": 0,
              "ticks": ""
             }
            },
            "marker": {
             "colorbar": {
              "outlinewidth": 0,
              "ticks": ""
             }
            },
            "type": "scatter3d"
           }
          ],
          "scattercarpet": [
           {
            "marker": {
             "colorbar": {
              "outlinewidth": 0,
              "ticks": ""
             }
            },
            "type": "scattercarpet"
           }
          ],
          "scattergeo": [
           {
            "marker": {
             "colorbar": {
              "outlinewidth": 0,
              "ticks": ""
             }
            },
            "type": "scattergeo"
           }
          ],
          "scattergl": [
           {
            "marker": {
             "colorbar": {
              "outlinewidth": 0,
              "ticks": ""
             }
            },
            "type": "scattergl"
           }
          ],
          "scattermapbox": [
           {
            "marker": {
             "colorbar": {
              "outlinewidth": 0,
              "ticks": ""
             }
            },
            "type": "scattermapbox"
           }
          ],
          "scatterpolar": [
           {
            "marker": {
             "colorbar": {
              "outlinewidth": 0,
              "ticks": ""
             }
            },
            "type": "scatterpolar"
           }
          ],
          "scatterpolargl": [
           {
            "marker": {
             "colorbar": {
              "outlinewidth": 0,
              "ticks": ""
             }
            },
            "type": "scatterpolargl"
           }
          ],
          "scatterternary": [
           {
            "marker": {
             "colorbar": {
              "outlinewidth": 0,
              "ticks": ""
             }
            },
            "type": "scatterternary"
           }
          ],
          "surface": [
           {
            "colorbar": {
             "outlinewidth": 0,
             "ticks": ""
            },
            "colorscale": [
             [
              0,
              "#0d0887"
             ],
             [
              0.1111111111111111,
              "#46039f"
             ],
             [
              0.2222222222222222,
              "#7201a8"
             ],
             [
              0.3333333333333333,
              "#9c179e"
             ],
             [
              0.4444444444444444,
              "#bd3786"
             ],
             [
              0.5555555555555556,
              "#d8576b"
             ],
             [
              0.6666666666666666,
              "#ed7953"
             ],
             [
              0.7777777777777778,
              "#fb9f3a"
             ],
             [
              0.8888888888888888,
              "#fdca26"
             ],
             [
              1,
              "#f0f921"
             ]
            ],
            "type": "surface"
           }
          ],
          "table": [
           {
            "cells": {
             "fill": {
              "color": "#EBF0F8"
             },
             "line": {
              "color": "white"
             }
            },
            "header": {
             "fill": {
              "color": "#C8D4E3"
             },
             "line": {
              "color": "white"
             }
            },
            "type": "table"
           }
          ]
         },
         "layout": {
          "annotationdefaults": {
           "arrowcolor": "#2a3f5f",
           "arrowhead": 0,
           "arrowwidth": 1
          },
          "coloraxis": {
           "colorbar": {
            "outlinewidth": 0,
            "ticks": ""
           }
          },
          "colorscale": {
           "diverging": [
            [
             0,
             "#8e0152"
            ],
            [
             0.1,
             "#c51b7d"
            ],
            [
             0.2,
             "#de77ae"
            ],
            [
             0.3,
             "#f1b6da"
            ],
            [
             0.4,
             "#fde0ef"
            ],
            [
             0.5,
             "#f7f7f7"
            ],
            [
             0.6,
             "#e6f5d0"
            ],
            [
             0.7,
             "#b8e186"
            ],
            [
             0.8,
             "#7fbc41"
            ],
            [
             0.9,
             "#4d9221"
            ],
            [
             1,
             "#276419"
            ]
           ],
           "sequential": [
            [
             0,
             "#0d0887"
            ],
            [
             0.1111111111111111,
             "#46039f"
            ],
            [
             0.2222222222222222,
             "#7201a8"
            ],
            [
             0.3333333333333333,
             "#9c179e"
            ],
            [
             0.4444444444444444,
             "#bd3786"
            ],
            [
             0.5555555555555556,
             "#d8576b"
            ],
            [
             0.6666666666666666,
             "#ed7953"
            ],
            [
             0.7777777777777778,
             "#fb9f3a"
            ],
            [
             0.8888888888888888,
             "#fdca26"
            ],
            [
             1,
             "#f0f921"
            ]
           ],
           "sequentialminus": [
            [
             0,
             "#0d0887"
            ],
            [
             0.1111111111111111,
             "#46039f"
            ],
            [
             0.2222222222222222,
             "#7201a8"
            ],
            [
             0.3333333333333333,
             "#9c179e"
            ],
            [
             0.4444444444444444,
             "#bd3786"
            ],
            [
             0.5555555555555556,
             "#d8576b"
            ],
            [
             0.6666666666666666,
             "#ed7953"
            ],
            [
             0.7777777777777778,
             "#fb9f3a"
            ],
            [
             0.8888888888888888,
             "#fdca26"
            ],
            [
             1,
             "#f0f921"
            ]
           ]
          },
          "colorway": [
           "#636efa",
           "#EF553B",
           "#00cc96",
           "#ab63fa",
           "#FFA15A",
           "#19d3f3",
           "#FF6692",
           "#B6E880",
           "#FF97FF",
           "#FECB52"
          ],
          "font": {
           "color": "#2a3f5f"
          },
          "geo": {
           "bgcolor": "white",
           "lakecolor": "white",
           "landcolor": "#E5ECF6",
           "showlakes": true,
           "showland": true,
           "subunitcolor": "white"
          },
          "hoverlabel": {
           "align": "left"
          },
          "hovermode": "closest",
          "mapbox": {
           "style": "light"
          },
          "paper_bgcolor": "white",
          "plot_bgcolor": "#E5ECF6",
          "polar": {
           "angularaxis": {
            "gridcolor": "white",
            "linecolor": "white",
            "ticks": ""
           },
           "bgcolor": "#E5ECF6",
           "radialaxis": {
            "gridcolor": "white",
            "linecolor": "white",
            "ticks": ""
           }
          },
          "scene": {
           "xaxis": {
            "backgroundcolor": "#E5ECF6",
            "gridcolor": "white",
            "gridwidth": 2,
            "linecolor": "white",
            "showbackground": true,
            "ticks": "",
            "zerolinecolor": "white"
           },
           "yaxis": {
            "backgroundcolor": "#E5ECF6",
            "gridcolor": "white",
            "gridwidth": 2,
            "linecolor": "white",
            "showbackground": true,
            "ticks": "",
            "zerolinecolor": "white"
           },
           "zaxis": {
            "backgroundcolor": "#E5ECF6",
            "gridcolor": "white",
            "gridwidth": 2,
            "linecolor": "white",
            "showbackground": true,
            "ticks": "",
            "zerolinecolor": "white"
           }
          },
          "shapedefaults": {
           "line": {
            "color": "#2a3f5f"
           }
          },
          "ternary": {
           "aaxis": {
            "gridcolor": "white",
            "linecolor": "white",
            "ticks": ""
           },
           "baxis": {
            "gridcolor": "white",
            "linecolor": "white",
            "ticks": ""
           },
           "bgcolor": "#E5ECF6",
           "caxis": {
            "gridcolor": "white",
            "linecolor": "white",
            "ticks": ""
           }
          },
          "title": {
           "x": 0.05
          },
          "xaxis": {
           "automargin": true,
           "gridcolor": "white",
           "linecolor": "white",
           "ticks": "",
           "title": {
            "standoff": 15
           },
           "zerolinecolor": "white",
           "zerolinewidth": 2
          },
          "yaxis": {
           "automargin": true,
           "gridcolor": "white",
           "linecolor": "white",
           "ticks": "",
           "title": {
            "standoff": 15
           },
           "zerolinecolor": "white",
           "zerolinewidth": 2
          }
         }
        }
       }
      },
      "text/html": "<div>\n        \n        \n            <div id=\"9c450dcd-00b0-40dd-a0e4-12cc63397a09\" class=\"plotly-graph-div\" style=\"height:525px; width:100%;\"></div>\n            <script type=\"text/javascript\">\n                require([\"plotly\"], function(Plotly) {\n                    window.PLOTLYENV=window.PLOTLYENV || {};\n                    \n                if (document.getElementById(\"9c450dcd-00b0-40dd-a0e4-12cc63397a09\")) {\n                    Plotly.newPlot(\n                        '9c450dcd-00b0-40dd-a0e4-12cc63397a09',\n                        [{\"labels\": [\"10th\", \"50th\", \"90th\"], \"parents\": [\"\", \"\", \"\"], \"type\": \"treemap\", \"values\": [14458.717669411022, 64959.11602279925, 182826.03546548449]}],\n                        {\"template\": {\"data\": {\"bar\": [{\"error_x\": {\"color\": \"#2a3f5f\"}, \"error_y\": {\"color\": \"#2a3f5f\"}, \"marker\": {\"line\": {\"color\": \"#E5ECF6\", \"width\": 0.5}}, \"type\": \"bar\"}], \"barpolar\": [{\"marker\": {\"line\": {\"color\": \"#E5ECF6\", \"width\": 0.5}}, \"type\": \"barpolar\"}], \"carpet\": [{\"aaxis\": {\"endlinecolor\": \"#2a3f5f\", \"gridcolor\": \"white\", \"linecolor\": \"white\", \"minorgridcolor\": \"white\", \"startlinecolor\": \"#2a3f5f\"}, \"baxis\": {\"endlinecolor\": \"#2a3f5f\", \"gridcolor\": \"white\", \"linecolor\": \"white\", \"minorgridcolor\": \"white\", \"startlinecolor\": \"#2a3f5f\"}, \"type\": \"carpet\"}], \"choropleth\": [{\"colorbar\": {\"outlinewidth\": 0, \"ticks\": \"\"}, \"type\": \"choropleth\"}], \"contour\": [{\"colorbar\": {\"outlinewidth\": 0, \"ticks\": \"\"}, \"colorscale\": [[0.0, \"#0d0887\"], [0.1111111111111111, \"#46039f\"], [0.2222222222222222, \"#7201a8\"], [0.3333333333333333, \"#9c179e\"], [0.4444444444444444, \"#bd3786\"], [0.5555555555555556, \"#d8576b\"], [0.6666666666666666, \"#ed7953\"], [0.7777777777777778, \"#fb9f3a\"], [0.8888888888888888, \"#fdca26\"], [1.0, \"#f0f921\"]], \"type\": \"contour\"}], \"contourcarpet\": [{\"colorbar\": {\"outlinewidth\": 0, \"ticks\": \"\"}, \"type\": \"contourcarpet\"}], \"heatmap\": [{\"colorbar\": {\"outlinewidth\": 0, \"ticks\": \"\"}, \"colorscale\": [[0.0, \"#0d0887\"], [0.1111111111111111, \"#46039f\"], [0.2222222222222222, \"#7201a8\"], [0.3333333333333333, \"#9c179e\"], [0.4444444444444444, \"#bd3786\"], [0.5555555555555556, \"#d8576b\"], [0.6666666666666666, \"#ed7953\"], [0.7777777777777778, \"#fb9f3a\"], [0.8888888888888888, \"#fdca26\"], [1.0, \"#f0f921\"]], \"type\": \"heatmap\"}], \"heatmapgl\": [{\"colorbar\": {\"outlinewidth\": 0, \"ticks\": \"\"}, \"colorscale\": [[0.0, \"#0d0887\"], [0.1111111111111111, \"#46039f\"], [0.2222222222222222, \"#7201a8\"], [0.3333333333333333, \"#9c179e\"], [0.4444444444444444, \"#bd3786\"], [0.5555555555555556, \"#d8576b\"], [0.6666666666666666, \"#ed7953\"], [0.7777777777777778, \"#fb9f3a\"], [0.8888888888888888, \"#fdca26\"], [1.0, \"#f0f921\"]], \"type\": \"heatmapgl\"}], \"histogram\": [{\"marker\": {\"colorbar\": {\"outlinewidth\": 0, \"ticks\": \"\"}}, \"type\": \"histogram\"}], \"histogram2d\": [{\"colorbar\": {\"outlinewidth\": 0, \"ticks\": \"\"}, \"colorscale\": [[0.0, \"#0d0887\"], [0.1111111111111111, \"#46039f\"], [0.2222222222222222, \"#7201a8\"], [0.3333333333333333, \"#9c179e\"], [0.4444444444444444, \"#bd3786\"], [0.5555555555555556, \"#d8576b\"], [0.6666666666666666, \"#ed7953\"], [0.7777777777777778, \"#fb9f3a\"], [0.8888888888888888, \"#fdca26\"], [1.0, \"#f0f921\"]], \"type\": \"histogram2d\"}], \"histogram2dcontour\": [{\"colorbar\": {\"outlinewidth\": 0, \"ticks\": \"\"}, \"colorscale\": [[0.0, \"#0d0887\"], [0.1111111111111111, \"#46039f\"], [0.2222222222222222, \"#7201a8\"], [0.3333333333333333, \"#9c179e\"], [0.4444444444444444, \"#bd3786\"], [0.5555555555555556, \"#d8576b\"], [0.6666666666666666, \"#ed7953\"], [0.7777777777777778, \"#fb9f3a\"], [0.8888888888888888, \"#fdca26\"], [1.0, \"#f0f921\"]], \"type\": \"histogram2dcontour\"}], \"mesh3d\": [{\"colorbar\": {\"outlinewidth\": 0, \"ticks\": \"\"}, \"type\": \"mesh3d\"}], \"parcoords\": [{\"line\": {\"colorbar\": {\"outlinewidth\": 0, \"ticks\": \"\"}}, \"type\": \"parcoords\"}], \"pie\": [{\"automargin\": true, \"type\": \"pie\"}], \"scatter\": [{\"marker\": {\"colorbar\": {\"outlinewidth\": 0, \"ticks\": \"\"}}, \"type\": \"scatter\"}], \"scatter3d\": [{\"line\": {\"colorbar\": {\"outlinewidth\": 0, \"ticks\": \"\"}}, \"marker\": {\"colorbar\": {\"outlinewidth\": 0, \"ticks\": \"\"}}, \"type\": \"scatter3d\"}], \"scattercarpet\": [{\"marker\": {\"colorbar\": {\"outlinewidth\": 0, \"ticks\": \"\"}}, \"type\": \"scattercarpet\"}], \"scattergeo\": [{\"marker\": {\"colorbar\": {\"outlinewidth\": 0, \"ticks\": \"\"}}, \"type\": \"scattergeo\"}], \"scattergl\": [{\"marker\": {\"colorbar\": {\"outlinewidth\": 0, \"ticks\": \"\"}}, \"type\": \"scattergl\"}], \"scattermapbox\": [{\"marker\": {\"colorbar\": {\"outlinewidth\": 0, \"ticks\": \"\"}}, \"type\": \"scattermapbox\"}], \"scatterpolar\": [{\"marker\": {\"colorbar\": {\"outlinewidth\": 0, \"ticks\": \"\"}}, \"type\": \"scatterpolar\"}], \"scatterpolargl\": [{\"marker\": {\"colorbar\": {\"outlinewidth\": 0, \"ticks\": \"\"}}, \"type\": \"scatterpolargl\"}], \"scatterternary\": [{\"marker\": {\"colorbar\": {\"outlinewidth\": 0, \"ticks\": \"\"}}, \"type\": \"scatterternary\"}], \"surface\": [{\"colorbar\": {\"outlinewidth\": 0, \"ticks\": \"\"}, \"colorscale\": [[0.0, \"#0d0887\"], [0.1111111111111111, \"#46039f\"], [0.2222222222222222, \"#7201a8\"], [0.3333333333333333, \"#9c179e\"], [0.4444444444444444, \"#bd3786\"], [0.5555555555555556, \"#d8576b\"], [0.6666666666666666, \"#ed7953\"], [0.7777777777777778, \"#fb9f3a\"], [0.8888888888888888, \"#fdca26\"], [1.0, \"#f0f921\"]], \"type\": \"surface\"}], \"table\": [{\"cells\": {\"fill\": {\"color\": \"#EBF0F8\"}, \"line\": {\"color\": \"white\"}}, \"header\": {\"fill\": {\"color\": \"#C8D4E3\"}, \"line\": {\"color\": \"white\"}}, \"type\": \"table\"}]}, \"layout\": {\"annotationdefaults\": {\"arrowcolor\": \"#2a3f5f\", \"arrowhead\": 0, \"arrowwidth\": 1}, \"coloraxis\": {\"colorbar\": {\"outlinewidth\": 0, \"ticks\": \"\"}}, \"colorscale\": {\"diverging\": [[0, \"#8e0152\"], [0.1, \"#c51b7d\"], [0.2, \"#de77ae\"], [0.3, \"#f1b6da\"], [0.4, \"#fde0ef\"], [0.5, \"#f7f7f7\"], [0.6, \"#e6f5d0\"], [0.7, \"#b8e186\"], [0.8, \"#7fbc41\"], [0.9, \"#4d9221\"], [1, \"#276419\"]], \"sequential\": [[0.0, \"#0d0887\"], [0.1111111111111111, \"#46039f\"], [0.2222222222222222, \"#7201a8\"], [0.3333333333333333, \"#9c179e\"], [0.4444444444444444, \"#bd3786\"], [0.5555555555555556, \"#d8576b\"], [0.6666666666666666, \"#ed7953\"], [0.7777777777777778, \"#fb9f3a\"], [0.8888888888888888, \"#fdca26\"], [1.0, \"#f0f921\"]], \"sequentialminus\": [[0.0, \"#0d0887\"], [0.1111111111111111, \"#46039f\"], [0.2222222222222222, \"#7201a8\"], [0.3333333333333333, \"#9c179e\"], [0.4444444444444444, \"#bd3786\"], [0.5555555555555556, \"#d8576b\"], [0.6666666666666666, \"#ed7953\"], [0.7777777777777778, \"#fb9f3a\"], [0.8888888888888888, \"#fdca26\"], [1.0, \"#f0f921\"]]}, \"colorway\": [\"#636efa\", \"#EF553B\", \"#00cc96\", \"#ab63fa\", \"#FFA15A\", \"#19d3f3\", \"#FF6692\", \"#B6E880\", \"#FF97FF\", \"#FECB52\"], \"font\": {\"color\": \"#2a3f5f\"}, \"geo\": {\"bgcolor\": \"white\", \"lakecolor\": \"white\", \"landcolor\": \"#E5ECF6\", \"showlakes\": true, \"showland\": true, \"subunitcolor\": \"white\"}, \"hoverlabel\": {\"align\": \"left\"}, \"hovermode\": \"closest\", \"mapbox\": {\"style\": \"light\"}, \"paper_bgcolor\": \"white\", \"plot_bgcolor\": \"#E5ECF6\", \"polar\": {\"angularaxis\": {\"gridcolor\": \"white\", \"linecolor\": \"white\", \"ticks\": \"\"}, \"bgcolor\": \"#E5ECF6\", \"radialaxis\": {\"gridcolor\": \"white\", \"linecolor\": \"white\", \"ticks\": \"\"}}, \"scene\": {\"xaxis\": {\"backgroundcolor\": \"#E5ECF6\", \"gridcolor\": \"white\", \"gridwidth\": 2, \"linecolor\": \"white\", \"showbackground\": true, \"ticks\": \"\", \"zerolinecolor\": \"white\"}, \"yaxis\": {\"backgroundcolor\": \"#E5ECF6\", \"gridcolor\": \"white\", \"gridwidth\": 2, \"linecolor\": \"white\", \"showbackground\": true, \"ticks\": \"\", \"zerolinecolor\": \"white\"}, \"zaxis\": {\"backgroundcolor\": \"#E5ECF6\", \"gridcolor\": \"white\", \"gridwidth\": 2, \"linecolor\": \"white\", \"showbackground\": true, \"ticks\": \"\", \"zerolinecolor\": \"white\"}}, \"shapedefaults\": {\"line\": {\"color\": \"#2a3f5f\"}}, \"ternary\": {\"aaxis\": {\"gridcolor\": \"white\", \"linecolor\": \"white\", \"ticks\": \"\"}, \"baxis\": {\"gridcolor\": \"white\", \"linecolor\": \"white\", \"ticks\": \"\"}, \"bgcolor\": \"#E5ECF6\", \"caxis\": {\"gridcolor\": \"white\", \"linecolor\": \"white\", \"ticks\": \"\"}}, \"title\": {\"x\": 0.05}, \"xaxis\": {\"automargin\": true, \"gridcolor\": \"white\", \"linecolor\": \"white\", \"ticks\": \"\", \"title\": {\"standoff\": 15}, \"zerolinecolor\": \"white\", \"zerolinewidth\": 2}, \"yaxis\": {\"automargin\": true, \"gridcolor\": \"white\", \"linecolor\": \"white\", \"ticks\": \"\", \"title\": {\"standoff\": 15}, \"zerolinecolor\": \"white\", \"zerolinewidth\": 2}}}},\n                        {\"responsive\": true}\n                    ).then(function(){\n                            \nvar gd = document.getElementById('9c450dcd-00b0-40dd-a0e4-12cc63397a09');\nvar x = new MutationObserver(function (mutations, observer) {{\n        var display = window.getComputedStyle(gd).display;\n        if (!display || display === 'none') {{\n            console.log([gd, 'removed!']);\n            Plotly.purge(gd);\n            observer.disconnect();\n        }}\n}});\n\n// Listen for the removal of the full notebook cells\nvar notebookContainer = gd.closest('#notebook-container');\nif (notebookContainer) {{\n    x.observe(notebookContainer, {childList: true});\n}}\n\n// Listen for the clearing of the current output cell\nvar outputEl = gd.closest('.output');\nif (outputEl) {{\n    x.observe(outputEl, {childList: true});\n}}\n\n                        })\n                };\n                });\n            </script>\n        </div>"
     },
     "metadata": {}
    }
   ],
   "source": [
    "fig = go.Figure()\n",
    "fig.add_trace(go.Treemap(\n",
    "        labels=list(income_time['percentile'].unique()),\n",
    "        parents = [\"\" for percent in income_time['percentile'].unique()],\n",
    "        values = list(income_time[income_time['year']==2016]['income_family']),\n",
    "        ))\n",
    "\n",
    "fig.show()"
   ]
  },
  {
   "cell_type": "code",
   "execution_count": 132,
   "metadata": {},
   "outputs": [
    {
     "output_type": "display_data",
     "data": {
      "application/vnd.plotly.v1+json": {
       "config": {
        "plotlyServerURL": "https://plot.ly"
       },
       "data": [
        {
         "labels": [
          "10th",
          "50th",
          "90th"
         ],
         "parents": [
          "",
          "",
          ""
         ],
         "textinfo": "label+value",
         "type": "treemap",
         "values": [
          13286.140975300828,
          47025.530082330595,
          95267.51918936038
         ]
        }
       ],
       "frames": [
        {
         "data": [
          {
           "labels": [
            "10th",
            "50th",
            "90th"
           ],
           "parents": [
            "",
            "",
            "",
            "",
            "",
            "Highest"
           ],
           "textinfo": "label+value",
           "type": "treemap",
           "values": [
            13286.140975300828,
            47025.530082330595,
            95267.51918936038
           ]
          }
         ],
         "layout": {
          "title": {
           "text": "Income Share Over Time 1963"
          },
          "uniformtext": {
           "minsize": 10,
           "mode": "show"
          }
         }
        },
        {
         "data": [
          {
           "labels": [
            "10th",
            "50th",
            "90th"
           ],
           "parents": [
            "",
            "",
            "",
            "",
            "",
            "Highest"
           ],
           "textinfo": "label+value",
           "type": "treemap",
           "values": [
            14783.242811906272,
            50989.22710576315,
            101564.12336922104
           ]
          }
         ],
         "layout": {
          "title": {
           "text": "Income Share Over Time 1965"
          },
          "uniformtext": {
           "minsize": 10,
           "mode": "show"
          }
         }
        },
        {
         "data": [
          {
           "labels": [
            "10th",
            "50th",
            "90th"
           ],
           "parents": [
            "",
            "",
            "",
            "",
            "",
            "Highest"
           ],
           "textinfo": "label+value",
           "type": "treemap",
           "values": [
            16241.564914502851,
            53898.72767574415,
            107761.73717542752
           ]
          }
         ],
         "layout": {
          "title": {
           "text": "Income Share Over Time 1966"
          },
          "uniformtext": {
           "minsize": 10,
           "mode": "show"
          }
         }
        },
        {
         "data": [
          {
           "labels": [
            "10th",
            "50th",
            "90th"
           ],
           "parents": [
            "",
            "",
            "",
            "",
            "",
            "Highest"
           ],
           "textinfo": "label+value",
           "type": "treemap",
           "values": [
            16201.764661177964,
            55282.55186827107,
            108264.85319822676
           ]
          }
         ],
         "layout": {
          "title": {
           "text": "Income Share Over Time 1967"
          },
          "uniformtext": {
           "minsize": 10,
           "mode": "show"
          }
         }
        },
        {
         "data": [
          {
           "labels": [
            "10th",
            "50th",
            "90th"
           ],
           "parents": [
            "",
            "",
            "",
            "",
            "",
            "Highest"
           ],
           "textinfo": "label+value",
           "type": "treemap",
           "values": [
            17703.96909436352,
            57354.20607979735,
            113451.13236225463
           ]
          }
         ],
         "layout": {
          "title": {
           "text": "Income Share Over Time 1968"
          },
          "uniformtext": {
           "minsize": 10,
           "mode": "show"
          }
         }
        },
        {
         "data": [
          {
           "labels": [
            "10th",
            "50th",
            "90th"
           ],
           "parents": [
            "",
            "",
            "",
            "",
            "",
            "Highest"
           ],
           "textinfo": "label+value",
           "type": "treemap",
           "values": [
            17354.951488283732,
            59243.187333755544,
            119518.11969601015
           ]
          }
         ],
         "layout": {
          "title": {
           "text": "Income Share Over Time 1970"
          },
          "uniformtext": {
           "minsize": 10,
           "mode": "show"
          }
         }
        },
        {
         "data": [
          {
           "labels": [
            "10th",
            "50th",
            "90th"
           ],
           "parents": [
            "",
            "",
            "",
            "",
            "",
            "Highest"
           ],
           "textinfo": "label+value",
           "type": "treemap",
           "values": [
            17251.879037365426,
            58370.64331855607,
            119040.51665611149
           ]
          }
         ],
         "layout": {
          "title": {
           "text": "Income Share Over Time 1971"
          },
          "uniformtext": {
           "minsize": 10,
           "mode": "show"
          }
         }
        },
        {
         "data": [
          {
           "labels": [
            "10th",
            "50th",
            "90th"
           ],
           "parents": [
            "",
            "",
            "",
            "",
            "",
            "Highest"
           ],
           "textinfo": "label+value",
           "type": "treemap",
           "values": [
            17452.921342621918,
            61139.312222925924,
            126052.50487650414
           ]
          }
         ],
         "layout": {
          "title": {
           "text": "Income Share Over Time 1972"
          },
          "uniformtext": {
           "minsize": 10,
           "mode": "show"
          }
         }
        },
        {
         "data": [
          {
           "labels": [
            "10th",
            "50th",
            "90th"
           ],
           "parents": [
            "",
            "",
            "",
            "",
            "",
            "Highest"
           ],
           "textinfo": "label+value",
           "type": "treemap",
           "values": [
            18224.433945535147,
            62842.55896136798,
            128828.31741608615
           ]
          }
         ],
         "layout": {
          "title": {
           "text": "Income Share Over Time 1973"
          },
          "uniformtext": {
           "minsize": 10,
           "mode": "show"
          }
         }
        },
        {
         "data": [
          {
           "labels": [
            "10th",
            "50th",
            "90th"
           ],
           "parents": [
            "",
            "",
            "",
            "",
            "",
            "Highest"
           ],
           "textinfo": "label+value",
           "type": "treemap",
           "values": [
            17178.401646611786,
            59769.77530082332,
            124306.39632678914
           ]
          }
         ],
         "layout": {
          "title": {
           "text": "Income Share Over Time 1974"
          },
          "uniformtext": {
           "minsize": 10,
           "mode": "show"
          }
         }
        },
        {
         "data": [
          {
           "labels": [
            "10th",
            "50th",
            "90th"
           ],
           "parents": [
            "",
            "",
            "",
            "",
            "",
            "Highest"
           ],
           "textinfo": "label+value",
           "type": "treemap",
           "values": [
            16621.198100063335,
            58337.98670044332,
            121104.00671310961
           ]
          }
         ],
         "layout": {
          "title": {
           "text": "Income Share Over Time 1975"
          },
          "uniformtext": {
           "minsize": 10,
           "mode": "show"
          }
         }
        },
        {
         "data": [
          {
           "labels": [
            "10th",
            "50th",
            "90th"
           ],
           "parents": [
            "",
            "",
            "",
            "",
            "",
            "Highest"
           ],
           "textinfo": "label+value",
           "type": "treemap",
           "values": [
            16924.292336922106,
            60048.37707409755,
            124442.12539582016
           ]
          }
         ],
         "layout": {
          "title": {
           "text": "Income Share Over Time 1976"
          },
          "uniformtext": {
           "minsize": 10,
           "mode": "show"
          }
         }
        },
        {
         "data": [
          {
           "labels": [
            "10th",
            "50th",
            "90th"
           ],
           "parents": [
            "",
            "",
            "",
            "",
            "",
            "Highest"
           ],
           "textinfo": "label+value",
           "type": "treemap",
           "values": [
            16739.578340721982,
            60137.16225459152,
            127283.25117162765
           ]
          }
         ],
         "layout": {
          "title": {
           "text": "Income Share Over Time 1977"
          },
          "uniformtext": {
           "minsize": 10,
           "mode": "show"
          }
         }
        },
        {
         "data": [
          {
           "labels": [
            "10th",
            "50th",
            "90th"
           ],
           "parents": [
            "",
            "",
            "",
            "",
            "",
            "Highest"
           ],
           "textinfo": "label+value",
           "type": "treemap",
           "values": [
            16750.804053198233,
            61109.71716276126,
            129905.98581380626
           ]
          }
         ],
         "layout": {
          "title": {
           "text": "Income Share Over Time 1978"
          },
          "uniformtext": {
           "minsize": 10,
           "mode": "show"
          }
         }
        },
        {
         "data": [
          {
           "labels": [
            "10th",
            "50th",
            "90th"
           ],
           "parents": [
            "",
            "",
            "",
            "",
            "",
            "Highest"
           ],
           "textinfo": "label+value",
           "type": "treemap",
           "values": [
            16079.302343255227,
            60711.71462951236,
            130791.79658011402
           ]
          }
         ],
         "layout": {
          "title": {
           "text": "Income Share Over Time 1979"
          },
          "uniformtext": {
           "minsize": 10,
           "mode": "show"
          }
         }
        },
        {
         "data": [
          {
           "labels": [
            "10th",
            "50th",
            "90th"
           ],
           "parents": [
            "",
            "",
            "",
            "",
            "",
            "Highest"
           ],
           "textinfo": "label+value",
           "type": "treemap",
           "values": [
            15109.808993033566,
            56744.95604813174,
            124500.29499683346
           ]
          }
         ],
         "layout": {
          "title": {
           "text": "Income Share Over Time 1980"
          },
          "uniformtext": {
           "minsize": 10,
           "mode": "show"
          }
         }
        },
        {
         "data": [
          {
           "labels": [
            "10th",
            "50th",
            "90th"
           ],
           "parents": [
            "",
            "",
            "",
            "",
            "",
            "Highest"
           ],
           "textinfo": "label+value",
           "type": "treemap",
           "values": [
            14557.708043065231,
            55119.268777707424,
            122635.8062064598
           ]
          }
         ],
         "layout": {
          "title": {
           "text": "Income Share Over Time 1981"
          },
          "uniformtext": {
           "minsize": 10,
           "mode": "show"
          }
         }
        },
        {
         "data": [
          {
           "labels": [
            "10th",
            "50th",
            "90th"
           ],
           "parents": [
            "",
            "",
            "",
            "",
            "",
            "Highest"
           ],
           "textinfo": "label+value",
           "type": "treemap",
           "values": [
            13907.637238758709,
            54034.45674477518,
            123162.39417352756
           ]
          }
         ],
         "layout": {
          "title": {
           "text": "Income Share Over Time 1982"
          },
          "uniformtext": {
           "minsize": 10,
           "mode": "show"
          }
         }
        },
        {
         "data": [
          {
           "labels": [
            "10th",
            "50th",
            "90th"
           ],
           "parents": [
            "",
            "",
            "",
            "",
            "",
            "Highest"
           ],
           "textinfo": "label+value",
           "type": "treemap",
           "values": [
            13802.523749208362,
            54637.58366054466,
            125333.03875870805
           ]
          }
         ],
         "layout": {
          "title": {
           "text": "Income Share Over Time 1983"
          },
          "uniformtext": {
           "minsize": 10,
           "mode": "show"
          }
         }
        },
        {
         "data": [
          {
           "labels": [
            "10th",
            "50th",
            "90th"
           ],
           "parents": [
            "",
            "",
            "",
            "",
            "",
            "Highest"
           ],
           "textinfo": "label+value",
           "type": "treemap",
           "values": [
            14047.448385053833,
            56641.88359721344,
            131066.31627612414
           ]
          }
         ],
         "layout": {
          "title": {
           "text": "Income Share Over Time 1984"
          },
          "uniformtext": {
           "minsize": 10,
           "mode": "show"
          }
         }
        },
        {
         "data": [
          {
           "labels": [
            "10th",
            "50th",
            "90th"
           ],
           "parents": [
            "",
            "",
            "",
            "",
            "",
            "Highest"
           ],
           "textinfo": "label+value",
           "type": "treemap",
           "values": [
            14345.440025332493,
            57247.05155161496,
            132795.07599746675
           ]
          }
         ],
         "layout": {
          "title": {
           "text": "Income Share Over Time 1985"
          },
          "uniformtext": {
           "minsize": 10,
           "mode": "show"
          }
         }
        },
        {
         "data": [
          {
           "labels": [
            "10th",
            "50th",
            "90th"
           ],
           "parents": [
            "",
            "",
            "",
            "",
            "",
            "Highest"
           ],
           "textinfo": "label+value",
           "type": "treemap",
           "values": [
            14440.348321722613,
            59692.215832805574,
            138455.89664344524
           ]
          }
         ],
         "layout": {
          "title": {
           "text": "Income Share Over Time 1986"
          },
          "uniformtext": {
           "minsize": 10,
           "mode": "show"
          }
         }
        },
        {
         "data": [
          {
           "labels": [
            "10th",
            "50th",
            "90th"
           ],
           "parents": [
            "",
            "",
            "",
            "",
            "",
            "Highest"
           ],
           "textinfo": "label+value",
           "type": "treemap",
           "values": [
            14561.790120329326,
            60665.791260291335,
            141712.373780874
           ]
          }
         ],
         "layout": {
          "title": {
           "text": "Income Share Over Time 1987"
          },
          "uniformtext": {
           "minsize": 10,
           "mode": "show"
          }
         }
        },
        {
         "data": [
          {
           "labels": [
            "10th",
            "50th",
            "90th"
           ],
           "parents": [
            "",
            "",
            "",
            "",
            "",
            "Highest"
           ],
           "textinfo": "label+value",
           "type": "treemap",
           "values": [
            14602.610892970237,
            60210.639645345174,
            143026.80265991134
           ]
          }
         ],
         "layout": {
          "title": {
           "text": "Income Share Over Time 1988"
          },
          "uniformtext": {
           "minsize": 10,
           "mode": "show"
          }
         }
        },
        {
         "data": [
          {
           "labels": [
            "10th",
            "50th",
            "90th"
           ],
           "parents": [
            "",
            "",
            "",
            "",
            "",
            "Highest"
           ],
           "textinfo": "label+value",
           "type": "treemap",
           "values": [
            15272.071564281194,
            61070.93742875238,
            145968.9598480051
           ]
          }
         ],
         "layout": {
          "title": {
           "text": "Income Share Over Time 1989"
          },
          "uniformtext": {
           "minsize": 10,
           "mode": "show"
          }
         }
        },
        {
         "data": [
          {
           "labels": [
            "10th",
            "50th",
            "90th"
           ],
           "parents": [
            "",
            "",
            "",
            "",
            "",
            "Highest"
           ],
           "textinfo": "label+value",
           "type": "treemap",
           "values": [
            14681.190880303991,
            59534.035338822054,
            142212.42824572517
           ]
          }
         ],
         "layout": {
          "title": {
           "text": "Income Share Over Time 1990"
          },
          "uniformtext": {
           "minsize": 10,
           "mode": "show"
          }
         }
        },
        {
         "data": [
          {
           "labels": [
            "10th",
            "50th",
            "90th"
           ],
           "parents": [
            "",
            "",
            "",
            "",
            "",
            "Highest"
           ],
           "textinfo": "label+value",
           "type": "treemap",
           "values": [
            13940.29385687144,
            57524.632805573165,
            139503.96998100067
           ]
          }
         ],
         "layout": {
          "title": {
           "text": "Income Share Over Time 1991"
          },
          "uniformtext": {
           "minsize": 10,
           "mode": "show"
          }
         }
        },
        {
         "data": [
          {
           "labels": [
            "10th",
            "50th",
            "90th"
           ],
           "parents": [
            "",
            "",
            "",
            "",
            "",
            "Highest"
           ],
           "textinfo": "label+value",
           "type": "treemap",
           "values": [
            13552.496516782776,
            57594.028119062714,
            139979.53198226728
           ]
          }
         ],
         "layout": {
          "title": {
           "text": "Income Share Over Time 1992"
          },
          "uniformtext": {
           "minsize": 10,
           "mode": "show"
          }
         }
        },
        {
         "data": [
          {
           "labels": [
            "10th",
            "50th",
            "90th"
           ],
           "parents": [
            "",
            "",
            "",
            "",
            "",
            "Highest"
           ],
           "textinfo": "label+value",
           "type": "treemap",
           "values": [
            13235.115009499685,
            56067.331222292596,
            142460.4144395187
           ]
          }
         ],
         "layout": {
          "title": {
           "text": "Income Share Over Time 1993"
          },
          "uniformtext": {
           "minsize": 10,
           "mode": "show"
          }
         }
        },
        {
         "data": [
          {
           "labels": [
            "10th",
            "50th",
            "90th"
           ],
           "parents": [
            "",
            "",
            "",
            "",
            "",
            "Highest"
           ],
           "textinfo": "label+value",
           "type": "treemap",
           "values": [
            13737.210512982903,
            57394.00633312223,
            146042.43723875875
           ]
          }
         ],
         "layout": {
          "title": {
           "text": "Income Share Over Time 1994"
          },
          "uniformtext": {
           "minsize": 10,
           "mode": "show"
          }
         }
        },
        {
         "data": [
          {
           "labels": [
            "10th",
            "50th",
            "90th"
           ],
           "parents": [
            "",
            "",
            "",
            "",
            "",
            "Highest"
           ],
           "textinfo": "label+value",
           "type": "treemap",
           "values": [
            14491.374287523753,
            58264.50930968969,
            146475.1374287524
           ]
          }
         ],
         "layout": {
          "title": {
           "text": "Income Share Over Time 1995"
          },
          "uniformtext": {
           "minsize": 10,
           "mode": "show"
          }
         }
        },
        {
         "data": [
          {
           "labels": [
            "10th",
            "50th",
            "90th"
           ],
           "parents": [
            "",
            "",
            "",
            "",
            "",
            "Highest"
           ],
           "textinfo": "label+value",
           "type": "treemap",
           "values": [
            14156.643951868276,
            59227.87954401522,
            148677.41811272962
           ]
          }
         ],
         "layout": {
          "title": {
           "text": "Income Share Over Time 1996"
          },
          "uniformtext": {
           "minsize": 10,
           "mode": "show"
          }
         }
        },
        {
         "data": [
          {
           "labels": [
            "10th",
            "50th",
            "90th"
           ],
           "parents": [
            "",
            "",
            "",
            "",
            "",
            "Highest"
           ],
           "textinfo": "label+value",
           "type": "treemap",
           "values": [
            14749.565674477519,
            60410.661431285625,
            153551.41836605448
           ]
          }
         ],
         "layout": {
          "title": {
           "text": "Income Share Over Time 1997"
          },
          "uniformtext": {
           "minsize": 10,
           "mode": "show"
          }
         }
        },
        {
         "data": [
          {
           "labels": [
            "10th",
            "50th",
            "90th"
           ],
           "parents": [
            "",
            "",
            "",
            "",
            "",
            "Highest"
           ],
           "textinfo": "label+value",
           "type": "treemap",
           "values": [
            15038.372640911972,
            62480.27460417988,
            158359.0848638379
           ]
          }
         ],
         "layout": {
          "title": {
           "text": "Income Share Over Time 1998"
          },
          "uniformtext": {
           "minsize": 10,
           "mode": "show"
          }
         }
        },
        {
         "data": [
          {
           "labels": [
            "10th",
            "50th",
            "90th"
           ],
           "parents": [
            "",
            "",
            "",
            "",
            "",
            "Highest"
           ],
           "textinfo": "label+value",
           "type": "treemap",
           "values": [
            15782.331222292592,
            64018.19721342622,
            164279.11741608614
           ]
          }
         ],
         "layout": {
          "title": {
           "text": "Income Share Over Time 1999"
          },
          "uniformtext": {
           "minsize": 10,
           "mode": "show"
          }
         }
        },
        {
         "data": [
          {
           "labels": [
            "10th",
            "50th",
            "90th"
           ],
           "parents": [
            "",
            "",
            "",
            "",
            "",
            "Highest"
           ],
           "textinfo": "label+value",
           "type": "treemap",
           "values": [
            16491.59214692844,
            64784.607219759346,
            166194.63217226096
           ]
          }
         ],
         "layout": {
          "title": {
           "text": "Income Share Over Time 2000"
          },
          "uniformtext": {
           "minsize": 10,
           "mode": "show"
          }
         }
        },
        {
         "data": [
          {
           "labels": [
            "10th",
            "50th",
            "90th"
           ],
           "parents": [
            "",
            "",
            "",
            "",
            "",
            "Highest"
           ],
           "textinfo": "label+value",
           "type": "treemap",
           "values": [
            15678.238252058269,
            63437.52172260926,
            164840.4030398987
           ]
          }
         ],
         "layout": {
          "title": {
           "text": "Income Share Over Time 2001"
          },
          "uniformtext": {
           "minsize": 10,
           "mode": "show"
          }
         }
        },
        {
         "data": [
          {
           "labels": [
            "10th",
            "50th",
            "90th"
           ],
           "parents": [
            "",
            "",
            "",
            "",
            "",
            "Highest"
           ],
           "textinfo": "label+value",
           "type": "treemap",
           "values": [
            15434.334135528818,
            62934.40569981003,
            163795.39126029133
           ]
          }
         ],
         "layout": {
          "title": {
           "text": "Income Share Over Time 2002"
          },
          "uniformtext": {
           "minsize": 10,
           "mode": "show"
          }
         }
        },
        {
         "data": [
          {
           "labels": [
            "10th",
            "50th",
            "90th"
           ],
           "parents": [
            "",
            "",
            "",
            "",
            "",
            "Highest"
           ],
           "textinfo": "label+value",
           "type": "treemap",
           "values": [
            14816.919949335024,
            62528.23901203294,
            166360.97682077266
           ]
          }
         ],
         "layout": {
          "title": {
           "text": "Income Share Over Time 2003"
          },
          "uniformtext": {
           "minsize": 10,
           "mode": "show"
          }
         }
        },
        {
         "data": [
          {
           "labels": [
            "10th",
            "50th",
            "90th"
           ],
           "parents": [
            "",
            "",
            "",
            "",
            "",
            "Highest"
           ],
           "textinfo": "label+value",
           "type": "treemap",
           "values": [
            14727.114249525019,
            62663.96808106398,
            165608.85408486388
           ]
          }
         ],
         "layout": {
          "title": {
           "text": "Income Share Over Time 2004"
          },
          "uniformtext": {
           "minsize": 10,
           "mode": "show"
          }
         }
        },
        {
         "data": [
          {
           "labels": [
            "10th",
            "50th",
            "90th"
           ],
           "parents": [
            "",
            "",
            "",
            "",
            "",
            "Highest"
           ],
           "textinfo": "label+value",
           "type": "treemap",
           "values": [
            14703.642305256497,
            62238.41152628247,
            166152.79088030403
           ]
          }
         ],
         "layout": {
          "title": {
           "text": "Income Share Over Time 2005"
          },
          "uniformtext": {
           "minsize": 10,
           "mode": "show"
          }
         }
        },
        {
         "data": [
          {
           "labels": [
            "10th",
            "50th",
            "90th"
           ],
           "parents": [
            "",
            "",
            "",
            "",
            "",
            "Highest"
           ],
           "textinfo": "label+value",
           "type": "treemap",
           "values": [
            15170.019632678914,
            62568.039265357824,
            171475.81963267893
           ]
          }
         ],
         "layout": {
          "title": {
           "text": "Income Share Over Time 2006"
          },
          "uniformtext": {
           "minsize": 10,
           "mode": "show"
          }
         }
        },
        {
         "data": [
          {
           "labels": [
            "10th",
            "50th",
            "90th"
           ],
           "parents": [
            "",
            "",
            "",
            "",
            "",
            "Highest"
           ],
           "textinfo": "label+value",
           "type": "treemap",
           "values": [
            15004.695503483217,
            63482.42457251426,
            168631.6322989234
           ]
          }
         ],
         "layout": {
          "title": {
           "text": "Income Share Over Time 2007"
          },
          "uniformtext": {
           "minsize": 10,
           "mode": "show"
          }
         }
        },
        {
         "data": [
          {
           "labels": [
            "10th",
            "50th",
            "90th"
           ],
           "parents": [
            "",
            "",
            "",
            "",
            "",
            "Highest"
           ],
           "textinfo": "label+value",
           "type": "treemap",
           "values": [
            14283.1883470551,
            60989.29588347056,
            164756.72045598485
           ]
          }
         ],
         "layout": {
          "title": {
           "text": "Income Share Over Time 2008"
          },
          "uniformtext": {
           "minsize": 10,
           "mode": "show"
          }
         }
        },
        {
         "data": [
          {
           "labels": [
            "10th",
            "50th",
            "90th"
           ],
           "parents": [
            "",
            "",
            "",
            "",
            "",
            "Highest"
           ],
           "textinfo": "label+value",
           "type": "treemap",
           "values": [
            13420.849525015836,
            59617.71792273593,
            165469.04293856875
           ]
          }
         ],
         "layout": {
          "title": {
           "text": "Income Share Over Time 2009"
          },
          "uniformtext": {
           "minsize": 10,
           "mode": "show"
          }
         }
        },
        {
         "data": [
          {
           "labels": [
            "10th",
            "50th",
            "90th"
           ],
           "parents": [
            "",
            "",
            "",
            "",
            "",
            "Highest"
           ],
           "textinfo": "label+value",
           "type": "treemap",
           "values": [
            13077.955034832175,
            58514.53654211528,
            162471.77770740975
           ]
          }
         ],
         "layout": {
          "title": {
           "text": "Income Share Over Time 2010"
          },
          "uniformtext": {
           "minsize": 10,
           "mode": "show"
          }
         }
        },
        {
         "data": [
          {
           "labels": [
            "10th",
            "50th",
            "90th"
           ],
           "parents": [
            "",
            "",
            "",
            "",
            "",
            "Highest"
           ],
           "textinfo": "label+value",
           "type": "treemap",
           "values": [
            12674.849905003171,
            57036.824572514255,
            159997.0183660545
           ]
          }
         ],
         "layout": {
          "title": {
           "text": "Income Share Over Time 2011"
          },
          "uniformtext": {
           "minsize": 10,
           "mode": "show"
          }
         }
        },
        {
         "data": [
          {
           "labels": [
            "10th",
            "50th",
            "90th"
           ],
           "parents": [
            "",
            "",
            "",
            "",
            "",
            "Highest"
           ],
           "textinfo": "label+value",
           "type": "treemap",
           "values": [
            12674.849905003171,
            56983.75756808108,
            160463.39569347692
           ]
          }
         ],
         "layout": {
          "title": {
           "text": "Income Share Over Time 2012"
          },
          "uniformtext": {
           "minsize": 10,
           "mode": "show"
          }
         }
        },
        {
         "data": [
          {
           "labels": [
            "10th",
            "50th",
            "90th"
           ],
           "parents": [
            "",
            "",
            "",
            "",
            "",
            "Highest"
           ],
           "textinfo": "label+value",
           "type": "treemap",
           "values": [
            13216.745661811277,
            58140.0059531349,
            162264.61228625715
           ]
          }
         ],
         "layout": {
          "title": {
           "text": "Income Share Over Time 2013"
          },
          "uniformtext": {
           "minsize": 10,
           "mode": "show"
          }
         }
        },
        {
         "data": [
          {
           "labels": [
            "10th",
            "50th",
            "90th"
           ],
           "parents": [
            "",
            "",
            "",
            "",
            "",
            "Highest"
           ],
           "textinfo": "label+value",
           "type": "treemap",
           "values": [
            13029.990626979104,
            59551.38416719443,
            170318.55072830908
           ]
          }
         ],
         "layout": {
          "title": {
           "text": "Income Share Over Time 2014"
          },
          "uniformtext": {
           "minsize": 10,
           "mode": "show"
          }
         }
        },
        {
         "data": [
          {
           "labels": [
            "10th",
            "50th",
            "90th"
           ],
           "parents": [
            "",
            "",
            "",
            "",
            "",
            "Highest"
           ],
           "textinfo": "label+value",
           "type": "treemap",
           "values": [
            14052.550981633947,
            62396.592020266005,
            175716.07739075366
           ]
          }
         ],
         "layout": {
          "title": {
           "text": "Income Share Over Time 2015"
          },
          "uniformtext": {
           "minsize": 10,
           "mode": "show"
          }
         }
        },
        {
         "data": [
          {
           "labels": [
            "10th",
            "50th",
            "90th"
           ],
           "parents": [
            "",
            "",
            "",
            "",
            "",
            "Highest"
           ],
           "textinfo": "label+value",
           "type": "treemap",
           "values": [
            14458.717669411022,
            64959.11602279925,
            182826.03546548449
           ]
          }
         ],
         "layout": {
          "title": {
           "text": "Income Share Over Time 2016"
          },
          "uniformtext": {
           "minsize": 10,
           "mode": "show"
          }
         }
        }
       ],
       "layout": {
        "template": {
         "data": {
          "bar": [
           {
            "error_x": {
             "color": "#2a3f5f"
            },
            "error_y": {
             "color": "#2a3f5f"
            },
            "marker": {
             "line": {
              "color": "#E5ECF6",
              "width": 0.5
             }
            },
            "type": "bar"
           }
          ],
          "barpolar": [
           {
            "marker": {
             "line": {
              "color": "#E5ECF6",
              "width": 0.5
             }
            },
            "type": "barpolar"
           }
          ],
          "carpet": [
           {
            "aaxis": {
             "endlinecolor": "#2a3f5f",
             "gridcolor": "white",
             "linecolor": "white",
             "minorgridcolor": "white",
             "startlinecolor": "#2a3f5f"
            },
            "baxis": {
             "endlinecolor": "#2a3f5f",
             "gridcolor": "white",
             "linecolor": "white",
             "minorgridcolor": "white",
             "startlinecolor": "#2a3f5f"
            },
            "type": "carpet"
           }
          ],
          "choropleth": [
           {
            "colorbar": {
             "outlinewidth": 0,
             "ticks": ""
            },
            "type": "choropleth"
           }
          ],
          "contour": [
           {
            "colorbar": {
             "outlinewidth": 0,
             "ticks": ""
            },
            "colorscale": [
             [
              0,
              "#0d0887"
             ],
             [
              0.1111111111111111,
              "#46039f"
             ],
             [
              0.2222222222222222,
              "#7201a8"
             ],
             [
              0.3333333333333333,
              "#9c179e"
             ],
             [
              0.4444444444444444,
              "#bd3786"
             ],
             [
              0.5555555555555556,
              "#d8576b"
             ],
             [
              0.6666666666666666,
              "#ed7953"
             ],
             [
              0.7777777777777778,
              "#fb9f3a"
             ],
             [
              0.8888888888888888,
              "#fdca26"
             ],
             [
              1,
              "#f0f921"
             ]
            ],
            "type": "contour"
           }
          ],
          "contourcarpet": [
           {
            "colorbar": {
             "outlinewidth": 0,
             "ticks": ""
            },
            "type": "contourcarpet"
           }
          ],
          "heatmap": [
           {
            "colorbar": {
             "outlinewidth": 0,
             "ticks": ""
            },
            "colorscale": [
             [
              0,
              "#0d0887"
             ],
             [
              0.1111111111111111,
              "#46039f"
             ],
             [
              0.2222222222222222,
              "#7201a8"
             ],
             [
              0.3333333333333333,
              "#9c179e"
             ],
             [
              0.4444444444444444,
              "#bd3786"
             ],
             [
              0.5555555555555556,
              "#d8576b"
             ],
             [
              0.6666666666666666,
              "#ed7953"
             ],
             [
              0.7777777777777778,
              "#fb9f3a"
             ],
             [
              0.8888888888888888,
              "#fdca26"
             ],
             [
              1,
              "#f0f921"
             ]
            ],
            "type": "heatmap"
           }
          ],
          "heatmapgl": [
           {
            "colorbar": {
             "outlinewidth": 0,
             "ticks": ""
            },
            "colorscale": [
             [
              0,
              "#0d0887"
             ],
             [
              0.1111111111111111,
              "#46039f"
             ],
             [
              0.2222222222222222,
              "#7201a8"
             ],
             [
              0.3333333333333333,
              "#9c179e"
             ],
             [
              0.4444444444444444,
              "#bd3786"
             ],
             [
              0.5555555555555556,
              "#d8576b"
             ],
             [
              0.6666666666666666,
              "#ed7953"
             ],
             [
              0.7777777777777778,
              "#fb9f3a"
             ],
             [
              0.8888888888888888,
              "#fdca26"
             ],
             [
              1,
              "#f0f921"
             ]
            ],
            "type": "heatmapgl"
           }
          ],
          "histogram": [
           {
            "marker": {
             "colorbar": {
              "outlinewidth": 0,
              "ticks": ""
             }
            },
            "type": "histogram"
           }
          ],
          "histogram2d": [
           {
            "colorbar": {
             "outlinewidth": 0,
             "ticks": ""
            },
            "colorscale": [
             [
              0,
              "#0d0887"
             ],
             [
              0.1111111111111111,
              "#46039f"
             ],
             [
              0.2222222222222222,
              "#7201a8"
             ],
             [
              0.3333333333333333,
              "#9c179e"
             ],
             [
              0.4444444444444444,
              "#bd3786"
             ],
             [
              0.5555555555555556,
              "#d8576b"
             ],
             [
              0.6666666666666666,
              "#ed7953"
             ],
             [
              0.7777777777777778,
              "#fb9f3a"
             ],
             [
              0.8888888888888888,
              "#fdca26"
             ],
             [
              1,
              "#f0f921"
             ]
            ],
            "type": "histogram2d"
           }
          ],
          "histogram2dcontour": [
           {
            "colorbar": {
             "outlinewidth": 0,
             "ticks": ""
            },
            "colorscale": [
             [
              0,
              "#0d0887"
             ],
             [
              0.1111111111111111,
              "#46039f"
             ],
             [
              0.2222222222222222,
              "#7201a8"
             ],
             [
              0.3333333333333333,
              "#9c179e"
             ],
             [
              0.4444444444444444,
              "#bd3786"
             ],
             [
              0.5555555555555556,
              "#d8576b"
             ],
             [
              0.6666666666666666,
              "#ed7953"
             ],
             [
              0.7777777777777778,
              "#fb9f3a"
             ],
             [
              0.8888888888888888,
              "#fdca26"
             ],
             [
              1,
              "#f0f921"
             ]
            ],
            "type": "histogram2dcontour"
           }
          ],
          "mesh3d": [
           {
            "colorbar": {
             "outlinewidth": 0,
             "ticks": ""
            },
            "type": "mesh3d"
           }
          ],
          "parcoords": [
           {
            "line": {
             "colorbar": {
              "outlinewidth": 0,
              "ticks": ""
             }
            },
            "type": "parcoords"
           }
          ],
          "pie": [
           {
            "automargin": true,
            "type": "pie"
           }
          ],
          "scatter": [
           {
            "marker": {
             "colorbar": {
              "outlinewidth": 0,
              "ticks": ""
             }
            },
            "type": "scatter"
           }
          ],
          "scatter3d": [
           {
            "line": {
             "colorbar": {
              "outlinewidth": 0,
              "ticks": ""
             }
            },
            "marker": {
             "colorbar": {
              "outlinewidth": 0,
              "ticks": ""
             }
            },
            "type": "scatter3d"
           }
          ],
          "scattercarpet": [
           {
            "marker": {
             "colorbar": {
              "outlinewidth": 0,
              "ticks": ""
             }
            },
            "type": "scattercarpet"
           }
          ],
          "scattergeo": [
           {
            "marker": {
             "colorbar": {
              "outlinewidth": 0,
              "ticks": ""
             }
            },
            "type": "scattergeo"
           }
          ],
          "scattergl": [
           {
            "marker": {
             "colorbar": {
              "outlinewidth": 0,
              "ticks": ""
             }
            },
            "type": "scattergl"
           }
          ],
          "scattermapbox": [
           {
            "marker": {
             "colorbar": {
              "outlinewidth": 0,
              "ticks": ""
             }
            },
            "type": "scattermapbox"
           }
          ],
          "scatterpolar": [
           {
            "marker": {
             "colorbar": {
              "outlinewidth": 0,
              "ticks": ""
             }
            },
            "type": "scatterpolar"
           }
          ],
          "scatterpolargl": [
           {
            "marker": {
             "colorbar": {
              "outlinewidth": 0,
              "ticks": ""
             }
            },
            "type": "scatterpolargl"
           }
          ],
          "scatterternary": [
           {
            "marker": {
             "colorbar": {
              "outlinewidth": 0,
              "ticks": ""
             }
            },
            "type": "scatterternary"
           }
          ],
          "surface": [
           {
            "colorbar": {
             "outlinewidth": 0,
             "ticks": ""
            },
            "colorscale": [
             [
              0,
              "#0d0887"
             ],
             [
              0.1111111111111111,
              "#46039f"
             ],
             [
              0.2222222222222222,
              "#7201a8"
             ],
             [
              0.3333333333333333,
              "#9c179e"
             ],
             [
              0.4444444444444444,
              "#bd3786"
             ],
             [
              0.5555555555555556,
              "#d8576b"
             ],
             [
              0.6666666666666666,
              "#ed7953"
             ],
             [
              0.7777777777777778,
              "#fb9f3a"
             ],
             [
              0.8888888888888888,
              "#fdca26"
             ],
             [
              1,
              "#f0f921"
             ]
            ],
            "type": "surface"
           }
          ],
          "table": [
           {
            "cells": {
             "fill": {
              "color": "#EBF0F8"
             },
             "line": {
              "color": "white"
             }
            },
            "header": {
             "fill": {
              "color": "#C8D4E3"
             },
             "line": {
              "color": "white"
             }
            },
            "type": "table"
           }
          ]
         },
         "layout": {
          "annotationdefaults": {
           "arrowcolor": "#2a3f5f",
           "arrowhead": 0,
           "arrowwidth": 1
          },
          "coloraxis": {
           "colorbar": {
            "outlinewidth": 0,
            "ticks": ""
           }
          },
          "colorscale": {
           "diverging": [
            [
             0,
             "#8e0152"
            ],
            [
             0.1,
             "#c51b7d"
            ],
            [
             0.2,
             "#de77ae"
            ],
            [
             0.3,
             "#f1b6da"
            ],
            [
             0.4,
             "#fde0ef"
            ],
            [
             0.5,
             "#f7f7f7"
            ],
            [
             0.6,
             "#e6f5d0"
            ],
            [
             0.7,
             "#b8e186"
            ],
            [
             0.8,
             "#7fbc41"
            ],
            [
             0.9,
             "#4d9221"
            ],
            [
             1,
             "#276419"
            ]
           ],
           "sequential": [
            [
             0,
             "#0d0887"
            ],
            [
             0.1111111111111111,
             "#46039f"
            ],
            [
             0.2222222222222222,
             "#7201a8"
            ],
            [
             0.3333333333333333,
             "#9c179e"
            ],
            [
             0.4444444444444444,
             "#bd3786"
            ],
            [
             0.5555555555555556,
             "#d8576b"
            ],
            [
             0.6666666666666666,
             "#ed7953"
            ],
            [
             0.7777777777777778,
             "#fb9f3a"
            ],
            [
             0.8888888888888888,
             "#fdca26"
            ],
            [
             1,
             "#f0f921"
            ]
           ],
           "sequentialminus": [
            [
             0,
             "#0d0887"
            ],
            [
             0.1111111111111111,
             "#46039f"
            ],
            [
             0.2222222222222222,
             "#7201a8"
            ],
            [
             0.3333333333333333,
             "#9c179e"
            ],
            [
             0.4444444444444444,
             "#bd3786"
            ],
            [
             0.5555555555555556,
             "#d8576b"
            ],
            [
             0.6666666666666666,
             "#ed7953"
            ],
            [
             0.7777777777777778,
             "#fb9f3a"
            ],
            [
             0.8888888888888888,
             "#fdca26"
            ],
            [
             1,
             "#f0f921"
            ]
           ]
          },
          "colorway": [
           "#636efa",
           "#EF553B",
           "#00cc96",
           "#ab63fa",
           "#FFA15A",
           "#19d3f3",
           "#FF6692",
           "#B6E880",
           "#FF97FF",
           "#FECB52"
          ],
          "font": {
           "color": "#2a3f5f"
          },
          "geo": {
           "bgcolor": "white",
           "lakecolor": "white",
           "landcolor": "#E5ECF6",
           "showlakes": true,
           "showland": true,
           "subunitcolor": "white"
          },
          "hoverlabel": {
           "align": "left"
          },
          "hovermode": "closest",
          "mapbox": {
           "style": "light"
          },
          "paper_bgcolor": "white",
          "plot_bgcolor": "#E5ECF6",
          "polar": {
           "angularaxis": {
            "gridcolor": "white",
            "linecolor": "white",
            "ticks": ""
           },
           "bgcolor": "#E5ECF6",
           "radialaxis": {
            "gridcolor": "white",
            "linecolor": "white",
            "ticks": ""
           }
          },
          "scene": {
           "xaxis": {
            "backgroundcolor": "#E5ECF6",
            "gridcolor": "white",
            "gridwidth": 2,
            "linecolor": "white",
            "showbackground": true,
            "ticks": "",
            "zerolinecolor": "white"
           },
           "yaxis": {
            "backgroundcolor": "#E5ECF6",
            "gridcolor": "white",
            "gridwidth": 2,
            "linecolor": "white",
            "showbackground": true,
            "ticks": "",
            "zerolinecolor": "white"
           },
           "zaxis": {
            "backgroundcolor": "#E5ECF6",
            "gridcolor": "white",
            "gridwidth": 2,
            "linecolor": "white",
            "showbackground": true,
            "ticks": "",
            "zerolinecolor": "white"
           }
          },
          "shapedefaults": {
           "line": {
            "color": "#2a3f5f"
           }
          },
          "ternary": {
           "aaxis": {
            "gridcolor": "white",
            "linecolor": "white",
            "ticks": ""
           },
           "baxis": {
            "gridcolor": "white",
            "linecolor": "white",
            "ticks": ""
           },
           "bgcolor": "#E5ECF6",
           "caxis": {
            "gridcolor": "white",
            "linecolor": "white",
            "ticks": ""
           }
          },
          "title": {
           "x": 0.05
          },
          "xaxis": {
           "automargin": true,
           "gridcolor": "white",
           "linecolor": "white",
           "ticks": "",
           "title": {
            "standoff": 15
           },
           "zerolinecolor": "white",
           "zerolinewidth": 2
          },
          "yaxis": {
           "automargin": true,
           "gridcolor": "white",
           "linecolor": "white",
           "ticks": "",
           "title": {
            "standoff": 15
           },
           "zerolinecolor": "white",
           "zerolinewidth": 2
          }
         }
        },
        "title": {
         "text": "Income Share Over Time 1963"
        },
        "updatemenus": [
         {
          "buttons": [
           {
            "args": [
             null
            ],
            "label": "Play",
            "method": "animate"
           }
          ],
          "type": "buttons"
         }
        ]
       }
      },
      "text/html": "<div>\n        \n        \n            <div id=\"6d2e5cbd-115d-4667-bbbe-2a1009fc3007\" class=\"plotly-graph-div\" style=\"height:525px; width:100%;\"></div>\n            <script type=\"text/javascript\">\n                require([\"plotly\"], function(Plotly) {\n                    window.PLOTLYENV=window.PLOTLYENV || {};\n                    \n                if (document.getElementById(\"6d2e5cbd-115d-4667-bbbe-2a1009fc3007\")) {\n                    Plotly.newPlot(\n                        '6d2e5cbd-115d-4667-bbbe-2a1009fc3007',\n                        [{\"labels\": [\"10th\", \"50th\", \"90th\"], \"parents\": [\"\", \"\", \"\"], \"textinfo\": \"label+value\", \"type\": \"treemap\", \"values\": [13286.140975300828, 47025.530082330595, 95267.51918936038]}],\n                        {\"template\": {\"data\": {\"bar\": [{\"error_x\": {\"color\": \"#2a3f5f\"}, \"error_y\": {\"color\": \"#2a3f5f\"}, \"marker\": {\"line\": {\"color\": \"#E5ECF6\", \"width\": 0.5}}, \"type\": \"bar\"}], \"barpolar\": [{\"marker\": {\"line\": {\"color\": \"#E5ECF6\", \"width\": 0.5}}, \"type\": \"barpolar\"}], \"carpet\": [{\"aaxis\": {\"endlinecolor\": \"#2a3f5f\", \"gridcolor\": \"white\", \"linecolor\": \"white\", \"minorgridcolor\": \"white\", \"startlinecolor\": \"#2a3f5f\"}, \"baxis\": {\"endlinecolor\": \"#2a3f5f\", \"gridcolor\": \"white\", \"linecolor\": \"white\", \"minorgridcolor\": \"white\", \"startlinecolor\": \"#2a3f5f\"}, \"type\": \"carpet\"}], \"choropleth\": [{\"colorbar\": {\"outlinewidth\": 0, \"ticks\": \"\"}, \"type\": \"choropleth\"}], \"contour\": [{\"colorbar\": {\"outlinewidth\": 0, \"ticks\": \"\"}, \"colorscale\": [[0.0, \"#0d0887\"], [0.1111111111111111, \"#46039f\"], [0.2222222222222222, \"#7201a8\"], [0.3333333333333333, \"#9c179e\"], [0.4444444444444444, \"#bd3786\"], [0.5555555555555556, \"#d8576b\"], [0.6666666666666666, \"#ed7953\"], [0.7777777777777778, \"#fb9f3a\"], [0.8888888888888888, \"#fdca26\"], [1.0, \"#f0f921\"]], \"type\": \"contour\"}], \"contourcarpet\": [{\"colorbar\": {\"outlinewidth\": 0, \"ticks\": \"\"}, \"type\": \"contourcarpet\"}], \"heatmap\": [{\"colorbar\": {\"outlinewidth\": 0, \"ticks\": \"\"}, \"colorscale\": [[0.0, \"#0d0887\"], [0.1111111111111111, \"#46039f\"], [0.2222222222222222, \"#7201a8\"], [0.3333333333333333, \"#9c179e\"], [0.4444444444444444, \"#bd3786\"], [0.5555555555555556, \"#d8576b\"], [0.6666666666666666, \"#ed7953\"], [0.7777777777777778, \"#fb9f3a\"], [0.8888888888888888, \"#fdca26\"], [1.0, \"#f0f921\"]], \"type\": \"heatmap\"}], \"heatmapgl\": [{\"colorbar\": {\"outlinewidth\": 0, \"ticks\": \"\"}, \"colorscale\": [[0.0, \"#0d0887\"], [0.1111111111111111, \"#46039f\"], [0.2222222222222222, \"#7201a8\"], [0.3333333333333333, \"#9c179e\"], [0.4444444444444444, \"#bd3786\"], [0.5555555555555556, \"#d8576b\"], [0.6666666666666666, \"#ed7953\"], [0.7777777777777778, \"#fb9f3a\"], [0.8888888888888888, \"#fdca26\"], [1.0, \"#f0f921\"]], \"type\": \"heatmapgl\"}], \"histogram\": [{\"marker\": {\"colorbar\": {\"outlinewidth\": 0, \"ticks\": \"\"}}, \"type\": \"histogram\"}], \"histogram2d\": [{\"colorbar\": {\"outlinewidth\": 0, \"ticks\": \"\"}, \"colorscale\": [[0.0, \"#0d0887\"], [0.1111111111111111, \"#46039f\"], [0.2222222222222222, \"#7201a8\"], [0.3333333333333333, \"#9c179e\"], [0.4444444444444444, \"#bd3786\"], [0.5555555555555556, \"#d8576b\"], [0.6666666666666666, \"#ed7953\"], [0.7777777777777778, \"#fb9f3a\"], [0.8888888888888888, \"#fdca26\"], [1.0, \"#f0f921\"]], \"type\": \"histogram2d\"}], \"histogram2dcontour\": [{\"colorbar\": {\"outlinewidth\": 0, \"ticks\": \"\"}, \"colorscale\": [[0.0, \"#0d0887\"], [0.1111111111111111, \"#46039f\"], [0.2222222222222222, \"#7201a8\"], [0.3333333333333333, \"#9c179e\"], [0.4444444444444444, \"#bd3786\"], [0.5555555555555556, \"#d8576b\"], [0.6666666666666666, \"#ed7953\"], [0.7777777777777778, \"#fb9f3a\"], [0.8888888888888888, \"#fdca26\"], [1.0, \"#f0f921\"]], \"type\": \"histogram2dcontour\"}], \"mesh3d\": [{\"colorbar\": {\"outlinewidth\": 0, \"ticks\": \"\"}, \"type\": \"mesh3d\"}], \"parcoords\": [{\"line\": {\"colorbar\": {\"outlinewidth\": 0, \"ticks\": \"\"}}, \"type\": \"parcoords\"}], \"pie\": [{\"automargin\": true, \"type\": \"pie\"}], \"scatter\": [{\"marker\": {\"colorbar\": {\"outlinewidth\": 0, \"ticks\": \"\"}}, \"type\": \"scatter\"}], \"scatter3d\": [{\"line\": {\"colorbar\": {\"outlinewidth\": 0, \"ticks\": \"\"}}, \"marker\": {\"colorbar\": {\"outlinewidth\": 0, \"ticks\": \"\"}}, \"type\": \"scatter3d\"}], \"scattercarpet\": [{\"marker\": {\"colorbar\": {\"outlinewidth\": 0, \"ticks\": \"\"}}, \"type\": \"scattercarpet\"}], \"scattergeo\": [{\"marker\": {\"colorbar\": {\"outlinewidth\": 0, \"ticks\": \"\"}}, \"type\": \"scattergeo\"}], \"scattergl\": [{\"marker\": {\"colorbar\": {\"outlinewidth\": 0, \"ticks\": \"\"}}, \"type\": \"scattergl\"}], \"scattermapbox\": [{\"marker\": {\"colorbar\": {\"outlinewidth\": 0, \"ticks\": \"\"}}, \"type\": \"scattermapbox\"}], \"scatterpolar\": [{\"marker\": {\"colorbar\": {\"outlinewidth\": 0, \"ticks\": \"\"}}, \"type\": \"scatterpolar\"}], \"scatterpolargl\": [{\"marker\": {\"colorbar\": {\"outlinewidth\": 0, \"ticks\": \"\"}}, \"type\": \"scatterpolargl\"}], \"scatterternary\": [{\"marker\": {\"colorbar\": {\"outlinewidth\": 0, \"ticks\": \"\"}}, \"type\": \"scatterternary\"}], \"surface\": [{\"colorbar\": {\"outlinewidth\": 0, \"ticks\": \"\"}, \"colorscale\": [[0.0, \"#0d0887\"], [0.1111111111111111, \"#46039f\"], [0.2222222222222222, \"#7201a8\"], [0.3333333333333333, \"#9c179e\"], [0.4444444444444444, \"#bd3786\"], [0.5555555555555556, \"#d8576b\"], [0.6666666666666666, \"#ed7953\"], [0.7777777777777778, \"#fb9f3a\"], [0.8888888888888888, \"#fdca26\"], [1.0, \"#f0f921\"]], \"type\": \"surface\"}], \"table\": [{\"cells\": {\"fill\": {\"color\": \"#EBF0F8\"}, \"line\": {\"color\": \"white\"}}, \"header\": {\"fill\": {\"color\": \"#C8D4E3\"}, \"line\": {\"color\": \"white\"}}, \"type\": \"table\"}]}, \"layout\": {\"annotationdefaults\": {\"arrowcolor\": \"#2a3f5f\", \"arrowhead\": 0, \"arrowwidth\": 1}, \"coloraxis\": {\"colorbar\": {\"outlinewidth\": 0, \"ticks\": \"\"}}, \"colorscale\": {\"diverging\": [[0, \"#8e0152\"], [0.1, \"#c51b7d\"], [0.2, \"#de77ae\"], [0.3, \"#f1b6da\"], [0.4, \"#fde0ef\"], [0.5, \"#f7f7f7\"], [0.6, \"#e6f5d0\"], [0.7, \"#b8e186\"], [0.8, \"#7fbc41\"], [0.9, \"#4d9221\"], [1, \"#276419\"]], \"sequential\": [[0.0, \"#0d0887\"], [0.1111111111111111, \"#46039f\"], [0.2222222222222222, \"#7201a8\"], [0.3333333333333333, \"#9c179e\"], [0.4444444444444444, \"#bd3786\"], [0.5555555555555556, \"#d8576b\"], [0.6666666666666666, \"#ed7953\"], [0.7777777777777778, \"#fb9f3a\"], [0.8888888888888888, \"#fdca26\"], [1.0, \"#f0f921\"]], \"sequentialminus\": [[0.0, \"#0d0887\"], [0.1111111111111111, \"#46039f\"], [0.2222222222222222, \"#7201a8\"], [0.3333333333333333, \"#9c179e\"], [0.4444444444444444, \"#bd3786\"], [0.5555555555555556, \"#d8576b\"], [0.6666666666666666, \"#ed7953\"], [0.7777777777777778, \"#fb9f3a\"], [0.8888888888888888, \"#fdca26\"], [1.0, \"#f0f921\"]]}, \"colorway\": [\"#636efa\", \"#EF553B\", \"#00cc96\", \"#ab63fa\", \"#FFA15A\", \"#19d3f3\", \"#FF6692\", \"#B6E880\", \"#FF97FF\", \"#FECB52\"], \"font\": {\"color\": \"#2a3f5f\"}, \"geo\": {\"bgcolor\": \"white\", \"lakecolor\": \"white\", \"landcolor\": \"#E5ECF6\", \"showlakes\": true, \"showland\": true, \"subunitcolor\": \"white\"}, \"hoverlabel\": {\"align\": \"left\"}, \"hovermode\": \"closest\", \"mapbox\": {\"style\": \"light\"}, \"paper_bgcolor\": \"white\", \"plot_bgcolor\": \"#E5ECF6\", \"polar\": {\"angularaxis\": {\"gridcolor\": \"white\", \"linecolor\": \"white\", \"ticks\": \"\"}, \"bgcolor\": \"#E5ECF6\", \"radialaxis\": {\"gridcolor\": \"white\", \"linecolor\": \"white\", \"ticks\": \"\"}}, \"scene\": {\"xaxis\": {\"backgroundcolor\": \"#E5ECF6\", \"gridcolor\": \"white\", \"gridwidth\": 2, \"linecolor\": \"white\", \"showbackground\": true, \"ticks\": \"\", \"zerolinecolor\": \"white\"}, \"yaxis\": {\"backgroundcolor\": \"#E5ECF6\", \"gridcolor\": \"white\", \"gridwidth\": 2, \"linecolor\": \"white\", \"showbackground\": true, \"ticks\": \"\", \"zerolinecolor\": \"white\"}, \"zaxis\": {\"backgroundcolor\": \"#E5ECF6\", \"gridcolor\": \"white\", \"gridwidth\": 2, \"linecolor\": \"white\", \"showbackground\": true, \"ticks\": \"\", \"zerolinecolor\": \"white\"}}, \"shapedefaults\": {\"line\": {\"color\": \"#2a3f5f\"}}, \"ternary\": {\"aaxis\": {\"gridcolor\": \"white\", \"linecolor\": \"white\", \"ticks\": \"\"}, \"baxis\": {\"gridcolor\": \"white\", \"linecolor\": \"white\", \"ticks\": \"\"}, \"bgcolor\": \"#E5ECF6\", \"caxis\": {\"gridcolor\": \"white\", \"linecolor\": \"white\", \"ticks\": \"\"}}, \"title\": {\"x\": 0.05}, \"xaxis\": {\"automargin\": true, \"gridcolor\": \"white\", \"linecolor\": \"white\", \"ticks\": \"\", \"title\": {\"standoff\": 15}, \"zerolinecolor\": \"white\", \"zerolinewidth\": 2}, \"yaxis\": {\"automargin\": true, \"gridcolor\": \"white\", \"linecolor\": \"white\", \"ticks\": \"\", \"title\": {\"standoff\": 15}, \"zerolinecolor\": \"white\", \"zerolinewidth\": 2}}}, \"title\": {\"text\": \"Income Share Over Time 1963\"}, \"updatemenus\": [{\"buttons\": [{\"args\": [null], \"label\": \"Play\", \"method\": \"animate\"}], \"type\": \"buttons\"}]},\n                        {\"responsive\": true}\n                    ).then(function(){\n                            Plotly.addFrames('6d2e5cbd-115d-4667-bbbe-2a1009fc3007', [{\"data\": [{\"labels\": [\"10th\", \"50th\", \"90th\"], \"parents\": [\"\", \"\", \"\", \"\", \"\", \"Highest\"], \"textinfo\": \"label+value\", \"values\": [13286.140975300828, 47025.530082330595, 95267.51918936038], \"type\": \"treemap\"}], \"layout\": {\"title\": {\"text\": \"Income Share Over Time 1963\"}, \"uniformtext\": {\"minsize\": 10, \"mode\": \"show\"}}}, {\"data\": [{\"labels\": [\"10th\", \"50th\", \"90th\"], \"parents\": [\"\", \"\", \"\", \"\", \"\", \"Highest\"], \"textinfo\": \"label+value\", \"values\": [14783.242811906272, 50989.22710576315, 101564.12336922104], \"type\": \"treemap\"}], \"layout\": {\"title\": {\"text\": \"Income Share Over Time 1965\"}, \"uniformtext\": {\"minsize\": 10, \"mode\": \"show\"}}}, {\"data\": [{\"labels\": [\"10th\", \"50th\", \"90th\"], \"parents\": [\"\", \"\", \"\", \"\", \"\", \"Highest\"], \"textinfo\": \"label+value\", \"values\": [16241.564914502851, 53898.72767574415, 107761.73717542752], \"type\": \"treemap\"}], \"layout\": {\"title\": {\"text\": \"Income Share Over Time 1966\"}, \"uniformtext\": {\"minsize\": 10, \"mode\": \"show\"}}}, {\"data\": [{\"labels\": [\"10th\", \"50th\", \"90th\"], \"parents\": [\"\", \"\", \"\", \"\", \"\", \"Highest\"], \"textinfo\": \"label+value\", \"values\": [16201.764661177964, 55282.55186827107, 108264.85319822676], \"type\": \"treemap\"}], \"layout\": {\"title\": {\"text\": \"Income Share Over Time 1967\"}, \"uniformtext\": {\"minsize\": 10, \"mode\": \"show\"}}}, {\"data\": [{\"labels\": [\"10th\", \"50th\", \"90th\"], \"parents\": [\"\", \"\", \"\", \"\", \"\", \"Highest\"], \"textinfo\": \"label+value\", \"values\": [17703.96909436352, 57354.20607979735, 113451.13236225463], \"type\": \"treemap\"}], \"layout\": {\"title\": {\"text\": \"Income Share Over Time 1968\"}, \"uniformtext\": {\"minsize\": 10, \"mode\": \"show\"}}}, {\"data\": [{\"labels\": [\"10th\", \"50th\", \"90th\"], \"parents\": [\"\", \"\", \"\", \"\", \"\", \"Highest\"], \"textinfo\": \"label+value\", \"values\": [17354.951488283732, 59243.187333755544, 119518.11969601015], \"type\": \"treemap\"}], \"layout\": {\"title\": {\"text\": \"Income Share Over Time 1970\"}, \"uniformtext\": {\"minsize\": 10, \"mode\": \"show\"}}}, {\"data\": [{\"labels\": [\"10th\", \"50th\", \"90th\"], \"parents\": [\"\", \"\", \"\", \"\", \"\", \"Highest\"], \"textinfo\": \"label+value\", \"values\": [17251.879037365426, 58370.64331855607, 119040.51665611149], \"type\": \"treemap\"}], \"layout\": {\"title\": {\"text\": \"Income Share Over Time 1971\"}, \"uniformtext\": {\"minsize\": 10, \"mode\": \"show\"}}}, {\"data\": [{\"labels\": [\"10th\", \"50th\", \"90th\"], \"parents\": [\"\", \"\", \"\", \"\", \"\", \"Highest\"], \"textinfo\": \"label+value\", \"values\": [17452.921342621918, 61139.312222925924, 126052.50487650414], \"type\": \"treemap\"}], \"layout\": {\"title\": {\"text\": \"Income Share Over Time 1972\"}, \"uniformtext\": {\"minsize\": 10, \"mode\": \"show\"}}}, {\"data\": [{\"labels\": [\"10th\", \"50th\", \"90th\"], \"parents\": [\"\", \"\", \"\", \"\", \"\", \"Highest\"], \"textinfo\": \"label+value\", \"values\": [18224.433945535147, 62842.55896136798, 128828.31741608615], \"type\": \"treemap\"}], \"layout\": {\"title\": {\"text\": \"Income Share Over Time 1973\"}, \"uniformtext\": {\"minsize\": 10, \"mode\": \"show\"}}}, {\"data\": [{\"labels\": [\"10th\", \"50th\", \"90th\"], \"parents\": [\"\", \"\", \"\", \"\", \"\", \"Highest\"], \"textinfo\": \"label+value\", \"values\": [17178.401646611786, 59769.77530082332, 124306.39632678914], \"type\": \"treemap\"}], \"layout\": {\"title\": {\"text\": \"Income Share Over Time 1974\"}, \"uniformtext\": {\"minsize\": 10, \"mode\": \"show\"}}}, {\"data\": [{\"labels\": [\"10th\", \"50th\", \"90th\"], \"parents\": [\"\", \"\", \"\", \"\", \"\", \"Highest\"], \"textinfo\": \"label+value\", \"values\": [16621.198100063335, 58337.98670044332, 121104.00671310961], \"type\": \"treemap\"}], \"layout\": {\"title\": {\"text\": \"Income Share Over Time 1975\"}, \"uniformtext\": {\"minsize\": 10, \"mode\": \"show\"}}}, {\"data\": [{\"labels\": [\"10th\", \"50th\", \"90th\"], \"parents\": [\"\", \"\", \"\", \"\", \"\", \"Highest\"], \"textinfo\": \"label+value\", \"values\": [16924.292336922106, 60048.37707409755, 124442.12539582016], \"type\": \"treemap\"}], \"layout\": {\"title\": {\"text\": \"Income Share Over Time 1976\"}, \"uniformtext\": {\"minsize\": 10, \"mode\": \"show\"}}}, {\"data\": [{\"labels\": [\"10th\", \"50th\", \"90th\"], \"parents\": [\"\", \"\", \"\", \"\", \"\", \"Highest\"], \"textinfo\": \"label+value\", \"values\": [16739.578340721982, 60137.16225459152, 127283.25117162765], \"type\": \"treemap\"}], \"layout\": {\"title\": {\"text\": \"Income Share Over Time 1977\"}, \"uniformtext\": {\"minsize\": 10, \"mode\": \"show\"}}}, {\"data\": [{\"labels\": [\"10th\", \"50th\", \"90th\"], \"parents\": [\"\", \"\", \"\", \"\", \"\", \"Highest\"], \"textinfo\": \"label+value\", \"values\": [16750.804053198233, 61109.71716276126, 129905.98581380626], \"type\": \"treemap\"}], \"layout\": {\"title\": {\"text\": \"Income Share Over Time 1978\"}, \"uniformtext\": {\"minsize\": 10, \"mode\": \"show\"}}}, {\"data\": [{\"labels\": [\"10th\", \"50th\", \"90th\"], \"parents\": [\"\", \"\", \"\", \"\", \"\", \"Highest\"], \"textinfo\": \"label+value\", \"values\": [16079.302343255227, 60711.71462951236, 130791.79658011402], \"type\": \"treemap\"}], \"layout\": {\"title\": {\"text\": \"Income Share Over Time 1979\"}, \"uniformtext\": {\"minsize\": 10, \"mode\": \"show\"}}}, {\"data\": [{\"labels\": [\"10th\", \"50th\", \"90th\"], \"parents\": [\"\", \"\", \"\", \"\", \"\", \"Highest\"], \"textinfo\": \"label+value\", \"values\": [15109.808993033566, 56744.95604813174, 124500.29499683346], \"type\": \"treemap\"}], \"layout\": {\"title\": {\"text\": \"Income Share Over Time 1980\"}, \"uniformtext\": {\"minsize\": 10, \"mode\": \"show\"}}}, {\"data\": [{\"labels\": [\"10th\", \"50th\", \"90th\"], \"parents\": [\"\", \"\", \"\", \"\", \"\", \"Highest\"], \"textinfo\": \"label+value\", \"values\": [14557.708043065231, 55119.268777707424, 122635.8062064598], \"type\": \"treemap\"}], \"layout\": {\"title\": {\"text\": \"Income Share Over Time 1981\"}, \"uniformtext\": {\"minsize\": 10, \"mode\": \"show\"}}}, {\"data\": [{\"labels\": [\"10th\", \"50th\", \"90th\"], \"parents\": [\"\", \"\", \"\", \"\", \"\", \"Highest\"], \"textinfo\": \"label+value\", \"values\": [13907.637238758709, 54034.45674477518, 123162.39417352756], \"type\": \"treemap\"}], \"layout\": {\"title\": {\"text\": \"Income Share Over Time 1982\"}, \"uniformtext\": {\"minsize\": 10, \"mode\": \"show\"}}}, {\"data\": [{\"labels\": [\"10th\", \"50th\", \"90th\"], \"parents\": [\"\", \"\", \"\", \"\", \"\", \"Highest\"], \"textinfo\": \"label+value\", \"values\": [13802.523749208362, 54637.58366054466, 125333.03875870805], \"type\": \"treemap\"}], \"layout\": {\"title\": {\"text\": \"Income Share Over Time 1983\"}, \"uniformtext\": {\"minsize\": 10, \"mode\": \"show\"}}}, {\"data\": [{\"labels\": [\"10th\", \"50th\", \"90th\"], \"parents\": [\"\", \"\", \"\", \"\", \"\", \"Highest\"], \"textinfo\": \"label+value\", \"values\": [14047.448385053833, 56641.88359721344, 131066.31627612414], \"type\": \"treemap\"}], \"layout\": {\"title\": {\"text\": \"Income Share Over Time 1984\"}, \"uniformtext\": {\"minsize\": 10, \"mode\": \"show\"}}}, {\"data\": [{\"labels\": [\"10th\", \"50th\", \"90th\"], \"parents\": [\"\", \"\", \"\", \"\", \"\", \"Highest\"], \"textinfo\": \"label+value\", \"values\": [14345.440025332493, 57247.05155161496, 132795.07599746675], \"type\": \"treemap\"}], \"layout\": {\"title\": {\"text\": \"Income Share Over Time 1985\"}, \"uniformtext\": {\"minsize\": 10, \"mode\": \"show\"}}}, {\"data\": [{\"labels\": [\"10th\", \"50th\", \"90th\"], \"parents\": [\"\", \"\", \"\", \"\", \"\", \"Highest\"], \"textinfo\": \"label+value\", \"values\": [14440.348321722613, 59692.215832805574, 138455.89664344524], \"type\": \"treemap\"}], \"layout\": {\"title\": {\"text\": \"Income Share Over Time 1986\"}, \"uniformtext\": {\"minsize\": 10, \"mode\": \"show\"}}}, {\"data\": [{\"labels\": [\"10th\", \"50th\", \"90th\"], \"parents\": [\"\", \"\", \"\", \"\", \"\", \"Highest\"], \"textinfo\": \"label+value\", \"values\": [14561.790120329326, 60665.791260291335, 141712.373780874], \"type\": \"treemap\"}], \"layout\": {\"title\": {\"text\": \"Income Share Over Time 1987\"}, \"uniformtext\": {\"minsize\": 10, \"mode\": \"show\"}}}, {\"data\": [{\"labels\": [\"10th\", \"50th\", \"90th\"], \"parents\": [\"\", \"\", \"\", \"\", \"\", \"Highest\"], \"textinfo\": \"label+value\", \"values\": [14602.610892970237, 60210.639645345174, 143026.80265991134], \"type\": \"treemap\"}], \"layout\": {\"title\": {\"text\": \"Income Share Over Time 1988\"}, \"uniformtext\": {\"minsize\": 10, \"mode\": \"show\"}}}, {\"data\": [{\"labels\": [\"10th\", \"50th\", \"90th\"], \"parents\": [\"\", \"\", \"\", \"\", \"\", \"Highest\"], \"textinfo\": \"label+value\", \"values\": [15272.071564281194, 61070.93742875238, 145968.9598480051], \"type\": \"treemap\"}], \"layout\": {\"title\": {\"text\": \"Income Share Over Time 1989\"}, \"uniformtext\": {\"minsize\": 10, \"mode\": \"show\"}}}, {\"data\": [{\"labels\": [\"10th\", \"50th\", \"90th\"], \"parents\": [\"\", \"\", \"\", \"\", \"\", \"Highest\"], \"textinfo\": \"label+value\", \"values\": [14681.190880303991, 59534.035338822054, 142212.42824572517], \"type\": \"treemap\"}], \"layout\": {\"title\": {\"text\": \"Income Share Over Time 1990\"}, \"uniformtext\": {\"minsize\": 10, \"mode\": \"show\"}}}, {\"data\": [{\"labels\": [\"10th\", \"50th\", \"90th\"], \"parents\": [\"\", \"\", \"\", \"\", \"\", \"Highest\"], \"textinfo\": \"label+value\", \"values\": [13940.29385687144, 57524.632805573165, 139503.96998100067], \"type\": \"treemap\"}], \"layout\": {\"title\": {\"text\": \"Income Share Over Time 1991\"}, \"uniformtext\": {\"minsize\": 10, \"mode\": \"show\"}}}, {\"data\": [{\"labels\": [\"10th\", \"50th\", \"90th\"], \"parents\": [\"\", \"\", \"\", \"\", \"\", \"Highest\"], \"textinfo\": \"label+value\", \"values\": [13552.496516782776, 57594.028119062714, 139979.53198226728], \"type\": \"treemap\"}], \"layout\": {\"title\": {\"text\": \"Income Share Over Time 1992\"}, \"uniformtext\": {\"minsize\": 10, \"mode\": \"show\"}}}, {\"data\": [{\"labels\": [\"10th\", \"50th\", \"90th\"], \"parents\": [\"\", \"\", \"\", \"\", \"\", \"Highest\"], \"textinfo\": \"label+value\", \"values\": [13235.115009499685, 56067.331222292596, 142460.4144395187], \"type\": \"treemap\"}], \"layout\": {\"title\": {\"text\": \"Income Share Over Time 1993\"}, \"uniformtext\": {\"minsize\": 10, \"mode\": \"show\"}}}, {\"data\": [{\"labels\": [\"10th\", \"50th\", \"90th\"], \"parents\": [\"\", \"\", \"\", \"\", \"\", \"Highest\"], \"textinfo\": \"label+value\", \"values\": [13737.210512982903, 57394.00633312223, 146042.43723875875], \"type\": \"treemap\"}], \"layout\": {\"title\": {\"text\": \"Income Share Over Time 1994\"}, \"uniformtext\": {\"minsize\": 10, \"mode\": \"show\"}}}, {\"data\": [{\"labels\": [\"10th\", \"50th\", \"90th\"], \"parents\": [\"\", \"\", \"\", \"\", \"\", \"Highest\"], \"textinfo\": \"label+value\", \"values\": [14491.374287523753, 58264.50930968969, 146475.1374287524], \"type\": \"treemap\"}], \"layout\": {\"title\": {\"text\": \"Income Share Over Time 1995\"}, \"uniformtext\": {\"minsize\": 10, \"mode\": \"show\"}}}, {\"data\": [{\"labels\": [\"10th\", \"50th\", \"90th\"], \"parents\": [\"\", \"\", \"\", \"\", \"\", \"Highest\"], \"textinfo\": \"label+value\", \"values\": [14156.643951868276, 59227.87954401522, 148677.41811272962], \"type\": \"treemap\"}], \"layout\": {\"title\": {\"text\": \"Income Share Over Time 1996\"}, \"uniformtext\": {\"minsize\": 10, \"mode\": \"show\"}}}, {\"data\": [{\"labels\": [\"10th\", \"50th\", \"90th\"], \"parents\": [\"\", \"\", \"\", \"\", \"\", \"Highest\"], \"textinfo\": \"label+value\", \"values\": [14749.565674477519, 60410.661431285625, 153551.41836605448], \"type\": \"treemap\"}], \"layout\": {\"title\": {\"text\": \"Income Share Over Time 1997\"}, \"uniformtext\": {\"minsize\": 10, \"mode\": \"show\"}}}, {\"data\": [{\"labels\": [\"10th\", \"50th\", \"90th\"], \"parents\": [\"\", \"\", \"\", \"\", \"\", \"Highest\"], \"textinfo\": \"label+value\", \"values\": [15038.372640911972, 62480.27460417988, 158359.0848638379], \"type\": \"treemap\"}], \"layout\": {\"title\": {\"text\": \"Income Share Over Time 1998\"}, \"uniformtext\": {\"minsize\": 10, \"mode\": \"show\"}}}, {\"data\": [{\"labels\": [\"10th\", \"50th\", \"90th\"], \"parents\": [\"\", \"\", \"\", \"\", \"\", \"Highest\"], \"textinfo\": \"label+value\", \"values\": [15782.331222292592, 64018.19721342622, 164279.11741608614], \"type\": \"treemap\"}], \"layout\": {\"title\": {\"text\": \"Income Share Over Time 1999\"}, \"uniformtext\": {\"minsize\": 10, \"mode\": \"show\"}}}, {\"data\": [{\"labels\": [\"10th\", \"50th\", \"90th\"], \"parents\": [\"\", \"\", \"\", \"\", \"\", \"Highest\"], \"textinfo\": \"label+value\", \"values\": [16491.59214692844, 64784.607219759346, 166194.63217226096], \"type\": \"treemap\"}], \"layout\": {\"title\": {\"text\": \"Income Share Over Time 2000\"}, \"uniformtext\": {\"minsize\": 10, \"mode\": \"show\"}}}, {\"data\": [{\"labels\": [\"10th\", \"50th\", \"90th\"], \"parents\": [\"\", \"\", \"\", \"\", \"\", \"Highest\"], \"textinfo\": \"label+value\", \"values\": [15678.238252058269, 63437.52172260926, 164840.4030398987], \"type\": \"treemap\"}], \"layout\": {\"title\": {\"text\": \"Income Share Over Time 2001\"}, \"uniformtext\": {\"minsize\": 10, \"mode\": \"show\"}}}, {\"data\": [{\"labels\": [\"10th\", \"50th\", \"90th\"], \"parents\": [\"\", \"\", \"\", \"\", \"\", \"Highest\"], \"textinfo\": \"label+value\", \"values\": [15434.334135528818, 62934.40569981003, 163795.39126029133], \"type\": \"treemap\"}], \"layout\": {\"title\": {\"text\": \"Income Share Over Time 2002\"}, \"uniformtext\": {\"minsize\": 10, \"mode\": \"show\"}}}, {\"data\": [{\"labels\": [\"10th\", \"50th\", \"90th\"], \"parents\": [\"\", \"\", \"\", \"\", \"\", \"Highest\"], \"textinfo\": \"label+value\", \"values\": [14816.919949335024, 62528.23901203294, 166360.97682077266], \"type\": \"treemap\"}], \"layout\": {\"title\": {\"text\": \"Income Share Over Time 2003\"}, \"uniformtext\": {\"minsize\": 10, \"mode\": \"show\"}}}, {\"data\": [{\"labels\": [\"10th\", \"50th\", \"90th\"], \"parents\": [\"\", \"\", \"\", \"\", \"\", \"Highest\"], \"textinfo\": \"label+value\", \"values\": [14727.114249525019, 62663.96808106398, 165608.85408486388], \"type\": \"treemap\"}], \"layout\": {\"title\": {\"text\": \"Income Share Over Time 2004\"}, \"uniformtext\": {\"minsize\": 10, \"mode\": \"show\"}}}, {\"data\": [{\"labels\": [\"10th\", \"50th\", \"90th\"], \"parents\": [\"\", \"\", \"\", \"\", \"\", \"Highest\"], \"textinfo\": \"label+value\", \"values\": [14703.642305256497, 62238.41152628247, 166152.79088030403], \"type\": \"treemap\"}], \"layout\": {\"title\": {\"text\": \"Income Share Over Time 2005\"}, \"uniformtext\": {\"minsize\": 10, \"mode\": \"show\"}}}, {\"data\": [{\"labels\": [\"10th\", \"50th\", \"90th\"], \"parents\": [\"\", \"\", \"\", \"\", \"\", \"Highest\"], \"textinfo\": \"label+value\", \"values\": [15170.019632678914, 62568.039265357824, 171475.81963267893], \"type\": \"treemap\"}], \"layout\": {\"title\": {\"text\": \"Income Share Over Time 2006\"}, \"uniformtext\": {\"minsize\": 10, \"mode\": \"show\"}}}, {\"data\": [{\"labels\": [\"10th\", \"50th\", \"90th\"], \"parents\": [\"\", \"\", \"\", \"\", \"\", \"Highest\"], \"textinfo\": \"label+value\", \"values\": [15004.695503483217, 63482.42457251426, 168631.6322989234], \"type\": \"treemap\"}], \"layout\": {\"title\": {\"text\": \"Income Share Over Time 2007\"}, \"uniformtext\": {\"minsize\": 10, \"mode\": \"show\"}}}, {\"data\": [{\"labels\": [\"10th\", \"50th\", \"90th\"], \"parents\": [\"\", \"\", \"\", \"\", \"\", \"Highest\"], \"textinfo\": \"label+value\", \"values\": [14283.1883470551, 60989.29588347056, 164756.72045598485], \"type\": \"treemap\"}], \"layout\": {\"title\": {\"text\": \"Income Share Over Time 2008\"}, \"uniformtext\": {\"minsize\": 10, \"mode\": \"show\"}}}, {\"data\": [{\"labels\": [\"10th\", \"50th\", \"90th\"], \"parents\": [\"\", \"\", \"\", \"\", \"\", \"Highest\"], \"textinfo\": \"label+value\", \"values\": [13420.849525015836, 59617.71792273593, 165469.04293856875], \"type\": \"treemap\"}], \"layout\": {\"title\": {\"text\": \"Income Share Over Time 2009\"}, \"uniformtext\": {\"minsize\": 10, \"mode\": \"show\"}}}, {\"data\": [{\"labels\": [\"10th\", \"50th\", \"90th\"], \"parents\": [\"\", \"\", \"\", \"\", \"\", \"Highest\"], \"textinfo\": \"label+value\", \"values\": [13077.955034832175, 58514.53654211528, 162471.77770740975], \"type\": \"treemap\"}], \"layout\": {\"title\": {\"text\": \"Income Share Over Time 2010\"}, \"uniformtext\": {\"minsize\": 10, \"mode\": \"show\"}}}, {\"data\": [{\"labels\": [\"10th\", \"50th\", \"90th\"], \"parents\": [\"\", \"\", \"\", \"\", \"\", \"Highest\"], \"textinfo\": \"label+value\", \"values\": [12674.849905003171, 57036.824572514255, 159997.0183660545], \"type\": \"treemap\"}], \"layout\": {\"title\": {\"text\": \"Income Share Over Time 2011\"}, \"uniformtext\": {\"minsize\": 10, \"mode\": \"show\"}}}, {\"data\": [{\"labels\": [\"10th\", \"50th\", \"90th\"], \"parents\": [\"\", \"\", \"\", \"\", \"\", \"Highest\"], \"textinfo\": \"label+value\", \"values\": [12674.849905003171, 56983.75756808108, 160463.39569347692], \"type\": \"treemap\"}], \"layout\": {\"title\": {\"text\": \"Income Share Over Time 2012\"}, \"uniformtext\": {\"minsize\": 10, \"mode\": \"show\"}}}, {\"data\": [{\"labels\": [\"10th\", \"50th\", \"90th\"], \"parents\": [\"\", \"\", \"\", \"\", \"\", \"Highest\"], \"textinfo\": \"label+value\", \"values\": [13216.745661811277, 58140.0059531349, 162264.61228625715], \"type\": \"treemap\"}], \"layout\": {\"title\": {\"text\": \"Income Share Over Time 2013\"}, \"uniformtext\": {\"minsize\": 10, \"mode\": \"show\"}}}, {\"data\": [{\"labels\": [\"10th\", \"50th\", \"90th\"], \"parents\": [\"\", \"\", \"\", \"\", \"\", \"Highest\"], \"textinfo\": \"label+value\", \"values\": [13029.990626979104, 59551.38416719443, 170318.55072830908], \"type\": \"treemap\"}], \"layout\": {\"title\": {\"text\": \"Income Share Over Time 2014\"}, \"uniformtext\": {\"minsize\": 10, \"mode\": \"show\"}}}, {\"data\": [{\"labels\": [\"10th\", \"50th\", \"90th\"], \"parents\": [\"\", \"\", \"\", \"\", \"\", \"Highest\"], \"textinfo\": \"label+value\", \"values\": [14052.550981633947, 62396.592020266005, 175716.07739075366], \"type\": \"treemap\"}], \"layout\": {\"title\": {\"text\": \"Income Share Over Time 2015\"}, \"uniformtext\": {\"minsize\": 10, \"mode\": \"show\"}}}, {\"data\": [{\"labels\": [\"10th\", \"50th\", \"90th\"], \"parents\": [\"\", \"\", \"\", \"\", \"\", \"Highest\"], \"textinfo\": \"label+value\", \"values\": [14458.717669411022, 64959.11602279925, 182826.03546548449], \"type\": \"treemap\"}], \"layout\": {\"title\": {\"text\": \"Income Share Over Time 2016\"}, \"uniformtext\": {\"minsize\": 10, \"mode\": \"show\"}}}]);\n                        }).then(function(){\n                            \nvar gd = document.getElementById('6d2e5cbd-115d-4667-bbbe-2a1009fc3007');\nvar x = new MutationObserver(function (mutations, observer) {{\n        var display = window.getComputedStyle(gd).display;\n        if (!display || display === 'none') {{\n            console.log([gd, 'removed!']);\n            Plotly.purge(gd);\n            observer.disconnect();\n        }}\n}});\n\n// Listen for the removal of the full notebook cells\nvar notebookContainer = gd.closest('#notebook-container');\nif (notebookContainer) {{\n    x.observe(notebookContainer, {childList: true});\n}}\n\n// Listen for the clearing of the current output cell\nvar outputEl = gd.closest('.output');\nif (outputEl) {{\n    x.observe(outputEl, {childList: true});\n}}\n\n                        })\n                };\n                });\n            </script>\n        </div>"
     },
     "metadata": {}
    }
   ],
   "source": [
    "years = list(income_time['year'].unique())\n",
    "fig = go.Figure(\n",
    "    data=[go.Treemap(\n",
    "    labels=list(income_time['percentile'].unique()),\n",
    "    textinfo=\"label+value\",\n",
    "    parents = [\"\", \"\", \"\"],\n",
    "    values = list(income_time[income_time['year']==years[0]]['income_family']))\n",
    "    ],\n",
    "    layout=go.Layout(\n",
    "        title_text=\"Income Share Over Time \" + str(years[0]),\n",
    "        updatemenus=[dict(type=\"buttons\",\n",
    "                          buttons=[dict(label=\"Play\",\n",
    "                                        method=\"animate\",\n",
    "                                        args=[None])])]\n",
    "    ), \n",
    "    frames = [go.Frame(\n",
    "        data=[go.Treemap(\n",
    "        labels=list(income_time['percentile'].unique()),\n",
    "        textinfo=\"label+value\",\n",
    "        parents = [\"\", \"\", \"\", \"\", \"\", \"Highest\"],\n",
    "        values = list(income_time[income_time['year']==years[k]]['income_family']))\n",
    "        ],\n",
    "        layout=go.Layout(\n",
    "        uniformtext=dict(minsize=10, mode='show'),\n",
    "        title_text=\"Income Share Over Time \" + str(years[k]))) \n",
    "        for k in range(len(years))])\n",
    "\n",
    "fig.show()\n",
    "pio.write_html(fig, file='./IncomeTime.html', auto_open=True)"
   ]
  }
 ]
}