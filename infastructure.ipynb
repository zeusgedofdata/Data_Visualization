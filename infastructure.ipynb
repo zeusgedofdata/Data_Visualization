{
 "metadata": {
  "language_info": {
   "codemirror_mode": {
    "name": "ipython",
    "version": 3
   },
   "file_extension": ".py",
   "mimetype": "text/x-python",
   "name": "python",
   "nbconvert_exporter": "python",
   "pygments_lexer": "ipython3",
   "version": "3.8.0"
  },
  "orig_nbformat": 2,
  "kernelspec": {
   "name": "python3",
   "display_name": "Python 3",
   "language": "python"
  }
 },
 "nbformat": 4,
 "nbformat_minor": 2,
 "cells": [
  {
   "source": [
    "Main Question I want to answer: \n",
    "\n",
    "Is there a relationship between political party and infrastructure spending. "
   ],
   "cell_type": "markdown",
   "metadata": {}
  },
  {
   "cell_type": "code",
   "execution_count": 142,
   "metadata": {},
   "outputs": [],
   "source": [
    "import pandas as pd\n",
    "import numpy as np\n",
    "import plotly.graph_objects as go\n",
    "import plotly.io as pio"
   ]
  },
  {
   "cell_type": "code",
   "execution_count": 110,
   "metadata": {},
   "outputs": [],
   "source": [
    "infra_xls = pd.ExcelFile(r'C:\\Users\\zeusg\\OneDrive\\Documents\\Github\\data_vis\\data\\infrastructure-data-may-2020.xlsx')\n",
    "state_infra = pd.read_excel(infra_xls, 'By state data',skiprows=116, nrows=52)\n",
    "state_infra = state_infra.drop(['Index'], axis=1)\n",
    "state_infra = state_infra.drop([0])\n",
    "state_infra['State'] = state_infra['State'].str.strip()"
   ]
  },
  {
   "cell_type": "code",
   "execution_count": 111,
   "metadata": {},
   "outputs": [
    {
     "output_type": "execute_result",
     "data": {
      "text/plain": [
       "        State      1992      1993      1994      1995      1996      1997  \\\n",
       "1     Alabama  1328.224  1381.320  1386.588  1255.353  1187.131  1259.965   \n",
       "2      Alaska   663.753   690.286   702.651   645.963   621.262   643.259   \n",
       "3     Arizona  1334.245  1387.581  1482.938  1433.423  1451.814  1485.783   \n",
       "4    Arkansas   818.852   851.586   932.240   922.080   954.727  1002.030   \n",
       "5  California  6242.776  6492.330  6675.239  6202.962  6034.941  6411.536   \n",
       "\n",
       "       1998      1999      2000  ...      2008      2009      2010      2011  \\\n",
       "1  1375.223  1496.583  1589.559  ...  1328.456  1326.456  1302.806  1250.968   \n",
       "2   685.790   729.804   758.803  ...   957.262  1019.194   906.204   778.668   \n",
       "3  1565.931  1647.698  1694.202  ...  1894.816  1994.613  1811.447  1596.965   \n",
       "4  1082.284  1166.251  1227.278  ...   703.331   646.685   695.219   725.506   \n",
       "5  7004.449  7629.059  8109.436  ...  6948.694  6967.680  7253.290  7360.099   \n",
       "\n",
       "       2012      2013      2014      2015      2016      2017  \n",
       "1  1195.081  1136.053  1106.495  1119.064  1102.454  1072.971  \n",
       "2   656.070   539.793   610.094   709.777   798.959   777.593  \n",
       "3  1388.926  1189.758  1175.529  1207.277  1209.132  1176.797  \n",
       "4   748.719   764.869   784.183   836.215   870.164   846.894  \n",
       "5  7410.836  7407.330  6781.600  6382.483  5775.840  5621.377  \n",
       "\n",
       "[5 rows x 27 columns]"
      ],
      "text/html": "<div>\n<style scoped>\n    .dataframe tbody tr th:only-of-type {\n        vertical-align: middle;\n    }\n\n    .dataframe tbody tr th {\n        vertical-align: top;\n    }\n\n    .dataframe thead th {\n        text-align: right;\n    }\n</style>\n<table border=\"1\" class=\"dataframe\">\n  <thead>\n    <tr style=\"text-align: right;\">\n      <th></th>\n      <th>State</th>\n      <th>1992</th>\n      <th>1993</th>\n      <th>1994</th>\n      <th>1995</th>\n      <th>1996</th>\n      <th>1997</th>\n      <th>1998</th>\n      <th>1999</th>\n      <th>2000</th>\n      <th>...</th>\n      <th>2008</th>\n      <th>2009</th>\n      <th>2010</th>\n      <th>2011</th>\n      <th>2012</th>\n      <th>2013</th>\n      <th>2014</th>\n      <th>2015</th>\n      <th>2016</th>\n      <th>2017</th>\n    </tr>\n  </thead>\n  <tbody>\n    <tr>\n      <th>1</th>\n      <td>Alabama</td>\n      <td>1328.224</td>\n      <td>1381.320</td>\n      <td>1386.588</td>\n      <td>1255.353</td>\n      <td>1187.131</td>\n      <td>1259.965</td>\n      <td>1375.223</td>\n      <td>1496.583</td>\n      <td>1589.559</td>\n      <td>...</td>\n      <td>1328.456</td>\n      <td>1326.456</td>\n      <td>1302.806</td>\n      <td>1250.968</td>\n      <td>1195.081</td>\n      <td>1136.053</td>\n      <td>1106.495</td>\n      <td>1119.064</td>\n      <td>1102.454</td>\n      <td>1072.971</td>\n    </tr>\n    <tr>\n      <th>2</th>\n      <td>Alaska</td>\n      <td>663.753</td>\n      <td>690.286</td>\n      <td>702.651</td>\n      <td>645.963</td>\n      <td>621.262</td>\n      <td>643.259</td>\n      <td>685.790</td>\n      <td>729.804</td>\n      <td>758.803</td>\n      <td>...</td>\n      <td>957.262</td>\n      <td>1019.194</td>\n      <td>906.204</td>\n      <td>778.668</td>\n      <td>656.070</td>\n      <td>539.793</td>\n      <td>610.094</td>\n      <td>709.777</td>\n      <td>798.959</td>\n      <td>777.593</td>\n    </tr>\n    <tr>\n      <th>3</th>\n      <td>Arizona</td>\n      <td>1334.245</td>\n      <td>1387.581</td>\n      <td>1482.938</td>\n      <td>1433.423</td>\n      <td>1451.814</td>\n      <td>1485.783</td>\n      <td>1565.931</td>\n      <td>1647.698</td>\n      <td>1694.202</td>\n      <td>...</td>\n      <td>1894.816</td>\n      <td>1994.613</td>\n      <td>1811.447</td>\n      <td>1596.965</td>\n      <td>1388.926</td>\n      <td>1189.758</td>\n      <td>1175.529</td>\n      <td>1207.277</td>\n      <td>1209.132</td>\n      <td>1176.797</td>\n    </tr>\n    <tr>\n      <th>4</th>\n      <td>Arkansas</td>\n      <td>818.852</td>\n      <td>851.586</td>\n      <td>932.240</td>\n      <td>922.080</td>\n      <td>954.727</td>\n      <td>1002.030</td>\n      <td>1082.284</td>\n      <td>1166.251</td>\n      <td>1227.278</td>\n      <td>...</td>\n      <td>703.331</td>\n      <td>646.685</td>\n      <td>695.219</td>\n      <td>725.506</td>\n      <td>748.719</td>\n      <td>764.869</td>\n      <td>784.183</td>\n      <td>836.215</td>\n      <td>870.164</td>\n      <td>846.894</td>\n    </tr>\n    <tr>\n      <th>5</th>\n      <td>California</td>\n      <td>6242.776</td>\n      <td>6492.330</td>\n      <td>6675.239</td>\n      <td>6202.962</td>\n      <td>6034.941</td>\n      <td>6411.536</td>\n      <td>7004.449</td>\n      <td>7629.059</td>\n      <td>8109.436</td>\n      <td>...</td>\n      <td>6948.694</td>\n      <td>6967.680</td>\n      <td>7253.290</td>\n      <td>7360.099</td>\n      <td>7410.836</td>\n      <td>7407.330</td>\n      <td>6781.600</td>\n      <td>6382.483</td>\n      <td>5775.840</td>\n      <td>5621.377</td>\n    </tr>\n  </tbody>\n</table>\n<p>5 rows × 27 columns</p>\n</div>"
     },
     "metadata": {},
     "execution_count": 111
    }
   ],
   "source": [
    "state_infra.head()"
   ]
  },
  {
   "cell_type": "code",
   "execution_count": 112,
   "metadata": {},
   "outputs": [
    {
     "output_type": "execute_result",
     "data": {
      "text/plain": [
       "              1992         1993         1994         1995         1996  \\\n",
       "count    51.000000    51.000000    51.000000    51.000000    51.000000   \n",
       "mean   1707.976275  1776.252471  1879.209725  1798.359745  1803.459157   \n",
       "std    1535.035137  1596.397877  1696.785781  1639.802239  1668.793601   \n",
       "min     198.994000   206.949000   203.089000   179.179000   164.472000   \n",
       "25%     700.548000   728.552000   718.959500   661.342500   595.157000   \n",
       "50%    1278.434000  1329.539000  1386.588000  1284.837000  1252.957000   \n",
       "75%    2030.464500  2111.632500  2300.296500  2364.265000  2510.580500   \n",
       "max    6242.776000  6492.330000  7034.823000  7034.504000  7357.651000   \n",
       "\n",
       "              1997         1998         1999         2000         2001  ...  \\\n",
       "count    51.000000    51.000000    51.000000    51.000000    51.000000  ...   \n",
       "mean   1841.780490  1937.066216  2033.951078  2086.992627  2187.501941  ...   \n",
       "std    1704.209766  1796.087998  1893.736470  1955.112046  2065.925301  ...   \n",
       "min     156.700000   146.386000   134.366000   118.025000   102.907000  ...   \n",
       "25%     619.531500   663.919000   710.077500   741.884500   791.543500  ...   \n",
       "50%    1307.950000  1400.288000  1496.583000  1545.398000  1561.372000  ...   \n",
       "75%    2548.151500  2637.289500  2692.122500  2698.556000  2821.671500  ...   \n",
       "max    7240.305000  7327.041000  7629.059000  8109.436000  8794.964000  ...   \n",
       "\n",
       "              2008         2009         2010         2011         2012  \\\n",
       "count    51.000000    51.000000    51.000000    51.000000    51.000000   \n",
       "mean   1764.384549  1785.609784  1757.944627  1692.022510  1620.294098   \n",
       "std    1738.168207  1781.349621  1771.084915  1728.774244  1685.383806   \n",
       "min     128.112000   101.135000   133.891000   161.907000   186.679000   \n",
       "25%     684.234500   643.215500   664.360500   666.236000   660.214000   \n",
       "50%    1328.456000  1314.026000  1287.155000  1216.143000  1142.809000   \n",
       "75%    2095.905000  2060.862500  2081.800000  1990.178000  1766.585000   \n",
       "max    6948.694000  6980.372000  7253.290000  7360.099000  7410.836000   \n",
       "\n",
       "              2013         2014         2015         2016         2017  \n",
       "count    51.000000    51.000000    51.000000    51.000000    51.000000  \n",
       "mean   1543.954098  1566.681529  1653.645902  1703.462294  1657.906804  \n",
       "std    1640.618687  1655.442345  1750.812897  1820.784406  1772.091341  \n",
       "min     187.852000   197.937000   213.080000   190.406000   185.314000  \n",
       "25%     574.771500   593.965500   584.908500   554.740500   539.905000  \n",
       "50%    1068.212000  1106.495000  1106.616000  1095.594000  1066.295000  \n",
       "75%    1716.745000  1665.778500  1728.146500  1844.587000  1795.257000  \n",
       "max    7407.330000  7380.175000  7786.987000  8018.635000  7804.194000  \n",
       "\n",
       "[8 rows x 26 columns]"
      ],
      "text/html": "<div>\n<style scoped>\n    .dataframe tbody tr th:only-of-type {\n        vertical-align: middle;\n    }\n\n    .dataframe tbody tr th {\n        vertical-align: top;\n    }\n\n    .dataframe thead th {\n        text-align: right;\n    }\n</style>\n<table border=\"1\" class=\"dataframe\">\n  <thead>\n    <tr style=\"text-align: right;\">\n      <th></th>\n      <th>1992</th>\n      <th>1993</th>\n      <th>1994</th>\n      <th>1995</th>\n      <th>1996</th>\n      <th>1997</th>\n      <th>1998</th>\n      <th>1999</th>\n      <th>2000</th>\n      <th>2001</th>\n      <th>...</th>\n      <th>2008</th>\n      <th>2009</th>\n      <th>2010</th>\n      <th>2011</th>\n      <th>2012</th>\n      <th>2013</th>\n      <th>2014</th>\n      <th>2015</th>\n      <th>2016</th>\n      <th>2017</th>\n    </tr>\n  </thead>\n  <tbody>\n    <tr>\n      <th>count</th>\n      <td>51.000000</td>\n      <td>51.000000</td>\n      <td>51.000000</td>\n      <td>51.000000</td>\n      <td>51.000000</td>\n      <td>51.000000</td>\n      <td>51.000000</td>\n      <td>51.000000</td>\n      <td>51.000000</td>\n      <td>51.000000</td>\n      <td>...</td>\n      <td>51.000000</td>\n      <td>51.000000</td>\n      <td>51.000000</td>\n      <td>51.000000</td>\n      <td>51.000000</td>\n      <td>51.000000</td>\n      <td>51.000000</td>\n      <td>51.000000</td>\n      <td>51.000000</td>\n      <td>51.000000</td>\n    </tr>\n    <tr>\n      <th>mean</th>\n      <td>1707.976275</td>\n      <td>1776.252471</td>\n      <td>1879.209725</td>\n      <td>1798.359745</td>\n      <td>1803.459157</td>\n      <td>1841.780490</td>\n      <td>1937.066216</td>\n      <td>2033.951078</td>\n      <td>2086.992627</td>\n      <td>2187.501941</td>\n      <td>...</td>\n      <td>1764.384549</td>\n      <td>1785.609784</td>\n      <td>1757.944627</td>\n      <td>1692.022510</td>\n      <td>1620.294098</td>\n      <td>1543.954098</td>\n      <td>1566.681529</td>\n      <td>1653.645902</td>\n      <td>1703.462294</td>\n      <td>1657.906804</td>\n    </tr>\n    <tr>\n      <th>std</th>\n      <td>1535.035137</td>\n      <td>1596.397877</td>\n      <td>1696.785781</td>\n      <td>1639.802239</td>\n      <td>1668.793601</td>\n      <td>1704.209766</td>\n      <td>1796.087998</td>\n      <td>1893.736470</td>\n      <td>1955.112046</td>\n      <td>2065.925301</td>\n      <td>...</td>\n      <td>1738.168207</td>\n      <td>1781.349621</td>\n      <td>1771.084915</td>\n      <td>1728.774244</td>\n      <td>1685.383806</td>\n      <td>1640.618687</td>\n      <td>1655.442345</td>\n      <td>1750.812897</td>\n      <td>1820.784406</td>\n      <td>1772.091341</td>\n    </tr>\n    <tr>\n      <th>min</th>\n      <td>198.994000</td>\n      <td>206.949000</td>\n      <td>203.089000</td>\n      <td>179.179000</td>\n      <td>164.472000</td>\n      <td>156.700000</td>\n      <td>146.386000</td>\n      <td>134.366000</td>\n      <td>118.025000</td>\n      <td>102.907000</td>\n      <td>...</td>\n      <td>128.112000</td>\n      <td>101.135000</td>\n      <td>133.891000</td>\n      <td>161.907000</td>\n      <td>186.679000</td>\n      <td>187.852000</td>\n      <td>197.937000</td>\n      <td>213.080000</td>\n      <td>190.406000</td>\n      <td>185.314000</td>\n    </tr>\n    <tr>\n      <th>25%</th>\n      <td>700.548000</td>\n      <td>728.552000</td>\n      <td>718.959500</td>\n      <td>661.342500</td>\n      <td>595.157000</td>\n      <td>619.531500</td>\n      <td>663.919000</td>\n      <td>710.077500</td>\n      <td>741.884500</td>\n      <td>791.543500</td>\n      <td>...</td>\n      <td>684.234500</td>\n      <td>643.215500</td>\n      <td>664.360500</td>\n      <td>666.236000</td>\n      <td>660.214000</td>\n      <td>574.771500</td>\n      <td>593.965500</td>\n      <td>584.908500</td>\n      <td>554.740500</td>\n      <td>539.905000</td>\n    </tr>\n    <tr>\n      <th>50%</th>\n      <td>1278.434000</td>\n      <td>1329.539000</td>\n      <td>1386.588000</td>\n      <td>1284.837000</td>\n      <td>1252.957000</td>\n      <td>1307.950000</td>\n      <td>1400.288000</td>\n      <td>1496.583000</td>\n      <td>1545.398000</td>\n      <td>1561.372000</td>\n      <td>...</td>\n      <td>1328.456000</td>\n      <td>1314.026000</td>\n      <td>1287.155000</td>\n      <td>1216.143000</td>\n      <td>1142.809000</td>\n      <td>1068.212000</td>\n      <td>1106.495000</td>\n      <td>1106.616000</td>\n      <td>1095.594000</td>\n      <td>1066.295000</td>\n    </tr>\n    <tr>\n      <th>75%</th>\n      <td>2030.464500</td>\n      <td>2111.632500</td>\n      <td>2300.296500</td>\n      <td>2364.265000</td>\n      <td>2510.580500</td>\n      <td>2548.151500</td>\n      <td>2637.289500</td>\n      <td>2692.122500</td>\n      <td>2698.556000</td>\n      <td>2821.671500</td>\n      <td>...</td>\n      <td>2095.905000</td>\n      <td>2060.862500</td>\n      <td>2081.800000</td>\n      <td>1990.178000</td>\n      <td>1766.585000</td>\n      <td>1716.745000</td>\n      <td>1665.778500</td>\n      <td>1728.146500</td>\n      <td>1844.587000</td>\n      <td>1795.257000</td>\n    </tr>\n    <tr>\n      <th>max</th>\n      <td>6242.776000</td>\n      <td>6492.330000</td>\n      <td>7034.823000</td>\n      <td>7034.504000</td>\n      <td>7357.651000</td>\n      <td>7240.305000</td>\n      <td>7327.041000</td>\n      <td>7629.059000</td>\n      <td>8109.436000</td>\n      <td>8794.964000</td>\n      <td>...</td>\n      <td>6948.694000</td>\n      <td>6980.372000</td>\n      <td>7253.290000</td>\n      <td>7360.099000</td>\n      <td>7410.836000</td>\n      <td>7407.330000</td>\n      <td>7380.175000</td>\n      <td>7786.987000</td>\n      <td>8018.635000</td>\n      <td>7804.194000</td>\n    </tr>\n  </tbody>\n</table>\n<p>8 rows × 26 columns</p>\n</div>"
     },
     "metadata": {},
     "execution_count": 112
    }
   ],
   "source": [
    "state_meta = state_infra.describe(include=[np.number])\n",
    "state_meta"
   ]
  },
  {
   "cell_type": "code",
   "execution_count": 113,
   "metadata": {},
   "outputs": [
    {
     "output_type": "display_data",
     "data": {
      "application/vnd.plotly.v1+json": {
       "config": {
        "plotlyServerURL": "https://plot.ly"
       },
       "data": [
        {
         "name": "mean",
         "type": "scatter",
         "x": [
          1992,
          1993,
          1994,
          1995,
          1996,
          1997,
          1998,
          1999,
          2000,
          2001,
          2002,
          2003,
          2004,
          2005,
          2006,
          2007,
          2008,
          2009,
          2010,
          2011,
          2012,
          2013,
          2014,
          2015,
          2016,
          2017
         ],
         "y": [
          1707.9762745098042,
          1776.2524705882342,
          1879.2097254901955,
          1798.3597450980394,
          1803.4591568627452,
          1841.780490196078,
          1937.066215686274,
          2033.9510784313727,
          2086.9926274509803,
          2187.501941176471,
          2191.0560392156863,
          2116.324764705882,
          2115.740254901961,
          2053.4596274509813,
          2023.135137254902,
          1879.28068627451,
          1764.384549019608,
          1785.6097843137252,
          1757.9446274509805,
          1692.0225098039216,
          1620.2940980392152,
          1543.9540980392158,
          1566.681529411765,
          1653.645901960784,
          1703.462294117647,
          1657.9068039215683
         ]
        },
        {
         "name": "max",
         "type": "scatter",
         "x": [
          1992,
          1993,
          1994,
          1995,
          1996,
          1997,
          1998,
          1999,
          2000,
          2001,
          2002,
          2003,
          2004,
          2005,
          2006,
          2007,
          2008,
          2009,
          2010,
          2011,
          2012,
          2013,
          2014,
          2015,
          2016,
          2017
         ],
         "y": [
          6242.776,
          6492.33,
          7034.823,
          7034.504,
          7357.651,
          7240.305,
          7327.041,
          7629.059,
          8109.436,
          8794.964,
          9104.712,
          8717.602,
          8638.644,
          8310.053,
          8114.134,
          7469.186,
          6948.694,
          6980.372,
          7253.29,
          7360.099,
          7410.836,
          7407.33,
          7380.175,
          7786.987,
          8018.635,
          7804.194
         ]
        },
        {
         "name": "min",
         "type": "scatter",
         "x": [
          1992,
          1993,
          1994,
          1995,
          1996,
          1997,
          1998,
          1999,
          2000,
          2001,
          2002,
          2003,
          2004,
          2005,
          2006,
          2007,
          2008,
          2009,
          2010,
          2011,
          2012,
          2013,
          2014,
          2015,
          2016,
          2017
         ],
         "y": [
          198.994,
          206.949,
          203.089,
          179.179,
          164.472,
          156.7,
          146.386,
          134.366,
          118.025,
          102.907,
          82.239,
          113.493,
          147.512,
          176.217,
          206.175,
          166.469,
          128.112,
          101.135,
          133.891,
          161.907,
          186.679,
          187.852,
          197.937,
          213.08,
          190.406,
          185.314
         ]
        }
       ],
       "layout": {
        "template": {
         "data": {
          "bar": [
           {
            "error_x": {
             "color": "#2a3f5f"
            },
            "error_y": {
             "color": "#2a3f5f"
            },
            "marker": {
             "line": {
              "color": "#E5ECF6",
              "width": 0.5
             }
            },
            "type": "bar"
           }
          ],
          "barpolar": [
           {
            "marker": {
             "line": {
              "color": "#E5ECF6",
              "width": 0.5
             }
            },
            "type": "barpolar"
           }
          ],
          "carpet": [
           {
            "aaxis": {
             "endlinecolor": "#2a3f5f",
             "gridcolor": "white",
             "linecolor": "white",
             "minorgridcolor": "white",
             "startlinecolor": "#2a3f5f"
            },
            "baxis": {
             "endlinecolor": "#2a3f5f",
             "gridcolor": "white",
             "linecolor": "white",
             "minorgridcolor": "white",
             "startlinecolor": "#2a3f5f"
            },
            "type": "carpet"
           }
          ],
          "choropleth": [
           {
            "colorbar": {
             "outlinewidth": 0,
             "ticks": ""
            },
            "type": "choropleth"
           }
          ],
          "contour": [
           {
            "colorbar": {
             "outlinewidth": 0,
             "ticks": ""
            },
            "colorscale": [
             [
              0,
              "#0d0887"
             ],
             [
              0.1111111111111111,
              "#46039f"
             ],
             [
              0.2222222222222222,
              "#7201a8"
             ],
             [
              0.3333333333333333,
              "#9c179e"
             ],
             [
              0.4444444444444444,
              "#bd3786"
             ],
             [
              0.5555555555555556,
              "#d8576b"
             ],
             [
              0.6666666666666666,
              "#ed7953"
             ],
             [
              0.7777777777777778,
              "#fb9f3a"
             ],
             [
              0.8888888888888888,
              "#fdca26"
             ],
             [
              1,
              "#f0f921"
             ]
            ],
            "type": "contour"
           }
          ],
          "contourcarpet": [
           {
            "colorbar": {
             "outlinewidth": 0,
             "ticks": ""
            },
            "type": "contourcarpet"
           }
          ],
          "heatmap": [
           {
            "colorbar": {
             "outlinewidth": 0,
             "ticks": ""
            },
            "colorscale": [
             [
              0,
              "#0d0887"
             ],
             [
              0.1111111111111111,
              "#46039f"
             ],
             [
              0.2222222222222222,
              "#7201a8"
             ],
             [
              0.3333333333333333,
              "#9c179e"
             ],
             [
              0.4444444444444444,
              "#bd3786"
             ],
             [
              0.5555555555555556,
              "#d8576b"
             ],
             [
              0.6666666666666666,
              "#ed7953"
             ],
             [
              0.7777777777777778,
              "#fb9f3a"
             ],
             [
              0.8888888888888888,
              "#fdca26"
             ],
             [
              1,
              "#f0f921"
             ]
            ],
            "type": "heatmap"
           }
          ],
          "heatmapgl": [
           {
            "colorbar": {
             "outlinewidth": 0,
             "ticks": ""
            },
            "colorscale": [
             [
              0,
              "#0d0887"
             ],
             [
              0.1111111111111111,
              "#46039f"
             ],
             [
              0.2222222222222222,
              "#7201a8"
             ],
             [
              0.3333333333333333,
              "#9c179e"
             ],
             [
              0.4444444444444444,
              "#bd3786"
             ],
             [
              0.5555555555555556,
              "#d8576b"
             ],
             [
              0.6666666666666666,
              "#ed7953"
             ],
             [
              0.7777777777777778,
              "#fb9f3a"
             ],
             [
              0.8888888888888888,
              "#fdca26"
             ],
             [
              1,
              "#f0f921"
             ]
            ],
            "type": "heatmapgl"
           }
          ],
          "histogram": [
           {
            "marker": {
             "colorbar": {
              "outlinewidth": 0,
              "ticks": ""
             }
            },
            "type": "histogram"
           }
          ],
          "histogram2d": [
           {
            "colorbar": {
             "outlinewidth": 0,
             "ticks": ""
            },
            "colorscale": [
             [
              0,
              "#0d0887"
             ],
             [
              0.1111111111111111,
              "#46039f"
             ],
             [
              0.2222222222222222,
              "#7201a8"
             ],
             [
              0.3333333333333333,
              "#9c179e"
             ],
             [
              0.4444444444444444,
              "#bd3786"
             ],
             [
              0.5555555555555556,
              "#d8576b"
             ],
             [
              0.6666666666666666,
              "#ed7953"
             ],
             [
              0.7777777777777778,
              "#fb9f3a"
             ],
             [
              0.8888888888888888,
              "#fdca26"
             ],
             [
              1,
              "#f0f921"
             ]
            ],
            "type": "histogram2d"
           }
          ],
          "histogram2dcontour": [
           {
            "colorbar": {
             "outlinewidth": 0,
             "ticks": ""
            },
            "colorscale": [
             [
              0,
              "#0d0887"
             ],
             [
              0.1111111111111111,
              "#46039f"
             ],
             [
              0.2222222222222222,
              "#7201a8"
             ],
             [
              0.3333333333333333,
              "#9c179e"
             ],
             [
              0.4444444444444444,
              "#bd3786"
             ],
             [
              0.5555555555555556,
              "#d8576b"
             ],
             [
              0.6666666666666666,
              "#ed7953"
             ],
             [
              0.7777777777777778,
              "#fb9f3a"
             ],
             [
              0.8888888888888888,
              "#fdca26"
             ],
             [
              1,
              "#f0f921"
             ]
            ],
            "type": "histogram2dcontour"
           }
          ],
          "mesh3d": [
           {
            "colorbar": {
             "outlinewidth": 0,
             "ticks": ""
            },
            "type": "mesh3d"
           }
          ],
          "parcoords": [
           {
            "line": {
             "colorbar": {
              "outlinewidth": 0,
              "ticks": ""
             }
            },
            "type": "parcoords"
           }
          ],
          "pie": [
           {
            "automargin": true,
            "type": "pie"
           }
          ],
          "scatter": [
           {
            "marker": {
             "colorbar": {
              "outlinewidth": 0,
              "ticks": ""
             }
            },
            "type": "scatter"
           }
          ],
          "scatter3d": [
           {
            "line": {
             "colorbar": {
              "outlinewidth": 0,
              "ticks": ""
             }
            },
            "marker": {
             "colorbar": {
              "outlinewidth": 0,
              "ticks": ""
             }
            },
            "type": "scatter3d"
           }
          ],
          "scattercarpet": [
           {
            "marker": {
             "colorbar": {
              "outlinewidth": 0,
              "ticks": ""
             }
            },
            "type": "scattercarpet"
           }
          ],
          "scattergeo": [
           {
            "marker": {
             "colorbar": {
              "outlinewidth": 0,
              "ticks": ""
             }
            },
            "type": "scattergeo"
           }
          ],
          "scattergl": [
           {
            "marker": {
             "colorbar": {
              "outlinewidth": 0,
              "ticks": ""
             }
            },
            "type": "scattergl"
           }
          ],
          "scattermapbox": [
           {
            "marker": {
             "colorbar": {
              "outlinewidth": 0,
              "ticks": ""
             }
            },
            "type": "scattermapbox"
           }
          ],
          "scatterpolar": [
           {
            "marker": {
             "colorbar": {
              "outlinewidth": 0,
              "ticks": ""
             }
            },
            "type": "scatterpolar"
           }
          ],
          "scatterpolargl": [
           {
            "marker": {
             "colorbar": {
              "outlinewidth": 0,
              "ticks": ""
             }
            },
            "type": "scatterpolargl"
           }
          ],
          "scatterternary": [
           {
            "marker": {
             "colorbar": {
              "outlinewidth": 0,
              "ticks": ""
             }
            },
            "type": "scatterternary"
           }
          ],
          "surface": [
           {
            "colorbar": {
             "outlinewidth": 0,
             "ticks": ""
            },
            "colorscale": [
             [
              0,
              "#0d0887"
             ],
             [
              0.1111111111111111,
              "#46039f"
             ],
             [
              0.2222222222222222,
              "#7201a8"
             ],
             [
              0.3333333333333333,
              "#9c179e"
             ],
             [
              0.4444444444444444,
              "#bd3786"
             ],
             [
              0.5555555555555556,
              "#d8576b"
             ],
             [
              0.6666666666666666,
              "#ed7953"
             ],
             [
              0.7777777777777778,
              "#fb9f3a"
             ],
             [
              0.8888888888888888,
              "#fdca26"
             ],
             [
              1,
              "#f0f921"
             ]
            ],
            "type": "surface"
           }
          ],
          "table": [
           {
            "cells": {
             "fill": {
              "color": "#EBF0F8"
             },
             "line": {
              "color": "white"
             }
            },
            "header": {
             "fill": {
              "color": "#C8D4E3"
             },
             "line": {
              "color": "white"
             }
            },
            "type": "table"
           }
          ]
         },
         "layout": {
          "annotationdefaults": {
           "arrowcolor": "#2a3f5f",
           "arrowhead": 0,
           "arrowwidth": 1
          },
          "coloraxis": {
           "colorbar": {
            "outlinewidth": 0,
            "ticks": ""
           }
          },
          "colorscale": {
           "diverging": [
            [
             0,
             "#8e0152"
            ],
            [
             0.1,
             "#c51b7d"
            ],
            [
             0.2,
             "#de77ae"
            ],
            [
             0.3,
             "#f1b6da"
            ],
            [
             0.4,
             "#fde0ef"
            ],
            [
             0.5,
             "#f7f7f7"
            ],
            [
             0.6,
             "#e6f5d0"
            ],
            [
             0.7,
             "#b8e186"
            ],
            [
             0.8,
             "#7fbc41"
            ],
            [
             0.9,
             "#4d9221"
            ],
            [
             1,
             "#276419"
            ]
           ],
           "sequential": [
            [
             0,
             "#0d0887"
            ],
            [
             0.1111111111111111,
             "#46039f"
            ],
            [
             0.2222222222222222,
             "#7201a8"
            ],
            [
             0.3333333333333333,
             "#9c179e"
            ],
            [
             0.4444444444444444,
             "#bd3786"
            ],
            [
             0.5555555555555556,
             "#d8576b"
            ],
            [
             0.6666666666666666,
             "#ed7953"
            ],
            [
             0.7777777777777778,
             "#fb9f3a"
            ],
            [
             0.8888888888888888,
             "#fdca26"
            ],
            [
             1,
             "#f0f921"
            ]
           ],
           "sequentialminus": [
            [
             0,
             "#0d0887"
            ],
            [
             0.1111111111111111,
             "#46039f"
            ],
            [
             0.2222222222222222,
             "#7201a8"
            ],
            [
             0.3333333333333333,
             "#9c179e"
            ],
            [
             0.4444444444444444,
             "#bd3786"
            ],
            [
             0.5555555555555556,
             "#d8576b"
            ],
            [
             0.6666666666666666,
             "#ed7953"
            ],
            [
             0.7777777777777778,
             "#fb9f3a"
            ],
            [
             0.8888888888888888,
             "#fdca26"
            ],
            [
             1,
             "#f0f921"
            ]
           ]
          },
          "colorway": [
           "#636efa",
           "#EF553B",
           "#00cc96",
           "#ab63fa",
           "#FFA15A",
           "#19d3f3",
           "#FF6692",
           "#B6E880",
           "#FF97FF",
           "#FECB52"
          ],
          "font": {
           "color": "#2a3f5f"
          },
          "geo": {
           "bgcolor": "white",
           "lakecolor": "white",
           "landcolor": "#E5ECF6",
           "showlakes": true,
           "showland": true,
           "subunitcolor": "white"
          },
          "hoverlabel": {
           "align": "left"
          },
          "hovermode": "closest",
          "mapbox": {
           "style": "light"
          },
          "paper_bgcolor": "white",
          "plot_bgcolor": "#E5ECF6",
          "polar": {
           "angularaxis": {
            "gridcolor": "white",
            "linecolor": "white",
            "ticks": ""
           },
           "bgcolor": "#E5ECF6",
           "radialaxis": {
            "gridcolor": "white",
            "linecolor": "white",
            "ticks": ""
           }
          },
          "scene": {
           "xaxis": {
            "backgroundcolor": "#E5ECF6",
            "gridcolor": "white",
            "gridwidth": 2,
            "linecolor": "white",
            "showbackground": true,
            "ticks": "",
            "zerolinecolor": "white"
           },
           "yaxis": {
            "backgroundcolor": "#E5ECF6",
            "gridcolor": "white",
            "gridwidth": 2,
            "linecolor": "white",
            "showbackground": true,
            "ticks": "",
            "zerolinecolor": "white"
           },
           "zaxis": {
            "backgroundcolor": "#E5ECF6",
            "gridcolor": "white",
            "gridwidth": 2,
            "linecolor": "white",
            "showbackground": true,
            "ticks": "",
            "zerolinecolor": "white"
           }
          },
          "shapedefaults": {
           "line": {
            "color": "#2a3f5f"
           }
          },
          "ternary": {
           "aaxis": {
            "gridcolor": "white",
            "linecolor": "white",
            "ticks": ""
           },
           "baxis": {
            "gridcolor": "white",
            "linecolor": "white",
            "ticks": ""
           },
           "bgcolor": "#E5ECF6",
           "caxis": {
            "gridcolor": "white",
            "linecolor": "white",
            "ticks": ""
           }
          },
          "title": {
           "x": 0.05
          },
          "xaxis": {
           "automargin": true,
           "gridcolor": "white",
           "linecolor": "white",
           "ticks": "",
           "title": {
            "standoff": 15
           },
           "zerolinecolor": "white",
           "zerolinewidth": 2
          },
          "yaxis": {
           "automargin": true,
           "gridcolor": "white",
           "linecolor": "white",
           "ticks": "",
           "title": {
            "standoff": 15
           },
           "zerolinecolor": "white",
           "zerolinewidth": 2
          }
         }
        }
       }
      },
      "text/html": "<div>\n        \n        \n            <div id=\"f364e358-494f-4ac4-98fc-e35c442e6016\" class=\"plotly-graph-div\" style=\"height:525px; width:100%;\"></div>\n            <script type=\"text/javascript\">\n                require([\"plotly\"], function(Plotly) {\n                    window.PLOTLYENV=window.PLOTLYENV || {};\n                    \n                if (document.getElementById(\"f364e358-494f-4ac4-98fc-e35c442e6016\")) {\n                    Plotly.newPlot(\n                        'f364e358-494f-4ac4-98fc-e35c442e6016',\n                        [{\"name\": \"mean\", \"type\": \"scatter\", \"x\": [1992, 1993, 1994, 1995, 1996, 1997, 1998, 1999, 2000, 2001, 2002, 2003, 2004, 2005, 2006, 2007, 2008, 2009, 2010, 2011, 2012, 2013, 2014, 2015, 2016, 2017], \"y\": [1707.9762745098042, 1776.2524705882342, 1879.2097254901955, 1798.3597450980394, 1803.4591568627452, 1841.780490196078, 1937.066215686274, 2033.9510784313727, 2086.9926274509803, 2187.501941176471, 2191.0560392156863, 2116.324764705882, 2115.740254901961, 2053.4596274509813, 2023.135137254902, 1879.28068627451, 1764.384549019608, 1785.6097843137252, 1757.9446274509805, 1692.0225098039216, 1620.2940980392152, 1543.9540980392158, 1566.681529411765, 1653.645901960784, 1703.462294117647, 1657.9068039215683]}, {\"name\": \"max\", \"type\": \"scatter\", \"x\": [1992, 1993, 1994, 1995, 1996, 1997, 1998, 1999, 2000, 2001, 2002, 2003, 2004, 2005, 2006, 2007, 2008, 2009, 2010, 2011, 2012, 2013, 2014, 2015, 2016, 2017], \"y\": [6242.776, 6492.33, 7034.823, 7034.504, 7357.651, 7240.305, 7327.041, 7629.059, 8109.436, 8794.964, 9104.712, 8717.602, 8638.644, 8310.053, 8114.134, 7469.186, 6948.694, 6980.372, 7253.29, 7360.099, 7410.836, 7407.33, 7380.175, 7786.987, 8018.635, 7804.194]}, {\"name\": \"min\", \"type\": \"scatter\", \"x\": [1992, 1993, 1994, 1995, 1996, 1997, 1998, 1999, 2000, 2001, 2002, 2003, 2004, 2005, 2006, 2007, 2008, 2009, 2010, 2011, 2012, 2013, 2014, 2015, 2016, 2017], \"y\": [198.994, 206.949, 203.089, 179.179, 164.472, 156.7, 146.386, 134.366, 118.025, 102.907, 82.239, 113.493, 147.512, 176.217, 206.175, 166.469, 128.112, 101.135, 133.891, 161.907, 186.679, 187.852, 197.937, 213.08, 190.406, 185.314]}],\n                        {\"template\": {\"data\": {\"bar\": [{\"error_x\": {\"color\": \"#2a3f5f\"}, \"error_y\": {\"color\": \"#2a3f5f\"}, \"marker\": {\"line\": {\"color\": \"#E5ECF6\", \"width\": 0.5}}, \"type\": \"bar\"}], \"barpolar\": [{\"marker\": {\"line\": {\"color\": \"#E5ECF6\", \"width\": 0.5}}, \"type\": \"barpolar\"}], \"carpet\": [{\"aaxis\": {\"endlinecolor\": \"#2a3f5f\", \"gridcolor\": \"white\", \"linecolor\": \"white\", \"minorgridcolor\": \"white\", \"startlinecolor\": \"#2a3f5f\"}, \"baxis\": {\"endlinecolor\": \"#2a3f5f\", \"gridcolor\": \"white\", \"linecolor\": \"white\", \"minorgridcolor\": \"white\", \"startlinecolor\": \"#2a3f5f\"}, \"type\": \"carpet\"}], \"choropleth\": [{\"colorbar\": {\"outlinewidth\": 0, \"ticks\": \"\"}, \"type\": \"choropleth\"}], \"contour\": [{\"colorbar\": {\"outlinewidth\": 0, \"ticks\": \"\"}, \"colorscale\": [[0.0, \"#0d0887\"], [0.1111111111111111, \"#46039f\"], [0.2222222222222222, \"#7201a8\"], [0.3333333333333333, \"#9c179e\"], [0.4444444444444444, \"#bd3786\"], [0.5555555555555556, \"#d8576b\"], [0.6666666666666666, \"#ed7953\"], [0.7777777777777778, \"#fb9f3a\"], [0.8888888888888888, \"#fdca26\"], [1.0, \"#f0f921\"]], \"type\": \"contour\"}], \"contourcarpet\": [{\"colorbar\": {\"outlinewidth\": 0, \"ticks\": \"\"}, \"type\": \"contourcarpet\"}], \"heatmap\": [{\"colorbar\": {\"outlinewidth\": 0, \"ticks\": \"\"}, \"colorscale\": [[0.0, \"#0d0887\"], [0.1111111111111111, \"#46039f\"], [0.2222222222222222, \"#7201a8\"], [0.3333333333333333, \"#9c179e\"], [0.4444444444444444, \"#bd3786\"], [0.5555555555555556, \"#d8576b\"], [0.6666666666666666, \"#ed7953\"], [0.7777777777777778, \"#fb9f3a\"], [0.8888888888888888, \"#fdca26\"], [1.0, \"#f0f921\"]], \"type\": \"heatmap\"}], \"heatmapgl\": [{\"colorbar\": {\"outlinewidth\": 0, \"ticks\": \"\"}, \"colorscale\": [[0.0, \"#0d0887\"], [0.1111111111111111, \"#46039f\"], [0.2222222222222222, \"#7201a8\"], [0.3333333333333333, \"#9c179e\"], [0.4444444444444444, \"#bd3786\"], [0.5555555555555556, \"#d8576b\"], [0.6666666666666666, \"#ed7953\"], [0.7777777777777778, \"#fb9f3a\"], [0.8888888888888888, \"#fdca26\"], [1.0, \"#f0f921\"]], \"type\": \"heatmapgl\"}], \"histogram\": [{\"marker\": {\"colorbar\": {\"outlinewidth\": 0, \"ticks\": \"\"}}, \"type\": \"histogram\"}], \"histogram2d\": [{\"colorbar\": {\"outlinewidth\": 0, \"ticks\": \"\"}, \"colorscale\": [[0.0, \"#0d0887\"], [0.1111111111111111, \"#46039f\"], [0.2222222222222222, \"#7201a8\"], [0.3333333333333333, \"#9c179e\"], [0.4444444444444444, \"#bd3786\"], [0.5555555555555556, \"#d8576b\"], [0.6666666666666666, \"#ed7953\"], [0.7777777777777778, \"#fb9f3a\"], [0.8888888888888888, \"#fdca26\"], [1.0, \"#f0f921\"]], \"type\": \"histogram2d\"}], \"histogram2dcontour\": [{\"colorbar\": {\"outlinewidth\": 0, \"ticks\": \"\"}, \"colorscale\": [[0.0, \"#0d0887\"], [0.1111111111111111, \"#46039f\"], [0.2222222222222222, \"#7201a8\"], [0.3333333333333333, \"#9c179e\"], [0.4444444444444444, \"#bd3786\"], [0.5555555555555556, \"#d8576b\"], [0.6666666666666666, \"#ed7953\"], [0.7777777777777778, \"#fb9f3a\"], [0.8888888888888888, \"#fdca26\"], [1.0, \"#f0f921\"]], \"type\": \"histogram2dcontour\"}], \"mesh3d\": [{\"colorbar\": {\"outlinewidth\": 0, \"ticks\": \"\"}, \"type\": \"mesh3d\"}], \"parcoords\": [{\"line\": {\"colorbar\": {\"outlinewidth\": 0, \"ticks\": \"\"}}, \"type\": \"parcoords\"}], \"pie\": [{\"automargin\": true, \"type\": \"pie\"}], \"scatter\": [{\"marker\": {\"colorbar\": {\"outlinewidth\": 0, \"ticks\": \"\"}}, \"type\": \"scatter\"}], \"scatter3d\": [{\"line\": {\"colorbar\": {\"outlinewidth\": 0, \"ticks\": \"\"}}, \"marker\": {\"colorbar\": {\"outlinewidth\": 0, \"ticks\": \"\"}}, \"type\": \"scatter3d\"}], \"scattercarpet\": [{\"marker\": {\"colorbar\": {\"outlinewidth\": 0, \"ticks\": \"\"}}, \"type\": \"scattercarpet\"}], \"scattergeo\": [{\"marker\": {\"colorbar\": {\"outlinewidth\": 0, \"ticks\": \"\"}}, \"type\": \"scattergeo\"}], \"scattergl\": [{\"marker\": {\"colorbar\": {\"outlinewidth\": 0, \"ticks\": \"\"}}, \"type\": \"scattergl\"}], \"scattermapbox\": [{\"marker\": {\"colorbar\": {\"outlinewidth\": 0, \"ticks\": \"\"}}, \"type\": \"scattermapbox\"}], \"scatterpolar\": [{\"marker\": {\"colorbar\": {\"outlinewidth\": 0, \"ticks\": \"\"}}, \"type\": \"scatterpolar\"}], \"scatterpolargl\": [{\"marker\": {\"colorbar\": {\"outlinewidth\": 0, \"ticks\": \"\"}}, \"type\": \"scatterpolargl\"}], \"scatterternary\": [{\"marker\": {\"colorbar\": {\"outlinewidth\": 0, \"ticks\": \"\"}}, \"type\": \"scatterternary\"}], \"surface\": [{\"colorbar\": {\"outlinewidth\": 0, \"ticks\": \"\"}, \"colorscale\": [[0.0, \"#0d0887\"], [0.1111111111111111, \"#46039f\"], [0.2222222222222222, \"#7201a8\"], [0.3333333333333333, \"#9c179e\"], [0.4444444444444444, \"#bd3786\"], [0.5555555555555556, \"#d8576b\"], [0.6666666666666666, \"#ed7953\"], [0.7777777777777778, \"#fb9f3a\"], [0.8888888888888888, \"#fdca26\"], [1.0, \"#f0f921\"]], \"type\": \"surface\"}], \"table\": [{\"cells\": {\"fill\": {\"color\": \"#EBF0F8\"}, \"line\": {\"color\": \"white\"}}, \"header\": {\"fill\": {\"color\": \"#C8D4E3\"}, \"line\": {\"color\": \"white\"}}, \"type\": \"table\"}]}, \"layout\": {\"annotationdefaults\": {\"arrowcolor\": \"#2a3f5f\", \"arrowhead\": 0, \"arrowwidth\": 1}, \"coloraxis\": {\"colorbar\": {\"outlinewidth\": 0, \"ticks\": \"\"}}, \"colorscale\": {\"diverging\": [[0, \"#8e0152\"], [0.1, \"#c51b7d\"], [0.2, \"#de77ae\"], [0.3, \"#f1b6da\"], [0.4, \"#fde0ef\"], [0.5, \"#f7f7f7\"], [0.6, \"#e6f5d0\"], [0.7, \"#b8e186\"], [0.8, \"#7fbc41\"], [0.9, \"#4d9221\"], [1, \"#276419\"]], \"sequential\": [[0.0, \"#0d0887\"], [0.1111111111111111, \"#46039f\"], [0.2222222222222222, \"#7201a8\"], [0.3333333333333333, \"#9c179e\"], [0.4444444444444444, \"#bd3786\"], [0.5555555555555556, \"#d8576b\"], [0.6666666666666666, \"#ed7953\"], [0.7777777777777778, \"#fb9f3a\"], [0.8888888888888888, \"#fdca26\"], [1.0, \"#f0f921\"]], \"sequentialminus\": [[0.0, \"#0d0887\"], [0.1111111111111111, \"#46039f\"], [0.2222222222222222, \"#7201a8\"], [0.3333333333333333, \"#9c179e\"], [0.4444444444444444, \"#bd3786\"], [0.5555555555555556, \"#d8576b\"], [0.6666666666666666, \"#ed7953\"], [0.7777777777777778, \"#fb9f3a\"], [0.8888888888888888, \"#fdca26\"], [1.0, \"#f0f921\"]]}, \"colorway\": [\"#636efa\", \"#EF553B\", \"#00cc96\", \"#ab63fa\", \"#FFA15A\", \"#19d3f3\", \"#FF6692\", \"#B6E880\", \"#FF97FF\", \"#FECB52\"], \"font\": {\"color\": \"#2a3f5f\"}, \"geo\": {\"bgcolor\": \"white\", \"lakecolor\": \"white\", \"landcolor\": \"#E5ECF6\", \"showlakes\": true, \"showland\": true, \"subunitcolor\": \"white\"}, \"hoverlabel\": {\"align\": \"left\"}, \"hovermode\": \"closest\", \"mapbox\": {\"style\": \"light\"}, \"paper_bgcolor\": \"white\", \"plot_bgcolor\": \"#E5ECF6\", \"polar\": {\"angularaxis\": {\"gridcolor\": \"white\", \"linecolor\": \"white\", \"ticks\": \"\"}, \"bgcolor\": \"#E5ECF6\", \"radialaxis\": {\"gridcolor\": \"white\", \"linecolor\": \"white\", \"ticks\": \"\"}}, \"scene\": {\"xaxis\": {\"backgroundcolor\": \"#E5ECF6\", \"gridcolor\": \"white\", \"gridwidth\": 2, \"linecolor\": \"white\", \"showbackground\": true, \"ticks\": \"\", \"zerolinecolor\": \"white\"}, \"yaxis\": {\"backgroundcolor\": \"#E5ECF6\", \"gridcolor\": \"white\", \"gridwidth\": 2, \"linecolor\": \"white\", \"showbackground\": true, \"ticks\": \"\", \"zerolinecolor\": \"white\"}, \"zaxis\": {\"backgroundcolor\": \"#E5ECF6\", \"gridcolor\": \"white\", \"gridwidth\": 2, \"linecolor\": \"white\", \"showbackground\": true, \"ticks\": \"\", \"zerolinecolor\": \"white\"}}, \"shapedefaults\": {\"line\": {\"color\": \"#2a3f5f\"}}, \"ternary\": {\"aaxis\": {\"gridcolor\": \"white\", \"linecolor\": \"white\", \"ticks\": \"\"}, \"baxis\": {\"gridcolor\": \"white\", \"linecolor\": \"white\", \"ticks\": \"\"}, \"bgcolor\": \"#E5ECF6\", \"caxis\": {\"gridcolor\": \"white\", \"linecolor\": \"white\", \"ticks\": \"\"}}, \"title\": {\"x\": 0.05}, \"xaxis\": {\"automargin\": true, \"gridcolor\": \"white\", \"linecolor\": \"white\", \"ticks\": \"\", \"title\": {\"standoff\": 15}, \"zerolinecolor\": \"white\", \"zerolinewidth\": 2}, \"yaxis\": {\"automargin\": true, \"gridcolor\": \"white\", \"linecolor\": \"white\", \"ticks\": \"\", \"title\": {\"standoff\": 15}, \"zerolinecolor\": \"white\", \"zerolinewidth\": 2}}}},\n                        {\"responsive\": true}\n                    ).then(function(){\n                            \nvar gd = document.getElementById('f364e358-494f-4ac4-98fc-e35c442e6016');\nvar x = new MutationObserver(function (mutations, observer) {{\n        var display = window.getComputedStyle(gd).display;\n        if (!display || display === 'none') {{\n            console.log([gd, 'removed!']);\n            Plotly.purge(gd);\n            observer.disconnect();\n        }}\n}});\n\n// Listen for the removal of the full notebook cells\nvar notebookContainer = gd.closest('#notebook-container');\nif (notebookContainer) {{\n    x.observe(notebookContainer, {childList: true});\n}}\n\n// Listen for the clearing of the current output cell\nvar outputEl = gd.closest('.output');\nif (outputEl) {{\n    x.observe(outputEl, {childList: true});\n}}\n\n                        })\n                };\n                });\n            </script>\n        </div>"
     },
     "metadata": {}
    }
   ],
   "source": [
    "  fig = go.Figure()\n",
    "  fig.add_trace(go.Scatter(x=state_meta.columns, y=state_meta.loc['mean'], name=\"mean\"))\n",
    "  fig.add_trace(go.Scatter(x=state_meta.columns, y=state_meta.loc['max'], name=\"max\"))\n",
    "  fig.add_trace(go.Scatter(x=state_meta.columns, y=state_meta.loc['min'], name=\"min\"))\n",
    "  fig.show()"
   ]
  },
  {
   "cell_type": "code",
   "execution_count": 114,
   "metadata": {},
   "outputs": [
    {
     "output_type": "display_data",
     "data": {
      "application/vnd.plotly.v1+json": {
       "config": {
        "plotlyServerURL": "https://plot.ly"
       },
       "data": [
        {
         "labels": [
          "Alabama",
          "Alaska",
          "Arizona",
          "Arkansas",
          "California",
          "Colorado",
          "Connecticut",
          "Delaware",
          "District of Columbia",
          "Florida",
          "Georgia",
          "Hawaii",
          "Idaho",
          "Illinois",
          "Indiana",
          "Iowa",
          "Kansas",
          "Kentucky",
          "Louisiana",
          "Maine",
          "Maryland",
          "Massachusetts",
          "Michigan",
          "Minnesota",
          "Mississippi",
          "Missouri",
          "Montana",
          "Nebraska",
          "Nevada",
          "New Hampshire",
          "New Jersey",
          "New Mexico",
          "New York",
          "North Carolina",
          "North Dakota",
          "Ohio",
          "Oklahoma",
          "Oregon",
          "Pennsylvania",
          "Rhode Island",
          "South Carolina",
          "South Dakota",
          "Tennessee",
          "Texas",
          "Utah",
          "Vermont",
          "Virginia",
          "Washington",
          "West Virginia",
          "Wisconsin",
          "Wyoming"
         ],
         "parents": [
          "",
          "",
          "",
          "",
          "",
          "",
          "",
          "",
          "",
          "",
          "",
          "",
          "",
          "",
          "",
          "",
          "",
          "",
          "",
          "",
          "",
          "",
          "",
          "",
          "",
          "",
          "",
          "",
          "",
          "",
          "",
          "",
          "",
          "",
          "",
          "",
          "",
          "",
          "",
          "",
          "",
          "",
          "",
          "",
          "",
          "",
          "",
          "",
          "",
          "",
          ""
         ],
         "type": "treemap",
         "values": [
          1328.224,
          663.753,
          1334.245,
          818.852,
          6242.776,
          1164.647,
          1470.46,
          528.381,
          260.788,
          5195.526,
          2638.394,
          750.743,
          494.869,
          4545.67,
          1676.358,
          1525.831,
          1124.774,
          1623.588,
          1475.718,
          304.718,
          1278.434,
          2319.435,
          2119.296,
          2724.718,
          910.125,
          1481.689,
          499.154,
          896.765,
          826.583,
          271.684,
          3314.228,
          1079.946,
          6106.664,
          1927.611,
          315.124,
          3382.502,
          948.324,
          1059.03,
          2562.041,
          446.339,
          1073.82,
          412.038,
          1941.633,
          6075.925,
          631.275,
          198.994,
          1890.369,
          1763.471,
          737.343,
          2287.867,
          456.048
         ]
        }
       ],
       "layout": {
        "template": {
         "data": {
          "bar": [
           {
            "error_x": {
             "color": "#2a3f5f"
            },
            "error_y": {
             "color": "#2a3f5f"
            },
            "marker": {
             "line": {
              "color": "#E5ECF6",
              "width": 0.5
             }
            },
            "type": "bar"
           }
          ],
          "barpolar": [
           {
            "marker": {
             "line": {
              "color": "#E5ECF6",
              "width": 0.5
             }
            },
            "type": "barpolar"
           }
          ],
          "carpet": [
           {
            "aaxis": {
             "endlinecolor": "#2a3f5f",
             "gridcolor": "white",
             "linecolor": "white",
             "minorgridcolor": "white",
             "startlinecolor": "#2a3f5f"
            },
            "baxis": {
             "endlinecolor": "#2a3f5f",
             "gridcolor": "white",
             "linecolor": "white",
             "minorgridcolor": "white",
             "startlinecolor": "#2a3f5f"
            },
            "type": "carpet"
           }
          ],
          "choropleth": [
           {
            "colorbar": {
             "outlinewidth": 0,
             "ticks": ""
            },
            "type": "choropleth"
           }
          ],
          "contour": [
           {
            "colorbar": {
             "outlinewidth": 0,
             "ticks": ""
            },
            "colorscale": [
             [
              0,
              "#0d0887"
             ],
             [
              0.1111111111111111,
              "#46039f"
             ],
             [
              0.2222222222222222,
              "#7201a8"
             ],
             [
              0.3333333333333333,
              "#9c179e"
             ],
             [
              0.4444444444444444,
              "#bd3786"
             ],
             [
              0.5555555555555556,
              "#d8576b"
             ],
             [
              0.6666666666666666,
              "#ed7953"
             ],
             [
              0.7777777777777778,
              "#fb9f3a"
             ],
             [
              0.8888888888888888,
              "#fdca26"
             ],
             [
              1,
              "#f0f921"
             ]
            ],
            "type": "contour"
           }
          ],
          "contourcarpet": [
           {
            "colorbar": {
             "outlinewidth": 0,
             "ticks": ""
            },
            "type": "contourcarpet"
           }
          ],
          "heatmap": [
           {
            "colorbar": {
             "outlinewidth": 0,
             "ticks": ""
            },
            "colorscale": [
             [
              0,
              "#0d0887"
             ],
             [
              0.1111111111111111,
              "#46039f"
             ],
             [
              0.2222222222222222,
              "#7201a8"
             ],
             [
              0.3333333333333333,
              "#9c179e"
             ],
             [
              0.4444444444444444,
              "#bd3786"
             ],
             [
              0.5555555555555556,
              "#d8576b"
             ],
             [
              0.6666666666666666,
              "#ed7953"
             ],
             [
              0.7777777777777778,
              "#fb9f3a"
             ],
             [
              0.8888888888888888,
              "#fdca26"
             ],
             [
              1,
              "#f0f921"
             ]
            ],
            "type": "heatmap"
           }
          ],
          "heatmapgl": [
           {
            "colorbar": {
             "outlinewidth": 0,
             "ticks": ""
            },
            "colorscale": [
             [
              0,
              "#0d0887"
             ],
             [
              0.1111111111111111,
              "#46039f"
             ],
             [
              0.2222222222222222,
              "#7201a8"
             ],
             [
              0.3333333333333333,
              "#9c179e"
             ],
             [
              0.4444444444444444,
              "#bd3786"
             ],
             [
              0.5555555555555556,
              "#d8576b"
             ],
             [
              0.6666666666666666,
              "#ed7953"
             ],
             [
              0.7777777777777778,
              "#fb9f3a"
             ],
             [
              0.8888888888888888,
              "#fdca26"
             ],
             [
              1,
              "#f0f921"
             ]
            ],
            "type": "heatmapgl"
           }
          ],
          "histogram": [
           {
            "marker": {
             "colorbar": {
              "outlinewidth": 0,
              "ticks": ""
             }
            },
            "type": "histogram"
           }
          ],
          "histogram2d": [
           {
            "colorbar": {
             "outlinewidth": 0,
             "ticks": ""
            },
            "colorscale": [
             [
              0,
              "#0d0887"
             ],
             [
              0.1111111111111111,
              "#46039f"
             ],
             [
              0.2222222222222222,
              "#7201a8"
             ],
             [
              0.3333333333333333,
              "#9c179e"
             ],
             [
              0.4444444444444444,
              "#bd3786"
             ],
             [
              0.5555555555555556,
              "#d8576b"
             ],
             [
              0.6666666666666666,
              "#ed7953"
             ],
             [
              0.7777777777777778,
              "#fb9f3a"
             ],
             [
              0.8888888888888888,
              "#fdca26"
             ],
             [
              1,
              "#f0f921"
             ]
            ],
            "type": "histogram2d"
           }
          ],
          "histogram2dcontour": [
           {
            "colorbar": {
             "outlinewidth": 0,
             "ticks": ""
            },
            "colorscale": [
             [
              0,
              "#0d0887"
             ],
             [
              0.1111111111111111,
              "#46039f"
             ],
             [
              0.2222222222222222,
              "#7201a8"
             ],
             [
              0.3333333333333333,
              "#9c179e"
             ],
             [
              0.4444444444444444,
              "#bd3786"
             ],
             [
              0.5555555555555556,
              "#d8576b"
             ],
             [
              0.6666666666666666,
              "#ed7953"
             ],
             [
              0.7777777777777778,
              "#fb9f3a"
             ],
             [
              0.8888888888888888,
              "#fdca26"
             ],
             [
              1,
              "#f0f921"
             ]
            ],
            "type": "histogram2dcontour"
           }
          ],
          "mesh3d": [
           {
            "colorbar": {
             "outlinewidth": 0,
             "ticks": ""
            },
            "type": "mesh3d"
           }
          ],
          "parcoords": [
           {
            "line": {
             "colorbar": {
              "outlinewidth": 0,
              "ticks": ""
             }
            },
            "type": "parcoords"
           }
          ],
          "pie": [
           {
            "automargin": true,
            "type": "pie"
           }
          ],
          "scatter": [
           {
            "marker": {
             "colorbar": {
              "outlinewidth": 0,
              "ticks": ""
             }
            },
            "type": "scatter"
           }
          ],
          "scatter3d": [
           {
            "line": {
             "colorbar": {
              "outlinewidth": 0,
              "ticks": ""
             }
            },
            "marker": {
             "colorbar": {
              "outlinewidth": 0,
              "ticks": ""
             }
            },
            "type": "scatter3d"
           }
          ],
          "scattercarpet": [
           {
            "marker": {
             "colorbar": {
              "outlinewidth": 0,
              "ticks": ""
             }
            },
            "type": "scattercarpet"
           }
          ],
          "scattergeo": [
           {
            "marker": {
             "colorbar": {
              "outlinewidth": 0,
              "ticks": ""
             }
            },
            "type": "scattergeo"
           }
          ],
          "scattergl": [
           {
            "marker": {
             "colorbar": {
              "outlinewidth": 0,
              "ticks": ""
             }
            },
            "type": "scattergl"
           }
          ],
          "scattermapbox": [
           {
            "marker": {
             "colorbar": {
              "outlinewidth": 0,
              "ticks": ""
             }
            },
            "type": "scattermapbox"
           }
          ],
          "scatterpolar": [
           {
            "marker": {
             "colorbar": {
              "outlinewidth": 0,
              "ticks": ""
             }
            },
            "type": "scatterpolar"
           }
          ],
          "scatterpolargl": [
           {
            "marker": {
             "colorbar": {
              "outlinewidth": 0,
              "ticks": ""
             }
            },
            "type": "scatterpolargl"
           }
          ],
          "scatterternary": [
           {
            "marker": {
             "colorbar": {
              "outlinewidth": 0,
              "ticks": ""
             }
            },
            "type": "scatterternary"
           }
          ],
          "surface": [
           {
            "colorbar": {
             "outlinewidth": 0,
             "ticks": ""
            },
            "colorscale": [
             [
              0,
              "#0d0887"
             ],
             [
              0.1111111111111111,
              "#46039f"
             ],
             [
              0.2222222222222222,
              "#7201a8"
             ],
             [
              0.3333333333333333,
              "#9c179e"
             ],
             [
              0.4444444444444444,
              "#bd3786"
             ],
             [
              0.5555555555555556,
              "#d8576b"
             ],
             [
              0.6666666666666666,
              "#ed7953"
             ],
             [
              0.7777777777777778,
              "#fb9f3a"
             ],
             [
              0.8888888888888888,
              "#fdca26"
             ],
             [
              1,
              "#f0f921"
             ]
            ],
            "type": "surface"
           }
          ],
          "table": [
           {
            "cells": {
             "fill": {
              "color": "#EBF0F8"
             },
             "line": {
              "color": "white"
             }
            },
            "header": {
             "fill": {
              "color": "#C8D4E3"
             },
             "line": {
              "color": "white"
             }
            },
            "type": "table"
           }
          ]
         },
         "layout": {
          "annotationdefaults": {
           "arrowcolor": "#2a3f5f",
           "arrowhead": 0,
           "arrowwidth": 1
          },
          "coloraxis": {
           "colorbar": {
            "outlinewidth": 0,
            "ticks": ""
           }
          },
          "colorscale": {
           "diverging": [
            [
             0,
             "#8e0152"
            ],
            [
             0.1,
             "#c51b7d"
            ],
            [
             0.2,
             "#de77ae"
            ],
            [
             0.3,
             "#f1b6da"
            ],
            [
             0.4,
             "#fde0ef"
            ],
            [
             0.5,
             "#f7f7f7"
            ],
            [
             0.6,
             "#e6f5d0"
            ],
            [
             0.7,
             "#b8e186"
            ],
            [
             0.8,
             "#7fbc41"
            ],
            [
             0.9,
             "#4d9221"
            ],
            [
             1,
             "#276419"
            ]
           ],
           "sequential": [
            [
             0,
             "#0d0887"
            ],
            [
             0.1111111111111111,
             "#46039f"
            ],
            [
             0.2222222222222222,
             "#7201a8"
            ],
            [
             0.3333333333333333,
             "#9c179e"
            ],
            [
             0.4444444444444444,
             "#bd3786"
            ],
            [
             0.5555555555555556,
             "#d8576b"
            ],
            [
             0.6666666666666666,
             "#ed7953"
            ],
            [
             0.7777777777777778,
             "#fb9f3a"
            ],
            [
             0.8888888888888888,
             "#fdca26"
            ],
            [
             1,
             "#f0f921"
            ]
           ],
           "sequentialminus": [
            [
             0,
             "#0d0887"
            ],
            [
             0.1111111111111111,
             "#46039f"
            ],
            [
             0.2222222222222222,
             "#7201a8"
            ],
            [
             0.3333333333333333,
             "#9c179e"
            ],
            [
             0.4444444444444444,
             "#bd3786"
            ],
            [
             0.5555555555555556,
             "#d8576b"
            ],
            [
             0.6666666666666666,
             "#ed7953"
            ],
            [
             0.7777777777777778,
             "#fb9f3a"
            ],
            [
             0.8888888888888888,
             "#fdca26"
            ],
            [
             1,
             "#f0f921"
            ]
           ]
          },
          "colorway": [
           "#636efa",
           "#EF553B",
           "#00cc96",
           "#ab63fa",
           "#FFA15A",
           "#19d3f3",
           "#FF6692",
           "#B6E880",
           "#FF97FF",
           "#FECB52"
          ],
          "font": {
           "color": "#2a3f5f"
          },
          "geo": {
           "bgcolor": "white",
           "lakecolor": "white",
           "landcolor": "#E5ECF6",
           "showlakes": true,
           "showland": true,
           "subunitcolor": "white"
          },
          "hoverlabel": {
           "align": "left"
          },
          "hovermode": "closest",
          "mapbox": {
           "style": "light"
          },
          "paper_bgcolor": "white",
          "plot_bgcolor": "#E5ECF6",
          "polar": {
           "angularaxis": {
            "gridcolor": "white",
            "linecolor": "white",
            "ticks": ""
           },
           "bgcolor": "#E5ECF6",
           "radialaxis": {
            "gridcolor": "white",
            "linecolor": "white",
            "ticks": ""
           }
          },
          "scene": {
           "xaxis": {
            "backgroundcolor": "#E5ECF6",
            "gridcolor": "white",
            "gridwidth": 2,
            "linecolor": "white",
            "showbackground": true,
            "ticks": "",
            "zerolinecolor": "white"
           },
           "yaxis": {
            "backgroundcolor": "#E5ECF6",
            "gridcolor": "white",
            "gridwidth": 2,
            "linecolor": "white",
            "showbackground": true,
            "ticks": "",
            "zerolinecolor": "white"
           },
           "zaxis": {
            "backgroundcolor": "#E5ECF6",
            "gridcolor": "white",
            "gridwidth": 2,
            "linecolor": "white",
            "showbackground": true,
            "ticks": "",
            "zerolinecolor": "white"
           }
          },
          "shapedefaults": {
           "line": {
            "color": "#2a3f5f"
           }
          },
          "ternary": {
           "aaxis": {
            "gridcolor": "white",
            "linecolor": "white",
            "ticks": ""
           },
           "baxis": {
            "gridcolor": "white",
            "linecolor": "white",
            "ticks": ""
           },
           "bgcolor": "#E5ECF6",
           "caxis": {
            "gridcolor": "white",
            "linecolor": "white",
            "ticks": ""
           }
          },
          "title": {
           "x": 0.05
          },
          "xaxis": {
           "automargin": true,
           "gridcolor": "white",
           "linecolor": "white",
           "ticks": "",
           "title": {
            "standoff": 15
           },
           "zerolinecolor": "white",
           "zerolinewidth": 2
          },
          "yaxis": {
           "automargin": true,
           "gridcolor": "white",
           "linecolor": "white",
           "ticks": "",
           "title": {
            "standoff": 15
           },
           "zerolinecolor": "white",
           "zerolinewidth": 2
          }
         }
        }
       }
      },
      "text/html": "<div>\n        \n        \n            <div id=\"236298c6-8d07-4bf8-a617-fa57b799417d\" class=\"plotly-graph-div\" style=\"height:525px; width:100%;\"></div>\n            <script type=\"text/javascript\">\n                require([\"plotly\"], function(Plotly) {\n                    window.PLOTLYENV=window.PLOTLYENV || {};\n                    \n                if (document.getElementById(\"236298c6-8d07-4bf8-a617-fa57b799417d\")) {\n                    Plotly.newPlot(\n                        '236298c6-8d07-4bf8-a617-fa57b799417d',\n                        [{\"labels\": [\"Alabama\", \"Alaska\", \"Arizona\", \"Arkansas\", \"California\", \"Colorado\", \"Connecticut\", \"Delaware\", \"District\\u00a0of\\u00a0Columbia\", \"Florida\", \"Georgia\", \"Hawaii\", \"Idaho\", \"Illinois\", \"Indiana\", \"Iowa\", \"Kansas\", \"Kentucky\", \"Louisiana\", \"Maine\", \"Maryland\", \"Massachusetts\", \"Michigan\", \"Minnesota\", \"Mississippi\", \"Missouri\", \"Montana\", \"Nebraska\", \"Nevada\", \"New\\u00a0Hampshire\", \"New\\u00a0Jersey\", \"New\\u00a0Mexico\", \"New\\u00a0York\", \"North\\u00a0Carolina\", \"North\\u00a0Dakota\", \"Ohio\", \"Oklahoma\", \"Oregon\", \"Pennsylvania\", \"Rhode\\u00a0Island\", \"South\\u00a0Carolina\", \"South\\u00a0Dakota\", \"Tennessee\", \"Texas\", \"Utah\", \"Vermont\", \"Virginia\", \"Washington\", \"West\\u00a0Virginia\", \"Wisconsin\", \"Wyoming\"], \"parents\": [\"\", \"\", \"\", \"\", \"\", \"\", \"\", \"\", \"\", \"\", \"\", \"\", \"\", \"\", \"\", \"\", \"\", \"\", \"\", \"\", \"\", \"\", \"\", \"\", \"\", \"\", \"\", \"\", \"\", \"\", \"\", \"\", \"\", \"\", \"\", \"\", \"\", \"\", \"\", \"\", \"\", \"\", \"\", \"\", \"\", \"\", \"\", \"\", \"\", \"\", \"\"], \"type\": \"treemap\", \"values\": [1328.224, 663.753, 1334.245, 818.852, 6242.776, 1164.647, 1470.46, 528.381, 260.788, 5195.526, 2638.394, 750.743, 494.869, 4545.67, 1676.358, 1525.831, 1124.774, 1623.588, 1475.718, 304.718, 1278.434, 2319.435, 2119.296, 2724.718, 910.125, 1481.689, 499.154, 896.765, 826.583, 271.684, 3314.228, 1079.946, 6106.664, 1927.611, 315.124, 3382.502, 948.324, 1059.03, 2562.041, 446.339, 1073.82, 412.038, 1941.633, 6075.925, 631.275, 198.994, 1890.369, 1763.471, 737.343, 2287.867, 456.048]}],\n                        {\"template\": {\"data\": {\"bar\": [{\"error_x\": {\"color\": \"#2a3f5f\"}, \"error_y\": {\"color\": \"#2a3f5f\"}, \"marker\": {\"line\": {\"color\": \"#E5ECF6\", \"width\": 0.5}}, \"type\": \"bar\"}], \"barpolar\": [{\"marker\": {\"line\": {\"color\": \"#E5ECF6\", \"width\": 0.5}}, \"type\": \"barpolar\"}], \"carpet\": [{\"aaxis\": {\"endlinecolor\": \"#2a3f5f\", \"gridcolor\": \"white\", \"linecolor\": \"white\", \"minorgridcolor\": \"white\", \"startlinecolor\": \"#2a3f5f\"}, \"baxis\": {\"endlinecolor\": \"#2a3f5f\", \"gridcolor\": \"white\", \"linecolor\": \"white\", \"minorgridcolor\": \"white\", \"startlinecolor\": \"#2a3f5f\"}, \"type\": \"carpet\"}], \"choropleth\": [{\"colorbar\": {\"outlinewidth\": 0, \"ticks\": \"\"}, \"type\": \"choropleth\"}], \"contour\": [{\"colorbar\": {\"outlinewidth\": 0, \"ticks\": \"\"}, \"colorscale\": [[0.0, \"#0d0887\"], [0.1111111111111111, \"#46039f\"], [0.2222222222222222, \"#7201a8\"], [0.3333333333333333, \"#9c179e\"], [0.4444444444444444, \"#bd3786\"], [0.5555555555555556, \"#d8576b\"], [0.6666666666666666, \"#ed7953\"], [0.7777777777777778, \"#fb9f3a\"], [0.8888888888888888, \"#fdca26\"], [1.0, \"#f0f921\"]], \"type\": \"contour\"}], \"contourcarpet\": [{\"colorbar\": {\"outlinewidth\": 0, \"ticks\": \"\"}, \"type\": \"contourcarpet\"}], \"heatmap\": [{\"colorbar\": {\"outlinewidth\": 0, \"ticks\": \"\"}, \"colorscale\": [[0.0, \"#0d0887\"], [0.1111111111111111, \"#46039f\"], [0.2222222222222222, \"#7201a8\"], [0.3333333333333333, \"#9c179e\"], [0.4444444444444444, \"#bd3786\"], [0.5555555555555556, \"#d8576b\"], [0.6666666666666666, \"#ed7953\"], [0.7777777777777778, \"#fb9f3a\"], [0.8888888888888888, \"#fdca26\"], [1.0, \"#f0f921\"]], \"type\": \"heatmap\"}], \"heatmapgl\": [{\"colorbar\": {\"outlinewidth\": 0, \"ticks\": \"\"}, \"colorscale\": [[0.0, \"#0d0887\"], [0.1111111111111111, \"#46039f\"], [0.2222222222222222, \"#7201a8\"], [0.3333333333333333, \"#9c179e\"], [0.4444444444444444, \"#bd3786\"], [0.5555555555555556, \"#d8576b\"], [0.6666666666666666, \"#ed7953\"], [0.7777777777777778, \"#fb9f3a\"], [0.8888888888888888, \"#fdca26\"], [1.0, \"#f0f921\"]], \"type\": \"heatmapgl\"}], \"histogram\": [{\"marker\": {\"colorbar\": {\"outlinewidth\": 0, \"ticks\": \"\"}}, \"type\": \"histogram\"}], \"histogram2d\": [{\"colorbar\": {\"outlinewidth\": 0, \"ticks\": \"\"}, \"colorscale\": [[0.0, \"#0d0887\"], [0.1111111111111111, \"#46039f\"], [0.2222222222222222, \"#7201a8\"], [0.3333333333333333, \"#9c179e\"], [0.4444444444444444, \"#bd3786\"], [0.5555555555555556, \"#d8576b\"], [0.6666666666666666, \"#ed7953\"], [0.7777777777777778, \"#fb9f3a\"], [0.8888888888888888, \"#fdca26\"], [1.0, \"#f0f921\"]], \"type\": \"histogram2d\"}], \"histogram2dcontour\": [{\"colorbar\": {\"outlinewidth\": 0, \"ticks\": \"\"}, \"colorscale\": [[0.0, \"#0d0887\"], [0.1111111111111111, \"#46039f\"], [0.2222222222222222, \"#7201a8\"], [0.3333333333333333, \"#9c179e\"], [0.4444444444444444, \"#bd3786\"], [0.5555555555555556, \"#d8576b\"], [0.6666666666666666, \"#ed7953\"], [0.7777777777777778, \"#fb9f3a\"], [0.8888888888888888, \"#fdca26\"], [1.0, \"#f0f921\"]], \"type\": \"histogram2dcontour\"}], \"mesh3d\": [{\"colorbar\": {\"outlinewidth\": 0, \"ticks\": \"\"}, \"type\": \"mesh3d\"}], \"parcoords\": [{\"line\": {\"colorbar\": {\"outlinewidth\": 0, \"ticks\": \"\"}}, \"type\": \"parcoords\"}], \"pie\": [{\"automargin\": true, \"type\": \"pie\"}], \"scatter\": [{\"marker\": {\"colorbar\": {\"outlinewidth\": 0, \"ticks\": \"\"}}, \"type\": \"scatter\"}], \"scatter3d\": [{\"line\": {\"colorbar\": {\"outlinewidth\": 0, \"ticks\": \"\"}}, \"marker\": {\"colorbar\": {\"outlinewidth\": 0, \"ticks\": \"\"}}, \"type\": \"scatter3d\"}], \"scattercarpet\": [{\"marker\": {\"colorbar\": {\"outlinewidth\": 0, \"ticks\": \"\"}}, \"type\": \"scattercarpet\"}], \"scattergeo\": [{\"marker\": {\"colorbar\": {\"outlinewidth\": 0, \"ticks\": \"\"}}, \"type\": \"scattergeo\"}], \"scattergl\": [{\"marker\": {\"colorbar\": {\"outlinewidth\": 0, \"ticks\": \"\"}}, \"type\": \"scattergl\"}], \"scattermapbox\": [{\"marker\": {\"colorbar\": {\"outlinewidth\": 0, \"ticks\": \"\"}}, \"type\": \"scattermapbox\"}], \"scatterpolar\": [{\"marker\": {\"colorbar\": {\"outlinewidth\": 0, \"ticks\": \"\"}}, \"type\": \"scatterpolar\"}], \"scatterpolargl\": [{\"marker\": {\"colorbar\": {\"outlinewidth\": 0, \"ticks\": \"\"}}, \"type\": \"scatterpolargl\"}], \"scatterternary\": [{\"marker\": {\"colorbar\": {\"outlinewidth\": 0, \"ticks\": \"\"}}, \"type\": \"scatterternary\"}], \"surface\": [{\"colorbar\": {\"outlinewidth\": 0, \"ticks\": \"\"}, \"colorscale\": [[0.0, \"#0d0887\"], [0.1111111111111111, \"#46039f\"], [0.2222222222222222, \"#7201a8\"], [0.3333333333333333, \"#9c179e\"], [0.4444444444444444, \"#bd3786\"], [0.5555555555555556, \"#d8576b\"], [0.6666666666666666, \"#ed7953\"], [0.7777777777777778, \"#fb9f3a\"], [0.8888888888888888, \"#fdca26\"], [1.0, \"#f0f921\"]], \"type\": \"surface\"}], \"table\": [{\"cells\": {\"fill\": {\"color\": \"#EBF0F8\"}, \"line\": {\"color\": \"white\"}}, \"header\": {\"fill\": {\"color\": \"#C8D4E3\"}, \"line\": {\"color\": \"white\"}}, \"type\": \"table\"}]}, \"layout\": {\"annotationdefaults\": {\"arrowcolor\": \"#2a3f5f\", \"arrowhead\": 0, \"arrowwidth\": 1}, \"coloraxis\": {\"colorbar\": {\"outlinewidth\": 0, \"ticks\": \"\"}}, \"colorscale\": {\"diverging\": [[0, \"#8e0152\"], [0.1, \"#c51b7d\"], [0.2, \"#de77ae\"], [0.3, \"#f1b6da\"], [0.4, \"#fde0ef\"], [0.5, \"#f7f7f7\"], [0.6, \"#e6f5d0\"], [0.7, \"#b8e186\"], [0.8, \"#7fbc41\"], [0.9, \"#4d9221\"], [1, \"#276419\"]], \"sequential\": [[0.0, \"#0d0887\"], [0.1111111111111111, \"#46039f\"], [0.2222222222222222, \"#7201a8\"], [0.3333333333333333, \"#9c179e\"], [0.4444444444444444, \"#bd3786\"], [0.5555555555555556, \"#d8576b\"], [0.6666666666666666, \"#ed7953\"], [0.7777777777777778, \"#fb9f3a\"], [0.8888888888888888, \"#fdca26\"], [1.0, \"#f0f921\"]], \"sequentialminus\": [[0.0, \"#0d0887\"], [0.1111111111111111, \"#46039f\"], [0.2222222222222222, \"#7201a8\"], [0.3333333333333333, \"#9c179e\"], [0.4444444444444444, \"#bd3786\"], [0.5555555555555556, \"#d8576b\"], [0.6666666666666666, \"#ed7953\"], [0.7777777777777778, \"#fb9f3a\"], [0.8888888888888888, \"#fdca26\"], [1.0, \"#f0f921\"]]}, \"colorway\": [\"#636efa\", \"#EF553B\", \"#00cc96\", \"#ab63fa\", \"#FFA15A\", \"#19d3f3\", \"#FF6692\", \"#B6E880\", \"#FF97FF\", \"#FECB52\"], \"font\": {\"color\": \"#2a3f5f\"}, \"geo\": {\"bgcolor\": \"white\", \"lakecolor\": \"white\", \"landcolor\": \"#E5ECF6\", \"showlakes\": true, \"showland\": true, \"subunitcolor\": \"white\"}, \"hoverlabel\": {\"align\": \"left\"}, \"hovermode\": \"closest\", \"mapbox\": {\"style\": \"light\"}, \"paper_bgcolor\": \"white\", \"plot_bgcolor\": \"#E5ECF6\", \"polar\": {\"angularaxis\": {\"gridcolor\": \"white\", \"linecolor\": \"white\", \"ticks\": \"\"}, \"bgcolor\": \"#E5ECF6\", \"radialaxis\": {\"gridcolor\": \"white\", \"linecolor\": \"white\", \"ticks\": \"\"}}, \"scene\": {\"xaxis\": {\"backgroundcolor\": \"#E5ECF6\", \"gridcolor\": \"white\", \"gridwidth\": 2, \"linecolor\": \"white\", \"showbackground\": true, \"ticks\": \"\", \"zerolinecolor\": \"white\"}, \"yaxis\": {\"backgroundcolor\": \"#E5ECF6\", \"gridcolor\": \"white\", \"gridwidth\": 2, \"linecolor\": \"white\", \"showbackground\": true, \"ticks\": \"\", \"zerolinecolor\": \"white\"}, \"zaxis\": {\"backgroundcolor\": \"#E5ECF6\", \"gridcolor\": \"white\", \"gridwidth\": 2, \"linecolor\": \"white\", \"showbackground\": true, \"ticks\": \"\", \"zerolinecolor\": \"white\"}}, \"shapedefaults\": {\"line\": {\"color\": \"#2a3f5f\"}}, \"ternary\": {\"aaxis\": {\"gridcolor\": \"white\", \"linecolor\": \"white\", \"ticks\": \"\"}, \"baxis\": {\"gridcolor\": \"white\", \"linecolor\": \"white\", \"ticks\": \"\"}, \"bgcolor\": \"#E5ECF6\", \"caxis\": {\"gridcolor\": \"white\", \"linecolor\": \"white\", \"ticks\": \"\"}}, \"title\": {\"x\": 0.05}, \"xaxis\": {\"automargin\": true, \"gridcolor\": \"white\", \"linecolor\": \"white\", \"ticks\": \"\", \"title\": {\"standoff\": 15}, \"zerolinecolor\": \"white\", \"zerolinewidth\": 2}, \"yaxis\": {\"automargin\": true, \"gridcolor\": \"white\", \"linecolor\": \"white\", \"ticks\": \"\", \"title\": {\"standoff\": 15}, \"zerolinecolor\": \"white\", \"zerolinewidth\": 2}}}},\n                        {\"responsive\": true}\n                    ).then(function(){\n                            \nvar gd = document.getElementById('236298c6-8d07-4bf8-a617-fa57b799417d');\nvar x = new MutationObserver(function (mutations, observer) {{\n        var display = window.getComputedStyle(gd).display;\n        if (!display || display === 'none') {{\n            console.log([gd, 'removed!']);\n            Plotly.purge(gd);\n            observer.disconnect();\n        }}\n}});\n\n// Listen for the removal of the full notebook cells\nvar notebookContainer = gd.closest('#notebook-container');\nif (notebookContainer) {{\n    x.observe(notebookContainer, {childList: true});\n}}\n\n// Listen for the clearing of the current output cell\nvar outputEl = gd.closest('.output');\nif (outputEl) {{\n    x.observe(outputEl, {childList: true});\n}}\n\n                        })\n                };\n                });\n            </script>\n        </div>"
     },
     "metadata": {}
    }
   ],
   "source": [
    "fig = go.Figure()\n",
    "fig.add_trace(go.Treemap(\n",
    "    labels=list(state_infra['State']),\n",
    "    parents=[\"\" for parent in state_infra['State']],\n",
    "    values=list(state_infra[1992]),\n",
    "))\n",
    "fig.show()"
   ]
  },
  {
   "source": [
    "# Next Dataset\n",
    "\n",
    "Need to add population overtime to make this percaptia as this really just shows states by size"
   ],
   "cell_type": "markdown",
   "metadata": {}
  },
  {
   "cell_type": "code",
   "execution_count": 165,
   "metadata": {},
   "outputs": [
    {
     "output_type": "execute_result",
     "data": {
      "text/plain": [
       "              DATE      ALABAMA      ARIZONA     ARKANSAS    CALIFORNIA  \\\n",
       "count   121.000000   121.000000   121.000000   121.000000    121.000000   \n",
       "mean   1960.000000  3360.024719  2256.862545  2087.404306  17595.842876   \n",
       "std      35.073732   897.981682  2253.743192   457.042031  12810.202474   \n",
       "min    1900.000000  1830.000000   124.000000  1314.000000   1490.000000   \n",
       "25%    1930.000000  2647.000000   426.000000  1772.000000   5711.000000   \n",
       "50%    1960.000000  3274.000000  1321.000000  1901.000000  15870.000000   \n",
       "75%    1990.000000  4048.508000  3679.056000  2354.343000  29950.111000   \n",
       "max    2020.000000  4921.532000  7421.401000  3030.522000  39437.610000   \n",
       "\n",
       "          COLORADO  CONNECTICUT    DELAWARE  DISTRICT OF COLUMBIA  \\\n",
       "count   121.000000   121.000000  121.000000            121.000000   \n",
       "mean   2337.322198  2419.150347  482.469471            605.904182   \n",
       "std    1558.455856   903.981865  253.506691            163.116521   \n",
       "min     543.000000   910.000000  185.000000            278.000000   \n",
       "25%    1040.000000  1613.000000  239.000000            488.000000   \n",
       "50%    1769.000000  2544.000000  449.000000            629.000000   \n",
       "75%    3303.862000  3268.346000  669.063000            749.781000   \n",
       "max    5807.719000  3595.792000  986.809000            900.000000   \n",
       "\n",
       "            FLORIDA  ...  SOUTH DAKOTA    TENNESSEE         TEXAS  \\\n",
       "count    121.000000  ...    121.000000   121.000000    121.000000   \n",
       "mean    7403.429091  ...    674.522372  3902.785579  11969.947661   \n",
       "std     6772.646958  ...     95.939517  1451.308294   7591.577648   \n",
       "min      530.000000  ...    403.000000  2023.000000   3055.000000   \n",
       "25%     1471.000000  ...    641.000000  2624.000000   5844.000000   \n",
       "50%     5004.000000  ...    682.000000  3575.000000   9624.000000   \n",
       "75%    13018.365000  ...    705.000000  4890.626000  17044.714000   \n",
       "max    21733.312000  ...    892.717000  6886.834000  29360.759000   \n",
       "\n",
       "              UTAH     VERMONT     VIRGINIA   WASHINGTON  WEST VIRGINIA  \\\n",
       "count   121.000000  121.000000   121.000000   121.000000     121.000000   \n",
       "mean   1211.241884  450.193504  4475.776810  3342.125512    1713.264322   \n",
       "std     861.702729  108.588892  2129.903693  2043.916130     247.675205   \n",
       "min     277.000000  314.000000  1858.000000   523.000000     959.000000   \n",
       "25%     509.000000  357.000000  2435.000000  1568.000000    1708.000000   \n",
       "50%     900.000000  389.000000  3986.000000  2855.000000    1807.021000   \n",
       "75%    1729.722000  564.526000  6213.526000  4900.780000    1853.000000   \n",
       "max    3249.879000  627.197000  8590.563000  7693.612000    2006.000000   \n",
       "\n",
       "         WISCONSIN     WYOMING  \n",
       "count   121.000000  121.000000  \n",
       "mean   3952.913975  339.989562  \n",
       "std    1176.083479  145.885903  \n",
       "min    2072.000000   93.000000  \n",
       "25%    2950.000000  226.000000  \n",
       "50%    3962.000000  322.000000  \n",
       "75%    4902.265000  479.602000  \n",
       "max    5832.655000  586.389000  \n",
       "\n",
       "[8 rows x 50 columns]"
      ],
      "text/html": "<div>\n<style scoped>\n    .dataframe tbody tr th:only-of-type {\n        vertical-align: middle;\n    }\n\n    .dataframe tbody tr th {\n        vertical-align: top;\n    }\n\n    .dataframe thead th {\n        text-align: right;\n    }\n</style>\n<table border=\"1\" class=\"dataframe\">\n  <thead>\n    <tr style=\"text-align: right;\">\n      <th></th>\n      <th>DATE</th>\n      <th>ALABAMA</th>\n      <th>ARIZONA</th>\n      <th>ARKANSAS</th>\n      <th>CALIFORNIA</th>\n      <th>COLORADO</th>\n      <th>CONNECTICUT</th>\n      <th>DELAWARE</th>\n      <th>DISTRICT OF COLUMBIA</th>\n      <th>FLORIDA</th>\n      <th>...</th>\n      <th>SOUTH DAKOTA</th>\n      <th>TENNESSEE</th>\n      <th>TEXAS</th>\n      <th>UTAH</th>\n      <th>VERMONT</th>\n      <th>VIRGINIA</th>\n      <th>WASHINGTON</th>\n      <th>WEST VIRGINIA</th>\n      <th>WISCONSIN</th>\n      <th>WYOMING</th>\n    </tr>\n  </thead>\n  <tbody>\n    <tr>\n      <th>count</th>\n      <td>121.000000</td>\n      <td>121.000000</td>\n      <td>121.000000</td>\n      <td>121.000000</td>\n      <td>121.000000</td>\n      <td>121.000000</td>\n      <td>121.000000</td>\n      <td>121.000000</td>\n      <td>121.000000</td>\n      <td>121.000000</td>\n      <td>...</td>\n      <td>121.000000</td>\n      <td>121.000000</td>\n      <td>121.000000</td>\n      <td>121.000000</td>\n      <td>121.000000</td>\n      <td>121.000000</td>\n      <td>121.000000</td>\n      <td>121.000000</td>\n      <td>121.000000</td>\n      <td>121.000000</td>\n    </tr>\n    <tr>\n      <th>mean</th>\n      <td>1960.000000</td>\n      <td>3360.024719</td>\n      <td>2256.862545</td>\n      <td>2087.404306</td>\n      <td>17595.842876</td>\n      <td>2337.322198</td>\n      <td>2419.150347</td>\n      <td>482.469471</td>\n      <td>605.904182</td>\n      <td>7403.429091</td>\n      <td>...</td>\n      <td>674.522372</td>\n      <td>3902.785579</td>\n      <td>11969.947661</td>\n      <td>1211.241884</td>\n      <td>450.193504</td>\n      <td>4475.776810</td>\n      <td>3342.125512</td>\n      <td>1713.264322</td>\n      <td>3952.913975</td>\n      <td>339.989562</td>\n    </tr>\n    <tr>\n      <th>std</th>\n      <td>35.073732</td>\n      <td>897.981682</td>\n      <td>2253.743192</td>\n      <td>457.042031</td>\n      <td>12810.202474</td>\n      <td>1558.455856</td>\n      <td>903.981865</td>\n      <td>253.506691</td>\n      <td>163.116521</td>\n      <td>6772.646958</td>\n      <td>...</td>\n      <td>95.939517</td>\n      <td>1451.308294</td>\n      <td>7591.577648</td>\n      <td>861.702729</td>\n      <td>108.588892</td>\n      <td>2129.903693</td>\n      <td>2043.916130</td>\n      <td>247.675205</td>\n      <td>1176.083479</td>\n      <td>145.885903</td>\n    </tr>\n    <tr>\n      <th>min</th>\n      <td>1900.000000</td>\n      <td>1830.000000</td>\n      <td>124.000000</td>\n      <td>1314.000000</td>\n      <td>1490.000000</td>\n      <td>543.000000</td>\n      <td>910.000000</td>\n      <td>185.000000</td>\n      <td>278.000000</td>\n      <td>530.000000</td>\n      <td>...</td>\n      <td>403.000000</td>\n      <td>2023.000000</td>\n      <td>3055.000000</td>\n      <td>277.000000</td>\n      <td>314.000000</td>\n      <td>1858.000000</td>\n      <td>523.000000</td>\n      <td>959.000000</td>\n      <td>2072.000000</td>\n      <td>93.000000</td>\n    </tr>\n    <tr>\n      <th>25%</th>\n      <td>1930.000000</td>\n      <td>2647.000000</td>\n      <td>426.000000</td>\n      <td>1772.000000</td>\n      <td>5711.000000</td>\n      <td>1040.000000</td>\n      <td>1613.000000</td>\n      <td>239.000000</td>\n      <td>488.000000</td>\n      <td>1471.000000</td>\n      <td>...</td>\n      <td>641.000000</td>\n      <td>2624.000000</td>\n      <td>5844.000000</td>\n      <td>509.000000</td>\n      <td>357.000000</td>\n      <td>2435.000000</td>\n      <td>1568.000000</td>\n      <td>1708.000000</td>\n      <td>2950.000000</td>\n      <td>226.000000</td>\n    </tr>\n    <tr>\n      <th>50%</th>\n      <td>1960.000000</td>\n      <td>3274.000000</td>\n      <td>1321.000000</td>\n      <td>1901.000000</td>\n      <td>15870.000000</td>\n      <td>1769.000000</td>\n      <td>2544.000000</td>\n      <td>449.000000</td>\n      <td>629.000000</td>\n      <td>5004.000000</td>\n      <td>...</td>\n      <td>682.000000</td>\n      <td>3575.000000</td>\n      <td>9624.000000</td>\n      <td>900.000000</td>\n      <td>389.000000</td>\n      <td>3986.000000</td>\n      <td>2855.000000</td>\n      <td>1807.021000</td>\n      <td>3962.000000</td>\n      <td>322.000000</td>\n    </tr>\n    <tr>\n      <th>75%</th>\n      <td>1990.000000</td>\n      <td>4048.508000</td>\n      <td>3679.056000</td>\n      <td>2354.343000</td>\n      <td>29950.111000</td>\n      <td>3303.862000</td>\n      <td>3268.346000</td>\n      <td>669.063000</td>\n      <td>749.781000</td>\n      <td>13018.365000</td>\n      <td>...</td>\n      <td>705.000000</td>\n      <td>4890.626000</td>\n      <td>17044.714000</td>\n      <td>1729.722000</td>\n      <td>564.526000</td>\n      <td>6213.526000</td>\n      <td>4900.780000</td>\n      <td>1853.000000</td>\n      <td>4902.265000</td>\n      <td>479.602000</td>\n    </tr>\n    <tr>\n      <th>max</th>\n      <td>2020.000000</td>\n      <td>4921.532000</td>\n      <td>7421.401000</td>\n      <td>3030.522000</td>\n      <td>39437.610000</td>\n      <td>5807.719000</td>\n      <td>3595.792000</td>\n      <td>986.809000</td>\n      <td>900.000000</td>\n      <td>21733.312000</td>\n      <td>...</td>\n      <td>892.717000</td>\n      <td>6886.834000</td>\n      <td>29360.759000</td>\n      <td>3249.879000</td>\n      <td>627.197000</td>\n      <td>8590.563000</td>\n      <td>7693.612000</td>\n      <td>2006.000000</td>\n      <td>5832.655000</td>\n      <td>586.389000</td>\n    </tr>\n  </tbody>\n</table>\n<p>8 rows × 50 columns</p>\n</div>"
     },
     "metadata": {},
     "execution_count": 165
    }
   ],
   "source": [
    "state_pop = pd.read_csv(r'C:\\Users\\zeusg\\OneDrive\\Documents\\Github\\data_vis\\data\\UsSatePop\\allstates.csv')\n",
    "pop_meta = state_pop.describe(include=[np.number])\n",
    "state_pop.head()\n",
    "pop_meta"
   ]
  },
  {
   "cell_type": "code",
   "execution_count": 116,
   "metadata": {},
   "outputs": [
    {
     "output_type": "display_data",
     "data": {
      "application/vnd.plotly.v1+json": {
       "config": {
        "plotlyServerURL": "https://plot.ly"
       },
       "data": [
        {
         "type": "scatter",
         "x": [
          1900,
          1901,
          1902,
          1903,
          1904,
          1905,
          1906,
          1907,
          1908,
          1909,
          1910,
          1911,
          1912,
          1913,
          1914,
          1915,
          1916,
          1917,
          1918,
          1919,
          1920,
          1921,
          1922,
          1923,
          1924,
          1925,
          1926,
          1927,
          1928,
          1929,
          1930,
          1931,
          1932,
          1933,
          1934,
          1935,
          1936,
          1937,
          1938,
          1939,
          1940,
          1941,
          1942,
          1943,
          1944,
          1945,
          1946,
          1947,
          1948,
          1949,
          1950,
          1951,
          1952,
          1953,
          1954,
          1955,
          1956,
          1957,
          1958,
          1959,
          1960,
          1961,
          1962,
          1963,
          1964,
          1965,
          1966,
          1967,
          1968,
          1969,
          1970,
          1971,
          1972,
          1973,
          1974,
          1975,
          1976,
          1977,
          1978,
          1979,
          1980,
          1981,
          1982,
          1983,
          1984,
          1985,
          1986,
          1987,
          1988,
          1989,
          1990,
          1991,
          1992,
          1993,
          1994,
          1995,
          1996,
          1997,
          1998,
          1999,
          2000,
          2001,
          2002,
          2003,
          2004,
          2005,
          2006,
          2007,
          2008,
          2009,
          2010,
          2011,
          2012,
          2013,
          2014,
          2015,
          2016,
          2017,
          2018,
          2019,
          2020
         ],
         "y": [
          1490000,
          1550000,
          1623000,
          1702000,
          1792000,
          1893000,
          1976000,
          2054000,
          2161000,
          2282000,
          2406000,
          2534000,
          2668000,
          2811000,
          2934000,
          3008000,
          3071000,
          3171000,
          3262000,
          3339000,
          3554000,
          3795000,
          3991000,
          4270000,
          4541000,
          4730000,
          4929000,
          5147000,
          5344000,
          5531000,
          5711000,
          5824000,
          5894000,
          5963000,
          6060000,
          6175000,
          6341000,
          6528000,
          6656000,
          6785000,
          6950000,
          7237000,
          7735000,
          8506000,
          8945000,
          9344000,
          9559000,
          9832000,
          10064000,
          10337000,
          10677000,
          11134000,
          11635000,
          12251000,
          12746000,
          13133000,
          13713000,
          14264000,
          14880000,
          15467000,
          15870000,
          16497000,
          17072000,
          17668000,
          18151000,
          18585000,
          18858000,
          19176000,
          19394000,
          19711000,
          19971069,
          20345939,
          20585468.999999996,
          20868728,
          21173865,
          21537849,
          21935909,
          22352396,
          22835958,
          23256880,
          23800800,
          24285932.999999996,
          24820009,
          25360026,
          25844392.999999996,
          26441109,
          27102237,
          27777158,
          28464249,
          29218164,
          29950111,
          30414113.999999996,
          30875920,
          31147208,
          31317179,
          31493525,
          31780828.999999996,
          32217708,
          32682793.999999996,
          33145121,
          33987977,
          34479458,
          34871843,
          35253159,
          35574576,
          35827943,
          36021202.00000001,
          36250311,
          36604337,
          36961229,
          37319550,
          37636311,
          37944551,
          38253768,
          38586706,
          38904296,
          39149186,
          39337785,
          39437462.99999999,
          39437610,
          39368078
         ]
        }
       ],
       "layout": {
        "template": {
         "data": {
          "bar": [
           {
            "error_x": {
             "color": "#2a3f5f"
            },
            "error_y": {
             "color": "#2a3f5f"
            },
            "marker": {
             "line": {
              "color": "#E5ECF6",
              "width": 0.5
             }
            },
            "type": "bar"
           }
          ],
          "barpolar": [
           {
            "marker": {
             "line": {
              "color": "#E5ECF6",
              "width": 0.5
             }
            },
            "type": "barpolar"
           }
          ],
          "carpet": [
           {
            "aaxis": {
             "endlinecolor": "#2a3f5f",
             "gridcolor": "white",
             "linecolor": "white",
             "minorgridcolor": "white",
             "startlinecolor": "#2a3f5f"
            },
            "baxis": {
             "endlinecolor": "#2a3f5f",
             "gridcolor": "white",
             "linecolor": "white",
             "minorgridcolor": "white",
             "startlinecolor": "#2a3f5f"
            },
            "type": "carpet"
           }
          ],
          "choropleth": [
           {
            "colorbar": {
             "outlinewidth": 0,
             "ticks": ""
            },
            "type": "choropleth"
           }
          ],
          "contour": [
           {
            "colorbar": {
             "outlinewidth": 0,
             "ticks": ""
            },
            "colorscale": [
             [
              0,
              "#0d0887"
             ],
             [
              0.1111111111111111,
              "#46039f"
             ],
             [
              0.2222222222222222,
              "#7201a8"
             ],
             [
              0.3333333333333333,
              "#9c179e"
             ],
             [
              0.4444444444444444,
              "#bd3786"
             ],
             [
              0.5555555555555556,
              "#d8576b"
             ],
             [
              0.6666666666666666,
              "#ed7953"
             ],
             [
              0.7777777777777778,
              "#fb9f3a"
             ],
             [
              0.8888888888888888,
              "#fdca26"
             ],
             [
              1,
              "#f0f921"
             ]
            ],
            "type": "contour"
           }
          ],
          "contourcarpet": [
           {
            "colorbar": {
             "outlinewidth": 0,
             "ticks": ""
            },
            "type": "contourcarpet"
           }
          ],
          "heatmap": [
           {
            "colorbar": {
             "outlinewidth": 0,
             "ticks": ""
            },
            "colorscale": [
             [
              0,
              "#0d0887"
             ],
             [
              0.1111111111111111,
              "#46039f"
             ],
             [
              0.2222222222222222,
              "#7201a8"
             ],
             [
              0.3333333333333333,
              "#9c179e"
             ],
             [
              0.4444444444444444,
              "#bd3786"
             ],
             [
              0.5555555555555556,
              "#d8576b"
             ],
             [
              0.6666666666666666,
              "#ed7953"
             ],
             [
              0.7777777777777778,
              "#fb9f3a"
             ],
             [
              0.8888888888888888,
              "#fdca26"
             ],
             [
              1,
              "#f0f921"
             ]
            ],
            "type": "heatmap"
           }
          ],
          "heatmapgl": [
           {
            "colorbar": {
             "outlinewidth": 0,
             "ticks": ""
            },
            "colorscale": [
             [
              0,
              "#0d0887"
             ],
             [
              0.1111111111111111,
              "#46039f"
             ],
             [
              0.2222222222222222,
              "#7201a8"
             ],
             [
              0.3333333333333333,
              "#9c179e"
             ],
             [
              0.4444444444444444,
              "#bd3786"
             ],
             [
              0.5555555555555556,
              "#d8576b"
             ],
             [
              0.6666666666666666,
              "#ed7953"
             ],
             [
              0.7777777777777778,
              "#fb9f3a"
             ],
             [
              0.8888888888888888,
              "#fdca26"
             ],
             [
              1,
              "#f0f921"
             ]
            ],
            "type": "heatmapgl"
           }
          ],
          "histogram": [
           {
            "marker": {
             "colorbar": {
              "outlinewidth": 0,
              "ticks": ""
             }
            },
            "type": "histogram"
           }
          ],
          "histogram2d": [
           {
            "colorbar": {
             "outlinewidth": 0,
             "ticks": ""
            },
            "colorscale": [
             [
              0,
              "#0d0887"
             ],
             [
              0.1111111111111111,
              "#46039f"
             ],
             [
              0.2222222222222222,
              "#7201a8"
             ],
             [
              0.3333333333333333,
              "#9c179e"
             ],
             [
              0.4444444444444444,
              "#bd3786"
             ],
             [
              0.5555555555555556,
              "#d8576b"
             ],
             [
              0.6666666666666666,
              "#ed7953"
             ],
             [
              0.7777777777777778,
              "#fb9f3a"
             ],
             [
              0.8888888888888888,
              "#fdca26"
             ],
             [
              1,
              "#f0f921"
             ]
            ],
            "type": "histogram2d"
           }
          ],
          "histogram2dcontour": [
           {
            "colorbar": {
             "outlinewidth": 0,
             "ticks": ""
            },
            "colorscale": [
             [
              0,
              "#0d0887"
             ],
             [
              0.1111111111111111,
              "#46039f"
             ],
             [
              0.2222222222222222,
              "#7201a8"
             ],
             [
              0.3333333333333333,
              "#9c179e"
             ],
             [
              0.4444444444444444,
              "#bd3786"
             ],
             [
              0.5555555555555556,
              "#d8576b"
             ],
             [
              0.6666666666666666,
              "#ed7953"
             ],
             [
              0.7777777777777778,
              "#fb9f3a"
             ],
             [
              0.8888888888888888,
              "#fdca26"
             ],
             [
              1,
              "#f0f921"
             ]
            ],
            "type": "histogram2dcontour"
           }
          ],
          "mesh3d": [
           {
            "colorbar": {
             "outlinewidth": 0,
             "ticks": ""
            },
            "type": "mesh3d"
           }
          ],
          "parcoords": [
           {
            "line": {
             "colorbar": {
              "outlinewidth": 0,
              "ticks": ""
             }
            },
            "type": "parcoords"
           }
          ],
          "pie": [
           {
            "automargin": true,
            "type": "pie"
           }
          ],
          "scatter": [
           {
            "marker": {
             "colorbar": {
              "outlinewidth": 0,
              "ticks": ""
             }
            },
            "type": "scatter"
           }
          ],
          "scatter3d": [
           {
            "line": {
             "colorbar": {
              "outlinewidth": 0,
              "ticks": ""
             }
            },
            "marker": {
             "colorbar": {
              "outlinewidth": 0,
              "ticks": ""
             }
            },
            "type": "scatter3d"
           }
          ],
          "scattercarpet": [
           {
            "marker": {
             "colorbar": {
              "outlinewidth": 0,
              "ticks": ""
             }
            },
            "type": "scattercarpet"
           }
          ],
          "scattergeo": [
           {
            "marker": {
             "colorbar": {
              "outlinewidth": 0,
              "ticks": ""
             }
            },
            "type": "scattergeo"
           }
          ],
          "scattergl": [
           {
            "marker": {
             "colorbar": {
              "outlinewidth": 0,
              "ticks": ""
             }
            },
            "type": "scattergl"
           }
          ],
          "scattermapbox": [
           {
            "marker": {
             "colorbar": {
              "outlinewidth": 0,
              "ticks": ""
             }
            },
            "type": "scattermapbox"
           }
          ],
          "scatterpolar": [
           {
            "marker": {
             "colorbar": {
              "outlinewidth": 0,
              "ticks": ""
             }
            },
            "type": "scatterpolar"
           }
          ],
          "scatterpolargl": [
           {
            "marker": {
             "colorbar": {
              "outlinewidth": 0,
              "ticks": ""
             }
            },
            "type": "scatterpolargl"
           }
          ],
          "scatterternary": [
           {
            "marker": {
             "colorbar": {
              "outlinewidth": 0,
              "ticks": ""
             }
            },
            "type": "scatterternary"
           }
          ],
          "surface": [
           {
            "colorbar": {
             "outlinewidth": 0,
             "ticks": ""
            },
            "colorscale": [
             [
              0,
              "#0d0887"
             ],
             [
              0.1111111111111111,
              "#46039f"
             ],
             [
              0.2222222222222222,
              "#7201a8"
             ],
             [
              0.3333333333333333,
              "#9c179e"
             ],
             [
              0.4444444444444444,
              "#bd3786"
             ],
             [
              0.5555555555555556,
              "#d8576b"
             ],
             [
              0.6666666666666666,
              "#ed7953"
             ],
             [
              0.7777777777777778,
              "#fb9f3a"
             ],
             [
              0.8888888888888888,
              "#fdca26"
             ],
             [
              1,
              "#f0f921"
             ]
            ],
            "type": "surface"
           }
          ],
          "table": [
           {
            "cells": {
             "fill": {
              "color": "#EBF0F8"
             },
             "line": {
              "color": "white"
             }
            },
            "header": {
             "fill": {
              "color": "#C8D4E3"
             },
             "line": {
              "color": "white"
             }
            },
            "type": "table"
           }
          ]
         },
         "layout": {
          "annotationdefaults": {
           "arrowcolor": "#2a3f5f",
           "arrowhead": 0,
           "arrowwidth": 1
          },
          "coloraxis": {
           "colorbar": {
            "outlinewidth": 0,
            "ticks": ""
           }
          },
          "colorscale": {
           "diverging": [
            [
             0,
             "#8e0152"
            ],
            [
             0.1,
             "#c51b7d"
            ],
            [
             0.2,
             "#de77ae"
            ],
            [
             0.3,
             "#f1b6da"
            ],
            [
             0.4,
             "#fde0ef"
            ],
            [
             0.5,
             "#f7f7f7"
            ],
            [
             0.6,
             "#e6f5d0"
            ],
            [
             0.7,
             "#b8e186"
            ],
            [
             0.8,
             "#7fbc41"
            ],
            [
             0.9,
             "#4d9221"
            ],
            [
             1,
             "#276419"
            ]
           ],
           "sequential": [
            [
             0,
             "#0d0887"
            ],
            [
             0.1111111111111111,
             "#46039f"
            ],
            [
             0.2222222222222222,
             "#7201a8"
            ],
            [
             0.3333333333333333,
             "#9c179e"
            ],
            [
             0.4444444444444444,
             "#bd3786"
            ],
            [
             0.5555555555555556,
             "#d8576b"
            ],
            [
             0.6666666666666666,
             "#ed7953"
            ],
            [
             0.7777777777777778,
             "#fb9f3a"
            ],
            [
             0.8888888888888888,
             "#fdca26"
            ],
            [
             1,
             "#f0f921"
            ]
           ],
           "sequentialminus": [
            [
             0,
             "#0d0887"
            ],
            [
             0.1111111111111111,
             "#46039f"
            ],
            [
             0.2222222222222222,
             "#7201a8"
            ],
            [
             0.3333333333333333,
             "#9c179e"
            ],
            [
             0.4444444444444444,
             "#bd3786"
            ],
            [
             0.5555555555555556,
             "#d8576b"
            ],
            [
             0.6666666666666666,
             "#ed7953"
            ],
            [
             0.7777777777777778,
             "#fb9f3a"
            ],
            [
             0.8888888888888888,
             "#fdca26"
            ],
            [
             1,
             "#f0f921"
            ]
           ]
          },
          "colorway": [
           "#636efa",
           "#EF553B",
           "#00cc96",
           "#ab63fa",
           "#FFA15A",
           "#19d3f3",
           "#FF6692",
           "#B6E880",
           "#FF97FF",
           "#FECB52"
          ],
          "font": {
           "color": "#2a3f5f"
          },
          "geo": {
           "bgcolor": "white",
           "lakecolor": "white",
           "landcolor": "#E5ECF6",
           "showlakes": true,
           "showland": true,
           "subunitcolor": "white"
          },
          "hoverlabel": {
           "align": "left"
          },
          "hovermode": "closest",
          "mapbox": {
           "style": "light"
          },
          "paper_bgcolor": "white",
          "plot_bgcolor": "#E5ECF6",
          "polar": {
           "angularaxis": {
            "gridcolor": "white",
            "linecolor": "white",
            "ticks": ""
           },
           "bgcolor": "#E5ECF6",
           "radialaxis": {
            "gridcolor": "white",
            "linecolor": "white",
            "ticks": ""
           }
          },
          "scene": {
           "xaxis": {
            "backgroundcolor": "#E5ECF6",
            "gridcolor": "white",
            "gridwidth": 2,
            "linecolor": "white",
            "showbackground": true,
            "ticks": "",
            "zerolinecolor": "white"
           },
           "yaxis": {
            "backgroundcolor": "#E5ECF6",
            "gridcolor": "white",
            "gridwidth": 2,
            "linecolor": "white",
            "showbackground": true,
            "ticks": "",
            "zerolinecolor": "white"
           },
           "zaxis": {
            "backgroundcolor": "#E5ECF6",
            "gridcolor": "white",
            "gridwidth": 2,
            "linecolor": "white",
            "showbackground": true,
            "ticks": "",
            "zerolinecolor": "white"
           }
          },
          "shapedefaults": {
           "line": {
            "color": "#2a3f5f"
           }
          },
          "ternary": {
           "aaxis": {
            "gridcolor": "white",
            "linecolor": "white",
            "ticks": ""
           },
           "baxis": {
            "gridcolor": "white",
            "linecolor": "white",
            "ticks": ""
           },
           "bgcolor": "#E5ECF6",
           "caxis": {
            "gridcolor": "white",
            "linecolor": "white",
            "ticks": ""
           }
          },
          "title": {
           "x": 0.05
          },
          "xaxis": {
           "automargin": true,
           "gridcolor": "white",
           "linecolor": "white",
           "ticks": "",
           "title": {
            "standoff": 15
           },
           "zerolinecolor": "white",
           "zerolinewidth": 2
          },
          "yaxis": {
           "automargin": true,
           "gridcolor": "white",
           "linecolor": "white",
           "ticks": "",
           "title": {
            "standoff": 15
           },
           "zerolinecolor": "white",
           "zerolinewidth": 2
          }
         }
        }
       }
      },
      "text/html": "<div>\n        \n        \n            <div id=\"3f81df21-2baf-4d8a-82fa-3f7b0f6f9d50\" class=\"plotly-graph-div\" style=\"height:525px; width:100%;\"></div>\n            <script type=\"text/javascript\">\n                require([\"plotly\"], function(Plotly) {\n                    window.PLOTLYENV=window.PLOTLYENV || {};\n                    \n                if (document.getElementById(\"3f81df21-2baf-4d8a-82fa-3f7b0f6f9d50\")) {\n                    Plotly.newPlot(\n                        '3f81df21-2baf-4d8a-82fa-3f7b0f6f9d50',\n                        [{\"type\": \"scatter\", \"x\": [1900, 1901, 1902, 1903, 1904, 1905, 1906, 1907, 1908, 1909, 1910, 1911, 1912, 1913, 1914, 1915, 1916, 1917, 1918, 1919, 1920, 1921, 1922, 1923, 1924, 1925, 1926, 1927, 1928, 1929, 1930, 1931, 1932, 1933, 1934, 1935, 1936, 1937, 1938, 1939, 1940, 1941, 1942, 1943, 1944, 1945, 1946, 1947, 1948, 1949, 1950, 1951, 1952, 1953, 1954, 1955, 1956, 1957, 1958, 1959, 1960, 1961, 1962, 1963, 1964, 1965, 1966, 1967, 1968, 1969, 1970, 1971, 1972, 1973, 1974, 1975, 1976, 1977, 1978, 1979, 1980, 1981, 1982, 1983, 1984, 1985, 1986, 1987, 1988, 1989, 1990, 1991, 1992, 1993, 1994, 1995, 1996, 1997, 1998, 1999, 2000, 2001, 2002, 2003, 2004, 2005, 2006, 2007, 2008, 2009, 2010, 2011, 2012, 2013, 2014, 2015, 2016, 2017, 2018, 2019, 2020], \"y\": [1490000.0, 1550000.0, 1623000.0, 1702000.0, 1792000.0, 1893000.0, 1976000.0, 2054000.0, 2161000.0, 2282000.0, 2406000.0, 2534000.0, 2668000.0, 2811000.0, 2934000.0, 3008000.0, 3071000.0, 3171000.0, 3262000.0, 3339000.0, 3554000.0, 3795000.0, 3991000.0, 4270000.0, 4541000.0, 4730000.0, 4929000.0, 5147000.0, 5344000.0, 5531000.0, 5711000.0, 5824000.0, 5894000.0, 5963000.0, 6060000.0, 6175000.0, 6341000.0, 6528000.0, 6656000.0, 6785000.0, 6950000.0, 7237000.0, 7735000.0, 8506000.0, 8945000.0, 9344000.0, 9559000.0, 9832000.0, 10064000.0, 10337000.0, 10677000.0, 11134000.0, 11635000.0, 12251000.0, 12746000.0, 13133000.0, 13713000.0, 14264000.0, 14880000.0, 15467000.0, 15870000.0, 16497000.0, 17072000.0, 17668000.0, 18151000.0, 18585000.0, 18858000.0, 19176000.0, 19394000.0, 19711000.0, 19971069.0, 20345939.0, 20585468.999999996, 20868728.0, 21173865.0, 21537849.0, 21935909.0, 22352396.0, 22835958.0, 23256880.0, 23800800.0, 24285932.999999996, 24820009.0, 25360026.0, 25844392.999999996, 26441109.0, 27102237.0, 27777158.0, 28464249.0, 29218164.0, 29950111.0, 30414113.999999996, 30875920.0, 31147208.0, 31317179.0, 31493525.0, 31780828.999999996, 32217708.0, 32682793.999999996, 33145121.0, 33987977.0, 34479458.0, 34871843.0, 35253159.0, 35574576.0, 35827943.0, 36021202.00000001, 36250311.0, 36604337.0, 36961229.0, 37319550.0, 37636311.0, 37944551.0, 38253768.0, 38586706.0, 38904296.0, 39149186.0, 39337785.0, 39437462.99999999, 39437610.0, 39368078.0]}],\n                        {\"template\": {\"data\": {\"bar\": [{\"error_x\": {\"color\": \"#2a3f5f\"}, \"error_y\": {\"color\": \"#2a3f5f\"}, \"marker\": {\"line\": {\"color\": \"#E5ECF6\", \"width\": 0.5}}, \"type\": \"bar\"}], \"barpolar\": [{\"marker\": {\"line\": {\"color\": \"#E5ECF6\", \"width\": 0.5}}, \"type\": \"barpolar\"}], \"carpet\": [{\"aaxis\": {\"endlinecolor\": \"#2a3f5f\", \"gridcolor\": \"white\", \"linecolor\": \"white\", \"minorgridcolor\": \"white\", \"startlinecolor\": \"#2a3f5f\"}, \"baxis\": {\"endlinecolor\": \"#2a3f5f\", \"gridcolor\": \"white\", \"linecolor\": \"white\", \"minorgridcolor\": \"white\", \"startlinecolor\": \"#2a3f5f\"}, \"type\": \"carpet\"}], \"choropleth\": [{\"colorbar\": {\"outlinewidth\": 0, \"ticks\": \"\"}, \"type\": \"choropleth\"}], \"contour\": [{\"colorbar\": {\"outlinewidth\": 0, \"ticks\": \"\"}, \"colorscale\": [[0.0, \"#0d0887\"], [0.1111111111111111, \"#46039f\"], [0.2222222222222222, \"#7201a8\"], [0.3333333333333333, \"#9c179e\"], [0.4444444444444444, \"#bd3786\"], [0.5555555555555556, \"#d8576b\"], [0.6666666666666666, \"#ed7953\"], [0.7777777777777778, \"#fb9f3a\"], [0.8888888888888888, \"#fdca26\"], [1.0, \"#f0f921\"]], \"type\": \"contour\"}], \"contourcarpet\": [{\"colorbar\": {\"outlinewidth\": 0, \"ticks\": \"\"}, \"type\": \"contourcarpet\"}], \"heatmap\": [{\"colorbar\": {\"outlinewidth\": 0, \"ticks\": \"\"}, \"colorscale\": [[0.0, \"#0d0887\"], [0.1111111111111111, \"#46039f\"], [0.2222222222222222, \"#7201a8\"], [0.3333333333333333, \"#9c179e\"], [0.4444444444444444, \"#bd3786\"], [0.5555555555555556, \"#d8576b\"], [0.6666666666666666, \"#ed7953\"], [0.7777777777777778, \"#fb9f3a\"], [0.8888888888888888, \"#fdca26\"], [1.0, \"#f0f921\"]], \"type\": \"heatmap\"}], \"heatmapgl\": [{\"colorbar\": {\"outlinewidth\": 0, \"ticks\": \"\"}, \"colorscale\": [[0.0, \"#0d0887\"], [0.1111111111111111, \"#46039f\"], [0.2222222222222222, \"#7201a8\"], [0.3333333333333333, \"#9c179e\"], [0.4444444444444444, \"#bd3786\"], [0.5555555555555556, \"#d8576b\"], [0.6666666666666666, \"#ed7953\"], [0.7777777777777778, \"#fb9f3a\"], [0.8888888888888888, \"#fdca26\"], [1.0, \"#f0f921\"]], \"type\": \"heatmapgl\"}], \"histogram\": [{\"marker\": {\"colorbar\": {\"outlinewidth\": 0, \"ticks\": \"\"}}, \"type\": \"histogram\"}], \"histogram2d\": [{\"colorbar\": {\"outlinewidth\": 0, \"ticks\": \"\"}, \"colorscale\": [[0.0, \"#0d0887\"], [0.1111111111111111, \"#46039f\"], [0.2222222222222222, \"#7201a8\"], [0.3333333333333333, \"#9c179e\"], [0.4444444444444444, \"#bd3786\"], [0.5555555555555556, \"#d8576b\"], [0.6666666666666666, \"#ed7953\"], [0.7777777777777778, \"#fb9f3a\"], [0.8888888888888888, \"#fdca26\"], [1.0, \"#f0f921\"]], \"type\": \"histogram2d\"}], \"histogram2dcontour\": [{\"colorbar\": {\"outlinewidth\": 0, \"ticks\": \"\"}, \"colorscale\": [[0.0, \"#0d0887\"], [0.1111111111111111, \"#46039f\"], [0.2222222222222222, \"#7201a8\"], [0.3333333333333333, \"#9c179e\"], [0.4444444444444444, \"#bd3786\"], [0.5555555555555556, \"#d8576b\"], [0.6666666666666666, \"#ed7953\"], [0.7777777777777778, \"#fb9f3a\"], [0.8888888888888888, \"#fdca26\"], [1.0, \"#f0f921\"]], \"type\": \"histogram2dcontour\"}], \"mesh3d\": [{\"colorbar\": {\"outlinewidth\": 0, \"ticks\": \"\"}, \"type\": \"mesh3d\"}], \"parcoords\": [{\"line\": {\"colorbar\": {\"outlinewidth\": 0, \"ticks\": \"\"}}, \"type\": \"parcoords\"}], \"pie\": [{\"automargin\": true, \"type\": \"pie\"}], \"scatter\": [{\"marker\": {\"colorbar\": {\"outlinewidth\": 0, \"ticks\": \"\"}}, \"type\": \"scatter\"}], \"scatter3d\": [{\"line\": {\"colorbar\": {\"outlinewidth\": 0, \"ticks\": \"\"}}, \"marker\": {\"colorbar\": {\"outlinewidth\": 0, \"ticks\": \"\"}}, \"type\": \"scatter3d\"}], \"scattercarpet\": [{\"marker\": {\"colorbar\": {\"outlinewidth\": 0, \"ticks\": \"\"}}, \"type\": \"scattercarpet\"}], \"scattergeo\": [{\"marker\": {\"colorbar\": {\"outlinewidth\": 0, \"ticks\": \"\"}}, \"type\": \"scattergeo\"}], \"scattergl\": [{\"marker\": {\"colorbar\": {\"outlinewidth\": 0, \"ticks\": \"\"}}, \"type\": \"scattergl\"}], \"scattermapbox\": [{\"marker\": {\"colorbar\": {\"outlinewidth\": 0, \"ticks\": \"\"}}, \"type\": \"scattermapbox\"}], \"scatterpolar\": [{\"marker\": {\"colorbar\": {\"outlinewidth\": 0, \"ticks\": \"\"}}, \"type\": \"scatterpolar\"}], \"scatterpolargl\": [{\"marker\": {\"colorbar\": {\"outlinewidth\": 0, \"ticks\": \"\"}}, \"type\": \"scatterpolargl\"}], \"scatterternary\": [{\"marker\": {\"colorbar\": {\"outlinewidth\": 0, \"ticks\": \"\"}}, \"type\": \"scatterternary\"}], \"surface\": [{\"colorbar\": {\"outlinewidth\": 0, \"ticks\": \"\"}, \"colorscale\": [[0.0, \"#0d0887\"], [0.1111111111111111, \"#46039f\"], [0.2222222222222222, \"#7201a8\"], [0.3333333333333333, \"#9c179e\"], [0.4444444444444444, \"#bd3786\"], [0.5555555555555556, \"#d8576b\"], [0.6666666666666666, \"#ed7953\"], [0.7777777777777778, \"#fb9f3a\"], [0.8888888888888888, \"#fdca26\"], [1.0, \"#f0f921\"]], \"type\": \"surface\"}], \"table\": [{\"cells\": {\"fill\": {\"color\": \"#EBF0F8\"}, \"line\": {\"color\": \"white\"}}, \"header\": {\"fill\": {\"color\": \"#C8D4E3\"}, \"line\": {\"color\": \"white\"}}, \"type\": \"table\"}]}, \"layout\": {\"annotationdefaults\": {\"arrowcolor\": \"#2a3f5f\", \"arrowhead\": 0, \"arrowwidth\": 1}, \"coloraxis\": {\"colorbar\": {\"outlinewidth\": 0, \"ticks\": \"\"}}, \"colorscale\": {\"diverging\": [[0, \"#8e0152\"], [0.1, \"#c51b7d\"], [0.2, \"#de77ae\"], [0.3, \"#f1b6da\"], [0.4, \"#fde0ef\"], [0.5, \"#f7f7f7\"], [0.6, \"#e6f5d0\"], [0.7, \"#b8e186\"], [0.8, \"#7fbc41\"], [0.9, \"#4d9221\"], [1, \"#276419\"]], \"sequential\": [[0.0, \"#0d0887\"], [0.1111111111111111, \"#46039f\"], [0.2222222222222222, \"#7201a8\"], [0.3333333333333333, \"#9c179e\"], [0.4444444444444444, \"#bd3786\"], [0.5555555555555556, \"#d8576b\"], [0.6666666666666666, \"#ed7953\"], [0.7777777777777778, \"#fb9f3a\"], [0.8888888888888888, \"#fdca26\"], [1.0, \"#f0f921\"]], \"sequentialminus\": [[0.0, \"#0d0887\"], [0.1111111111111111, \"#46039f\"], [0.2222222222222222, \"#7201a8\"], [0.3333333333333333, \"#9c179e\"], [0.4444444444444444, \"#bd3786\"], [0.5555555555555556, \"#d8576b\"], [0.6666666666666666, \"#ed7953\"], [0.7777777777777778, \"#fb9f3a\"], [0.8888888888888888, \"#fdca26\"], [1.0, \"#f0f921\"]]}, \"colorway\": [\"#636efa\", \"#EF553B\", \"#00cc96\", \"#ab63fa\", \"#FFA15A\", \"#19d3f3\", \"#FF6692\", \"#B6E880\", \"#FF97FF\", \"#FECB52\"], \"font\": {\"color\": \"#2a3f5f\"}, \"geo\": {\"bgcolor\": \"white\", \"lakecolor\": \"white\", \"landcolor\": \"#E5ECF6\", \"showlakes\": true, \"showland\": true, \"subunitcolor\": \"white\"}, \"hoverlabel\": {\"align\": \"left\"}, \"hovermode\": \"closest\", \"mapbox\": {\"style\": \"light\"}, \"paper_bgcolor\": \"white\", \"plot_bgcolor\": \"#E5ECF6\", \"polar\": {\"angularaxis\": {\"gridcolor\": \"white\", \"linecolor\": \"white\", \"ticks\": \"\"}, \"bgcolor\": \"#E5ECF6\", \"radialaxis\": {\"gridcolor\": \"white\", \"linecolor\": \"white\", \"ticks\": \"\"}}, \"scene\": {\"xaxis\": {\"backgroundcolor\": \"#E5ECF6\", \"gridcolor\": \"white\", \"gridwidth\": 2, \"linecolor\": \"white\", \"showbackground\": true, \"ticks\": \"\", \"zerolinecolor\": \"white\"}, \"yaxis\": {\"backgroundcolor\": \"#E5ECF6\", \"gridcolor\": \"white\", \"gridwidth\": 2, \"linecolor\": \"white\", \"showbackground\": true, \"ticks\": \"\", \"zerolinecolor\": \"white\"}, \"zaxis\": {\"backgroundcolor\": \"#E5ECF6\", \"gridcolor\": \"white\", \"gridwidth\": 2, \"linecolor\": \"white\", \"showbackground\": true, \"ticks\": \"\", \"zerolinecolor\": \"white\"}}, \"shapedefaults\": {\"line\": {\"color\": \"#2a3f5f\"}}, \"ternary\": {\"aaxis\": {\"gridcolor\": \"white\", \"linecolor\": \"white\", \"ticks\": \"\"}, \"baxis\": {\"gridcolor\": \"white\", \"linecolor\": \"white\", \"ticks\": \"\"}, \"bgcolor\": \"#E5ECF6\", \"caxis\": {\"gridcolor\": \"white\", \"linecolor\": \"white\", \"ticks\": \"\"}}, \"title\": {\"x\": 0.05}, \"xaxis\": {\"automargin\": true, \"gridcolor\": \"white\", \"linecolor\": \"white\", \"ticks\": \"\", \"title\": {\"standoff\": 15}, \"zerolinecolor\": \"white\", \"zerolinewidth\": 2}, \"yaxis\": {\"automargin\": true, \"gridcolor\": \"white\", \"linecolor\": \"white\", \"ticks\": \"\", \"title\": {\"standoff\": 15}, \"zerolinecolor\": \"white\", \"zerolinewidth\": 2}}}},\n                        {\"responsive\": true}\n                    ).then(function(){\n                            \nvar gd = document.getElementById('3f81df21-2baf-4d8a-82fa-3f7b0f6f9d50');\nvar x = new MutationObserver(function (mutations, observer) {{\n        var display = window.getComputedStyle(gd).display;\n        if (!display || display === 'none') {{\n            console.log([gd, 'removed!']);\n            Plotly.purge(gd);\n            observer.disconnect();\n        }}\n}});\n\n// Listen for the removal of the full notebook cells\nvar notebookContainer = gd.closest('#notebook-container');\nif (notebookContainer) {{\n    x.observe(notebookContainer, {childList: true});\n}}\n\n// Listen for the clearing of the current output cell\nvar outputEl = gd.closest('.output');\nif (outputEl) {{\n    x.observe(outputEl, {childList: true});\n}}\n\n                        })\n                };\n                });\n            </script>\n        </div>"
     },
     "metadata": {}
    }
   ],
   "source": [
    "fig = go.Figure()\n",
    "fig.add_trace(go.Scatter(\n",
    "    x = state_pop['DATE'],\n",
    "    y = state_pop['CALIFORNIA'] *1000\n",
    "))"
   ]
  },
  {
   "cell_type": "code",
   "execution_count": 117,
   "metadata": {},
   "outputs": [
    {
     "output_type": "execute_result",
     "data": {
      "text/plain": [
       "        State      1992      1993      1994      1995      1996      1997  \\\n",
       "1     Alabama  1328.224  1381.320  1386.588  1255.353  1187.131  1259.965   \n",
       "2      Alaska   663.753   690.286   702.651   645.963   621.262   643.259   \n",
       "3     Arizona  1334.245  1387.581  1482.938  1433.423  1451.814  1485.783   \n",
       "4    Arkansas   818.852   851.586   932.240   922.080   954.727  1002.030   \n",
       "5  California  6242.776  6492.330  6675.239  6202.962  6034.941  6411.536   \n",
       "\n",
       "       1998      1999      2000  ...      2008      2009      2010      2011  \\\n",
       "1  1375.223  1496.583  1589.559  ...  1328.456  1326.456  1302.806  1250.968   \n",
       "2   685.790   729.804   758.803  ...   957.262  1019.194   906.204   778.668   \n",
       "3  1565.931  1647.698  1694.202  ...  1894.816  1994.613  1811.447  1596.965   \n",
       "4  1082.284  1166.251  1227.278  ...   703.331   646.685   695.219   725.506   \n",
       "5  7004.449  7629.059  8109.436  ...  6948.694  6967.680  7253.290  7360.099   \n",
       "\n",
       "       2012      2013      2014      2015      2016      2017  \n",
       "1  1195.081  1136.053  1106.495  1119.064  1102.454  1072.971  \n",
       "2   656.070   539.793   610.094   709.777   798.959   777.593  \n",
       "3  1388.926  1189.758  1175.529  1207.277  1209.132  1176.797  \n",
       "4   748.719   764.869   784.183   836.215   870.164   846.894  \n",
       "5  7410.836  7407.330  6781.600  6382.483  5775.840  5621.377  \n",
       "\n",
       "[5 rows x 27 columns]"
      ],
      "text/html": "<div>\n<style scoped>\n    .dataframe tbody tr th:only-of-type {\n        vertical-align: middle;\n    }\n\n    .dataframe tbody tr th {\n        vertical-align: top;\n    }\n\n    .dataframe thead th {\n        text-align: right;\n    }\n</style>\n<table border=\"1\" class=\"dataframe\">\n  <thead>\n    <tr style=\"text-align: right;\">\n      <th></th>\n      <th>State</th>\n      <th>1992</th>\n      <th>1993</th>\n      <th>1994</th>\n      <th>1995</th>\n      <th>1996</th>\n      <th>1997</th>\n      <th>1998</th>\n      <th>1999</th>\n      <th>2000</th>\n      <th>...</th>\n      <th>2008</th>\n      <th>2009</th>\n      <th>2010</th>\n      <th>2011</th>\n      <th>2012</th>\n      <th>2013</th>\n      <th>2014</th>\n      <th>2015</th>\n      <th>2016</th>\n      <th>2017</th>\n    </tr>\n  </thead>\n  <tbody>\n    <tr>\n      <th>1</th>\n      <td>Alabama</td>\n      <td>1328.224</td>\n      <td>1381.320</td>\n      <td>1386.588</td>\n      <td>1255.353</td>\n      <td>1187.131</td>\n      <td>1259.965</td>\n      <td>1375.223</td>\n      <td>1496.583</td>\n      <td>1589.559</td>\n      <td>...</td>\n      <td>1328.456</td>\n      <td>1326.456</td>\n      <td>1302.806</td>\n      <td>1250.968</td>\n      <td>1195.081</td>\n      <td>1136.053</td>\n      <td>1106.495</td>\n      <td>1119.064</td>\n      <td>1102.454</td>\n      <td>1072.971</td>\n    </tr>\n    <tr>\n      <th>2</th>\n      <td>Alaska</td>\n      <td>663.753</td>\n      <td>690.286</td>\n      <td>702.651</td>\n      <td>645.963</td>\n      <td>621.262</td>\n      <td>643.259</td>\n      <td>685.790</td>\n      <td>729.804</td>\n      <td>758.803</td>\n      <td>...</td>\n      <td>957.262</td>\n      <td>1019.194</td>\n      <td>906.204</td>\n      <td>778.668</td>\n      <td>656.070</td>\n      <td>539.793</td>\n      <td>610.094</td>\n      <td>709.777</td>\n      <td>798.959</td>\n      <td>777.593</td>\n    </tr>\n    <tr>\n      <th>3</th>\n      <td>Arizona</td>\n      <td>1334.245</td>\n      <td>1387.581</td>\n      <td>1482.938</td>\n      <td>1433.423</td>\n      <td>1451.814</td>\n      <td>1485.783</td>\n      <td>1565.931</td>\n      <td>1647.698</td>\n      <td>1694.202</td>\n      <td>...</td>\n      <td>1894.816</td>\n      <td>1994.613</td>\n      <td>1811.447</td>\n      <td>1596.965</td>\n      <td>1388.926</td>\n      <td>1189.758</td>\n      <td>1175.529</td>\n      <td>1207.277</td>\n      <td>1209.132</td>\n      <td>1176.797</td>\n    </tr>\n    <tr>\n      <th>4</th>\n      <td>Arkansas</td>\n      <td>818.852</td>\n      <td>851.586</td>\n      <td>932.240</td>\n      <td>922.080</td>\n      <td>954.727</td>\n      <td>1002.030</td>\n      <td>1082.284</td>\n      <td>1166.251</td>\n      <td>1227.278</td>\n      <td>...</td>\n      <td>703.331</td>\n      <td>646.685</td>\n      <td>695.219</td>\n      <td>725.506</td>\n      <td>748.719</td>\n      <td>764.869</td>\n      <td>784.183</td>\n      <td>836.215</td>\n      <td>870.164</td>\n      <td>846.894</td>\n    </tr>\n    <tr>\n      <th>5</th>\n      <td>California</td>\n      <td>6242.776</td>\n      <td>6492.330</td>\n      <td>6675.239</td>\n      <td>6202.962</td>\n      <td>6034.941</td>\n      <td>6411.536</td>\n      <td>7004.449</td>\n      <td>7629.059</td>\n      <td>8109.436</td>\n      <td>...</td>\n      <td>6948.694</td>\n      <td>6967.680</td>\n      <td>7253.290</td>\n      <td>7360.099</td>\n      <td>7410.836</td>\n      <td>7407.330</td>\n      <td>6781.600</td>\n      <td>6382.483</td>\n      <td>5775.840</td>\n      <td>5621.377</td>\n    </tr>\n  </tbody>\n</table>\n<p>5 rows × 27 columns</p>\n</div>"
     },
     "metadata": {},
     "execution_count": 117
    }
   ],
   "source": [
    "state_infra.head()"
   ]
  },
  {
   "source": [
    "## Normalize the data by population"
   ],
   "cell_type": "markdown",
   "metadata": {}
  },
  {
   "cell_type": "code",
   "execution_count": 118,
   "metadata": {
    "tags": []
   },
   "outputs": [
    {
     "output_type": "stream",
     "name": "stdout",
     "text": [
      "Could not find Alaska\n",
      "Could not find Alaska\n",
      "Could not find Alaska\n",
      "Could not find Alaska\n",
      "Could not find Alaska\n",
      "Could not find Alaska\n",
      "Could not find Alaska\n",
      "Could not find Alaska\n",
      "Could not find Alaska\n",
      "Could not find Alaska\n",
      "Could not find Alaska\n",
      "Could not find Alaska\n",
      "Could not find Alaska\n",
      "Could not find Alaska\n",
      "Could not find Alaska\n",
      "Could not find Alaska\n",
      "Could not find Alaska\n",
      "Could not find Alaska\n",
      "Could not find Alaska\n",
      "Could not find Alaska\n",
      "Could not find Alaska\n",
      "Could not find Alaska\n",
      "Could not find Alaska\n",
      "Could not find Alaska\n",
      "Could not find Alaska\n",
      "Could not find Alaska\n",
      "Could not find District of Columbia\n",
      "Could not find District of Columbia\n",
      "Could not find District of Columbia\n",
      "Could not find District of Columbia\n",
      "Could not find District of Columbia\n",
      "Could not find District of Columbia\n",
      "Could not find District of Columbia\n",
      "Could not find District of Columbia\n",
      "Could not find District of Columbia\n",
      "Could not find District of Columbia\n",
      "Could not find District of Columbia\n",
      "Could not find District of Columbia\n",
      "Could not find District of Columbia\n",
      "Could not find District of Columbia\n",
      "Could not find District of Columbia\n",
      "Could not find District of Columbia\n",
      "Could not find District of Columbia\n",
      "Could not find District of Columbia\n",
      "Could not find District of Columbia\n",
      "Could not find District of Columbia\n",
      "Could not find District of Columbia\n",
      "Could not find District of Columbia\n",
      "Could not find District of Columbia\n",
      "Could not find District of Columbia\n",
      "Could not find District of Columbia\n",
      "Could not find District of Columbia\n",
      "Could not find Hawaii\n",
      "Could not find Hawaii\n",
      "Could not find Hawaii\n",
      "Could not find Hawaii\n",
      "Could not find Hawaii\n",
      "Could not find Hawaii\n",
      "Could not find Hawaii\n",
      "Could not find Hawaii\n",
      "Could not find Hawaii\n",
      "Could not find Hawaii\n",
      "Could not find Hawaii\n",
      "Could not find Hawaii\n",
      "Could not find Hawaii\n",
      "Could not find Hawaii\n",
      "Could not find Hawaii\n",
      "Could not find Hawaii\n",
      "Could not find Hawaii\n",
      "Could not find Hawaii\n",
      "Could not find Hawaii\n",
      "Could not find Hawaii\n",
      "Could not find Hawaii\n",
      "Could not find Hawaii\n",
      "Could not find Hawaii\n",
      "Could not find Hawaii\n",
      "Could not find Hawaii\n",
      "Could not find Hawaii\n",
      "Could not find New Hampshire\n",
      "Could not find New Hampshire\n",
      "Could not find New Hampshire\n",
      "Could not find New Hampshire\n",
      "Could not find New Hampshire\n",
      "Could not find New Hampshire\n",
      "Could not find New Hampshire\n",
      "Could not find New Hampshire\n",
      "Could not find New Hampshire\n",
      "Could not find New Hampshire\n",
      "Could not find New Hampshire\n",
      "Could not find New Hampshire\n",
      "Could not find New Hampshire\n",
      "Could not find New Hampshire\n",
      "Could not find New Hampshire\n",
      "Could not find New Hampshire\n",
      "Could not find New Hampshire\n",
      "Could not find New Hampshire\n",
      "Could not find New Hampshire\n",
      "Could not find New Hampshire\n",
      "Could not find New Hampshire\n",
      "Could not find New Hampshire\n",
      "Could not find New Hampshire\n",
      "Could not find New Hampshire\n",
      "Could not find New Hampshire\n",
      "Could not find New Hampshire\n",
      "Could not find New Jersey\n",
      "Could not find New Jersey\n",
      "Could not find New Jersey\n",
      "Could not find New Jersey\n",
      "Could not find New Jersey\n",
      "Could not find New Jersey\n",
      "Could not find New Jersey\n",
      "Could not find New Jersey\n",
      "Could not find New Jersey\n",
      "Could not find New Jersey\n",
      "Could not find New Jersey\n",
      "Could not find New Jersey\n",
      "Could not find New Jersey\n",
      "Could not find New Jersey\n",
      "Could not find New Jersey\n",
      "Could not find New Jersey\n",
      "Could not find New Jersey\n",
      "Could not find New Jersey\n",
      "Could not find New Jersey\n",
      "Could not find New Jersey\n",
      "Could not find New Jersey\n",
      "Could not find New Jersey\n",
      "Could not find New Jersey\n",
      "Could not find New Jersey\n",
      "Could not find New Jersey\n",
      "Could not find New Jersey\n",
      "Could not find New Mexico\n",
      "Could not find New Mexico\n",
      "Could not find New Mexico\n",
      "Could not find New Mexico\n",
      "Could not find New Mexico\n",
      "Could not find New Mexico\n",
      "Could not find New Mexico\n",
      "Could not find New Mexico\n",
      "Could not find New Mexico\n",
      "Could not find New Mexico\n",
      "Could not find New Mexico\n",
      "Could not find New Mexico\n",
      "Could not find New Mexico\n",
      "Could not find New Mexico\n",
      "Could not find New Mexico\n",
      "Could not find New Mexico\n",
      "Could not find New Mexico\n",
      "Could not find New Mexico\n",
      "Could not find New Mexico\n",
      "Could not find New Mexico\n",
      "Could not find New Mexico\n",
      "Could not find New Mexico\n",
      "Could not find New Mexico\n",
      "Could not find New Mexico\n",
      "Could not find New Mexico\n",
      "Could not find New Mexico\n",
      "Could not find New York\n",
      "Could not find New York\n",
      "Could not find New York\n",
      "Could not find New York\n",
      "Could not find New York\n",
      "Could not find New York\n",
      "Could not find New York\n",
      "Could not find New York\n",
      "Could not find New York\n",
      "Could not find New York\n",
      "Could not find New York\n",
      "Could not find New York\n",
      "Could not find New York\n",
      "Could not find New York\n",
      "Could not find New York\n",
      "Could not find New York\n",
      "Could not find New York\n",
      "Could not find New York\n",
      "Could not find New York\n",
      "Could not find New York\n",
      "Could not find New York\n",
      "Could not find New York\n",
      "Could not find New York\n",
      "Could not find New York\n",
      "Could not find New York\n",
      "Could not find New York\n",
      "Could not find North Carolina\n",
      "Could not find North Carolina\n",
      "Could not find North Carolina\n",
      "Could not find North Carolina\n",
      "Could not find North Carolina\n",
      "Could not find North Carolina\n",
      "Could not find North Carolina\n",
      "Could not find North Carolina\n",
      "Could not find North Carolina\n",
      "Could not find North Carolina\n",
      "Could not find North Carolina\n",
      "Could not find North Carolina\n",
      "Could not find North Carolina\n",
      "Could not find North Carolina\n",
      "Could not find North Carolina\n",
      "Could not find North Carolina\n",
      "Could not find North Carolina\n",
      "Could not find North Carolina\n",
      "Could not find North Carolina\n",
      "Could not find North Carolina\n",
      "Could not find North Carolina\n",
      "Could not find North Carolina\n",
      "Could not find North Carolina\n",
      "Could not find North Carolina\n",
      "Could not find North Carolina\n",
      "Could not find North Carolina\n",
      "Could not find North Dakota\n",
      "Could not find North Dakota\n",
      "Could not find North Dakota\n",
      "Could not find North Dakota\n",
      "Could not find North Dakota\n",
      "Could not find North Dakota\n",
      "Could not find North Dakota\n",
      "Could not find North Dakota\n",
      "Could not find North Dakota\n",
      "Could not find North Dakota\n",
      "Could not find North Dakota\n",
      "Could not find North Dakota\n",
      "Could not find North Dakota\n",
      "Could not find North Dakota\n",
      "Could not find North Dakota\n",
      "Could not find North Dakota\n",
      "Could not find North Dakota\n",
      "Could not find North Dakota\n",
      "Could not find North Dakota\n",
      "Could not find North Dakota\n",
      "Could not find North Dakota\n",
      "Could not find North Dakota\n",
      "Could not find North Dakota\n",
      "Could not find North Dakota\n",
      "Could not find North Dakota\n",
      "Could not find North Dakota\n",
      "Could not find Rhode Island\n",
      "Could not find Rhode Island\n",
      "Could not find Rhode Island\n",
      "Could not find Rhode Island\n",
      "Could not find Rhode Island\n",
      "Could not find Rhode Island\n",
      "Could not find Rhode Island\n",
      "Could not find Rhode Island\n",
      "Could not find Rhode Island\n",
      "Could not find Rhode Island\n",
      "Could not find Rhode Island\n",
      "Could not find Rhode Island\n",
      "Could not find Rhode Island\n",
      "Could not find Rhode Island\n",
      "Could not find Rhode Island\n",
      "Could not find Rhode Island\n",
      "Could not find Rhode Island\n",
      "Could not find Rhode Island\n",
      "Could not find Rhode Island\n",
      "Could not find Rhode Island\n",
      "Could not find Rhode Island\n",
      "Could not find Rhode Island\n",
      "Could not find Rhode Island\n",
      "Could not find Rhode Island\n",
      "Could not find Rhode Island\n",
      "Could not find Rhode Island\n",
      "Could not find South Carolina\n",
      "Could not find South Carolina\n",
      "Could not find South Carolina\n",
      "Could not find South Carolina\n",
      "Could not find South Carolina\n",
      "Could not find South Carolina\n",
      "Could not find South Carolina\n",
      "Could not find South Carolina\n",
      "Could not find South Carolina\n",
      "Could not find South Carolina\n",
      "Could not find South Carolina\n",
      "Could not find South Carolina\n",
      "Could not find South Carolina\n",
      "Could not find South Carolina\n",
      "Could not find South Carolina\n",
      "Could not find South Carolina\n",
      "Could not find South Carolina\n",
      "Could not find South Carolina\n",
      "Could not find South Carolina\n",
      "Could not find South Carolina\n",
      "Could not find South Carolina\n",
      "Could not find South Carolina\n",
      "Could not find South Carolina\n",
      "Could not find South Carolina\n",
      "Could not find South Carolina\n",
      "Could not find South Carolina\n",
      "Could not find South Dakota\n",
      "Could not find South Dakota\n",
      "Could not find South Dakota\n",
      "Could not find South Dakota\n",
      "Could not find South Dakota\n",
      "Could not find South Dakota\n",
      "Could not find South Dakota\n",
      "Could not find South Dakota\n",
      "Could not find South Dakota\n",
      "Could not find South Dakota\n",
      "Could not find South Dakota\n",
      "Could not find South Dakota\n",
      "Could not find South Dakota\n",
      "Could not find South Dakota\n",
      "Could not find South Dakota\n",
      "Could not find South Dakota\n",
      "Could not find South Dakota\n",
      "Could not find South Dakota\n",
      "Could not find South Dakota\n",
      "Could not find South Dakota\n",
      "Could not find South Dakota\n",
      "Could not find South Dakota\n",
      "Could not find South Dakota\n",
      "Could not find South Dakota\n",
      "Could not find South Dakota\n",
      "Could not find South Dakota\n",
      "Could not find West Virginia\n",
      "Could not find West Virginia\n",
      "Could not find West Virginia\n",
      "Could not find West Virginia\n",
      "Could not find West Virginia\n",
      "Could not find West Virginia\n",
      "Could not find West Virginia\n",
      "Could not find West Virginia\n",
      "Could not find West Virginia\n",
      "Could not find West Virginia\n",
      "Could not find West Virginia\n",
      "Could not find West Virginia\n",
      "Could not find West Virginia\n",
      "Could not find West Virginia\n",
      "Could not find West Virginia\n",
      "Could not find West Virginia\n",
      "Could not find West Virginia\n",
      "Could not find West Virginia\n",
      "Could not find West Virginia\n",
      "Could not find West Virginia\n",
      "Could not find West Virginia\n",
      "Could not find West Virginia\n",
      "Could not find West Virginia\n",
      "Could not find West Virginia\n",
      "Could not find West Virginia\n",
      "Could not find West Virginia\n"
     ]
    }
   ],
   "source": [
    "not_included = []\n",
    "for state in state_infra['State']:\n",
    "    for date in range(1992,2018):\n",
    "        try:\n",
    "            states_funding = state_infra.loc[state_infra['State'] == state, date].item() *1000000\n",
    "            states_pop = state_pop.loc[state_pop['DATE'] == date, state.upper()].item()*1000\n",
    "            per_cap = states_funding/states_pop\n",
    "            state_infra.loc[state_infra['State'] == state, date]= per_cap\n",
    "        except:\n",
    "            not_included.append(state)\n",
    "            #print(\"Could not find \" + state)\n",
    "print(not_included)"
   ]
  },
  {
   "cell_type": "code",
   "execution_count": 124,
   "metadata": {},
   "outputs": [
    {
     "output_type": "stream",
     "name": "stdout",
     "text": [
      "{'North\\xa0Dakota', 'West\\xa0Virginia', 'Hawaii', 'South\\xa0Carolina', 'South\\xa0Dakota', 'New\\xa0York', 'New\\xa0Jersey', 'Alaska', 'New\\xa0Mexico', 'North\\xa0Carolina', 'Rhode\\xa0Island', 'District\\xa0of\\xa0Columbia', 'New\\xa0Hampshire'}\n"
     ]
    },
    {
     "output_type": "execute_result",
     "data": {
      "text/plain": [
       "        State        1992        1993        1994        1995        1996  \\\n",
       "1     Alabama  320.883712  329.425816  327.568974  294.495008  276.694520   \n",
       "3     Arizona  345.003908  347.469443  357.544591  332.819508  327.552598   \n",
       "4    Arkansas  342.029441  351.351608  380.412184  371.788312  381.150149   \n",
       "5  California  202.189149  208.440191  213.149435  196.959915  189.892498   \n",
       "6    Colorado  336.603666  340.141381  352.900865  332.178100  328.625840   \n",
       "\n",
       "         1997        1998        1999        2000  ...        2008  \\\n",
       "1  291.639595  316.067871  342.478321  357.029927  ...  281.559559   \n",
       "3  326.387398  335.512763  344.827023  328.296438  ...  301.704902   \n",
       "4  396.999691  426.397899  457.107212  458.180952  ...  244.674826   \n",
       "5  199.006584  214.316102  230.171403  238.597196  ...  189.832533   \n",
       "6  364.405867  412.440315  461.451585  480.105599  ...  289.674276   \n",
       "\n",
       "         2009        2010        2011        2012        2013        2014  \\\n",
       "1  278.787996  272.239513  260.637773  248.115488  235.130452  228.438291   \n",
       "3  314.451297  282.714267  246.695871  211.844589  179.323827  174.595451   \n",
       "4  223.237849  237.925899  246.683654  253.555855  258.361626  264.145052   \n",
       "5  188.513212  194.356309  195.558459  195.306989  193.636611  175.749648   \n",
       "6  267.771678  255.006450  237.439817  220.039240  202.667009  199.187429   \n",
       "\n",
       "         2015        2016        2017  \n",
       "1  230.506573  226.524321  219.961751  \n",
       "3  176.688215  174.106921  166.966843  \n",
       "4  280.634299  290.848197  281.935713  \n",
       "5  164.055995  147.534102  142.900191  \n",
       "6  202.887688  202.142232  194.159384  \n",
       "\n",
       "[5 rows x 27 columns]"
      ],
      "text/html": "<div>\n<style scoped>\n    .dataframe tbody tr th:only-of-type {\n        vertical-align: middle;\n    }\n\n    .dataframe tbody tr th {\n        vertical-align: top;\n    }\n\n    .dataframe thead th {\n        text-align: right;\n    }\n</style>\n<table border=\"1\" class=\"dataframe\">\n  <thead>\n    <tr style=\"text-align: right;\">\n      <th></th>\n      <th>State</th>\n      <th>1992</th>\n      <th>1993</th>\n      <th>1994</th>\n      <th>1995</th>\n      <th>1996</th>\n      <th>1997</th>\n      <th>1998</th>\n      <th>1999</th>\n      <th>2000</th>\n      <th>...</th>\n      <th>2008</th>\n      <th>2009</th>\n      <th>2010</th>\n      <th>2011</th>\n      <th>2012</th>\n      <th>2013</th>\n      <th>2014</th>\n      <th>2015</th>\n      <th>2016</th>\n      <th>2017</th>\n    </tr>\n  </thead>\n  <tbody>\n    <tr>\n      <th>1</th>\n      <td>Alabama</td>\n      <td>320.883712</td>\n      <td>329.425816</td>\n      <td>327.568974</td>\n      <td>294.495008</td>\n      <td>276.694520</td>\n      <td>291.639595</td>\n      <td>316.067871</td>\n      <td>342.478321</td>\n      <td>357.029927</td>\n      <td>...</td>\n      <td>281.559559</td>\n      <td>278.787996</td>\n      <td>272.239513</td>\n      <td>260.637773</td>\n      <td>248.115488</td>\n      <td>235.130452</td>\n      <td>228.438291</td>\n      <td>230.506573</td>\n      <td>226.524321</td>\n      <td>219.961751</td>\n    </tr>\n    <tr>\n      <th>3</th>\n      <td>Arizona</td>\n      <td>345.003908</td>\n      <td>347.469443</td>\n      <td>357.544591</td>\n      <td>332.819508</td>\n      <td>327.552598</td>\n      <td>326.387398</td>\n      <td>335.512763</td>\n      <td>344.827023</td>\n      <td>328.296438</td>\n      <td>...</td>\n      <td>301.704902</td>\n      <td>314.451297</td>\n      <td>282.714267</td>\n      <td>246.695871</td>\n      <td>211.844589</td>\n      <td>179.323827</td>\n      <td>174.595451</td>\n      <td>176.688215</td>\n      <td>174.106921</td>\n      <td>166.966843</td>\n    </tr>\n    <tr>\n      <th>4</th>\n      <td>Arkansas</td>\n      <td>342.029441</td>\n      <td>351.351608</td>\n      <td>380.412184</td>\n      <td>371.788312</td>\n      <td>381.150149</td>\n      <td>396.999691</td>\n      <td>426.397899</td>\n      <td>457.107212</td>\n      <td>458.180952</td>\n      <td>...</td>\n      <td>244.674826</td>\n      <td>223.237849</td>\n      <td>237.925899</td>\n      <td>246.683654</td>\n      <td>253.555855</td>\n      <td>258.361626</td>\n      <td>264.145052</td>\n      <td>280.634299</td>\n      <td>290.848197</td>\n      <td>281.935713</td>\n    </tr>\n    <tr>\n      <th>5</th>\n      <td>California</td>\n      <td>202.189149</td>\n      <td>208.440191</td>\n      <td>213.149435</td>\n      <td>196.959915</td>\n      <td>189.892498</td>\n      <td>199.006584</td>\n      <td>214.316102</td>\n      <td>230.171403</td>\n      <td>238.597196</td>\n      <td>...</td>\n      <td>189.832533</td>\n      <td>188.513212</td>\n      <td>194.356309</td>\n      <td>195.558459</td>\n      <td>195.306989</td>\n      <td>193.636611</td>\n      <td>175.749648</td>\n      <td>164.055995</td>\n      <td>147.534102</td>\n      <td>142.900191</td>\n    </tr>\n    <tr>\n      <th>6</th>\n      <td>Colorado</td>\n      <td>336.603666</td>\n      <td>340.141381</td>\n      <td>352.900865</td>\n      <td>332.178100</td>\n      <td>328.625840</td>\n      <td>364.405867</td>\n      <td>412.440315</td>\n      <td>461.451585</td>\n      <td>480.105599</td>\n      <td>...</td>\n      <td>289.674276</td>\n      <td>267.771678</td>\n      <td>255.006450</td>\n      <td>237.439817</td>\n      <td>220.039240</td>\n      <td>202.667009</td>\n      <td>199.187429</td>\n      <td>202.887688</td>\n      <td>202.142232</td>\n      <td>194.159384</td>\n    </tr>\n  </tbody>\n</table>\n<p>5 rows × 27 columns</p>\n</div>"
     },
     "metadata": {},
     "execution_count": 124
    }
   ],
   "source": [
    "print(set(not_included))\n",
    "state_infra = state_infra.loc[~state_infra['State'].isin(not_included)]\n",
    "state_infra.head()\n",
    "#state_infra.loc[state_infra['State'] == \"Alabama\", 1992 ]= 100\n",
    "#state_infra.loc[state_infra['State'] == \"Alabama\"][1992]"
   ]
  },
  {
   "cell_type": "code",
   "execution_count": 125,
   "metadata": {},
   "outputs": [
    {
     "output_type": "display_data",
     "data": {
      "application/vnd.plotly.v1+json": {
       "config": {
        "plotlyServerURL": "https://plot.ly"
       },
       "data": [
        {
         "labels": [
          "Alabama",
          "Arizona",
          "Arkansas",
          "California",
          "Colorado",
          "Connecticut",
          "Delaware",
          "Florida",
          "Georgia",
          "Idaho",
          "Illinois",
          "Indiana",
          "Iowa",
          "Kansas",
          "Kentucky",
          "Louisiana",
          "Maine",
          "Maryland",
          "Massachusetts",
          "Michigan",
          "Minnesota",
          "Mississippi",
          "Missouri",
          "Montana",
          "Nebraska",
          "Nevada",
          "Ohio",
          "Oklahoma",
          "Oregon",
          "Pennsylvania",
          "Tennessee",
          "Texas",
          "Utah",
          "Vermont",
          "Virginia",
          "Washington",
          "Wisconsin",
          "Wyoming"
         ],
         "parents": [
          "",
          "",
          "",
          "",
          "",
          "",
          "",
          "",
          "",
          "",
          "",
          "",
          "",
          "",
          "",
          "",
          "",
          "",
          "",
          "",
          "",
          "",
          "",
          "",
          "",
          "",
          "",
          "",
          "",
          "",
          "",
          "",
          "",
          "",
          "",
          "",
          "",
          ""
         ],
         "type": "treemap",
         "values": [
          320.88371159255416,
          345.00390837820277,
          342.02944073300256,
          202.18914934356613,
          336.60366561223356,
          448.9958311412193,
          765.5942552285129,
          384.7177017018055,
          390.32534188311104,
          464.01654023947714,
          390.68268461634125,
          296.7714935022516,
          543.5956027293944,
          445.2712979435813,
          432.2239786516621,
          345.5327032166204,
          246.58587349524336,
          260.7694574960556,
          386.9934198429826,
          223.7828635834279,
          609.351710152045,
          348.6811128525746,
          285.28659607069045,
          606.9213896278859,
          559.6365715055985,
          621.1668497791378,
          307.2876225890655,
          295.96520039173896,
          356.104069559042,
          213.84523044710048,
          387.24239873203004,
          344.2357003455827,
          346.56914254091964,
          349.04185997561893,
          296.1422082413292,
          343.15377024878916,
          457.1495309548987,
          983.9414357560341
         ]
        }
       ],
       "layout": {
        "template": {
         "data": {
          "bar": [
           {
            "error_x": {
             "color": "#2a3f5f"
            },
            "error_y": {
             "color": "#2a3f5f"
            },
            "marker": {
             "line": {
              "color": "#E5ECF6",
              "width": 0.5
             }
            },
            "type": "bar"
           }
          ],
          "barpolar": [
           {
            "marker": {
             "line": {
              "color": "#E5ECF6",
              "width": 0.5
             }
            },
            "type": "barpolar"
           }
          ],
          "carpet": [
           {
            "aaxis": {
             "endlinecolor": "#2a3f5f",
             "gridcolor": "white",
             "linecolor": "white",
             "minorgridcolor": "white",
             "startlinecolor": "#2a3f5f"
            },
            "baxis": {
             "endlinecolor": "#2a3f5f",
             "gridcolor": "white",
             "linecolor": "white",
             "minorgridcolor": "white",
             "startlinecolor": "#2a3f5f"
            },
            "type": "carpet"
           }
          ],
          "choropleth": [
           {
            "colorbar": {
             "outlinewidth": 0,
             "ticks": ""
            },
            "type": "choropleth"
           }
          ],
          "contour": [
           {
            "colorbar": {
             "outlinewidth": 0,
             "ticks": ""
            },
            "colorscale": [
             [
              0,
              "#0d0887"
             ],
             [
              0.1111111111111111,
              "#46039f"
             ],
             [
              0.2222222222222222,
              "#7201a8"
             ],
             [
              0.3333333333333333,
              "#9c179e"
             ],
             [
              0.4444444444444444,
              "#bd3786"
             ],
             [
              0.5555555555555556,
              "#d8576b"
             ],
             [
              0.6666666666666666,
              "#ed7953"
             ],
             [
              0.7777777777777778,
              "#fb9f3a"
             ],
             [
              0.8888888888888888,
              "#fdca26"
             ],
             [
              1,
              "#f0f921"
             ]
            ],
            "type": "contour"
           }
          ],
          "contourcarpet": [
           {
            "colorbar": {
             "outlinewidth": 0,
             "ticks": ""
            },
            "type": "contourcarpet"
           }
          ],
          "heatmap": [
           {
            "colorbar": {
             "outlinewidth": 0,
             "ticks": ""
            },
            "colorscale": [
             [
              0,
              "#0d0887"
             ],
             [
              0.1111111111111111,
              "#46039f"
             ],
             [
              0.2222222222222222,
              "#7201a8"
             ],
             [
              0.3333333333333333,
              "#9c179e"
             ],
             [
              0.4444444444444444,
              "#bd3786"
             ],
             [
              0.5555555555555556,
              "#d8576b"
             ],
             [
              0.6666666666666666,
              "#ed7953"
             ],
             [
              0.7777777777777778,
              "#fb9f3a"
             ],
             [
              0.8888888888888888,
              "#fdca26"
             ],
             [
              1,
              "#f0f921"
             ]
            ],
            "type": "heatmap"
           }
          ],
          "heatmapgl": [
           {
            "colorbar": {
             "outlinewidth": 0,
             "ticks": ""
            },
            "colorscale": [
             [
              0,
              "#0d0887"
             ],
             [
              0.1111111111111111,
              "#46039f"
             ],
             [
              0.2222222222222222,
              "#7201a8"
             ],
             [
              0.3333333333333333,
              "#9c179e"
             ],
             [
              0.4444444444444444,
              "#bd3786"
             ],
             [
              0.5555555555555556,
              "#d8576b"
             ],
             [
              0.6666666666666666,
              "#ed7953"
             ],
             [
              0.7777777777777778,
              "#fb9f3a"
             ],
             [
              0.8888888888888888,
              "#fdca26"
             ],
             [
              1,
              "#f0f921"
             ]
            ],
            "type": "heatmapgl"
           }
          ],
          "histogram": [
           {
            "marker": {
             "colorbar": {
              "outlinewidth": 0,
              "ticks": ""
             }
            },
            "type": "histogram"
           }
          ],
          "histogram2d": [
           {
            "colorbar": {
             "outlinewidth": 0,
             "ticks": ""
            },
            "colorscale": [
             [
              0,
              "#0d0887"
             ],
             [
              0.1111111111111111,
              "#46039f"
             ],
             [
              0.2222222222222222,
              "#7201a8"
             ],
             [
              0.3333333333333333,
              "#9c179e"
             ],
             [
              0.4444444444444444,
              "#bd3786"
             ],
             [
              0.5555555555555556,
              "#d8576b"
             ],
             [
              0.6666666666666666,
              "#ed7953"
             ],
             [
              0.7777777777777778,
              "#fb9f3a"
             ],
             [
              0.8888888888888888,
              "#fdca26"
             ],
             [
              1,
              "#f0f921"
             ]
            ],
            "type": "histogram2d"
           }
          ],
          "histogram2dcontour": [
           {
            "colorbar": {
             "outlinewidth": 0,
             "ticks": ""
            },
            "colorscale": [
             [
              0,
              "#0d0887"
             ],
             [
              0.1111111111111111,
              "#46039f"
             ],
             [
              0.2222222222222222,
              "#7201a8"
             ],
             [
              0.3333333333333333,
              "#9c179e"
             ],
             [
              0.4444444444444444,
              "#bd3786"
             ],
             [
              0.5555555555555556,
              "#d8576b"
             ],
             [
              0.6666666666666666,
              "#ed7953"
             ],
             [
              0.7777777777777778,
              "#fb9f3a"
             ],
             [
              0.8888888888888888,
              "#fdca26"
             ],
             [
              1,
              "#f0f921"
             ]
            ],
            "type": "histogram2dcontour"
           }
          ],
          "mesh3d": [
           {
            "colorbar": {
             "outlinewidth": 0,
             "ticks": ""
            },
            "type": "mesh3d"
           }
          ],
          "parcoords": [
           {
            "line": {
             "colorbar": {
              "outlinewidth": 0,
              "ticks": ""
             }
            },
            "type": "parcoords"
           }
          ],
          "pie": [
           {
            "automargin": true,
            "type": "pie"
           }
          ],
          "scatter": [
           {
            "marker": {
             "colorbar": {
              "outlinewidth": 0,
              "ticks": ""
             }
            },
            "type": "scatter"
           }
          ],
          "scatter3d": [
           {
            "line": {
             "colorbar": {
              "outlinewidth": 0,
              "ticks": ""
             }
            },
            "marker": {
             "colorbar": {
              "outlinewidth": 0,
              "ticks": ""
             }
            },
            "type": "scatter3d"
           }
          ],
          "scattercarpet": [
           {
            "marker": {
             "colorbar": {
              "outlinewidth": 0,
              "ticks": ""
             }
            },
            "type": "scattercarpet"
           }
          ],
          "scattergeo": [
           {
            "marker": {
             "colorbar": {
              "outlinewidth": 0,
              "ticks": ""
             }
            },
            "type": "scattergeo"
           }
          ],
          "scattergl": [
           {
            "marker": {
             "colorbar": {
              "outlinewidth": 0,
              "ticks": ""
             }
            },
            "type": "scattergl"
           }
          ],
          "scattermapbox": [
           {
            "marker": {
             "colorbar": {
              "outlinewidth": 0,
              "ticks": ""
             }
            },
            "type": "scattermapbox"
           }
          ],
          "scatterpolar": [
           {
            "marker": {
             "colorbar": {
              "outlinewidth": 0,
              "ticks": ""
             }
            },
            "type": "scatterpolar"
           }
          ],
          "scatterpolargl": [
           {
            "marker": {
             "colorbar": {
              "outlinewidth": 0,
              "ticks": ""
             }
            },
            "type": "scatterpolargl"
           }
          ],
          "scatterternary": [
           {
            "marker": {
             "colorbar": {
              "outlinewidth": 0,
              "ticks": ""
             }
            },
            "type": "scatterternary"
           }
          ],
          "surface": [
           {
            "colorbar": {
             "outlinewidth": 0,
             "ticks": ""
            },
            "colorscale": [
             [
              0,
              "#0d0887"
             ],
             [
              0.1111111111111111,
              "#46039f"
             ],
             [
              0.2222222222222222,
              "#7201a8"
             ],
             [
              0.3333333333333333,
              "#9c179e"
             ],
             [
              0.4444444444444444,
              "#bd3786"
             ],
             [
              0.5555555555555556,
              "#d8576b"
             ],
             [
              0.6666666666666666,
              "#ed7953"
             ],
             [
              0.7777777777777778,
              "#fb9f3a"
             ],
             [
              0.8888888888888888,
              "#fdca26"
             ],
             [
              1,
              "#f0f921"
             ]
            ],
            "type": "surface"
           }
          ],
          "table": [
           {
            "cells": {
             "fill": {
              "color": "#EBF0F8"
             },
             "line": {
              "color": "white"
             }
            },
            "header": {
             "fill": {
              "color": "#C8D4E3"
             },
             "line": {
              "color": "white"
             }
            },
            "type": "table"
           }
          ]
         },
         "layout": {
          "annotationdefaults": {
           "arrowcolor": "#2a3f5f",
           "arrowhead": 0,
           "arrowwidth": 1
          },
          "coloraxis": {
           "colorbar": {
            "outlinewidth": 0,
            "ticks": ""
           }
          },
          "colorscale": {
           "diverging": [
            [
             0,
             "#8e0152"
            ],
            [
             0.1,
             "#c51b7d"
            ],
            [
             0.2,
             "#de77ae"
            ],
            [
             0.3,
             "#f1b6da"
            ],
            [
             0.4,
             "#fde0ef"
            ],
            [
             0.5,
             "#f7f7f7"
            ],
            [
             0.6,
             "#e6f5d0"
            ],
            [
             0.7,
             "#b8e186"
            ],
            [
             0.8,
             "#7fbc41"
            ],
            [
             0.9,
             "#4d9221"
            ],
            [
             1,
             "#276419"
            ]
           ],
           "sequential": [
            [
             0,
             "#0d0887"
            ],
            [
             0.1111111111111111,
             "#46039f"
            ],
            [
             0.2222222222222222,
             "#7201a8"
            ],
            [
             0.3333333333333333,
             "#9c179e"
            ],
            [
             0.4444444444444444,
             "#bd3786"
            ],
            [
             0.5555555555555556,
             "#d8576b"
            ],
            [
             0.6666666666666666,
             "#ed7953"
            ],
            [
             0.7777777777777778,
             "#fb9f3a"
            ],
            [
             0.8888888888888888,
             "#fdca26"
            ],
            [
             1,
             "#f0f921"
            ]
           ],
           "sequentialminus": [
            [
             0,
             "#0d0887"
            ],
            [
             0.1111111111111111,
             "#46039f"
            ],
            [
             0.2222222222222222,
             "#7201a8"
            ],
            [
             0.3333333333333333,
             "#9c179e"
            ],
            [
             0.4444444444444444,
             "#bd3786"
            ],
            [
             0.5555555555555556,
             "#d8576b"
            ],
            [
             0.6666666666666666,
             "#ed7953"
            ],
            [
             0.7777777777777778,
             "#fb9f3a"
            ],
            [
             0.8888888888888888,
             "#fdca26"
            ],
            [
             1,
             "#f0f921"
            ]
           ]
          },
          "colorway": [
           "#636efa",
           "#EF553B",
           "#00cc96",
           "#ab63fa",
           "#FFA15A",
           "#19d3f3",
           "#FF6692",
           "#B6E880",
           "#FF97FF",
           "#FECB52"
          ],
          "font": {
           "color": "#2a3f5f"
          },
          "geo": {
           "bgcolor": "white",
           "lakecolor": "white",
           "landcolor": "#E5ECF6",
           "showlakes": true,
           "showland": true,
           "subunitcolor": "white"
          },
          "hoverlabel": {
           "align": "left"
          },
          "hovermode": "closest",
          "mapbox": {
           "style": "light"
          },
          "paper_bgcolor": "white",
          "plot_bgcolor": "#E5ECF6",
          "polar": {
           "angularaxis": {
            "gridcolor": "white",
            "linecolor": "white",
            "ticks": ""
           },
           "bgcolor": "#E5ECF6",
           "radialaxis": {
            "gridcolor": "white",
            "linecolor": "white",
            "ticks": ""
           }
          },
          "scene": {
           "xaxis": {
            "backgroundcolor": "#E5ECF6",
            "gridcolor": "white",
            "gridwidth": 2,
            "linecolor": "white",
            "showbackground": true,
            "ticks": "",
            "zerolinecolor": "white"
           },
           "yaxis": {
            "backgroundcolor": "#E5ECF6",
            "gridcolor": "white",
            "gridwidth": 2,
            "linecolor": "white",
            "showbackground": true,
            "ticks": "",
            "zerolinecolor": "white"
           },
           "zaxis": {
            "backgroundcolor": "#E5ECF6",
            "gridcolor": "white",
            "gridwidth": 2,
            "linecolor": "white",
            "showbackground": true,
            "ticks": "",
            "zerolinecolor": "white"
           }
          },
          "shapedefaults": {
           "line": {
            "color": "#2a3f5f"
           }
          },
          "ternary": {
           "aaxis": {
            "gridcolor": "white",
            "linecolor": "white",
            "ticks": ""
           },
           "baxis": {
            "gridcolor": "white",
            "linecolor": "white",
            "ticks": ""
           },
           "bgcolor": "#E5ECF6",
           "caxis": {
            "gridcolor": "white",
            "linecolor": "white",
            "ticks": ""
           }
          },
          "title": {
           "x": 0.05
          },
          "xaxis": {
           "automargin": true,
           "gridcolor": "white",
           "linecolor": "white",
           "ticks": "",
           "title": {
            "standoff": 15
           },
           "zerolinecolor": "white",
           "zerolinewidth": 2
          },
          "yaxis": {
           "automargin": true,
           "gridcolor": "white",
           "linecolor": "white",
           "ticks": "",
           "title": {
            "standoff": 15
           },
           "zerolinecolor": "white",
           "zerolinewidth": 2
          }
         }
        }
       }
      },
      "text/html": "<div>\n        \n        \n            <div id=\"c14f2086-5b50-4ab6-b494-4a2eb6fd381f\" class=\"plotly-graph-div\" style=\"height:525px; width:100%;\"></div>\n            <script type=\"text/javascript\">\n                require([\"plotly\"], function(Plotly) {\n                    window.PLOTLYENV=window.PLOTLYENV || {};\n                    \n                if (document.getElementById(\"c14f2086-5b50-4ab6-b494-4a2eb6fd381f\")) {\n                    Plotly.newPlot(\n                        'c14f2086-5b50-4ab6-b494-4a2eb6fd381f',\n                        [{\"labels\": [\"Alabama\", \"Arizona\", \"Arkansas\", \"California\", \"Colorado\", \"Connecticut\", \"Delaware\", \"Florida\", \"Georgia\", \"Idaho\", \"Illinois\", \"Indiana\", \"Iowa\", \"Kansas\", \"Kentucky\", \"Louisiana\", \"Maine\", \"Maryland\", \"Massachusetts\", \"Michigan\", \"Minnesota\", \"Mississippi\", \"Missouri\", \"Montana\", \"Nebraska\", \"Nevada\", \"Ohio\", \"Oklahoma\", \"Oregon\", \"Pennsylvania\", \"Tennessee\", \"Texas\", \"Utah\", \"Vermont\", \"Virginia\", \"Washington\", \"Wisconsin\", \"Wyoming\"], \"parents\": [\"\", \"\", \"\", \"\", \"\", \"\", \"\", \"\", \"\", \"\", \"\", \"\", \"\", \"\", \"\", \"\", \"\", \"\", \"\", \"\", \"\", \"\", \"\", \"\", \"\", \"\", \"\", \"\", \"\", \"\", \"\", \"\", \"\", \"\", \"\", \"\", \"\", \"\"], \"type\": \"treemap\", \"values\": [320.88371159255416, 345.00390837820277, 342.02944073300256, 202.18914934356613, 336.60366561223356, 448.9958311412193, 765.5942552285129, 384.7177017018055, 390.32534188311104, 464.01654023947714, 390.68268461634125, 296.7714935022516, 543.5956027293944, 445.2712979435813, 432.2239786516621, 345.5327032166204, 246.58587349524336, 260.7694574960556, 386.9934198429826, 223.7828635834279, 609.351710152045, 348.6811128525746, 285.28659607069045, 606.9213896278859, 559.6365715055985, 621.1668497791378, 307.2876225890655, 295.96520039173896, 356.104069559042, 213.84523044710048, 387.24239873203004, 344.2357003455827, 346.56914254091964, 349.04185997561893, 296.1422082413292, 343.15377024878916, 457.1495309548987, 983.9414357560341]}],\n                        {\"template\": {\"data\": {\"bar\": [{\"error_x\": {\"color\": \"#2a3f5f\"}, \"error_y\": {\"color\": \"#2a3f5f\"}, \"marker\": {\"line\": {\"color\": \"#E5ECF6\", \"width\": 0.5}}, \"type\": \"bar\"}], \"barpolar\": [{\"marker\": {\"line\": {\"color\": \"#E5ECF6\", \"width\": 0.5}}, \"type\": \"barpolar\"}], \"carpet\": [{\"aaxis\": {\"endlinecolor\": \"#2a3f5f\", \"gridcolor\": \"white\", \"linecolor\": \"white\", \"minorgridcolor\": \"white\", \"startlinecolor\": \"#2a3f5f\"}, \"baxis\": {\"endlinecolor\": \"#2a3f5f\", \"gridcolor\": \"white\", \"linecolor\": \"white\", \"minorgridcolor\": \"white\", \"startlinecolor\": \"#2a3f5f\"}, \"type\": \"carpet\"}], \"choropleth\": [{\"colorbar\": {\"outlinewidth\": 0, \"ticks\": \"\"}, \"type\": \"choropleth\"}], \"contour\": [{\"colorbar\": {\"outlinewidth\": 0, \"ticks\": \"\"}, \"colorscale\": [[0.0, \"#0d0887\"], [0.1111111111111111, \"#46039f\"], [0.2222222222222222, \"#7201a8\"], [0.3333333333333333, \"#9c179e\"], [0.4444444444444444, \"#bd3786\"], [0.5555555555555556, \"#d8576b\"], [0.6666666666666666, \"#ed7953\"], [0.7777777777777778, \"#fb9f3a\"], [0.8888888888888888, \"#fdca26\"], [1.0, \"#f0f921\"]], \"type\": \"contour\"}], \"contourcarpet\": [{\"colorbar\": {\"outlinewidth\": 0, \"ticks\": \"\"}, \"type\": \"contourcarpet\"}], \"heatmap\": [{\"colorbar\": {\"outlinewidth\": 0, \"ticks\": \"\"}, \"colorscale\": [[0.0, \"#0d0887\"], [0.1111111111111111, \"#46039f\"], [0.2222222222222222, \"#7201a8\"], [0.3333333333333333, \"#9c179e\"], [0.4444444444444444, \"#bd3786\"], [0.5555555555555556, \"#d8576b\"], [0.6666666666666666, \"#ed7953\"], [0.7777777777777778, \"#fb9f3a\"], [0.8888888888888888, \"#fdca26\"], [1.0, \"#f0f921\"]], \"type\": \"heatmap\"}], \"heatmapgl\": [{\"colorbar\": {\"outlinewidth\": 0, \"ticks\": \"\"}, \"colorscale\": [[0.0, \"#0d0887\"], [0.1111111111111111, \"#46039f\"], [0.2222222222222222, \"#7201a8\"], [0.3333333333333333, \"#9c179e\"], [0.4444444444444444, \"#bd3786\"], [0.5555555555555556, \"#d8576b\"], [0.6666666666666666, \"#ed7953\"], [0.7777777777777778, \"#fb9f3a\"], [0.8888888888888888, \"#fdca26\"], [1.0, \"#f0f921\"]], \"type\": \"heatmapgl\"}], \"histogram\": [{\"marker\": {\"colorbar\": {\"outlinewidth\": 0, \"ticks\": \"\"}}, \"type\": \"histogram\"}], \"histogram2d\": [{\"colorbar\": {\"outlinewidth\": 0, \"ticks\": \"\"}, \"colorscale\": [[0.0, \"#0d0887\"], [0.1111111111111111, \"#46039f\"], [0.2222222222222222, \"#7201a8\"], [0.3333333333333333, \"#9c179e\"], [0.4444444444444444, \"#bd3786\"], [0.5555555555555556, \"#d8576b\"], [0.6666666666666666, \"#ed7953\"], [0.7777777777777778, \"#fb9f3a\"], [0.8888888888888888, \"#fdca26\"], [1.0, \"#f0f921\"]], \"type\": \"histogram2d\"}], \"histogram2dcontour\": [{\"colorbar\": {\"outlinewidth\": 0, \"ticks\": \"\"}, \"colorscale\": [[0.0, \"#0d0887\"], [0.1111111111111111, \"#46039f\"], [0.2222222222222222, \"#7201a8\"], [0.3333333333333333, \"#9c179e\"], [0.4444444444444444, \"#bd3786\"], [0.5555555555555556, \"#d8576b\"], [0.6666666666666666, \"#ed7953\"], [0.7777777777777778, \"#fb9f3a\"], [0.8888888888888888, \"#fdca26\"], [1.0, \"#f0f921\"]], \"type\": \"histogram2dcontour\"}], \"mesh3d\": [{\"colorbar\": {\"outlinewidth\": 0, \"ticks\": \"\"}, \"type\": \"mesh3d\"}], \"parcoords\": [{\"line\": {\"colorbar\": {\"outlinewidth\": 0, \"ticks\": \"\"}}, \"type\": \"parcoords\"}], \"pie\": [{\"automargin\": true, \"type\": \"pie\"}], \"scatter\": [{\"marker\": {\"colorbar\": {\"outlinewidth\": 0, \"ticks\": \"\"}}, \"type\": \"scatter\"}], \"scatter3d\": [{\"line\": {\"colorbar\": {\"outlinewidth\": 0, \"ticks\": \"\"}}, \"marker\": {\"colorbar\": {\"outlinewidth\": 0, \"ticks\": \"\"}}, \"type\": \"scatter3d\"}], \"scattercarpet\": [{\"marker\": {\"colorbar\": {\"outlinewidth\": 0, \"ticks\": \"\"}}, \"type\": \"scattercarpet\"}], \"scattergeo\": [{\"marker\": {\"colorbar\": {\"outlinewidth\": 0, \"ticks\": \"\"}}, \"type\": \"scattergeo\"}], \"scattergl\": [{\"marker\": {\"colorbar\": {\"outlinewidth\": 0, \"ticks\": \"\"}}, \"type\": \"scattergl\"}], \"scattermapbox\": [{\"marker\": {\"colorbar\": {\"outlinewidth\": 0, \"ticks\": \"\"}}, \"type\": \"scattermapbox\"}], \"scatterpolar\": [{\"marker\": {\"colorbar\": {\"outlinewidth\": 0, \"ticks\": \"\"}}, \"type\": \"scatterpolar\"}], \"scatterpolargl\": [{\"marker\": {\"colorbar\": {\"outlinewidth\": 0, \"ticks\": \"\"}}, \"type\": \"scatterpolargl\"}], \"scatterternary\": [{\"marker\": {\"colorbar\": {\"outlinewidth\": 0, \"ticks\": \"\"}}, \"type\": \"scatterternary\"}], \"surface\": [{\"colorbar\": {\"outlinewidth\": 0, \"ticks\": \"\"}, \"colorscale\": [[0.0, \"#0d0887\"], [0.1111111111111111, \"#46039f\"], [0.2222222222222222, \"#7201a8\"], [0.3333333333333333, \"#9c179e\"], [0.4444444444444444, \"#bd3786\"], [0.5555555555555556, \"#d8576b\"], [0.6666666666666666, \"#ed7953\"], [0.7777777777777778, \"#fb9f3a\"], [0.8888888888888888, \"#fdca26\"], [1.0, \"#f0f921\"]], \"type\": \"surface\"}], \"table\": [{\"cells\": {\"fill\": {\"color\": \"#EBF0F8\"}, \"line\": {\"color\": \"white\"}}, \"header\": {\"fill\": {\"color\": \"#C8D4E3\"}, \"line\": {\"color\": \"white\"}}, \"type\": \"table\"}]}, \"layout\": {\"annotationdefaults\": {\"arrowcolor\": \"#2a3f5f\", \"arrowhead\": 0, \"arrowwidth\": 1}, \"coloraxis\": {\"colorbar\": {\"outlinewidth\": 0, \"ticks\": \"\"}}, \"colorscale\": {\"diverging\": [[0, \"#8e0152\"], [0.1, \"#c51b7d\"], [0.2, \"#de77ae\"], [0.3, \"#f1b6da\"], [0.4, \"#fde0ef\"], [0.5, \"#f7f7f7\"], [0.6, \"#e6f5d0\"], [0.7, \"#b8e186\"], [0.8, \"#7fbc41\"], [0.9, \"#4d9221\"], [1, \"#276419\"]], \"sequential\": [[0.0, \"#0d0887\"], [0.1111111111111111, \"#46039f\"], [0.2222222222222222, \"#7201a8\"], [0.3333333333333333, \"#9c179e\"], [0.4444444444444444, \"#bd3786\"], [0.5555555555555556, \"#d8576b\"], [0.6666666666666666, \"#ed7953\"], [0.7777777777777778, \"#fb9f3a\"], [0.8888888888888888, \"#fdca26\"], [1.0, \"#f0f921\"]], \"sequentialminus\": [[0.0, \"#0d0887\"], [0.1111111111111111, \"#46039f\"], [0.2222222222222222, \"#7201a8\"], [0.3333333333333333, \"#9c179e\"], [0.4444444444444444, \"#bd3786\"], [0.5555555555555556, \"#d8576b\"], [0.6666666666666666, \"#ed7953\"], [0.7777777777777778, \"#fb9f3a\"], [0.8888888888888888, \"#fdca26\"], [1.0, \"#f0f921\"]]}, \"colorway\": [\"#636efa\", \"#EF553B\", \"#00cc96\", \"#ab63fa\", \"#FFA15A\", \"#19d3f3\", \"#FF6692\", \"#B6E880\", \"#FF97FF\", \"#FECB52\"], \"font\": {\"color\": \"#2a3f5f\"}, \"geo\": {\"bgcolor\": \"white\", \"lakecolor\": \"white\", \"landcolor\": \"#E5ECF6\", \"showlakes\": true, \"showland\": true, \"subunitcolor\": \"white\"}, \"hoverlabel\": {\"align\": \"left\"}, \"hovermode\": \"closest\", \"mapbox\": {\"style\": \"light\"}, \"paper_bgcolor\": \"white\", \"plot_bgcolor\": \"#E5ECF6\", \"polar\": {\"angularaxis\": {\"gridcolor\": \"white\", \"linecolor\": \"white\", \"ticks\": \"\"}, \"bgcolor\": \"#E5ECF6\", \"radialaxis\": {\"gridcolor\": \"white\", \"linecolor\": \"white\", \"ticks\": \"\"}}, \"scene\": {\"xaxis\": {\"backgroundcolor\": \"#E5ECF6\", \"gridcolor\": \"white\", \"gridwidth\": 2, \"linecolor\": \"white\", \"showbackground\": true, \"ticks\": \"\", \"zerolinecolor\": \"white\"}, \"yaxis\": {\"backgroundcolor\": \"#E5ECF6\", \"gridcolor\": \"white\", \"gridwidth\": 2, \"linecolor\": \"white\", \"showbackground\": true, \"ticks\": \"\", \"zerolinecolor\": \"white\"}, \"zaxis\": {\"backgroundcolor\": \"#E5ECF6\", \"gridcolor\": \"white\", \"gridwidth\": 2, \"linecolor\": \"white\", \"showbackground\": true, \"ticks\": \"\", \"zerolinecolor\": \"white\"}}, \"shapedefaults\": {\"line\": {\"color\": \"#2a3f5f\"}}, \"ternary\": {\"aaxis\": {\"gridcolor\": \"white\", \"linecolor\": \"white\", \"ticks\": \"\"}, \"baxis\": {\"gridcolor\": \"white\", \"linecolor\": \"white\", \"ticks\": \"\"}, \"bgcolor\": \"#E5ECF6\", \"caxis\": {\"gridcolor\": \"white\", \"linecolor\": \"white\", \"ticks\": \"\"}}, \"title\": {\"x\": 0.05}, \"xaxis\": {\"automargin\": true, \"gridcolor\": \"white\", \"linecolor\": \"white\", \"ticks\": \"\", \"title\": {\"standoff\": 15}, \"zerolinecolor\": \"white\", \"zerolinewidth\": 2}, \"yaxis\": {\"automargin\": true, \"gridcolor\": \"white\", \"linecolor\": \"white\", \"ticks\": \"\", \"title\": {\"standoff\": 15}, \"zerolinecolor\": \"white\", \"zerolinewidth\": 2}}}},\n                        {\"responsive\": true}\n                    ).then(function(){\n                            \nvar gd = document.getElementById('c14f2086-5b50-4ab6-b494-4a2eb6fd381f');\nvar x = new MutationObserver(function (mutations, observer) {{\n        var display = window.getComputedStyle(gd).display;\n        if (!display || display === 'none') {{\n            console.log([gd, 'removed!']);\n            Plotly.purge(gd);\n            observer.disconnect();\n        }}\n}});\n\n// Listen for the removal of the full notebook cells\nvar notebookContainer = gd.closest('#notebook-container');\nif (notebookContainer) {{\n    x.observe(notebookContainer, {childList: true});\n}}\n\n// Listen for the clearing of the current output cell\nvar outputEl = gd.closest('.output');\nif (outputEl) {{\n    x.observe(outputEl, {childList: true});\n}}\n\n                        })\n                };\n                });\n            </script>\n        </div>"
     },
     "metadata": {}
    }
   ],
   "source": [
    "fig = go.Figure()\n",
    "fig.add_trace(go.Treemap(\n",
    "    labels=list(state_infra['State']),\n",
    "    parents=[\"\" for parent in state_infra['State']],\n",
    "    values=list(state_infra[1992]),\n",
    "))\n",
    "fig.show()"
   ]
  },
  {
   "cell_type": "code",
   "execution_count": 143,
   "metadata": {},
   "outputs": [
    {
     "output_type": "display_data",
     "data": {
      "application/vnd.plotly.v1+json": {
       "config": {
        "plotlyServerURL": "https://plot.ly"
       },
       "data": [
        {
         "labels": [
          "Alabama",
          "Arizona",
          "Arkansas",
          "California",
          "Colorado",
          "Connecticut",
          "Delaware",
          "Florida",
          "Georgia",
          "Idaho",
          "Illinois",
          "Indiana",
          "Iowa",
          "Kansas",
          "Kentucky",
          "Louisiana",
          "Maine",
          "Maryland",
          "Massachusetts",
          "Michigan",
          "Minnesota",
          "Mississippi",
          "Missouri",
          "Montana",
          "Nebraska",
          "Nevada",
          "Ohio",
          "Oklahoma",
          "Oregon",
          "Pennsylvania",
          "Tennessee",
          "Texas",
          "Utah",
          "Vermont",
          "Virginia",
          "Washington",
          "Wisconsin",
          "Wyoming"
         ],
         "parents": [
          "",
          "",
          "",
          "",
          "",
          "",
          "",
          "",
          "",
          "",
          "",
          "",
          "",
          "",
          "",
          "",
          "",
          "",
          "",
          "",
          "",
          "",
          "",
          "",
          "",
          "",
          "",
          "",
          "",
          "",
          "",
          "",
          "",
          "",
          "",
          "",
          "",
          ""
         ],
         "type": "treemap",
         "values": [
          320.88371159255416,
          345.00390837820277,
          342.02944073300256,
          202.18914934356613,
          336.60366561223356,
          448.9958311412193,
          765.5942552285129,
          384.7177017018055,
          390.32534188311104,
          464.01654023947714,
          390.68268461634125,
          296.7714935022516,
          543.5956027293944,
          445.2712979435813,
          432.2239786516621,
          345.5327032166204,
          246.58587349524336,
          260.7694574960556,
          386.9934198429826,
          223.7828635834279,
          609.351710152045,
          348.6811128525746,
          285.28659607069045,
          606.9213896278859,
          559.6365715055985,
          621.1668497791378,
          307.2876225890655,
          295.96520039173896,
          356.104069559042,
          213.84523044710048,
          387.24239873203004,
          344.2357003455827,
          346.56914254091964,
          349.04185997561893,
          296.1422082413292,
          343.15377024878916,
          457.1495309548987,
          983.9414357560341
         ]
        }
       ],
       "frames": [
        {
         "data": [
          {
           "labels": [
            "Alabama",
            "Arizona",
            "Arkansas",
            "California",
            "Colorado",
            "Connecticut",
            "Delaware",
            "Florida",
            "Georgia",
            "Idaho",
            "Illinois",
            "Indiana",
            "Iowa",
            "Kansas",
            "Kentucky",
            "Louisiana",
            "Maine",
            "Maryland",
            "Massachusetts",
            "Michigan",
            "Minnesota",
            "Mississippi",
            "Missouri",
            "Montana",
            "Nebraska",
            "Nevada",
            "Ohio",
            "Oklahoma",
            "Oregon",
            "Pennsylvania",
            "Tennessee",
            "Texas",
            "Utah",
            "Vermont",
            "Virginia",
            "Washington",
            "Wisconsin",
            "Wyoming"
           ],
           "parents": [
            "",
            "",
            "",
            "",
            "",
            "",
            "",
            "",
            "",
            "",
            "",
            "",
            "",
            "",
            "",
            "",
            "",
            "",
            "",
            "",
            "",
            "",
            "",
            "",
            "",
            "",
            "",
            "",
            "",
            "",
            "",
            "",
            "",
            "",
            "",
            "",
            "",
            ""
           ],
           "type": "treemap",
           "values": [
            320.88371159255416,
            345.00390837820277,
            342.02944073300256,
            202.18914934356613,
            336.60366561223356,
            448.9958311412193,
            765.5942552285129,
            384.7177017018055,
            390.32534188311104,
            464.01654023947714,
            390.68268461634125,
            296.7714935022516,
            543.5956027293944,
            445.2712979435813,
            432.2239786516621,
            345.5327032166204,
            246.58587349524336,
            260.7694574960556,
            386.9934198429826,
            223.7828635834279,
            609.351710152045,
            348.6811128525746,
            285.28659607069045,
            606.9213896278859,
            559.6365715055985,
            621.1668497791378,
            307.2876225890655,
            295.96520039173896,
            356.104069559042,
            213.84523044710048,
            387.24239873203004,
            344.2357003455827,
            346.56914254091964,
            349.04185997561893,
            296.1422082413292,
            343.15377024878916,
            457.1495309548987,
            983.9414357560341
           ]
          }
         ],
         "layout": {
          "title": {
           "text": "Infrastructure Spending Over Time 1992"
          }
         }
        },
        {
         "data": [
          {
           "labels": [
            "Alabama",
            "Arizona",
            "Arkansas",
            "California",
            "Colorado",
            "Connecticut",
            "Delaware",
            "Florida",
            "Georgia",
            "Idaho",
            "Illinois",
            "Indiana",
            "Iowa",
            "Kansas",
            "Kentucky",
            "Louisiana",
            "Maine",
            "Maryland",
            "Massachusetts",
            "Michigan",
            "Minnesota",
            "Mississippi",
            "Missouri",
            "Montana",
            "Nebraska",
            "Nevada",
            "Ohio",
            "Oklahoma",
            "Oregon",
            "Pennsylvania",
            "Tennessee",
            "Texas",
            "Utah",
            "Vermont",
            "Virginia",
            "Washington",
            "Wisconsin",
            "Wyoming"
           ],
           "parents": [
            "",
            "",
            "",
            "",
            "",
            "",
            "",
            "",
            "",
            "",
            "",
            "",
            "",
            "",
            "",
            "",
            "",
            "",
            "",
            "",
            "",
            "",
            "",
            "",
            "",
            "",
            "",
            "",
            "",
            "",
            "",
            "",
            "",
            "",
            "",
            "",
            "",
            ""
           ],
           "type": "treemap",
           "values": [
            329.4258157541149,
            347.46944325497884,
            351.35160782310663,
            208.44019149324717,
            340.14138062346314,
            467.3258310222854,
            785.5934808249044,
            394.0044013264795,
            398.002086424144,
            467.3539144427373,
            403.15448153434295,
            305.7491584041642,
            562.5995160475443,
            459.15124204890475,
            445.2433464968905,
            358.1796740019077,
            255.92365391324572,
            269.00109741944567,
            401.29771261598125,
            231.28969361669976,
            626.6741181265756,
            359.1274614182717,
            294.19444239203915,
            618.0757635650976,
            578.4905737621026,
            622.8284802821627,
            317.7592287892426,
            305.4460301242339,
            362.9486338725783,
            221.62948190203932,
            397.0473090446758,
            351.10806587228683,
            349.95386443339606,
            360.535815081428,
            304.09873785634346,
            349.47969626335623,
            470.6576322201689,
            1011.1847140819516
           ]
          }
         ],
         "layout": {
          "title": {
           "text": "Infrastructure Spending Over Time 1993"
          }
         }
        },
        {
         "data": [
          {
           "labels": [
            "Alabama",
            "Arizona",
            "Arkansas",
            "California",
            "Colorado",
            "Connecticut",
            "Delaware",
            "Florida",
            "Georgia",
            "Idaho",
            "Illinois",
            "Indiana",
            "Iowa",
            "Kansas",
            "Kentucky",
            "Louisiana",
            "Maine",
            "Maryland",
            "Massachusetts",
            "Michigan",
            "Minnesota",
            "Mississippi",
            "Missouri",
            "Montana",
            "Nebraska",
            "Nevada",
            "Ohio",
            "Oklahoma",
            "Oregon",
            "Pennsylvania",
            "Tennessee",
            "Texas",
            "Utah",
            "Vermont",
            "Virginia",
            "Washington",
            "Wisconsin",
            "Wyoming"
           ],
           "parents": [
            "",
            "",
            "",
            "",
            "",
            "",
            "",
            "",
            "",
            "",
            "",
            "",
            "",
            "",
            "",
            "",
            "",
            "",
            "",
            "",
            "",
            "",
            "",
            "",
            "",
            "",
            "",
            "",
            "",
            "",
            "",
            "",
            "",
            "",
            "",
            "",
            "",
            ""
           ],
           "type": "treemap",
           "values": [
            327.56897352092443,
            357.54459066424823,
            380.41218393009075,
            213.14943469205832,
            352.900865100673,
            456.6337223782305,
            798.4785775589484,
            422.4483121729737,
            429.41157268766233,
            490.8904680838323,
            402.96650923601266,
            312.19992390733404,
            595.2137927817059,
            543.8609670711894,
            452.33134940096227,
            369.8425635667015,
            290.7100098813351,
            275.7249101428147,
            471.09918306873817,
            231.1257124929352,
            633.637594863632,
            407.7557303497344,
            334.7220312936098,
            642.5315496249369,
            609.098942925631,
            669.8180704592457,
            315.6843332162469,
            331.89048214190547,
            370.3904776651025,
            228.93848434861567,
            410.91427956062887,
            364.6244238634959,
            363.05528906423206,
            350.81879426498534,
            344.6467682591298,
            417.582085948817,
            472.8572482722023,
            1028.1800152426829
           ]
          }
         ],
         "layout": {
          "title": {
           "text": "Infrastructure Spending Over Time 1994"
          }
         }
        },
        {
         "data": [
          {
           "labels": [
            "Alabama",
            "Arizona",
            "Arkansas",
            "California",
            "Colorado",
            "Connecticut",
            "Delaware",
            "Florida",
            "Georgia",
            "Idaho",
            "Illinois",
            "Indiana",
            "Iowa",
            "Kansas",
            "Kentucky",
            "Louisiana",
            "Maine",
            "Maryland",
            "Massachusetts",
            "Michigan",
            "Minnesota",
            "Mississippi",
            "Missouri",
            "Montana",
            "Nebraska",
            "Nevada",
            "Ohio",
            "Oklahoma",
            "Oregon",
            "Pennsylvania",
            "Tennessee",
            "Texas",
            "Utah",
            "Vermont",
            "Virginia",
            "Washington",
            "Wisconsin",
            "Wyoming"
           ],
           "parents": [
            "",
            "",
            "",
            "",
            "",
            "",
            "",
            "",
            "",
            "",
            "",
            "",
            "",
            "",
            "",
            "",
            "",
            "",
            "",
            "",
            "",
            "",
            "",
            "",
            "",
            "",
            "",
            "",
            "",
            "",
            "",
            "",
            "",
            "",
            "",
            "",
            "",
            ""
           ],
           "type": "treemap",
           "values": [
            294.495008012469,
            332.8195076374978,
            371.7883119412319,
            196.95991477613256,
            332.1780998223411,
            400.6317350387852,
            732.7309558449875,
            410.16071238864345,
            419.11526377129815,
            468.4575107296137,
            363.35764562448173,
            288.01849643436714,
            569.1002020514915,
            575.9549305705347,
            415.12478574659787,
            345.3330862587564,
            297.2375181625261,
            255.757666238691,
            494.20973931661644,
            207.90971225185098,
            579.4352120153427,
            416.3598172728584,
            342.4224497193222,
            605.3893856459596,
            578.6427111529151,
            653.2835401241466,
            282.56008049128803,
            325.67315674831815,
            341.70364303288227,
            214.1302705404333,
            384.6810481938377,
            342.63842268181304,
            342.3365544063206,
            307.4308499777807,
            351.6679512442224,
            443.20039830426083,
            428.77716271974873,
            950.0090919161371
           ]
          }
         ],
         "layout": {
          "title": {
           "text": "Infrastructure Spending Over Time 1995"
          }
         }
        },
        {
         "data": [
          {
           "labels": [
            "Alabama",
            "Arizona",
            "Arkansas",
            "California",
            "Colorado",
            "Connecticut",
            "Delaware",
            "Florida",
            "Georgia",
            "Idaho",
            "Illinois",
            "Indiana",
            "Iowa",
            "Kansas",
            "Kentucky",
            "Louisiana",
            "Maine",
            "Maryland",
            "Massachusetts",
            "Michigan",
            "Minnesota",
            "Mississippi",
            "Missouri",
            "Montana",
            "Nebraska",
            "Nevada",
            "Ohio",
            "Oklahoma",
            "Oregon",
            "Pennsylvania",
            "Tennessee",
            "Texas",
            "Utah",
            "Vermont",
            "Virginia",
            "Washington",
            "Wisconsin",
            "Wyoming"
           ],
           "parents": [
            "",
            "",
            "",
            "",
            "",
            "",
            "",
            "",
            "",
            "",
            "",
            "",
            "",
            "",
            "",
            "",
            "",
            "",
            "",
            "",
            "",
            "",
            "",
            "",
            "",
            "",
            "",
            "",
            "",
            "",
            "",
            "",
            "",
            "",
            "",
            "",
            "",
            ""
           ],
           "type": "treemap",
           "values": [
            276.69452030496905,
            327.55259787902827,
            381.1501490304042,
            189.89249776964598,
            328.6258404769723,
            364.70494608252756,
            705.1685485978352,
            416.52728016413215,
            428.1248870567938,
            471.23109591094084,
            342.69170684555166,
            278.37371214764653,
            570.9768005524363,
            634.0590224403506,
            399.4392240658523,
            338.6078013479879,
            316.09200957600706,
            248.7112285951235,
            539.3719025213327,
            195.31687665003554,
            554.1778199776536,
            444.57577239222485,
            365.2075080553096,
            601.6019966782865,
            576.4670680851657,
            665.8352521428446,
            264.2125275050612,
            334.11163673527204,
            330.3825529633466,
            209.92376811844616,
            377.85363378636157,
            337.784011987642,
            338.57187997743114,
            280.5004502414932,
            374.1805367376537,
            488.16262468550144,
            406.93853757797905,
            922.6616120062072
           ]
          }
         ],
         "layout": {
          "title": {
           "text": "Infrastructure Spending Over Time 1996"
          }
         }
        },
        {
         "data": [
          {
           "labels": [
            "Alabama",
            "Arizona",
            "Arkansas",
            "California",
            "Colorado",
            "Connecticut",
            "Delaware",
            "Florida",
            "Georgia",
            "Idaho",
            "Illinois",
            "Indiana",
            "Iowa",
            "Kansas",
            "Kentucky",
            "Louisiana",
            "Maine",
            "Maryland",
            "Massachusetts",
            "Michigan",
            "Minnesota",
            "Mississippi",
            "Missouri",
            "Montana",
            "Nebraska",
            "Nevada",
            "Ohio",
            "Oklahoma",
            "Oregon",
            "Pennsylvania",
            "Tennessee",
            "Texas",
            "Utah",
            "Vermont",
            "Virginia",
            "Washington",
            "Wisconsin",
            "Wyoming"
           ],
           "parents": [
            "",
            "",
            "",
            "",
            "",
            "",
            "",
            "",
            "",
            "",
            "",
            "",
            "",
            "",
            "",
            "",
            "",
            "",
            "",
            "",
            "",
            "",
            "",
            "",
            "",
            "",
            "",
            "",
            "",
            "",
            "",
            "",
            "",
            "",
            "",
            "",
            "",
            ""
           ],
           "type": "treemap",
           "values": [
            291.6395947393237,
            326.38739846408566,
            396.99969136377194,
            199.00658358440643,
            364.4058671500707,
            356.17990316088594,
            688.3571148697187,
            421.94853354309475,
            428.3305820097904,
            458.1782498153866,
            357.43960230142613,
            275.97017899076525,
            568.6772262853508,
            612.6121270982086,
            409.0389619163236,
            334.0743992149635,
            314.7400248149918,
            256.8176097220569,
            550.6938462353544,
            193.25886903514913,
            546.2386240151408,
            430.990480360023,
            367.86248040312825,
            605.70543503743,
            571.9716045849078,
            642.6552938950728,
            272.11046102304766,
            348.69725027525004,
            314.3321491317053,
            232.70548127612375,
            366.7038336258906,
            338.45014114129333,
            354.581225788553,
            294.8315255705707,
            376.61249765701973,
            472.7663025585709,
            425.77345062290453,
            932.0085577806433
           ]
          }
         ],
         "layout": {
          "title": {
           "text": "Infrastructure Spending Over Time 1997"
          }
         }
        },
        {
         "data": [
          {
           "labels": [
            "Alabama",
            "Arizona",
            "Arkansas",
            "California",
            "Colorado",
            "Connecticut",
            "Delaware",
            "Florida",
            "Georgia",
            "Idaho",
            "Illinois",
            "Indiana",
            "Iowa",
            "Kansas",
            "Kentucky",
            "Louisiana",
            "Maine",
            "Maryland",
            "Massachusetts",
            "Michigan",
            "Minnesota",
            "Mississippi",
            "Missouri",
            "Montana",
            "Nebraska",
            "Nevada",
            "Ohio",
            "Oklahoma",
            "Oregon",
            "Pennsylvania",
            "Tennessee",
            "Texas",
            "Utah",
            "Vermont",
            "Virginia",
            "Washington",
            "Wisconsin",
            "Wyoming"
           ],
           "parents": [
            "",
            "",
            "",
            "",
            "",
            "",
            "",
            "",
            "",
            "",
            "",
            "",
            "",
            "",
            "",
            "",
            "",
            "",
            "",
            "",
            "",
            "",
            "",
            "",
            "",
            "",
            "",
            "",
            "",
            "",
            "",
            "",
            "",
            "",
            "",
            "",
            "",
            ""
           ],
           "type": "treemap",
           "values": [
            316.06787071679696,
            335.51276258083675,
            426.39789898518717,
            214.3161016160369,
            412.44031507442617,
            357.22612521134045,
            690.2143089457119,
            441.2272952590616,
            441.7146968214064,
            459.5120897082921,
            383.71588399252545,
            281.71528384456883,
            582.8383184348266,
            607.1023740396192,
            431.3844104811263,
            339.1918598281179,
            322.9607696340199,
            272.9567928091458,
            579.1479958928503,
            197.01939801619739,
            554.2694023012388,
            429.82334030570615,
            382.2178027579272,
            628.8268888148597,
            585.4150961119286,
            644.1908689897532,
            288.5847632159884,
            374.4279794626585,
            307.91683868795616,
            263.8963654470728,
            366.6999283410634,
            349.2167793563733,
            383.26790639838293,
            319.03606460778315,
            391.0422765485015,
            471.88067439403983,
            458.80450176977797,
            969.2987115791228
           ]
          }
         ],
         "layout": {
          "title": {
           "text": "Infrastructure Spending Over Time 1998"
          }
         }
        },
        {
         "data": [
          {
           "labels": [
            "Alabama",
            "Arizona",
            "Arkansas",
            "California",
            "Colorado",
            "Connecticut",
            "Delaware",
            "Florida",
            "Georgia",
            "Idaho",
            "Illinois",
            "Indiana",
            "Iowa",
            "Kansas",
            "Kentucky",
            "Louisiana",
            "Maine",
            "Maryland",
            "Massachusetts",
            "Michigan",
            "Minnesota",
            "Mississippi",
            "Missouri",
            "Montana",
            "Nebraska",
            "Nevada",
            "Ohio",
            "Oklahoma",
            "Oregon",
            "Pennsylvania",
            "Tennessee",
            "Texas",
            "Utah",
            "Vermont",
            "Virginia",
            "Washington",
            "Wisconsin",
            "Wyoming"
           ],
           "parents": [
            "",
            "",
            "",
            "",
            "",
            "",
            "",
            "",
            "",
            "",
            "",
            "",
            "",
            "",
            "",
            "",
            "",
            "",
            "",
            "",
            "",
            "",
            "",
            "",
            "",
            "",
            "",
            "",
            "",
            "",
            "",
            "",
            "",
            "",
            "",
            "",
            "",
            ""
           ],
           "type": "treemap",
           "values": [
            342.478320825692,
            344.8270233211087,
            457.1072124695213,
            230.17140290421628,
            461.4515845510983,
            356.2985846264097,
            689.750218303523,
            461.36353830300146,
            454.8735015870081,
            459.5861628185668,
            410.99141929212254,
            286.9507669739072,
            595.6751433132839,
            600.6261369407985,
            454.18441865015495,
            343.6129857148902,
            329.84980527357465,
            289.3143637001381,
            607.8967231504109,
            200.19191435327753,
            559.8723737872494,
            427.37299715128734,
            396.45592499951533,
            649.8840593172243,
            597.6478186441045,
            646.5850823516666,
            305.69607984752844,
            401.9042037567107,
            300.4875527493596,
            297.1204974213808,
            365.7363361408289,
            360.30723391937823,
            414.08164760103585,
            343.60662916428066,
            403.76830083085605,
            470.88255931134273,
            492.6053900944796,
            1007.2664417579576
           ]
          }
         ],
         "layout": {
          "title": {
           "text": "Infrastructure Spending Over Time 1999"
          }
         }
        },
        {
         "data": [
          {
           "labels": [
            "Alabama",
            "Arizona",
            "Arkansas",
            "California",
            "Colorado",
            "Connecticut",
            "Delaware",
            "Florida",
            "Georgia",
            "Idaho",
            "Illinois",
            "Indiana",
            "Iowa",
            "Kansas",
            "Kentucky",
            "Louisiana",
            "Maine",
            "Maryland",
            "Massachusetts",
            "Michigan",
            "Minnesota",
            "Mississippi",
            "Missouri",
            "Montana",
            "Nebraska",
            "Nevada",
            "Ohio",
            "Oklahoma",
            "Oregon",
            "Pennsylvania",
            "Tennessee",
            "Texas",
            "Utah",
            "Vermont",
            "Virginia",
            "Washington",
            "Wisconsin",
            "Wyoming"
           ],
           "parents": [
            "",
            "",
            "",
            "",
            "",
            "",
            "",
            "",
            "",
            "",
            "",
            "",
            "",
            "",
            "",
            "",
            "",
            "",
            "",
            "",
            "",
            "",
            "",
            "",
            "",
            "",
            "",
            "",
            "",
            "",
            "",
            "",
            "",
            "",
            "",
            "",
            "",
            ""
           ],
           "type": "treemap",
           "values": [
            357.0299267346529,
            328.29643765262324,
            458.1809520538434,
            238.59719570835298,
            480.10559933957666,
            334.2038474378601,
            652.7436725319917,
            449.92224652851235,
            441.925744074334,
            439.52271380528384,
            421.3768021823105,
            280.12861740556997,
            584.1607583575247,
            573.7123289654567,
            460.14950280574,
            332.87595723056387,
            324.2503163486475,
            294.07192648361877,
            608.3175184684923,
            197.7162407246457,
            540.0278331115927,
            405.16782856619244,
            394.092328105313,
            643.3573474755276,
            581.0621885612258,
            589.6848580377572,
            313.9562194642991,
            411.781325945579,
            278.7639647456868,
            317.53720824348534,
            345.266483148977,
            353.50910040865625,
            419.8967075992804,
            353.77564310765104,
            398.89938060605846,
            451.87235894284623,
            507.31587408185226,
            991.3979364758244
           ]
          }
         ],
         "layout": {
          "title": {
           "text": "Infrastructure Spending Over Time 2000"
          }
         }
        },
        {
         "data": [
          {
           "labels": [
            "Alabama",
            "Arizona",
            "Arkansas",
            "California",
            "Colorado",
            "Connecticut",
            "Delaware",
            "Florida",
            "Georgia",
            "Idaho",
            "Illinois",
            "Indiana",
            "Iowa",
            "Kansas",
            "Kentucky",
            "Louisiana",
            "Maine",
            "Maryland",
            "Massachusetts",
            "Michigan",
            "Minnesota",
            "Mississippi",
            "Missouri",
            "Montana",
            "Nebraska",
            "Nevada",
            "Ohio",
            "Oklahoma",
            "Oregon",
            "Pennsylvania",
            "Tennessee",
            "Texas",
            "Utah",
            "Vermont",
            "Virginia",
            "Washington",
            "Wisconsin",
            "Wyoming"
           ],
           "parents": [
            "",
            "",
            "",
            "",
            "",
            "",
            "",
            "",
            "",
            "",
            "",
            "",
            "",
            "",
            "",
            "",
            "",
            "",
            "",
            "",
            "",
            "",
            "",
            "",
            "",
            "",
            "",
            "",
            "",
            "",
            "",
            "",
            "",
            "",
            "",
            "",
            "",
            ""
           ],
           "type": "treemap",
           "values": [
            385.58619618348325,
            337.443208721684,
            489.8518374584954,
            255.078371591572,
            529.1470002284391,
            329.9375006372284,
            649.806019612944,
            466.93292631408536,
            455.03028636136065,
            438.32852763943197,
            450.2266695333166,
            284.49563951590795,
            596.3931750271231,
            564.4413621389094,
            484.5012403727313,
            336.061859699076,
            329.43348795823573,
            309.7670173038785,
            636.8915445928917,
            200.31127641345515,
            543.8249930360384,
            401.93565075846635,
            407.86085512472476,
            663.6316225284219,
            591.1743910465882,
            589.6643107435716,
            331.7742129812906,
            441.4049205387788,
            268.9082875496297,
            353.2307176942459,
            342.7973100734525,
            363.703915575989,
            449.7894877425598,
            380.08209426957166,
            410.8527745617684,
            448.3409018995536,
            542.5676944090212,
            1026.44863006083
           ]
          }
         ],
         "layout": {
          "title": {
           "text": "Infrastructure Spending Over Time 2001"
          }
         }
        },
        {
         "data": [
          {
           "labels": [
            "Alabama",
            "Arizona",
            "Arkansas",
            "California",
            "Colorado",
            "Connecticut",
            "Delaware",
            "Florida",
            "Georgia",
            "Idaho",
            "Illinois",
            "Indiana",
            "Iowa",
            "Kansas",
            "Kentucky",
            "Louisiana",
            "Maine",
            "Maryland",
            "Massachusetts",
            "Michigan",
            "Minnesota",
            "Mississippi",
            "Missouri",
            "Montana",
            "Nebraska",
            "Nevada",
            "Ohio",
            "Oklahoma",
            "Oregon",
            "Pennsylvania",
            "Tennessee",
            "Texas",
            "Utah",
            "Vermont",
            "Virginia",
            "Washington",
            "Wisconsin",
            "Wyoming"
           ],
           "parents": [
            "",
            "",
            "",
            "",
            "",
            "",
            "",
            "",
            "",
            "",
            "",
            "",
            "",
            "",
            "",
            "",
            "",
            "",
            "",
            "",
            "",
            "",
            "",
            "",
            "",
            "",
            "",
            "",
            "",
            "",
            "",
            "",
            "",
            "",
            "",
            "",
            "",
            ""
           ],
           "type": "treemap",
           "values": [
            397.7811601510595,
            330.98899143943345,
            499.92220780531034,
            261.0906455388664,
            559.0416545853537,
            309.8915243632885,
            616.353394883703,
            462.5626970940186,
            448.8401618381017,
            417.366223705061,
            460.0842469587777,
            276.269999498048,
            581.6052843774559,
            528.0650516761347,
            487.14838473058467,
            322.81138744931087,
            319.25136578289454,
            311.65253072896076,
            638.8948710700575,
            194.02448753009023,
            524.2470763219687,
            379.741915939554,
            403.37860638874326,
            652.9686826439918,
            573.5483355821816,
            565.3464385490602,
            335.1034534084264,
            450.6612058192991,
            246.02552951195185,
            373.66575430716216,
            324.6455522662674,
            357.76310405676264,
            459.5058101397316,
            389.5151777096786,
            404.6593099673893,
            424.9652490297569,
            553.5965688440492,
            1005.257821234078
           ]
          }
         ],
         "layout": {
          "title": {
           "text": "Infrastructure Spending Over Time 2002"
          }
         }
        },
        {
         "data": [
          {
           "labels": [
            "Alabama",
            "Arizona",
            "Arkansas",
            "California",
            "Colorado",
            "Connecticut",
            "Delaware",
            "Florida",
            "Georgia",
            "Idaho",
            "Illinois",
            "Indiana",
            "Iowa",
            "Kansas",
            "Kentucky",
            "Louisiana",
            "Maine",
            "Maryland",
            "Massachusetts",
            "Michigan",
            "Minnesota",
            "Mississippi",
            "Missouri",
            "Montana",
            "Nebraska",
            "Nevada",
            "Ohio",
            "Oklahoma",
            "Oregon",
            "Pennsylvania",
            "Tennessee",
            "Texas",
            "Utah",
            "Vermont",
            "Virginia",
            "Washington",
            "Wisconsin",
            "Wyoming"
           ],
           "parents": [
            "",
            "",
            "",
            "",
            "",
            "",
            "",
            "",
            "",
            "",
            "",
            "",
            "",
            "",
            "",
            "",
            "",
            "",
            "",
            "",
            "",
            "",
            "",
            "",
            "",
            "",
            "",
            "",
            "",
            "",
            "",
            "",
            "",
            "",
            "",
            "",
            "",
            ""
           ],
           "type": "treemap",
           "values": [
            377.484933355035,
            329.6419256513725,
            451.20441160063655,
            247.28569714844562,
            508.6958115428336,
            285.7652074886004,
            594.2252045530396,
            445.377566625902,
            410.32679318638407,
            406.83155099825433,
            439.92675696395804,
            279.9338931853046,
            547.8805397282595,
            504.92213746289013,
            454.79103364689826,
            366.4871947661623,
            296.9583923007272,
            306.1060148256936,
            563.1460327766243,
            186.31487701809513,
            503.6906568264982,
            362.59026214721405,
            385.54801614109215,
            642.3985733392777,
            551.0792037238238,
            534.4287080063143,
            317.0784626702305,
            440.3399591199956,
            245.79407426785323,
            382.4758631713296,
            318.6253251643521,
            345.19771316064674,
            458.3653406560721,
            373.6829498040002,
            365.2145242207217,
            431.55789168454396,
            521.2106578274249,
            984.9479494610221
           ]
          }
         ],
         "layout": {
          "title": {
           "text": "Infrastructure Spending Over Time 2003"
          }
         }
        },
        {
         "data": [
          {
           "labels": [
            "Alabama",
            "Arizona",
            "Arkansas",
            "California",
            "Colorado",
            "Connecticut",
            "Delaware",
            "Florida",
            "Georgia",
            "Idaho",
            "Illinois",
            "Indiana",
            "Iowa",
            "Kansas",
            "Kentucky",
            "Louisiana",
            "Maine",
            "Maryland",
            "Massachusetts",
            "Michigan",
            "Minnesota",
            "Mississippi",
            "Missouri",
            "Montana",
            "Nebraska",
            "Nevada",
            "Ohio",
            "Oklahoma",
            "Oregon",
            "Pennsylvania",
            "Tennessee",
            "Texas",
            "Utah",
            "Vermont",
            "Virginia",
            "Washington",
            "Wisconsin",
            "Wyoming"
           ],
           "parents": [
            "",
            "",
            "",
            "",
            "",
            "",
            "",
            "",
            "",
            "",
            "",
            "",
            "",
            "",
            "",
            "",
            "",
            "",
            "",
            "",
            "",
            "",
            "",
            "",
            "",
            "",
            "",
            "",
            "",
            "",
            "",
            "",
            "",
            "",
            "",
            "",
            "",
            ""
           ],
           "type": "treemap",
           "values": [
            370.40948597896715,
            337.4113032260256,
            418.9445631246623,
            242.83195954324233,
            476.97940967599436,
            273.4079804490383,
            592.2968501558131,
            441.43758959784714,
            386.2125298714189,
            408.70037548444384,
            435.24819708822383,
            292.9712737367373,
            533.2185595037979,
            499.3404338032887,
            438.9618101440366,
            419.79922842346997,
            286.3929639305528,
            311.29335389724235,
            510.37953576894085,
            185.38494318676243,
            500.9618270527445,
            356.9464972430002,
            381.16974999395416,
            652.0205718439285,
            547.9372574126686,
            518.4232353119185,
            310.68398692973113,
            444.64947423333444,
            254.57246650266444,
            404.013884123744,
            322.8921793954093,
            344.40435289362705,
            471.13483623281337,
            371.26564718028135,
            338.7331409289586,
            450.49942179879247,
            507.6608271342935,
            994.1132102155543
           ]
          }
         ],
         "layout": {
          "title": {
           "text": "Infrastructure Spending Over Time 2004"
          }
         }
        },
        {
         "data": [
          {
           "labels": [
            "Alabama",
            "Arizona",
            "Arkansas",
            "California",
            "Colorado",
            "Connecticut",
            "Delaware",
            "Florida",
            "Georgia",
            "Idaho",
            "Illinois",
            "Indiana",
            "Iowa",
            "Kansas",
            "Kentucky",
            "Louisiana",
            "Maine",
            "Maryland",
            "Massachusetts",
            "Michigan",
            "Minnesota",
            "Mississippi",
            "Missouri",
            "Montana",
            "Nebraska",
            "Nevada",
            "Ohio",
            "Oklahoma",
            "Oregon",
            "Pennsylvania",
            "Tennessee",
            "Texas",
            "Utah",
            "Vermont",
            "Virginia",
            "Washington",
            "Wisconsin",
            "Wyoming"
           ],
           "parents": [
            "",
            "",
            "",
            "",
            "",
            "",
            "",
            "",
            "",
            "",
            "",
            "",
            "",
            "",
            "",
            "",
            "",
            "",
            "",
            "",
            "",
            "",
            "",
            "",
            "",
            "",
            "",
            "",
            "",
            "",
            "",
            "",
            "",
            "",
            "",
            "",
            "",
            ""
           ],
           "type": "treemap",
           "values": [
            351.90670061414,
            332.1754448519861,
            375.09766829420187,
            231.9433465661146,
            431.9160998711541,
            253.58744164454876,
            572.1528722711945,
            424.5406830766754,
            351.911544824165,
            396.2776590225319,
            418.4887861548182,
            296.4909782665479,
            503.68803159030296,
            479.4803771829589,
            410.2524133690292,
            459.2590876951328,
            268.3200547169482,
            307.4405364872445,
            444.03970458935953,
            179.40437982289967,
            483.94815374175863,
            341.577587722815,
            365.5915928362952,
            642.3228543285728,
            528.5209114747286,
            491.300059248161,
            295.60057644731194,
            435.44025991117053,
            254.02731427692115,
            412.8994481120065,
            316.61040781284504,
            333.3026606274801,
            466.55130224407264,
            358.54736282929423,
            304.17487945593996,
            454.99636025413497,
            480.1012086547716,
            974.9453960560686
           ]
          }
         ],
         "layout": {
          "title": {
           "text": "Infrastructure Spending Over Time 2005"
          }
         }
        },
        {
         "data": [
          {
           "labels": [
            "Alabama",
            "Arizona",
            "Arkansas",
            "California",
            "Colorado",
            "Connecticut",
            "Delaware",
            "Florida",
            "Georgia",
            "Idaho",
            "Illinois",
            "Indiana",
            "Iowa",
            "Kansas",
            "Kentucky",
            "Louisiana",
            "Maine",
            "Maryland",
            "Massachusetts",
            "Michigan",
            "Minnesota",
            "Mississippi",
            "Missouri",
            "Montana",
            "Nebraska",
            "Nevada",
            "Ohio",
            "Oklahoma",
            "Oregon",
            "Pennsylvania",
            "Tennessee",
            "Texas",
            "Utah",
            "Vermont",
            "Virginia",
            "Washington",
            "Wisconsin",
            "Wyoming"
           ],
           "parents": [
            "",
            "",
            "",
            "",
            "",
            "",
            "",
            "",
            "",
            "",
            "",
            "",
            "",
            "",
            "",
            "",
            "",
            "",
            "",
            "",
            "",
            "",
            "",
            "",
            "",
            "",
            "",
            "",
            "",
            "",
            "",
            "",
            "",
            "",
            "",
            "",
            "",
            ""
           ],
           "type": "treemap",
           "values": [
            337.8763058219509,
            331.4238296964692,
            338.09029184257633,
            225.2599455176426,
            393.06053715948764,
            238.34016591517744,
            561.2730836013909,
            416.9285610879953,
            322.3023449692561,
            388.99983590584407,
            407.98254976389904,
            303.4993618014774,
            481.52645773347405,
            466.2211977063489,
            388.9229787646539,
            537.865718107266,
            254.981229492777,
            308.6208878859332,
            385.8295772723103,
            176.4299231941233,
            473.4861931363179,
            333.8434921021777,
            355.36217477387174,
            640.3118741419053,
            517.7935491368218,
            472.29350946501665,
            285.2268309977352,
            430.11777668338857,
            255.98228001273807,
            426.40911550963654,
            314.12309160838174,
            324.6962060105533,
            466.2402440381278,
            351.2807998818415,
            276.27612404666576,
            462.79772579473723,
            460.7789474250379,
            963.8814005858416
           ]
          }
         ],
         "layout": {
          "title": {
           "text": "Infrastructure Spending Over Time 2006"
          }
         }
        },
        {
         "data": [
          {
           "labels": [
            "Alabama",
            "Arizona",
            "Arkansas",
            "California",
            "Colorado",
            "Connecticut",
            "Delaware",
            "Florida",
            "Georgia",
            "Idaho",
            "Illinois",
            "Indiana",
            "Iowa",
            "Kansas",
            "Kentucky",
            "Louisiana",
            "Maine",
            "Maryland",
            "Massachusetts",
            "Michigan",
            "Minnesota",
            "Mississippi",
            "Missouri",
            "Montana",
            "Nebraska",
            "Nevada",
            "Ohio",
            "Oklahoma",
            "Oregon",
            "Pennsylvania",
            "Tennessee",
            "Texas",
            "Utah",
            "Vermont",
            "Virginia",
            "Washington",
            "Wisconsin",
            "Wyoming"
           ],
           "parents": [
            "",
            "",
            "",
            "",
            "",
            "",
            "",
            "",
            "",
            "",
            "",
            "",
            "",
            "",
            "",
            "",
            "",
            "",
            "",
            "",
            "",
            "",
            "",
            "",
            "",
            "",
            "",
            "",
            "",
            "",
            "",
            "",
            "",
            "",
            "",
            "",
            "",
            ""
           ],
           "type": "treemap",
           "values": [
            306.85600191746346,
            314.08287815144786,
            287.03210292594736,
            206.04474262303572,
            336.4112003077521,
            210.8134619691716,
            520.1543104723952,
            388.6881213372807,
            278.8806787773417,
            361.0419206633424,
            374.44858034891035,
            292.64362854154314,
            434.01133364363704,
            426.9094057191917,
            347.250387156915,
            542.974521554966,
            228.44827586206895,
            292.38646848060495,
            309.8079330376974,
            163.90495460382886,
            436.8174238645969,
            305.04891833284955,
            326.1014822308264,
            601.9025485484697,
            478.41643116673396,
            430.54517522006313,
            259.3512716178159,
            401.11447744836835,
            243.31878991526204,
            414.3796645908046,
            294.2670555223701,
            299.71777841566944,
            438.12790011032644,
            325.0491995746462,
            236.01741710747,
            444.4567565212695,
            416.65919592213197,
            892.1282689819697
           ]
          }
         ],
         "layout": {
          "title": {
           "text": "Infrastructure Spending Over Time 2007"
          }
         }
        },
        {
         "data": [
          {
           "labels": [
            "Alabama",
            "Arizona",
            "Arkansas",
            "California",
            "Colorado",
            "Connecticut",
            "Delaware",
            "Florida",
            "Georgia",
            "Idaho",
            "Illinois",
            "Indiana",
            "Iowa",
            "Kansas",
            "Kentucky",
            "Louisiana",
            "Maine",
            "Maryland",
            "Massachusetts",
            "Michigan",
            "Minnesota",
            "Mississippi",
            "Missouri",
            "Montana",
            "Nebraska",
            "Nevada",
            "Ohio",
            "Oklahoma",
            "Oregon",
            "Pennsylvania",
            "Tennessee",
            "Texas",
            "Utah",
            "Vermont",
            "Virginia",
            "Washington",
            "Wisconsin",
            "Wyoming"
           ],
           "parents": [
            "",
            "",
            "",
            "",
            "",
            "",
            "",
            "",
            "",
            "",
            "",
            "",
            "",
            "",
            "",
            "",
            "",
            "",
            "",
            "",
            "",
            "",
            "",
            "",
            "",
            "",
            "",
            "",
            "",
            "",
            "",
            "",
            "",
            "",
            "",
            "",
            "",
            ""
           ],
           "type": "treemap",
           "values": [
            281.5595588662301,
            301.7049017238179,
            244.67482607736713,
            189.83253268594922,
            289.67427649379414,
            187.5964405249467,
            487.4450430717501,
            367.0331437842687,
            244.36963345949007,
            340.2953751499035,
            347.3623440990762,
            284.74992085364136,
            395.02389007449773,
            394.62642748985434,
            313.39655813055754,
            550.7452679307763,
            206.6246827342017,
            279.55070963497576,
            244.94900035817156,
            154.2062045731082,
            407.63744282943185,
            282.1003146068636,
            302.91179010640934,
            571.8029731210602,
            446.2468366902734,
            400.87314358068005,
            238.349614007896,
            378.62253664237653,
            233.82221363699563,
            406.22646887538616,
            279.22062435143135,
            279.6336786493288,
            416.90308291798544,
            303.96009939902365,
            202.48085912088294,
            429.93625186312397,
            380.8440920716838,
            836.2931124471883
           ]
          }
         ],
         "layout": {
          "title": {
           "text": "Infrastructure Spending Over Time 2008"
          }
         }
        },
        {
         "data": [
          {
           "labels": [
            "Alabama",
            "Arizona",
            "Arkansas",
            "California",
            "Colorado",
            "Connecticut",
            "Delaware",
            "Florida",
            "Georgia",
            "Idaho",
            "Illinois",
            "Indiana",
            "Iowa",
            "Kansas",
            "Kentucky",
            "Louisiana",
            "Maine",
            "Maryland",
            "Massachusetts",
            "Michigan",
            "Minnesota",
            "Mississippi",
            "Missouri",
            "Montana",
            "Nebraska",
            "Nevada",
            "Ohio",
            "Oklahoma",
            "Oregon",
            "Pennsylvania",
            "Tennessee",
            "Texas",
            "Utah",
            "Vermont",
            "Virginia",
            "Washington",
            "Wisconsin",
            "Wyoming"
           ],
           "parents": [
            "",
            "",
            "",
            "",
            "",
            "",
            "",
            "",
            "",
            "",
            "",
            "",
            "",
            "",
            "",
            "",
            "",
            "",
            "",
            "",
            "",
            "",
            "",
            "",
            "",
            "",
            "",
            "",
            "",
            "",
            "",
            "",
            "",
            "",
            "",
            "",
            "",
            ""
           ],
           "type": "treemap",
           "values": [
            278.78799597640824,
            314.4512966262525,
            223.23784892726323,
            188.5132120471427,
            267.77167830304325,
            179.61276397064745,
            494.77308153813374,
            374.22962664167073,
            231.13476715041483,
            347.7048632979487,
            347.3703302503177,
            298.6457563290282,
            387.4960021365901,
            393.17768464336547,
            305.01191316155337,
            598.248571571058,
            201.86523665190023,
            287.2613512383454,
            201.61154091229412,
            156.24721320038367,
            410.5127184090443,
            282.0076829119087,
            303.2600760129694,
            587.7648168360803,
            447.8692634067843,
            405.6636489096405,
            236.05209033024497,
            383.7472414791159,
            242.35860946279473,
            428.1579536140691,
            286.08381928440116,
            281.1074584582925,
            428.0450947539877,
            306.39211161027947,
            185.74964701334366,
            447.2208615438702,
            375.20073152352757,
            841.11308187357
           ]
          }
         ],
         "layout": {
          "title": {
           "text": "Infrastructure Spending Over Time 2009"
          }
         }
        },
        {
         "data": [
          {
           "labels": [
            "Alabama",
            "Arizona",
            "Arkansas",
            "California",
            "Colorado",
            "Connecticut",
            "Delaware",
            "Florida",
            "Georgia",
            "Idaho",
            "Illinois",
            "Indiana",
            "Iowa",
            "Kansas",
            "Kentucky",
            "Louisiana",
            "Maine",
            "Maryland",
            "Massachusetts",
            "Michigan",
            "Minnesota",
            "Mississippi",
            "Missouri",
            "Montana",
            "Nebraska",
            "Nevada",
            "Ohio",
            "Oklahoma",
            "Oregon",
            "Pennsylvania",
            "Tennessee",
            "Texas",
            "Utah",
            "Vermont",
            "Virginia",
            "Washington",
            "Wisconsin",
            "Wyoming"
           ],
           "parents": [
            "",
            "",
            "",
            "",
            "",
            "",
            "",
            "",
            "",
            "",
            "",
            "",
            "",
            "",
            "",
            "",
            "",
            "",
            "",
            "",
            "",
            "",
            "",
            "",
            "",
            "",
            "",
            "",
            "",
            "",
            "",
            "",
            "",
            "",
            "",
            "",
            "",
            ""
           ],
           "type": "treemap",
           "values": [
            272.2395128297608,
            282.71426747627953,
            237.92589864880128,
            194.3563092266654,
            255.0064496777538,
            186.4874930605478,
            505.51827550139114,
            344.7897004708072,
            223.36545681832013,
            331.45002702411927,
            341.3075535345268,
            287.43443357309195,
            385.59481896500574,
            367.45775235754826,
            324.1190452536804,
            521.2772862947189,
            222.44400072006874,
            269.81936102642624,
            196.9854289386639,
            146.41789900924283,
            405.3030973459659,
            284.3717546703292,
            281.0211789718265,
            573.3731692792184,
            443.79372220348694,
            376.41494877118566,
            238.7717125835038,
            371.6342545533075,
            226.7067506007639,
            421.0065353903416,
            264.080756281392,
            285.99288714314935,
            383.60056683455764,
            311.28192674065247,
            195.22771922845502,
            420.93922757629423,
            363.5023612881594,
            779.4310675587346
           ]
          }
         ],
         "layout": {
          "title": {
           "text": "Infrastructure Spending Over Time 2010"
          }
         }
        },
        {
         "data": [
          {
           "labels": [
            "Alabama",
            "Arizona",
            "Arkansas",
            "California",
            "Colorado",
            "Connecticut",
            "Delaware",
            "Florida",
            "Georgia",
            "Idaho",
            "Illinois",
            "Indiana",
            "Iowa",
            "Kansas",
            "Kentucky",
            "Louisiana",
            "Maine",
            "Maryland",
            "Massachusetts",
            "Michigan",
            "Minnesota",
            "Mississippi",
            "Missouri",
            "Montana",
            "Nebraska",
            "Nevada",
            "Ohio",
            "Oklahoma",
            "Oregon",
            "Pennsylvania",
            "Tennessee",
            "Texas",
            "Utah",
            "Vermont",
            "Virginia",
            "Washington",
            "Wisconsin",
            "Wyoming"
           ],
           "parents": [
            "",
            "",
            "",
            "",
            "",
            "",
            "",
            "",
            "",
            "",
            "",
            "",
            "",
            "",
            "",
            "",
            "",
            "",
            "",
            "",
            "",
            "",
            "",
            "",
            "",
            "",
            "",
            "",
            "",
            "",
            "",
            "",
            "",
            "",
            "",
            "",
            "",
            ""
           ],
           "type": "treemap",
           "values": [
            260.63777256720397,
            246.69587123707174,
            246.68365386642404,
            195.5584594887634,
            237.4398172553154,
            189.11579677158315,
            503.95883603829924,
            309.30817370446397,
            211.0320360927534,
            309.3471323106133,
            328.27892730239535,
            270.5673405193908,
            375.28189249151876,
            336.7734417497161,
            335.2670679188811,
            440.11442571681044,
            236.49483278922492,
            247.74097507277526,
            188.20380580138118,
            133.36334430261581,
            390.7638844728071,
            280.44873247275143,
            254.63694161980123,
            546.8312351255817,
            431.1608255464405,
            341.3885299327636,
            236.03157356374453,
            353.1607696741786,
            206.6033477660902,
            405.0066635014904,
            237.7026819688708,
            284.2619509446958,
            335.6565322472633,
            308.7323440641457,
            199.99550752446456,
            386.4364870254453,
            344.6092074085498,
            706.2825665957698
           ]
          }
         ],
         "layout": {
          "title": {
           "text": "Infrastructure Spending Over Time 2011"
          }
         }
        },
        {
         "data": [
          {
           "labels": [
            "Alabama",
            "Arizona",
            "Arkansas",
            "California",
            "Colorado",
            "Connecticut",
            "Delaware",
            "Florida",
            "Georgia",
            "Idaho",
            "Illinois",
            "Indiana",
            "Iowa",
            "Kansas",
            "Kentucky",
            "Louisiana",
            "Maine",
            "Maryland",
            "Massachusetts",
            "Michigan",
            "Minnesota",
            "Mississippi",
            "Missouri",
            "Montana",
            "Nebraska",
            "Nevada",
            "Ohio",
            "Oklahoma",
            "Oregon",
            "Pennsylvania",
            "Tennessee",
            "Texas",
            "Utah",
            "Vermont",
            "Virginia",
            "Washington",
            "Wisconsin",
            "Wyoming"
           ],
           "parents": [
            "",
            "",
            "",
            "",
            "",
            "",
            "",
            "",
            "",
            "",
            "",
            "",
            "",
            "",
            "",
            "",
            "",
            "",
            "",
            "",
            "",
            "",
            "",
            "",
            "",
            "",
            "",
            "",
            "",
            "",
            "",
            "",
            "",
            "",
            "",
            "",
            "",
            ""
           ],
           "type": "treemap",
           "values": [
            248.1154881668352,
            211.84458899655053,
            253.55585537625018,
            195.30698887437092,
            220.03924015049117,
            190.41608406293818,
            498.9732588545501,
            274.5430321889693,
            198.1956019944303,
            287.4516733399753,
            314.43583647913863,
            253.50662006007346,
            363.9970047230214,
            305.91256344368577,
            343.55660440783845,
            363.72004145093933,
            248.10894409582454,
            226.1131466661006,
            178.84782261940506,
            120.35544728993061,
            375.15685727568575,
            275.26143378055144,
            228.7533726616227,
            518.9589789756295,
            416.348787365316,
            304.706941089457,
            231.99062658888153,
            333.76255459086957,
            187.2999731801886,
            388.0474798465016,
            211.71786028955268,
            280.1804699564333,
            290.1810208727935,
            305.38938407723344,
            202.70838707408015,
            353.25085571722605,
            325.0066205486097,
            627.8890707805
           ]
          }
         ],
         "layout": {
          "title": {
           "text": "Infrastructure Spending Over Time 2012"
          }
         }
        },
        {
         "data": [
          {
           "labels": [
            "Alabama",
            "Arizona",
            "Arkansas",
            "California",
            "Colorado",
            "Connecticut",
            "Delaware",
            "Florida",
            "Georgia",
            "Idaho",
            "Illinois",
            "Indiana",
            "Iowa",
            "Kansas",
            "Kentucky",
            "Louisiana",
            "Maine",
            "Maryland",
            "Massachusetts",
            "Michigan",
            "Minnesota",
            "Mississippi",
            "Missouri",
            "Montana",
            "Nebraska",
            "Nevada",
            "Ohio",
            "Oklahoma",
            "Oregon",
            "Pennsylvania",
            "Tennessee",
            "Texas",
            "Utah",
            "Vermont",
            "Virginia",
            "Washington",
            "Wisconsin",
            "Wyoming"
           ],
           "parents": [
            "",
            "",
            "",
            "",
            "",
            "",
            "",
            "",
            "",
            "",
            "",
            "",
            "",
            "",
            "",
            "",
            "",
            "",
            "",
            "",
            "",
            "",
            "",
            "",
            "",
            "",
            "",
            "",
            "",
            "",
            "",
            "",
            "",
            "",
            "",
            "",
            "",
            ""
           ],
           "type": "treemap",
           "values": [
            235.13045198822917,
            179.3238267349341,
            258.3616256803421,
            193.63661116991142,
            202.6670086784218,
            190.60807744163176,
            490.47574729834145,
            241.4551835397453,
            185.74346264362057,
            264.9199499023915,
            299.7490341412515,
            235.91633913318088,
            350.4278532031216,
            276.6435200700963,
            348.48825910967923,
            292.2975158018521,
            256.89194854814633,
            205.42169315214332,
            169.10726449027706,
            107.68465169551546,
            357.964083844009,
            268.6743333002211,
            203.59709408704862,
            488.48404292033393,
            400.130130940239,
            269.5980778953646,
            226.27933454534025,
            313.5537564502992,
            168.71417977579628,
            370.30149290216906,
            187.2523739241671,
            274.768590184325,
            247.0942015811518,
            299.7942876111349,
            204.0122768539829,
            321.0818385553667,
            304.84303622927246,
            556.6235282001991
           ]
          }
         ],
         "layout": {
          "title": {
           "text": "Infrastructure Spending Over Time 2013"
          }
         }
        },
        {
         "data": [
          {
           "labels": [
            "Alabama",
            "Arizona",
            "Arkansas",
            "California",
            "Colorado",
            "Connecticut",
            "Delaware",
            "Florida",
            "Georgia",
            "Idaho",
            "Illinois",
            "Indiana",
            "Iowa",
            "Kansas",
            "Kentucky",
            "Louisiana",
            "Maine",
            "Maryland",
            "Massachusetts",
            "Michigan",
            "Minnesota",
            "Mississippi",
            "Missouri",
            "Montana",
            "Nebraska",
            "Nevada",
            "Ohio",
            "Oklahoma",
            "Oregon",
            "Pennsylvania",
            "Tennessee",
            "Texas",
            "Utah",
            "Vermont",
            "Virginia",
            "Washington",
            "Wisconsin",
            "Wyoming"
           ],
           "parents": [
            "",
            "",
            "",
            "",
            "",
            "",
            "",
            "",
            "",
            "",
            "",
            "",
            "",
            "",
            "",
            "",
            "",
            "",
            "",
            "",
            "",
            "",
            "",
            "",
            "",
            "",
            "",
            "",
            "",
            "",
            "",
            "",
            "",
            "",
            "",
            "",
            "",
            ""
           ],
           "type": "treemap",
           "values": [
            228.43829051825068,
            174.59545130288362,
            264.1450518550007,
            175.74964807827857,
            199.18742855157188,
            206.34858832654697,
            484.9136937900466,
            249.07796360207678,
            193.88714596586465,
            253.42656263018858,
            340.3002477591934,
            226.33485440232965,
            367.71079162732593,
            289.97081528026325,
            347.1271851975281,
            284.6335874477877,
            255.06735566027177,
            216.21059773854776,
            192.2940357707117,
            113.69867578974011,
            387.60972845388443,
            257.1042002853044,
            186.76031047361585,
            423.6914234195826,
            414.47960190536475,
            248.84184984754881,
            236.8247716186337,
            319.90930058282834,
            176.30194023523703,
            388.8190730865658,
            177.07056043157303,
            273.71397167654214,
            220.91414604296935,
            316.3484328576474,
            208.97680576951524,
            303.7482938438386,
            277.03282990906445,
            547.6516696132616
           ]
          }
         ],
         "layout": {
          "title": {
           "text": "Infrastructure Spending Over Time 2014"
          }
         }
        },
        {
         "data": [
          {
           "labels": [
            "Alabama",
            "Arizona",
            "Arkansas",
            "California",
            "Colorado",
            "Connecticut",
            "Delaware",
            "Florida",
            "Georgia",
            "Idaho",
            "Illinois",
            "Indiana",
            "Iowa",
            "Kansas",
            "Kentucky",
            "Louisiana",
            "Maine",
            "Maryland",
            "Massachusetts",
            "Michigan",
            "Minnesota",
            "Mississippi",
            "Missouri",
            "Montana",
            "Nebraska",
            "Nevada",
            "Ohio",
            "Oklahoma",
            "Oregon",
            "Pennsylvania",
            "Tennessee",
            "Texas",
            "Utah",
            "Vermont",
            "Virginia",
            "Washington",
            "Wisconsin",
            "Wyoming"
           ],
           "parents": [
            "",
            "",
            "",
            "",
            "",
            "",
            "",
            "",
            "",
            "",
            "",
            "",
            "",
            "",
            "",
            "",
            "",
            "",
            "",
            "",
            "",
            "",
            "",
            "",
            "",
            "",
            "",
            "",
            "",
            "",
            "",
            "",
            "",
            "",
            "",
            "",
            "",
            ""
           ],
           "type": "treemap",
           "values": [
            230.50657256329453,
            176.6882146583909,
            280.63429865504685,
            164.05599525563963,
            202.88768845584644,
            231.90994941983712,
            498.6704739057284,
            266.2370269395128,
            209.91062570451987,
            251.63585971515798,
            397.8560738935199,
            225.56667667961094,
            401.40001364273525,
            315.6431903204606,
            359.4095087834485,
            287.83813492099205,
            264.2822425434392,
            236.56547986416695,
            225.0600369195426,
            124.85390533156078,
            435.0224525811625,
            255.32810006986082,
            176.2998421012175,
            372.36050586769693,
            446.7630237746286,
            236.69292749494429,
            257.7972632818849,
            338.95560639281035,
            190.80452562148162,
            424.6771538466711,
            173.3599136604343,
            283.48756618983373,
            202.15033653681797,
            346.1945318866749,
            222.8224554554795,
            297.151209376714,
            258.74455810389406,
            557.3961994512175
           ]
          }
         ],
         "layout": {
          "title": {
           "text": "Infrastructure Spending Over Time 2015"
          }
         }
        },
        {
         "data": [
          {
           "labels": [
            "Alabama",
            "Arizona",
            "Arkansas",
            "California",
            "Colorado",
            "Connecticut",
            "Delaware",
            "Florida",
            "Georgia",
            "Idaho",
            "Illinois",
            "Indiana",
            "Iowa",
            "Kansas",
            "Kentucky",
            "Louisiana",
            "Maine",
            "Maryland",
            "Massachusetts",
            "Michigan",
            "Minnesota",
            "Mississippi",
            "Missouri",
            "Montana",
            "Nebraska",
            "Nevada",
            "Ohio",
            "Oklahoma",
            "Oregon",
            "Pennsylvania",
            "Tennessee",
            "Texas",
            "Utah",
            "Vermont",
            "Virginia",
            "Washington",
            "Wisconsin",
            "Wyoming"
           ],
           "parents": [
            "",
            "",
            "",
            "",
            "",
            "",
            "",
            "",
            "",
            "",
            "",
            "",
            "",
            "",
            "",
            "",
            "",
            "",
            "",
            "",
            "",
            "",
            "",
            "",
            "",
            "",
            "",
            "",
            "",
            "",
            "",
            "",
            "",
            "",
            "",
            "",
            "",
            ""
           ],
           "type": "treemap",
           "values": [
            226.5243205836085,
            174.1069210817296,
            290.8481974988427,
            147.53410198618178,
            202.14223199642703,
            253.59975194352805,
            500.9226422621736,
            276.9918724451559,
            221.25748973511224,
            241.64447790902332,
            450.26485938808946,
            218.32890472254923,
            427.23436986349463,
            335.7156613320324,
            363.1574040167502,
            284.0580465532776,
            266.0588675030848,
            252.6348365427482,
            254.48538803154403,
            133.37195052057353,
            473.641174511706,
            246.30349478949842,
            160.27884631801246,
            307.2513498705065,
            469.08469679509335,
            217.88183473166288,
            273.5570091563102,
            351.6959540424063,
            200.2203128011803,
            452.13992794132963,
            164.7193463751397,
            287.26146791094266,
            176.3434629518491,
            370.1963271542653,
            231.8617153407762,
            281.77986156364403,
            231.87490584692745,
            557.2813344200614
           ]
          }
         ],
         "layout": {
          "title": {
           "text": "Infrastructure Spending Over Time 2016"
          }
         }
        },
        {
         "data": [
          {
           "labels": [
            "Alabama",
            "Arizona",
            "Arkansas",
            "California",
            "Colorado",
            "Connecticut",
            "Delaware",
            "Florida",
            "Georgia",
            "Idaho",
            "Illinois",
            "Indiana",
            "Iowa",
            "Kansas",
            "Kentucky",
            "Louisiana",
            "Maine",
            "Maryland",
            "Massachusetts",
            "Michigan",
            "Minnesota",
            "Mississippi",
            "Missouri",
            "Montana",
            "Nebraska",
            "Nevada",
            "Ohio",
            "Oklahoma",
            "Oregon",
            "Pennsylvania",
            "Tennessee",
            "Texas",
            "Utah",
            "Vermont",
            "Virginia",
            "Washington",
            "Wisconsin",
            "Wyoming"
           ],
           "parents": [
            "",
            "",
            "",
            "",
            "",
            "",
            "",
            "",
            "",
            "",
            "",
            "",
            "",
            "",
            "",
            "",
            "",
            "",
            "",
            "",
            "",
            "",
            "",
            "",
            "",
            "",
            "",
            "",
            "",
            "",
            "",
            "",
            "",
            "",
            "",
            "",
            "",
            ""
           ],
           "type": "treemap",
           "values": [
            219.96175063125395,
            166.96684263874116,
            281.93571260929707,
            142.90019125377802,
            194.1593838168797,
            247.1286518368685,
            483.47916679715473,
            265.08821123846116,
            213.09574676316126,
            230.29867800168049,
            439.65728038568085,
            211.719243934466,
            414.4170594585928,
            326.971938498577,
            352.2330375999587,
            276.91539395246525,
            258.28546359591627,
            245.01500119604802,
            246.3703967037514,
            129.51068644384466,
            457.3391224687271,
            239.71017904325242,
            155.48201699713746,
            295.7075973894115,
            454.03594578606766,
            208.3061219065192,
            265.65601773266013,
            341.81572004488504,
            192.32757552273844,
            439.83479382327613,
            158.7989601396806,
            275.8540659397836,
            168.34807993452637,
            359.8551985820595,
            224.23958604232718,
            269.51887539376605,
            224.97374915568344,
            547.2866960692697
           ]
          }
         ],
         "layout": {
          "title": {
           "text": "Infrastructure Spending Over Time 2017"
          }
         }
        }
       ],
       "layout": {
        "template": {
         "data": {
          "bar": [
           {
            "error_x": {
             "color": "#2a3f5f"
            },
            "error_y": {
             "color": "#2a3f5f"
            },
            "marker": {
             "line": {
              "color": "#E5ECF6",
              "width": 0.5
             }
            },
            "type": "bar"
           }
          ],
          "barpolar": [
           {
            "marker": {
             "line": {
              "color": "#E5ECF6",
              "width": 0.5
             }
            },
            "type": "barpolar"
           }
          ],
          "carpet": [
           {
            "aaxis": {
             "endlinecolor": "#2a3f5f",
             "gridcolor": "white",
             "linecolor": "white",
             "minorgridcolor": "white",
             "startlinecolor": "#2a3f5f"
            },
            "baxis": {
             "endlinecolor": "#2a3f5f",
             "gridcolor": "white",
             "linecolor": "white",
             "minorgridcolor": "white",
             "startlinecolor": "#2a3f5f"
            },
            "type": "carpet"
           }
          ],
          "choropleth": [
           {
            "colorbar": {
             "outlinewidth": 0,
             "ticks": ""
            },
            "type": "choropleth"
           }
          ],
          "contour": [
           {
            "colorbar": {
             "outlinewidth": 0,
             "ticks": ""
            },
            "colorscale": [
             [
              0,
              "#0d0887"
             ],
             [
              0.1111111111111111,
              "#46039f"
             ],
             [
              0.2222222222222222,
              "#7201a8"
             ],
             [
              0.3333333333333333,
              "#9c179e"
             ],
             [
              0.4444444444444444,
              "#bd3786"
             ],
             [
              0.5555555555555556,
              "#d8576b"
             ],
             [
              0.6666666666666666,
              "#ed7953"
             ],
             [
              0.7777777777777778,
              "#fb9f3a"
             ],
             [
              0.8888888888888888,
              "#fdca26"
             ],
             [
              1,
              "#f0f921"
             ]
            ],
            "type": "contour"
           }
          ],
          "contourcarpet": [
           {
            "colorbar": {
             "outlinewidth": 0,
             "ticks": ""
            },
            "type": "contourcarpet"
           }
          ],
          "heatmap": [
           {
            "colorbar": {
             "outlinewidth": 0,
             "ticks": ""
            },
            "colorscale": [
             [
              0,
              "#0d0887"
             ],
             [
              0.1111111111111111,
              "#46039f"
             ],
             [
              0.2222222222222222,
              "#7201a8"
             ],
             [
              0.3333333333333333,
              "#9c179e"
             ],
             [
              0.4444444444444444,
              "#bd3786"
             ],
             [
              0.5555555555555556,
              "#d8576b"
             ],
             [
              0.6666666666666666,
              "#ed7953"
             ],
             [
              0.7777777777777778,
              "#fb9f3a"
             ],
             [
              0.8888888888888888,
              "#fdca26"
             ],
             [
              1,
              "#f0f921"
             ]
            ],
            "type": "heatmap"
           }
          ],
          "heatmapgl": [
           {
            "colorbar": {
             "outlinewidth": 0,
             "ticks": ""
            },
            "colorscale": [
             [
              0,
              "#0d0887"
             ],
             [
              0.1111111111111111,
              "#46039f"
             ],
             [
              0.2222222222222222,
              "#7201a8"
             ],
             [
              0.3333333333333333,
              "#9c179e"
             ],
             [
              0.4444444444444444,
              "#bd3786"
             ],
             [
              0.5555555555555556,
              "#d8576b"
             ],
             [
              0.6666666666666666,
              "#ed7953"
             ],
             [
              0.7777777777777778,
              "#fb9f3a"
             ],
             [
              0.8888888888888888,
              "#fdca26"
             ],
             [
              1,
              "#f0f921"
             ]
            ],
            "type": "heatmapgl"
           }
          ],
          "histogram": [
           {
            "marker": {
             "colorbar": {
              "outlinewidth": 0,
              "ticks": ""
             }
            },
            "type": "histogram"
           }
          ],
          "histogram2d": [
           {
            "colorbar": {
             "outlinewidth": 0,
             "ticks": ""
            },
            "colorscale": [
             [
              0,
              "#0d0887"
             ],
             [
              0.1111111111111111,
              "#46039f"
             ],
             [
              0.2222222222222222,
              "#7201a8"
             ],
             [
              0.3333333333333333,
              "#9c179e"
             ],
             [
              0.4444444444444444,
              "#bd3786"
             ],
             [
              0.5555555555555556,
              "#d8576b"
             ],
             [
              0.6666666666666666,
              "#ed7953"
             ],
             [
              0.7777777777777778,
              "#fb9f3a"
             ],
             [
              0.8888888888888888,
              "#fdca26"
             ],
             [
              1,
              "#f0f921"
             ]
            ],
            "type": "histogram2d"
           }
          ],
          "histogram2dcontour": [
           {
            "colorbar": {
             "outlinewidth": 0,
             "ticks": ""
            },
            "colorscale": [
             [
              0,
              "#0d0887"
             ],
             [
              0.1111111111111111,
              "#46039f"
             ],
             [
              0.2222222222222222,
              "#7201a8"
             ],
             [
              0.3333333333333333,
              "#9c179e"
             ],
             [
              0.4444444444444444,
              "#bd3786"
             ],
             [
              0.5555555555555556,
              "#d8576b"
             ],
             [
              0.6666666666666666,
              "#ed7953"
             ],
             [
              0.7777777777777778,
              "#fb9f3a"
             ],
             [
              0.8888888888888888,
              "#fdca26"
             ],
             [
              1,
              "#f0f921"
             ]
            ],
            "type": "histogram2dcontour"
           }
          ],
          "mesh3d": [
           {
            "colorbar": {
             "outlinewidth": 0,
             "ticks": ""
            },
            "type": "mesh3d"
           }
          ],
          "parcoords": [
           {
            "line": {
             "colorbar": {
              "outlinewidth": 0,
              "ticks": ""
             }
            },
            "type": "parcoords"
           }
          ],
          "pie": [
           {
            "automargin": true,
            "type": "pie"
           }
          ],
          "scatter": [
           {
            "marker": {
             "colorbar": {
              "outlinewidth": 0,
              "ticks": ""
             }
            },
            "type": "scatter"
           }
          ],
          "scatter3d": [
           {
            "line": {
             "colorbar": {
              "outlinewidth": 0,
              "ticks": ""
             }
            },
            "marker": {
             "colorbar": {
              "outlinewidth": 0,
              "ticks": ""
             }
            },
            "type": "scatter3d"
           }
          ],
          "scattercarpet": [
           {
            "marker": {
             "colorbar": {
              "outlinewidth": 0,
              "ticks": ""
             }
            },
            "type": "scattercarpet"
           }
          ],
          "scattergeo": [
           {
            "marker": {
             "colorbar": {
              "outlinewidth": 0,
              "ticks": ""
             }
            },
            "type": "scattergeo"
           }
          ],
          "scattergl": [
           {
            "marker": {
             "colorbar": {
              "outlinewidth": 0,
              "ticks": ""
             }
            },
            "type": "scattergl"
           }
          ],
          "scattermapbox": [
           {
            "marker": {
             "colorbar": {
              "outlinewidth": 0,
              "ticks": ""
             }
            },
            "type": "scattermapbox"
           }
          ],
          "scatterpolar": [
           {
            "marker": {
             "colorbar": {
              "outlinewidth": 0,
              "ticks": ""
             }
            },
            "type": "scatterpolar"
           }
          ],
          "scatterpolargl": [
           {
            "marker": {
             "colorbar": {
              "outlinewidth": 0,
              "ticks": ""
             }
            },
            "type": "scatterpolargl"
           }
          ],
          "scatterternary": [
           {
            "marker": {
             "colorbar": {
              "outlinewidth": 0,
              "ticks": ""
             }
            },
            "type": "scatterternary"
           }
          ],
          "surface": [
           {
            "colorbar": {
             "outlinewidth": 0,
             "ticks": ""
            },
            "colorscale": [
             [
              0,
              "#0d0887"
             ],
             [
              0.1111111111111111,
              "#46039f"
             ],
             [
              0.2222222222222222,
              "#7201a8"
             ],
             [
              0.3333333333333333,
              "#9c179e"
             ],
             [
              0.4444444444444444,
              "#bd3786"
             ],
             [
              0.5555555555555556,
              "#d8576b"
             ],
             [
              0.6666666666666666,
              "#ed7953"
             ],
             [
              0.7777777777777778,
              "#fb9f3a"
             ],
             [
              0.8888888888888888,
              "#fdca26"
             ],
             [
              1,
              "#f0f921"
             ]
            ],
            "type": "surface"
           }
          ],
          "table": [
           {
            "cells": {
             "fill": {
              "color": "#EBF0F8"
             },
             "line": {
              "color": "white"
             }
            },
            "header": {
             "fill": {
              "color": "#C8D4E3"
             },
             "line": {
              "color": "white"
             }
            },
            "type": "table"
           }
          ]
         },
         "layout": {
          "annotationdefaults": {
           "arrowcolor": "#2a3f5f",
           "arrowhead": 0,
           "arrowwidth": 1
          },
          "coloraxis": {
           "colorbar": {
            "outlinewidth": 0,
            "ticks": ""
           }
          },
          "colorscale": {
           "diverging": [
            [
             0,
             "#8e0152"
            ],
            [
             0.1,
             "#c51b7d"
            ],
            [
             0.2,
             "#de77ae"
            ],
            [
             0.3,
             "#f1b6da"
            ],
            [
             0.4,
             "#fde0ef"
            ],
            [
             0.5,
             "#f7f7f7"
            ],
            [
             0.6,
             "#e6f5d0"
            ],
            [
             0.7,
             "#b8e186"
            ],
            [
             0.8,
             "#7fbc41"
            ],
            [
             0.9,
             "#4d9221"
            ],
            [
             1,
             "#276419"
            ]
           ],
           "sequential": [
            [
             0,
             "#0d0887"
            ],
            [
             0.1111111111111111,
             "#46039f"
            ],
            [
             0.2222222222222222,
             "#7201a8"
            ],
            [
             0.3333333333333333,
             "#9c179e"
            ],
            [
             0.4444444444444444,
             "#bd3786"
            ],
            [
             0.5555555555555556,
             "#d8576b"
            ],
            [
             0.6666666666666666,
             "#ed7953"
            ],
            [
             0.7777777777777778,
             "#fb9f3a"
            ],
            [
             0.8888888888888888,
             "#fdca26"
            ],
            [
             1,
             "#f0f921"
            ]
           ],
           "sequentialminus": [
            [
             0,
             "#0d0887"
            ],
            [
             0.1111111111111111,
             "#46039f"
            ],
            [
             0.2222222222222222,
             "#7201a8"
            ],
            [
             0.3333333333333333,
             "#9c179e"
            ],
            [
             0.4444444444444444,
             "#bd3786"
            ],
            [
             0.5555555555555556,
             "#d8576b"
            ],
            [
             0.6666666666666666,
             "#ed7953"
            ],
            [
             0.7777777777777778,
             "#fb9f3a"
            ],
            [
             0.8888888888888888,
             "#fdca26"
            ],
            [
             1,
             "#f0f921"
            ]
           ]
          },
          "colorway": [
           "#636efa",
           "#EF553B",
           "#00cc96",
           "#ab63fa",
           "#FFA15A",
           "#19d3f3",
           "#FF6692",
           "#B6E880",
           "#FF97FF",
           "#FECB52"
          ],
          "font": {
           "color": "#2a3f5f"
          },
          "geo": {
           "bgcolor": "white",
           "lakecolor": "white",
           "landcolor": "#E5ECF6",
           "showlakes": true,
           "showland": true,
           "subunitcolor": "white"
          },
          "hoverlabel": {
           "align": "left"
          },
          "hovermode": "closest",
          "mapbox": {
           "style": "light"
          },
          "paper_bgcolor": "white",
          "plot_bgcolor": "#E5ECF6",
          "polar": {
           "angularaxis": {
            "gridcolor": "white",
            "linecolor": "white",
            "ticks": ""
           },
           "bgcolor": "#E5ECF6",
           "radialaxis": {
            "gridcolor": "white",
            "linecolor": "white",
            "ticks": ""
           }
          },
          "scene": {
           "xaxis": {
            "backgroundcolor": "#E5ECF6",
            "gridcolor": "white",
            "gridwidth": 2,
            "linecolor": "white",
            "showbackground": true,
            "ticks": "",
            "zerolinecolor": "white"
           },
           "yaxis": {
            "backgroundcolor": "#E5ECF6",
            "gridcolor": "white",
            "gridwidth": 2,
            "linecolor": "white",
            "showbackground": true,
            "ticks": "",
            "zerolinecolor": "white"
           },
           "zaxis": {
            "backgroundcolor": "#E5ECF6",
            "gridcolor": "white",
            "gridwidth": 2,
            "linecolor": "white",
            "showbackground": true,
            "ticks": "",
            "zerolinecolor": "white"
           }
          },
          "shapedefaults": {
           "line": {
            "color": "#2a3f5f"
           }
          },
          "ternary": {
           "aaxis": {
            "gridcolor": "white",
            "linecolor": "white",
            "ticks": ""
           },
           "baxis": {
            "gridcolor": "white",
            "linecolor": "white",
            "ticks": ""
           },
           "bgcolor": "#E5ECF6",
           "caxis": {
            "gridcolor": "white",
            "linecolor": "white",
            "ticks": ""
           }
          },
          "title": {
           "x": 0.05
          },
          "xaxis": {
           "automargin": true,
           "gridcolor": "white",
           "linecolor": "white",
           "ticks": "",
           "title": {
            "standoff": 15
           },
           "zerolinecolor": "white",
           "zerolinewidth": 2
          },
          "yaxis": {
           "automargin": true,
           "gridcolor": "white",
           "linecolor": "white",
           "ticks": "",
           "title": {
            "standoff": 15
           },
           "zerolinecolor": "white",
           "zerolinewidth": 2
          }
         }
        },
        "title": {
         "text": "Infrastructure Spending Over Time 1992"
        },
        "updatemenus": [
         {
          "buttons": [
           {
            "args": [
             null
            ],
            "label": "Play",
            "method": "animate"
           }
          ],
          "type": "buttons"
         }
        ]
       }
      },
      "text/html": "<div>\n        \n        \n            <div id=\"bfb617b4-46e5-46f8-a9d8-9965a53eb9ea\" class=\"plotly-graph-div\" style=\"height:525px; width:100%;\"></div>\n            <script type=\"text/javascript\">\n                require([\"plotly\"], function(Plotly) {\n                    window.PLOTLYENV=window.PLOTLYENV || {};\n                    \n                if (document.getElementById(\"bfb617b4-46e5-46f8-a9d8-9965a53eb9ea\")) {\n                    Plotly.newPlot(\n                        'bfb617b4-46e5-46f8-a9d8-9965a53eb9ea',\n                        [{\"labels\": [\"Alabama\", \"Arizona\", \"Arkansas\", \"California\", \"Colorado\", \"Connecticut\", \"Delaware\", \"Florida\", \"Georgia\", \"Idaho\", \"Illinois\", \"Indiana\", \"Iowa\", \"Kansas\", \"Kentucky\", \"Louisiana\", \"Maine\", \"Maryland\", \"Massachusetts\", \"Michigan\", \"Minnesota\", \"Mississippi\", \"Missouri\", \"Montana\", \"Nebraska\", \"Nevada\", \"Ohio\", \"Oklahoma\", \"Oregon\", \"Pennsylvania\", \"Tennessee\", \"Texas\", \"Utah\", \"Vermont\", \"Virginia\", \"Washington\", \"Wisconsin\", \"Wyoming\"], \"parents\": [\"\", \"\", \"\", \"\", \"\", \"\", \"\", \"\", \"\", \"\", \"\", \"\", \"\", \"\", \"\", \"\", \"\", \"\", \"\", \"\", \"\", \"\", \"\", \"\", \"\", \"\", \"\", \"\", \"\", \"\", \"\", \"\", \"\", \"\", \"\", \"\", \"\", \"\"], \"type\": \"treemap\", \"values\": [320.88371159255416, 345.00390837820277, 342.02944073300256, 202.18914934356613, 336.60366561223356, 448.9958311412193, 765.5942552285129, 384.7177017018055, 390.32534188311104, 464.01654023947714, 390.68268461634125, 296.7714935022516, 543.5956027293944, 445.2712979435813, 432.2239786516621, 345.5327032166204, 246.58587349524336, 260.7694574960556, 386.9934198429826, 223.7828635834279, 609.351710152045, 348.6811128525746, 285.28659607069045, 606.9213896278859, 559.6365715055985, 621.1668497791378, 307.2876225890655, 295.96520039173896, 356.104069559042, 213.84523044710048, 387.24239873203004, 344.2357003455827, 346.56914254091964, 349.04185997561893, 296.1422082413292, 343.15377024878916, 457.1495309548987, 983.9414357560341]}],\n                        {\"template\": {\"data\": {\"bar\": [{\"error_x\": {\"color\": \"#2a3f5f\"}, \"error_y\": {\"color\": \"#2a3f5f\"}, \"marker\": {\"line\": {\"color\": \"#E5ECF6\", \"width\": 0.5}}, \"type\": \"bar\"}], \"barpolar\": [{\"marker\": {\"line\": {\"color\": \"#E5ECF6\", \"width\": 0.5}}, \"type\": \"barpolar\"}], \"carpet\": [{\"aaxis\": {\"endlinecolor\": \"#2a3f5f\", \"gridcolor\": \"white\", \"linecolor\": \"white\", \"minorgridcolor\": \"white\", \"startlinecolor\": \"#2a3f5f\"}, \"baxis\": {\"endlinecolor\": \"#2a3f5f\", \"gridcolor\": \"white\", \"linecolor\": \"white\", \"minorgridcolor\": \"white\", \"startlinecolor\": \"#2a3f5f\"}, \"type\": \"carpet\"}], \"choropleth\": [{\"colorbar\": {\"outlinewidth\": 0, \"ticks\": \"\"}, \"type\": \"choropleth\"}], \"contour\": [{\"colorbar\": {\"outlinewidth\": 0, \"ticks\": \"\"}, \"colorscale\": [[0.0, \"#0d0887\"], [0.1111111111111111, \"#46039f\"], [0.2222222222222222, \"#7201a8\"], [0.3333333333333333, \"#9c179e\"], [0.4444444444444444, \"#bd3786\"], [0.5555555555555556, \"#d8576b\"], [0.6666666666666666, \"#ed7953\"], [0.7777777777777778, \"#fb9f3a\"], [0.8888888888888888, \"#fdca26\"], [1.0, \"#f0f921\"]], \"type\": \"contour\"}], \"contourcarpet\": [{\"colorbar\": {\"outlinewidth\": 0, \"ticks\": \"\"}, \"type\": \"contourcarpet\"}], \"heatmap\": [{\"colorbar\": {\"outlinewidth\": 0, \"ticks\": \"\"}, \"colorscale\": [[0.0, \"#0d0887\"], [0.1111111111111111, \"#46039f\"], [0.2222222222222222, \"#7201a8\"], [0.3333333333333333, \"#9c179e\"], [0.4444444444444444, \"#bd3786\"], [0.5555555555555556, \"#d8576b\"], [0.6666666666666666, \"#ed7953\"], [0.7777777777777778, \"#fb9f3a\"], [0.8888888888888888, \"#fdca26\"], [1.0, \"#f0f921\"]], \"type\": \"heatmap\"}], \"heatmapgl\": [{\"colorbar\": {\"outlinewidth\": 0, \"ticks\": \"\"}, \"colorscale\": [[0.0, \"#0d0887\"], [0.1111111111111111, \"#46039f\"], [0.2222222222222222, \"#7201a8\"], [0.3333333333333333, \"#9c179e\"], [0.4444444444444444, \"#bd3786\"], [0.5555555555555556, \"#d8576b\"], [0.6666666666666666, \"#ed7953\"], [0.7777777777777778, \"#fb9f3a\"], [0.8888888888888888, \"#fdca26\"], [1.0, \"#f0f921\"]], \"type\": \"heatmapgl\"}], \"histogram\": [{\"marker\": {\"colorbar\": {\"outlinewidth\": 0, \"ticks\": \"\"}}, \"type\": \"histogram\"}], \"histogram2d\": [{\"colorbar\": {\"outlinewidth\": 0, \"ticks\": \"\"}, \"colorscale\": [[0.0, \"#0d0887\"], [0.1111111111111111, \"#46039f\"], [0.2222222222222222, \"#7201a8\"], [0.3333333333333333, \"#9c179e\"], [0.4444444444444444, \"#bd3786\"], [0.5555555555555556, \"#d8576b\"], [0.6666666666666666, \"#ed7953\"], [0.7777777777777778, \"#fb9f3a\"], [0.8888888888888888, \"#fdca26\"], [1.0, \"#f0f921\"]], \"type\": \"histogram2d\"}], \"histogram2dcontour\": [{\"colorbar\": {\"outlinewidth\": 0, \"ticks\": \"\"}, \"colorscale\": [[0.0, \"#0d0887\"], [0.1111111111111111, \"#46039f\"], [0.2222222222222222, \"#7201a8\"], [0.3333333333333333, \"#9c179e\"], [0.4444444444444444, \"#bd3786\"], [0.5555555555555556, \"#d8576b\"], [0.6666666666666666, \"#ed7953\"], [0.7777777777777778, \"#fb9f3a\"], [0.8888888888888888, \"#fdca26\"], [1.0, \"#f0f921\"]], \"type\": \"histogram2dcontour\"}], \"mesh3d\": [{\"colorbar\": {\"outlinewidth\": 0, \"ticks\": \"\"}, \"type\": \"mesh3d\"}], \"parcoords\": [{\"line\": {\"colorbar\": {\"outlinewidth\": 0, \"ticks\": \"\"}}, \"type\": \"parcoords\"}], \"pie\": [{\"automargin\": true, \"type\": \"pie\"}], \"scatter\": [{\"marker\": {\"colorbar\": {\"outlinewidth\": 0, \"ticks\": \"\"}}, \"type\": \"scatter\"}], \"scatter3d\": [{\"line\": {\"colorbar\": {\"outlinewidth\": 0, \"ticks\": \"\"}}, \"marker\": {\"colorbar\": {\"outlinewidth\": 0, \"ticks\": \"\"}}, \"type\": \"scatter3d\"}], \"scattercarpet\": [{\"marker\": {\"colorbar\": {\"outlinewidth\": 0, \"ticks\": \"\"}}, \"type\": \"scattercarpet\"}], \"scattergeo\": [{\"marker\": {\"colorbar\": {\"outlinewidth\": 0, \"ticks\": \"\"}}, \"type\": \"scattergeo\"}], \"scattergl\": [{\"marker\": {\"colorbar\": {\"outlinewidth\": 0, \"ticks\": \"\"}}, \"type\": \"scattergl\"}], \"scattermapbox\": [{\"marker\": {\"colorbar\": {\"outlinewidth\": 0, \"ticks\": \"\"}}, \"type\": \"scattermapbox\"}], \"scatterpolar\": [{\"marker\": {\"colorbar\": {\"outlinewidth\": 0, \"ticks\": \"\"}}, \"type\": \"scatterpolar\"}], \"scatterpolargl\": [{\"marker\": {\"colorbar\": {\"outlinewidth\": 0, \"ticks\": \"\"}}, \"type\": \"scatterpolargl\"}], \"scatterternary\": [{\"marker\": {\"colorbar\": {\"outlinewidth\": 0, \"ticks\": \"\"}}, \"type\": \"scatterternary\"}], \"surface\": [{\"colorbar\": {\"outlinewidth\": 0, \"ticks\": \"\"}, \"colorscale\": [[0.0, \"#0d0887\"], [0.1111111111111111, \"#46039f\"], [0.2222222222222222, \"#7201a8\"], [0.3333333333333333, \"#9c179e\"], [0.4444444444444444, \"#bd3786\"], [0.5555555555555556, \"#d8576b\"], [0.6666666666666666, \"#ed7953\"], [0.7777777777777778, \"#fb9f3a\"], [0.8888888888888888, \"#fdca26\"], [1.0, \"#f0f921\"]], \"type\": \"surface\"}], \"table\": [{\"cells\": {\"fill\": {\"color\": \"#EBF0F8\"}, \"line\": {\"color\": \"white\"}}, \"header\": {\"fill\": {\"color\": \"#C8D4E3\"}, \"line\": {\"color\": \"white\"}}, \"type\": \"table\"}]}, \"layout\": {\"annotationdefaults\": {\"arrowcolor\": \"#2a3f5f\", \"arrowhead\": 0, \"arrowwidth\": 1}, \"coloraxis\": {\"colorbar\": {\"outlinewidth\": 0, \"ticks\": \"\"}}, \"colorscale\": {\"diverging\": [[0, \"#8e0152\"], [0.1, \"#c51b7d\"], [0.2, \"#de77ae\"], [0.3, \"#f1b6da\"], [0.4, \"#fde0ef\"], [0.5, \"#f7f7f7\"], [0.6, \"#e6f5d0\"], [0.7, \"#b8e186\"], [0.8, \"#7fbc41\"], [0.9, \"#4d9221\"], [1, \"#276419\"]], \"sequential\": [[0.0, \"#0d0887\"], [0.1111111111111111, \"#46039f\"], [0.2222222222222222, \"#7201a8\"], [0.3333333333333333, \"#9c179e\"], [0.4444444444444444, \"#bd3786\"], [0.5555555555555556, \"#d8576b\"], [0.6666666666666666, \"#ed7953\"], [0.7777777777777778, \"#fb9f3a\"], [0.8888888888888888, \"#fdca26\"], [1.0, \"#f0f921\"]], \"sequentialminus\": [[0.0, \"#0d0887\"], [0.1111111111111111, \"#46039f\"], [0.2222222222222222, \"#7201a8\"], [0.3333333333333333, \"#9c179e\"], [0.4444444444444444, \"#bd3786\"], [0.5555555555555556, \"#d8576b\"], [0.6666666666666666, \"#ed7953\"], [0.7777777777777778, \"#fb9f3a\"], [0.8888888888888888, \"#fdca26\"], [1.0, \"#f0f921\"]]}, \"colorway\": [\"#636efa\", \"#EF553B\", \"#00cc96\", \"#ab63fa\", \"#FFA15A\", \"#19d3f3\", \"#FF6692\", \"#B6E880\", \"#FF97FF\", \"#FECB52\"], \"font\": {\"color\": \"#2a3f5f\"}, \"geo\": {\"bgcolor\": \"white\", \"lakecolor\": \"white\", \"landcolor\": \"#E5ECF6\", \"showlakes\": true, \"showland\": true, \"subunitcolor\": \"white\"}, \"hoverlabel\": {\"align\": \"left\"}, \"hovermode\": \"closest\", \"mapbox\": {\"style\": \"light\"}, \"paper_bgcolor\": \"white\", \"plot_bgcolor\": \"#E5ECF6\", \"polar\": {\"angularaxis\": {\"gridcolor\": \"white\", \"linecolor\": \"white\", \"ticks\": \"\"}, \"bgcolor\": \"#E5ECF6\", \"radialaxis\": {\"gridcolor\": \"white\", \"linecolor\": \"white\", \"ticks\": \"\"}}, \"scene\": {\"xaxis\": {\"backgroundcolor\": \"#E5ECF6\", \"gridcolor\": \"white\", \"gridwidth\": 2, \"linecolor\": \"white\", \"showbackground\": true, \"ticks\": \"\", \"zerolinecolor\": \"white\"}, \"yaxis\": {\"backgroundcolor\": \"#E5ECF6\", \"gridcolor\": \"white\", \"gridwidth\": 2, \"linecolor\": \"white\", \"showbackground\": true, \"ticks\": \"\", \"zerolinecolor\": \"white\"}, \"zaxis\": {\"backgroundcolor\": \"#E5ECF6\", \"gridcolor\": \"white\", \"gridwidth\": 2, \"linecolor\": \"white\", \"showbackground\": true, \"ticks\": \"\", \"zerolinecolor\": \"white\"}}, \"shapedefaults\": {\"line\": {\"color\": \"#2a3f5f\"}}, \"ternary\": {\"aaxis\": {\"gridcolor\": \"white\", \"linecolor\": \"white\", \"ticks\": \"\"}, \"baxis\": {\"gridcolor\": \"white\", \"linecolor\": \"white\", \"ticks\": \"\"}, \"bgcolor\": \"#E5ECF6\", \"caxis\": {\"gridcolor\": \"white\", \"linecolor\": \"white\", \"ticks\": \"\"}}, \"title\": {\"x\": 0.05}, \"xaxis\": {\"automargin\": true, \"gridcolor\": \"white\", \"linecolor\": \"white\", \"ticks\": \"\", \"title\": {\"standoff\": 15}, \"zerolinecolor\": \"white\", \"zerolinewidth\": 2}, \"yaxis\": {\"automargin\": true, \"gridcolor\": \"white\", \"linecolor\": \"white\", \"ticks\": \"\", \"title\": {\"standoff\": 15}, \"zerolinecolor\": \"white\", \"zerolinewidth\": 2}}}, \"title\": {\"text\": \"Infrastructure Spending Over Time 1992\"}, \"updatemenus\": [{\"buttons\": [{\"args\": [null], \"label\": \"Play\", \"method\": \"animate\"}], \"type\": \"buttons\"}]},\n                        {\"responsive\": true}\n                    ).then(function(){\n                            Plotly.addFrames('bfb617b4-46e5-46f8-a9d8-9965a53eb9ea', [{\"data\": [{\"labels\": [\"Alabama\", \"Arizona\", \"Arkansas\", \"California\", \"Colorado\", \"Connecticut\", \"Delaware\", \"Florida\", \"Georgia\", \"Idaho\", \"Illinois\", \"Indiana\", \"Iowa\", \"Kansas\", \"Kentucky\", \"Louisiana\", \"Maine\", \"Maryland\", \"Massachusetts\", \"Michigan\", \"Minnesota\", \"Mississippi\", \"Missouri\", \"Montana\", \"Nebraska\", \"Nevada\", \"Ohio\", \"Oklahoma\", \"Oregon\", \"Pennsylvania\", \"Tennessee\", \"Texas\", \"Utah\", \"Vermont\", \"Virginia\", \"Washington\", \"Wisconsin\", \"Wyoming\"], \"parents\": [\"\", \"\", \"\", \"\", \"\", \"\", \"\", \"\", \"\", \"\", \"\", \"\", \"\", \"\", \"\", \"\", \"\", \"\", \"\", \"\", \"\", \"\", \"\", \"\", \"\", \"\", \"\", \"\", \"\", \"\", \"\", \"\", \"\", \"\", \"\", \"\", \"\", \"\"], \"values\": [320.88371159255416, 345.00390837820277, 342.02944073300256, 202.18914934356613, 336.60366561223356, 448.9958311412193, 765.5942552285129, 384.7177017018055, 390.32534188311104, 464.01654023947714, 390.68268461634125, 296.7714935022516, 543.5956027293944, 445.2712979435813, 432.2239786516621, 345.5327032166204, 246.58587349524336, 260.7694574960556, 386.9934198429826, 223.7828635834279, 609.351710152045, 348.6811128525746, 285.28659607069045, 606.9213896278859, 559.6365715055985, 621.1668497791378, 307.2876225890655, 295.96520039173896, 356.104069559042, 213.84523044710048, 387.24239873203004, 344.2357003455827, 346.56914254091964, 349.04185997561893, 296.1422082413292, 343.15377024878916, 457.1495309548987, 983.9414357560341], \"type\": \"treemap\"}], \"layout\": {\"title\": {\"text\": \"Infrastructure Spending Over Time 1992\"}}}, {\"data\": [{\"labels\": [\"Alabama\", \"Arizona\", \"Arkansas\", \"California\", \"Colorado\", \"Connecticut\", \"Delaware\", \"Florida\", \"Georgia\", \"Idaho\", \"Illinois\", \"Indiana\", \"Iowa\", \"Kansas\", \"Kentucky\", \"Louisiana\", \"Maine\", \"Maryland\", \"Massachusetts\", \"Michigan\", \"Minnesota\", \"Mississippi\", \"Missouri\", \"Montana\", \"Nebraska\", \"Nevada\", \"Ohio\", \"Oklahoma\", \"Oregon\", \"Pennsylvania\", \"Tennessee\", \"Texas\", \"Utah\", \"Vermont\", \"Virginia\", \"Washington\", \"Wisconsin\", \"Wyoming\"], \"parents\": [\"\", \"\", \"\", \"\", \"\", \"\", \"\", \"\", \"\", \"\", \"\", \"\", \"\", \"\", \"\", \"\", \"\", \"\", \"\", \"\", \"\", \"\", \"\", \"\", \"\", \"\", \"\", \"\", \"\", \"\", \"\", \"\", \"\", \"\", \"\", \"\", \"\", \"\"], \"values\": [329.4258157541149, 347.46944325497884, 351.35160782310663, 208.44019149324717, 340.14138062346314, 467.3258310222854, 785.5934808249044, 394.0044013264795, 398.002086424144, 467.3539144427373, 403.15448153434295, 305.7491584041642, 562.5995160475443, 459.15124204890475, 445.2433464968905, 358.1796740019077, 255.92365391324572, 269.00109741944567, 401.29771261598125, 231.28969361669976, 626.6741181265756, 359.1274614182717, 294.19444239203915, 618.0757635650976, 578.4905737621026, 622.8284802821627, 317.7592287892426, 305.4460301242339, 362.9486338725783, 221.62948190203932, 397.0473090446758, 351.10806587228683, 349.95386443339606, 360.535815081428, 304.09873785634346, 349.47969626335623, 470.6576322201689, 1011.1847140819516], \"type\": \"treemap\"}], \"layout\": {\"title\": {\"text\": \"Infrastructure Spending Over Time 1993\"}}}, {\"data\": [{\"labels\": [\"Alabama\", \"Arizona\", \"Arkansas\", \"California\", \"Colorado\", \"Connecticut\", \"Delaware\", \"Florida\", \"Georgia\", \"Idaho\", \"Illinois\", \"Indiana\", \"Iowa\", \"Kansas\", \"Kentucky\", \"Louisiana\", \"Maine\", \"Maryland\", \"Massachusetts\", \"Michigan\", \"Minnesota\", \"Mississippi\", \"Missouri\", \"Montana\", \"Nebraska\", \"Nevada\", \"Ohio\", \"Oklahoma\", \"Oregon\", \"Pennsylvania\", \"Tennessee\", \"Texas\", \"Utah\", \"Vermont\", \"Virginia\", \"Washington\", \"Wisconsin\", \"Wyoming\"], \"parents\": [\"\", \"\", \"\", \"\", \"\", \"\", \"\", \"\", \"\", \"\", \"\", \"\", \"\", \"\", \"\", \"\", \"\", \"\", \"\", \"\", \"\", \"\", \"\", \"\", \"\", \"\", \"\", \"\", \"\", \"\", \"\", \"\", \"\", \"\", \"\", \"\", \"\", \"\"], \"values\": [327.56897352092443, 357.54459066424823, 380.41218393009075, 213.14943469205832, 352.900865100673, 456.6337223782305, 798.4785775589484, 422.4483121729737, 429.41157268766233, 490.8904680838323, 402.96650923601266, 312.19992390733404, 595.2137927817059, 543.8609670711894, 452.33134940096227, 369.8425635667015, 290.7100098813351, 275.7249101428147, 471.09918306873817, 231.1257124929352, 633.637594863632, 407.7557303497344, 334.7220312936098, 642.5315496249369, 609.098942925631, 669.8180704592457, 315.6843332162469, 331.89048214190547, 370.3904776651025, 228.93848434861567, 410.91427956062887, 364.6244238634959, 363.05528906423206, 350.81879426498534, 344.6467682591298, 417.582085948817, 472.8572482722023, 1028.1800152426829], \"type\": \"treemap\"}], \"layout\": {\"title\": {\"text\": \"Infrastructure Spending Over Time 1994\"}}}, {\"data\": [{\"labels\": [\"Alabama\", \"Arizona\", \"Arkansas\", \"California\", \"Colorado\", \"Connecticut\", \"Delaware\", \"Florida\", \"Georgia\", \"Idaho\", \"Illinois\", \"Indiana\", \"Iowa\", \"Kansas\", \"Kentucky\", \"Louisiana\", \"Maine\", \"Maryland\", \"Massachusetts\", \"Michigan\", \"Minnesota\", \"Mississippi\", \"Missouri\", \"Montana\", \"Nebraska\", \"Nevada\", \"Ohio\", \"Oklahoma\", \"Oregon\", \"Pennsylvania\", \"Tennessee\", \"Texas\", \"Utah\", \"Vermont\", \"Virginia\", \"Washington\", \"Wisconsin\", \"Wyoming\"], \"parents\": [\"\", \"\", \"\", \"\", \"\", \"\", \"\", \"\", \"\", \"\", \"\", \"\", \"\", \"\", \"\", \"\", \"\", \"\", \"\", \"\", \"\", \"\", \"\", \"\", \"\", \"\", \"\", \"\", \"\", \"\", \"\", \"\", \"\", \"\", \"\", \"\", \"\", \"\"], \"values\": [294.495008012469, 332.8195076374978, 371.7883119412319, 196.95991477613256, 332.1780998223411, 400.6317350387852, 732.7309558449875, 410.16071238864345, 419.11526377129815, 468.4575107296137, 363.35764562448173, 288.01849643436714, 569.1002020514915, 575.9549305705347, 415.12478574659787, 345.3330862587564, 297.2375181625261, 255.757666238691, 494.20973931661644, 207.90971225185098, 579.4352120153427, 416.3598172728584, 342.4224497193222, 605.3893856459596, 578.6427111529151, 653.2835401241466, 282.56008049128803, 325.67315674831815, 341.70364303288227, 214.1302705404333, 384.6810481938377, 342.63842268181304, 342.3365544063206, 307.4308499777807, 351.6679512442224, 443.20039830426083, 428.77716271974873, 950.0090919161371], \"type\": \"treemap\"}], \"layout\": {\"title\": {\"text\": \"Infrastructure Spending Over Time 1995\"}}}, {\"data\": [{\"labels\": [\"Alabama\", \"Arizona\", \"Arkansas\", \"California\", \"Colorado\", \"Connecticut\", \"Delaware\", \"Florida\", \"Georgia\", \"Idaho\", \"Illinois\", \"Indiana\", \"Iowa\", \"Kansas\", \"Kentucky\", \"Louisiana\", \"Maine\", \"Maryland\", \"Massachusetts\", \"Michigan\", \"Minnesota\", \"Mississippi\", \"Missouri\", \"Montana\", \"Nebraska\", \"Nevada\", \"Ohio\", \"Oklahoma\", \"Oregon\", \"Pennsylvania\", \"Tennessee\", \"Texas\", \"Utah\", \"Vermont\", \"Virginia\", \"Washington\", \"Wisconsin\", \"Wyoming\"], \"parents\": [\"\", \"\", \"\", \"\", \"\", \"\", \"\", \"\", \"\", \"\", \"\", \"\", \"\", \"\", \"\", \"\", \"\", \"\", \"\", \"\", \"\", \"\", \"\", \"\", \"\", \"\", \"\", \"\", \"\", \"\", \"\", \"\", \"\", \"\", \"\", \"\", \"\", \"\"], \"values\": [276.69452030496905, 327.55259787902827, 381.1501490304042, 189.89249776964598, 328.6258404769723, 364.70494608252756, 705.1685485978352, 416.52728016413215, 428.1248870567938, 471.23109591094084, 342.69170684555166, 278.37371214764653, 570.9768005524363, 634.0590224403506, 399.4392240658523, 338.6078013479879, 316.09200957600706, 248.7112285951235, 539.3719025213327, 195.31687665003554, 554.1778199776536, 444.57577239222485, 365.2075080553096, 601.6019966782865, 576.4670680851657, 665.8352521428446, 264.2125275050612, 334.11163673527204, 330.3825529633466, 209.92376811844616, 377.85363378636157, 337.784011987642, 338.57187997743114, 280.5004502414932, 374.1805367376537, 488.16262468550144, 406.93853757797905, 922.6616120062072], \"type\": \"treemap\"}], \"layout\": {\"title\": {\"text\": \"Infrastructure Spending Over Time 1996\"}}}, {\"data\": [{\"labels\": [\"Alabama\", \"Arizona\", \"Arkansas\", \"California\", \"Colorado\", \"Connecticut\", \"Delaware\", \"Florida\", \"Georgia\", \"Idaho\", \"Illinois\", \"Indiana\", \"Iowa\", \"Kansas\", \"Kentucky\", \"Louisiana\", \"Maine\", \"Maryland\", \"Massachusetts\", \"Michigan\", \"Minnesota\", \"Mississippi\", \"Missouri\", \"Montana\", \"Nebraska\", \"Nevada\", \"Ohio\", \"Oklahoma\", \"Oregon\", \"Pennsylvania\", \"Tennessee\", \"Texas\", \"Utah\", \"Vermont\", \"Virginia\", \"Washington\", \"Wisconsin\", \"Wyoming\"], \"parents\": [\"\", \"\", \"\", \"\", \"\", \"\", \"\", \"\", \"\", \"\", \"\", \"\", \"\", \"\", \"\", \"\", \"\", \"\", \"\", \"\", \"\", \"\", \"\", \"\", \"\", \"\", \"\", \"\", \"\", \"\", \"\", \"\", \"\", \"\", \"\", \"\", \"\", \"\"], \"values\": [291.6395947393237, 326.38739846408566, 396.99969136377194, 199.00658358440643, 364.4058671500707, 356.17990316088594, 688.3571148697187, 421.94853354309475, 428.3305820097904, 458.1782498153866, 357.43960230142613, 275.97017899076525, 568.6772262853508, 612.6121270982086, 409.0389619163236, 334.0743992149635, 314.7400248149918, 256.8176097220569, 550.6938462353544, 193.25886903514913, 546.2386240151408, 430.990480360023, 367.86248040312825, 605.70543503743, 571.9716045849078, 642.6552938950728, 272.11046102304766, 348.69725027525004, 314.3321491317053, 232.70548127612375, 366.7038336258906, 338.45014114129333, 354.581225788553, 294.8315255705707, 376.61249765701973, 472.7663025585709, 425.77345062290453, 932.0085577806433], \"type\": \"treemap\"}], \"layout\": {\"title\": {\"text\": \"Infrastructure Spending Over Time 1997\"}}}, {\"data\": [{\"labels\": [\"Alabama\", \"Arizona\", \"Arkansas\", \"California\", \"Colorado\", \"Connecticut\", \"Delaware\", \"Florida\", \"Georgia\", \"Idaho\", \"Illinois\", \"Indiana\", \"Iowa\", \"Kansas\", \"Kentucky\", \"Louisiana\", \"Maine\", \"Maryland\", \"Massachusetts\", \"Michigan\", \"Minnesota\", \"Mississippi\", \"Missouri\", \"Montana\", \"Nebraska\", \"Nevada\", \"Ohio\", \"Oklahoma\", \"Oregon\", \"Pennsylvania\", \"Tennessee\", \"Texas\", \"Utah\", \"Vermont\", \"Virginia\", \"Washington\", \"Wisconsin\", \"Wyoming\"], \"parents\": [\"\", \"\", \"\", \"\", \"\", \"\", \"\", \"\", \"\", \"\", \"\", \"\", \"\", \"\", \"\", \"\", \"\", \"\", \"\", \"\", \"\", \"\", \"\", \"\", \"\", \"\", \"\", \"\", \"\", \"\", \"\", \"\", \"\", \"\", \"\", \"\", \"\", \"\"], \"values\": [316.06787071679696, 335.51276258083675, 426.39789898518717, 214.3161016160369, 412.44031507442617, 357.22612521134045, 690.2143089457119, 441.2272952590616, 441.7146968214064, 459.5120897082921, 383.71588399252545, 281.71528384456883, 582.8383184348266, 607.1023740396192, 431.3844104811263, 339.1918598281179, 322.9607696340199, 272.9567928091458, 579.1479958928503, 197.01939801619739, 554.2694023012388, 429.82334030570615, 382.2178027579272, 628.8268888148597, 585.4150961119286, 644.1908689897532, 288.5847632159884, 374.4279794626585, 307.91683868795616, 263.8963654470728, 366.6999283410634, 349.2167793563733, 383.26790639838293, 319.03606460778315, 391.0422765485015, 471.88067439403983, 458.80450176977797, 969.2987115791228], \"type\": \"treemap\"}], \"layout\": {\"title\": {\"text\": \"Infrastructure Spending Over Time 1998\"}}}, {\"data\": [{\"labels\": [\"Alabama\", \"Arizona\", \"Arkansas\", \"California\", \"Colorado\", \"Connecticut\", \"Delaware\", \"Florida\", \"Georgia\", \"Idaho\", \"Illinois\", \"Indiana\", \"Iowa\", \"Kansas\", \"Kentucky\", \"Louisiana\", \"Maine\", \"Maryland\", \"Massachusetts\", \"Michigan\", \"Minnesota\", \"Mississippi\", \"Missouri\", \"Montana\", \"Nebraska\", \"Nevada\", \"Ohio\", \"Oklahoma\", \"Oregon\", \"Pennsylvania\", \"Tennessee\", \"Texas\", \"Utah\", \"Vermont\", \"Virginia\", \"Washington\", \"Wisconsin\", \"Wyoming\"], \"parents\": [\"\", \"\", \"\", \"\", \"\", \"\", \"\", \"\", \"\", \"\", \"\", \"\", \"\", \"\", \"\", \"\", \"\", \"\", \"\", \"\", \"\", \"\", \"\", \"\", \"\", \"\", \"\", \"\", \"\", \"\", \"\", \"\", \"\", \"\", \"\", \"\", \"\", \"\"], \"values\": [342.478320825692, 344.8270233211087, 457.1072124695213, 230.17140290421628, 461.4515845510983, 356.2985846264097, 689.750218303523, 461.36353830300146, 454.8735015870081, 459.5861628185668, 410.99141929212254, 286.9507669739072, 595.6751433132839, 600.6261369407985, 454.18441865015495, 343.6129857148902, 329.84980527357465, 289.3143637001381, 607.8967231504109, 200.19191435327753, 559.8723737872494, 427.37299715128734, 396.45592499951533, 649.8840593172243, 597.6478186441045, 646.5850823516666, 305.69607984752844, 401.9042037567107, 300.4875527493596, 297.1204974213808, 365.7363361408289, 360.30723391937823, 414.08164760103585, 343.60662916428066, 403.76830083085605, 470.88255931134273, 492.6053900944796, 1007.2664417579576], \"type\": \"treemap\"}], \"layout\": {\"title\": {\"text\": \"Infrastructure Spending Over Time 1999\"}}}, {\"data\": [{\"labels\": [\"Alabama\", \"Arizona\", \"Arkansas\", \"California\", \"Colorado\", \"Connecticut\", \"Delaware\", \"Florida\", \"Georgia\", \"Idaho\", \"Illinois\", \"Indiana\", \"Iowa\", \"Kansas\", \"Kentucky\", \"Louisiana\", \"Maine\", \"Maryland\", \"Massachusetts\", \"Michigan\", \"Minnesota\", \"Mississippi\", \"Missouri\", \"Montana\", \"Nebraska\", \"Nevada\", \"Ohio\", \"Oklahoma\", \"Oregon\", \"Pennsylvania\", \"Tennessee\", \"Texas\", \"Utah\", \"Vermont\", \"Virginia\", \"Washington\", \"Wisconsin\", \"Wyoming\"], \"parents\": [\"\", \"\", \"\", \"\", \"\", \"\", \"\", \"\", \"\", \"\", \"\", \"\", \"\", \"\", \"\", \"\", \"\", \"\", \"\", \"\", \"\", \"\", \"\", \"\", \"\", \"\", \"\", \"\", \"\", \"\", \"\", \"\", \"\", \"\", \"\", \"\", \"\", \"\"], \"values\": [357.0299267346529, 328.29643765262324, 458.1809520538434, 238.59719570835298, 480.10559933957666, 334.2038474378601, 652.7436725319917, 449.92224652851235, 441.925744074334, 439.52271380528384, 421.3768021823105, 280.12861740556997, 584.1607583575247, 573.7123289654567, 460.14950280574, 332.87595723056387, 324.2503163486475, 294.07192648361877, 608.3175184684923, 197.7162407246457, 540.0278331115927, 405.16782856619244, 394.092328105313, 643.3573474755276, 581.0621885612258, 589.6848580377572, 313.9562194642991, 411.781325945579, 278.7639647456868, 317.53720824348534, 345.266483148977, 353.50910040865625, 419.8967075992804, 353.77564310765104, 398.89938060605846, 451.87235894284623, 507.31587408185226, 991.3979364758244], \"type\": \"treemap\"}], \"layout\": {\"title\": {\"text\": \"Infrastructure Spending Over Time 2000\"}}}, {\"data\": [{\"labels\": [\"Alabama\", \"Arizona\", \"Arkansas\", \"California\", \"Colorado\", \"Connecticut\", \"Delaware\", \"Florida\", \"Georgia\", \"Idaho\", \"Illinois\", \"Indiana\", \"Iowa\", \"Kansas\", \"Kentucky\", \"Louisiana\", \"Maine\", \"Maryland\", \"Massachusetts\", \"Michigan\", \"Minnesota\", \"Mississippi\", \"Missouri\", \"Montana\", \"Nebraska\", \"Nevada\", \"Ohio\", \"Oklahoma\", \"Oregon\", \"Pennsylvania\", \"Tennessee\", \"Texas\", \"Utah\", \"Vermont\", \"Virginia\", \"Washington\", \"Wisconsin\", \"Wyoming\"], \"parents\": [\"\", \"\", \"\", \"\", \"\", \"\", \"\", \"\", \"\", \"\", \"\", \"\", \"\", \"\", \"\", \"\", \"\", \"\", \"\", \"\", \"\", \"\", \"\", \"\", \"\", \"\", \"\", \"\", \"\", \"\", \"\", \"\", \"\", \"\", \"\", \"\", \"\", \"\"], \"values\": [385.58619618348325, 337.443208721684, 489.8518374584954, 255.078371591572, 529.1470002284391, 329.9375006372284, 649.806019612944, 466.93292631408536, 455.03028636136065, 438.32852763943197, 450.2266695333166, 284.49563951590795, 596.3931750271231, 564.4413621389094, 484.5012403727313, 336.061859699076, 329.43348795823573, 309.7670173038785, 636.8915445928917, 200.31127641345515, 543.8249930360384, 401.93565075846635, 407.86085512472476, 663.6316225284219, 591.1743910465882, 589.6643107435716, 331.7742129812906, 441.4049205387788, 268.9082875496297, 353.2307176942459, 342.7973100734525, 363.703915575989, 449.7894877425598, 380.08209426957166, 410.8527745617684, 448.3409018995536, 542.5676944090212, 1026.44863006083], \"type\": \"treemap\"}], \"layout\": {\"title\": {\"text\": \"Infrastructure Spending Over Time 2001\"}}}, {\"data\": [{\"labels\": [\"Alabama\", \"Arizona\", \"Arkansas\", \"California\", \"Colorado\", \"Connecticut\", \"Delaware\", \"Florida\", \"Georgia\", \"Idaho\", \"Illinois\", \"Indiana\", \"Iowa\", \"Kansas\", \"Kentucky\", \"Louisiana\", \"Maine\", \"Maryland\", \"Massachusetts\", \"Michigan\", \"Minnesota\", \"Mississippi\", \"Missouri\", \"Montana\", \"Nebraska\", \"Nevada\", \"Ohio\", \"Oklahoma\", \"Oregon\", \"Pennsylvania\", \"Tennessee\", \"Texas\", \"Utah\", \"Vermont\", \"Virginia\", \"Washington\", \"Wisconsin\", \"Wyoming\"], \"parents\": [\"\", \"\", \"\", \"\", \"\", \"\", \"\", \"\", \"\", \"\", \"\", \"\", \"\", \"\", \"\", \"\", \"\", \"\", \"\", \"\", \"\", \"\", \"\", \"\", \"\", \"\", \"\", \"\", \"\", \"\", \"\", \"\", \"\", \"\", \"\", \"\", \"\", \"\"], \"values\": [397.7811601510595, 330.98899143943345, 499.92220780531034, 261.0906455388664, 559.0416545853537, 309.8915243632885, 616.353394883703, 462.5626970940186, 448.8401618381017, 417.366223705061, 460.0842469587777, 276.269999498048, 581.6052843774559, 528.0650516761347, 487.14838473058467, 322.81138744931087, 319.25136578289454, 311.65253072896076, 638.8948710700575, 194.02448753009023, 524.2470763219687, 379.741915939554, 403.37860638874326, 652.9686826439918, 573.5483355821816, 565.3464385490602, 335.1034534084264, 450.6612058192991, 246.02552951195185, 373.66575430716216, 324.6455522662674, 357.76310405676264, 459.5058101397316, 389.5151777096786, 404.6593099673893, 424.9652490297569, 553.5965688440492, 1005.257821234078], \"type\": \"treemap\"}], \"layout\": {\"title\": {\"text\": \"Infrastructure Spending Over Time 2002\"}}}, {\"data\": [{\"labels\": [\"Alabama\", \"Arizona\", \"Arkansas\", \"California\", \"Colorado\", \"Connecticut\", \"Delaware\", \"Florida\", \"Georgia\", \"Idaho\", \"Illinois\", \"Indiana\", \"Iowa\", \"Kansas\", \"Kentucky\", \"Louisiana\", \"Maine\", \"Maryland\", \"Massachusetts\", \"Michigan\", \"Minnesota\", \"Mississippi\", \"Missouri\", \"Montana\", \"Nebraska\", \"Nevada\", \"Ohio\", \"Oklahoma\", \"Oregon\", \"Pennsylvania\", \"Tennessee\", \"Texas\", \"Utah\", \"Vermont\", \"Virginia\", \"Washington\", \"Wisconsin\", \"Wyoming\"], \"parents\": [\"\", \"\", \"\", \"\", \"\", \"\", \"\", \"\", \"\", \"\", \"\", \"\", \"\", \"\", \"\", \"\", \"\", \"\", \"\", \"\", \"\", \"\", \"\", \"\", \"\", \"\", \"\", \"\", \"\", \"\", \"\", \"\", \"\", \"\", \"\", \"\", \"\", \"\"], \"values\": [377.484933355035, 329.6419256513725, 451.20441160063655, 247.28569714844562, 508.6958115428336, 285.7652074886004, 594.2252045530396, 445.377566625902, 410.32679318638407, 406.83155099825433, 439.92675696395804, 279.9338931853046, 547.8805397282595, 504.92213746289013, 454.79103364689826, 366.4871947661623, 296.9583923007272, 306.1060148256936, 563.1460327766243, 186.31487701809513, 503.6906568264982, 362.59026214721405, 385.54801614109215, 642.3985733392777, 551.0792037238238, 534.4287080063143, 317.0784626702305, 440.3399591199956, 245.79407426785323, 382.4758631713296, 318.6253251643521, 345.19771316064674, 458.3653406560721, 373.6829498040002, 365.2145242207217, 431.55789168454396, 521.2106578274249, 984.9479494610221], \"type\": \"treemap\"}], \"layout\": {\"title\": {\"text\": \"Infrastructure Spending Over Time 2003\"}}}, {\"data\": [{\"labels\": [\"Alabama\", \"Arizona\", \"Arkansas\", \"California\", \"Colorado\", \"Connecticut\", \"Delaware\", \"Florida\", \"Georgia\", \"Idaho\", \"Illinois\", \"Indiana\", \"Iowa\", \"Kansas\", \"Kentucky\", \"Louisiana\", \"Maine\", \"Maryland\", \"Massachusetts\", \"Michigan\", \"Minnesota\", \"Mississippi\", \"Missouri\", \"Montana\", \"Nebraska\", \"Nevada\", \"Ohio\", \"Oklahoma\", \"Oregon\", \"Pennsylvania\", \"Tennessee\", \"Texas\", \"Utah\", \"Vermont\", \"Virginia\", \"Washington\", \"Wisconsin\", \"Wyoming\"], \"parents\": [\"\", \"\", \"\", \"\", \"\", \"\", \"\", \"\", \"\", \"\", \"\", \"\", \"\", \"\", \"\", \"\", \"\", \"\", \"\", \"\", \"\", \"\", \"\", \"\", \"\", \"\", \"\", \"\", \"\", \"\", \"\", \"\", \"\", \"\", \"\", \"\", \"\", \"\"], \"values\": [370.40948597896715, 337.4113032260256, 418.9445631246623, 242.83195954324233, 476.97940967599436, 273.4079804490383, 592.2968501558131, 441.43758959784714, 386.2125298714189, 408.70037548444384, 435.24819708822383, 292.9712737367373, 533.2185595037979, 499.3404338032887, 438.9618101440366, 419.79922842346997, 286.3929639305528, 311.29335389724235, 510.37953576894085, 185.38494318676243, 500.9618270527445, 356.9464972430002, 381.16974999395416, 652.0205718439285, 547.9372574126686, 518.4232353119185, 310.68398692973113, 444.64947423333444, 254.57246650266444, 404.013884123744, 322.8921793954093, 344.40435289362705, 471.13483623281337, 371.26564718028135, 338.7331409289586, 450.49942179879247, 507.6608271342935, 994.1132102155543], \"type\": \"treemap\"}], \"layout\": {\"title\": {\"text\": \"Infrastructure Spending Over Time 2004\"}}}, {\"data\": [{\"labels\": [\"Alabama\", \"Arizona\", \"Arkansas\", \"California\", \"Colorado\", \"Connecticut\", \"Delaware\", \"Florida\", \"Georgia\", \"Idaho\", \"Illinois\", \"Indiana\", \"Iowa\", \"Kansas\", \"Kentucky\", \"Louisiana\", \"Maine\", \"Maryland\", \"Massachusetts\", \"Michigan\", \"Minnesota\", \"Mississippi\", \"Missouri\", \"Montana\", \"Nebraska\", \"Nevada\", \"Ohio\", \"Oklahoma\", \"Oregon\", \"Pennsylvania\", \"Tennessee\", \"Texas\", \"Utah\", \"Vermont\", \"Virginia\", \"Washington\", \"Wisconsin\", \"Wyoming\"], \"parents\": [\"\", \"\", \"\", \"\", \"\", \"\", \"\", \"\", \"\", \"\", \"\", \"\", \"\", \"\", \"\", \"\", \"\", \"\", \"\", \"\", \"\", \"\", \"\", \"\", \"\", \"\", \"\", \"\", \"\", \"\", \"\", \"\", \"\", \"\", \"\", \"\", \"\", \"\"], \"values\": [351.90670061414, 332.1754448519861, 375.09766829420187, 231.9433465661146, 431.9160998711541, 253.58744164454876, 572.1528722711945, 424.5406830766754, 351.911544824165, 396.2776590225319, 418.4887861548182, 296.4909782665479, 503.68803159030296, 479.4803771829589, 410.2524133690292, 459.2590876951328, 268.3200547169482, 307.4405364872445, 444.03970458935953, 179.40437982289967, 483.94815374175863, 341.577587722815, 365.5915928362952, 642.3228543285728, 528.5209114747286, 491.300059248161, 295.60057644731194, 435.44025991117053, 254.02731427692115, 412.8994481120065, 316.61040781284504, 333.3026606274801, 466.55130224407264, 358.54736282929423, 304.17487945593996, 454.99636025413497, 480.1012086547716, 974.9453960560686], \"type\": \"treemap\"}], \"layout\": {\"title\": {\"text\": \"Infrastructure Spending Over Time 2005\"}}}, {\"data\": [{\"labels\": [\"Alabama\", \"Arizona\", \"Arkansas\", \"California\", \"Colorado\", \"Connecticut\", \"Delaware\", \"Florida\", \"Georgia\", \"Idaho\", \"Illinois\", \"Indiana\", \"Iowa\", \"Kansas\", \"Kentucky\", \"Louisiana\", \"Maine\", \"Maryland\", \"Massachusetts\", \"Michigan\", \"Minnesota\", \"Mississippi\", \"Missouri\", \"Montana\", \"Nebraska\", \"Nevada\", \"Ohio\", \"Oklahoma\", \"Oregon\", \"Pennsylvania\", \"Tennessee\", \"Texas\", \"Utah\", \"Vermont\", \"Virginia\", \"Washington\", \"Wisconsin\", \"Wyoming\"], \"parents\": [\"\", \"\", \"\", \"\", \"\", \"\", \"\", \"\", \"\", \"\", \"\", \"\", \"\", \"\", \"\", \"\", \"\", \"\", \"\", \"\", \"\", \"\", \"\", \"\", \"\", \"\", \"\", \"\", \"\", \"\", \"\", \"\", \"\", \"\", \"\", \"\", \"\", \"\"], \"values\": [337.8763058219509, 331.4238296964692, 338.09029184257633, 225.2599455176426, 393.06053715948764, 238.34016591517744, 561.2730836013909, 416.9285610879953, 322.3023449692561, 388.99983590584407, 407.98254976389904, 303.4993618014774, 481.52645773347405, 466.2211977063489, 388.9229787646539, 537.865718107266, 254.981229492777, 308.6208878859332, 385.8295772723103, 176.4299231941233, 473.4861931363179, 333.8434921021777, 355.36217477387174, 640.3118741419053, 517.7935491368218, 472.29350946501665, 285.2268309977352, 430.11777668338857, 255.98228001273807, 426.40911550963654, 314.12309160838174, 324.6962060105533, 466.2402440381278, 351.2807998818415, 276.27612404666576, 462.79772579473723, 460.7789474250379, 963.8814005858416], \"type\": \"treemap\"}], \"layout\": {\"title\": {\"text\": \"Infrastructure Spending Over Time 2006\"}}}, {\"data\": [{\"labels\": [\"Alabama\", \"Arizona\", \"Arkansas\", \"California\", \"Colorado\", \"Connecticut\", \"Delaware\", \"Florida\", \"Georgia\", \"Idaho\", \"Illinois\", \"Indiana\", \"Iowa\", \"Kansas\", \"Kentucky\", \"Louisiana\", \"Maine\", \"Maryland\", \"Massachusetts\", \"Michigan\", \"Minnesota\", \"Mississippi\", \"Missouri\", \"Montana\", \"Nebraska\", \"Nevada\", \"Ohio\", \"Oklahoma\", \"Oregon\", \"Pennsylvania\", \"Tennessee\", \"Texas\", \"Utah\", \"Vermont\", \"Virginia\", \"Washington\", \"Wisconsin\", \"Wyoming\"], \"parents\": [\"\", \"\", \"\", \"\", \"\", \"\", \"\", \"\", \"\", \"\", \"\", \"\", \"\", \"\", \"\", \"\", \"\", \"\", \"\", \"\", \"\", \"\", \"\", \"\", \"\", \"\", \"\", \"\", \"\", \"\", \"\", \"\", \"\", \"\", \"\", \"\", \"\", \"\"], \"values\": [306.85600191746346, 314.08287815144786, 287.03210292594736, 206.04474262303572, 336.4112003077521, 210.8134619691716, 520.1543104723952, 388.6881213372807, 278.8806787773417, 361.0419206633424, 374.44858034891035, 292.64362854154314, 434.01133364363704, 426.9094057191917, 347.250387156915, 542.974521554966, 228.44827586206895, 292.38646848060495, 309.8079330376974, 163.90495460382886, 436.8174238645969, 305.04891833284955, 326.1014822308264, 601.9025485484697, 478.41643116673396, 430.54517522006313, 259.3512716178159, 401.11447744836835, 243.31878991526204, 414.3796645908046, 294.2670555223701, 299.71777841566944, 438.12790011032644, 325.0491995746462, 236.01741710747, 444.4567565212695, 416.65919592213197, 892.1282689819697], \"type\": \"treemap\"}], \"layout\": {\"title\": {\"text\": \"Infrastructure Spending Over Time 2007\"}}}, {\"data\": [{\"labels\": [\"Alabama\", \"Arizona\", \"Arkansas\", \"California\", \"Colorado\", \"Connecticut\", \"Delaware\", \"Florida\", \"Georgia\", \"Idaho\", \"Illinois\", \"Indiana\", \"Iowa\", \"Kansas\", \"Kentucky\", \"Louisiana\", \"Maine\", \"Maryland\", \"Massachusetts\", \"Michigan\", \"Minnesota\", \"Mississippi\", \"Missouri\", \"Montana\", \"Nebraska\", \"Nevada\", \"Ohio\", \"Oklahoma\", \"Oregon\", \"Pennsylvania\", \"Tennessee\", \"Texas\", \"Utah\", \"Vermont\", \"Virginia\", \"Washington\", \"Wisconsin\", \"Wyoming\"], \"parents\": [\"\", \"\", \"\", \"\", \"\", \"\", \"\", \"\", \"\", \"\", \"\", \"\", \"\", \"\", \"\", \"\", \"\", \"\", \"\", \"\", \"\", \"\", \"\", \"\", \"\", \"\", \"\", \"\", \"\", \"\", \"\", \"\", \"\", \"\", \"\", \"\", \"\", \"\"], \"values\": [281.5595588662301, 301.7049017238179, 244.67482607736713, 189.83253268594922, 289.67427649379414, 187.5964405249467, 487.4450430717501, 367.0331437842687, 244.36963345949007, 340.2953751499035, 347.3623440990762, 284.74992085364136, 395.02389007449773, 394.62642748985434, 313.39655813055754, 550.7452679307763, 206.6246827342017, 279.55070963497576, 244.94900035817156, 154.2062045731082, 407.63744282943185, 282.1003146068636, 302.91179010640934, 571.8029731210602, 446.2468366902734, 400.87314358068005, 238.349614007896, 378.62253664237653, 233.82221363699563, 406.22646887538616, 279.22062435143135, 279.6336786493288, 416.90308291798544, 303.96009939902365, 202.48085912088294, 429.93625186312397, 380.8440920716838, 836.2931124471883], \"type\": \"treemap\"}], \"layout\": {\"title\": {\"text\": \"Infrastructure Spending Over Time 2008\"}}}, {\"data\": [{\"labels\": [\"Alabama\", \"Arizona\", \"Arkansas\", \"California\", \"Colorado\", \"Connecticut\", \"Delaware\", \"Florida\", \"Georgia\", \"Idaho\", \"Illinois\", \"Indiana\", \"Iowa\", \"Kansas\", \"Kentucky\", \"Louisiana\", \"Maine\", \"Maryland\", \"Massachusetts\", \"Michigan\", \"Minnesota\", \"Mississippi\", \"Missouri\", \"Montana\", \"Nebraska\", \"Nevada\", \"Ohio\", \"Oklahoma\", \"Oregon\", \"Pennsylvania\", \"Tennessee\", \"Texas\", \"Utah\", \"Vermont\", \"Virginia\", \"Washington\", \"Wisconsin\", \"Wyoming\"], \"parents\": [\"\", \"\", \"\", \"\", \"\", \"\", \"\", \"\", \"\", \"\", \"\", \"\", \"\", \"\", \"\", \"\", \"\", \"\", \"\", \"\", \"\", \"\", \"\", \"\", \"\", \"\", \"\", \"\", \"\", \"\", \"\", \"\", \"\", \"\", \"\", \"\", \"\", \"\"], \"values\": [278.78799597640824, 314.4512966262525, 223.23784892726323, 188.5132120471427, 267.77167830304325, 179.61276397064745, 494.77308153813374, 374.22962664167073, 231.13476715041483, 347.7048632979487, 347.3703302503177, 298.6457563290282, 387.4960021365901, 393.17768464336547, 305.01191316155337, 598.248571571058, 201.86523665190023, 287.2613512383454, 201.61154091229412, 156.24721320038367, 410.5127184090443, 282.0076829119087, 303.2600760129694, 587.7648168360803, 447.8692634067843, 405.6636489096405, 236.05209033024497, 383.7472414791159, 242.35860946279473, 428.1579536140691, 286.08381928440116, 281.1074584582925, 428.0450947539877, 306.39211161027947, 185.74964701334366, 447.2208615438702, 375.20073152352757, 841.11308187357], \"type\": \"treemap\"}], \"layout\": {\"title\": {\"text\": \"Infrastructure Spending Over Time 2009\"}}}, {\"data\": [{\"labels\": [\"Alabama\", \"Arizona\", \"Arkansas\", \"California\", \"Colorado\", \"Connecticut\", \"Delaware\", \"Florida\", \"Georgia\", \"Idaho\", \"Illinois\", \"Indiana\", \"Iowa\", \"Kansas\", \"Kentucky\", \"Louisiana\", \"Maine\", \"Maryland\", \"Massachusetts\", \"Michigan\", \"Minnesota\", \"Mississippi\", \"Missouri\", \"Montana\", \"Nebraska\", \"Nevada\", \"Ohio\", \"Oklahoma\", \"Oregon\", \"Pennsylvania\", \"Tennessee\", \"Texas\", \"Utah\", \"Vermont\", \"Virginia\", \"Washington\", \"Wisconsin\", \"Wyoming\"], \"parents\": [\"\", \"\", \"\", \"\", \"\", \"\", \"\", \"\", \"\", \"\", \"\", \"\", \"\", \"\", \"\", \"\", \"\", \"\", \"\", \"\", \"\", \"\", \"\", \"\", \"\", \"\", \"\", \"\", \"\", \"\", \"\", \"\", \"\", \"\", \"\", \"\", \"\", \"\"], \"values\": [272.2395128297608, 282.71426747627953, 237.92589864880128, 194.3563092266654, 255.0064496777538, 186.4874930605478, 505.51827550139114, 344.7897004708072, 223.36545681832013, 331.45002702411927, 341.3075535345268, 287.43443357309195, 385.59481896500574, 367.45775235754826, 324.1190452536804, 521.2772862947189, 222.44400072006874, 269.81936102642624, 196.9854289386639, 146.41789900924283, 405.3030973459659, 284.3717546703292, 281.0211789718265, 573.3731692792184, 443.79372220348694, 376.41494877118566, 238.7717125835038, 371.6342545533075, 226.7067506007639, 421.0065353903416, 264.080756281392, 285.99288714314935, 383.60056683455764, 311.28192674065247, 195.22771922845502, 420.93922757629423, 363.5023612881594, 779.4310675587346], \"type\": \"treemap\"}], \"layout\": {\"title\": {\"text\": \"Infrastructure Spending Over Time 2010\"}}}, {\"data\": [{\"labels\": [\"Alabama\", \"Arizona\", \"Arkansas\", \"California\", \"Colorado\", \"Connecticut\", \"Delaware\", \"Florida\", \"Georgia\", \"Idaho\", \"Illinois\", \"Indiana\", \"Iowa\", \"Kansas\", \"Kentucky\", \"Louisiana\", \"Maine\", \"Maryland\", \"Massachusetts\", \"Michigan\", \"Minnesota\", \"Mississippi\", \"Missouri\", \"Montana\", \"Nebraska\", \"Nevada\", \"Ohio\", \"Oklahoma\", \"Oregon\", \"Pennsylvania\", \"Tennessee\", \"Texas\", \"Utah\", \"Vermont\", \"Virginia\", \"Washington\", \"Wisconsin\", \"Wyoming\"], \"parents\": [\"\", \"\", \"\", \"\", \"\", \"\", \"\", \"\", \"\", \"\", \"\", \"\", \"\", \"\", \"\", \"\", \"\", \"\", \"\", \"\", \"\", \"\", \"\", \"\", \"\", \"\", \"\", \"\", \"\", \"\", \"\", \"\", \"\", \"\", \"\", \"\", \"\", \"\"], \"values\": [260.63777256720397, 246.69587123707174, 246.68365386642404, 195.5584594887634, 237.4398172553154, 189.11579677158315, 503.95883603829924, 309.30817370446397, 211.0320360927534, 309.3471323106133, 328.27892730239535, 270.5673405193908, 375.28189249151876, 336.7734417497161, 335.2670679188811, 440.11442571681044, 236.49483278922492, 247.74097507277526, 188.20380580138118, 133.36334430261581, 390.7638844728071, 280.44873247275143, 254.63694161980123, 546.8312351255817, 431.1608255464405, 341.3885299327636, 236.03157356374453, 353.1607696741786, 206.6033477660902, 405.0066635014904, 237.7026819688708, 284.2619509446958, 335.6565322472633, 308.7323440641457, 199.99550752446456, 386.4364870254453, 344.6092074085498, 706.2825665957698], \"type\": \"treemap\"}], \"layout\": {\"title\": {\"text\": \"Infrastructure Spending Over Time 2011\"}}}, {\"data\": [{\"labels\": [\"Alabama\", \"Arizona\", \"Arkansas\", \"California\", \"Colorado\", \"Connecticut\", \"Delaware\", \"Florida\", \"Georgia\", \"Idaho\", \"Illinois\", \"Indiana\", \"Iowa\", \"Kansas\", \"Kentucky\", \"Louisiana\", \"Maine\", \"Maryland\", \"Massachusetts\", \"Michigan\", \"Minnesota\", \"Mississippi\", \"Missouri\", \"Montana\", \"Nebraska\", \"Nevada\", \"Ohio\", \"Oklahoma\", \"Oregon\", \"Pennsylvania\", \"Tennessee\", \"Texas\", \"Utah\", \"Vermont\", \"Virginia\", \"Washington\", \"Wisconsin\", \"Wyoming\"], \"parents\": [\"\", \"\", \"\", \"\", \"\", \"\", \"\", \"\", \"\", \"\", \"\", \"\", \"\", \"\", \"\", \"\", \"\", \"\", \"\", \"\", \"\", \"\", \"\", \"\", \"\", \"\", \"\", \"\", \"\", \"\", \"\", \"\", \"\", \"\", \"\", \"\", \"\", \"\"], \"values\": [248.1154881668352, 211.84458899655053, 253.55585537625018, 195.30698887437092, 220.03924015049117, 190.41608406293818, 498.9732588545501, 274.5430321889693, 198.1956019944303, 287.4516733399753, 314.43583647913863, 253.50662006007346, 363.9970047230214, 305.91256344368577, 343.55660440783845, 363.72004145093933, 248.10894409582454, 226.1131466661006, 178.84782261940506, 120.35544728993061, 375.15685727568575, 275.26143378055144, 228.7533726616227, 518.9589789756295, 416.348787365316, 304.706941089457, 231.99062658888153, 333.76255459086957, 187.2999731801886, 388.0474798465016, 211.71786028955268, 280.1804699564333, 290.1810208727935, 305.38938407723344, 202.70838707408015, 353.25085571722605, 325.0066205486097, 627.8890707805], \"type\": \"treemap\"}], \"layout\": {\"title\": {\"text\": \"Infrastructure Spending Over Time 2012\"}}}, {\"data\": [{\"labels\": [\"Alabama\", \"Arizona\", \"Arkansas\", \"California\", \"Colorado\", \"Connecticut\", \"Delaware\", \"Florida\", \"Georgia\", \"Idaho\", \"Illinois\", \"Indiana\", \"Iowa\", \"Kansas\", \"Kentucky\", \"Louisiana\", \"Maine\", \"Maryland\", \"Massachusetts\", \"Michigan\", \"Minnesota\", \"Mississippi\", \"Missouri\", \"Montana\", \"Nebraska\", \"Nevada\", \"Ohio\", \"Oklahoma\", \"Oregon\", \"Pennsylvania\", \"Tennessee\", \"Texas\", \"Utah\", \"Vermont\", \"Virginia\", \"Washington\", \"Wisconsin\", \"Wyoming\"], \"parents\": [\"\", \"\", \"\", \"\", \"\", \"\", \"\", \"\", \"\", \"\", \"\", \"\", \"\", \"\", \"\", \"\", \"\", \"\", \"\", \"\", \"\", \"\", \"\", \"\", \"\", \"\", \"\", \"\", \"\", \"\", \"\", \"\", \"\", \"\", \"\", \"\", \"\", \"\"], \"values\": [235.13045198822917, 179.3238267349341, 258.3616256803421, 193.63661116991142, 202.6670086784218, 190.60807744163176, 490.47574729834145, 241.4551835397453, 185.74346264362057, 264.9199499023915, 299.7490341412515, 235.91633913318088, 350.4278532031216, 276.6435200700963, 348.48825910967923, 292.2975158018521, 256.89194854814633, 205.42169315214332, 169.10726449027706, 107.68465169551546, 357.964083844009, 268.6743333002211, 203.59709408704862, 488.48404292033393, 400.130130940239, 269.5980778953646, 226.27933454534025, 313.5537564502992, 168.71417977579628, 370.30149290216906, 187.2523739241671, 274.768590184325, 247.0942015811518, 299.7942876111349, 204.0122768539829, 321.0818385553667, 304.84303622927246, 556.6235282001991], \"type\": \"treemap\"}], \"layout\": {\"title\": {\"text\": \"Infrastructure Spending Over Time 2013\"}}}, {\"data\": [{\"labels\": [\"Alabama\", \"Arizona\", \"Arkansas\", \"California\", \"Colorado\", \"Connecticut\", \"Delaware\", \"Florida\", \"Georgia\", \"Idaho\", \"Illinois\", \"Indiana\", \"Iowa\", \"Kansas\", \"Kentucky\", \"Louisiana\", \"Maine\", \"Maryland\", \"Massachusetts\", \"Michigan\", \"Minnesota\", \"Mississippi\", \"Missouri\", \"Montana\", \"Nebraska\", \"Nevada\", \"Ohio\", \"Oklahoma\", \"Oregon\", \"Pennsylvania\", \"Tennessee\", \"Texas\", \"Utah\", \"Vermont\", \"Virginia\", \"Washington\", \"Wisconsin\", \"Wyoming\"], \"parents\": [\"\", \"\", \"\", \"\", \"\", \"\", \"\", \"\", \"\", \"\", \"\", \"\", \"\", \"\", \"\", \"\", \"\", \"\", \"\", \"\", \"\", \"\", \"\", \"\", \"\", \"\", \"\", \"\", \"\", \"\", \"\", \"\", \"\", \"\", \"\", \"\", \"\", \"\"], \"values\": [228.43829051825068, 174.59545130288362, 264.1450518550007, 175.74964807827857, 199.18742855157188, 206.34858832654697, 484.9136937900466, 249.07796360207678, 193.88714596586465, 253.42656263018858, 340.3002477591934, 226.33485440232965, 367.71079162732593, 289.97081528026325, 347.1271851975281, 284.6335874477877, 255.06735566027177, 216.21059773854776, 192.2940357707117, 113.69867578974011, 387.60972845388443, 257.1042002853044, 186.76031047361585, 423.6914234195826, 414.47960190536475, 248.84184984754881, 236.8247716186337, 319.90930058282834, 176.30194023523703, 388.8190730865658, 177.07056043157303, 273.71397167654214, 220.91414604296935, 316.3484328576474, 208.97680576951524, 303.7482938438386, 277.03282990906445, 547.6516696132616], \"type\": \"treemap\"}], \"layout\": {\"title\": {\"text\": \"Infrastructure Spending Over Time 2014\"}}}, {\"data\": [{\"labels\": [\"Alabama\", \"Arizona\", \"Arkansas\", \"California\", \"Colorado\", \"Connecticut\", \"Delaware\", \"Florida\", \"Georgia\", \"Idaho\", \"Illinois\", \"Indiana\", \"Iowa\", \"Kansas\", \"Kentucky\", \"Louisiana\", \"Maine\", \"Maryland\", \"Massachusetts\", \"Michigan\", \"Minnesota\", \"Mississippi\", \"Missouri\", \"Montana\", \"Nebraska\", \"Nevada\", \"Ohio\", \"Oklahoma\", \"Oregon\", \"Pennsylvania\", \"Tennessee\", \"Texas\", \"Utah\", \"Vermont\", \"Virginia\", \"Washington\", \"Wisconsin\", \"Wyoming\"], \"parents\": [\"\", \"\", \"\", \"\", \"\", \"\", \"\", \"\", \"\", \"\", \"\", \"\", \"\", \"\", \"\", \"\", \"\", \"\", \"\", \"\", \"\", \"\", \"\", \"\", \"\", \"\", \"\", \"\", \"\", \"\", \"\", \"\", \"\", \"\", \"\", \"\", \"\", \"\"], \"values\": [230.50657256329453, 176.6882146583909, 280.63429865504685, 164.05599525563963, 202.88768845584644, 231.90994941983712, 498.6704739057284, 266.2370269395128, 209.91062570451987, 251.63585971515798, 397.8560738935199, 225.56667667961094, 401.40001364273525, 315.6431903204606, 359.4095087834485, 287.83813492099205, 264.2822425434392, 236.56547986416695, 225.0600369195426, 124.85390533156078, 435.0224525811625, 255.32810006986082, 176.2998421012175, 372.36050586769693, 446.7630237746286, 236.69292749494429, 257.7972632818849, 338.95560639281035, 190.80452562148162, 424.6771538466711, 173.3599136604343, 283.48756618983373, 202.15033653681797, 346.1945318866749, 222.8224554554795, 297.151209376714, 258.74455810389406, 557.3961994512175], \"type\": \"treemap\"}], \"layout\": {\"title\": {\"text\": \"Infrastructure Spending Over Time 2015\"}}}, {\"data\": [{\"labels\": [\"Alabama\", \"Arizona\", \"Arkansas\", \"California\", \"Colorado\", \"Connecticut\", \"Delaware\", \"Florida\", \"Georgia\", \"Idaho\", \"Illinois\", \"Indiana\", \"Iowa\", \"Kansas\", \"Kentucky\", \"Louisiana\", \"Maine\", \"Maryland\", \"Massachusetts\", \"Michigan\", \"Minnesota\", \"Mississippi\", \"Missouri\", \"Montana\", \"Nebraska\", \"Nevada\", \"Ohio\", \"Oklahoma\", \"Oregon\", \"Pennsylvania\", \"Tennessee\", \"Texas\", \"Utah\", \"Vermont\", \"Virginia\", \"Washington\", \"Wisconsin\", \"Wyoming\"], \"parents\": [\"\", \"\", \"\", \"\", \"\", \"\", \"\", \"\", \"\", \"\", \"\", \"\", \"\", \"\", \"\", \"\", \"\", \"\", \"\", \"\", \"\", \"\", \"\", \"\", \"\", \"\", \"\", \"\", \"\", \"\", \"\", \"\", \"\", \"\", \"\", \"\", \"\", \"\"], \"values\": [226.5243205836085, 174.1069210817296, 290.8481974988427, 147.53410198618178, 202.14223199642703, 253.59975194352805, 500.9226422621736, 276.9918724451559, 221.25748973511224, 241.64447790902332, 450.26485938808946, 218.32890472254923, 427.23436986349463, 335.7156613320324, 363.1574040167502, 284.0580465532776, 266.0588675030848, 252.6348365427482, 254.48538803154403, 133.37195052057353, 473.641174511706, 246.30349478949842, 160.27884631801246, 307.2513498705065, 469.08469679509335, 217.88183473166288, 273.5570091563102, 351.6959540424063, 200.2203128011803, 452.13992794132963, 164.7193463751397, 287.26146791094266, 176.3434629518491, 370.1963271542653, 231.8617153407762, 281.77986156364403, 231.87490584692745, 557.2813344200614], \"type\": \"treemap\"}], \"layout\": {\"title\": {\"text\": \"Infrastructure Spending Over Time 2016\"}}}, {\"data\": [{\"labels\": [\"Alabama\", \"Arizona\", \"Arkansas\", \"California\", \"Colorado\", \"Connecticut\", \"Delaware\", \"Florida\", \"Georgia\", \"Idaho\", \"Illinois\", \"Indiana\", \"Iowa\", \"Kansas\", \"Kentucky\", \"Louisiana\", \"Maine\", \"Maryland\", \"Massachusetts\", \"Michigan\", \"Minnesota\", \"Mississippi\", \"Missouri\", \"Montana\", \"Nebraska\", \"Nevada\", \"Ohio\", \"Oklahoma\", \"Oregon\", \"Pennsylvania\", \"Tennessee\", \"Texas\", \"Utah\", \"Vermont\", \"Virginia\", \"Washington\", \"Wisconsin\", \"Wyoming\"], \"parents\": [\"\", \"\", \"\", \"\", \"\", \"\", \"\", \"\", \"\", \"\", \"\", \"\", \"\", \"\", \"\", \"\", \"\", \"\", \"\", \"\", \"\", \"\", \"\", \"\", \"\", \"\", \"\", \"\", \"\", \"\", \"\", \"\", \"\", \"\", \"\", \"\", \"\", \"\"], \"values\": [219.96175063125395, 166.96684263874116, 281.93571260929707, 142.90019125377802, 194.1593838168797, 247.1286518368685, 483.47916679715473, 265.08821123846116, 213.09574676316126, 230.29867800168049, 439.65728038568085, 211.719243934466, 414.4170594585928, 326.971938498577, 352.2330375999587, 276.91539395246525, 258.28546359591627, 245.01500119604802, 246.3703967037514, 129.51068644384466, 457.3391224687271, 239.71017904325242, 155.48201699713746, 295.7075973894115, 454.03594578606766, 208.3061219065192, 265.65601773266013, 341.81572004488504, 192.32757552273844, 439.83479382327613, 158.7989601396806, 275.8540659397836, 168.34807993452637, 359.8551985820595, 224.23958604232718, 269.51887539376605, 224.97374915568344, 547.2866960692697], \"type\": \"treemap\"}], \"layout\": {\"title\": {\"text\": \"Infrastructure Spending Over Time 2017\"}}}]);\n                        }).then(function(){\n                            \nvar gd = document.getElementById('bfb617b4-46e5-46f8-a9d8-9965a53eb9ea');\nvar x = new MutationObserver(function (mutations, observer) {{\n        var display = window.getComputedStyle(gd).display;\n        if (!display || display === 'none') {{\n            console.log([gd, 'removed!']);\n            Plotly.purge(gd);\n            observer.disconnect();\n        }}\n}});\n\n// Listen for the removal of the full notebook cells\nvar notebookContainer = gd.closest('#notebook-container');\nif (notebookContainer) {{\n    x.observe(notebookContainer, {childList: true});\n}}\n\n// Listen for the clearing of the current output cell\nvar outputEl = gd.closest('.output');\nif (outputEl) {{\n    x.observe(outputEl, {childList: true});\n}}\n\n                        })\n                };\n                });\n            </script>\n        </div>"
     },
     "metadata": {}
    }
   ],
   "source": [
    "dates = list(range(1992,2018))\n",
    "fig = go.Figure(\n",
    "    data=[go.Treemap(\n",
    "        labels=list(state_infra['State']),\n",
    "        parents=[\"\" for parent in state_infra['State']],\n",
    "        values=list(state_infra[dates[0]]))\n",
    "        ],\n",
    "    layout=go.Layout(\n",
    "        title_text=\"Infrastructure Spending Over Time \"+str(dates[0]),\n",
    "        updatemenus= [dict(type=\"buttons\",\n",
    "                        buttons=[dict(label=\"Play\", method=\"animate\", args=[None])])]\n",
    "    ),\n",
    "    frames = [go.Frame(\n",
    "        data=[go.Treemap(\n",
    "            labels=list(state_infra['State']),\n",
    "            parents=[\"\" for parent in state_infra['State']],\n",
    "            values=list(state_infra[dates[k]]))\n",
    "        ],\n",
    "        layout=go.Layout(\n",
    "        title_text=\"Infrastructure Spending Over Time \"+str(dates[k])))\n",
    "        for k in range(len(dates))]\n",
    "    )\n",
    "fig.show()\n",
    "pio.write_html(fig, file='./InfrastructureTime.html', auto_open=True)"
   ]
  },
  {
   "cell_type": "code",
   "execution_count": 152,
   "metadata": {},
   "outputs": [
    {
     "output_type": "display_data",
     "data": {
      "application/vnd.plotly.v1+json": {
       "config": {
        "plotlyServerURL": "https://plot.ly"
       },
       "data": [
        {
         "type": "bar",
         "x": [
          "Alabama",
          "Arizona",
          "Arkansas",
          "California",
          "Colorado",
          "Connecticut",
          "Delaware",
          "Florida",
          "Georgia",
          "Idaho",
          "Illinois",
          "Indiana",
          "Iowa",
          "Kansas",
          "Kentucky",
          "Louisiana",
          "Maine",
          "Maryland",
          "Massachusetts",
          "Michigan",
          "Minnesota",
          "Mississippi",
          "Missouri",
          "Montana",
          "Nebraska",
          "Nevada",
          "Ohio",
          "Oklahoma",
          "Oregon",
          "Pennsylvania",
          "Tennessee",
          "Texas",
          "Utah",
          "Vermont",
          "Virginia",
          "Washington",
          "Wisconsin",
          "Wyoming"
         ],
         "y": [
          320.88371159255416,
          345.00390837820277,
          342.02944073300256,
          202.18914934356613,
          336.60366561223356,
          448.9958311412193,
          765.5942552285129,
          384.7177017018055,
          390.32534188311104,
          464.01654023947714,
          390.68268461634125,
          296.7714935022516,
          543.5956027293944,
          445.2712979435813,
          432.2239786516621,
          345.5327032166204,
          246.58587349524336,
          260.7694574960556,
          386.9934198429826,
          223.7828635834279,
          609.351710152045,
          348.6811128525746,
          285.28659607069045,
          606.9213896278859,
          559.6365715055985,
          621.1668497791378,
          307.2876225890655,
          295.96520039173896,
          356.104069559042,
          213.84523044710048,
          387.24239873203004,
          344.2357003455827,
          346.56914254091964,
          349.04185997561893,
          296.1422082413292,
          343.15377024878916,
          457.1495309548987,
          983.9414357560341
         ]
        }
       ],
       "layout": {
        "barmode": "stack",
        "template": {
         "data": {
          "bar": [
           {
            "error_x": {
             "color": "#2a3f5f"
            },
            "error_y": {
             "color": "#2a3f5f"
            },
            "marker": {
             "line": {
              "color": "#E5ECF6",
              "width": 0.5
             }
            },
            "type": "bar"
           }
          ],
          "barpolar": [
           {
            "marker": {
             "line": {
              "color": "#E5ECF6",
              "width": 0.5
             }
            },
            "type": "barpolar"
           }
          ],
          "carpet": [
           {
            "aaxis": {
             "endlinecolor": "#2a3f5f",
             "gridcolor": "white",
             "linecolor": "white",
             "minorgridcolor": "white",
             "startlinecolor": "#2a3f5f"
            },
            "baxis": {
             "endlinecolor": "#2a3f5f",
             "gridcolor": "white",
             "linecolor": "white",
             "minorgridcolor": "white",
             "startlinecolor": "#2a3f5f"
            },
            "type": "carpet"
           }
          ],
          "choropleth": [
           {
            "colorbar": {
             "outlinewidth": 0,
             "ticks": ""
            },
            "type": "choropleth"
           }
          ],
          "contour": [
           {
            "colorbar": {
             "outlinewidth": 0,
             "ticks": ""
            },
            "colorscale": [
             [
              0,
              "#0d0887"
             ],
             [
              0.1111111111111111,
              "#46039f"
             ],
             [
              0.2222222222222222,
              "#7201a8"
             ],
             [
              0.3333333333333333,
              "#9c179e"
             ],
             [
              0.4444444444444444,
              "#bd3786"
             ],
             [
              0.5555555555555556,
              "#d8576b"
             ],
             [
              0.6666666666666666,
              "#ed7953"
             ],
             [
              0.7777777777777778,
              "#fb9f3a"
             ],
             [
              0.8888888888888888,
              "#fdca26"
             ],
             [
              1,
              "#f0f921"
             ]
            ],
            "type": "contour"
           }
          ],
          "contourcarpet": [
           {
            "colorbar": {
             "outlinewidth": 0,
             "ticks": ""
            },
            "type": "contourcarpet"
           }
          ],
          "heatmap": [
           {
            "colorbar": {
             "outlinewidth": 0,
             "ticks": ""
            },
            "colorscale": [
             [
              0,
              "#0d0887"
             ],
             [
              0.1111111111111111,
              "#46039f"
             ],
             [
              0.2222222222222222,
              "#7201a8"
             ],
             [
              0.3333333333333333,
              "#9c179e"
             ],
             [
              0.4444444444444444,
              "#bd3786"
             ],
             [
              0.5555555555555556,
              "#d8576b"
             ],
             [
              0.6666666666666666,
              "#ed7953"
             ],
             [
              0.7777777777777778,
              "#fb9f3a"
             ],
             [
              0.8888888888888888,
              "#fdca26"
             ],
             [
              1,
              "#f0f921"
             ]
            ],
            "type": "heatmap"
           }
          ],
          "heatmapgl": [
           {
            "colorbar": {
             "outlinewidth": 0,
             "ticks": ""
            },
            "colorscale": [
             [
              0,
              "#0d0887"
             ],
             [
              0.1111111111111111,
              "#46039f"
             ],
             [
              0.2222222222222222,
              "#7201a8"
             ],
             [
              0.3333333333333333,
              "#9c179e"
             ],
             [
              0.4444444444444444,
              "#bd3786"
             ],
             [
              0.5555555555555556,
              "#d8576b"
             ],
             [
              0.6666666666666666,
              "#ed7953"
             ],
             [
              0.7777777777777778,
              "#fb9f3a"
             ],
             [
              0.8888888888888888,
              "#fdca26"
             ],
             [
              1,
              "#f0f921"
             ]
            ],
            "type": "heatmapgl"
           }
          ],
          "histogram": [
           {
            "marker": {
             "colorbar": {
              "outlinewidth": 0,
              "ticks": ""
             }
            },
            "type": "histogram"
           }
          ],
          "histogram2d": [
           {
            "colorbar": {
             "outlinewidth": 0,
             "ticks": ""
            },
            "colorscale": [
             [
              0,
              "#0d0887"
             ],
             [
              0.1111111111111111,
              "#46039f"
             ],
             [
              0.2222222222222222,
              "#7201a8"
             ],
             [
              0.3333333333333333,
              "#9c179e"
             ],
             [
              0.4444444444444444,
              "#bd3786"
             ],
             [
              0.5555555555555556,
              "#d8576b"
             ],
             [
              0.6666666666666666,
              "#ed7953"
             ],
             [
              0.7777777777777778,
              "#fb9f3a"
             ],
             [
              0.8888888888888888,
              "#fdca26"
             ],
             [
              1,
              "#f0f921"
             ]
            ],
            "type": "histogram2d"
           }
          ],
          "histogram2dcontour": [
           {
            "colorbar": {
             "outlinewidth": 0,
             "ticks": ""
            },
            "colorscale": [
             [
              0,
              "#0d0887"
             ],
             [
              0.1111111111111111,
              "#46039f"
             ],
             [
              0.2222222222222222,
              "#7201a8"
             ],
             [
              0.3333333333333333,
              "#9c179e"
             ],
             [
              0.4444444444444444,
              "#bd3786"
             ],
             [
              0.5555555555555556,
              "#d8576b"
             ],
             [
              0.6666666666666666,
              "#ed7953"
             ],
             [
              0.7777777777777778,
              "#fb9f3a"
             ],
             [
              0.8888888888888888,
              "#fdca26"
             ],
             [
              1,
              "#f0f921"
             ]
            ],
            "type": "histogram2dcontour"
           }
          ],
          "mesh3d": [
           {
            "colorbar": {
             "outlinewidth": 0,
             "ticks": ""
            },
            "type": "mesh3d"
           }
          ],
          "parcoords": [
           {
            "line": {
             "colorbar": {
              "outlinewidth": 0,
              "ticks": ""
             }
            },
            "type": "parcoords"
           }
          ],
          "pie": [
           {
            "automargin": true,
            "type": "pie"
           }
          ],
          "scatter": [
           {
            "marker": {
             "colorbar": {
              "outlinewidth": 0,
              "ticks": ""
             }
            },
            "type": "scatter"
           }
          ],
          "scatter3d": [
           {
            "line": {
             "colorbar": {
              "outlinewidth": 0,
              "ticks": ""
             }
            },
            "marker": {
             "colorbar": {
              "outlinewidth": 0,
              "ticks": ""
             }
            },
            "type": "scatter3d"
           }
          ],
          "scattercarpet": [
           {
            "marker": {
             "colorbar": {
              "outlinewidth": 0,
              "ticks": ""
             }
            },
            "type": "scattercarpet"
           }
          ],
          "scattergeo": [
           {
            "marker": {
             "colorbar": {
              "outlinewidth": 0,
              "ticks": ""
             }
            },
            "type": "scattergeo"
           }
          ],
          "scattergl": [
           {
            "marker": {
             "colorbar": {
              "outlinewidth": 0,
              "ticks": ""
             }
            },
            "type": "scattergl"
           }
          ],
          "scattermapbox": [
           {
            "marker": {
             "colorbar": {
              "outlinewidth": 0,
              "ticks": ""
             }
            },
            "type": "scattermapbox"
           }
          ],
          "scatterpolar": [
           {
            "marker": {
             "colorbar": {
              "outlinewidth": 0,
              "ticks": ""
             }
            },
            "type": "scatterpolar"
           }
          ],
          "scatterpolargl": [
           {
            "marker": {
             "colorbar": {
              "outlinewidth": 0,
              "ticks": ""
             }
            },
            "type": "scatterpolargl"
           }
          ],
          "scatterternary": [
           {
            "marker": {
             "colorbar": {
              "outlinewidth": 0,
              "ticks": ""
             }
            },
            "type": "scatterternary"
           }
          ],
          "surface": [
           {
            "colorbar": {
             "outlinewidth": 0,
             "ticks": ""
            },
            "colorscale": [
             [
              0,
              "#0d0887"
             ],
             [
              0.1111111111111111,
              "#46039f"
             ],
             [
              0.2222222222222222,
              "#7201a8"
             ],
             [
              0.3333333333333333,
              "#9c179e"
             ],
             [
              0.4444444444444444,
              "#bd3786"
             ],
             [
              0.5555555555555556,
              "#d8576b"
             ],
             [
              0.6666666666666666,
              "#ed7953"
             ],
             [
              0.7777777777777778,
              "#fb9f3a"
             ],
             [
              0.8888888888888888,
              "#fdca26"
             ],
             [
              1,
              "#f0f921"
             ]
            ],
            "type": "surface"
           }
          ],
          "table": [
           {
            "cells": {
             "fill": {
              "color": "#EBF0F8"
             },
             "line": {
              "color": "white"
             }
            },
            "header": {
             "fill": {
              "color": "#C8D4E3"
             },
             "line": {
              "color": "white"
             }
            },
            "type": "table"
           }
          ]
         },
         "layout": {
          "annotationdefaults": {
           "arrowcolor": "#2a3f5f",
           "arrowhead": 0,
           "arrowwidth": 1
          },
          "coloraxis": {
           "colorbar": {
            "outlinewidth": 0,
            "ticks": ""
           }
          },
          "colorscale": {
           "diverging": [
            [
             0,
             "#8e0152"
            ],
            [
             0.1,
             "#c51b7d"
            ],
            [
             0.2,
             "#de77ae"
            ],
            [
             0.3,
             "#f1b6da"
            ],
            [
             0.4,
             "#fde0ef"
            ],
            [
             0.5,
             "#f7f7f7"
            ],
            [
             0.6,
             "#e6f5d0"
            ],
            [
             0.7,
             "#b8e186"
            ],
            [
             0.8,
             "#7fbc41"
            ],
            [
             0.9,
             "#4d9221"
            ],
            [
             1,
             "#276419"
            ]
           ],
           "sequential": [
            [
             0,
             "#0d0887"
            ],
            [
             0.1111111111111111,
             "#46039f"
            ],
            [
             0.2222222222222222,
             "#7201a8"
            ],
            [
             0.3333333333333333,
             "#9c179e"
            ],
            [
             0.4444444444444444,
             "#bd3786"
            ],
            [
             0.5555555555555556,
             "#d8576b"
            ],
            [
             0.6666666666666666,
             "#ed7953"
            ],
            [
             0.7777777777777778,
             "#fb9f3a"
            ],
            [
             0.8888888888888888,
             "#fdca26"
            ],
            [
             1,
             "#f0f921"
            ]
           ],
           "sequentialminus": [
            [
             0,
             "#0d0887"
            ],
            [
             0.1111111111111111,
             "#46039f"
            ],
            [
             0.2222222222222222,
             "#7201a8"
            ],
            [
             0.3333333333333333,
             "#9c179e"
            ],
            [
             0.4444444444444444,
             "#bd3786"
            ],
            [
             0.5555555555555556,
             "#d8576b"
            ],
            [
             0.6666666666666666,
             "#ed7953"
            ],
            [
             0.7777777777777778,
             "#fb9f3a"
            ],
            [
             0.8888888888888888,
             "#fdca26"
            ],
            [
             1,
             "#f0f921"
            ]
           ]
          },
          "colorway": [
           "#636efa",
           "#EF553B",
           "#00cc96",
           "#ab63fa",
           "#FFA15A",
           "#19d3f3",
           "#FF6692",
           "#B6E880",
           "#FF97FF",
           "#FECB52"
          ],
          "font": {
           "color": "#2a3f5f"
          },
          "geo": {
           "bgcolor": "white",
           "lakecolor": "white",
           "landcolor": "#E5ECF6",
           "showlakes": true,
           "showland": true,
           "subunitcolor": "white"
          },
          "hoverlabel": {
           "align": "left"
          },
          "hovermode": "closest",
          "mapbox": {
           "style": "light"
          },
          "paper_bgcolor": "white",
          "plot_bgcolor": "#E5ECF6",
          "polar": {
           "angularaxis": {
            "gridcolor": "white",
            "linecolor": "white",
            "ticks": ""
           },
           "bgcolor": "#E5ECF6",
           "radialaxis": {
            "gridcolor": "white",
            "linecolor": "white",
            "ticks": ""
           }
          },
          "scene": {
           "xaxis": {
            "backgroundcolor": "#E5ECF6",
            "gridcolor": "white",
            "gridwidth": 2,
            "linecolor": "white",
            "showbackground": true,
            "ticks": "",
            "zerolinecolor": "white"
           },
           "yaxis": {
            "backgroundcolor": "#E5ECF6",
            "gridcolor": "white",
            "gridwidth": 2,
            "linecolor": "white",
            "showbackground": true,
            "ticks": "",
            "zerolinecolor": "white"
           },
           "zaxis": {
            "backgroundcolor": "#E5ECF6",
            "gridcolor": "white",
            "gridwidth": 2,
            "linecolor": "white",
            "showbackground": true,
            "ticks": "",
            "zerolinecolor": "white"
           }
          },
          "shapedefaults": {
           "line": {
            "color": "#2a3f5f"
           }
          },
          "ternary": {
           "aaxis": {
            "gridcolor": "white",
            "linecolor": "white",
            "ticks": ""
           },
           "baxis": {
            "gridcolor": "white",
            "linecolor": "white",
            "ticks": ""
           },
           "bgcolor": "#E5ECF6",
           "caxis": {
            "gridcolor": "white",
            "linecolor": "white",
            "ticks": ""
           }
          },
          "title": {
           "x": 0.05
          },
          "xaxis": {
           "automargin": true,
           "gridcolor": "white",
           "linecolor": "white",
           "ticks": "",
           "title": {
            "standoff": 15
           },
           "zerolinecolor": "white",
           "zerolinewidth": 2
          },
          "yaxis": {
           "automargin": true,
           "gridcolor": "white",
           "linecolor": "white",
           "ticks": "",
           "title": {
            "standoff": 15
           },
           "zerolinecolor": "white",
           "zerolinewidth": 2
          }
         }
        },
        "xaxis": {
         "categoryorder": "total descending"
        }
       }
      },
      "text/html": "<div>\n        \n        \n            <div id=\"f2e20144-4152-47ca-8987-95560af66d8d\" class=\"plotly-graph-div\" style=\"height:525px; width:100%;\"></div>\n            <script type=\"text/javascript\">\n                require([\"plotly\"], function(Plotly) {\n                    window.PLOTLYENV=window.PLOTLYENV || {};\n                    \n                if (document.getElementById(\"f2e20144-4152-47ca-8987-95560af66d8d\")) {\n                    Plotly.newPlot(\n                        'f2e20144-4152-47ca-8987-95560af66d8d',\n                        [{\"type\": \"bar\", \"x\": [\"Alabama\", \"Arizona\", \"Arkansas\", \"California\", \"Colorado\", \"Connecticut\", \"Delaware\", \"Florida\", \"Georgia\", \"Idaho\", \"Illinois\", \"Indiana\", \"Iowa\", \"Kansas\", \"Kentucky\", \"Louisiana\", \"Maine\", \"Maryland\", \"Massachusetts\", \"Michigan\", \"Minnesota\", \"Mississippi\", \"Missouri\", \"Montana\", \"Nebraska\", \"Nevada\", \"Ohio\", \"Oklahoma\", \"Oregon\", \"Pennsylvania\", \"Tennessee\", \"Texas\", \"Utah\", \"Vermont\", \"Virginia\", \"Washington\", \"Wisconsin\", \"Wyoming\"], \"y\": [320.88371159255416, 345.00390837820277, 342.02944073300256, 202.18914934356613, 336.60366561223356, 448.9958311412193, 765.5942552285129, 384.7177017018055, 390.32534188311104, 464.01654023947714, 390.68268461634125, 296.7714935022516, 543.5956027293944, 445.2712979435813, 432.2239786516621, 345.5327032166204, 246.58587349524336, 260.7694574960556, 386.9934198429826, 223.7828635834279, 609.351710152045, 348.6811128525746, 285.28659607069045, 606.9213896278859, 559.6365715055985, 621.1668497791378, 307.2876225890655, 295.96520039173896, 356.104069559042, 213.84523044710048, 387.24239873203004, 344.2357003455827, 346.56914254091964, 349.04185997561893, 296.1422082413292, 343.15377024878916, 457.1495309548987, 983.9414357560341]}],\n                        {\"barmode\": \"stack\", \"template\": {\"data\": {\"bar\": [{\"error_x\": {\"color\": \"#2a3f5f\"}, \"error_y\": {\"color\": \"#2a3f5f\"}, \"marker\": {\"line\": {\"color\": \"#E5ECF6\", \"width\": 0.5}}, \"type\": \"bar\"}], \"barpolar\": [{\"marker\": {\"line\": {\"color\": \"#E5ECF6\", \"width\": 0.5}}, \"type\": \"barpolar\"}], \"carpet\": [{\"aaxis\": {\"endlinecolor\": \"#2a3f5f\", \"gridcolor\": \"white\", \"linecolor\": \"white\", \"minorgridcolor\": \"white\", \"startlinecolor\": \"#2a3f5f\"}, \"baxis\": {\"endlinecolor\": \"#2a3f5f\", \"gridcolor\": \"white\", \"linecolor\": \"white\", \"minorgridcolor\": \"white\", \"startlinecolor\": \"#2a3f5f\"}, \"type\": \"carpet\"}], \"choropleth\": [{\"colorbar\": {\"outlinewidth\": 0, \"ticks\": \"\"}, \"type\": \"choropleth\"}], \"contour\": [{\"colorbar\": {\"outlinewidth\": 0, \"ticks\": \"\"}, \"colorscale\": [[0.0, \"#0d0887\"], [0.1111111111111111, \"#46039f\"], [0.2222222222222222, \"#7201a8\"], [0.3333333333333333, \"#9c179e\"], [0.4444444444444444, \"#bd3786\"], [0.5555555555555556, \"#d8576b\"], [0.6666666666666666, \"#ed7953\"], [0.7777777777777778, \"#fb9f3a\"], [0.8888888888888888, \"#fdca26\"], [1.0, \"#f0f921\"]], \"type\": \"contour\"}], \"contourcarpet\": [{\"colorbar\": {\"outlinewidth\": 0, \"ticks\": \"\"}, \"type\": \"contourcarpet\"}], \"heatmap\": [{\"colorbar\": {\"outlinewidth\": 0, \"ticks\": \"\"}, \"colorscale\": [[0.0, \"#0d0887\"], [0.1111111111111111, \"#46039f\"], [0.2222222222222222, \"#7201a8\"], [0.3333333333333333, \"#9c179e\"], [0.4444444444444444, \"#bd3786\"], [0.5555555555555556, \"#d8576b\"], [0.6666666666666666, \"#ed7953\"], [0.7777777777777778, \"#fb9f3a\"], [0.8888888888888888, \"#fdca26\"], [1.0, \"#f0f921\"]], \"type\": \"heatmap\"}], \"heatmapgl\": [{\"colorbar\": {\"outlinewidth\": 0, \"ticks\": \"\"}, \"colorscale\": [[0.0, \"#0d0887\"], [0.1111111111111111, \"#46039f\"], [0.2222222222222222, \"#7201a8\"], [0.3333333333333333, \"#9c179e\"], [0.4444444444444444, \"#bd3786\"], [0.5555555555555556, \"#d8576b\"], [0.6666666666666666, \"#ed7953\"], [0.7777777777777778, \"#fb9f3a\"], [0.8888888888888888, \"#fdca26\"], [1.0, \"#f0f921\"]], \"type\": \"heatmapgl\"}], \"histogram\": [{\"marker\": {\"colorbar\": {\"outlinewidth\": 0, \"ticks\": \"\"}}, \"type\": \"histogram\"}], \"histogram2d\": [{\"colorbar\": {\"outlinewidth\": 0, \"ticks\": \"\"}, \"colorscale\": [[0.0, \"#0d0887\"], [0.1111111111111111, \"#46039f\"], [0.2222222222222222, \"#7201a8\"], [0.3333333333333333, \"#9c179e\"], [0.4444444444444444, \"#bd3786\"], [0.5555555555555556, \"#d8576b\"], [0.6666666666666666, \"#ed7953\"], [0.7777777777777778, \"#fb9f3a\"], [0.8888888888888888, \"#fdca26\"], [1.0, \"#f0f921\"]], \"type\": \"histogram2d\"}], \"histogram2dcontour\": [{\"colorbar\": {\"outlinewidth\": 0, \"ticks\": \"\"}, \"colorscale\": [[0.0, \"#0d0887\"], [0.1111111111111111, \"#46039f\"], [0.2222222222222222, \"#7201a8\"], [0.3333333333333333, \"#9c179e\"], [0.4444444444444444, \"#bd3786\"], [0.5555555555555556, \"#d8576b\"], [0.6666666666666666, \"#ed7953\"], [0.7777777777777778, \"#fb9f3a\"], [0.8888888888888888, \"#fdca26\"], [1.0, \"#f0f921\"]], \"type\": \"histogram2dcontour\"}], \"mesh3d\": [{\"colorbar\": {\"outlinewidth\": 0, \"ticks\": \"\"}, \"type\": \"mesh3d\"}], \"parcoords\": [{\"line\": {\"colorbar\": {\"outlinewidth\": 0, \"ticks\": \"\"}}, \"type\": \"parcoords\"}], \"pie\": [{\"automargin\": true, \"type\": \"pie\"}], \"scatter\": [{\"marker\": {\"colorbar\": {\"outlinewidth\": 0, \"ticks\": \"\"}}, \"type\": \"scatter\"}], \"scatter3d\": [{\"line\": {\"colorbar\": {\"outlinewidth\": 0, \"ticks\": \"\"}}, \"marker\": {\"colorbar\": {\"outlinewidth\": 0, \"ticks\": \"\"}}, \"type\": \"scatter3d\"}], \"scattercarpet\": [{\"marker\": {\"colorbar\": {\"outlinewidth\": 0, \"ticks\": \"\"}}, \"type\": \"scattercarpet\"}], \"scattergeo\": [{\"marker\": {\"colorbar\": {\"outlinewidth\": 0, \"ticks\": \"\"}}, \"type\": \"scattergeo\"}], \"scattergl\": [{\"marker\": {\"colorbar\": {\"outlinewidth\": 0, \"ticks\": \"\"}}, \"type\": \"scattergl\"}], \"scattermapbox\": [{\"marker\": {\"colorbar\": {\"outlinewidth\": 0, \"ticks\": \"\"}}, \"type\": \"scattermapbox\"}], \"scatterpolar\": [{\"marker\": {\"colorbar\": {\"outlinewidth\": 0, \"ticks\": \"\"}}, \"type\": \"scatterpolar\"}], \"scatterpolargl\": [{\"marker\": {\"colorbar\": {\"outlinewidth\": 0, \"ticks\": \"\"}}, \"type\": \"scatterpolargl\"}], \"scatterternary\": [{\"marker\": {\"colorbar\": {\"outlinewidth\": 0, \"ticks\": \"\"}}, \"type\": \"scatterternary\"}], \"surface\": [{\"colorbar\": {\"outlinewidth\": 0, \"ticks\": \"\"}, \"colorscale\": [[0.0, \"#0d0887\"], [0.1111111111111111, \"#46039f\"], [0.2222222222222222, \"#7201a8\"], [0.3333333333333333, \"#9c179e\"], [0.4444444444444444, \"#bd3786\"], [0.5555555555555556, \"#d8576b\"], [0.6666666666666666, \"#ed7953\"], [0.7777777777777778, \"#fb9f3a\"], [0.8888888888888888, \"#fdca26\"], [1.0, \"#f0f921\"]], \"type\": \"surface\"}], \"table\": [{\"cells\": {\"fill\": {\"color\": \"#EBF0F8\"}, \"line\": {\"color\": \"white\"}}, \"header\": {\"fill\": {\"color\": \"#C8D4E3\"}, \"line\": {\"color\": \"white\"}}, \"type\": \"table\"}]}, \"layout\": {\"annotationdefaults\": {\"arrowcolor\": \"#2a3f5f\", \"arrowhead\": 0, \"arrowwidth\": 1}, \"coloraxis\": {\"colorbar\": {\"outlinewidth\": 0, \"ticks\": \"\"}}, \"colorscale\": {\"diverging\": [[0, \"#8e0152\"], [0.1, \"#c51b7d\"], [0.2, \"#de77ae\"], [0.3, \"#f1b6da\"], [0.4, \"#fde0ef\"], [0.5, \"#f7f7f7\"], [0.6, \"#e6f5d0\"], [0.7, \"#b8e186\"], [0.8, \"#7fbc41\"], [0.9, \"#4d9221\"], [1, \"#276419\"]], \"sequential\": [[0.0, \"#0d0887\"], [0.1111111111111111, \"#46039f\"], [0.2222222222222222, \"#7201a8\"], [0.3333333333333333, \"#9c179e\"], [0.4444444444444444, \"#bd3786\"], [0.5555555555555556, \"#d8576b\"], [0.6666666666666666, \"#ed7953\"], [0.7777777777777778, \"#fb9f3a\"], [0.8888888888888888, \"#fdca26\"], [1.0, \"#f0f921\"]], \"sequentialminus\": [[0.0, \"#0d0887\"], [0.1111111111111111, \"#46039f\"], [0.2222222222222222, \"#7201a8\"], [0.3333333333333333, \"#9c179e\"], [0.4444444444444444, \"#bd3786\"], [0.5555555555555556, \"#d8576b\"], [0.6666666666666666, \"#ed7953\"], [0.7777777777777778, \"#fb9f3a\"], [0.8888888888888888, \"#fdca26\"], [1.0, \"#f0f921\"]]}, \"colorway\": [\"#636efa\", \"#EF553B\", \"#00cc96\", \"#ab63fa\", \"#FFA15A\", \"#19d3f3\", \"#FF6692\", \"#B6E880\", \"#FF97FF\", \"#FECB52\"], \"font\": {\"color\": \"#2a3f5f\"}, \"geo\": {\"bgcolor\": \"white\", \"lakecolor\": \"white\", \"landcolor\": \"#E5ECF6\", \"showlakes\": true, \"showland\": true, \"subunitcolor\": \"white\"}, \"hoverlabel\": {\"align\": \"left\"}, \"hovermode\": \"closest\", \"mapbox\": {\"style\": \"light\"}, \"paper_bgcolor\": \"white\", \"plot_bgcolor\": \"#E5ECF6\", \"polar\": {\"angularaxis\": {\"gridcolor\": \"white\", \"linecolor\": \"white\", \"ticks\": \"\"}, \"bgcolor\": \"#E5ECF6\", \"radialaxis\": {\"gridcolor\": \"white\", \"linecolor\": \"white\", \"ticks\": \"\"}}, \"scene\": {\"xaxis\": {\"backgroundcolor\": \"#E5ECF6\", \"gridcolor\": \"white\", \"gridwidth\": 2, \"linecolor\": \"white\", \"showbackground\": true, \"ticks\": \"\", \"zerolinecolor\": \"white\"}, \"yaxis\": {\"backgroundcolor\": \"#E5ECF6\", \"gridcolor\": \"white\", \"gridwidth\": 2, \"linecolor\": \"white\", \"showbackground\": true, \"ticks\": \"\", \"zerolinecolor\": \"white\"}, \"zaxis\": {\"backgroundcolor\": \"#E5ECF6\", \"gridcolor\": \"white\", \"gridwidth\": 2, \"linecolor\": \"white\", \"showbackground\": true, \"ticks\": \"\", \"zerolinecolor\": \"white\"}}, \"shapedefaults\": {\"line\": {\"color\": \"#2a3f5f\"}}, \"ternary\": {\"aaxis\": {\"gridcolor\": \"white\", \"linecolor\": \"white\", \"ticks\": \"\"}, \"baxis\": {\"gridcolor\": \"white\", \"linecolor\": \"white\", \"ticks\": \"\"}, \"bgcolor\": \"#E5ECF6\", \"caxis\": {\"gridcolor\": \"white\", \"linecolor\": \"white\", \"ticks\": \"\"}}, \"title\": {\"x\": 0.05}, \"xaxis\": {\"automargin\": true, \"gridcolor\": \"white\", \"linecolor\": \"white\", \"ticks\": \"\", \"title\": {\"standoff\": 15}, \"zerolinecolor\": \"white\", \"zerolinewidth\": 2}, \"yaxis\": {\"automargin\": true, \"gridcolor\": \"white\", \"linecolor\": \"white\", \"ticks\": \"\", \"title\": {\"standoff\": 15}, \"zerolinecolor\": \"white\", \"zerolinewidth\": 2}}}, \"xaxis\": {\"categoryorder\": \"total descending\"}},\n                        {\"responsive\": true}\n                    ).then(function(){\n                            \nvar gd = document.getElementById('f2e20144-4152-47ca-8987-95560af66d8d');\nvar x = new MutationObserver(function (mutations, observer) {{\n        var display = window.getComputedStyle(gd).display;\n        if (!display || display === 'none') {{\n            console.log([gd, 'removed!']);\n            Plotly.purge(gd);\n            observer.disconnect();\n        }}\n}});\n\n// Listen for the removal of the full notebook cells\nvar notebookContainer = gd.closest('#notebook-container');\nif (notebookContainer) {{\n    x.observe(notebookContainer, {childList: true});\n}}\n\n// Listen for the clearing of the current output cell\nvar outputEl = gd.closest('.output');\nif (outputEl) {{\n    x.observe(outputEl, {childList: true});\n}}\n\n                        })\n                };\n                });\n            </script>\n        </div>"
     },
     "metadata": {}
    }
   ],
   "source": [
    "fig = go.Figure()\n",
    "fig.add_trace(go.Bar(x=state_infra['State'], y = state_infra[1992]))\n",
    "fig.update_layout(barmode='stack', xaxis={'categoryorder':'total descending'})\n",
    "fig.show()"
   ]
  },
  {
   "cell_type": "code",
   "execution_count": 164,
   "metadata": {},
   "outputs": [
    {
     "output_type": "display_data",
     "data": {
      "application/vnd.plotly.v1+json": {
       "config": {
        "plotlyServerURL": "https://plot.ly"
       },
       "data": [
        {
         "type": "bar",
         "x": [
          "Alabama",
          "Arizona",
          "Arkansas",
          "California",
          "Colorado",
          "Connecticut",
          "Delaware",
          "Florida",
          "Georgia",
          "Idaho",
          "Illinois",
          "Indiana",
          "Iowa",
          "Kansas",
          "Kentucky",
          "Louisiana",
          "Maine",
          "Maryland",
          "Massachusetts",
          "Michigan",
          "Minnesota",
          "Mississippi",
          "Missouri",
          "Montana",
          "Nebraska",
          "Nevada",
          "Ohio",
          "Oklahoma",
          "Oregon",
          "Pennsylvania",
          "Tennessee",
          "Texas",
          "Utah",
          "Vermont",
          "Virginia",
          "Washington",
          "Wisconsin",
          "Wyoming"
         ],
         "y": [
          320.88371159255416,
          345.00390837820277,
          342.02944073300256,
          202.18914934356613,
          336.60366561223356,
          448.9958311412193,
          765.5942552285129,
          384.7177017018055,
          390.32534188311104,
          464.01654023947714,
          390.68268461634125,
          296.7714935022516,
          543.5956027293944,
          445.2712979435813,
          432.2239786516621,
          345.5327032166204,
          246.58587349524336,
          260.7694574960556,
          386.9934198429826,
          223.7828635834279,
          609.351710152045,
          348.6811128525746,
          285.28659607069045,
          606.9213896278859,
          559.6365715055985,
          621.1668497791378,
          307.2876225890655,
          295.96520039173896,
          356.104069559042,
          213.84523044710048,
          387.24239873203004,
          344.2357003455827,
          346.56914254091964,
          349.04185997561893,
          296.1422082413292,
          343.15377024878916,
          457.1495309548987,
          983.9414357560341
         ]
        }
       ],
       "frames": [
        {
         "data": [
          {
           "type": "bar",
           "x": [
            "Alabama",
            "Arizona",
            "Arkansas",
            "California",
            "Colorado",
            "Connecticut",
            "Delaware",
            "Florida",
            "Georgia",
            "Idaho",
            "Illinois",
            "Indiana",
            "Iowa",
            "Kansas",
            "Kentucky",
            "Louisiana",
            "Maine",
            "Maryland",
            "Massachusetts",
            "Michigan",
            "Minnesota",
            "Mississippi",
            "Missouri",
            "Montana",
            "Nebraska",
            "Nevada",
            "Ohio",
            "Oklahoma",
            "Oregon",
            "Pennsylvania",
            "Tennessee",
            "Texas",
            "Utah",
            "Vermont",
            "Virginia",
            "Washington",
            "Wisconsin",
            "Wyoming"
           ],
           "y": [
            320.88371159255416,
            345.00390837820277,
            342.02944073300256,
            202.18914934356613,
            336.60366561223356,
            448.9958311412193,
            765.5942552285129,
            384.7177017018055,
            390.32534188311104,
            464.01654023947714,
            390.68268461634125,
            296.7714935022516,
            543.5956027293944,
            445.2712979435813,
            432.2239786516621,
            345.5327032166204,
            246.58587349524336,
            260.7694574960556,
            386.9934198429826,
            223.7828635834279,
            609.351710152045,
            348.6811128525746,
            285.28659607069045,
            606.9213896278859,
            559.6365715055985,
            621.1668497791378,
            307.2876225890655,
            295.96520039173896,
            356.104069559042,
            213.84523044710048,
            387.24239873203004,
            344.2357003455827,
            346.56914254091964,
            349.04185997561893,
            296.1422082413292,
            343.15377024878916,
            457.1495309548987,
            983.9414357560341
           ]
          }
         ],
         "layout": {
          "title": {
           "text": "Infrastructure Spending Over Time 1992"
          },
          "xaxis": {
           "categoryorder": "total descending"
          }
         }
        },
        {
         "data": [
          {
           "type": "bar",
           "x": [
            "Alabama",
            "Arizona",
            "Arkansas",
            "California",
            "Colorado",
            "Connecticut",
            "Delaware",
            "Florida",
            "Georgia",
            "Idaho",
            "Illinois",
            "Indiana",
            "Iowa",
            "Kansas",
            "Kentucky",
            "Louisiana",
            "Maine",
            "Maryland",
            "Massachusetts",
            "Michigan",
            "Minnesota",
            "Mississippi",
            "Missouri",
            "Montana",
            "Nebraska",
            "Nevada",
            "Ohio",
            "Oklahoma",
            "Oregon",
            "Pennsylvania",
            "Tennessee",
            "Texas",
            "Utah",
            "Vermont",
            "Virginia",
            "Washington",
            "Wisconsin",
            "Wyoming"
           ],
           "y": [
            329.4258157541149,
            347.46944325497884,
            351.35160782310663,
            208.44019149324717,
            340.14138062346314,
            467.3258310222854,
            785.5934808249044,
            394.0044013264795,
            398.002086424144,
            467.3539144427373,
            403.15448153434295,
            305.7491584041642,
            562.5995160475443,
            459.15124204890475,
            445.2433464968905,
            358.1796740019077,
            255.92365391324572,
            269.00109741944567,
            401.29771261598125,
            231.28969361669976,
            626.6741181265756,
            359.1274614182717,
            294.19444239203915,
            618.0757635650976,
            578.4905737621026,
            622.8284802821627,
            317.7592287892426,
            305.4460301242339,
            362.9486338725783,
            221.62948190203932,
            397.0473090446758,
            351.10806587228683,
            349.95386443339606,
            360.535815081428,
            304.09873785634346,
            349.47969626335623,
            470.6576322201689,
            1011.1847140819516
           ]
          }
         ],
         "layout": {
          "title": {
           "text": "Infrastructure Spending Over Time 1993"
          },
          "xaxis": {
           "categoryorder": "total descending"
          }
         }
        },
        {
         "data": [
          {
           "type": "bar",
           "x": [
            "Alabama",
            "Arizona",
            "Arkansas",
            "California",
            "Colorado",
            "Connecticut",
            "Delaware",
            "Florida",
            "Georgia",
            "Idaho",
            "Illinois",
            "Indiana",
            "Iowa",
            "Kansas",
            "Kentucky",
            "Louisiana",
            "Maine",
            "Maryland",
            "Massachusetts",
            "Michigan",
            "Minnesota",
            "Mississippi",
            "Missouri",
            "Montana",
            "Nebraska",
            "Nevada",
            "Ohio",
            "Oklahoma",
            "Oregon",
            "Pennsylvania",
            "Tennessee",
            "Texas",
            "Utah",
            "Vermont",
            "Virginia",
            "Washington",
            "Wisconsin",
            "Wyoming"
           ],
           "y": [
            327.56897352092443,
            357.54459066424823,
            380.41218393009075,
            213.14943469205832,
            352.900865100673,
            456.6337223782305,
            798.4785775589484,
            422.4483121729737,
            429.41157268766233,
            490.8904680838323,
            402.96650923601266,
            312.19992390733404,
            595.2137927817059,
            543.8609670711894,
            452.33134940096227,
            369.8425635667015,
            290.7100098813351,
            275.7249101428147,
            471.09918306873817,
            231.1257124929352,
            633.637594863632,
            407.7557303497344,
            334.7220312936098,
            642.5315496249369,
            609.098942925631,
            669.8180704592457,
            315.6843332162469,
            331.89048214190547,
            370.3904776651025,
            228.93848434861567,
            410.91427956062887,
            364.6244238634959,
            363.05528906423206,
            350.81879426498534,
            344.6467682591298,
            417.582085948817,
            472.8572482722023,
            1028.1800152426829
           ]
          }
         ],
         "layout": {
          "title": {
           "text": "Infrastructure Spending Over Time 1994"
          },
          "xaxis": {
           "categoryorder": "total descending"
          }
         }
        },
        {
         "data": [
          {
           "type": "bar",
           "x": [
            "Alabama",
            "Arizona",
            "Arkansas",
            "California",
            "Colorado",
            "Connecticut",
            "Delaware",
            "Florida",
            "Georgia",
            "Idaho",
            "Illinois",
            "Indiana",
            "Iowa",
            "Kansas",
            "Kentucky",
            "Louisiana",
            "Maine",
            "Maryland",
            "Massachusetts",
            "Michigan",
            "Minnesota",
            "Mississippi",
            "Missouri",
            "Montana",
            "Nebraska",
            "Nevada",
            "Ohio",
            "Oklahoma",
            "Oregon",
            "Pennsylvania",
            "Tennessee",
            "Texas",
            "Utah",
            "Vermont",
            "Virginia",
            "Washington",
            "Wisconsin",
            "Wyoming"
           ],
           "y": [
            294.495008012469,
            332.8195076374978,
            371.7883119412319,
            196.95991477613256,
            332.1780998223411,
            400.6317350387852,
            732.7309558449875,
            410.16071238864345,
            419.11526377129815,
            468.4575107296137,
            363.35764562448173,
            288.01849643436714,
            569.1002020514915,
            575.9549305705347,
            415.12478574659787,
            345.3330862587564,
            297.2375181625261,
            255.757666238691,
            494.20973931661644,
            207.90971225185098,
            579.4352120153427,
            416.3598172728584,
            342.4224497193222,
            605.3893856459596,
            578.6427111529151,
            653.2835401241466,
            282.56008049128803,
            325.67315674831815,
            341.70364303288227,
            214.1302705404333,
            384.6810481938377,
            342.63842268181304,
            342.3365544063206,
            307.4308499777807,
            351.6679512442224,
            443.20039830426083,
            428.77716271974873,
            950.0090919161371
           ]
          }
         ],
         "layout": {
          "title": {
           "text": "Infrastructure Spending Over Time 1995"
          },
          "xaxis": {
           "categoryorder": "total descending"
          }
         }
        },
        {
         "data": [
          {
           "type": "bar",
           "x": [
            "Alabama",
            "Arizona",
            "Arkansas",
            "California",
            "Colorado",
            "Connecticut",
            "Delaware",
            "Florida",
            "Georgia",
            "Idaho",
            "Illinois",
            "Indiana",
            "Iowa",
            "Kansas",
            "Kentucky",
            "Louisiana",
            "Maine",
            "Maryland",
            "Massachusetts",
            "Michigan",
            "Minnesota",
            "Mississippi",
            "Missouri",
            "Montana",
            "Nebraska",
            "Nevada",
            "Ohio",
            "Oklahoma",
            "Oregon",
            "Pennsylvania",
            "Tennessee",
            "Texas",
            "Utah",
            "Vermont",
            "Virginia",
            "Washington",
            "Wisconsin",
            "Wyoming"
           ],
           "y": [
            276.69452030496905,
            327.55259787902827,
            381.1501490304042,
            189.89249776964598,
            328.6258404769723,
            364.70494608252756,
            705.1685485978352,
            416.52728016413215,
            428.1248870567938,
            471.23109591094084,
            342.69170684555166,
            278.37371214764653,
            570.9768005524363,
            634.0590224403506,
            399.4392240658523,
            338.6078013479879,
            316.09200957600706,
            248.7112285951235,
            539.3719025213327,
            195.31687665003554,
            554.1778199776536,
            444.57577239222485,
            365.2075080553096,
            601.6019966782865,
            576.4670680851657,
            665.8352521428446,
            264.2125275050612,
            334.11163673527204,
            330.3825529633466,
            209.92376811844616,
            377.85363378636157,
            337.784011987642,
            338.57187997743114,
            280.5004502414932,
            374.1805367376537,
            488.16262468550144,
            406.93853757797905,
            922.6616120062072
           ]
          }
         ],
         "layout": {
          "title": {
           "text": "Infrastructure Spending Over Time 1996"
          },
          "xaxis": {
           "categoryorder": "total descending"
          }
         }
        },
        {
         "data": [
          {
           "type": "bar",
           "x": [
            "Alabama",
            "Arizona",
            "Arkansas",
            "California",
            "Colorado",
            "Connecticut",
            "Delaware",
            "Florida",
            "Georgia",
            "Idaho",
            "Illinois",
            "Indiana",
            "Iowa",
            "Kansas",
            "Kentucky",
            "Louisiana",
            "Maine",
            "Maryland",
            "Massachusetts",
            "Michigan",
            "Minnesota",
            "Mississippi",
            "Missouri",
            "Montana",
            "Nebraska",
            "Nevada",
            "Ohio",
            "Oklahoma",
            "Oregon",
            "Pennsylvania",
            "Tennessee",
            "Texas",
            "Utah",
            "Vermont",
            "Virginia",
            "Washington",
            "Wisconsin",
            "Wyoming"
           ],
           "y": [
            291.6395947393237,
            326.38739846408566,
            396.99969136377194,
            199.00658358440643,
            364.4058671500707,
            356.17990316088594,
            688.3571148697187,
            421.94853354309475,
            428.3305820097904,
            458.1782498153866,
            357.43960230142613,
            275.97017899076525,
            568.6772262853508,
            612.6121270982086,
            409.0389619163236,
            334.0743992149635,
            314.7400248149918,
            256.8176097220569,
            550.6938462353544,
            193.25886903514913,
            546.2386240151408,
            430.990480360023,
            367.86248040312825,
            605.70543503743,
            571.9716045849078,
            642.6552938950728,
            272.11046102304766,
            348.69725027525004,
            314.3321491317053,
            232.70548127612375,
            366.7038336258906,
            338.45014114129333,
            354.581225788553,
            294.8315255705707,
            376.61249765701973,
            472.7663025585709,
            425.77345062290453,
            932.0085577806433
           ]
          }
         ],
         "layout": {
          "title": {
           "text": "Infrastructure Spending Over Time 1997"
          },
          "xaxis": {
           "categoryorder": "total descending"
          }
         }
        },
        {
         "data": [
          {
           "type": "bar",
           "x": [
            "Alabama",
            "Arizona",
            "Arkansas",
            "California",
            "Colorado",
            "Connecticut",
            "Delaware",
            "Florida",
            "Georgia",
            "Idaho",
            "Illinois",
            "Indiana",
            "Iowa",
            "Kansas",
            "Kentucky",
            "Louisiana",
            "Maine",
            "Maryland",
            "Massachusetts",
            "Michigan",
            "Minnesota",
            "Mississippi",
            "Missouri",
            "Montana",
            "Nebraska",
            "Nevada",
            "Ohio",
            "Oklahoma",
            "Oregon",
            "Pennsylvania",
            "Tennessee",
            "Texas",
            "Utah",
            "Vermont",
            "Virginia",
            "Washington",
            "Wisconsin",
            "Wyoming"
           ],
           "y": [
            316.06787071679696,
            335.51276258083675,
            426.39789898518717,
            214.3161016160369,
            412.44031507442617,
            357.22612521134045,
            690.2143089457119,
            441.2272952590616,
            441.7146968214064,
            459.5120897082921,
            383.71588399252545,
            281.71528384456883,
            582.8383184348266,
            607.1023740396192,
            431.3844104811263,
            339.1918598281179,
            322.9607696340199,
            272.9567928091458,
            579.1479958928503,
            197.01939801619739,
            554.2694023012388,
            429.82334030570615,
            382.2178027579272,
            628.8268888148597,
            585.4150961119286,
            644.1908689897532,
            288.5847632159884,
            374.4279794626585,
            307.91683868795616,
            263.8963654470728,
            366.6999283410634,
            349.2167793563733,
            383.26790639838293,
            319.03606460778315,
            391.0422765485015,
            471.88067439403983,
            458.80450176977797,
            969.2987115791228
           ]
          }
         ],
         "layout": {
          "title": {
           "text": "Infrastructure Spending Over Time 1998"
          },
          "xaxis": {
           "categoryorder": "total descending"
          }
         }
        },
        {
         "data": [
          {
           "type": "bar",
           "x": [
            "Alabama",
            "Arizona",
            "Arkansas",
            "California",
            "Colorado",
            "Connecticut",
            "Delaware",
            "Florida",
            "Georgia",
            "Idaho",
            "Illinois",
            "Indiana",
            "Iowa",
            "Kansas",
            "Kentucky",
            "Louisiana",
            "Maine",
            "Maryland",
            "Massachusetts",
            "Michigan",
            "Minnesota",
            "Mississippi",
            "Missouri",
            "Montana",
            "Nebraska",
            "Nevada",
            "Ohio",
            "Oklahoma",
            "Oregon",
            "Pennsylvania",
            "Tennessee",
            "Texas",
            "Utah",
            "Vermont",
            "Virginia",
            "Washington",
            "Wisconsin",
            "Wyoming"
           ],
           "y": [
            342.478320825692,
            344.8270233211087,
            457.1072124695213,
            230.17140290421628,
            461.4515845510983,
            356.2985846264097,
            689.750218303523,
            461.36353830300146,
            454.8735015870081,
            459.5861628185668,
            410.99141929212254,
            286.9507669739072,
            595.6751433132839,
            600.6261369407985,
            454.18441865015495,
            343.6129857148902,
            329.84980527357465,
            289.3143637001381,
            607.8967231504109,
            200.19191435327753,
            559.8723737872494,
            427.37299715128734,
            396.45592499951533,
            649.8840593172243,
            597.6478186441045,
            646.5850823516666,
            305.69607984752844,
            401.9042037567107,
            300.4875527493596,
            297.1204974213808,
            365.7363361408289,
            360.30723391937823,
            414.08164760103585,
            343.60662916428066,
            403.76830083085605,
            470.88255931134273,
            492.6053900944796,
            1007.2664417579576
           ]
          }
         ],
         "layout": {
          "title": {
           "text": "Infrastructure Spending Over Time 1999"
          },
          "xaxis": {
           "categoryorder": "total descending"
          }
         }
        },
        {
         "data": [
          {
           "type": "bar",
           "x": [
            "Alabama",
            "Arizona",
            "Arkansas",
            "California",
            "Colorado",
            "Connecticut",
            "Delaware",
            "Florida",
            "Georgia",
            "Idaho",
            "Illinois",
            "Indiana",
            "Iowa",
            "Kansas",
            "Kentucky",
            "Louisiana",
            "Maine",
            "Maryland",
            "Massachusetts",
            "Michigan",
            "Minnesota",
            "Mississippi",
            "Missouri",
            "Montana",
            "Nebraska",
            "Nevada",
            "Ohio",
            "Oklahoma",
            "Oregon",
            "Pennsylvania",
            "Tennessee",
            "Texas",
            "Utah",
            "Vermont",
            "Virginia",
            "Washington",
            "Wisconsin",
            "Wyoming"
           ],
           "y": [
            357.0299267346529,
            328.29643765262324,
            458.1809520538434,
            238.59719570835298,
            480.10559933957666,
            334.2038474378601,
            652.7436725319917,
            449.92224652851235,
            441.925744074334,
            439.52271380528384,
            421.3768021823105,
            280.12861740556997,
            584.1607583575247,
            573.7123289654567,
            460.14950280574,
            332.87595723056387,
            324.2503163486475,
            294.07192648361877,
            608.3175184684923,
            197.7162407246457,
            540.0278331115927,
            405.16782856619244,
            394.092328105313,
            643.3573474755276,
            581.0621885612258,
            589.6848580377572,
            313.9562194642991,
            411.781325945579,
            278.7639647456868,
            317.53720824348534,
            345.266483148977,
            353.50910040865625,
            419.8967075992804,
            353.77564310765104,
            398.89938060605846,
            451.87235894284623,
            507.31587408185226,
            991.3979364758244
           ]
          }
         ],
         "layout": {
          "title": {
           "text": "Infrastructure Spending Over Time 2000"
          },
          "xaxis": {
           "categoryorder": "total descending"
          }
         }
        },
        {
         "data": [
          {
           "type": "bar",
           "x": [
            "Alabama",
            "Arizona",
            "Arkansas",
            "California",
            "Colorado",
            "Connecticut",
            "Delaware",
            "Florida",
            "Georgia",
            "Idaho",
            "Illinois",
            "Indiana",
            "Iowa",
            "Kansas",
            "Kentucky",
            "Louisiana",
            "Maine",
            "Maryland",
            "Massachusetts",
            "Michigan",
            "Minnesota",
            "Mississippi",
            "Missouri",
            "Montana",
            "Nebraska",
            "Nevada",
            "Ohio",
            "Oklahoma",
            "Oregon",
            "Pennsylvania",
            "Tennessee",
            "Texas",
            "Utah",
            "Vermont",
            "Virginia",
            "Washington",
            "Wisconsin",
            "Wyoming"
           ],
           "y": [
            385.58619618348325,
            337.443208721684,
            489.8518374584954,
            255.078371591572,
            529.1470002284391,
            329.9375006372284,
            649.806019612944,
            466.93292631408536,
            455.03028636136065,
            438.32852763943197,
            450.2266695333166,
            284.49563951590795,
            596.3931750271231,
            564.4413621389094,
            484.5012403727313,
            336.061859699076,
            329.43348795823573,
            309.7670173038785,
            636.8915445928917,
            200.31127641345515,
            543.8249930360384,
            401.93565075846635,
            407.86085512472476,
            663.6316225284219,
            591.1743910465882,
            589.6643107435716,
            331.7742129812906,
            441.4049205387788,
            268.9082875496297,
            353.2307176942459,
            342.7973100734525,
            363.703915575989,
            449.7894877425598,
            380.08209426957166,
            410.8527745617684,
            448.3409018995536,
            542.5676944090212,
            1026.44863006083
           ]
          }
         ],
         "layout": {
          "title": {
           "text": "Infrastructure Spending Over Time 2001"
          },
          "xaxis": {
           "categoryorder": "total descending"
          }
         }
        },
        {
         "data": [
          {
           "type": "bar",
           "x": [
            "Alabama",
            "Arizona",
            "Arkansas",
            "California",
            "Colorado",
            "Connecticut",
            "Delaware",
            "Florida",
            "Georgia",
            "Idaho",
            "Illinois",
            "Indiana",
            "Iowa",
            "Kansas",
            "Kentucky",
            "Louisiana",
            "Maine",
            "Maryland",
            "Massachusetts",
            "Michigan",
            "Minnesota",
            "Mississippi",
            "Missouri",
            "Montana",
            "Nebraska",
            "Nevada",
            "Ohio",
            "Oklahoma",
            "Oregon",
            "Pennsylvania",
            "Tennessee",
            "Texas",
            "Utah",
            "Vermont",
            "Virginia",
            "Washington",
            "Wisconsin",
            "Wyoming"
           ],
           "y": [
            397.7811601510595,
            330.98899143943345,
            499.92220780531034,
            261.0906455388664,
            559.0416545853537,
            309.8915243632885,
            616.353394883703,
            462.5626970940186,
            448.8401618381017,
            417.366223705061,
            460.0842469587777,
            276.269999498048,
            581.6052843774559,
            528.0650516761347,
            487.14838473058467,
            322.81138744931087,
            319.25136578289454,
            311.65253072896076,
            638.8948710700575,
            194.02448753009023,
            524.2470763219687,
            379.741915939554,
            403.37860638874326,
            652.9686826439918,
            573.5483355821816,
            565.3464385490602,
            335.1034534084264,
            450.6612058192991,
            246.02552951195185,
            373.66575430716216,
            324.6455522662674,
            357.76310405676264,
            459.5058101397316,
            389.5151777096786,
            404.6593099673893,
            424.9652490297569,
            553.5965688440492,
            1005.257821234078
           ]
          }
         ],
         "layout": {
          "title": {
           "text": "Infrastructure Spending Over Time 2002"
          },
          "xaxis": {
           "categoryorder": "total descending"
          }
         }
        },
        {
         "data": [
          {
           "type": "bar",
           "x": [
            "Alabama",
            "Arizona",
            "Arkansas",
            "California",
            "Colorado",
            "Connecticut",
            "Delaware",
            "Florida",
            "Georgia",
            "Idaho",
            "Illinois",
            "Indiana",
            "Iowa",
            "Kansas",
            "Kentucky",
            "Louisiana",
            "Maine",
            "Maryland",
            "Massachusetts",
            "Michigan",
            "Minnesota",
            "Mississippi",
            "Missouri",
            "Montana",
            "Nebraska",
            "Nevada",
            "Ohio",
            "Oklahoma",
            "Oregon",
            "Pennsylvania",
            "Tennessee",
            "Texas",
            "Utah",
            "Vermont",
            "Virginia",
            "Washington",
            "Wisconsin",
            "Wyoming"
           ],
           "y": [
            377.484933355035,
            329.6419256513725,
            451.20441160063655,
            247.28569714844562,
            508.6958115428336,
            285.7652074886004,
            594.2252045530396,
            445.377566625902,
            410.32679318638407,
            406.83155099825433,
            439.92675696395804,
            279.9338931853046,
            547.8805397282595,
            504.92213746289013,
            454.79103364689826,
            366.4871947661623,
            296.9583923007272,
            306.1060148256936,
            563.1460327766243,
            186.31487701809513,
            503.6906568264982,
            362.59026214721405,
            385.54801614109215,
            642.3985733392777,
            551.0792037238238,
            534.4287080063143,
            317.0784626702305,
            440.3399591199956,
            245.79407426785323,
            382.4758631713296,
            318.6253251643521,
            345.19771316064674,
            458.3653406560721,
            373.6829498040002,
            365.2145242207217,
            431.55789168454396,
            521.2106578274249,
            984.9479494610221
           ]
          }
         ],
         "layout": {
          "title": {
           "text": "Infrastructure Spending Over Time 2003"
          },
          "xaxis": {
           "categoryorder": "total descending"
          }
         }
        },
        {
         "data": [
          {
           "type": "bar",
           "x": [
            "Alabama",
            "Arizona",
            "Arkansas",
            "California",
            "Colorado",
            "Connecticut",
            "Delaware",
            "Florida",
            "Georgia",
            "Idaho",
            "Illinois",
            "Indiana",
            "Iowa",
            "Kansas",
            "Kentucky",
            "Louisiana",
            "Maine",
            "Maryland",
            "Massachusetts",
            "Michigan",
            "Minnesota",
            "Mississippi",
            "Missouri",
            "Montana",
            "Nebraska",
            "Nevada",
            "Ohio",
            "Oklahoma",
            "Oregon",
            "Pennsylvania",
            "Tennessee",
            "Texas",
            "Utah",
            "Vermont",
            "Virginia",
            "Washington",
            "Wisconsin",
            "Wyoming"
           ],
           "y": [
            370.40948597896715,
            337.4113032260256,
            418.9445631246623,
            242.83195954324233,
            476.97940967599436,
            273.4079804490383,
            592.2968501558131,
            441.43758959784714,
            386.2125298714189,
            408.70037548444384,
            435.24819708822383,
            292.9712737367373,
            533.2185595037979,
            499.3404338032887,
            438.9618101440366,
            419.79922842346997,
            286.3929639305528,
            311.29335389724235,
            510.37953576894085,
            185.38494318676243,
            500.9618270527445,
            356.9464972430002,
            381.16974999395416,
            652.0205718439285,
            547.9372574126686,
            518.4232353119185,
            310.68398692973113,
            444.64947423333444,
            254.57246650266444,
            404.013884123744,
            322.8921793954093,
            344.40435289362705,
            471.13483623281337,
            371.26564718028135,
            338.7331409289586,
            450.49942179879247,
            507.6608271342935,
            994.1132102155543
           ]
          }
         ],
         "layout": {
          "title": {
           "text": "Infrastructure Spending Over Time 2004"
          },
          "xaxis": {
           "categoryorder": "total descending"
          }
         }
        },
        {
         "data": [
          {
           "type": "bar",
           "x": [
            "Alabama",
            "Arizona",
            "Arkansas",
            "California",
            "Colorado",
            "Connecticut",
            "Delaware",
            "Florida",
            "Georgia",
            "Idaho",
            "Illinois",
            "Indiana",
            "Iowa",
            "Kansas",
            "Kentucky",
            "Louisiana",
            "Maine",
            "Maryland",
            "Massachusetts",
            "Michigan",
            "Minnesota",
            "Mississippi",
            "Missouri",
            "Montana",
            "Nebraska",
            "Nevada",
            "Ohio",
            "Oklahoma",
            "Oregon",
            "Pennsylvania",
            "Tennessee",
            "Texas",
            "Utah",
            "Vermont",
            "Virginia",
            "Washington",
            "Wisconsin",
            "Wyoming"
           ],
           "y": [
            351.90670061414,
            332.1754448519861,
            375.09766829420187,
            231.9433465661146,
            431.9160998711541,
            253.58744164454876,
            572.1528722711945,
            424.5406830766754,
            351.911544824165,
            396.2776590225319,
            418.4887861548182,
            296.4909782665479,
            503.68803159030296,
            479.4803771829589,
            410.2524133690292,
            459.2590876951328,
            268.3200547169482,
            307.4405364872445,
            444.03970458935953,
            179.40437982289967,
            483.94815374175863,
            341.577587722815,
            365.5915928362952,
            642.3228543285728,
            528.5209114747286,
            491.300059248161,
            295.60057644731194,
            435.44025991117053,
            254.02731427692115,
            412.8994481120065,
            316.61040781284504,
            333.3026606274801,
            466.55130224407264,
            358.54736282929423,
            304.17487945593996,
            454.99636025413497,
            480.1012086547716,
            974.9453960560686
           ]
          }
         ],
         "layout": {
          "title": {
           "text": "Infrastructure Spending Over Time 2005"
          },
          "xaxis": {
           "categoryorder": "total descending"
          }
         }
        },
        {
         "data": [
          {
           "type": "bar",
           "x": [
            "Alabama",
            "Arizona",
            "Arkansas",
            "California",
            "Colorado",
            "Connecticut",
            "Delaware",
            "Florida",
            "Georgia",
            "Idaho",
            "Illinois",
            "Indiana",
            "Iowa",
            "Kansas",
            "Kentucky",
            "Louisiana",
            "Maine",
            "Maryland",
            "Massachusetts",
            "Michigan",
            "Minnesota",
            "Mississippi",
            "Missouri",
            "Montana",
            "Nebraska",
            "Nevada",
            "Ohio",
            "Oklahoma",
            "Oregon",
            "Pennsylvania",
            "Tennessee",
            "Texas",
            "Utah",
            "Vermont",
            "Virginia",
            "Washington",
            "Wisconsin",
            "Wyoming"
           ],
           "y": [
            337.8763058219509,
            331.4238296964692,
            338.09029184257633,
            225.2599455176426,
            393.06053715948764,
            238.34016591517744,
            561.2730836013909,
            416.9285610879953,
            322.3023449692561,
            388.99983590584407,
            407.98254976389904,
            303.4993618014774,
            481.52645773347405,
            466.2211977063489,
            388.9229787646539,
            537.865718107266,
            254.981229492777,
            308.6208878859332,
            385.8295772723103,
            176.4299231941233,
            473.4861931363179,
            333.8434921021777,
            355.36217477387174,
            640.3118741419053,
            517.7935491368218,
            472.29350946501665,
            285.2268309977352,
            430.11777668338857,
            255.98228001273807,
            426.40911550963654,
            314.12309160838174,
            324.6962060105533,
            466.2402440381278,
            351.2807998818415,
            276.27612404666576,
            462.79772579473723,
            460.7789474250379,
            963.8814005858416
           ]
          }
         ],
         "layout": {
          "title": {
           "text": "Infrastructure Spending Over Time 2006"
          },
          "xaxis": {
           "categoryorder": "total descending"
          }
         }
        },
        {
         "data": [
          {
           "type": "bar",
           "x": [
            "Alabama",
            "Arizona",
            "Arkansas",
            "California",
            "Colorado",
            "Connecticut",
            "Delaware",
            "Florida",
            "Georgia",
            "Idaho",
            "Illinois",
            "Indiana",
            "Iowa",
            "Kansas",
            "Kentucky",
            "Louisiana",
            "Maine",
            "Maryland",
            "Massachusetts",
            "Michigan",
            "Minnesota",
            "Mississippi",
            "Missouri",
            "Montana",
            "Nebraska",
            "Nevada",
            "Ohio",
            "Oklahoma",
            "Oregon",
            "Pennsylvania",
            "Tennessee",
            "Texas",
            "Utah",
            "Vermont",
            "Virginia",
            "Washington",
            "Wisconsin",
            "Wyoming"
           ],
           "y": [
            306.85600191746346,
            314.08287815144786,
            287.03210292594736,
            206.04474262303572,
            336.4112003077521,
            210.8134619691716,
            520.1543104723952,
            388.6881213372807,
            278.8806787773417,
            361.0419206633424,
            374.44858034891035,
            292.64362854154314,
            434.01133364363704,
            426.9094057191917,
            347.250387156915,
            542.974521554966,
            228.44827586206895,
            292.38646848060495,
            309.8079330376974,
            163.90495460382886,
            436.8174238645969,
            305.04891833284955,
            326.1014822308264,
            601.9025485484697,
            478.41643116673396,
            430.54517522006313,
            259.3512716178159,
            401.11447744836835,
            243.31878991526204,
            414.3796645908046,
            294.2670555223701,
            299.71777841566944,
            438.12790011032644,
            325.0491995746462,
            236.01741710747,
            444.4567565212695,
            416.65919592213197,
            892.1282689819697
           ]
          }
         ],
         "layout": {
          "title": {
           "text": "Infrastructure Spending Over Time 2007"
          },
          "xaxis": {
           "categoryorder": "total descending"
          }
         }
        },
        {
         "data": [
          {
           "type": "bar",
           "x": [
            "Alabama",
            "Arizona",
            "Arkansas",
            "California",
            "Colorado",
            "Connecticut",
            "Delaware",
            "Florida",
            "Georgia",
            "Idaho",
            "Illinois",
            "Indiana",
            "Iowa",
            "Kansas",
            "Kentucky",
            "Louisiana",
            "Maine",
            "Maryland",
            "Massachusetts",
            "Michigan",
            "Minnesota",
            "Mississippi",
            "Missouri",
            "Montana",
            "Nebraska",
            "Nevada",
            "Ohio",
            "Oklahoma",
            "Oregon",
            "Pennsylvania",
            "Tennessee",
            "Texas",
            "Utah",
            "Vermont",
            "Virginia",
            "Washington",
            "Wisconsin",
            "Wyoming"
           ],
           "y": [
            281.5595588662301,
            301.7049017238179,
            244.67482607736713,
            189.83253268594922,
            289.67427649379414,
            187.5964405249467,
            487.4450430717501,
            367.0331437842687,
            244.36963345949007,
            340.2953751499035,
            347.3623440990762,
            284.74992085364136,
            395.02389007449773,
            394.62642748985434,
            313.39655813055754,
            550.7452679307763,
            206.6246827342017,
            279.55070963497576,
            244.94900035817156,
            154.2062045731082,
            407.63744282943185,
            282.1003146068636,
            302.91179010640934,
            571.8029731210602,
            446.2468366902734,
            400.87314358068005,
            238.349614007896,
            378.62253664237653,
            233.82221363699563,
            406.22646887538616,
            279.22062435143135,
            279.6336786493288,
            416.90308291798544,
            303.96009939902365,
            202.48085912088294,
            429.93625186312397,
            380.8440920716838,
            836.2931124471883
           ]
          }
         ],
         "layout": {
          "title": {
           "text": "Infrastructure Spending Over Time 2008"
          },
          "xaxis": {
           "categoryorder": "total descending"
          }
         }
        },
        {
         "data": [
          {
           "type": "bar",
           "x": [
            "Alabama",
            "Arizona",
            "Arkansas",
            "California",
            "Colorado",
            "Connecticut",
            "Delaware",
            "Florida",
            "Georgia",
            "Idaho",
            "Illinois",
            "Indiana",
            "Iowa",
            "Kansas",
            "Kentucky",
            "Louisiana",
            "Maine",
            "Maryland",
            "Massachusetts",
            "Michigan",
            "Minnesota",
            "Mississippi",
            "Missouri",
            "Montana",
            "Nebraska",
            "Nevada",
            "Ohio",
            "Oklahoma",
            "Oregon",
            "Pennsylvania",
            "Tennessee",
            "Texas",
            "Utah",
            "Vermont",
            "Virginia",
            "Washington",
            "Wisconsin",
            "Wyoming"
           ],
           "y": [
            278.78799597640824,
            314.4512966262525,
            223.23784892726323,
            188.5132120471427,
            267.77167830304325,
            179.61276397064745,
            494.77308153813374,
            374.22962664167073,
            231.13476715041483,
            347.7048632979487,
            347.3703302503177,
            298.6457563290282,
            387.4960021365901,
            393.17768464336547,
            305.01191316155337,
            598.248571571058,
            201.86523665190023,
            287.2613512383454,
            201.61154091229412,
            156.24721320038367,
            410.5127184090443,
            282.0076829119087,
            303.2600760129694,
            587.7648168360803,
            447.8692634067843,
            405.6636489096405,
            236.05209033024497,
            383.7472414791159,
            242.35860946279473,
            428.1579536140691,
            286.08381928440116,
            281.1074584582925,
            428.0450947539877,
            306.39211161027947,
            185.74964701334366,
            447.2208615438702,
            375.20073152352757,
            841.11308187357
           ]
          }
         ],
         "layout": {
          "title": {
           "text": "Infrastructure Spending Over Time 2009"
          },
          "xaxis": {
           "categoryorder": "total descending"
          }
         }
        },
        {
         "data": [
          {
           "type": "bar",
           "x": [
            "Alabama",
            "Arizona",
            "Arkansas",
            "California",
            "Colorado",
            "Connecticut",
            "Delaware",
            "Florida",
            "Georgia",
            "Idaho",
            "Illinois",
            "Indiana",
            "Iowa",
            "Kansas",
            "Kentucky",
            "Louisiana",
            "Maine",
            "Maryland",
            "Massachusetts",
            "Michigan",
            "Minnesota",
            "Mississippi",
            "Missouri",
            "Montana",
            "Nebraska",
            "Nevada",
            "Ohio",
            "Oklahoma",
            "Oregon",
            "Pennsylvania",
            "Tennessee",
            "Texas",
            "Utah",
            "Vermont",
            "Virginia",
            "Washington",
            "Wisconsin",
            "Wyoming"
           ],
           "y": [
            272.2395128297608,
            282.71426747627953,
            237.92589864880128,
            194.3563092266654,
            255.0064496777538,
            186.4874930605478,
            505.51827550139114,
            344.7897004708072,
            223.36545681832013,
            331.45002702411927,
            341.3075535345268,
            287.43443357309195,
            385.59481896500574,
            367.45775235754826,
            324.1190452536804,
            521.2772862947189,
            222.44400072006874,
            269.81936102642624,
            196.9854289386639,
            146.41789900924283,
            405.3030973459659,
            284.3717546703292,
            281.0211789718265,
            573.3731692792184,
            443.79372220348694,
            376.41494877118566,
            238.7717125835038,
            371.6342545533075,
            226.7067506007639,
            421.0065353903416,
            264.080756281392,
            285.99288714314935,
            383.60056683455764,
            311.28192674065247,
            195.22771922845502,
            420.93922757629423,
            363.5023612881594,
            779.4310675587346
           ]
          }
         ],
         "layout": {
          "title": {
           "text": "Infrastructure Spending Over Time 2010"
          },
          "xaxis": {
           "categoryorder": "total descending"
          }
         }
        },
        {
         "data": [
          {
           "type": "bar",
           "x": [
            "Alabama",
            "Arizona",
            "Arkansas",
            "California",
            "Colorado",
            "Connecticut",
            "Delaware",
            "Florida",
            "Georgia",
            "Idaho",
            "Illinois",
            "Indiana",
            "Iowa",
            "Kansas",
            "Kentucky",
            "Louisiana",
            "Maine",
            "Maryland",
            "Massachusetts",
            "Michigan",
            "Minnesota",
            "Mississippi",
            "Missouri",
            "Montana",
            "Nebraska",
            "Nevada",
            "Ohio",
            "Oklahoma",
            "Oregon",
            "Pennsylvania",
            "Tennessee",
            "Texas",
            "Utah",
            "Vermont",
            "Virginia",
            "Washington",
            "Wisconsin",
            "Wyoming"
           ],
           "y": [
            260.63777256720397,
            246.69587123707174,
            246.68365386642404,
            195.5584594887634,
            237.4398172553154,
            189.11579677158315,
            503.95883603829924,
            309.30817370446397,
            211.0320360927534,
            309.3471323106133,
            328.27892730239535,
            270.5673405193908,
            375.28189249151876,
            336.7734417497161,
            335.2670679188811,
            440.11442571681044,
            236.49483278922492,
            247.74097507277526,
            188.20380580138118,
            133.36334430261581,
            390.7638844728071,
            280.44873247275143,
            254.63694161980123,
            546.8312351255817,
            431.1608255464405,
            341.3885299327636,
            236.03157356374453,
            353.1607696741786,
            206.6033477660902,
            405.0066635014904,
            237.7026819688708,
            284.2619509446958,
            335.6565322472633,
            308.7323440641457,
            199.99550752446456,
            386.4364870254453,
            344.6092074085498,
            706.2825665957698
           ]
          }
         ],
         "layout": {
          "title": {
           "text": "Infrastructure Spending Over Time 2011"
          },
          "xaxis": {
           "categoryorder": "total descending"
          }
         }
        },
        {
         "data": [
          {
           "type": "bar",
           "x": [
            "Alabama",
            "Arizona",
            "Arkansas",
            "California",
            "Colorado",
            "Connecticut",
            "Delaware",
            "Florida",
            "Georgia",
            "Idaho",
            "Illinois",
            "Indiana",
            "Iowa",
            "Kansas",
            "Kentucky",
            "Louisiana",
            "Maine",
            "Maryland",
            "Massachusetts",
            "Michigan",
            "Minnesota",
            "Mississippi",
            "Missouri",
            "Montana",
            "Nebraska",
            "Nevada",
            "Ohio",
            "Oklahoma",
            "Oregon",
            "Pennsylvania",
            "Tennessee",
            "Texas",
            "Utah",
            "Vermont",
            "Virginia",
            "Washington",
            "Wisconsin",
            "Wyoming"
           ],
           "y": [
            248.1154881668352,
            211.84458899655053,
            253.55585537625018,
            195.30698887437092,
            220.03924015049117,
            190.41608406293818,
            498.9732588545501,
            274.5430321889693,
            198.1956019944303,
            287.4516733399753,
            314.43583647913863,
            253.50662006007346,
            363.9970047230214,
            305.91256344368577,
            343.55660440783845,
            363.72004145093933,
            248.10894409582454,
            226.1131466661006,
            178.84782261940506,
            120.35544728993061,
            375.15685727568575,
            275.26143378055144,
            228.7533726616227,
            518.9589789756295,
            416.348787365316,
            304.706941089457,
            231.99062658888153,
            333.76255459086957,
            187.2999731801886,
            388.0474798465016,
            211.71786028955268,
            280.1804699564333,
            290.1810208727935,
            305.38938407723344,
            202.70838707408015,
            353.25085571722605,
            325.0066205486097,
            627.8890707805
           ]
          }
         ],
         "layout": {
          "title": {
           "text": "Infrastructure Spending Over Time 2012"
          },
          "xaxis": {
           "categoryorder": "total descending"
          }
         }
        },
        {
         "data": [
          {
           "type": "bar",
           "x": [
            "Alabama",
            "Arizona",
            "Arkansas",
            "California",
            "Colorado",
            "Connecticut",
            "Delaware",
            "Florida",
            "Georgia",
            "Idaho",
            "Illinois",
            "Indiana",
            "Iowa",
            "Kansas",
            "Kentucky",
            "Louisiana",
            "Maine",
            "Maryland",
            "Massachusetts",
            "Michigan",
            "Minnesota",
            "Mississippi",
            "Missouri",
            "Montana",
            "Nebraska",
            "Nevada",
            "Ohio",
            "Oklahoma",
            "Oregon",
            "Pennsylvania",
            "Tennessee",
            "Texas",
            "Utah",
            "Vermont",
            "Virginia",
            "Washington",
            "Wisconsin",
            "Wyoming"
           ],
           "y": [
            235.13045198822917,
            179.3238267349341,
            258.3616256803421,
            193.63661116991142,
            202.6670086784218,
            190.60807744163176,
            490.47574729834145,
            241.4551835397453,
            185.74346264362057,
            264.9199499023915,
            299.7490341412515,
            235.91633913318088,
            350.4278532031216,
            276.6435200700963,
            348.48825910967923,
            292.2975158018521,
            256.89194854814633,
            205.42169315214332,
            169.10726449027706,
            107.68465169551546,
            357.964083844009,
            268.6743333002211,
            203.59709408704862,
            488.48404292033393,
            400.130130940239,
            269.5980778953646,
            226.27933454534025,
            313.5537564502992,
            168.71417977579628,
            370.30149290216906,
            187.2523739241671,
            274.768590184325,
            247.0942015811518,
            299.7942876111349,
            204.0122768539829,
            321.0818385553667,
            304.84303622927246,
            556.6235282001991
           ]
          }
         ],
         "layout": {
          "title": {
           "text": "Infrastructure Spending Over Time 2013"
          },
          "xaxis": {
           "categoryorder": "total descending"
          }
         }
        },
        {
         "data": [
          {
           "type": "bar",
           "x": [
            "Alabama",
            "Arizona",
            "Arkansas",
            "California",
            "Colorado",
            "Connecticut",
            "Delaware",
            "Florida",
            "Georgia",
            "Idaho",
            "Illinois",
            "Indiana",
            "Iowa",
            "Kansas",
            "Kentucky",
            "Louisiana",
            "Maine",
            "Maryland",
            "Massachusetts",
            "Michigan",
            "Minnesota",
            "Mississippi",
            "Missouri",
            "Montana",
            "Nebraska",
            "Nevada",
            "Ohio",
            "Oklahoma",
            "Oregon",
            "Pennsylvania",
            "Tennessee",
            "Texas",
            "Utah",
            "Vermont",
            "Virginia",
            "Washington",
            "Wisconsin",
            "Wyoming"
           ],
           "y": [
            228.43829051825068,
            174.59545130288362,
            264.1450518550007,
            175.74964807827857,
            199.18742855157188,
            206.34858832654697,
            484.9136937900466,
            249.07796360207678,
            193.88714596586465,
            253.42656263018858,
            340.3002477591934,
            226.33485440232965,
            367.71079162732593,
            289.97081528026325,
            347.1271851975281,
            284.6335874477877,
            255.06735566027177,
            216.21059773854776,
            192.2940357707117,
            113.69867578974011,
            387.60972845388443,
            257.1042002853044,
            186.76031047361585,
            423.6914234195826,
            414.47960190536475,
            248.84184984754881,
            236.8247716186337,
            319.90930058282834,
            176.30194023523703,
            388.8190730865658,
            177.07056043157303,
            273.71397167654214,
            220.91414604296935,
            316.3484328576474,
            208.97680576951524,
            303.7482938438386,
            277.03282990906445,
            547.6516696132616
           ]
          }
         ],
         "layout": {
          "title": {
           "text": "Infrastructure Spending Over Time 2014"
          },
          "xaxis": {
           "categoryorder": "total descending"
          }
         }
        },
        {
         "data": [
          {
           "type": "bar",
           "x": [
            "Alabama",
            "Arizona",
            "Arkansas",
            "California",
            "Colorado",
            "Connecticut",
            "Delaware",
            "Florida",
            "Georgia",
            "Idaho",
            "Illinois",
            "Indiana",
            "Iowa",
            "Kansas",
            "Kentucky",
            "Louisiana",
            "Maine",
            "Maryland",
            "Massachusetts",
            "Michigan",
            "Minnesota",
            "Mississippi",
            "Missouri",
            "Montana",
            "Nebraska",
            "Nevada",
            "Ohio",
            "Oklahoma",
            "Oregon",
            "Pennsylvania",
            "Tennessee",
            "Texas",
            "Utah",
            "Vermont",
            "Virginia",
            "Washington",
            "Wisconsin",
            "Wyoming"
           ],
           "y": [
            230.50657256329453,
            176.6882146583909,
            280.63429865504685,
            164.05599525563963,
            202.88768845584644,
            231.90994941983712,
            498.6704739057284,
            266.2370269395128,
            209.91062570451987,
            251.63585971515798,
            397.8560738935199,
            225.56667667961094,
            401.40001364273525,
            315.6431903204606,
            359.4095087834485,
            287.83813492099205,
            264.2822425434392,
            236.56547986416695,
            225.0600369195426,
            124.85390533156078,
            435.0224525811625,
            255.32810006986082,
            176.2998421012175,
            372.36050586769693,
            446.7630237746286,
            236.69292749494429,
            257.7972632818849,
            338.95560639281035,
            190.80452562148162,
            424.6771538466711,
            173.3599136604343,
            283.48756618983373,
            202.15033653681797,
            346.1945318866749,
            222.8224554554795,
            297.151209376714,
            258.74455810389406,
            557.3961994512175
           ]
          }
         ],
         "layout": {
          "title": {
           "text": "Infrastructure Spending Over Time 2015"
          },
          "xaxis": {
           "categoryorder": "total descending"
          }
         }
        },
        {
         "data": [
          {
           "type": "bar",
           "x": [
            "Alabama",
            "Arizona",
            "Arkansas",
            "California",
            "Colorado",
            "Connecticut",
            "Delaware",
            "Florida",
            "Georgia",
            "Idaho",
            "Illinois",
            "Indiana",
            "Iowa",
            "Kansas",
            "Kentucky",
            "Louisiana",
            "Maine",
            "Maryland",
            "Massachusetts",
            "Michigan",
            "Minnesota",
            "Mississippi",
            "Missouri",
            "Montana",
            "Nebraska",
            "Nevada",
            "Ohio",
            "Oklahoma",
            "Oregon",
            "Pennsylvania",
            "Tennessee",
            "Texas",
            "Utah",
            "Vermont",
            "Virginia",
            "Washington",
            "Wisconsin",
            "Wyoming"
           ],
           "y": [
            226.5243205836085,
            174.1069210817296,
            290.8481974988427,
            147.53410198618178,
            202.14223199642703,
            253.59975194352805,
            500.9226422621736,
            276.9918724451559,
            221.25748973511224,
            241.64447790902332,
            450.26485938808946,
            218.32890472254923,
            427.23436986349463,
            335.7156613320324,
            363.1574040167502,
            284.0580465532776,
            266.0588675030848,
            252.6348365427482,
            254.48538803154403,
            133.37195052057353,
            473.641174511706,
            246.30349478949842,
            160.27884631801246,
            307.2513498705065,
            469.08469679509335,
            217.88183473166288,
            273.5570091563102,
            351.6959540424063,
            200.2203128011803,
            452.13992794132963,
            164.7193463751397,
            287.26146791094266,
            176.3434629518491,
            370.1963271542653,
            231.8617153407762,
            281.77986156364403,
            231.87490584692745,
            557.2813344200614
           ]
          }
         ],
         "layout": {
          "title": {
           "text": "Infrastructure Spending Over Time 2016"
          },
          "xaxis": {
           "categoryorder": "total descending"
          }
         }
        },
        {
         "data": [
          {
           "type": "bar",
           "x": [
            "Alabama",
            "Arizona",
            "Arkansas",
            "California",
            "Colorado",
            "Connecticut",
            "Delaware",
            "Florida",
            "Georgia",
            "Idaho",
            "Illinois",
            "Indiana",
            "Iowa",
            "Kansas",
            "Kentucky",
            "Louisiana",
            "Maine",
            "Maryland",
            "Massachusetts",
            "Michigan",
            "Minnesota",
            "Mississippi",
            "Missouri",
            "Montana",
            "Nebraska",
            "Nevada",
            "Ohio",
            "Oklahoma",
            "Oregon",
            "Pennsylvania",
            "Tennessee",
            "Texas",
            "Utah",
            "Vermont",
            "Virginia",
            "Washington",
            "Wisconsin",
            "Wyoming"
           ],
           "y": [
            219.96175063125395,
            166.96684263874116,
            281.93571260929707,
            142.90019125377802,
            194.1593838168797,
            247.1286518368685,
            483.47916679715473,
            265.08821123846116,
            213.09574676316126,
            230.29867800168049,
            439.65728038568085,
            211.719243934466,
            414.4170594585928,
            326.971938498577,
            352.2330375999587,
            276.91539395246525,
            258.28546359591627,
            245.01500119604802,
            246.3703967037514,
            129.51068644384466,
            457.3391224687271,
            239.71017904325242,
            155.48201699713746,
            295.7075973894115,
            454.03594578606766,
            208.3061219065192,
            265.65601773266013,
            341.81572004488504,
            192.32757552273844,
            439.83479382327613,
            158.7989601396806,
            275.8540659397836,
            168.34807993452637,
            359.8551985820595,
            224.23958604232718,
            269.51887539376605,
            224.97374915568344,
            547.2866960692697
           ]
          }
         ],
         "layout": {
          "title": {
           "text": "Infrastructure Spending Over Time 2017"
          },
          "xaxis": {
           "categoryorder": "total descending"
          }
         }
        }
       ],
       "layout": {
        "template": {
         "data": {
          "bar": [
           {
            "error_x": {
             "color": "#2a3f5f"
            },
            "error_y": {
             "color": "#2a3f5f"
            },
            "marker": {
             "line": {
              "color": "#E5ECF6",
              "width": 0.5
             }
            },
            "type": "bar"
           }
          ],
          "barpolar": [
           {
            "marker": {
             "line": {
              "color": "#E5ECF6",
              "width": 0.5
             }
            },
            "type": "barpolar"
           }
          ],
          "carpet": [
           {
            "aaxis": {
             "endlinecolor": "#2a3f5f",
             "gridcolor": "white",
             "linecolor": "white",
             "minorgridcolor": "white",
             "startlinecolor": "#2a3f5f"
            },
            "baxis": {
             "endlinecolor": "#2a3f5f",
             "gridcolor": "white",
             "linecolor": "white",
             "minorgridcolor": "white",
             "startlinecolor": "#2a3f5f"
            },
            "type": "carpet"
           }
          ],
          "choropleth": [
           {
            "colorbar": {
             "outlinewidth": 0,
             "ticks": ""
            },
            "type": "choropleth"
           }
          ],
          "contour": [
           {
            "colorbar": {
             "outlinewidth": 0,
             "ticks": ""
            },
            "colorscale": [
             [
              0,
              "#0d0887"
             ],
             [
              0.1111111111111111,
              "#46039f"
             ],
             [
              0.2222222222222222,
              "#7201a8"
             ],
             [
              0.3333333333333333,
              "#9c179e"
             ],
             [
              0.4444444444444444,
              "#bd3786"
             ],
             [
              0.5555555555555556,
              "#d8576b"
             ],
             [
              0.6666666666666666,
              "#ed7953"
             ],
             [
              0.7777777777777778,
              "#fb9f3a"
             ],
             [
              0.8888888888888888,
              "#fdca26"
             ],
             [
              1,
              "#f0f921"
             ]
            ],
            "type": "contour"
           }
          ],
          "contourcarpet": [
           {
            "colorbar": {
             "outlinewidth": 0,
             "ticks": ""
            },
            "type": "contourcarpet"
           }
          ],
          "heatmap": [
           {
            "colorbar": {
             "outlinewidth": 0,
             "ticks": ""
            },
            "colorscale": [
             [
              0,
              "#0d0887"
             ],
             [
              0.1111111111111111,
              "#46039f"
             ],
             [
              0.2222222222222222,
              "#7201a8"
             ],
             [
              0.3333333333333333,
              "#9c179e"
             ],
             [
              0.4444444444444444,
              "#bd3786"
             ],
             [
              0.5555555555555556,
              "#d8576b"
             ],
             [
              0.6666666666666666,
              "#ed7953"
             ],
             [
              0.7777777777777778,
              "#fb9f3a"
             ],
             [
              0.8888888888888888,
              "#fdca26"
             ],
             [
              1,
              "#f0f921"
             ]
            ],
            "type": "heatmap"
           }
          ],
          "heatmapgl": [
           {
            "colorbar": {
             "outlinewidth": 0,
             "ticks": ""
            },
            "colorscale": [
             [
              0,
              "#0d0887"
             ],
             [
              0.1111111111111111,
              "#46039f"
             ],
             [
              0.2222222222222222,
              "#7201a8"
             ],
             [
              0.3333333333333333,
              "#9c179e"
             ],
             [
              0.4444444444444444,
              "#bd3786"
             ],
             [
              0.5555555555555556,
              "#d8576b"
             ],
             [
              0.6666666666666666,
              "#ed7953"
             ],
             [
              0.7777777777777778,
              "#fb9f3a"
             ],
             [
              0.8888888888888888,
              "#fdca26"
             ],
             [
              1,
              "#f0f921"
             ]
            ],
            "type": "heatmapgl"
           }
          ],
          "histogram": [
           {
            "marker": {
             "colorbar": {
              "outlinewidth": 0,
              "ticks": ""
             }
            },
            "type": "histogram"
           }
          ],
          "histogram2d": [
           {
            "colorbar": {
             "outlinewidth": 0,
             "ticks": ""
            },
            "colorscale": [
             [
              0,
              "#0d0887"
             ],
             [
              0.1111111111111111,
              "#46039f"
             ],
             [
              0.2222222222222222,
              "#7201a8"
             ],
             [
              0.3333333333333333,
              "#9c179e"
             ],
             [
              0.4444444444444444,
              "#bd3786"
             ],
             [
              0.5555555555555556,
              "#d8576b"
             ],
             [
              0.6666666666666666,
              "#ed7953"
             ],
             [
              0.7777777777777778,
              "#fb9f3a"
             ],
             [
              0.8888888888888888,
              "#fdca26"
             ],
             [
              1,
              "#f0f921"
             ]
            ],
            "type": "histogram2d"
           }
          ],
          "histogram2dcontour": [
           {
            "colorbar": {
             "outlinewidth": 0,
             "ticks": ""
            },
            "colorscale": [
             [
              0,
              "#0d0887"
             ],
             [
              0.1111111111111111,
              "#46039f"
             ],
             [
              0.2222222222222222,
              "#7201a8"
             ],
             [
              0.3333333333333333,
              "#9c179e"
             ],
             [
              0.4444444444444444,
              "#bd3786"
             ],
             [
              0.5555555555555556,
              "#d8576b"
             ],
             [
              0.6666666666666666,
              "#ed7953"
             ],
             [
              0.7777777777777778,
              "#fb9f3a"
             ],
             [
              0.8888888888888888,
              "#fdca26"
             ],
             [
              1,
              "#f0f921"
             ]
            ],
            "type": "histogram2dcontour"
           }
          ],
          "mesh3d": [
           {
            "colorbar": {
             "outlinewidth": 0,
             "ticks": ""
            },
            "type": "mesh3d"
           }
          ],
          "parcoords": [
           {
            "line": {
             "colorbar": {
              "outlinewidth": 0,
              "ticks": ""
             }
            },
            "type": "parcoords"
           }
          ],
          "pie": [
           {
            "automargin": true,
            "type": "pie"
           }
          ],
          "scatter": [
           {
            "marker": {
             "colorbar": {
              "outlinewidth": 0,
              "ticks": ""
             }
            },
            "type": "scatter"
           }
          ],
          "scatter3d": [
           {
            "line": {
             "colorbar": {
              "outlinewidth": 0,
              "ticks": ""
             }
            },
            "marker": {
             "colorbar": {
              "outlinewidth": 0,
              "ticks": ""
             }
            },
            "type": "scatter3d"
           }
          ],
          "scattercarpet": [
           {
            "marker": {
             "colorbar": {
              "outlinewidth": 0,
              "ticks": ""
             }
            },
            "type": "scattercarpet"
           }
          ],
          "scattergeo": [
           {
            "marker": {
             "colorbar": {
              "outlinewidth": 0,
              "ticks": ""
             }
            },
            "type": "scattergeo"
           }
          ],
          "scattergl": [
           {
            "marker": {
             "colorbar": {
              "outlinewidth": 0,
              "ticks": ""
             }
            },
            "type": "scattergl"
           }
          ],
          "scattermapbox": [
           {
            "marker": {
             "colorbar": {
              "outlinewidth": 0,
              "ticks": ""
             }
            },
            "type": "scattermapbox"
           }
          ],
          "scatterpolar": [
           {
            "marker": {
             "colorbar": {
              "outlinewidth": 0,
              "ticks": ""
             }
            },
            "type": "scatterpolar"
           }
          ],
          "scatterpolargl": [
           {
            "marker": {
             "colorbar": {
              "outlinewidth": 0,
              "ticks": ""
             }
            },
            "type": "scatterpolargl"
           }
          ],
          "scatterternary": [
           {
            "marker": {
             "colorbar": {
              "outlinewidth": 0,
              "ticks": ""
             }
            },
            "type": "scatterternary"
           }
          ],
          "surface": [
           {
            "colorbar": {
             "outlinewidth": 0,
             "ticks": ""
            },
            "colorscale": [
             [
              0,
              "#0d0887"
             ],
             [
              0.1111111111111111,
              "#46039f"
             ],
             [
              0.2222222222222222,
              "#7201a8"
             ],
             [
              0.3333333333333333,
              "#9c179e"
             ],
             [
              0.4444444444444444,
              "#bd3786"
             ],
             [
              0.5555555555555556,
              "#d8576b"
             ],
             [
              0.6666666666666666,
              "#ed7953"
             ],
             [
              0.7777777777777778,
              "#fb9f3a"
             ],
             [
              0.8888888888888888,
              "#fdca26"
             ],
             [
              1,
              "#f0f921"
             ]
            ],
            "type": "surface"
           }
          ],
          "table": [
           {
            "cells": {
             "fill": {
              "color": "#EBF0F8"
             },
             "line": {
              "color": "white"
             }
            },
            "header": {
             "fill": {
              "color": "#C8D4E3"
             },
             "line": {
              "color": "white"
             }
            },
            "type": "table"
           }
          ]
         },
         "layout": {
          "annotationdefaults": {
           "arrowcolor": "#2a3f5f",
           "arrowhead": 0,
           "arrowwidth": 1
          },
          "coloraxis": {
           "colorbar": {
            "outlinewidth": 0,
            "ticks": ""
           }
          },
          "colorscale": {
           "diverging": [
            [
             0,
             "#8e0152"
            ],
            [
             0.1,
             "#c51b7d"
            ],
            [
             0.2,
             "#de77ae"
            ],
            [
             0.3,
             "#f1b6da"
            ],
            [
             0.4,
             "#fde0ef"
            ],
            [
             0.5,
             "#f7f7f7"
            ],
            [
             0.6,
             "#e6f5d0"
            ],
            [
             0.7,
             "#b8e186"
            ],
            [
             0.8,
             "#7fbc41"
            ],
            [
             0.9,
             "#4d9221"
            ],
            [
             1,
             "#276419"
            ]
           ],
           "sequential": [
            [
             0,
             "#0d0887"
            ],
            [
             0.1111111111111111,
             "#46039f"
            ],
            [
             0.2222222222222222,
             "#7201a8"
            ],
            [
             0.3333333333333333,
             "#9c179e"
            ],
            [
             0.4444444444444444,
             "#bd3786"
            ],
            [
             0.5555555555555556,
             "#d8576b"
            ],
            [
             0.6666666666666666,
             "#ed7953"
            ],
            [
             0.7777777777777778,
             "#fb9f3a"
            ],
            [
             0.8888888888888888,
             "#fdca26"
            ],
            [
             1,
             "#f0f921"
            ]
           ],
           "sequentialminus": [
            [
             0,
             "#0d0887"
            ],
            [
             0.1111111111111111,
             "#46039f"
            ],
            [
             0.2222222222222222,
             "#7201a8"
            ],
            [
             0.3333333333333333,
             "#9c179e"
            ],
            [
             0.4444444444444444,
             "#bd3786"
            ],
            [
             0.5555555555555556,
             "#d8576b"
            ],
            [
             0.6666666666666666,
             "#ed7953"
            ],
            [
             0.7777777777777778,
             "#fb9f3a"
            ],
            [
             0.8888888888888888,
             "#fdca26"
            ],
            [
             1,
             "#f0f921"
            ]
           ]
          },
          "colorway": [
           "#636efa",
           "#EF553B",
           "#00cc96",
           "#ab63fa",
           "#FFA15A",
           "#19d3f3",
           "#FF6692",
           "#B6E880",
           "#FF97FF",
           "#FECB52"
          ],
          "font": {
           "color": "#2a3f5f"
          },
          "geo": {
           "bgcolor": "white",
           "lakecolor": "white",
           "landcolor": "#E5ECF6",
           "showlakes": true,
           "showland": true,
           "subunitcolor": "white"
          },
          "hoverlabel": {
           "align": "left"
          },
          "hovermode": "closest",
          "mapbox": {
           "style": "light"
          },
          "paper_bgcolor": "white",
          "plot_bgcolor": "#E5ECF6",
          "polar": {
           "angularaxis": {
            "gridcolor": "white",
            "linecolor": "white",
            "ticks": ""
           },
           "bgcolor": "#E5ECF6",
           "radialaxis": {
            "gridcolor": "white",
            "linecolor": "white",
            "ticks": ""
           }
          },
          "scene": {
           "xaxis": {
            "backgroundcolor": "#E5ECF6",
            "gridcolor": "white",
            "gridwidth": 2,
            "linecolor": "white",
            "showbackground": true,
            "ticks": "",
            "zerolinecolor": "white"
           },
           "yaxis": {
            "backgroundcolor": "#E5ECF6",
            "gridcolor": "white",
            "gridwidth": 2,
            "linecolor": "white",
            "showbackground": true,
            "ticks": "",
            "zerolinecolor": "white"
           },
           "zaxis": {
            "backgroundcolor": "#E5ECF6",
            "gridcolor": "white",
            "gridwidth": 2,
            "linecolor": "white",
            "showbackground": true,
            "ticks": "",
            "zerolinecolor": "white"
           }
          },
          "shapedefaults": {
           "line": {
            "color": "#2a3f5f"
           }
          },
          "ternary": {
           "aaxis": {
            "gridcolor": "white",
            "linecolor": "white",
            "ticks": ""
           },
           "baxis": {
            "gridcolor": "white",
            "linecolor": "white",
            "ticks": ""
           },
           "bgcolor": "#E5ECF6",
           "caxis": {
            "gridcolor": "white",
            "linecolor": "white",
            "ticks": ""
           }
          },
          "title": {
           "x": 0.05
          },
          "xaxis": {
           "automargin": true,
           "gridcolor": "white",
           "linecolor": "white",
           "ticks": "",
           "title": {
            "standoff": 15
           },
           "zerolinecolor": "white",
           "zerolinewidth": 2
          },
          "yaxis": {
           "automargin": true,
           "gridcolor": "white",
           "linecolor": "white",
           "ticks": "",
           "title": {
            "standoff": 15
           },
           "zerolinecolor": "white",
           "zerolinewidth": 2
          }
         }
        },
        "title": {
         "text": "Infrastructure Spending Over Time 1992"
        },
        "updatemenus": [
         {
          "buttons": [
           {
            "args": [
             null
            ],
            "label": "Play",
            "method": "animate"
           }
          ],
          "type": "buttons"
         }
        ],
        "xaxis": {
         "categoryorder": "total descending"
        },
        "yaxis": {
         "range": [
          0,
          1200
         ]
        }
       }
      },
      "text/html": "<div>\n        \n        \n            <div id=\"b4dbc86c-fd01-4656-a7db-440630f64bd9\" class=\"plotly-graph-div\" style=\"height:525px; width:100%;\"></div>\n            <script type=\"text/javascript\">\n                require([\"plotly\"], function(Plotly) {\n                    window.PLOTLYENV=window.PLOTLYENV || {};\n                    \n                if (document.getElementById(\"b4dbc86c-fd01-4656-a7db-440630f64bd9\")) {\n                    Plotly.newPlot(\n                        'b4dbc86c-fd01-4656-a7db-440630f64bd9',\n                        [{\"type\": \"bar\", \"x\": [\"Alabama\", \"Arizona\", \"Arkansas\", \"California\", \"Colorado\", \"Connecticut\", \"Delaware\", \"Florida\", \"Georgia\", \"Idaho\", \"Illinois\", \"Indiana\", \"Iowa\", \"Kansas\", \"Kentucky\", \"Louisiana\", \"Maine\", \"Maryland\", \"Massachusetts\", \"Michigan\", \"Minnesota\", \"Mississippi\", \"Missouri\", \"Montana\", \"Nebraska\", \"Nevada\", \"Ohio\", \"Oklahoma\", \"Oregon\", \"Pennsylvania\", \"Tennessee\", \"Texas\", \"Utah\", \"Vermont\", \"Virginia\", \"Washington\", \"Wisconsin\", \"Wyoming\"], \"y\": [320.88371159255416, 345.00390837820277, 342.02944073300256, 202.18914934356613, 336.60366561223356, 448.9958311412193, 765.5942552285129, 384.7177017018055, 390.32534188311104, 464.01654023947714, 390.68268461634125, 296.7714935022516, 543.5956027293944, 445.2712979435813, 432.2239786516621, 345.5327032166204, 246.58587349524336, 260.7694574960556, 386.9934198429826, 223.7828635834279, 609.351710152045, 348.6811128525746, 285.28659607069045, 606.9213896278859, 559.6365715055985, 621.1668497791378, 307.2876225890655, 295.96520039173896, 356.104069559042, 213.84523044710048, 387.24239873203004, 344.2357003455827, 346.56914254091964, 349.04185997561893, 296.1422082413292, 343.15377024878916, 457.1495309548987, 983.9414357560341]}],\n                        {\"template\": {\"data\": {\"bar\": [{\"error_x\": {\"color\": \"#2a3f5f\"}, \"error_y\": {\"color\": \"#2a3f5f\"}, \"marker\": {\"line\": {\"color\": \"#E5ECF6\", \"width\": 0.5}}, \"type\": \"bar\"}], \"barpolar\": [{\"marker\": {\"line\": {\"color\": \"#E5ECF6\", \"width\": 0.5}}, \"type\": \"barpolar\"}], \"carpet\": [{\"aaxis\": {\"endlinecolor\": \"#2a3f5f\", \"gridcolor\": \"white\", \"linecolor\": \"white\", \"minorgridcolor\": \"white\", \"startlinecolor\": \"#2a3f5f\"}, \"baxis\": {\"endlinecolor\": \"#2a3f5f\", \"gridcolor\": \"white\", \"linecolor\": \"white\", \"minorgridcolor\": \"white\", \"startlinecolor\": \"#2a3f5f\"}, \"type\": \"carpet\"}], \"choropleth\": [{\"colorbar\": {\"outlinewidth\": 0, \"ticks\": \"\"}, \"type\": \"choropleth\"}], \"contour\": [{\"colorbar\": {\"outlinewidth\": 0, \"ticks\": \"\"}, \"colorscale\": [[0.0, \"#0d0887\"], [0.1111111111111111, \"#46039f\"], [0.2222222222222222, \"#7201a8\"], [0.3333333333333333, \"#9c179e\"], [0.4444444444444444, \"#bd3786\"], [0.5555555555555556, \"#d8576b\"], [0.6666666666666666, \"#ed7953\"], [0.7777777777777778, \"#fb9f3a\"], [0.8888888888888888, \"#fdca26\"], [1.0, \"#f0f921\"]], \"type\": \"contour\"}], \"contourcarpet\": [{\"colorbar\": {\"outlinewidth\": 0, \"ticks\": \"\"}, \"type\": \"contourcarpet\"}], \"heatmap\": [{\"colorbar\": {\"outlinewidth\": 0, \"ticks\": \"\"}, \"colorscale\": [[0.0, \"#0d0887\"], [0.1111111111111111, \"#46039f\"], [0.2222222222222222, \"#7201a8\"], [0.3333333333333333, \"#9c179e\"], [0.4444444444444444, \"#bd3786\"], [0.5555555555555556, \"#d8576b\"], [0.6666666666666666, \"#ed7953\"], [0.7777777777777778, \"#fb9f3a\"], [0.8888888888888888, \"#fdca26\"], [1.0, \"#f0f921\"]], \"type\": \"heatmap\"}], \"heatmapgl\": [{\"colorbar\": {\"outlinewidth\": 0, \"ticks\": \"\"}, \"colorscale\": [[0.0, \"#0d0887\"], [0.1111111111111111, \"#46039f\"], [0.2222222222222222, \"#7201a8\"], [0.3333333333333333, \"#9c179e\"], [0.4444444444444444, \"#bd3786\"], [0.5555555555555556, \"#d8576b\"], [0.6666666666666666, \"#ed7953\"], [0.7777777777777778, \"#fb9f3a\"], [0.8888888888888888, \"#fdca26\"], [1.0, \"#f0f921\"]], \"type\": \"heatmapgl\"}], \"histogram\": [{\"marker\": {\"colorbar\": {\"outlinewidth\": 0, \"ticks\": \"\"}}, \"type\": \"histogram\"}], \"histogram2d\": [{\"colorbar\": {\"outlinewidth\": 0, \"ticks\": \"\"}, \"colorscale\": [[0.0, \"#0d0887\"], [0.1111111111111111, \"#46039f\"], [0.2222222222222222, \"#7201a8\"], [0.3333333333333333, \"#9c179e\"], [0.4444444444444444, \"#bd3786\"], [0.5555555555555556, \"#d8576b\"], [0.6666666666666666, \"#ed7953\"], [0.7777777777777778, \"#fb9f3a\"], [0.8888888888888888, \"#fdca26\"], [1.0, \"#f0f921\"]], \"type\": \"histogram2d\"}], \"histogram2dcontour\": [{\"colorbar\": {\"outlinewidth\": 0, \"ticks\": \"\"}, \"colorscale\": [[0.0, \"#0d0887\"], [0.1111111111111111, \"#46039f\"], [0.2222222222222222, \"#7201a8\"], [0.3333333333333333, \"#9c179e\"], [0.4444444444444444, \"#bd3786\"], [0.5555555555555556, \"#d8576b\"], [0.6666666666666666, \"#ed7953\"], [0.7777777777777778, \"#fb9f3a\"], [0.8888888888888888, \"#fdca26\"], [1.0, \"#f0f921\"]], \"type\": \"histogram2dcontour\"}], \"mesh3d\": [{\"colorbar\": {\"outlinewidth\": 0, \"ticks\": \"\"}, \"type\": \"mesh3d\"}], \"parcoords\": [{\"line\": {\"colorbar\": {\"outlinewidth\": 0, \"ticks\": \"\"}}, \"type\": \"parcoords\"}], \"pie\": [{\"automargin\": true, \"type\": \"pie\"}], \"scatter\": [{\"marker\": {\"colorbar\": {\"outlinewidth\": 0, \"ticks\": \"\"}}, \"type\": \"scatter\"}], \"scatter3d\": [{\"line\": {\"colorbar\": {\"outlinewidth\": 0, \"ticks\": \"\"}}, \"marker\": {\"colorbar\": {\"outlinewidth\": 0, \"ticks\": \"\"}}, \"type\": \"scatter3d\"}], \"scattercarpet\": [{\"marker\": {\"colorbar\": {\"outlinewidth\": 0, \"ticks\": \"\"}}, \"type\": \"scattercarpet\"}], \"scattergeo\": [{\"marker\": {\"colorbar\": {\"outlinewidth\": 0, \"ticks\": \"\"}}, \"type\": \"scattergeo\"}], \"scattergl\": [{\"marker\": {\"colorbar\": {\"outlinewidth\": 0, \"ticks\": \"\"}}, \"type\": \"scattergl\"}], \"scattermapbox\": [{\"marker\": {\"colorbar\": {\"outlinewidth\": 0, \"ticks\": \"\"}}, \"type\": \"scattermapbox\"}], \"scatterpolar\": [{\"marker\": {\"colorbar\": {\"outlinewidth\": 0, \"ticks\": \"\"}}, \"type\": \"scatterpolar\"}], \"scatterpolargl\": [{\"marker\": {\"colorbar\": {\"outlinewidth\": 0, \"ticks\": \"\"}}, \"type\": \"scatterpolargl\"}], \"scatterternary\": [{\"marker\": {\"colorbar\": {\"outlinewidth\": 0, \"ticks\": \"\"}}, \"type\": \"scatterternary\"}], \"surface\": [{\"colorbar\": {\"outlinewidth\": 0, \"ticks\": \"\"}, \"colorscale\": [[0.0, \"#0d0887\"], [0.1111111111111111, \"#46039f\"], [0.2222222222222222, \"#7201a8\"], [0.3333333333333333, \"#9c179e\"], [0.4444444444444444, \"#bd3786\"], [0.5555555555555556, \"#d8576b\"], [0.6666666666666666, \"#ed7953\"], [0.7777777777777778, \"#fb9f3a\"], [0.8888888888888888, \"#fdca26\"], [1.0, \"#f0f921\"]], \"type\": \"surface\"}], \"table\": [{\"cells\": {\"fill\": {\"color\": \"#EBF0F8\"}, \"line\": {\"color\": \"white\"}}, \"header\": {\"fill\": {\"color\": \"#C8D4E3\"}, \"line\": {\"color\": \"white\"}}, \"type\": \"table\"}]}, \"layout\": {\"annotationdefaults\": {\"arrowcolor\": \"#2a3f5f\", \"arrowhead\": 0, \"arrowwidth\": 1}, \"coloraxis\": {\"colorbar\": {\"outlinewidth\": 0, \"ticks\": \"\"}}, \"colorscale\": {\"diverging\": [[0, \"#8e0152\"], [0.1, \"#c51b7d\"], [0.2, \"#de77ae\"], [0.3, \"#f1b6da\"], [0.4, \"#fde0ef\"], [0.5, \"#f7f7f7\"], [0.6, \"#e6f5d0\"], [0.7, \"#b8e186\"], [0.8, \"#7fbc41\"], [0.9, \"#4d9221\"], [1, \"#276419\"]], \"sequential\": [[0.0, \"#0d0887\"], [0.1111111111111111, \"#46039f\"], [0.2222222222222222, \"#7201a8\"], [0.3333333333333333, \"#9c179e\"], [0.4444444444444444, \"#bd3786\"], [0.5555555555555556, \"#d8576b\"], [0.6666666666666666, \"#ed7953\"], [0.7777777777777778, \"#fb9f3a\"], [0.8888888888888888, \"#fdca26\"], [1.0, \"#f0f921\"]], \"sequentialminus\": [[0.0, \"#0d0887\"], [0.1111111111111111, \"#46039f\"], [0.2222222222222222, \"#7201a8\"], [0.3333333333333333, \"#9c179e\"], [0.4444444444444444, \"#bd3786\"], [0.5555555555555556, \"#d8576b\"], [0.6666666666666666, \"#ed7953\"], [0.7777777777777778, \"#fb9f3a\"], [0.8888888888888888, \"#fdca26\"], [1.0, \"#f0f921\"]]}, \"colorway\": [\"#636efa\", \"#EF553B\", \"#00cc96\", \"#ab63fa\", \"#FFA15A\", \"#19d3f3\", \"#FF6692\", \"#B6E880\", \"#FF97FF\", \"#FECB52\"], \"font\": {\"color\": \"#2a3f5f\"}, \"geo\": {\"bgcolor\": \"white\", \"lakecolor\": \"white\", \"landcolor\": \"#E5ECF6\", \"showlakes\": true, \"showland\": true, \"subunitcolor\": \"white\"}, \"hoverlabel\": {\"align\": \"left\"}, \"hovermode\": \"closest\", \"mapbox\": {\"style\": \"light\"}, \"paper_bgcolor\": \"white\", \"plot_bgcolor\": \"#E5ECF6\", \"polar\": {\"angularaxis\": {\"gridcolor\": \"white\", \"linecolor\": \"white\", \"ticks\": \"\"}, \"bgcolor\": \"#E5ECF6\", \"radialaxis\": {\"gridcolor\": \"white\", \"linecolor\": \"white\", \"ticks\": \"\"}}, \"scene\": {\"xaxis\": {\"backgroundcolor\": \"#E5ECF6\", \"gridcolor\": \"white\", \"gridwidth\": 2, \"linecolor\": \"white\", \"showbackground\": true, \"ticks\": \"\", \"zerolinecolor\": \"white\"}, \"yaxis\": {\"backgroundcolor\": \"#E5ECF6\", \"gridcolor\": \"white\", \"gridwidth\": 2, \"linecolor\": \"white\", \"showbackground\": true, \"ticks\": \"\", \"zerolinecolor\": \"white\"}, \"zaxis\": {\"backgroundcolor\": \"#E5ECF6\", \"gridcolor\": \"white\", \"gridwidth\": 2, \"linecolor\": \"white\", \"showbackground\": true, \"ticks\": \"\", \"zerolinecolor\": \"white\"}}, \"shapedefaults\": {\"line\": {\"color\": \"#2a3f5f\"}}, \"ternary\": {\"aaxis\": {\"gridcolor\": \"white\", \"linecolor\": \"white\", \"ticks\": \"\"}, \"baxis\": {\"gridcolor\": \"white\", \"linecolor\": \"white\", \"ticks\": \"\"}, \"bgcolor\": \"#E5ECF6\", \"caxis\": {\"gridcolor\": \"white\", \"linecolor\": \"white\", \"ticks\": \"\"}}, \"title\": {\"x\": 0.05}, \"xaxis\": {\"automargin\": true, \"gridcolor\": \"white\", \"linecolor\": \"white\", \"ticks\": \"\", \"title\": {\"standoff\": 15}, \"zerolinecolor\": \"white\", \"zerolinewidth\": 2}, \"yaxis\": {\"automargin\": true, \"gridcolor\": \"white\", \"linecolor\": \"white\", \"ticks\": \"\", \"title\": {\"standoff\": 15}, \"zerolinecolor\": \"white\", \"zerolinewidth\": 2}}}, \"title\": {\"text\": \"Infrastructure Spending Over Time 1992\"}, \"updatemenus\": [{\"buttons\": [{\"args\": [null], \"label\": \"Play\", \"method\": \"animate\"}], \"type\": \"buttons\"}], \"xaxis\": {\"categoryorder\": \"total descending\"}, \"yaxis\": {\"range\": [0, 1200]}},\n                        {\"responsive\": true}\n                    ).then(function(){\n                            Plotly.addFrames('b4dbc86c-fd01-4656-a7db-440630f64bd9', [{\"data\": [{\"x\": [\"Alabama\", \"Arizona\", \"Arkansas\", \"California\", \"Colorado\", \"Connecticut\", \"Delaware\", \"Florida\", \"Georgia\", \"Idaho\", \"Illinois\", \"Indiana\", \"Iowa\", \"Kansas\", \"Kentucky\", \"Louisiana\", \"Maine\", \"Maryland\", \"Massachusetts\", \"Michigan\", \"Minnesota\", \"Mississippi\", \"Missouri\", \"Montana\", \"Nebraska\", \"Nevada\", \"Ohio\", \"Oklahoma\", \"Oregon\", \"Pennsylvania\", \"Tennessee\", \"Texas\", \"Utah\", \"Vermont\", \"Virginia\", \"Washington\", \"Wisconsin\", \"Wyoming\"], \"y\": [320.88371159255416, 345.00390837820277, 342.02944073300256, 202.18914934356613, 336.60366561223356, 448.9958311412193, 765.5942552285129, 384.7177017018055, 390.32534188311104, 464.01654023947714, 390.68268461634125, 296.7714935022516, 543.5956027293944, 445.2712979435813, 432.2239786516621, 345.5327032166204, 246.58587349524336, 260.7694574960556, 386.9934198429826, 223.7828635834279, 609.351710152045, 348.6811128525746, 285.28659607069045, 606.9213896278859, 559.6365715055985, 621.1668497791378, 307.2876225890655, 295.96520039173896, 356.104069559042, 213.84523044710048, 387.24239873203004, 344.2357003455827, 346.56914254091964, 349.04185997561893, 296.1422082413292, 343.15377024878916, 457.1495309548987, 983.9414357560341], \"type\": \"bar\"}], \"layout\": {\"title\": {\"text\": \"Infrastructure Spending Over Time 1992\"}, \"xaxis\": {\"categoryorder\": \"total descending\"}}}, {\"data\": [{\"x\": [\"Alabama\", \"Arizona\", \"Arkansas\", \"California\", \"Colorado\", \"Connecticut\", \"Delaware\", \"Florida\", \"Georgia\", \"Idaho\", \"Illinois\", \"Indiana\", \"Iowa\", \"Kansas\", \"Kentucky\", \"Louisiana\", \"Maine\", \"Maryland\", \"Massachusetts\", \"Michigan\", \"Minnesota\", \"Mississippi\", \"Missouri\", \"Montana\", \"Nebraska\", \"Nevada\", \"Ohio\", \"Oklahoma\", \"Oregon\", \"Pennsylvania\", \"Tennessee\", \"Texas\", \"Utah\", \"Vermont\", \"Virginia\", \"Washington\", \"Wisconsin\", \"Wyoming\"], \"y\": [329.4258157541149, 347.46944325497884, 351.35160782310663, 208.44019149324717, 340.14138062346314, 467.3258310222854, 785.5934808249044, 394.0044013264795, 398.002086424144, 467.3539144427373, 403.15448153434295, 305.7491584041642, 562.5995160475443, 459.15124204890475, 445.2433464968905, 358.1796740019077, 255.92365391324572, 269.00109741944567, 401.29771261598125, 231.28969361669976, 626.6741181265756, 359.1274614182717, 294.19444239203915, 618.0757635650976, 578.4905737621026, 622.8284802821627, 317.7592287892426, 305.4460301242339, 362.9486338725783, 221.62948190203932, 397.0473090446758, 351.10806587228683, 349.95386443339606, 360.535815081428, 304.09873785634346, 349.47969626335623, 470.6576322201689, 1011.1847140819516], \"type\": \"bar\"}], \"layout\": {\"title\": {\"text\": \"Infrastructure Spending Over Time 1993\"}, \"xaxis\": {\"categoryorder\": \"total descending\"}}}, {\"data\": [{\"x\": [\"Alabama\", \"Arizona\", \"Arkansas\", \"California\", \"Colorado\", \"Connecticut\", \"Delaware\", \"Florida\", \"Georgia\", \"Idaho\", \"Illinois\", \"Indiana\", \"Iowa\", \"Kansas\", \"Kentucky\", \"Louisiana\", \"Maine\", \"Maryland\", \"Massachusetts\", \"Michigan\", \"Minnesota\", \"Mississippi\", \"Missouri\", \"Montana\", \"Nebraska\", \"Nevada\", \"Ohio\", \"Oklahoma\", \"Oregon\", \"Pennsylvania\", \"Tennessee\", \"Texas\", \"Utah\", \"Vermont\", \"Virginia\", \"Washington\", \"Wisconsin\", \"Wyoming\"], \"y\": [327.56897352092443, 357.54459066424823, 380.41218393009075, 213.14943469205832, 352.900865100673, 456.6337223782305, 798.4785775589484, 422.4483121729737, 429.41157268766233, 490.8904680838323, 402.96650923601266, 312.19992390733404, 595.2137927817059, 543.8609670711894, 452.33134940096227, 369.8425635667015, 290.7100098813351, 275.7249101428147, 471.09918306873817, 231.1257124929352, 633.637594863632, 407.7557303497344, 334.7220312936098, 642.5315496249369, 609.098942925631, 669.8180704592457, 315.6843332162469, 331.89048214190547, 370.3904776651025, 228.93848434861567, 410.91427956062887, 364.6244238634959, 363.05528906423206, 350.81879426498534, 344.6467682591298, 417.582085948817, 472.8572482722023, 1028.1800152426829], \"type\": \"bar\"}], \"layout\": {\"title\": {\"text\": \"Infrastructure Spending Over Time 1994\"}, \"xaxis\": {\"categoryorder\": \"total descending\"}}}, {\"data\": [{\"x\": [\"Alabama\", \"Arizona\", \"Arkansas\", \"California\", \"Colorado\", \"Connecticut\", \"Delaware\", \"Florida\", \"Georgia\", \"Idaho\", \"Illinois\", \"Indiana\", \"Iowa\", \"Kansas\", \"Kentucky\", \"Louisiana\", \"Maine\", \"Maryland\", \"Massachusetts\", \"Michigan\", \"Minnesota\", \"Mississippi\", \"Missouri\", \"Montana\", \"Nebraska\", \"Nevada\", \"Ohio\", \"Oklahoma\", \"Oregon\", \"Pennsylvania\", \"Tennessee\", \"Texas\", \"Utah\", \"Vermont\", \"Virginia\", \"Washington\", \"Wisconsin\", \"Wyoming\"], \"y\": [294.495008012469, 332.8195076374978, 371.7883119412319, 196.95991477613256, 332.1780998223411, 400.6317350387852, 732.7309558449875, 410.16071238864345, 419.11526377129815, 468.4575107296137, 363.35764562448173, 288.01849643436714, 569.1002020514915, 575.9549305705347, 415.12478574659787, 345.3330862587564, 297.2375181625261, 255.757666238691, 494.20973931661644, 207.90971225185098, 579.4352120153427, 416.3598172728584, 342.4224497193222, 605.3893856459596, 578.6427111529151, 653.2835401241466, 282.56008049128803, 325.67315674831815, 341.70364303288227, 214.1302705404333, 384.6810481938377, 342.63842268181304, 342.3365544063206, 307.4308499777807, 351.6679512442224, 443.20039830426083, 428.77716271974873, 950.0090919161371], \"type\": \"bar\"}], \"layout\": {\"title\": {\"text\": \"Infrastructure Spending Over Time 1995\"}, \"xaxis\": {\"categoryorder\": \"total descending\"}}}, {\"data\": [{\"x\": [\"Alabama\", \"Arizona\", \"Arkansas\", \"California\", \"Colorado\", \"Connecticut\", \"Delaware\", \"Florida\", \"Georgia\", \"Idaho\", \"Illinois\", \"Indiana\", \"Iowa\", \"Kansas\", \"Kentucky\", \"Louisiana\", \"Maine\", \"Maryland\", \"Massachusetts\", \"Michigan\", \"Minnesota\", \"Mississippi\", \"Missouri\", \"Montana\", \"Nebraska\", \"Nevada\", \"Ohio\", \"Oklahoma\", \"Oregon\", \"Pennsylvania\", \"Tennessee\", \"Texas\", \"Utah\", \"Vermont\", \"Virginia\", \"Washington\", \"Wisconsin\", \"Wyoming\"], \"y\": [276.69452030496905, 327.55259787902827, 381.1501490304042, 189.89249776964598, 328.6258404769723, 364.70494608252756, 705.1685485978352, 416.52728016413215, 428.1248870567938, 471.23109591094084, 342.69170684555166, 278.37371214764653, 570.9768005524363, 634.0590224403506, 399.4392240658523, 338.6078013479879, 316.09200957600706, 248.7112285951235, 539.3719025213327, 195.31687665003554, 554.1778199776536, 444.57577239222485, 365.2075080553096, 601.6019966782865, 576.4670680851657, 665.8352521428446, 264.2125275050612, 334.11163673527204, 330.3825529633466, 209.92376811844616, 377.85363378636157, 337.784011987642, 338.57187997743114, 280.5004502414932, 374.1805367376537, 488.16262468550144, 406.93853757797905, 922.6616120062072], \"type\": \"bar\"}], \"layout\": {\"title\": {\"text\": \"Infrastructure Spending Over Time 1996\"}, \"xaxis\": {\"categoryorder\": \"total descending\"}}}, {\"data\": [{\"x\": [\"Alabama\", \"Arizona\", \"Arkansas\", \"California\", \"Colorado\", \"Connecticut\", \"Delaware\", \"Florida\", \"Georgia\", \"Idaho\", \"Illinois\", \"Indiana\", \"Iowa\", \"Kansas\", \"Kentucky\", \"Louisiana\", \"Maine\", \"Maryland\", \"Massachusetts\", \"Michigan\", \"Minnesota\", \"Mississippi\", \"Missouri\", \"Montana\", \"Nebraska\", \"Nevada\", \"Ohio\", \"Oklahoma\", \"Oregon\", \"Pennsylvania\", \"Tennessee\", \"Texas\", \"Utah\", \"Vermont\", \"Virginia\", \"Washington\", \"Wisconsin\", \"Wyoming\"], \"y\": [291.6395947393237, 326.38739846408566, 396.99969136377194, 199.00658358440643, 364.4058671500707, 356.17990316088594, 688.3571148697187, 421.94853354309475, 428.3305820097904, 458.1782498153866, 357.43960230142613, 275.97017899076525, 568.6772262853508, 612.6121270982086, 409.0389619163236, 334.0743992149635, 314.7400248149918, 256.8176097220569, 550.6938462353544, 193.25886903514913, 546.2386240151408, 430.990480360023, 367.86248040312825, 605.70543503743, 571.9716045849078, 642.6552938950728, 272.11046102304766, 348.69725027525004, 314.3321491317053, 232.70548127612375, 366.7038336258906, 338.45014114129333, 354.581225788553, 294.8315255705707, 376.61249765701973, 472.7663025585709, 425.77345062290453, 932.0085577806433], \"type\": \"bar\"}], \"layout\": {\"title\": {\"text\": \"Infrastructure Spending Over Time 1997\"}, \"xaxis\": {\"categoryorder\": \"total descending\"}}}, {\"data\": [{\"x\": [\"Alabama\", \"Arizona\", \"Arkansas\", \"California\", \"Colorado\", \"Connecticut\", \"Delaware\", \"Florida\", \"Georgia\", \"Idaho\", \"Illinois\", \"Indiana\", \"Iowa\", \"Kansas\", \"Kentucky\", \"Louisiana\", \"Maine\", \"Maryland\", \"Massachusetts\", \"Michigan\", \"Minnesota\", \"Mississippi\", \"Missouri\", \"Montana\", \"Nebraska\", \"Nevada\", \"Ohio\", \"Oklahoma\", \"Oregon\", \"Pennsylvania\", \"Tennessee\", \"Texas\", \"Utah\", \"Vermont\", \"Virginia\", \"Washington\", \"Wisconsin\", \"Wyoming\"], \"y\": [316.06787071679696, 335.51276258083675, 426.39789898518717, 214.3161016160369, 412.44031507442617, 357.22612521134045, 690.2143089457119, 441.2272952590616, 441.7146968214064, 459.5120897082921, 383.71588399252545, 281.71528384456883, 582.8383184348266, 607.1023740396192, 431.3844104811263, 339.1918598281179, 322.9607696340199, 272.9567928091458, 579.1479958928503, 197.01939801619739, 554.2694023012388, 429.82334030570615, 382.2178027579272, 628.8268888148597, 585.4150961119286, 644.1908689897532, 288.5847632159884, 374.4279794626585, 307.91683868795616, 263.8963654470728, 366.6999283410634, 349.2167793563733, 383.26790639838293, 319.03606460778315, 391.0422765485015, 471.88067439403983, 458.80450176977797, 969.2987115791228], \"type\": \"bar\"}], \"layout\": {\"title\": {\"text\": \"Infrastructure Spending Over Time 1998\"}, \"xaxis\": {\"categoryorder\": \"total descending\"}}}, {\"data\": [{\"x\": [\"Alabama\", \"Arizona\", \"Arkansas\", \"California\", \"Colorado\", \"Connecticut\", \"Delaware\", \"Florida\", \"Georgia\", \"Idaho\", \"Illinois\", \"Indiana\", \"Iowa\", \"Kansas\", \"Kentucky\", \"Louisiana\", \"Maine\", \"Maryland\", \"Massachusetts\", \"Michigan\", \"Minnesota\", \"Mississippi\", \"Missouri\", \"Montana\", \"Nebraska\", \"Nevada\", \"Ohio\", \"Oklahoma\", \"Oregon\", \"Pennsylvania\", \"Tennessee\", \"Texas\", \"Utah\", \"Vermont\", \"Virginia\", \"Washington\", \"Wisconsin\", \"Wyoming\"], \"y\": [342.478320825692, 344.8270233211087, 457.1072124695213, 230.17140290421628, 461.4515845510983, 356.2985846264097, 689.750218303523, 461.36353830300146, 454.8735015870081, 459.5861628185668, 410.99141929212254, 286.9507669739072, 595.6751433132839, 600.6261369407985, 454.18441865015495, 343.6129857148902, 329.84980527357465, 289.3143637001381, 607.8967231504109, 200.19191435327753, 559.8723737872494, 427.37299715128734, 396.45592499951533, 649.8840593172243, 597.6478186441045, 646.5850823516666, 305.69607984752844, 401.9042037567107, 300.4875527493596, 297.1204974213808, 365.7363361408289, 360.30723391937823, 414.08164760103585, 343.60662916428066, 403.76830083085605, 470.88255931134273, 492.6053900944796, 1007.2664417579576], \"type\": \"bar\"}], \"layout\": {\"title\": {\"text\": \"Infrastructure Spending Over Time 1999\"}, \"xaxis\": {\"categoryorder\": \"total descending\"}}}, {\"data\": [{\"x\": [\"Alabama\", \"Arizona\", \"Arkansas\", \"California\", \"Colorado\", \"Connecticut\", \"Delaware\", \"Florida\", \"Georgia\", \"Idaho\", \"Illinois\", \"Indiana\", \"Iowa\", \"Kansas\", \"Kentucky\", \"Louisiana\", \"Maine\", \"Maryland\", \"Massachusetts\", \"Michigan\", \"Minnesota\", \"Mississippi\", \"Missouri\", \"Montana\", \"Nebraska\", \"Nevada\", \"Ohio\", \"Oklahoma\", \"Oregon\", \"Pennsylvania\", \"Tennessee\", \"Texas\", \"Utah\", \"Vermont\", \"Virginia\", \"Washington\", \"Wisconsin\", \"Wyoming\"], \"y\": [357.0299267346529, 328.29643765262324, 458.1809520538434, 238.59719570835298, 480.10559933957666, 334.2038474378601, 652.7436725319917, 449.92224652851235, 441.925744074334, 439.52271380528384, 421.3768021823105, 280.12861740556997, 584.1607583575247, 573.7123289654567, 460.14950280574, 332.87595723056387, 324.2503163486475, 294.07192648361877, 608.3175184684923, 197.7162407246457, 540.0278331115927, 405.16782856619244, 394.092328105313, 643.3573474755276, 581.0621885612258, 589.6848580377572, 313.9562194642991, 411.781325945579, 278.7639647456868, 317.53720824348534, 345.266483148977, 353.50910040865625, 419.8967075992804, 353.77564310765104, 398.89938060605846, 451.87235894284623, 507.31587408185226, 991.3979364758244], \"type\": \"bar\"}], \"layout\": {\"title\": {\"text\": \"Infrastructure Spending Over Time 2000\"}, \"xaxis\": {\"categoryorder\": \"total descending\"}}}, {\"data\": [{\"x\": [\"Alabama\", \"Arizona\", \"Arkansas\", \"California\", \"Colorado\", \"Connecticut\", \"Delaware\", \"Florida\", \"Georgia\", \"Idaho\", \"Illinois\", \"Indiana\", \"Iowa\", \"Kansas\", \"Kentucky\", \"Louisiana\", \"Maine\", \"Maryland\", \"Massachusetts\", \"Michigan\", \"Minnesota\", \"Mississippi\", \"Missouri\", \"Montana\", \"Nebraska\", \"Nevada\", \"Ohio\", \"Oklahoma\", \"Oregon\", \"Pennsylvania\", \"Tennessee\", \"Texas\", \"Utah\", \"Vermont\", \"Virginia\", \"Washington\", \"Wisconsin\", \"Wyoming\"], \"y\": [385.58619618348325, 337.443208721684, 489.8518374584954, 255.078371591572, 529.1470002284391, 329.9375006372284, 649.806019612944, 466.93292631408536, 455.03028636136065, 438.32852763943197, 450.2266695333166, 284.49563951590795, 596.3931750271231, 564.4413621389094, 484.5012403727313, 336.061859699076, 329.43348795823573, 309.7670173038785, 636.8915445928917, 200.31127641345515, 543.8249930360384, 401.93565075846635, 407.86085512472476, 663.6316225284219, 591.1743910465882, 589.6643107435716, 331.7742129812906, 441.4049205387788, 268.9082875496297, 353.2307176942459, 342.7973100734525, 363.703915575989, 449.7894877425598, 380.08209426957166, 410.8527745617684, 448.3409018995536, 542.5676944090212, 1026.44863006083], \"type\": \"bar\"}], \"layout\": {\"title\": {\"text\": \"Infrastructure Spending Over Time 2001\"}, \"xaxis\": {\"categoryorder\": \"total descending\"}}}, {\"data\": [{\"x\": [\"Alabama\", \"Arizona\", \"Arkansas\", \"California\", \"Colorado\", \"Connecticut\", \"Delaware\", \"Florida\", \"Georgia\", \"Idaho\", \"Illinois\", \"Indiana\", \"Iowa\", \"Kansas\", \"Kentucky\", \"Louisiana\", \"Maine\", \"Maryland\", \"Massachusetts\", \"Michigan\", \"Minnesota\", \"Mississippi\", \"Missouri\", \"Montana\", \"Nebraska\", \"Nevada\", \"Ohio\", \"Oklahoma\", \"Oregon\", \"Pennsylvania\", \"Tennessee\", \"Texas\", \"Utah\", \"Vermont\", \"Virginia\", \"Washington\", \"Wisconsin\", \"Wyoming\"], \"y\": [397.7811601510595, 330.98899143943345, 499.92220780531034, 261.0906455388664, 559.0416545853537, 309.8915243632885, 616.353394883703, 462.5626970940186, 448.8401618381017, 417.366223705061, 460.0842469587777, 276.269999498048, 581.6052843774559, 528.0650516761347, 487.14838473058467, 322.81138744931087, 319.25136578289454, 311.65253072896076, 638.8948710700575, 194.02448753009023, 524.2470763219687, 379.741915939554, 403.37860638874326, 652.9686826439918, 573.5483355821816, 565.3464385490602, 335.1034534084264, 450.6612058192991, 246.02552951195185, 373.66575430716216, 324.6455522662674, 357.76310405676264, 459.5058101397316, 389.5151777096786, 404.6593099673893, 424.9652490297569, 553.5965688440492, 1005.257821234078], \"type\": \"bar\"}], \"layout\": {\"title\": {\"text\": \"Infrastructure Spending Over Time 2002\"}, \"xaxis\": {\"categoryorder\": \"total descending\"}}}, {\"data\": [{\"x\": [\"Alabama\", \"Arizona\", \"Arkansas\", \"California\", \"Colorado\", \"Connecticut\", \"Delaware\", \"Florida\", \"Georgia\", \"Idaho\", \"Illinois\", \"Indiana\", \"Iowa\", \"Kansas\", \"Kentucky\", \"Louisiana\", \"Maine\", \"Maryland\", \"Massachusetts\", \"Michigan\", \"Minnesota\", \"Mississippi\", \"Missouri\", \"Montana\", \"Nebraska\", \"Nevada\", \"Ohio\", \"Oklahoma\", \"Oregon\", \"Pennsylvania\", \"Tennessee\", \"Texas\", \"Utah\", \"Vermont\", \"Virginia\", \"Washington\", \"Wisconsin\", \"Wyoming\"], \"y\": [377.484933355035, 329.6419256513725, 451.20441160063655, 247.28569714844562, 508.6958115428336, 285.7652074886004, 594.2252045530396, 445.377566625902, 410.32679318638407, 406.83155099825433, 439.92675696395804, 279.9338931853046, 547.8805397282595, 504.92213746289013, 454.79103364689826, 366.4871947661623, 296.9583923007272, 306.1060148256936, 563.1460327766243, 186.31487701809513, 503.6906568264982, 362.59026214721405, 385.54801614109215, 642.3985733392777, 551.0792037238238, 534.4287080063143, 317.0784626702305, 440.3399591199956, 245.79407426785323, 382.4758631713296, 318.6253251643521, 345.19771316064674, 458.3653406560721, 373.6829498040002, 365.2145242207217, 431.55789168454396, 521.2106578274249, 984.9479494610221], \"type\": \"bar\"}], \"layout\": {\"title\": {\"text\": \"Infrastructure Spending Over Time 2003\"}, \"xaxis\": {\"categoryorder\": \"total descending\"}}}, {\"data\": [{\"x\": [\"Alabama\", \"Arizona\", \"Arkansas\", \"California\", \"Colorado\", \"Connecticut\", \"Delaware\", \"Florida\", \"Georgia\", \"Idaho\", \"Illinois\", \"Indiana\", \"Iowa\", \"Kansas\", \"Kentucky\", \"Louisiana\", \"Maine\", \"Maryland\", \"Massachusetts\", \"Michigan\", \"Minnesota\", \"Mississippi\", \"Missouri\", \"Montana\", \"Nebraska\", \"Nevada\", \"Ohio\", \"Oklahoma\", \"Oregon\", \"Pennsylvania\", \"Tennessee\", \"Texas\", \"Utah\", \"Vermont\", \"Virginia\", \"Washington\", \"Wisconsin\", \"Wyoming\"], \"y\": [370.40948597896715, 337.4113032260256, 418.9445631246623, 242.83195954324233, 476.97940967599436, 273.4079804490383, 592.2968501558131, 441.43758959784714, 386.2125298714189, 408.70037548444384, 435.24819708822383, 292.9712737367373, 533.2185595037979, 499.3404338032887, 438.9618101440366, 419.79922842346997, 286.3929639305528, 311.29335389724235, 510.37953576894085, 185.38494318676243, 500.9618270527445, 356.9464972430002, 381.16974999395416, 652.0205718439285, 547.9372574126686, 518.4232353119185, 310.68398692973113, 444.64947423333444, 254.57246650266444, 404.013884123744, 322.8921793954093, 344.40435289362705, 471.13483623281337, 371.26564718028135, 338.7331409289586, 450.49942179879247, 507.6608271342935, 994.1132102155543], \"type\": \"bar\"}], \"layout\": {\"title\": {\"text\": \"Infrastructure Spending Over Time 2004\"}, \"xaxis\": {\"categoryorder\": \"total descending\"}}}, {\"data\": [{\"x\": [\"Alabama\", \"Arizona\", \"Arkansas\", \"California\", \"Colorado\", \"Connecticut\", \"Delaware\", \"Florida\", \"Georgia\", \"Idaho\", \"Illinois\", \"Indiana\", \"Iowa\", \"Kansas\", \"Kentucky\", \"Louisiana\", \"Maine\", \"Maryland\", \"Massachusetts\", \"Michigan\", \"Minnesota\", \"Mississippi\", \"Missouri\", \"Montana\", \"Nebraska\", \"Nevada\", \"Ohio\", \"Oklahoma\", \"Oregon\", \"Pennsylvania\", \"Tennessee\", \"Texas\", \"Utah\", \"Vermont\", \"Virginia\", \"Washington\", \"Wisconsin\", \"Wyoming\"], \"y\": [351.90670061414, 332.1754448519861, 375.09766829420187, 231.9433465661146, 431.9160998711541, 253.58744164454876, 572.1528722711945, 424.5406830766754, 351.911544824165, 396.2776590225319, 418.4887861548182, 296.4909782665479, 503.68803159030296, 479.4803771829589, 410.2524133690292, 459.2590876951328, 268.3200547169482, 307.4405364872445, 444.03970458935953, 179.40437982289967, 483.94815374175863, 341.577587722815, 365.5915928362952, 642.3228543285728, 528.5209114747286, 491.300059248161, 295.60057644731194, 435.44025991117053, 254.02731427692115, 412.8994481120065, 316.61040781284504, 333.3026606274801, 466.55130224407264, 358.54736282929423, 304.17487945593996, 454.99636025413497, 480.1012086547716, 974.9453960560686], \"type\": \"bar\"}], \"layout\": {\"title\": {\"text\": \"Infrastructure Spending Over Time 2005\"}, \"xaxis\": {\"categoryorder\": \"total descending\"}}}, {\"data\": [{\"x\": [\"Alabama\", \"Arizona\", \"Arkansas\", \"California\", \"Colorado\", \"Connecticut\", \"Delaware\", \"Florida\", \"Georgia\", \"Idaho\", \"Illinois\", \"Indiana\", \"Iowa\", \"Kansas\", \"Kentucky\", \"Louisiana\", \"Maine\", \"Maryland\", \"Massachusetts\", \"Michigan\", \"Minnesota\", \"Mississippi\", \"Missouri\", \"Montana\", \"Nebraska\", \"Nevada\", \"Ohio\", \"Oklahoma\", \"Oregon\", \"Pennsylvania\", \"Tennessee\", \"Texas\", \"Utah\", \"Vermont\", \"Virginia\", \"Washington\", \"Wisconsin\", \"Wyoming\"], \"y\": [337.8763058219509, 331.4238296964692, 338.09029184257633, 225.2599455176426, 393.06053715948764, 238.34016591517744, 561.2730836013909, 416.9285610879953, 322.3023449692561, 388.99983590584407, 407.98254976389904, 303.4993618014774, 481.52645773347405, 466.2211977063489, 388.9229787646539, 537.865718107266, 254.981229492777, 308.6208878859332, 385.8295772723103, 176.4299231941233, 473.4861931363179, 333.8434921021777, 355.36217477387174, 640.3118741419053, 517.7935491368218, 472.29350946501665, 285.2268309977352, 430.11777668338857, 255.98228001273807, 426.40911550963654, 314.12309160838174, 324.6962060105533, 466.2402440381278, 351.2807998818415, 276.27612404666576, 462.79772579473723, 460.7789474250379, 963.8814005858416], \"type\": \"bar\"}], \"layout\": {\"title\": {\"text\": \"Infrastructure Spending Over Time 2006\"}, \"xaxis\": {\"categoryorder\": \"total descending\"}}}, {\"data\": [{\"x\": [\"Alabama\", \"Arizona\", \"Arkansas\", \"California\", \"Colorado\", \"Connecticut\", \"Delaware\", \"Florida\", \"Georgia\", \"Idaho\", \"Illinois\", \"Indiana\", \"Iowa\", \"Kansas\", \"Kentucky\", \"Louisiana\", \"Maine\", \"Maryland\", \"Massachusetts\", \"Michigan\", \"Minnesota\", \"Mississippi\", \"Missouri\", \"Montana\", \"Nebraska\", \"Nevada\", \"Ohio\", \"Oklahoma\", \"Oregon\", \"Pennsylvania\", \"Tennessee\", \"Texas\", \"Utah\", \"Vermont\", \"Virginia\", \"Washington\", \"Wisconsin\", \"Wyoming\"], \"y\": [306.85600191746346, 314.08287815144786, 287.03210292594736, 206.04474262303572, 336.4112003077521, 210.8134619691716, 520.1543104723952, 388.6881213372807, 278.8806787773417, 361.0419206633424, 374.44858034891035, 292.64362854154314, 434.01133364363704, 426.9094057191917, 347.250387156915, 542.974521554966, 228.44827586206895, 292.38646848060495, 309.8079330376974, 163.90495460382886, 436.8174238645969, 305.04891833284955, 326.1014822308264, 601.9025485484697, 478.41643116673396, 430.54517522006313, 259.3512716178159, 401.11447744836835, 243.31878991526204, 414.3796645908046, 294.2670555223701, 299.71777841566944, 438.12790011032644, 325.0491995746462, 236.01741710747, 444.4567565212695, 416.65919592213197, 892.1282689819697], \"type\": \"bar\"}], \"layout\": {\"title\": {\"text\": \"Infrastructure Spending Over Time 2007\"}, \"xaxis\": {\"categoryorder\": \"total descending\"}}}, {\"data\": [{\"x\": [\"Alabama\", \"Arizona\", \"Arkansas\", \"California\", \"Colorado\", \"Connecticut\", \"Delaware\", \"Florida\", \"Georgia\", \"Idaho\", \"Illinois\", \"Indiana\", \"Iowa\", \"Kansas\", \"Kentucky\", \"Louisiana\", \"Maine\", \"Maryland\", \"Massachusetts\", \"Michigan\", \"Minnesota\", \"Mississippi\", \"Missouri\", \"Montana\", \"Nebraska\", \"Nevada\", \"Ohio\", \"Oklahoma\", \"Oregon\", \"Pennsylvania\", \"Tennessee\", \"Texas\", \"Utah\", \"Vermont\", \"Virginia\", \"Washington\", \"Wisconsin\", \"Wyoming\"], \"y\": [281.5595588662301, 301.7049017238179, 244.67482607736713, 189.83253268594922, 289.67427649379414, 187.5964405249467, 487.4450430717501, 367.0331437842687, 244.36963345949007, 340.2953751499035, 347.3623440990762, 284.74992085364136, 395.02389007449773, 394.62642748985434, 313.39655813055754, 550.7452679307763, 206.6246827342017, 279.55070963497576, 244.94900035817156, 154.2062045731082, 407.63744282943185, 282.1003146068636, 302.91179010640934, 571.8029731210602, 446.2468366902734, 400.87314358068005, 238.349614007896, 378.62253664237653, 233.82221363699563, 406.22646887538616, 279.22062435143135, 279.6336786493288, 416.90308291798544, 303.96009939902365, 202.48085912088294, 429.93625186312397, 380.8440920716838, 836.2931124471883], \"type\": \"bar\"}], \"layout\": {\"title\": {\"text\": \"Infrastructure Spending Over Time 2008\"}, \"xaxis\": {\"categoryorder\": \"total descending\"}}}, {\"data\": [{\"x\": [\"Alabama\", \"Arizona\", \"Arkansas\", \"California\", \"Colorado\", \"Connecticut\", \"Delaware\", \"Florida\", \"Georgia\", \"Idaho\", \"Illinois\", \"Indiana\", \"Iowa\", \"Kansas\", \"Kentucky\", \"Louisiana\", \"Maine\", \"Maryland\", \"Massachusetts\", \"Michigan\", \"Minnesota\", \"Mississippi\", \"Missouri\", \"Montana\", \"Nebraska\", \"Nevada\", \"Ohio\", \"Oklahoma\", \"Oregon\", \"Pennsylvania\", \"Tennessee\", \"Texas\", \"Utah\", \"Vermont\", \"Virginia\", \"Washington\", \"Wisconsin\", \"Wyoming\"], \"y\": [278.78799597640824, 314.4512966262525, 223.23784892726323, 188.5132120471427, 267.77167830304325, 179.61276397064745, 494.77308153813374, 374.22962664167073, 231.13476715041483, 347.7048632979487, 347.3703302503177, 298.6457563290282, 387.4960021365901, 393.17768464336547, 305.01191316155337, 598.248571571058, 201.86523665190023, 287.2613512383454, 201.61154091229412, 156.24721320038367, 410.5127184090443, 282.0076829119087, 303.2600760129694, 587.7648168360803, 447.8692634067843, 405.6636489096405, 236.05209033024497, 383.7472414791159, 242.35860946279473, 428.1579536140691, 286.08381928440116, 281.1074584582925, 428.0450947539877, 306.39211161027947, 185.74964701334366, 447.2208615438702, 375.20073152352757, 841.11308187357], \"type\": \"bar\"}], \"layout\": {\"title\": {\"text\": \"Infrastructure Spending Over Time 2009\"}, \"xaxis\": {\"categoryorder\": \"total descending\"}}}, {\"data\": [{\"x\": [\"Alabama\", \"Arizona\", \"Arkansas\", \"California\", \"Colorado\", \"Connecticut\", \"Delaware\", \"Florida\", \"Georgia\", \"Idaho\", \"Illinois\", \"Indiana\", \"Iowa\", \"Kansas\", \"Kentucky\", \"Louisiana\", \"Maine\", \"Maryland\", \"Massachusetts\", \"Michigan\", \"Minnesota\", \"Mississippi\", \"Missouri\", \"Montana\", \"Nebraska\", \"Nevada\", \"Ohio\", \"Oklahoma\", \"Oregon\", \"Pennsylvania\", \"Tennessee\", \"Texas\", \"Utah\", \"Vermont\", \"Virginia\", \"Washington\", \"Wisconsin\", \"Wyoming\"], \"y\": [272.2395128297608, 282.71426747627953, 237.92589864880128, 194.3563092266654, 255.0064496777538, 186.4874930605478, 505.51827550139114, 344.7897004708072, 223.36545681832013, 331.45002702411927, 341.3075535345268, 287.43443357309195, 385.59481896500574, 367.45775235754826, 324.1190452536804, 521.2772862947189, 222.44400072006874, 269.81936102642624, 196.9854289386639, 146.41789900924283, 405.3030973459659, 284.3717546703292, 281.0211789718265, 573.3731692792184, 443.79372220348694, 376.41494877118566, 238.7717125835038, 371.6342545533075, 226.7067506007639, 421.0065353903416, 264.080756281392, 285.99288714314935, 383.60056683455764, 311.28192674065247, 195.22771922845502, 420.93922757629423, 363.5023612881594, 779.4310675587346], \"type\": \"bar\"}], \"layout\": {\"title\": {\"text\": \"Infrastructure Spending Over Time 2010\"}, \"xaxis\": {\"categoryorder\": \"total descending\"}}}, {\"data\": [{\"x\": [\"Alabama\", \"Arizona\", \"Arkansas\", \"California\", \"Colorado\", \"Connecticut\", \"Delaware\", \"Florida\", \"Georgia\", \"Idaho\", \"Illinois\", \"Indiana\", \"Iowa\", \"Kansas\", \"Kentucky\", \"Louisiana\", \"Maine\", \"Maryland\", \"Massachusetts\", \"Michigan\", \"Minnesota\", \"Mississippi\", \"Missouri\", \"Montana\", \"Nebraska\", \"Nevada\", \"Ohio\", \"Oklahoma\", \"Oregon\", \"Pennsylvania\", \"Tennessee\", \"Texas\", \"Utah\", \"Vermont\", \"Virginia\", \"Washington\", \"Wisconsin\", \"Wyoming\"], \"y\": [260.63777256720397, 246.69587123707174, 246.68365386642404, 195.5584594887634, 237.4398172553154, 189.11579677158315, 503.95883603829924, 309.30817370446397, 211.0320360927534, 309.3471323106133, 328.27892730239535, 270.5673405193908, 375.28189249151876, 336.7734417497161, 335.2670679188811, 440.11442571681044, 236.49483278922492, 247.74097507277526, 188.20380580138118, 133.36334430261581, 390.7638844728071, 280.44873247275143, 254.63694161980123, 546.8312351255817, 431.1608255464405, 341.3885299327636, 236.03157356374453, 353.1607696741786, 206.6033477660902, 405.0066635014904, 237.7026819688708, 284.2619509446958, 335.6565322472633, 308.7323440641457, 199.99550752446456, 386.4364870254453, 344.6092074085498, 706.2825665957698], \"type\": \"bar\"}], \"layout\": {\"title\": {\"text\": \"Infrastructure Spending Over Time 2011\"}, \"xaxis\": {\"categoryorder\": \"total descending\"}}}, {\"data\": [{\"x\": [\"Alabama\", \"Arizona\", \"Arkansas\", \"California\", \"Colorado\", \"Connecticut\", \"Delaware\", \"Florida\", \"Georgia\", \"Idaho\", \"Illinois\", \"Indiana\", \"Iowa\", \"Kansas\", \"Kentucky\", \"Louisiana\", \"Maine\", \"Maryland\", \"Massachusetts\", \"Michigan\", \"Minnesota\", \"Mississippi\", \"Missouri\", \"Montana\", \"Nebraska\", \"Nevada\", \"Ohio\", \"Oklahoma\", \"Oregon\", \"Pennsylvania\", \"Tennessee\", \"Texas\", \"Utah\", \"Vermont\", \"Virginia\", \"Washington\", \"Wisconsin\", \"Wyoming\"], \"y\": [248.1154881668352, 211.84458899655053, 253.55585537625018, 195.30698887437092, 220.03924015049117, 190.41608406293818, 498.9732588545501, 274.5430321889693, 198.1956019944303, 287.4516733399753, 314.43583647913863, 253.50662006007346, 363.9970047230214, 305.91256344368577, 343.55660440783845, 363.72004145093933, 248.10894409582454, 226.1131466661006, 178.84782261940506, 120.35544728993061, 375.15685727568575, 275.26143378055144, 228.7533726616227, 518.9589789756295, 416.348787365316, 304.706941089457, 231.99062658888153, 333.76255459086957, 187.2999731801886, 388.0474798465016, 211.71786028955268, 280.1804699564333, 290.1810208727935, 305.38938407723344, 202.70838707408015, 353.25085571722605, 325.0066205486097, 627.8890707805], \"type\": \"bar\"}], \"layout\": {\"title\": {\"text\": \"Infrastructure Spending Over Time 2012\"}, \"xaxis\": {\"categoryorder\": \"total descending\"}}}, {\"data\": [{\"x\": [\"Alabama\", \"Arizona\", \"Arkansas\", \"California\", \"Colorado\", \"Connecticut\", \"Delaware\", \"Florida\", \"Georgia\", \"Idaho\", \"Illinois\", \"Indiana\", \"Iowa\", \"Kansas\", \"Kentucky\", \"Louisiana\", \"Maine\", \"Maryland\", \"Massachusetts\", \"Michigan\", \"Minnesota\", \"Mississippi\", \"Missouri\", \"Montana\", \"Nebraska\", \"Nevada\", \"Ohio\", \"Oklahoma\", \"Oregon\", \"Pennsylvania\", \"Tennessee\", \"Texas\", \"Utah\", \"Vermont\", \"Virginia\", \"Washington\", \"Wisconsin\", \"Wyoming\"], \"y\": [235.13045198822917, 179.3238267349341, 258.3616256803421, 193.63661116991142, 202.6670086784218, 190.60807744163176, 490.47574729834145, 241.4551835397453, 185.74346264362057, 264.9199499023915, 299.7490341412515, 235.91633913318088, 350.4278532031216, 276.6435200700963, 348.48825910967923, 292.2975158018521, 256.89194854814633, 205.42169315214332, 169.10726449027706, 107.68465169551546, 357.964083844009, 268.6743333002211, 203.59709408704862, 488.48404292033393, 400.130130940239, 269.5980778953646, 226.27933454534025, 313.5537564502992, 168.71417977579628, 370.30149290216906, 187.2523739241671, 274.768590184325, 247.0942015811518, 299.7942876111349, 204.0122768539829, 321.0818385553667, 304.84303622927246, 556.6235282001991], \"type\": \"bar\"}], \"layout\": {\"title\": {\"text\": \"Infrastructure Spending Over Time 2013\"}, \"xaxis\": {\"categoryorder\": \"total descending\"}}}, {\"data\": [{\"x\": [\"Alabama\", \"Arizona\", \"Arkansas\", \"California\", \"Colorado\", \"Connecticut\", \"Delaware\", \"Florida\", \"Georgia\", \"Idaho\", \"Illinois\", \"Indiana\", \"Iowa\", \"Kansas\", \"Kentucky\", \"Louisiana\", \"Maine\", \"Maryland\", \"Massachusetts\", \"Michigan\", \"Minnesota\", \"Mississippi\", \"Missouri\", \"Montana\", \"Nebraska\", \"Nevada\", \"Ohio\", \"Oklahoma\", \"Oregon\", \"Pennsylvania\", \"Tennessee\", \"Texas\", \"Utah\", \"Vermont\", \"Virginia\", \"Washington\", \"Wisconsin\", \"Wyoming\"], \"y\": [228.43829051825068, 174.59545130288362, 264.1450518550007, 175.74964807827857, 199.18742855157188, 206.34858832654697, 484.9136937900466, 249.07796360207678, 193.88714596586465, 253.42656263018858, 340.3002477591934, 226.33485440232965, 367.71079162732593, 289.97081528026325, 347.1271851975281, 284.6335874477877, 255.06735566027177, 216.21059773854776, 192.2940357707117, 113.69867578974011, 387.60972845388443, 257.1042002853044, 186.76031047361585, 423.6914234195826, 414.47960190536475, 248.84184984754881, 236.8247716186337, 319.90930058282834, 176.30194023523703, 388.8190730865658, 177.07056043157303, 273.71397167654214, 220.91414604296935, 316.3484328576474, 208.97680576951524, 303.7482938438386, 277.03282990906445, 547.6516696132616], \"type\": \"bar\"}], \"layout\": {\"title\": {\"text\": \"Infrastructure Spending Over Time 2014\"}, \"xaxis\": {\"categoryorder\": \"total descending\"}}}, {\"data\": [{\"x\": [\"Alabama\", \"Arizona\", \"Arkansas\", \"California\", \"Colorado\", \"Connecticut\", \"Delaware\", \"Florida\", \"Georgia\", \"Idaho\", \"Illinois\", \"Indiana\", \"Iowa\", \"Kansas\", \"Kentucky\", \"Louisiana\", \"Maine\", \"Maryland\", \"Massachusetts\", \"Michigan\", \"Minnesota\", \"Mississippi\", \"Missouri\", \"Montana\", \"Nebraska\", \"Nevada\", \"Ohio\", \"Oklahoma\", \"Oregon\", \"Pennsylvania\", \"Tennessee\", \"Texas\", \"Utah\", \"Vermont\", \"Virginia\", \"Washington\", \"Wisconsin\", \"Wyoming\"], \"y\": [230.50657256329453, 176.6882146583909, 280.63429865504685, 164.05599525563963, 202.88768845584644, 231.90994941983712, 498.6704739057284, 266.2370269395128, 209.91062570451987, 251.63585971515798, 397.8560738935199, 225.56667667961094, 401.40001364273525, 315.6431903204606, 359.4095087834485, 287.83813492099205, 264.2822425434392, 236.56547986416695, 225.0600369195426, 124.85390533156078, 435.0224525811625, 255.32810006986082, 176.2998421012175, 372.36050586769693, 446.7630237746286, 236.69292749494429, 257.7972632818849, 338.95560639281035, 190.80452562148162, 424.6771538466711, 173.3599136604343, 283.48756618983373, 202.15033653681797, 346.1945318866749, 222.8224554554795, 297.151209376714, 258.74455810389406, 557.3961994512175], \"type\": \"bar\"}], \"layout\": {\"title\": {\"text\": \"Infrastructure Spending Over Time 2015\"}, \"xaxis\": {\"categoryorder\": \"total descending\"}}}, {\"data\": [{\"x\": [\"Alabama\", \"Arizona\", \"Arkansas\", \"California\", \"Colorado\", \"Connecticut\", \"Delaware\", \"Florida\", \"Georgia\", \"Idaho\", \"Illinois\", \"Indiana\", \"Iowa\", \"Kansas\", \"Kentucky\", \"Louisiana\", \"Maine\", \"Maryland\", \"Massachusetts\", \"Michigan\", \"Minnesota\", \"Mississippi\", \"Missouri\", \"Montana\", \"Nebraska\", \"Nevada\", \"Ohio\", \"Oklahoma\", \"Oregon\", \"Pennsylvania\", \"Tennessee\", \"Texas\", \"Utah\", \"Vermont\", \"Virginia\", \"Washington\", \"Wisconsin\", \"Wyoming\"], \"y\": [226.5243205836085, 174.1069210817296, 290.8481974988427, 147.53410198618178, 202.14223199642703, 253.59975194352805, 500.9226422621736, 276.9918724451559, 221.25748973511224, 241.64447790902332, 450.26485938808946, 218.32890472254923, 427.23436986349463, 335.7156613320324, 363.1574040167502, 284.0580465532776, 266.0588675030848, 252.6348365427482, 254.48538803154403, 133.37195052057353, 473.641174511706, 246.30349478949842, 160.27884631801246, 307.2513498705065, 469.08469679509335, 217.88183473166288, 273.5570091563102, 351.6959540424063, 200.2203128011803, 452.13992794132963, 164.7193463751397, 287.26146791094266, 176.3434629518491, 370.1963271542653, 231.8617153407762, 281.77986156364403, 231.87490584692745, 557.2813344200614], \"type\": \"bar\"}], \"layout\": {\"title\": {\"text\": \"Infrastructure Spending Over Time 2016\"}, \"xaxis\": {\"categoryorder\": \"total descending\"}}}, {\"data\": [{\"x\": [\"Alabama\", \"Arizona\", \"Arkansas\", \"California\", \"Colorado\", \"Connecticut\", \"Delaware\", \"Florida\", \"Georgia\", \"Idaho\", \"Illinois\", \"Indiana\", \"Iowa\", \"Kansas\", \"Kentucky\", \"Louisiana\", \"Maine\", \"Maryland\", \"Massachusetts\", \"Michigan\", \"Minnesota\", \"Mississippi\", \"Missouri\", \"Montana\", \"Nebraska\", \"Nevada\", \"Ohio\", \"Oklahoma\", \"Oregon\", \"Pennsylvania\", \"Tennessee\", \"Texas\", \"Utah\", \"Vermont\", \"Virginia\", \"Washington\", \"Wisconsin\", \"Wyoming\"], \"y\": [219.96175063125395, 166.96684263874116, 281.93571260929707, 142.90019125377802, 194.1593838168797, 247.1286518368685, 483.47916679715473, 265.08821123846116, 213.09574676316126, 230.29867800168049, 439.65728038568085, 211.719243934466, 414.4170594585928, 326.971938498577, 352.2330375999587, 276.91539395246525, 258.28546359591627, 245.01500119604802, 246.3703967037514, 129.51068644384466, 457.3391224687271, 239.71017904325242, 155.48201699713746, 295.7075973894115, 454.03594578606766, 208.3061219065192, 265.65601773266013, 341.81572004488504, 192.32757552273844, 439.83479382327613, 158.7989601396806, 275.8540659397836, 168.34807993452637, 359.8551985820595, 224.23958604232718, 269.51887539376605, 224.97374915568344, 547.2866960692697], \"type\": \"bar\"}], \"layout\": {\"title\": {\"text\": \"Infrastructure Spending Over Time 2017\"}, \"xaxis\": {\"categoryorder\": \"total descending\"}}}]);\n                        }).then(function(){\n                            \nvar gd = document.getElementById('b4dbc86c-fd01-4656-a7db-440630f64bd9');\nvar x = new MutationObserver(function (mutations, observer) {{\n        var display = window.getComputedStyle(gd).display;\n        if (!display || display === 'none') {{\n            console.log([gd, 'removed!']);\n            Plotly.purge(gd);\n            observer.disconnect();\n        }}\n}});\n\n// Listen for the removal of the full notebook cells\nvar notebookContainer = gd.closest('#notebook-container');\nif (notebookContainer) {{\n    x.observe(notebookContainer, {childList: true});\n}}\n\n// Listen for the clearing of the current output cell\nvar outputEl = gd.closest('.output');\nif (outputEl) {{\n    x.observe(outputEl, {childList: true});\n}}\n\n                        })\n                };\n                });\n            </script>\n        </div>"
     },
     "metadata": {}
    }
   ],
   "source": [
    "dates = list(range(1992,2018))\n",
    "fig = go.Figure(\n",
    "    data=[\n",
    "        go.Bar(x=state_infra['State'], y = state_infra[dates[0]])\n",
    "        ],\n",
    "    layout=go.Layout(\n",
    "        title_text=\"Infrastructure Spending Over Time \"+str(dates[0]),\n",
    "        xaxis={'categoryorder':'total descending'},\n",
    "        \n",
    "        updatemenus= [dict(type=\"buttons\",\n",
    "                        buttons=[dict(label=\"Play\", method=\"animate\", args=[None])])]\n",
    "    ),\n",
    "    layout_yaxis_range=[0,1200],\n",
    "    frames = [go.Frame(\n",
    "        data=[\n",
    "            go.Bar(x=state_infra['State'], y = state_infra[dates[k]])\n",
    "        ],\n",
    "        layout=go.Layout(\n",
    "            xaxis={'categoryorder':'total descending'},\n",
    "            title_text=\"Infrastructure Spending Over Time \"+str(dates[k]))\n",
    "        )\n",
    "        for k in range(len(dates))]\n",
    "    )\n",
    "fig.show()\n",
    "pio.write_html(fig, file='./InfrastructureBarTime.html', auto_open=True)"
   ]
  },
  {
   "source": [
    "## Next get political info"
   ],
   "cell_type": "markdown",
   "metadata": {}
  },
  {
   "cell_type": "code",
   "execution_count": null,
   "metadata": {},
   "outputs": [],
   "source": []
  }
 ]
}