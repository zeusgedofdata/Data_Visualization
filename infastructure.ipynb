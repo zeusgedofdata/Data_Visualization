{
 "metadata": {
  "language_info": {
   "codemirror_mode": {
    "name": "ipython",
    "version": 3
   },
   "file_extension": ".py",
   "mimetype": "text/x-python",
   "name": "python",
   "nbconvert_exporter": "python",
   "pygments_lexer": "ipython3",
   "version": "3.8.0"
  },
  "orig_nbformat": 2,
  "kernelspec": {
   "name": "python3",
   "display_name": "Python 3",
   "language": "python"
  }
 },
 "nbformat": 4,
 "nbformat_minor": 2,
 "cells": [
  {
   "source": [
    "Main Question I want to answer: \n",
    "\n",
    "Is there a relationship between political party and infrastructure spending. "
   ],
   "cell_type": "markdown",
   "metadata": {}
  },
  {
   "cell_type": "code",
   "execution_count": 42,
   "metadata": {},
   "outputs": [],
   "source": [
    "import pandas as pd\n",
    "import numpy as np\n",
    "import plotly.graph_objects as go"
   ]
  },
  {
   "cell_type": "code",
   "execution_count": 124,
   "metadata": {},
   "outputs": [],
   "source": [
    "infra_xls = pd.ExcelFile(r'C:\\Users\\zeusg\\OneDrive\\Documents\\Github\\data_vis\\data\\infrastructure-data-may-2020.xlsx')\n",
    "state_infra = pd.read_excel(infra_xls, 'By state data',skiprows=116, nrows=52)\n",
    "state_infra = state_infra.drop(['Index'], axis=1)\n",
    "state_infra = state_infra.drop([0])\n",
    "state_infra['State'] = state_infra['State'].str.strip()"
   ]
  },
  {
   "cell_type": "code",
   "execution_count": 125,
   "metadata": {},
   "outputs": [
    {
     "output_type": "execute_result",
     "data": {
      "text/plain": [
       "        State      1992      1993      1994      1995      1996      1997  \\\n",
       "1     Alabama  1328.224  1381.320  1386.588  1255.353  1187.131  1259.965   \n",
       "2      Alaska   663.753   690.286   702.651   645.963   621.262   643.259   \n",
       "3     Arizona  1334.245  1387.581  1482.938  1433.423  1451.814  1485.783   \n",
       "4    Arkansas   818.852   851.586   932.240   922.080   954.727  1002.030   \n",
       "5  California  6242.776  6492.330  6675.239  6202.962  6034.941  6411.536   \n",
       "\n",
       "       1998      1999      2000  ...      2008      2009      2010      2011  \\\n",
       "1  1375.223  1496.583  1589.559  ...  1328.456  1326.456  1302.806  1250.968   \n",
       "2   685.790   729.804   758.803  ...   957.262  1019.194   906.204   778.668   \n",
       "3  1565.931  1647.698  1694.202  ...  1894.816  1994.613  1811.447  1596.965   \n",
       "4  1082.284  1166.251  1227.278  ...   703.331   646.685   695.219   725.506   \n",
       "5  7004.449  7629.059  8109.436  ...  6948.694  6967.680  7253.290  7360.099   \n",
       "\n",
       "       2012      2013      2014      2015      2016      2017  \n",
       "1  1195.081  1136.053  1106.495  1119.064  1102.454  1072.971  \n",
       "2   656.070   539.793   610.094   709.777   798.959   777.593  \n",
       "3  1388.926  1189.758  1175.529  1207.277  1209.132  1176.797  \n",
       "4   748.719   764.869   784.183   836.215   870.164   846.894  \n",
       "5  7410.836  7407.330  6781.600  6382.483  5775.840  5621.377  \n",
       "\n",
       "[5 rows x 27 columns]"
      ],
      "text/html": "<div>\n<style scoped>\n    .dataframe tbody tr th:only-of-type {\n        vertical-align: middle;\n    }\n\n    .dataframe tbody tr th {\n        vertical-align: top;\n    }\n\n    .dataframe thead th {\n        text-align: right;\n    }\n</style>\n<table border=\"1\" class=\"dataframe\">\n  <thead>\n    <tr style=\"text-align: right;\">\n      <th></th>\n      <th>State</th>\n      <th>1992</th>\n      <th>1993</th>\n      <th>1994</th>\n      <th>1995</th>\n      <th>1996</th>\n      <th>1997</th>\n      <th>1998</th>\n      <th>1999</th>\n      <th>2000</th>\n      <th>...</th>\n      <th>2008</th>\n      <th>2009</th>\n      <th>2010</th>\n      <th>2011</th>\n      <th>2012</th>\n      <th>2013</th>\n      <th>2014</th>\n      <th>2015</th>\n      <th>2016</th>\n      <th>2017</th>\n    </tr>\n  </thead>\n  <tbody>\n    <tr>\n      <th>1</th>\n      <td>Alabama</td>\n      <td>1328.224</td>\n      <td>1381.320</td>\n      <td>1386.588</td>\n      <td>1255.353</td>\n      <td>1187.131</td>\n      <td>1259.965</td>\n      <td>1375.223</td>\n      <td>1496.583</td>\n      <td>1589.559</td>\n      <td>...</td>\n      <td>1328.456</td>\n      <td>1326.456</td>\n      <td>1302.806</td>\n      <td>1250.968</td>\n      <td>1195.081</td>\n      <td>1136.053</td>\n      <td>1106.495</td>\n      <td>1119.064</td>\n      <td>1102.454</td>\n      <td>1072.971</td>\n    </tr>\n    <tr>\n      <th>2</th>\n      <td>Alaska</td>\n      <td>663.753</td>\n      <td>690.286</td>\n      <td>702.651</td>\n      <td>645.963</td>\n      <td>621.262</td>\n      <td>643.259</td>\n      <td>685.790</td>\n      <td>729.804</td>\n      <td>758.803</td>\n      <td>...</td>\n      <td>957.262</td>\n      <td>1019.194</td>\n      <td>906.204</td>\n      <td>778.668</td>\n      <td>656.070</td>\n      <td>539.793</td>\n      <td>610.094</td>\n      <td>709.777</td>\n      <td>798.959</td>\n      <td>777.593</td>\n    </tr>\n    <tr>\n      <th>3</th>\n      <td>Arizona</td>\n      <td>1334.245</td>\n      <td>1387.581</td>\n      <td>1482.938</td>\n      <td>1433.423</td>\n      <td>1451.814</td>\n      <td>1485.783</td>\n      <td>1565.931</td>\n      <td>1647.698</td>\n      <td>1694.202</td>\n      <td>...</td>\n      <td>1894.816</td>\n      <td>1994.613</td>\n      <td>1811.447</td>\n      <td>1596.965</td>\n      <td>1388.926</td>\n      <td>1189.758</td>\n      <td>1175.529</td>\n      <td>1207.277</td>\n      <td>1209.132</td>\n      <td>1176.797</td>\n    </tr>\n    <tr>\n      <th>4</th>\n      <td>Arkansas</td>\n      <td>818.852</td>\n      <td>851.586</td>\n      <td>932.240</td>\n      <td>922.080</td>\n      <td>954.727</td>\n      <td>1002.030</td>\n      <td>1082.284</td>\n      <td>1166.251</td>\n      <td>1227.278</td>\n      <td>...</td>\n      <td>703.331</td>\n      <td>646.685</td>\n      <td>695.219</td>\n      <td>725.506</td>\n      <td>748.719</td>\n      <td>764.869</td>\n      <td>784.183</td>\n      <td>836.215</td>\n      <td>870.164</td>\n      <td>846.894</td>\n    </tr>\n    <tr>\n      <th>5</th>\n      <td>California</td>\n      <td>6242.776</td>\n      <td>6492.330</td>\n      <td>6675.239</td>\n      <td>6202.962</td>\n      <td>6034.941</td>\n      <td>6411.536</td>\n      <td>7004.449</td>\n      <td>7629.059</td>\n      <td>8109.436</td>\n      <td>...</td>\n      <td>6948.694</td>\n      <td>6967.680</td>\n      <td>7253.290</td>\n      <td>7360.099</td>\n      <td>7410.836</td>\n      <td>7407.330</td>\n      <td>6781.600</td>\n      <td>6382.483</td>\n      <td>5775.840</td>\n      <td>5621.377</td>\n    </tr>\n  </tbody>\n</table>\n<p>5 rows × 27 columns</p>\n</div>"
     },
     "metadata": {},
     "execution_count": 125
    }
   ],
   "source": [
    "state_infra.head()"
   ]
  },
  {
   "cell_type": "code",
   "execution_count": 41,
   "metadata": {},
   "outputs": [
    {
     "output_type": "execute_result",
     "data": {
      "text/plain": [
       "              1992         1993         1994         1995         1996  \\\n",
       "count    51.000000    51.000000    51.000000    51.000000    51.000000   \n",
       "mean   1707.976275  1776.252471  1879.209725  1798.359745  1803.459157   \n",
       "std    1535.035137  1596.397877  1696.785781  1639.802239  1668.793601   \n",
       "min     198.994000   206.949000   203.089000   179.179000   164.472000   \n",
       "25%     700.548000   728.552000   718.959500   661.342500   595.157000   \n",
       "50%    1278.434000  1329.539000  1386.588000  1284.837000  1252.957000   \n",
       "75%    2030.464500  2111.632500  2300.296500  2364.265000  2510.580500   \n",
       "max    6242.776000  6492.330000  7034.823000  7034.504000  7357.651000   \n",
       "\n",
       "              1997         1998         1999         2000         2001  ...  \\\n",
       "count    51.000000    51.000000    51.000000    51.000000    51.000000  ...   \n",
       "mean   1841.780490  1937.066216  2033.951078  2086.992627  2187.501941  ...   \n",
       "std    1704.209766  1796.087998  1893.736470  1955.112046  2065.925301  ...   \n",
       "min     156.700000   146.386000   134.366000   118.025000   102.907000  ...   \n",
       "25%     619.531500   663.919000   710.077500   741.884500   791.543500  ...   \n",
       "50%    1307.950000  1400.288000  1496.583000  1545.398000  1561.372000  ...   \n",
       "75%    2548.151500  2637.289500  2692.122500  2698.556000  2821.671500  ...   \n",
       "max    7240.305000  7327.041000  7629.059000  8109.436000  8794.964000  ...   \n",
       "\n",
       "              2008         2009         2010         2011         2012  \\\n",
       "count    51.000000    51.000000    51.000000    51.000000    51.000000   \n",
       "mean   1764.384549  1785.609784  1757.944627  1692.022510  1620.294098   \n",
       "std    1738.168207  1781.349621  1771.084915  1728.774244  1685.383806   \n",
       "min     128.112000   101.135000   133.891000   161.907000   186.679000   \n",
       "25%     684.234500   643.215500   664.360500   666.236000   660.214000   \n",
       "50%    1328.456000  1314.026000  1287.155000  1216.143000  1142.809000   \n",
       "75%    2095.905000  2060.862500  2081.800000  1990.178000  1766.585000   \n",
       "max    6948.694000  6980.372000  7253.290000  7360.099000  7410.836000   \n",
       "\n",
       "              2013         2014         2015         2016         2017  \n",
       "count    51.000000    51.000000    51.000000    51.000000    51.000000  \n",
       "mean   1543.954098  1566.681529  1653.645902  1703.462294  1657.906804  \n",
       "std    1640.618687  1655.442345  1750.812897  1820.784406  1772.091341  \n",
       "min     187.852000   197.937000   213.080000   190.406000   185.314000  \n",
       "25%     574.771500   593.965500   584.908500   554.740500   539.905000  \n",
       "50%    1068.212000  1106.495000  1106.616000  1095.594000  1066.295000  \n",
       "75%    1716.745000  1665.778500  1728.146500  1844.587000  1795.257000  \n",
       "max    7407.330000  7380.175000  7786.987000  8018.635000  7804.194000  \n",
       "\n",
       "[8 rows x 26 columns]"
      ],
      "text/html": "<div>\n<style scoped>\n    .dataframe tbody tr th:only-of-type {\n        vertical-align: middle;\n    }\n\n    .dataframe tbody tr th {\n        vertical-align: top;\n    }\n\n    .dataframe thead th {\n        text-align: right;\n    }\n</style>\n<table border=\"1\" class=\"dataframe\">\n  <thead>\n    <tr style=\"text-align: right;\">\n      <th></th>\n      <th>1992</th>\n      <th>1993</th>\n      <th>1994</th>\n      <th>1995</th>\n      <th>1996</th>\n      <th>1997</th>\n      <th>1998</th>\n      <th>1999</th>\n      <th>2000</th>\n      <th>2001</th>\n      <th>...</th>\n      <th>2008</th>\n      <th>2009</th>\n      <th>2010</th>\n      <th>2011</th>\n      <th>2012</th>\n      <th>2013</th>\n      <th>2014</th>\n      <th>2015</th>\n      <th>2016</th>\n      <th>2017</th>\n    </tr>\n  </thead>\n  <tbody>\n    <tr>\n      <th>count</th>\n      <td>51.000000</td>\n      <td>51.000000</td>\n      <td>51.000000</td>\n      <td>51.000000</td>\n      <td>51.000000</td>\n      <td>51.000000</td>\n      <td>51.000000</td>\n      <td>51.000000</td>\n      <td>51.000000</td>\n      <td>51.000000</td>\n      <td>...</td>\n      <td>51.000000</td>\n      <td>51.000000</td>\n      <td>51.000000</td>\n      <td>51.000000</td>\n      <td>51.000000</td>\n      <td>51.000000</td>\n      <td>51.000000</td>\n      <td>51.000000</td>\n      <td>51.000000</td>\n      <td>51.000000</td>\n    </tr>\n    <tr>\n      <th>mean</th>\n      <td>1707.976275</td>\n      <td>1776.252471</td>\n      <td>1879.209725</td>\n      <td>1798.359745</td>\n      <td>1803.459157</td>\n      <td>1841.780490</td>\n      <td>1937.066216</td>\n      <td>2033.951078</td>\n      <td>2086.992627</td>\n      <td>2187.501941</td>\n      <td>...</td>\n      <td>1764.384549</td>\n      <td>1785.609784</td>\n      <td>1757.944627</td>\n      <td>1692.022510</td>\n      <td>1620.294098</td>\n      <td>1543.954098</td>\n      <td>1566.681529</td>\n      <td>1653.645902</td>\n      <td>1703.462294</td>\n      <td>1657.906804</td>\n    </tr>\n    <tr>\n      <th>std</th>\n      <td>1535.035137</td>\n      <td>1596.397877</td>\n      <td>1696.785781</td>\n      <td>1639.802239</td>\n      <td>1668.793601</td>\n      <td>1704.209766</td>\n      <td>1796.087998</td>\n      <td>1893.736470</td>\n      <td>1955.112046</td>\n      <td>2065.925301</td>\n      <td>...</td>\n      <td>1738.168207</td>\n      <td>1781.349621</td>\n      <td>1771.084915</td>\n      <td>1728.774244</td>\n      <td>1685.383806</td>\n      <td>1640.618687</td>\n      <td>1655.442345</td>\n      <td>1750.812897</td>\n      <td>1820.784406</td>\n      <td>1772.091341</td>\n    </tr>\n    <tr>\n      <th>min</th>\n      <td>198.994000</td>\n      <td>206.949000</td>\n      <td>203.089000</td>\n      <td>179.179000</td>\n      <td>164.472000</td>\n      <td>156.700000</td>\n      <td>146.386000</td>\n      <td>134.366000</td>\n      <td>118.025000</td>\n      <td>102.907000</td>\n      <td>...</td>\n      <td>128.112000</td>\n      <td>101.135000</td>\n      <td>133.891000</td>\n      <td>161.907000</td>\n      <td>186.679000</td>\n      <td>187.852000</td>\n      <td>197.937000</td>\n      <td>213.080000</td>\n      <td>190.406000</td>\n      <td>185.314000</td>\n    </tr>\n    <tr>\n      <th>25%</th>\n      <td>700.548000</td>\n      <td>728.552000</td>\n      <td>718.959500</td>\n      <td>661.342500</td>\n      <td>595.157000</td>\n      <td>619.531500</td>\n      <td>663.919000</td>\n      <td>710.077500</td>\n      <td>741.884500</td>\n      <td>791.543500</td>\n      <td>...</td>\n      <td>684.234500</td>\n      <td>643.215500</td>\n      <td>664.360500</td>\n      <td>666.236000</td>\n      <td>660.214000</td>\n      <td>574.771500</td>\n      <td>593.965500</td>\n      <td>584.908500</td>\n      <td>554.740500</td>\n      <td>539.905000</td>\n    </tr>\n    <tr>\n      <th>50%</th>\n      <td>1278.434000</td>\n      <td>1329.539000</td>\n      <td>1386.588000</td>\n      <td>1284.837000</td>\n      <td>1252.957000</td>\n      <td>1307.950000</td>\n      <td>1400.288000</td>\n      <td>1496.583000</td>\n      <td>1545.398000</td>\n      <td>1561.372000</td>\n      <td>...</td>\n      <td>1328.456000</td>\n      <td>1314.026000</td>\n      <td>1287.155000</td>\n      <td>1216.143000</td>\n      <td>1142.809000</td>\n      <td>1068.212000</td>\n      <td>1106.495000</td>\n      <td>1106.616000</td>\n      <td>1095.594000</td>\n      <td>1066.295000</td>\n    </tr>\n    <tr>\n      <th>75%</th>\n      <td>2030.464500</td>\n      <td>2111.632500</td>\n      <td>2300.296500</td>\n      <td>2364.265000</td>\n      <td>2510.580500</td>\n      <td>2548.151500</td>\n      <td>2637.289500</td>\n      <td>2692.122500</td>\n      <td>2698.556000</td>\n      <td>2821.671500</td>\n      <td>...</td>\n      <td>2095.905000</td>\n      <td>2060.862500</td>\n      <td>2081.800000</td>\n      <td>1990.178000</td>\n      <td>1766.585000</td>\n      <td>1716.745000</td>\n      <td>1665.778500</td>\n      <td>1728.146500</td>\n      <td>1844.587000</td>\n      <td>1795.257000</td>\n    </tr>\n    <tr>\n      <th>max</th>\n      <td>6242.776000</td>\n      <td>6492.330000</td>\n      <td>7034.823000</td>\n      <td>7034.504000</td>\n      <td>7357.651000</td>\n      <td>7240.305000</td>\n      <td>7327.041000</td>\n      <td>7629.059000</td>\n      <td>8109.436000</td>\n      <td>8794.964000</td>\n      <td>...</td>\n      <td>6948.694000</td>\n      <td>6980.372000</td>\n      <td>7253.290000</td>\n      <td>7360.099000</td>\n      <td>7410.836000</td>\n      <td>7407.330000</td>\n      <td>7380.175000</td>\n      <td>7786.987000</td>\n      <td>8018.635000</td>\n      <td>7804.194000</td>\n    </tr>\n  </tbody>\n</table>\n<p>8 rows × 26 columns</p>\n</div>"
     },
     "metadata": {},
     "execution_count": 41
    }
   ],
   "source": [
    "state_meta = state_infra.describe(include=[np.number])\n",
    "state_meta"
   ]
  },
  {
   "cell_type": "code",
   "execution_count": 55,
   "metadata": {},
   "outputs": [
    {
     "output_type": "display_data",
     "data": {
      "application/vnd.plotly.v1+json": {
       "config": {
        "plotlyServerURL": "https://plot.ly"
       },
       "data": [
        {
         "name": "mean",
         "type": "scatter",
         "x": [
          1992,
          1993,
          1994,
          1995,
          1996,
          1997,
          1998,
          1999,
          2000,
          2001,
          2002,
          2003,
          2004,
          2005,
          2006,
          2007,
          2008,
          2009,
          2010,
          2011,
          2012,
          2013,
          2014,
          2015,
          2016,
          2017
         ],
         "y": [
          1707.9762745098042,
          1776.2524705882342,
          1879.2097254901955,
          1798.3597450980394,
          1803.4591568627452,
          1841.780490196078,
          1937.066215686274,
          2033.9510784313727,
          2086.9926274509803,
          2187.501941176471,
          2191.0560392156863,
          2116.324764705882,
          2115.740254901961,
          2053.4596274509813,
          2023.135137254902,
          1879.28068627451,
          1764.384549019608,
          1785.6097843137252,
          1757.9446274509805,
          1692.0225098039216,
          1620.2940980392152,
          1543.9540980392158,
          1566.681529411765,
          1653.645901960784,
          1703.462294117647,
          1657.9068039215683
         ]
        },
        {
         "name": "max",
         "type": "scatter",
         "x": [
          1992,
          1993,
          1994,
          1995,
          1996,
          1997,
          1998,
          1999,
          2000,
          2001,
          2002,
          2003,
          2004,
          2005,
          2006,
          2007,
          2008,
          2009,
          2010,
          2011,
          2012,
          2013,
          2014,
          2015,
          2016,
          2017
         ],
         "y": [
          6242.776,
          6492.33,
          7034.823,
          7034.504,
          7357.651,
          7240.305,
          7327.041,
          7629.059,
          8109.436,
          8794.964,
          9104.712,
          8717.602,
          8638.644,
          8310.053,
          8114.134,
          7469.186,
          6948.694,
          6980.372,
          7253.29,
          7360.099,
          7410.836,
          7407.33,
          7380.175,
          7786.987,
          8018.635,
          7804.194
         ]
        },
        {
         "name": "min",
         "type": "scatter",
         "x": [
          1992,
          1993,
          1994,
          1995,
          1996,
          1997,
          1998,
          1999,
          2000,
          2001,
          2002,
          2003,
          2004,
          2005,
          2006,
          2007,
          2008,
          2009,
          2010,
          2011,
          2012,
          2013,
          2014,
          2015,
          2016,
          2017
         ],
         "y": [
          198.994,
          206.949,
          203.089,
          179.179,
          164.472,
          156.7,
          146.386,
          134.366,
          118.025,
          102.907,
          82.239,
          113.493,
          147.512,
          176.217,
          206.175,
          166.469,
          128.112,
          101.135,
          133.891,
          161.907,
          186.679,
          187.852,
          197.937,
          213.08,
          190.406,
          185.314
         ]
        }
       ],
       "layout": {
        "template": {
         "data": {
          "bar": [
           {
            "error_x": {
             "color": "#2a3f5f"
            },
            "error_y": {
             "color": "#2a3f5f"
            },
            "marker": {
             "line": {
              "color": "#E5ECF6",
              "width": 0.5
             }
            },
            "type": "bar"
           }
          ],
          "barpolar": [
           {
            "marker": {
             "line": {
              "color": "#E5ECF6",
              "width": 0.5
             }
            },
            "type": "barpolar"
           }
          ],
          "carpet": [
           {
            "aaxis": {
             "endlinecolor": "#2a3f5f",
             "gridcolor": "white",
             "linecolor": "white",
             "minorgridcolor": "white",
             "startlinecolor": "#2a3f5f"
            },
            "baxis": {
             "endlinecolor": "#2a3f5f",
             "gridcolor": "white",
             "linecolor": "white",
             "minorgridcolor": "white",
             "startlinecolor": "#2a3f5f"
            },
            "type": "carpet"
           }
          ],
          "choropleth": [
           {
            "colorbar": {
             "outlinewidth": 0,
             "ticks": ""
            },
            "type": "choropleth"
           }
          ],
          "contour": [
           {
            "colorbar": {
             "outlinewidth": 0,
             "ticks": ""
            },
            "colorscale": [
             [
              0,
              "#0d0887"
             ],
             [
              0.1111111111111111,
              "#46039f"
             ],
             [
              0.2222222222222222,
              "#7201a8"
             ],
             [
              0.3333333333333333,
              "#9c179e"
             ],
             [
              0.4444444444444444,
              "#bd3786"
             ],
             [
              0.5555555555555556,
              "#d8576b"
             ],
             [
              0.6666666666666666,
              "#ed7953"
             ],
             [
              0.7777777777777778,
              "#fb9f3a"
             ],
             [
              0.8888888888888888,
              "#fdca26"
             ],
             [
              1,
              "#f0f921"
             ]
            ],
            "type": "contour"
           }
          ],
          "contourcarpet": [
           {
            "colorbar": {
             "outlinewidth": 0,
             "ticks": ""
            },
            "type": "contourcarpet"
           }
          ],
          "heatmap": [
           {
            "colorbar": {
             "outlinewidth": 0,
             "ticks": ""
            },
            "colorscale": [
             [
              0,
              "#0d0887"
             ],
             [
              0.1111111111111111,
              "#46039f"
             ],
             [
              0.2222222222222222,
              "#7201a8"
             ],
             [
              0.3333333333333333,
              "#9c179e"
             ],
             [
              0.4444444444444444,
              "#bd3786"
             ],
             [
              0.5555555555555556,
              "#d8576b"
             ],
             [
              0.6666666666666666,
              "#ed7953"
             ],
             [
              0.7777777777777778,
              "#fb9f3a"
             ],
             [
              0.8888888888888888,
              "#fdca26"
             ],
             [
              1,
              "#f0f921"
             ]
            ],
            "type": "heatmap"
           }
          ],
          "heatmapgl": [
           {
            "colorbar": {
             "outlinewidth": 0,
             "ticks": ""
            },
            "colorscale": [
             [
              0,
              "#0d0887"
             ],
             [
              0.1111111111111111,
              "#46039f"
             ],
             [
              0.2222222222222222,
              "#7201a8"
             ],
             [
              0.3333333333333333,
              "#9c179e"
             ],
             [
              0.4444444444444444,
              "#bd3786"
             ],
             [
              0.5555555555555556,
              "#d8576b"
             ],
             [
              0.6666666666666666,
              "#ed7953"
             ],
             [
              0.7777777777777778,
              "#fb9f3a"
             ],
             [
              0.8888888888888888,
              "#fdca26"
             ],
             [
              1,
              "#f0f921"
             ]
            ],
            "type": "heatmapgl"
           }
          ],
          "histogram": [
           {
            "marker": {
             "colorbar": {
              "outlinewidth": 0,
              "ticks": ""
             }
            },
            "type": "histogram"
           }
          ],
          "histogram2d": [
           {
            "colorbar": {
             "outlinewidth": 0,
             "ticks": ""
            },
            "colorscale": [
             [
              0,
              "#0d0887"
             ],
             [
              0.1111111111111111,
              "#46039f"
             ],
             [
              0.2222222222222222,
              "#7201a8"
             ],
             [
              0.3333333333333333,
              "#9c179e"
             ],
             [
              0.4444444444444444,
              "#bd3786"
             ],
             [
              0.5555555555555556,
              "#d8576b"
             ],
             [
              0.6666666666666666,
              "#ed7953"
             ],
             [
              0.7777777777777778,
              "#fb9f3a"
             ],
             [
              0.8888888888888888,
              "#fdca26"
             ],
             [
              1,
              "#f0f921"
             ]
            ],
            "type": "histogram2d"
           }
          ],
          "histogram2dcontour": [
           {
            "colorbar": {
             "outlinewidth": 0,
             "ticks": ""
            },
            "colorscale": [
             [
              0,
              "#0d0887"
             ],
             [
              0.1111111111111111,
              "#46039f"
             ],
             [
              0.2222222222222222,
              "#7201a8"
             ],
             [
              0.3333333333333333,
              "#9c179e"
             ],
             [
              0.4444444444444444,
              "#bd3786"
             ],
             [
              0.5555555555555556,
              "#d8576b"
             ],
             [
              0.6666666666666666,
              "#ed7953"
             ],
             [
              0.7777777777777778,
              "#fb9f3a"
             ],
             [
              0.8888888888888888,
              "#fdca26"
             ],
             [
              1,
              "#f0f921"
             ]
            ],
            "type": "histogram2dcontour"
           }
          ],
          "mesh3d": [
           {
            "colorbar": {
             "outlinewidth": 0,
             "ticks": ""
            },
            "type": "mesh3d"
           }
          ],
          "parcoords": [
           {
            "line": {
             "colorbar": {
              "outlinewidth": 0,
              "ticks": ""
             }
            },
            "type": "parcoords"
           }
          ],
          "pie": [
           {
            "automargin": true,
            "type": "pie"
           }
          ],
          "scatter": [
           {
            "marker": {
             "colorbar": {
              "outlinewidth": 0,
              "ticks": ""
             }
            },
            "type": "scatter"
           }
          ],
          "scatter3d": [
           {
            "line": {
             "colorbar": {
              "outlinewidth": 0,
              "ticks": ""
             }
            },
            "marker": {
             "colorbar": {
              "outlinewidth": 0,
              "ticks": ""
             }
            },
            "type": "scatter3d"
           }
          ],
          "scattercarpet": [
           {
            "marker": {
             "colorbar": {
              "outlinewidth": 0,
              "ticks": ""
             }
            },
            "type": "scattercarpet"
           }
          ],
          "scattergeo": [
           {
            "marker": {
             "colorbar": {
              "outlinewidth": 0,
              "ticks": ""
             }
            },
            "type": "scattergeo"
           }
          ],
          "scattergl": [
           {
            "marker": {
             "colorbar": {
              "outlinewidth": 0,
              "ticks": ""
             }
            },
            "type": "scattergl"
           }
          ],
          "scattermapbox": [
           {
            "marker": {
             "colorbar": {
              "outlinewidth": 0,
              "ticks": ""
             }
            },
            "type": "scattermapbox"
           }
          ],
          "scatterpolar": [
           {
            "marker": {
             "colorbar": {
              "outlinewidth": 0,
              "ticks": ""
             }
            },
            "type": "scatterpolar"
           }
          ],
          "scatterpolargl": [
           {
            "marker": {
             "colorbar": {
              "outlinewidth": 0,
              "ticks": ""
             }
            },
            "type": "scatterpolargl"
           }
          ],
          "scatterternary": [
           {
            "marker": {
             "colorbar": {
              "outlinewidth": 0,
              "ticks": ""
             }
            },
            "type": "scatterternary"
           }
          ],
          "surface": [
           {
            "colorbar": {
             "outlinewidth": 0,
             "ticks": ""
            },
            "colorscale": [
             [
              0,
              "#0d0887"
             ],
             [
              0.1111111111111111,
              "#46039f"
             ],
             [
              0.2222222222222222,
              "#7201a8"
             ],
             [
              0.3333333333333333,
              "#9c179e"
             ],
             [
              0.4444444444444444,
              "#bd3786"
             ],
             [
              0.5555555555555556,
              "#d8576b"
             ],
             [
              0.6666666666666666,
              "#ed7953"
             ],
             [
              0.7777777777777778,
              "#fb9f3a"
             ],
             [
              0.8888888888888888,
              "#fdca26"
             ],
             [
              1,
              "#f0f921"
             ]
            ],
            "type": "surface"
           }
          ],
          "table": [
           {
            "cells": {
             "fill": {
              "color": "#EBF0F8"
             },
             "line": {
              "color": "white"
             }
            },
            "header": {
             "fill": {
              "color": "#C8D4E3"
             },
             "line": {
              "color": "white"
             }
            },
            "type": "table"
           }
          ]
         },
         "layout": {
          "annotationdefaults": {
           "arrowcolor": "#2a3f5f",
           "arrowhead": 0,
           "arrowwidth": 1
          },
          "coloraxis": {
           "colorbar": {
            "outlinewidth": 0,
            "ticks": ""
           }
          },
          "colorscale": {
           "diverging": [
            [
             0,
             "#8e0152"
            ],
            [
             0.1,
             "#c51b7d"
            ],
            [
             0.2,
             "#de77ae"
            ],
            [
             0.3,
             "#f1b6da"
            ],
            [
             0.4,
             "#fde0ef"
            ],
            [
             0.5,
             "#f7f7f7"
            ],
            [
             0.6,
             "#e6f5d0"
            ],
            [
             0.7,
             "#b8e186"
            ],
            [
             0.8,
             "#7fbc41"
            ],
            [
             0.9,
             "#4d9221"
            ],
            [
             1,
             "#276419"
            ]
           ],
           "sequential": [
            [
             0,
             "#0d0887"
            ],
            [
             0.1111111111111111,
             "#46039f"
            ],
            [
             0.2222222222222222,
             "#7201a8"
            ],
            [
             0.3333333333333333,
             "#9c179e"
            ],
            [
             0.4444444444444444,
             "#bd3786"
            ],
            [
             0.5555555555555556,
             "#d8576b"
            ],
            [
             0.6666666666666666,
             "#ed7953"
            ],
            [
             0.7777777777777778,
             "#fb9f3a"
            ],
            [
             0.8888888888888888,
             "#fdca26"
            ],
            [
             1,
             "#f0f921"
            ]
           ],
           "sequentialminus": [
            [
             0,
             "#0d0887"
            ],
            [
             0.1111111111111111,
             "#46039f"
            ],
            [
             0.2222222222222222,
             "#7201a8"
            ],
            [
             0.3333333333333333,
             "#9c179e"
            ],
            [
             0.4444444444444444,
             "#bd3786"
            ],
            [
             0.5555555555555556,
             "#d8576b"
            ],
            [
             0.6666666666666666,
             "#ed7953"
            ],
            [
             0.7777777777777778,
             "#fb9f3a"
            ],
            [
             0.8888888888888888,
             "#fdca26"
            ],
            [
             1,
             "#f0f921"
            ]
           ]
          },
          "colorway": [
           "#636efa",
           "#EF553B",
           "#00cc96",
           "#ab63fa",
           "#FFA15A",
           "#19d3f3",
           "#FF6692",
           "#B6E880",
           "#FF97FF",
           "#FECB52"
          ],
          "font": {
           "color": "#2a3f5f"
          },
          "geo": {
           "bgcolor": "white",
           "lakecolor": "white",
           "landcolor": "#E5ECF6",
           "showlakes": true,
           "showland": true,
           "subunitcolor": "white"
          },
          "hoverlabel": {
           "align": "left"
          },
          "hovermode": "closest",
          "mapbox": {
           "style": "light"
          },
          "paper_bgcolor": "white",
          "plot_bgcolor": "#E5ECF6",
          "polar": {
           "angularaxis": {
            "gridcolor": "white",
            "linecolor": "white",
            "ticks": ""
           },
           "bgcolor": "#E5ECF6",
           "radialaxis": {
            "gridcolor": "white",
            "linecolor": "white",
            "ticks": ""
           }
          },
          "scene": {
           "xaxis": {
            "backgroundcolor": "#E5ECF6",
            "gridcolor": "white",
            "gridwidth": 2,
            "linecolor": "white",
            "showbackground": true,
            "ticks": "",
            "zerolinecolor": "white"
           },
           "yaxis": {
            "backgroundcolor": "#E5ECF6",
            "gridcolor": "white",
            "gridwidth": 2,
            "linecolor": "white",
            "showbackground": true,
            "ticks": "",
            "zerolinecolor": "white"
           },
           "zaxis": {
            "backgroundcolor": "#E5ECF6",
            "gridcolor": "white",
            "gridwidth": 2,
            "linecolor": "white",
            "showbackground": true,
            "ticks": "",
            "zerolinecolor": "white"
           }
          },
          "shapedefaults": {
           "line": {
            "color": "#2a3f5f"
           }
          },
          "ternary": {
           "aaxis": {
            "gridcolor": "white",
            "linecolor": "white",
            "ticks": ""
           },
           "baxis": {
            "gridcolor": "white",
            "linecolor": "white",
            "ticks": ""
           },
           "bgcolor": "#E5ECF6",
           "caxis": {
            "gridcolor": "white",
            "linecolor": "white",
            "ticks": ""
           }
          },
          "title": {
           "x": 0.05
          },
          "xaxis": {
           "automargin": true,
           "gridcolor": "white",
           "linecolor": "white",
           "ticks": "",
           "title": {
            "standoff": 15
           },
           "zerolinecolor": "white",
           "zerolinewidth": 2
          },
          "yaxis": {
           "automargin": true,
           "gridcolor": "white",
           "linecolor": "white",
           "ticks": "",
           "title": {
            "standoff": 15
           },
           "zerolinecolor": "white",
           "zerolinewidth": 2
          }
         }
        }
       }
      },
      "text/html": "<div>\n        \n        \n            <div id=\"a19e242f-188e-446f-b819-8ab536cc10eb\" class=\"plotly-graph-div\" style=\"height:525px; width:100%;\"></div>\n            <script type=\"text/javascript\">\n                require([\"plotly\"], function(Plotly) {\n                    window.PLOTLYENV=window.PLOTLYENV || {};\n                    \n                if (document.getElementById(\"a19e242f-188e-446f-b819-8ab536cc10eb\")) {\n                    Plotly.newPlot(\n                        'a19e242f-188e-446f-b819-8ab536cc10eb',\n                        [{\"name\": \"mean\", \"type\": \"scatter\", \"x\": [1992, 1993, 1994, 1995, 1996, 1997, 1998, 1999, 2000, 2001, 2002, 2003, 2004, 2005, 2006, 2007, 2008, 2009, 2010, 2011, 2012, 2013, 2014, 2015, 2016, 2017], \"y\": [1707.9762745098042, 1776.2524705882342, 1879.2097254901955, 1798.3597450980394, 1803.4591568627452, 1841.780490196078, 1937.066215686274, 2033.9510784313727, 2086.9926274509803, 2187.501941176471, 2191.0560392156863, 2116.324764705882, 2115.740254901961, 2053.4596274509813, 2023.135137254902, 1879.28068627451, 1764.384549019608, 1785.6097843137252, 1757.9446274509805, 1692.0225098039216, 1620.2940980392152, 1543.9540980392158, 1566.681529411765, 1653.645901960784, 1703.462294117647, 1657.9068039215683]}, {\"name\": \"max\", \"type\": \"scatter\", \"x\": [1992, 1993, 1994, 1995, 1996, 1997, 1998, 1999, 2000, 2001, 2002, 2003, 2004, 2005, 2006, 2007, 2008, 2009, 2010, 2011, 2012, 2013, 2014, 2015, 2016, 2017], \"y\": [6242.776, 6492.33, 7034.823, 7034.504, 7357.651, 7240.305, 7327.041, 7629.059, 8109.436, 8794.964, 9104.712, 8717.602, 8638.644, 8310.053, 8114.134, 7469.186, 6948.694, 6980.372, 7253.29, 7360.099, 7410.836, 7407.33, 7380.175, 7786.987, 8018.635, 7804.194]}, {\"name\": \"min\", \"type\": \"scatter\", \"x\": [1992, 1993, 1994, 1995, 1996, 1997, 1998, 1999, 2000, 2001, 2002, 2003, 2004, 2005, 2006, 2007, 2008, 2009, 2010, 2011, 2012, 2013, 2014, 2015, 2016, 2017], \"y\": [198.994, 206.949, 203.089, 179.179, 164.472, 156.7, 146.386, 134.366, 118.025, 102.907, 82.239, 113.493, 147.512, 176.217, 206.175, 166.469, 128.112, 101.135, 133.891, 161.907, 186.679, 187.852, 197.937, 213.08, 190.406, 185.314]}],\n                        {\"template\": {\"data\": {\"bar\": [{\"error_x\": {\"color\": \"#2a3f5f\"}, \"error_y\": {\"color\": \"#2a3f5f\"}, \"marker\": {\"line\": {\"color\": \"#E5ECF6\", \"width\": 0.5}}, \"type\": \"bar\"}], \"barpolar\": [{\"marker\": {\"line\": {\"color\": \"#E5ECF6\", \"width\": 0.5}}, \"type\": \"barpolar\"}], \"carpet\": [{\"aaxis\": {\"endlinecolor\": \"#2a3f5f\", \"gridcolor\": \"white\", \"linecolor\": \"white\", \"minorgridcolor\": \"white\", \"startlinecolor\": \"#2a3f5f\"}, \"baxis\": {\"endlinecolor\": \"#2a3f5f\", \"gridcolor\": \"white\", \"linecolor\": \"white\", \"minorgridcolor\": \"white\", \"startlinecolor\": \"#2a3f5f\"}, \"type\": \"carpet\"}], \"choropleth\": [{\"colorbar\": {\"outlinewidth\": 0, \"ticks\": \"\"}, \"type\": \"choropleth\"}], \"contour\": [{\"colorbar\": {\"outlinewidth\": 0, \"ticks\": \"\"}, \"colorscale\": [[0.0, \"#0d0887\"], [0.1111111111111111, \"#46039f\"], [0.2222222222222222, \"#7201a8\"], [0.3333333333333333, \"#9c179e\"], [0.4444444444444444, \"#bd3786\"], [0.5555555555555556, \"#d8576b\"], [0.6666666666666666, \"#ed7953\"], [0.7777777777777778, \"#fb9f3a\"], [0.8888888888888888, \"#fdca26\"], [1.0, \"#f0f921\"]], \"type\": \"contour\"}], \"contourcarpet\": [{\"colorbar\": {\"outlinewidth\": 0, \"ticks\": \"\"}, \"type\": \"contourcarpet\"}], \"heatmap\": [{\"colorbar\": {\"outlinewidth\": 0, \"ticks\": \"\"}, \"colorscale\": [[0.0, \"#0d0887\"], [0.1111111111111111, \"#46039f\"], [0.2222222222222222, \"#7201a8\"], [0.3333333333333333, \"#9c179e\"], [0.4444444444444444, \"#bd3786\"], [0.5555555555555556, \"#d8576b\"], [0.6666666666666666, \"#ed7953\"], [0.7777777777777778, \"#fb9f3a\"], [0.8888888888888888, \"#fdca26\"], [1.0, \"#f0f921\"]], \"type\": \"heatmap\"}], \"heatmapgl\": [{\"colorbar\": {\"outlinewidth\": 0, \"ticks\": \"\"}, \"colorscale\": [[0.0, \"#0d0887\"], [0.1111111111111111, \"#46039f\"], [0.2222222222222222, \"#7201a8\"], [0.3333333333333333, \"#9c179e\"], [0.4444444444444444, \"#bd3786\"], [0.5555555555555556, \"#d8576b\"], [0.6666666666666666, \"#ed7953\"], [0.7777777777777778, \"#fb9f3a\"], [0.8888888888888888, \"#fdca26\"], [1.0, \"#f0f921\"]], \"type\": \"heatmapgl\"}], \"histogram\": [{\"marker\": {\"colorbar\": {\"outlinewidth\": 0, \"ticks\": \"\"}}, \"type\": \"histogram\"}], \"histogram2d\": [{\"colorbar\": {\"outlinewidth\": 0, \"ticks\": \"\"}, \"colorscale\": [[0.0, \"#0d0887\"], [0.1111111111111111, \"#46039f\"], [0.2222222222222222, \"#7201a8\"], [0.3333333333333333, \"#9c179e\"], [0.4444444444444444, \"#bd3786\"], [0.5555555555555556, \"#d8576b\"], [0.6666666666666666, \"#ed7953\"], [0.7777777777777778, \"#fb9f3a\"], [0.8888888888888888, \"#fdca26\"], [1.0, \"#f0f921\"]], \"type\": \"histogram2d\"}], \"histogram2dcontour\": [{\"colorbar\": {\"outlinewidth\": 0, \"ticks\": \"\"}, \"colorscale\": [[0.0, \"#0d0887\"], [0.1111111111111111, \"#46039f\"], [0.2222222222222222, \"#7201a8\"], [0.3333333333333333, \"#9c179e\"], [0.4444444444444444, \"#bd3786\"], [0.5555555555555556, \"#d8576b\"], [0.6666666666666666, \"#ed7953\"], [0.7777777777777778, \"#fb9f3a\"], [0.8888888888888888, \"#fdca26\"], [1.0, \"#f0f921\"]], \"type\": \"histogram2dcontour\"}], \"mesh3d\": [{\"colorbar\": {\"outlinewidth\": 0, \"ticks\": \"\"}, \"type\": \"mesh3d\"}], \"parcoords\": [{\"line\": {\"colorbar\": {\"outlinewidth\": 0, \"ticks\": \"\"}}, \"type\": \"parcoords\"}], \"pie\": [{\"automargin\": true, \"type\": \"pie\"}], \"scatter\": [{\"marker\": {\"colorbar\": {\"outlinewidth\": 0, \"ticks\": \"\"}}, \"type\": \"scatter\"}], \"scatter3d\": [{\"line\": {\"colorbar\": {\"outlinewidth\": 0, \"ticks\": \"\"}}, \"marker\": {\"colorbar\": {\"outlinewidth\": 0, \"ticks\": \"\"}}, \"type\": \"scatter3d\"}], \"scattercarpet\": [{\"marker\": {\"colorbar\": {\"outlinewidth\": 0, \"ticks\": \"\"}}, \"type\": \"scattercarpet\"}], \"scattergeo\": [{\"marker\": {\"colorbar\": {\"outlinewidth\": 0, \"ticks\": \"\"}}, \"type\": \"scattergeo\"}], \"scattergl\": [{\"marker\": {\"colorbar\": {\"outlinewidth\": 0, \"ticks\": \"\"}}, \"type\": \"scattergl\"}], \"scattermapbox\": [{\"marker\": {\"colorbar\": {\"outlinewidth\": 0, \"ticks\": \"\"}}, \"type\": \"scattermapbox\"}], \"scatterpolar\": [{\"marker\": {\"colorbar\": {\"outlinewidth\": 0, \"ticks\": \"\"}}, \"type\": \"scatterpolar\"}], \"scatterpolargl\": [{\"marker\": {\"colorbar\": {\"outlinewidth\": 0, \"ticks\": \"\"}}, \"type\": \"scatterpolargl\"}], \"scatterternary\": [{\"marker\": {\"colorbar\": {\"outlinewidth\": 0, \"ticks\": \"\"}}, \"type\": \"scatterternary\"}], \"surface\": [{\"colorbar\": {\"outlinewidth\": 0, \"ticks\": \"\"}, \"colorscale\": [[0.0, \"#0d0887\"], [0.1111111111111111, \"#46039f\"], [0.2222222222222222, \"#7201a8\"], [0.3333333333333333, \"#9c179e\"], [0.4444444444444444, \"#bd3786\"], [0.5555555555555556, \"#d8576b\"], [0.6666666666666666, \"#ed7953\"], [0.7777777777777778, \"#fb9f3a\"], [0.8888888888888888, \"#fdca26\"], [1.0, \"#f0f921\"]], \"type\": \"surface\"}], \"table\": [{\"cells\": {\"fill\": {\"color\": \"#EBF0F8\"}, \"line\": {\"color\": \"white\"}}, \"header\": {\"fill\": {\"color\": \"#C8D4E3\"}, \"line\": {\"color\": \"white\"}}, \"type\": \"table\"}]}, \"layout\": {\"annotationdefaults\": {\"arrowcolor\": \"#2a3f5f\", \"arrowhead\": 0, \"arrowwidth\": 1}, \"coloraxis\": {\"colorbar\": {\"outlinewidth\": 0, \"ticks\": \"\"}}, \"colorscale\": {\"diverging\": [[0, \"#8e0152\"], [0.1, \"#c51b7d\"], [0.2, \"#de77ae\"], [0.3, \"#f1b6da\"], [0.4, \"#fde0ef\"], [0.5, \"#f7f7f7\"], [0.6, \"#e6f5d0\"], [0.7, \"#b8e186\"], [0.8, \"#7fbc41\"], [0.9, \"#4d9221\"], [1, \"#276419\"]], \"sequential\": [[0.0, \"#0d0887\"], [0.1111111111111111, \"#46039f\"], [0.2222222222222222, \"#7201a8\"], [0.3333333333333333, \"#9c179e\"], [0.4444444444444444, \"#bd3786\"], [0.5555555555555556, \"#d8576b\"], [0.6666666666666666, \"#ed7953\"], [0.7777777777777778, \"#fb9f3a\"], [0.8888888888888888, \"#fdca26\"], [1.0, \"#f0f921\"]], \"sequentialminus\": [[0.0, \"#0d0887\"], [0.1111111111111111, \"#46039f\"], [0.2222222222222222, \"#7201a8\"], [0.3333333333333333, \"#9c179e\"], [0.4444444444444444, \"#bd3786\"], [0.5555555555555556, \"#d8576b\"], [0.6666666666666666, \"#ed7953\"], [0.7777777777777778, \"#fb9f3a\"], [0.8888888888888888, \"#fdca26\"], [1.0, \"#f0f921\"]]}, \"colorway\": [\"#636efa\", \"#EF553B\", \"#00cc96\", \"#ab63fa\", \"#FFA15A\", \"#19d3f3\", \"#FF6692\", \"#B6E880\", \"#FF97FF\", \"#FECB52\"], \"font\": {\"color\": \"#2a3f5f\"}, \"geo\": {\"bgcolor\": \"white\", \"lakecolor\": \"white\", \"landcolor\": \"#E5ECF6\", \"showlakes\": true, \"showland\": true, \"subunitcolor\": \"white\"}, \"hoverlabel\": {\"align\": \"left\"}, \"hovermode\": \"closest\", \"mapbox\": {\"style\": \"light\"}, \"paper_bgcolor\": \"white\", \"plot_bgcolor\": \"#E5ECF6\", \"polar\": {\"angularaxis\": {\"gridcolor\": \"white\", \"linecolor\": \"white\", \"ticks\": \"\"}, \"bgcolor\": \"#E5ECF6\", \"radialaxis\": {\"gridcolor\": \"white\", \"linecolor\": \"white\", \"ticks\": \"\"}}, \"scene\": {\"xaxis\": {\"backgroundcolor\": \"#E5ECF6\", \"gridcolor\": \"white\", \"gridwidth\": 2, \"linecolor\": \"white\", \"showbackground\": true, \"ticks\": \"\", \"zerolinecolor\": \"white\"}, \"yaxis\": {\"backgroundcolor\": \"#E5ECF6\", \"gridcolor\": \"white\", \"gridwidth\": 2, \"linecolor\": \"white\", \"showbackground\": true, \"ticks\": \"\", \"zerolinecolor\": \"white\"}, \"zaxis\": {\"backgroundcolor\": \"#E5ECF6\", \"gridcolor\": \"white\", \"gridwidth\": 2, \"linecolor\": \"white\", \"showbackground\": true, \"ticks\": \"\", \"zerolinecolor\": \"white\"}}, \"shapedefaults\": {\"line\": {\"color\": \"#2a3f5f\"}}, \"ternary\": {\"aaxis\": {\"gridcolor\": \"white\", \"linecolor\": \"white\", \"ticks\": \"\"}, \"baxis\": {\"gridcolor\": \"white\", \"linecolor\": \"white\", \"ticks\": \"\"}, \"bgcolor\": \"#E5ECF6\", \"caxis\": {\"gridcolor\": \"white\", \"linecolor\": \"white\", \"ticks\": \"\"}}, \"title\": {\"x\": 0.05}, \"xaxis\": {\"automargin\": true, \"gridcolor\": \"white\", \"linecolor\": \"white\", \"ticks\": \"\", \"title\": {\"standoff\": 15}, \"zerolinecolor\": \"white\", \"zerolinewidth\": 2}, \"yaxis\": {\"automargin\": true, \"gridcolor\": \"white\", \"linecolor\": \"white\", \"ticks\": \"\", \"title\": {\"standoff\": 15}, \"zerolinecolor\": \"white\", \"zerolinewidth\": 2}}}},\n                        {\"responsive\": true}\n                    ).then(function(){\n                            \nvar gd = document.getElementById('a19e242f-188e-446f-b819-8ab536cc10eb');\nvar x = new MutationObserver(function (mutations, observer) {{\n        var display = window.getComputedStyle(gd).display;\n        if (!display || display === 'none') {{\n            console.log([gd, 'removed!']);\n            Plotly.purge(gd);\n            observer.disconnect();\n        }}\n}});\n\n// Listen for the removal of the full notebook cells\nvar notebookContainer = gd.closest('#notebook-container');\nif (notebookContainer) {{\n    x.observe(notebookContainer, {childList: true});\n}}\n\n// Listen for the clearing of the current output cell\nvar outputEl = gd.closest('.output');\nif (outputEl) {{\n    x.observe(outputEl, {childList: true});\n}}\n\n                        })\n                };\n                });\n            </script>\n        </div>"
     },
     "metadata": {}
    }
   ],
   "source": [
    "  fig = go.Figure()\n",
    "  fig.add_trace(go.Scatter(x=state_meta.columns, y=state_meta.loc['mean'], name=\"mean\"))\n",
    "  fig.add_trace(go.Scatter(x=state_meta.columns, y=state_meta.loc['max'], name=\"max\"))\n",
    "  fig.add_trace(go.Scatter(x=state_meta.columns, y=state_meta.loc['min'], name=\"min\"))\n",
    "  fig.show()"
   ]
  },
  {
   "cell_type": "code",
   "execution_count": 61,
   "metadata": {},
   "outputs": [
    {
     "output_type": "display_data",
     "data": {
      "application/vnd.plotly.v1+json": {
       "config": {
        "plotlyServerURL": "https://plot.ly"
       },
       "data": [
        {
         "labels": [
          "        Alabama",
          "        Alaska",
          "        Arizona",
          "        Arkansas",
          "        California",
          "        Colorado",
          "        Connecticut",
          "        Delaware",
          "        District  of  Columbia",
          "        Florida",
          "        Georgia",
          "        Hawaii",
          "        Idaho",
          "        Illinois",
          "        Indiana",
          "        Iowa",
          "        Kansas",
          "        Kentucky",
          "        Louisiana",
          "        Maine",
          "        Maryland",
          "        Massachusetts",
          "        Michigan",
          "        Minnesota",
          "        Mississippi",
          "        Missouri",
          "        Montana",
          "        Nebraska",
          "        Nevada",
          "        New  Hampshire",
          "        New  Jersey",
          "        New  Mexico",
          "        New  York",
          "        North  Carolina",
          "        North  Dakota",
          "        Ohio",
          "        Oklahoma",
          "        Oregon",
          "        Pennsylvania",
          "        Rhode  Island",
          "        South  Carolina",
          "        South  Dakota",
          "        Tennessee",
          "        Texas",
          "        Utah",
          "        Vermont",
          "        Virginia",
          "        Washington",
          "        West  Virginia",
          "        Wisconsin",
          "        Wyoming"
         ],
         "parents": [
          "",
          "",
          "",
          "",
          "",
          "",
          "",
          "",
          "",
          "",
          "",
          "",
          "",
          "",
          "",
          "",
          "",
          "",
          "",
          "",
          "",
          "",
          "",
          "",
          "",
          "",
          "",
          "",
          "",
          "",
          "",
          "",
          "",
          "",
          "",
          "",
          "",
          "",
          "",
          "",
          "",
          "",
          "",
          "",
          "",
          "",
          "",
          "",
          "",
          "",
          ""
         ],
         "type": "treemap",
         "values": [
          1328.224,
          663.753,
          1334.245,
          818.852,
          6242.776,
          1164.647,
          1470.46,
          528.381,
          260.788,
          5195.526,
          2638.394,
          750.743,
          494.869,
          4545.67,
          1676.358,
          1525.831,
          1124.774,
          1623.588,
          1475.718,
          304.718,
          1278.434,
          2319.435,
          2119.296,
          2724.718,
          910.125,
          1481.689,
          499.154,
          896.765,
          826.583,
          271.684,
          3314.228,
          1079.946,
          6106.664,
          1927.611,
          315.124,
          3382.502,
          948.324,
          1059.03,
          2562.041,
          446.339,
          1073.82,
          412.038,
          1941.633,
          6075.925,
          631.275,
          198.994,
          1890.369,
          1763.471,
          737.343,
          2287.867,
          456.048
         ]
        }
       ],
       "layout": {
        "template": {
         "data": {
          "bar": [
           {
            "error_x": {
             "color": "#2a3f5f"
            },
            "error_y": {
             "color": "#2a3f5f"
            },
            "marker": {
             "line": {
              "color": "#E5ECF6",
              "width": 0.5
             }
            },
            "type": "bar"
           }
          ],
          "barpolar": [
           {
            "marker": {
             "line": {
              "color": "#E5ECF6",
              "width": 0.5
             }
            },
            "type": "barpolar"
           }
          ],
          "carpet": [
           {
            "aaxis": {
             "endlinecolor": "#2a3f5f",
             "gridcolor": "white",
             "linecolor": "white",
             "minorgridcolor": "white",
             "startlinecolor": "#2a3f5f"
            },
            "baxis": {
             "endlinecolor": "#2a3f5f",
             "gridcolor": "white",
             "linecolor": "white",
             "minorgridcolor": "white",
             "startlinecolor": "#2a3f5f"
            },
            "type": "carpet"
           }
          ],
          "choropleth": [
           {
            "colorbar": {
             "outlinewidth": 0,
             "ticks": ""
            },
            "type": "choropleth"
           }
          ],
          "contour": [
           {
            "colorbar": {
             "outlinewidth": 0,
             "ticks": ""
            },
            "colorscale": [
             [
              0,
              "#0d0887"
             ],
             [
              0.1111111111111111,
              "#46039f"
             ],
             [
              0.2222222222222222,
              "#7201a8"
             ],
             [
              0.3333333333333333,
              "#9c179e"
             ],
             [
              0.4444444444444444,
              "#bd3786"
             ],
             [
              0.5555555555555556,
              "#d8576b"
             ],
             [
              0.6666666666666666,
              "#ed7953"
             ],
             [
              0.7777777777777778,
              "#fb9f3a"
             ],
             [
              0.8888888888888888,
              "#fdca26"
             ],
             [
              1,
              "#f0f921"
             ]
            ],
            "type": "contour"
           }
          ],
          "contourcarpet": [
           {
            "colorbar": {
             "outlinewidth": 0,
             "ticks": ""
            },
            "type": "contourcarpet"
           }
          ],
          "heatmap": [
           {
            "colorbar": {
             "outlinewidth": 0,
             "ticks": ""
            },
            "colorscale": [
             [
              0,
              "#0d0887"
             ],
             [
              0.1111111111111111,
              "#46039f"
             ],
             [
              0.2222222222222222,
              "#7201a8"
             ],
             [
              0.3333333333333333,
              "#9c179e"
             ],
             [
              0.4444444444444444,
              "#bd3786"
             ],
             [
              0.5555555555555556,
              "#d8576b"
             ],
             [
              0.6666666666666666,
              "#ed7953"
             ],
             [
              0.7777777777777778,
              "#fb9f3a"
             ],
             [
              0.8888888888888888,
              "#fdca26"
             ],
             [
              1,
              "#f0f921"
             ]
            ],
            "type": "heatmap"
           }
          ],
          "heatmapgl": [
           {
            "colorbar": {
             "outlinewidth": 0,
             "ticks": ""
            },
            "colorscale": [
             [
              0,
              "#0d0887"
             ],
             [
              0.1111111111111111,
              "#46039f"
             ],
             [
              0.2222222222222222,
              "#7201a8"
             ],
             [
              0.3333333333333333,
              "#9c179e"
             ],
             [
              0.4444444444444444,
              "#bd3786"
             ],
             [
              0.5555555555555556,
              "#d8576b"
             ],
             [
              0.6666666666666666,
              "#ed7953"
             ],
             [
              0.7777777777777778,
              "#fb9f3a"
             ],
             [
              0.8888888888888888,
              "#fdca26"
             ],
             [
              1,
              "#f0f921"
             ]
            ],
            "type": "heatmapgl"
           }
          ],
          "histogram": [
           {
            "marker": {
             "colorbar": {
              "outlinewidth": 0,
              "ticks": ""
             }
            },
            "type": "histogram"
           }
          ],
          "histogram2d": [
           {
            "colorbar": {
             "outlinewidth": 0,
             "ticks": ""
            },
            "colorscale": [
             [
              0,
              "#0d0887"
             ],
             [
              0.1111111111111111,
              "#46039f"
             ],
             [
              0.2222222222222222,
              "#7201a8"
             ],
             [
              0.3333333333333333,
              "#9c179e"
             ],
             [
              0.4444444444444444,
              "#bd3786"
             ],
             [
              0.5555555555555556,
              "#d8576b"
             ],
             [
              0.6666666666666666,
              "#ed7953"
             ],
             [
              0.7777777777777778,
              "#fb9f3a"
             ],
             [
              0.8888888888888888,
              "#fdca26"
             ],
             [
              1,
              "#f0f921"
             ]
            ],
            "type": "histogram2d"
           }
          ],
          "histogram2dcontour": [
           {
            "colorbar": {
             "outlinewidth": 0,
             "ticks": ""
            },
            "colorscale": [
             [
              0,
              "#0d0887"
             ],
             [
              0.1111111111111111,
              "#46039f"
             ],
             [
              0.2222222222222222,
              "#7201a8"
             ],
             [
              0.3333333333333333,
              "#9c179e"
             ],
             [
              0.4444444444444444,
              "#bd3786"
             ],
             [
              0.5555555555555556,
              "#d8576b"
             ],
             [
              0.6666666666666666,
              "#ed7953"
             ],
             [
              0.7777777777777778,
              "#fb9f3a"
             ],
             [
              0.8888888888888888,
              "#fdca26"
             ],
             [
              1,
              "#f0f921"
             ]
            ],
            "type": "histogram2dcontour"
           }
          ],
          "mesh3d": [
           {
            "colorbar": {
             "outlinewidth": 0,
             "ticks": ""
            },
            "type": "mesh3d"
           }
          ],
          "parcoords": [
           {
            "line": {
             "colorbar": {
              "outlinewidth": 0,
              "ticks": ""
             }
            },
            "type": "parcoords"
           }
          ],
          "pie": [
           {
            "automargin": true,
            "type": "pie"
           }
          ],
          "scatter": [
           {
            "marker": {
             "colorbar": {
              "outlinewidth": 0,
              "ticks": ""
             }
            },
            "type": "scatter"
           }
          ],
          "scatter3d": [
           {
            "line": {
             "colorbar": {
              "outlinewidth": 0,
              "ticks": ""
             }
            },
            "marker": {
             "colorbar": {
              "outlinewidth": 0,
              "ticks": ""
             }
            },
            "type": "scatter3d"
           }
          ],
          "scattercarpet": [
           {
            "marker": {
             "colorbar": {
              "outlinewidth": 0,
              "ticks": ""
             }
            },
            "type": "scattercarpet"
           }
          ],
          "scattergeo": [
           {
            "marker": {
             "colorbar": {
              "outlinewidth": 0,
              "ticks": ""
             }
            },
            "type": "scattergeo"
           }
          ],
          "scattergl": [
           {
            "marker": {
             "colorbar": {
              "outlinewidth": 0,
              "ticks": ""
             }
            },
            "type": "scattergl"
           }
          ],
          "scattermapbox": [
           {
            "marker": {
             "colorbar": {
              "outlinewidth": 0,
              "ticks": ""
             }
            },
            "type": "scattermapbox"
           }
          ],
          "scatterpolar": [
           {
            "marker": {
             "colorbar": {
              "outlinewidth": 0,
              "ticks": ""
             }
            },
            "type": "scatterpolar"
           }
          ],
          "scatterpolargl": [
           {
            "marker": {
             "colorbar": {
              "outlinewidth": 0,
              "ticks": ""
             }
            },
            "type": "scatterpolargl"
           }
          ],
          "scatterternary": [
           {
            "marker": {
             "colorbar": {
              "outlinewidth": 0,
              "ticks": ""
             }
            },
            "type": "scatterternary"
           }
          ],
          "surface": [
           {
            "colorbar": {
             "outlinewidth": 0,
             "ticks": ""
            },
            "colorscale": [
             [
              0,
              "#0d0887"
             ],
             [
              0.1111111111111111,
              "#46039f"
             ],
             [
              0.2222222222222222,
              "#7201a8"
             ],
             [
              0.3333333333333333,
              "#9c179e"
             ],
             [
              0.4444444444444444,
              "#bd3786"
             ],
             [
              0.5555555555555556,
              "#d8576b"
             ],
             [
              0.6666666666666666,
              "#ed7953"
             ],
             [
              0.7777777777777778,
              "#fb9f3a"
             ],
             [
              0.8888888888888888,
              "#fdca26"
             ],
             [
              1,
              "#f0f921"
             ]
            ],
            "type": "surface"
           }
          ],
          "table": [
           {
            "cells": {
             "fill": {
              "color": "#EBF0F8"
             },
             "line": {
              "color": "white"
             }
            },
            "header": {
             "fill": {
              "color": "#C8D4E3"
             },
             "line": {
              "color": "white"
             }
            },
            "type": "table"
           }
          ]
         },
         "layout": {
          "annotationdefaults": {
           "arrowcolor": "#2a3f5f",
           "arrowhead": 0,
           "arrowwidth": 1
          },
          "coloraxis": {
           "colorbar": {
            "outlinewidth": 0,
            "ticks": ""
           }
          },
          "colorscale": {
           "diverging": [
            [
             0,
             "#8e0152"
            ],
            [
             0.1,
             "#c51b7d"
            ],
            [
             0.2,
             "#de77ae"
            ],
            [
             0.3,
             "#f1b6da"
            ],
            [
             0.4,
             "#fde0ef"
            ],
            [
             0.5,
             "#f7f7f7"
            ],
            [
             0.6,
             "#e6f5d0"
            ],
            [
             0.7,
             "#b8e186"
            ],
            [
             0.8,
             "#7fbc41"
            ],
            [
             0.9,
             "#4d9221"
            ],
            [
             1,
             "#276419"
            ]
           ],
           "sequential": [
            [
             0,
             "#0d0887"
            ],
            [
             0.1111111111111111,
             "#46039f"
            ],
            [
             0.2222222222222222,
             "#7201a8"
            ],
            [
             0.3333333333333333,
             "#9c179e"
            ],
            [
             0.4444444444444444,
             "#bd3786"
            ],
            [
             0.5555555555555556,
             "#d8576b"
            ],
            [
             0.6666666666666666,
             "#ed7953"
            ],
            [
             0.7777777777777778,
             "#fb9f3a"
            ],
            [
             0.8888888888888888,
             "#fdca26"
            ],
            [
             1,
             "#f0f921"
            ]
           ],
           "sequentialminus": [
            [
             0,
             "#0d0887"
            ],
            [
             0.1111111111111111,
             "#46039f"
            ],
            [
             0.2222222222222222,
             "#7201a8"
            ],
            [
             0.3333333333333333,
             "#9c179e"
            ],
            [
             0.4444444444444444,
             "#bd3786"
            ],
            [
             0.5555555555555556,
             "#d8576b"
            ],
            [
             0.6666666666666666,
             "#ed7953"
            ],
            [
             0.7777777777777778,
             "#fb9f3a"
            ],
            [
             0.8888888888888888,
             "#fdca26"
            ],
            [
             1,
             "#f0f921"
            ]
           ]
          },
          "colorway": [
           "#636efa",
           "#EF553B",
           "#00cc96",
           "#ab63fa",
           "#FFA15A",
           "#19d3f3",
           "#FF6692",
           "#B6E880",
           "#FF97FF",
           "#FECB52"
          ],
          "font": {
           "color": "#2a3f5f"
          },
          "geo": {
           "bgcolor": "white",
           "lakecolor": "white",
           "landcolor": "#E5ECF6",
           "showlakes": true,
           "showland": true,
           "subunitcolor": "white"
          },
          "hoverlabel": {
           "align": "left"
          },
          "hovermode": "closest",
          "mapbox": {
           "style": "light"
          },
          "paper_bgcolor": "white",
          "plot_bgcolor": "#E5ECF6",
          "polar": {
           "angularaxis": {
            "gridcolor": "white",
            "linecolor": "white",
            "ticks": ""
           },
           "bgcolor": "#E5ECF6",
           "radialaxis": {
            "gridcolor": "white",
            "linecolor": "white",
            "ticks": ""
           }
          },
          "scene": {
           "xaxis": {
            "backgroundcolor": "#E5ECF6",
            "gridcolor": "white",
            "gridwidth": 2,
            "linecolor": "white",
            "showbackground": true,
            "ticks": "",
            "zerolinecolor": "white"
           },
           "yaxis": {
            "backgroundcolor": "#E5ECF6",
            "gridcolor": "white",
            "gridwidth": 2,
            "linecolor": "white",
            "showbackground": true,
            "ticks": "",
            "zerolinecolor": "white"
           },
           "zaxis": {
            "backgroundcolor": "#E5ECF6",
            "gridcolor": "white",
            "gridwidth": 2,
            "linecolor": "white",
            "showbackground": true,
            "ticks": "",
            "zerolinecolor": "white"
           }
          },
          "shapedefaults": {
           "line": {
            "color": "#2a3f5f"
           }
          },
          "ternary": {
           "aaxis": {
            "gridcolor": "white",
            "linecolor": "white",
            "ticks": ""
           },
           "baxis": {
            "gridcolor": "white",
            "linecolor": "white",
            "ticks": ""
           },
           "bgcolor": "#E5ECF6",
           "caxis": {
            "gridcolor": "white",
            "linecolor": "white",
            "ticks": ""
           }
          },
          "title": {
           "x": 0.05
          },
          "xaxis": {
           "automargin": true,
           "gridcolor": "white",
           "linecolor": "white",
           "ticks": "",
           "title": {
            "standoff": 15
           },
           "zerolinecolor": "white",
           "zerolinewidth": 2
          },
          "yaxis": {
           "automargin": true,
           "gridcolor": "white",
           "linecolor": "white",
           "ticks": "",
           "title": {
            "standoff": 15
           },
           "zerolinecolor": "white",
           "zerolinewidth": 2
          }
         }
        }
       }
      },
      "text/html": "<div>\n        \n        \n            <div id=\"98e57fd4-d4b8-4752-9e21-e5588ac7ee4a\" class=\"plotly-graph-div\" style=\"height:525px; width:100%;\"></div>\n            <script type=\"text/javascript\">\n                require([\"plotly\"], function(Plotly) {\n                    window.PLOTLYENV=window.PLOTLYENV || {};\n                    \n                if (document.getElementById(\"98e57fd4-d4b8-4752-9e21-e5588ac7ee4a\")) {\n                    Plotly.newPlot(\n                        '98e57fd4-d4b8-4752-9e21-e5588ac7ee4a',\n                        [{\"labels\": [\"\\u00a0 \\u00a0 \\u00a0 \\u00a0 Alabama\", \"\\u00a0 \\u00a0 \\u00a0 \\u00a0 Alaska\", \"\\u00a0 \\u00a0 \\u00a0 \\u00a0 Arizona\", \"\\u00a0 \\u00a0 \\u00a0 \\u00a0 Arkansas\", \"\\u00a0 \\u00a0 \\u00a0 \\u00a0 California\", \"\\u00a0 \\u00a0 \\u00a0 \\u00a0 Colorado\", \"\\u00a0 \\u00a0 \\u00a0 \\u00a0 Connecticut\", \"\\u00a0 \\u00a0 \\u00a0 \\u00a0 Delaware\", \"\\u00a0 \\u00a0 \\u00a0 \\u00a0 District\\u00a0 of\\u00a0 Columbia\", \"\\u00a0 \\u00a0 \\u00a0 \\u00a0 Florida\", \"\\u00a0 \\u00a0 \\u00a0 \\u00a0 Georgia\", \"\\u00a0 \\u00a0 \\u00a0 \\u00a0 Hawaii\", \"\\u00a0 \\u00a0 \\u00a0 \\u00a0 Idaho\", \"\\u00a0 \\u00a0 \\u00a0 \\u00a0 Illinois\", \"\\u00a0 \\u00a0 \\u00a0 \\u00a0 Indiana\", \"\\u00a0 \\u00a0 \\u00a0 \\u00a0 Iowa\", \"\\u00a0 \\u00a0 \\u00a0 \\u00a0 Kansas\", \"\\u00a0 \\u00a0 \\u00a0 \\u00a0 Kentucky\", \"\\u00a0 \\u00a0 \\u00a0 \\u00a0 Louisiana\", \"\\u00a0 \\u00a0 \\u00a0 \\u00a0 Maine\", \"\\u00a0 \\u00a0 \\u00a0 \\u00a0 Maryland\", \"\\u00a0 \\u00a0 \\u00a0 \\u00a0 Massachusetts\", \"\\u00a0 \\u00a0 \\u00a0 \\u00a0 Michigan\", \"\\u00a0 \\u00a0 \\u00a0 \\u00a0 Minnesota\", \"\\u00a0 \\u00a0 \\u00a0 \\u00a0 Mississippi\", \"\\u00a0 \\u00a0 \\u00a0 \\u00a0 Missouri\", \"\\u00a0 \\u00a0 \\u00a0 \\u00a0 Montana\", \"\\u00a0 \\u00a0 \\u00a0 \\u00a0 Nebraska\", \"\\u00a0 \\u00a0 \\u00a0 \\u00a0 Nevada\", \"\\u00a0 \\u00a0 \\u00a0 \\u00a0 New\\u00a0 Hampshire\", \"\\u00a0 \\u00a0 \\u00a0 \\u00a0 New\\u00a0 Jersey\", \"\\u00a0 \\u00a0 \\u00a0 \\u00a0 New\\u00a0 Mexico\", \"\\u00a0 \\u00a0 \\u00a0 \\u00a0 New\\u00a0 York\", \"\\u00a0 \\u00a0 \\u00a0 \\u00a0 North\\u00a0 Carolina\", \"\\u00a0 \\u00a0 \\u00a0 \\u00a0 North\\u00a0 Dakota\", \"\\u00a0 \\u00a0 \\u00a0 \\u00a0 Ohio\", \"\\u00a0 \\u00a0 \\u00a0 \\u00a0 Oklahoma\", \"\\u00a0 \\u00a0 \\u00a0 \\u00a0 Oregon\", \"\\u00a0 \\u00a0 \\u00a0 \\u00a0 Pennsylvania\", \"\\u00a0 \\u00a0 \\u00a0 \\u00a0 Rhode\\u00a0 Island\", \"\\u00a0 \\u00a0 \\u00a0 \\u00a0 South\\u00a0 Carolina\", \"\\u00a0 \\u00a0 \\u00a0 \\u00a0 South\\u00a0 Dakota\", \"\\u00a0 \\u00a0 \\u00a0 \\u00a0 Tennessee\", \"\\u00a0 \\u00a0 \\u00a0 \\u00a0 Texas\", \"\\u00a0 \\u00a0 \\u00a0 \\u00a0 Utah\", \"\\u00a0 \\u00a0 \\u00a0 \\u00a0 Vermont\", \"\\u00a0 \\u00a0 \\u00a0 \\u00a0 Virginia\", \"\\u00a0 \\u00a0 \\u00a0 \\u00a0 Washington\", \"\\u00a0 \\u00a0 \\u00a0 \\u00a0 West\\u00a0 Virginia\", \"\\u00a0 \\u00a0 \\u00a0 \\u00a0 Wisconsin\", \"\\u00a0 \\u00a0 \\u00a0 \\u00a0 Wyoming\"], \"parents\": [\"\", \"\", \"\", \"\", \"\", \"\", \"\", \"\", \"\", \"\", \"\", \"\", \"\", \"\", \"\", \"\", \"\", \"\", \"\", \"\", \"\", \"\", \"\", \"\", \"\", \"\", \"\", \"\", \"\", \"\", \"\", \"\", \"\", \"\", \"\", \"\", \"\", \"\", \"\", \"\", \"\", \"\", \"\", \"\", \"\", \"\", \"\", \"\", \"\", \"\", \"\"], \"type\": \"treemap\", \"values\": [1328.224, 663.753, 1334.245, 818.852, 6242.776, 1164.647, 1470.46, 528.381, 260.788, 5195.526, 2638.394, 750.743, 494.869, 4545.67, 1676.358, 1525.831, 1124.774, 1623.588, 1475.718, 304.718, 1278.434, 2319.435, 2119.296, 2724.718, 910.125, 1481.689, 499.154, 896.765, 826.583, 271.684, 3314.228, 1079.946, 6106.664, 1927.611, 315.124, 3382.502, 948.324, 1059.03, 2562.041, 446.339, 1073.82, 412.038, 1941.633, 6075.925, 631.275, 198.994, 1890.369, 1763.471, 737.343, 2287.867, 456.048]}],\n                        {\"template\": {\"data\": {\"bar\": [{\"error_x\": {\"color\": \"#2a3f5f\"}, \"error_y\": {\"color\": \"#2a3f5f\"}, \"marker\": {\"line\": {\"color\": \"#E5ECF6\", \"width\": 0.5}}, \"type\": \"bar\"}], \"barpolar\": [{\"marker\": {\"line\": {\"color\": \"#E5ECF6\", \"width\": 0.5}}, \"type\": \"barpolar\"}], \"carpet\": [{\"aaxis\": {\"endlinecolor\": \"#2a3f5f\", \"gridcolor\": \"white\", \"linecolor\": \"white\", \"minorgridcolor\": \"white\", \"startlinecolor\": \"#2a3f5f\"}, \"baxis\": {\"endlinecolor\": \"#2a3f5f\", \"gridcolor\": \"white\", \"linecolor\": \"white\", \"minorgridcolor\": \"white\", \"startlinecolor\": \"#2a3f5f\"}, \"type\": \"carpet\"}], \"choropleth\": [{\"colorbar\": {\"outlinewidth\": 0, \"ticks\": \"\"}, \"type\": \"choropleth\"}], \"contour\": [{\"colorbar\": {\"outlinewidth\": 0, \"ticks\": \"\"}, \"colorscale\": [[0.0, \"#0d0887\"], [0.1111111111111111, \"#46039f\"], [0.2222222222222222, \"#7201a8\"], [0.3333333333333333, \"#9c179e\"], [0.4444444444444444, \"#bd3786\"], [0.5555555555555556, \"#d8576b\"], [0.6666666666666666, \"#ed7953\"], [0.7777777777777778, \"#fb9f3a\"], [0.8888888888888888, \"#fdca26\"], [1.0, \"#f0f921\"]], \"type\": \"contour\"}], \"contourcarpet\": [{\"colorbar\": {\"outlinewidth\": 0, \"ticks\": \"\"}, \"type\": \"contourcarpet\"}], \"heatmap\": [{\"colorbar\": {\"outlinewidth\": 0, \"ticks\": \"\"}, \"colorscale\": [[0.0, \"#0d0887\"], [0.1111111111111111, \"#46039f\"], [0.2222222222222222, \"#7201a8\"], [0.3333333333333333, \"#9c179e\"], [0.4444444444444444, \"#bd3786\"], [0.5555555555555556, \"#d8576b\"], [0.6666666666666666, \"#ed7953\"], [0.7777777777777778, \"#fb9f3a\"], [0.8888888888888888, \"#fdca26\"], [1.0, \"#f0f921\"]], \"type\": \"heatmap\"}], \"heatmapgl\": [{\"colorbar\": {\"outlinewidth\": 0, \"ticks\": \"\"}, \"colorscale\": [[0.0, \"#0d0887\"], [0.1111111111111111, \"#46039f\"], [0.2222222222222222, \"#7201a8\"], [0.3333333333333333, \"#9c179e\"], [0.4444444444444444, \"#bd3786\"], [0.5555555555555556, \"#d8576b\"], [0.6666666666666666, \"#ed7953\"], [0.7777777777777778, \"#fb9f3a\"], [0.8888888888888888, \"#fdca26\"], [1.0, \"#f0f921\"]], \"type\": \"heatmapgl\"}], \"histogram\": [{\"marker\": {\"colorbar\": {\"outlinewidth\": 0, \"ticks\": \"\"}}, \"type\": \"histogram\"}], \"histogram2d\": [{\"colorbar\": {\"outlinewidth\": 0, \"ticks\": \"\"}, \"colorscale\": [[0.0, \"#0d0887\"], [0.1111111111111111, \"#46039f\"], [0.2222222222222222, \"#7201a8\"], [0.3333333333333333, \"#9c179e\"], [0.4444444444444444, \"#bd3786\"], [0.5555555555555556, \"#d8576b\"], [0.6666666666666666, \"#ed7953\"], [0.7777777777777778, \"#fb9f3a\"], [0.8888888888888888, \"#fdca26\"], [1.0, \"#f0f921\"]], \"type\": \"histogram2d\"}], \"histogram2dcontour\": [{\"colorbar\": {\"outlinewidth\": 0, \"ticks\": \"\"}, \"colorscale\": [[0.0, \"#0d0887\"], [0.1111111111111111, \"#46039f\"], [0.2222222222222222, \"#7201a8\"], [0.3333333333333333, \"#9c179e\"], [0.4444444444444444, \"#bd3786\"], [0.5555555555555556, \"#d8576b\"], [0.6666666666666666, \"#ed7953\"], [0.7777777777777778, \"#fb9f3a\"], [0.8888888888888888, \"#fdca26\"], [1.0, \"#f0f921\"]], \"type\": \"histogram2dcontour\"}], \"mesh3d\": [{\"colorbar\": {\"outlinewidth\": 0, \"ticks\": \"\"}, \"type\": \"mesh3d\"}], \"parcoords\": [{\"line\": {\"colorbar\": {\"outlinewidth\": 0, \"ticks\": \"\"}}, \"type\": \"parcoords\"}], \"pie\": [{\"automargin\": true, \"type\": \"pie\"}], \"scatter\": [{\"marker\": {\"colorbar\": {\"outlinewidth\": 0, \"ticks\": \"\"}}, \"type\": \"scatter\"}], \"scatter3d\": [{\"line\": {\"colorbar\": {\"outlinewidth\": 0, \"ticks\": \"\"}}, \"marker\": {\"colorbar\": {\"outlinewidth\": 0, \"ticks\": \"\"}}, \"type\": \"scatter3d\"}], \"scattercarpet\": [{\"marker\": {\"colorbar\": {\"outlinewidth\": 0, \"ticks\": \"\"}}, \"type\": \"scattercarpet\"}], \"scattergeo\": [{\"marker\": {\"colorbar\": {\"outlinewidth\": 0, \"ticks\": \"\"}}, \"type\": \"scattergeo\"}], \"scattergl\": [{\"marker\": {\"colorbar\": {\"outlinewidth\": 0, \"ticks\": \"\"}}, \"type\": \"scattergl\"}], \"scattermapbox\": [{\"marker\": {\"colorbar\": {\"outlinewidth\": 0, \"ticks\": \"\"}}, \"type\": \"scattermapbox\"}], \"scatterpolar\": [{\"marker\": {\"colorbar\": {\"outlinewidth\": 0, \"ticks\": \"\"}}, \"type\": \"scatterpolar\"}], \"scatterpolargl\": [{\"marker\": {\"colorbar\": {\"outlinewidth\": 0, \"ticks\": \"\"}}, \"type\": \"scatterpolargl\"}], \"scatterternary\": [{\"marker\": {\"colorbar\": {\"outlinewidth\": 0, \"ticks\": \"\"}}, \"type\": \"scatterternary\"}], \"surface\": [{\"colorbar\": {\"outlinewidth\": 0, \"ticks\": \"\"}, \"colorscale\": [[0.0, \"#0d0887\"], [0.1111111111111111, \"#46039f\"], [0.2222222222222222, \"#7201a8\"], [0.3333333333333333, \"#9c179e\"], [0.4444444444444444, \"#bd3786\"], [0.5555555555555556, \"#d8576b\"], [0.6666666666666666, \"#ed7953\"], [0.7777777777777778, \"#fb9f3a\"], [0.8888888888888888, \"#fdca26\"], [1.0, \"#f0f921\"]], \"type\": \"surface\"}], \"table\": [{\"cells\": {\"fill\": {\"color\": \"#EBF0F8\"}, \"line\": {\"color\": \"white\"}}, \"header\": {\"fill\": {\"color\": \"#C8D4E3\"}, \"line\": {\"color\": \"white\"}}, \"type\": \"table\"}]}, \"layout\": {\"annotationdefaults\": {\"arrowcolor\": \"#2a3f5f\", \"arrowhead\": 0, \"arrowwidth\": 1}, \"coloraxis\": {\"colorbar\": {\"outlinewidth\": 0, \"ticks\": \"\"}}, \"colorscale\": {\"diverging\": [[0, \"#8e0152\"], [0.1, \"#c51b7d\"], [0.2, \"#de77ae\"], [0.3, \"#f1b6da\"], [0.4, \"#fde0ef\"], [0.5, \"#f7f7f7\"], [0.6, \"#e6f5d0\"], [0.7, \"#b8e186\"], [0.8, \"#7fbc41\"], [0.9, \"#4d9221\"], [1, \"#276419\"]], \"sequential\": [[0.0, \"#0d0887\"], [0.1111111111111111, \"#46039f\"], [0.2222222222222222, \"#7201a8\"], [0.3333333333333333, \"#9c179e\"], [0.4444444444444444, \"#bd3786\"], [0.5555555555555556, \"#d8576b\"], [0.6666666666666666, \"#ed7953\"], [0.7777777777777778, \"#fb9f3a\"], [0.8888888888888888, \"#fdca26\"], [1.0, \"#f0f921\"]], \"sequentialminus\": [[0.0, \"#0d0887\"], [0.1111111111111111, \"#46039f\"], [0.2222222222222222, \"#7201a8\"], [0.3333333333333333, \"#9c179e\"], [0.4444444444444444, \"#bd3786\"], [0.5555555555555556, \"#d8576b\"], [0.6666666666666666, \"#ed7953\"], [0.7777777777777778, \"#fb9f3a\"], [0.8888888888888888, \"#fdca26\"], [1.0, \"#f0f921\"]]}, \"colorway\": [\"#636efa\", \"#EF553B\", \"#00cc96\", \"#ab63fa\", \"#FFA15A\", \"#19d3f3\", \"#FF6692\", \"#B6E880\", \"#FF97FF\", \"#FECB52\"], \"font\": {\"color\": \"#2a3f5f\"}, \"geo\": {\"bgcolor\": \"white\", \"lakecolor\": \"white\", \"landcolor\": \"#E5ECF6\", \"showlakes\": true, \"showland\": true, \"subunitcolor\": \"white\"}, \"hoverlabel\": {\"align\": \"left\"}, \"hovermode\": \"closest\", \"mapbox\": {\"style\": \"light\"}, \"paper_bgcolor\": \"white\", \"plot_bgcolor\": \"#E5ECF6\", \"polar\": {\"angularaxis\": {\"gridcolor\": \"white\", \"linecolor\": \"white\", \"ticks\": \"\"}, \"bgcolor\": \"#E5ECF6\", \"radialaxis\": {\"gridcolor\": \"white\", \"linecolor\": \"white\", \"ticks\": \"\"}}, \"scene\": {\"xaxis\": {\"backgroundcolor\": \"#E5ECF6\", \"gridcolor\": \"white\", \"gridwidth\": 2, \"linecolor\": \"white\", \"showbackground\": true, \"ticks\": \"\", \"zerolinecolor\": \"white\"}, \"yaxis\": {\"backgroundcolor\": \"#E5ECF6\", \"gridcolor\": \"white\", \"gridwidth\": 2, \"linecolor\": \"white\", \"showbackground\": true, \"ticks\": \"\", \"zerolinecolor\": \"white\"}, \"zaxis\": {\"backgroundcolor\": \"#E5ECF6\", \"gridcolor\": \"white\", \"gridwidth\": 2, \"linecolor\": \"white\", \"showbackground\": true, \"ticks\": \"\", \"zerolinecolor\": \"white\"}}, \"shapedefaults\": {\"line\": {\"color\": \"#2a3f5f\"}}, \"ternary\": {\"aaxis\": {\"gridcolor\": \"white\", \"linecolor\": \"white\", \"ticks\": \"\"}, \"baxis\": {\"gridcolor\": \"white\", \"linecolor\": \"white\", \"ticks\": \"\"}, \"bgcolor\": \"#E5ECF6\", \"caxis\": {\"gridcolor\": \"white\", \"linecolor\": \"white\", \"ticks\": \"\"}}, \"title\": {\"x\": 0.05}, \"xaxis\": {\"automargin\": true, \"gridcolor\": \"white\", \"linecolor\": \"white\", \"ticks\": \"\", \"title\": {\"standoff\": 15}, \"zerolinecolor\": \"white\", \"zerolinewidth\": 2}, \"yaxis\": {\"automargin\": true, \"gridcolor\": \"white\", \"linecolor\": \"white\", \"ticks\": \"\", \"title\": {\"standoff\": 15}, \"zerolinecolor\": \"white\", \"zerolinewidth\": 2}}}},\n                        {\"responsive\": true}\n                    ).then(function(){\n                            \nvar gd = document.getElementById('98e57fd4-d4b8-4752-9e21-e5588ac7ee4a');\nvar x = new MutationObserver(function (mutations, observer) {{\n        var display = window.getComputedStyle(gd).display;\n        if (!display || display === 'none') {{\n            console.log([gd, 'removed!']);\n            Plotly.purge(gd);\n            observer.disconnect();\n        }}\n}});\n\n// Listen for the removal of the full notebook cells\nvar notebookContainer = gd.closest('#notebook-container');\nif (notebookContainer) {{\n    x.observe(notebookContainer, {childList: true});\n}}\n\n// Listen for the clearing of the current output cell\nvar outputEl = gd.closest('.output');\nif (outputEl) {{\n    x.observe(outputEl, {childList: true});\n}}\n\n                        })\n                };\n                });\n            </script>\n        </div>"
     },
     "metadata": {}
    }
   ],
   "source": [
    "fig = go.Figure()\n",
    "fig.add_trace(go.Treemap(\n",
    "    labels=list(state_infra['State']),\n",
    "    parents=[\"\" for parent in state_infra['State']],\n",
    "    values=list(state_infra[1992]),\n",
    "))\n",
    "fig.show()"
   ]
  },
  {
   "source": [
    "# Next Dataset\n",
    "\n",
    "Need to add population overtime to make this percaptia as this really just shows states by size"
   ],
   "cell_type": "markdown",
   "metadata": {}
  },
  {
   "cell_type": "code",
   "execution_count": 94,
   "metadata": {},
   "outputs": [
    {
     "output_type": "execute_result",
     "data": {
      "text/plain": [
       "   DATE  ALABAMA ALASKA  ARIZONA  ARKANSAS  CALIFORNIA  COLORADO  CONNECTICUT  \\\n",
       "0  1900   1830.0      .    124.0    1314.0      1490.0     543.0        910.0   \n",
       "1  1901   1907.0      .    131.0    1341.0      1550.0     581.0        931.0   \n",
       "2  1902   1935.0      .    138.0    1360.0      1623.0     621.0        952.0   \n",
       "3  1903   1957.0      .    144.0    1384.0      1702.0     652.0        972.0   \n",
       "4  1904   1978.0      .    151.0    1419.0      1792.0     659.0        987.0   \n",
       "\n",
       "   DELAWARE  DISTRICT OF COLUMBIA  ...  SOUTH DAKOTA  TENNESSEE   TEXAS  \\\n",
       "0     185.0                 278.0  ...         403.0     2023.0  3055.0   \n",
       "1     187.0                 285.0  ...         418.0     2041.0  3132.0   \n",
       "2     188.0                 290.0  ...         431.0     2060.0  3210.0   \n",
       "3     190.0                 295.0  ...         437.0     2082.0  3291.0   \n",
       "4     192.0                 302.0  ...         452.0     2086.0  3374.0   \n",
       "\n",
       "    UTAH  VERMONT  VIRGINIA  WASHINGTON  WEST VIRGINIA  WISCONSIN  WYOMING  \n",
       "0  277.0    344.0    1858.0       523.0          959.0     2072.0     93.0  \n",
       "1  284.0    347.0    1887.0       583.0          972.0     2109.0    100.0  \n",
       "2  292.0    349.0    1894.0       651.0         1000.0     2141.0    105.0  \n",
       "3  299.0    350.0    1890.0       719.0         1037.0     2171.0    108.0  \n",
       "4  308.0    353.0    1889.0       782.0         1064.0     2202.0    111.0  \n",
       "\n",
       "[5 rows x 52 columns]"
      ],
      "text/html": "<div>\n<style scoped>\n    .dataframe tbody tr th:only-of-type {\n        vertical-align: middle;\n    }\n\n    .dataframe tbody tr th {\n        vertical-align: top;\n    }\n\n    .dataframe thead th {\n        text-align: right;\n    }\n</style>\n<table border=\"1\" class=\"dataframe\">\n  <thead>\n    <tr style=\"text-align: right;\">\n      <th></th>\n      <th>DATE</th>\n      <th>ALABAMA</th>\n      <th>ALASKA</th>\n      <th>ARIZONA</th>\n      <th>ARKANSAS</th>\n      <th>CALIFORNIA</th>\n      <th>COLORADO</th>\n      <th>CONNECTICUT</th>\n      <th>DELAWARE</th>\n      <th>DISTRICT OF COLUMBIA</th>\n      <th>...</th>\n      <th>SOUTH DAKOTA</th>\n      <th>TENNESSEE</th>\n      <th>TEXAS</th>\n      <th>UTAH</th>\n      <th>VERMONT</th>\n      <th>VIRGINIA</th>\n      <th>WASHINGTON</th>\n      <th>WEST VIRGINIA</th>\n      <th>WISCONSIN</th>\n      <th>WYOMING</th>\n    </tr>\n  </thead>\n  <tbody>\n    <tr>\n      <th>0</th>\n      <td>1900</td>\n      <td>1830.0</td>\n      <td>.</td>\n      <td>124.0</td>\n      <td>1314.0</td>\n      <td>1490.0</td>\n      <td>543.0</td>\n      <td>910.0</td>\n      <td>185.0</td>\n      <td>278.0</td>\n      <td>...</td>\n      <td>403.0</td>\n      <td>2023.0</td>\n      <td>3055.0</td>\n      <td>277.0</td>\n      <td>344.0</td>\n      <td>1858.0</td>\n      <td>523.0</td>\n      <td>959.0</td>\n      <td>2072.0</td>\n      <td>93.0</td>\n    </tr>\n    <tr>\n      <th>1</th>\n      <td>1901</td>\n      <td>1907.0</td>\n      <td>.</td>\n      <td>131.0</td>\n      <td>1341.0</td>\n      <td>1550.0</td>\n      <td>581.0</td>\n      <td>931.0</td>\n      <td>187.0</td>\n      <td>285.0</td>\n      <td>...</td>\n      <td>418.0</td>\n      <td>2041.0</td>\n      <td>3132.0</td>\n      <td>284.0</td>\n      <td>347.0</td>\n      <td>1887.0</td>\n      <td>583.0</td>\n      <td>972.0</td>\n      <td>2109.0</td>\n      <td>100.0</td>\n    </tr>\n    <tr>\n      <th>2</th>\n      <td>1902</td>\n      <td>1935.0</td>\n      <td>.</td>\n      <td>138.0</td>\n      <td>1360.0</td>\n      <td>1623.0</td>\n      <td>621.0</td>\n      <td>952.0</td>\n      <td>188.0</td>\n      <td>290.0</td>\n      <td>...</td>\n      <td>431.0</td>\n      <td>2060.0</td>\n      <td>3210.0</td>\n      <td>292.0</td>\n      <td>349.0</td>\n      <td>1894.0</td>\n      <td>651.0</td>\n      <td>1000.0</td>\n      <td>2141.0</td>\n      <td>105.0</td>\n    </tr>\n    <tr>\n      <th>3</th>\n      <td>1903</td>\n      <td>1957.0</td>\n      <td>.</td>\n      <td>144.0</td>\n      <td>1384.0</td>\n      <td>1702.0</td>\n      <td>652.0</td>\n      <td>972.0</td>\n      <td>190.0</td>\n      <td>295.0</td>\n      <td>...</td>\n      <td>437.0</td>\n      <td>2082.0</td>\n      <td>3291.0</td>\n      <td>299.0</td>\n      <td>350.0</td>\n      <td>1890.0</td>\n      <td>719.0</td>\n      <td>1037.0</td>\n      <td>2171.0</td>\n      <td>108.0</td>\n    </tr>\n    <tr>\n      <th>4</th>\n      <td>1904</td>\n      <td>1978.0</td>\n      <td>.</td>\n      <td>151.0</td>\n      <td>1419.0</td>\n      <td>1792.0</td>\n      <td>659.0</td>\n      <td>987.0</td>\n      <td>192.0</td>\n      <td>302.0</td>\n      <td>...</td>\n      <td>452.0</td>\n      <td>2086.0</td>\n      <td>3374.0</td>\n      <td>308.0</td>\n      <td>353.0</td>\n      <td>1889.0</td>\n      <td>782.0</td>\n      <td>1064.0</td>\n      <td>2202.0</td>\n      <td>111.0</td>\n    </tr>\n  </tbody>\n</table>\n<p>5 rows × 52 columns</p>\n</div>"
     },
     "metadata": {},
     "execution_count": 94
    }
   ],
   "source": [
    "state_pop = pd.read_csv(r'C:\\Users\\zeusg\\OneDrive\\Documents\\Github\\data_vis\\data\\UsSatePop\\allstates.csv')\n",
    "#Rotate table\n",
    "#state_pop = state_pop.T\n",
    "#Make first row columns\n",
    "#state_pop.columns = state_pop.iloc[0]\n",
    "#state_pop = state_pop.drop([])\n",
    "#state_pop = state_pop.drop([0])\n",
    "state_pop.head()"
   ]
  },
  {
   "cell_type": "code",
   "execution_count": 90,
   "metadata": {},
   "outputs": [
    {
     "output_type": "display_data",
     "data": {
      "application/vnd.plotly.v1+json": {
       "config": {
        "plotlyServerURL": "https://plot.ly"
       },
       "data": [
        {
         "type": "scatter",
         "x": [
          1900,
          1901,
          1902,
          1903,
          1904,
          1905,
          1906,
          1907,
          1908,
          1909,
          1910,
          1911,
          1912,
          1913,
          1914,
          1915,
          1916,
          1917,
          1918,
          1919,
          1920,
          1921,
          1922,
          1923,
          1924,
          1925,
          1926,
          1927,
          1928,
          1929,
          1930,
          1931,
          1932,
          1933,
          1934,
          1935,
          1936,
          1937,
          1938,
          1939,
          1940,
          1941,
          1942,
          1943,
          1944,
          1945,
          1946,
          1947,
          1948,
          1949,
          1950,
          1951,
          1952,
          1953,
          1954,
          1955,
          1956,
          1957,
          1958,
          1959,
          1960,
          1961,
          1962,
          1963,
          1964,
          1965,
          1966,
          1967,
          1968,
          1969,
          1970,
          1971,
          1972,
          1973,
          1974,
          1975,
          1976,
          1977,
          1978,
          1979,
          1980,
          1981,
          1982,
          1983,
          1984,
          1985,
          1986,
          1987,
          1988,
          1989,
          1990,
          1991,
          1992,
          1993,
          1994,
          1995,
          1996,
          1997,
          1998,
          1999,
          2000,
          2001,
          2002,
          2003,
          2004,
          2005,
          2006,
          2007,
          2008,
          2009,
          2010,
          2011,
          2012,
          2013,
          2014,
          2015,
          2016,
          2017,
          2018,
          2019,
          2020
         ],
         "y": [
          1490000,
          1550000,
          1623000,
          1702000,
          1792000,
          1893000,
          1976000,
          2054000,
          2161000,
          2282000,
          2406000,
          2534000,
          2668000,
          2811000,
          2934000,
          3008000,
          3071000,
          3171000,
          3262000,
          3339000,
          3554000,
          3795000,
          3991000,
          4270000,
          4541000,
          4730000,
          4929000,
          5147000,
          5344000,
          5531000,
          5711000,
          5824000,
          5894000,
          5963000,
          6060000,
          6175000,
          6341000,
          6528000,
          6656000,
          6785000,
          6950000,
          7237000,
          7735000,
          8506000,
          8945000,
          9344000,
          9559000,
          9832000,
          10064000,
          10337000,
          10677000,
          11134000,
          11635000,
          12251000,
          12746000,
          13133000,
          13713000,
          14264000,
          14880000,
          15467000,
          15870000,
          16497000,
          17072000,
          17668000,
          18151000,
          18585000,
          18858000,
          19176000,
          19394000,
          19711000,
          19971069,
          20345939,
          20585468.999999996,
          20868728,
          21173865,
          21537849,
          21935909,
          22352396,
          22835958,
          23256880,
          23800800,
          24285932.999999996,
          24820009,
          25360026,
          25844392.999999996,
          26441109,
          27102237,
          27777158,
          28464249,
          29218164,
          29950111,
          30414113.999999996,
          30875920,
          31147208,
          31317179,
          31493525,
          31780828.999999996,
          32217708,
          32682793.999999996,
          33145121,
          33987977,
          34479458,
          34871843,
          35253159,
          35574576,
          35827943,
          36021202.00000001,
          36250311,
          36604337,
          36961229,
          37319550,
          37636311,
          37944551,
          38253768,
          38586706,
          38904296,
          39149186,
          39337785,
          39437462.99999999,
          39437610,
          39368078
         ]
        }
       ],
       "layout": {
        "template": {
         "data": {
          "bar": [
           {
            "error_x": {
             "color": "#2a3f5f"
            },
            "error_y": {
             "color": "#2a3f5f"
            },
            "marker": {
             "line": {
              "color": "#E5ECF6",
              "width": 0.5
             }
            },
            "type": "bar"
           }
          ],
          "barpolar": [
           {
            "marker": {
             "line": {
              "color": "#E5ECF6",
              "width": 0.5
             }
            },
            "type": "barpolar"
           }
          ],
          "carpet": [
           {
            "aaxis": {
             "endlinecolor": "#2a3f5f",
             "gridcolor": "white",
             "linecolor": "white",
             "minorgridcolor": "white",
             "startlinecolor": "#2a3f5f"
            },
            "baxis": {
             "endlinecolor": "#2a3f5f",
             "gridcolor": "white",
             "linecolor": "white",
             "minorgridcolor": "white",
             "startlinecolor": "#2a3f5f"
            },
            "type": "carpet"
           }
          ],
          "choropleth": [
           {
            "colorbar": {
             "outlinewidth": 0,
             "ticks": ""
            },
            "type": "choropleth"
           }
          ],
          "contour": [
           {
            "colorbar": {
             "outlinewidth": 0,
             "ticks": ""
            },
            "colorscale": [
             [
              0,
              "#0d0887"
             ],
             [
              0.1111111111111111,
              "#46039f"
             ],
             [
              0.2222222222222222,
              "#7201a8"
             ],
             [
              0.3333333333333333,
              "#9c179e"
             ],
             [
              0.4444444444444444,
              "#bd3786"
             ],
             [
              0.5555555555555556,
              "#d8576b"
             ],
             [
              0.6666666666666666,
              "#ed7953"
             ],
             [
              0.7777777777777778,
              "#fb9f3a"
             ],
             [
              0.8888888888888888,
              "#fdca26"
             ],
             [
              1,
              "#f0f921"
             ]
            ],
            "type": "contour"
           }
          ],
          "contourcarpet": [
           {
            "colorbar": {
             "outlinewidth": 0,
             "ticks": ""
            },
            "type": "contourcarpet"
           }
          ],
          "heatmap": [
           {
            "colorbar": {
             "outlinewidth": 0,
             "ticks": ""
            },
            "colorscale": [
             [
              0,
              "#0d0887"
             ],
             [
              0.1111111111111111,
              "#46039f"
             ],
             [
              0.2222222222222222,
              "#7201a8"
             ],
             [
              0.3333333333333333,
              "#9c179e"
             ],
             [
              0.4444444444444444,
              "#bd3786"
             ],
             [
              0.5555555555555556,
              "#d8576b"
             ],
             [
              0.6666666666666666,
              "#ed7953"
             ],
             [
              0.7777777777777778,
              "#fb9f3a"
             ],
             [
              0.8888888888888888,
              "#fdca26"
             ],
             [
              1,
              "#f0f921"
             ]
            ],
            "type": "heatmap"
           }
          ],
          "heatmapgl": [
           {
            "colorbar": {
             "outlinewidth": 0,
             "ticks": ""
            },
            "colorscale": [
             [
              0,
              "#0d0887"
             ],
             [
              0.1111111111111111,
              "#46039f"
             ],
             [
              0.2222222222222222,
              "#7201a8"
             ],
             [
              0.3333333333333333,
              "#9c179e"
             ],
             [
              0.4444444444444444,
              "#bd3786"
             ],
             [
              0.5555555555555556,
              "#d8576b"
             ],
             [
              0.6666666666666666,
              "#ed7953"
             ],
             [
              0.7777777777777778,
              "#fb9f3a"
             ],
             [
              0.8888888888888888,
              "#fdca26"
             ],
             [
              1,
              "#f0f921"
             ]
            ],
            "type": "heatmapgl"
           }
          ],
          "histogram": [
           {
            "marker": {
             "colorbar": {
              "outlinewidth": 0,
              "ticks": ""
             }
            },
            "type": "histogram"
           }
          ],
          "histogram2d": [
           {
            "colorbar": {
             "outlinewidth": 0,
             "ticks": ""
            },
            "colorscale": [
             [
              0,
              "#0d0887"
             ],
             [
              0.1111111111111111,
              "#46039f"
             ],
             [
              0.2222222222222222,
              "#7201a8"
             ],
             [
              0.3333333333333333,
              "#9c179e"
             ],
             [
              0.4444444444444444,
              "#bd3786"
             ],
             [
              0.5555555555555556,
              "#d8576b"
             ],
             [
              0.6666666666666666,
              "#ed7953"
             ],
             [
              0.7777777777777778,
              "#fb9f3a"
             ],
             [
              0.8888888888888888,
              "#fdca26"
             ],
             [
              1,
              "#f0f921"
             ]
            ],
            "type": "histogram2d"
           }
          ],
          "histogram2dcontour": [
           {
            "colorbar": {
             "outlinewidth": 0,
             "ticks": ""
            },
            "colorscale": [
             [
              0,
              "#0d0887"
             ],
             [
              0.1111111111111111,
              "#46039f"
             ],
             [
              0.2222222222222222,
              "#7201a8"
             ],
             [
              0.3333333333333333,
              "#9c179e"
             ],
             [
              0.4444444444444444,
              "#bd3786"
             ],
             [
              0.5555555555555556,
              "#d8576b"
             ],
             [
              0.6666666666666666,
              "#ed7953"
             ],
             [
              0.7777777777777778,
              "#fb9f3a"
             ],
             [
              0.8888888888888888,
              "#fdca26"
             ],
             [
              1,
              "#f0f921"
             ]
            ],
            "type": "histogram2dcontour"
           }
          ],
          "mesh3d": [
           {
            "colorbar": {
             "outlinewidth": 0,
             "ticks": ""
            },
            "type": "mesh3d"
           }
          ],
          "parcoords": [
           {
            "line": {
             "colorbar": {
              "outlinewidth": 0,
              "ticks": ""
             }
            },
            "type": "parcoords"
           }
          ],
          "pie": [
           {
            "automargin": true,
            "type": "pie"
           }
          ],
          "scatter": [
           {
            "marker": {
             "colorbar": {
              "outlinewidth": 0,
              "ticks": ""
             }
            },
            "type": "scatter"
           }
          ],
          "scatter3d": [
           {
            "line": {
             "colorbar": {
              "outlinewidth": 0,
              "ticks": ""
             }
            },
            "marker": {
             "colorbar": {
              "outlinewidth": 0,
              "ticks": ""
             }
            },
            "type": "scatter3d"
           }
          ],
          "scattercarpet": [
           {
            "marker": {
             "colorbar": {
              "outlinewidth": 0,
              "ticks": ""
             }
            },
            "type": "scattercarpet"
           }
          ],
          "scattergeo": [
           {
            "marker": {
             "colorbar": {
              "outlinewidth": 0,
              "ticks": ""
             }
            },
            "type": "scattergeo"
           }
          ],
          "scattergl": [
           {
            "marker": {
             "colorbar": {
              "outlinewidth": 0,
              "ticks": ""
             }
            },
            "type": "scattergl"
           }
          ],
          "scattermapbox": [
           {
            "marker": {
             "colorbar": {
              "outlinewidth": 0,
              "ticks": ""
             }
            },
            "type": "scattermapbox"
           }
          ],
          "scatterpolar": [
           {
            "marker": {
             "colorbar": {
              "outlinewidth": 0,
              "ticks": ""
             }
            },
            "type": "scatterpolar"
           }
          ],
          "scatterpolargl": [
           {
            "marker": {
             "colorbar": {
              "outlinewidth": 0,
              "ticks": ""
             }
            },
            "type": "scatterpolargl"
           }
          ],
          "scatterternary": [
           {
            "marker": {
             "colorbar": {
              "outlinewidth": 0,
              "ticks": ""
             }
            },
            "type": "scatterternary"
           }
          ],
          "surface": [
           {
            "colorbar": {
             "outlinewidth": 0,
             "ticks": ""
            },
            "colorscale": [
             [
              0,
              "#0d0887"
             ],
             [
              0.1111111111111111,
              "#46039f"
             ],
             [
              0.2222222222222222,
              "#7201a8"
             ],
             [
              0.3333333333333333,
              "#9c179e"
             ],
             [
              0.4444444444444444,
              "#bd3786"
             ],
             [
              0.5555555555555556,
              "#d8576b"
             ],
             [
              0.6666666666666666,
              "#ed7953"
             ],
             [
              0.7777777777777778,
              "#fb9f3a"
             ],
             [
              0.8888888888888888,
              "#fdca26"
             ],
             [
              1,
              "#f0f921"
             ]
            ],
            "type": "surface"
           }
          ],
          "table": [
           {
            "cells": {
             "fill": {
              "color": "#EBF0F8"
             },
             "line": {
              "color": "white"
             }
            },
            "header": {
             "fill": {
              "color": "#C8D4E3"
             },
             "line": {
              "color": "white"
             }
            },
            "type": "table"
           }
          ]
         },
         "layout": {
          "annotationdefaults": {
           "arrowcolor": "#2a3f5f",
           "arrowhead": 0,
           "arrowwidth": 1
          },
          "coloraxis": {
           "colorbar": {
            "outlinewidth": 0,
            "ticks": ""
           }
          },
          "colorscale": {
           "diverging": [
            [
             0,
             "#8e0152"
            ],
            [
             0.1,
             "#c51b7d"
            ],
            [
             0.2,
             "#de77ae"
            ],
            [
             0.3,
             "#f1b6da"
            ],
            [
             0.4,
             "#fde0ef"
            ],
            [
             0.5,
             "#f7f7f7"
            ],
            [
             0.6,
             "#e6f5d0"
            ],
            [
             0.7,
             "#b8e186"
            ],
            [
             0.8,
             "#7fbc41"
            ],
            [
             0.9,
             "#4d9221"
            ],
            [
             1,
             "#276419"
            ]
           ],
           "sequential": [
            [
             0,
             "#0d0887"
            ],
            [
             0.1111111111111111,
             "#46039f"
            ],
            [
             0.2222222222222222,
             "#7201a8"
            ],
            [
             0.3333333333333333,
             "#9c179e"
            ],
            [
             0.4444444444444444,
             "#bd3786"
            ],
            [
             0.5555555555555556,
             "#d8576b"
            ],
            [
             0.6666666666666666,
             "#ed7953"
            ],
            [
             0.7777777777777778,
             "#fb9f3a"
            ],
            [
             0.8888888888888888,
             "#fdca26"
            ],
            [
             1,
             "#f0f921"
            ]
           ],
           "sequentialminus": [
            [
             0,
             "#0d0887"
            ],
            [
             0.1111111111111111,
             "#46039f"
            ],
            [
             0.2222222222222222,
             "#7201a8"
            ],
            [
             0.3333333333333333,
             "#9c179e"
            ],
            [
             0.4444444444444444,
             "#bd3786"
            ],
            [
             0.5555555555555556,
             "#d8576b"
            ],
            [
             0.6666666666666666,
             "#ed7953"
            ],
            [
             0.7777777777777778,
             "#fb9f3a"
            ],
            [
             0.8888888888888888,
             "#fdca26"
            ],
            [
             1,
             "#f0f921"
            ]
           ]
          },
          "colorway": [
           "#636efa",
           "#EF553B",
           "#00cc96",
           "#ab63fa",
           "#FFA15A",
           "#19d3f3",
           "#FF6692",
           "#B6E880",
           "#FF97FF",
           "#FECB52"
          ],
          "font": {
           "color": "#2a3f5f"
          },
          "geo": {
           "bgcolor": "white",
           "lakecolor": "white",
           "landcolor": "#E5ECF6",
           "showlakes": true,
           "showland": true,
           "subunitcolor": "white"
          },
          "hoverlabel": {
           "align": "left"
          },
          "hovermode": "closest",
          "mapbox": {
           "style": "light"
          },
          "paper_bgcolor": "white",
          "plot_bgcolor": "#E5ECF6",
          "polar": {
           "angularaxis": {
            "gridcolor": "white",
            "linecolor": "white",
            "ticks": ""
           },
           "bgcolor": "#E5ECF6",
           "radialaxis": {
            "gridcolor": "white",
            "linecolor": "white",
            "ticks": ""
           }
          },
          "scene": {
           "xaxis": {
            "backgroundcolor": "#E5ECF6",
            "gridcolor": "white",
            "gridwidth": 2,
            "linecolor": "white",
            "showbackground": true,
            "ticks": "",
            "zerolinecolor": "white"
           },
           "yaxis": {
            "backgroundcolor": "#E5ECF6",
            "gridcolor": "white",
            "gridwidth": 2,
            "linecolor": "white",
            "showbackground": true,
            "ticks": "",
            "zerolinecolor": "white"
           },
           "zaxis": {
            "backgroundcolor": "#E5ECF6",
            "gridcolor": "white",
            "gridwidth": 2,
            "linecolor": "white",
            "showbackground": true,
            "ticks": "",
            "zerolinecolor": "white"
           }
          },
          "shapedefaults": {
           "line": {
            "color": "#2a3f5f"
           }
          },
          "ternary": {
           "aaxis": {
            "gridcolor": "white",
            "linecolor": "white",
            "ticks": ""
           },
           "baxis": {
            "gridcolor": "white",
            "linecolor": "white",
            "ticks": ""
           },
           "bgcolor": "#E5ECF6",
           "caxis": {
            "gridcolor": "white",
            "linecolor": "white",
            "ticks": ""
           }
          },
          "title": {
           "x": 0.05
          },
          "xaxis": {
           "automargin": true,
           "gridcolor": "white",
           "linecolor": "white",
           "ticks": "",
           "title": {
            "standoff": 15
           },
           "zerolinecolor": "white",
           "zerolinewidth": 2
          },
          "yaxis": {
           "automargin": true,
           "gridcolor": "white",
           "linecolor": "white",
           "ticks": "",
           "title": {
            "standoff": 15
           },
           "zerolinecolor": "white",
           "zerolinewidth": 2
          }
         }
        }
       }
      },
      "text/html": "<div>\n        \n        \n            <div id=\"491b500f-10c7-4b89-bb3c-4e555f61126c\" class=\"plotly-graph-div\" style=\"height:525px; width:100%;\"></div>\n            <script type=\"text/javascript\">\n                require([\"plotly\"], function(Plotly) {\n                    window.PLOTLYENV=window.PLOTLYENV || {};\n                    \n                if (document.getElementById(\"491b500f-10c7-4b89-bb3c-4e555f61126c\")) {\n                    Plotly.newPlot(\n                        '491b500f-10c7-4b89-bb3c-4e555f61126c',\n                        [{\"type\": \"scatter\", \"x\": [1900, 1901, 1902, 1903, 1904, 1905, 1906, 1907, 1908, 1909, 1910, 1911, 1912, 1913, 1914, 1915, 1916, 1917, 1918, 1919, 1920, 1921, 1922, 1923, 1924, 1925, 1926, 1927, 1928, 1929, 1930, 1931, 1932, 1933, 1934, 1935, 1936, 1937, 1938, 1939, 1940, 1941, 1942, 1943, 1944, 1945, 1946, 1947, 1948, 1949, 1950, 1951, 1952, 1953, 1954, 1955, 1956, 1957, 1958, 1959, 1960, 1961, 1962, 1963, 1964, 1965, 1966, 1967, 1968, 1969, 1970, 1971, 1972, 1973, 1974, 1975, 1976, 1977, 1978, 1979, 1980, 1981, 1982, 1983, 1984, 1985, 1986, 1987, 1988, 1989, 1990, 1991, 1992, 1993, 1994, 1995, 1996, 1997, 1998, 1999, 2000, 2001, 2002, 2003, 2004, 2005, 2006, 2007, 2008, 2009, 2010, 2011, 2012, 2013, 2014, 2015, 2016, 2017, 2018, 2019, 2020], \"y\": [1490000.0, 1550000.0, 1623000.0, 1702000.0, 1792000.0, 1893000.0, 1976000.0, 2054000.0, 2161000.0, 2282000.0, 2406000.0, 2534000.0, 2668000.0, 2811000.0, 2934000.0, 3008000.0, 3071000.0, 3171000.0, 3262000.0, 3339000.0, 3554000.0, 3795000.0, 3991000.0, 4270000.0, 4541000.0, 4730000.0, 4929000.0, 5147000.0, 5344000.0, 5531000.0, 5711000.0, 5824000.0, 5894000.0, 5963000.0, 6060000.0, 6175000.0, 6341000.0, 6528000.0, 6656000.0, 6785000.0, 6950000.0, 7237000.0, 7735000.0, 8506000.0, 8945000.0, 9344000.0, 9559000.0, 9832000.0, 10064000.0, 10337000.0, 10677000.0, 11134000.0, 11635000.0, 12251000.0, 12746000.0, 13133000.0, 13713000.0, 14264000.0, 14880000.0, 15467000.0, 15870000.0, 16497000.0, 17072000.0, 17668000.0, 18151000.0, 18585000.0, 18858000.0, 19176000.0, 19394000.0, 19711000.0, 19971069.0, 20345939.0, 20585468.999999996, 20868728.0, 21173865.0, 21537849.0, 21935909.0, 22352396.0, 22835958.0, 23256880.0, 23800800.0, 24285932.999999996, 24820009.0, 25360026.0, 25844392.999999996, 26441109.0, 27102237.0, 27777158.0, 28464249.0, 29218164.0, 29950111.0, 30414113.999999996, 30875920.0, 31147208.0, 31317179.0, 31493525.0, 31780828.999999996, 32217708.0, 32682793.999999996, 33145121.0, 33987977.0, 34479458.0, 34871843.0, 35253159.0, 35574576.0, 35827943.0, 36021202.00000001, 36250311.0, 36604337.0, 36961229.0, 37319550.0, 37636311.0, 37944551.0, 38253768.0, 38586706.0, 38904296.0, 39149186.0, 39337785.0, 39437462.99999999, 39437610.0, 39368078.0]}],\n                        {\"template\": {\"data\": {\"bar\": [{\"error_x\": {\"color\": \"#2a3f5f\"}, \"error_y\": {\"color\": \"#2a3f5f\"}, \"marker\": {\"line\": {\"color\": \"#E5ECF6\", \"width\": 0.5}}, \"type\": \"bar\"}], \"barpolar\": [{\"marker\": {\"line\": {\"color\": \"#E5ECF6\", \"width\": 0.5}}, \"type\": \"barpolar\"}], \"carpet\": [{\"aaxis\": {\"endlinecolor\": \"#2a3f5f\", \"gridcolor\": \"white\", \"linecolor\": \"white\", \"minorgridcolor\": \"white\", \"startlinecolor\": \"#2a3f5f\"}, \"baxis\": {\"endlinecolor\": \"#2a3f5f\", \"gridcolor\": \"white\", \"linecolor\": \"white\", \"minorgridcolor\": \"white\", \"startlinecolor\": \"#2a3f5f\"}, \"type\": \"carpet\"}], \"choropleth\": [{\"colorbar\": {\"outlinewidth\": 0, \"ticks\": \"\"}, \"type\": \"choropleth\"}], \"contour\": [{\"colorbar\": {\"outlinewidth\": 0, \"ticks\": \"\"}, \"colorscale\": [[0.0, \"#0d0887\"], [0.1111111111111111, \"#46039f\"], [0.2222222222222222, \"#7201a8\"], [0.3333333333333333, \"#9c179e\"], [0.4444444444444444, \"#bd3786\"], [0.5555555555555556, \"#d8576b\"], [0.6666666666666666, \"#ed7953\"], [0.7777777777777778, \"#fb9f3a\"], [0.8888888888888888, \"#fdca26\"], [1.0, \"#f0f921\"]], \"type\": \"contour\"}], \"contourcarpet\": [{\"colorbar\": {\"outlinewidth\": 0, \"ticks\": \"\"}, \"type\": \"contourcarpet\"}], \"heatmap\": [{\"colorbar\": {\"outlinewidth\": 0, \"ticks\": \"\"}, \"colorscale\": [[0.0, \"#0d0887\"], [0.1111111111111111, \"#46039f\"], [0.2222222222222222, \"#7201a8\"], [0.3333333333333333, \"#9c179e\"], [0.4444444444444444, \"#bd3786\"], [0.5555555555555556, \"#d8576b\"], [0.6666666666666666, \"#ed7953\"], [0.7777777777777778, \"#fb9f3a\"], [0.8888888888888888, \"#fdca26\"], [1.0, \"#f0f921\"]], \"type\": \"heatmap\"}], \"heatmapgl\": [{\"colorbar\": {\"outlinewidth\": 0, \"ticks\": \"\"}, \"colorscale\": [[0.0, \"#0d0887\"], [0.1111111111111111, \"#46039f\"], [0.2222222222222222, \"#7201a8\"], [0.3333333333333333, \"#9c179e\"], [0.4444444444444444, \"#bd3786\"], [0.5555555555555556, \"#d8576b\"], [0.6666666666666666, \"#ed7953\"], [0.7777777777777778, \"#fb9f3a\"], [0.8888888888888888, \"#fdca26\"], [1.0, \"#f0f921\"]], \"type\": \"heatmapgl\"}], \"histogram\": [{\"marker\": {\"colorbar\": {\"outlinewidth\": 0, \"ticks\": \"\"}}, \"type\": \"histogram\"}], \"histogram2d\": [{\"colorbar\": {\"outlinewidth\": 0, \"ticks\": \"\"}, \"colorscale\": [[0.0, \"#0d0887\"], [0.1111111111111111, \"#46039f\"], [0.2222222222222222, \"#7201a8\"], [0.3333333333333333, \"#9c179e\"], [0.4444444444444444, \"#bd3786\"], [0.5555555555555556, \"#d8576b\"], [0.6666666666666666, \"#ed7953\"], [0.7777777777777778, \"#fb9f3a\"], [0.8888888888888888, \"#fdca26\"], [1.0, \"#f0f921\"]], \"type\": \"histogram2d\"}], \"histogram2dcontour\": [{\"colorbar\": {\"outlinewidth\": 0, \"ticks\": \"\"}, \"colorscale\": [[0.0, \"#0d0887\"], [0.1111111111111111, \"#46039f\"], [0.2222222222222222, \"#7201a8\"], [0.3333333333333333, \"#9c179e\"], [0.4444444444444444, \"#bd3786\"], [0.5555555555555556, \"#d8576b\"], [0.6666666666666666, \"#ed7953\"], [0.7777777777777778, \"#fb9f3a\"], [0.8888888888888888, \"#fdca26\"], [1.0, \"#f0f921\"]], \"type\": \"histogram2dcontour\"}], \"mesh3d\": [{\"colorbar\": {\"outlinewidth\": 0, \"ticks\": \"\"}, \"type\": \"mesh3d\"}], \"parcoords\": [{\"line\": {\"colorbar\": {\"outlinewidth\": 0, \"ticks\": \"\"}}, \"type\": \"parcoords\"}], \"pie\": [{\"automargin\": true, \"type\": \"pie\"}], \"scatter\": [{\"marker\": {\"colorbar\": {\"outlinewidth\": 0, \"ticks\": \"\"}}, \"type\": \"scatter\"}], \"scatter3d\": [{\"line\": {\"colorbar\": {\"outlinewidth\": 0, \"ticks\": \"\"}}, \"marker\": {\"colorbar\": {\"outlinewidth\": 0, \"ticks\": \"\"}}, \"type\": \"scatter3d\"}], \"scattercarpet\": [{\"marker\": {\"colorbar\": {\"outlinewidth\": 0, \"ticks\": \"\"}}, \"type\": \"scattercarpet\"}], \"scattergeo\": [{\"marker\": {\"colorbar\": {\"outlinewidth\": 0, \"ticks\": \"\"}}, \"type\": \"scattergeo\"}], \"scattergl\": [{\"marker\": {\"colorbar\": {\"outlinewidth\": 0, \"ticks\": \"\"}}, \"type\": \"scattergl\"}], \"scattermapbox\": [{\"marker\": {\"colorbar\": {\"outlinewidth\": 0, \"ticks\": \"\"}}, \"type\": \"scattermapbox\"}], \"scatterpolar\": [{\"marker\": {\"colorbar\": {\"outlinewidth\": 0, \"ticks\": \"\"}}, \"type\": \"scatterpolar\"}], \"scatterpolargl\": [{\"marker\": {\"colorbar\": {\"outlinewidth\": 0, \"ticks\": \"\"}}, \"type\": \"scatterpolargl\"}], \"scatterternary\": [{\"marker\": {\"colorbar\": {\"outlinewidth\": 0, \"ticks\": \"\"}}, \"type\": \"scatterternary\"}], \"surface\": [{\"colorbar\": {\"outlinewidth\": 0, \"ticks\": \"\"}, \"colorscale\": [[0.0, \"#0d0887\"], [0.1111111111111111, \"#46039f\"], [0.2222222222222222, \"#7201a8\"], [0.3333333333333333, \"#9c179e\"], [0.4444444444444444, \"#bd3786\"], [0.5555555555555556, \"#d8576b\"], [0.6666666666666666, \"#ed7953\"], [0.7777777777777778, \"#fb9f3a\"], [0.8888888888888888, \"#fdca26\"], [1.0, \"#f0f921\"]], \"type\": \"surface\"}], \"table\": [{\"cells\": {\"fill\": {\"color\": \"#EBF0F8\"}, \"line\": {\"color\": \"white\"}}, \"header\": {\"fill\": {\"color\": \"#C8D4E3\"}, \"line\": {\"color\": \"white\"}}, \"type\": \"table\"}]}, \"layout\": {\"annotationdefaults\": {\"arrowcolor\": \"#2a3f5f\", \"arrowhead\": 0, \"arrowwidth\": 1}, \"coloraxis\": {\"colorbar\": {\"outlinewidth\": 0, \"ticks\": \"\"}}, \"colorscale\": {\"diverging\": [[0, \"#8e0152\"], [0.1, \"#c51b7d\"], [0.2, \"#de77ae\"], [0.3, \"#f1b6da\"], [0.4, \"#fde0ef\"], [0.5, \"#f7f7f7\"], [0.6, \"#e6f5d0\"], [0.7, \"#b8e186\"], [0.8, \"#7fbc41\"], [0.9, \"#4d9221\"], [1, \"#276419\"]], \"sequential\": [[0.0, \"#0d0887\"], [0.1111111111111111, \"#46039f\"], [0.2222222222222222, \"#7201a8\"], [0.3333333333333333, \"#9c179e\"], [0.4444444444444444, \"#bd3786\"], [0.5555555555555556, \"#d8576b\"], [0.6666666666666666, \"#ed7953\"], [0.7777777777777778, \"#fb9f3a\"], [0.8888888888888888, \"#fdca26\"], [1.0, \"#f0f921\"]], \"sequentialminus\": [[0.0, \"#0d0887\"], [0.1111111111111111, \"#46039f\"], [0.2222222222222222, \"#7201a8\"], [0.3333333333333333, \"#9c179e\"], [0.4444444444444444, \"#bd3786\"], [0.5555555555555556, \"#d8576b\"], [0.6666666666666666, \"#ed7953\"], [0.7777777777777778, \"#fb9f3a\"], [0.8888888888888888, \"#fdca26\"], [1.0, \"#f0f921\"]]}, \"colorway\": [\"#636efa\", \"#EF553B\", \"#00cc96\", \"#ab63fa\", \"#FFA15A\", \"#19d3f3\", \"#FF6692\", \"#B6E880\", \"#FF97FF\", \"#FECB52\"], \"font\": {\"color\": \"#2a3f5f\"}, \"geo\": {\"bgcolor\": \"white\", \"lakecolor\": \"white\", \"landcolor\": \"#E5ECF6\", \"showlakes\": true, \"showland\": true, \"subunitcolor\": \"white\"}, \"hoverlabel\": {\"align\": \"left\"}, \"hovermode\": \"closest\", \"mapbox\": {\"style\": \"light\"}, \"paper_bgcolor\": \"white\", \"plot_bgcolor\": \"#E5ECF6\", \"polar\": {\"angularaxis\": {\"gridcolor\": \"white\", \"linecolor\": \"white\", \"ticks\": \"\"}, \"bgcolor\": \"#E5ECF6\", \"radialaxis\": {\"gridcolor\": \"white\", \"linecolor\": \"white\", \"ticks\": \"\"}}, \"scene\": {\"xaxis\": {\"backgroundcolor\": \"#E5ECF6\", \"gridcolor\": \"white\", \"gridwidth\": 2, \"linecolor\": \"white\", \"showbackground\": true, \"ticks\": \"\", \"zerolinecolor\": \"white\"}, \"yaxis\": {\"backgroundcolor\": \"#E5ECF6\", \"gridcolor\": \"white\", \"gridwidth\": 2, \"linecolor\": \"white\", \"showbackground\": true, \"ticks\": \"\", \"zerolinecolor\": \"white\"}, \"zaxis\": {\"backgroundcolor\": \"#E5ECF6\", \"gridcolor\": \"white\", \"gridwidth\": 2, \"linecolor\": \"white\", \"showbackground\": true, \"ticks\": \"\", \"zerolinecolor\": \"white\"}}, \"shapedefaults\": {\"line\": {\"color\": \"#2a3f5f\"}}, \"ternary\": {\"aaxis\": {\"gridcolor\": \"white\", \"linecolor\": \"white\", \"ticks\": \"\"}, \"baxis\": {\"gridcolor\": \"white\", \"linecolor\": \"white\", \"ticks\": \"\"}, \"bgcolor\": \"#E5ECF6\", \"caxis\": {\"gridcolor\": \"white\", \"linecolor\": \"white\", \"ticks\": \"\"}}, \"title\": {\"x\": 0.05}, \"xaxis\": {\"automargin\": true, \"gridcolor\": \"white\", \"linecolor\": \"white\", \"ticks\": \"\", \"title\": {\"standoff\": 15}, \"zerolinecolor\": \"white\", \"zerolinewidth\": 2}, \"yaxis\": {\"automargin\": true, \"gridcolor\": \"white\", \"linecolor\": \"white\", \"ticks\": \"\", \"title\": {\"standoff\": 15}, \"zerolinecolor\": \"white\", \"zerolinewidth\": 2}}}},\n                        {\"responsive\": true}\n                    ).then(function(){\n                            \nvar gd = document.getElementById('491b500f-10c7-4b89-bb3c-4e555f61126c');\nvar x = new MutationObserver(function (mutations, observer) {{\n        var display = window.getComputedStyle(gd).display;\n        if (!display || display === 'none') {{\n            console.log([gd, 'removed!']);\n            Plotly.purge(gd);\n            observer.disconnect();\n        }}\n}});\n\n// Listen for the removal of the full notebook cells\nvar notebookContainer = gd.closest('#notebook-container');\nif (notebookContainer) {{\n    x.observe(notebookContainer, {childList: true});\n}}\n\n// Listen for the clearing of the current output cell\nvar outputEl = gd.closest('.output');\nif (outputEl) {{\n    x.observe(outputEl, {childList: true});\n}}\n\n                        })\n                };\n                });\n            </script>\n        </div>"
     },
     "metadata": {}
    }
   ],
   "source": [
    "fig = go.Figure()\n",
    "fig.add_trace(go.Scatter(\n",
    "    x = state_pop['DATE'],\n",
    "    y = state_pop['CALIFORNIA'] *1000\n",
    "))"
   ]
  },
  {
   "cell_type": "code",
   "execution_count": 91,
   "metadata": {},
   "outputs": [
    {
     "output_type": "execute_result",
     "data": {
      "text/plain": [
       "                State      1992      1993      1994      1995      1996  \\\n",
       "1             Alabama  1328.224  1381.320  1386.588  1255.353  1187.131   \n",
       "2              Alaska   663.753   690.286   702.651   645.963   621.262   \n",
       "3             Arizona  1334.245  1387.581  1482.938  1433.423  1451.814   \n",
       "4            Arkansas   818.852   851.586   932.240   922.080   954.727   \n",
       "5          California  6242.776  6492.330  6675.239  6202.962  6034.941   \n",
       "\n",
       "       1997      1998      1999      2000  ...      2008      2009      2010  \\\n",
       "1  1259.965  1375.223  1496.583  1589.559  ...  1328.456  1326.456  1302.806   \n",
       "2   643.259   685.790   729.804   758.803  ...   957.262  1019.194   906.204   \n",
       "3  1485.783  1565.931  1647.698  1694.202  ...  1894.816  1994.613  1811.447   \n",
       "4  1002.030  1082.284  1166.251  1227.278  ...   703.331   646.685   695.219   \n",
       "5  6411.536  7004.449  7629.059  8109.436  ...  6948.694  6967.680  7253.290   \n",
       "\n",
       "       2011      2012      2013      2014      2015      2016      2017  \n",
       "1  1250.968  1195.081  1136.053  1106.495  1119.064  1102.454  1072.971  \n",
       "2   778.668   656.070   539.793   610.094   709.777   798.959   777.593  \n",
       "3  1596.965  1388.926  1189.758  1175.529  1207.277  1209.132  1176.797  \n",
       "4   725.506   748.719   764.869   784.183   836.215   870.164   846.894  \n",
       "5  7360.099  7410.836  7407.330  6781.600  6382.483  5775.840  5621.377  \n",
       "\n",
       "[5 rows x 27 columns]"
      ],
      "text/html": "<div>\n<style scoped>\n    .dataframe tbody tr th:only-of-type {\n        vertical-align: middle;\n    }\n\n    .dataframe tbody tr th {\n        vertical-align: top;\n    }\n\n    .dataframe thead th {\n        text-align: right;\n    }\n</style>\n<table border=\"1\" class=\"dataframe\">\n  <thead>\n    <tr style=\"text-align: right;\">\n      <th></th>\n      <th>State</th>\n      <th>1992</th>\n      <th>1993</th>\n      <th>1994</th>\n      <th>1995</th>\n      <th>1996</th>\n      <th>1997</th>\n      <th>1998</th>\n      <th>1999</th>\n      <th>2000</th>\n      <th>...</th>\n      <th>2008</th>\n      <th>2009</th>\n      <th>2010</th>\n      <th>2011</th>\n      <th>2012</th>\n      <th>2013</th>\n      <th>2014</th>\n      <th>2015</th>\n      <th>2016</th>\n      <th>2017</th>\n    </tr>\n  </thead>\n  <tbody>\n    <tr>\n      <th>1</th>\n      <td>Alabama</td>\n      <td>1328.224</td>\n      <td>1381.320</td>\n      <td>1386.588</td>\n      <td>1255.353</td>\n      <td>1187.131</td>\n      <td>1259.965</td>\n      <td>1375.223</td>\n      <td>1496.583</td>\n      <td>1589.559</td>\n      <td>...</td>\n      <td>1328.456</td>\n      <td>1326.456</td>\n      <td>1302.806</td>\n      <td>1250.968</td>\n      <td>1195.081</td>\n      <td>1136.053</td>\n      <td>1106.495</td>\n      <td>1119.064</td>\n      <td>1102.454</td>\n      <td>1072.971</td>\n    </tr>\n    <tr>\n      <th>2</th>\n      <td>Alaska</td>\n      <td>663.753</td>\n      <td>690.286</td>\n      <td>702.651</td>\n      <td>645.963</td>\n      <td>621.262</td>\n      <td>643.259</td>\n      <td>685.790</td>\n      <td>729.804</td>\n      <td>758.803</td>\n      <td>...</td>\n      <td>957.262</td>\n      <td>1019.194</td>\n      <td>906.204</td>\n      <td>778.668</td>\n      <td>656.070</td>\n      <td>539.793</td>\n      <td>610.094</td>\n      <td>709.777</td>\n      <td>798.959</td>\n      <td>777.593</td>\n    </tr>\n    <tr>\n      <th>3</th>\n      <td>Arizona</td>\n      <td>1334.245</td>\n      <td>1387.581</td>\n      <td>1482.938</td>\n      <td>1433.423</td>\n      <td>1451.814</td>\n      <td>1485.783</td>\n      <td>1565.931</td>\n      <td>1647.698</td>\n      <td>1694.202</td>\n      <td>...</td>\n      <td>1894.816</td>\n      <td>1994.613</td>\n      <td>1811.447</td>\n      <td>1596.965</td>\n      <td>1388.926</td>\n      <td>1189.758</td>\n      <td>1175.529</td>\n      <td>1207.277</td>\n      <td>1209.132</td>\n      <td>1176.797</td>\n    </tr>\n    <tr>\n      <th>4</th>\n      <td>Arkansas</td>\n      <td>818.852</td>\n      <td>851.586</td>\n      <td>932.240</td>\n      <td>922.080</td>\n      <td>954.727</td>\n      <td>1002.030</td>\n      <td>1082.284</td>\n      <td>1166.251</td>\n      <td>1227.278</td>\n      <td>...</td>\n      <td>703.331</td>\n      <td>646.685</td>\n      <td>695.219</td>\n      <td>725.506</td>\n      <td>748.719</td>\n      <td>764.869</td>\n      <td>784.183</td>\n      <td>836.215</td>\n      <td>870.164</td>\n      <td>846.894</td>\n    </tr>\n    <tr>\n      <th>5</th>\n      <td>California</td>\n      <td>6242.776</td>\n      <td>6492.330</td>\n      <td>6675.239</td>\n      <td>6202.962</td>\n      <td>6034.941</td>\n      <td>6411.536</td>\n      <td>7004.449</td>\n      <td>7629.059</td>\n      <td>8109.436</td>\n      <td>...</td>\n      <td>6948.694</td>\n      <td>6967.680</td>\n      <td>7253.290</td>\n      <td>7360.099</td>\n      <td>7410.836</td>\n      <td>7407.330</td>\n      <td>6781.600</td>\n      <td>6382.483</td>\n      <td>5775.840</td>\n      <td>5621.377</td>\n    </tr>\n  </tbody>\n</table>\n<p>5 rows × 27 columns</p>\n</div>"
     },
     "metadata": {},
     "execution_count": 91
    }
   ],
   "source": [
    "state_infra.head()"
   ]
  },
  {
   "cell_type": "code",
   "execution_count": 133,
   "metadata": {
    "tags": [
     "outputPrepend"
    ]
   },
   "outputs": [
    {
     "output_type": "stream",
     "name": "stderr",
     "text": [
      "b\\site-packages\\ipykernel_launcher.py:7: SettingWithCopyWarning:\n",
      "\n",
      "\n",
      "A value is trying to be set on a copy of a slice from a DataFrame.\n",
      "Try using .loc[row_indexer,col_indexer] = value instead\n",
      "\n",
      "See the caveats in the documentation: https://pandas.pydata.org/pandas-docs/stable/user_guide/indexing.html#returning-a-view-versus-a-copy\n",
      "\n",
      "C:\\Users\\zeusg\\Anaconda3\\lib\\site-packages\\ipykernel_launcher.py:7: SettingWithCopyWarning:\n",
      "\n",
      "\n",
      "A value is trying to be set on a copy of a slice from a DataFrame.\n",
      "Try using .loc[row_indexer,col_indexer] = value instead\n",
      "\n",
      "See the caveats in the documentation: https://pandas.pydata.org/pandas-docs/stable/user_guide/indexing.html#returning-a-view-versus-a-copy\n",
      "\n",
      "C:\\Users\\zeusg\\Anaconda3\\lib\\site-packages\\ipykernel_launcher.py:7: SettingWithCopyWarning:\n",
      "\n",
      "\n",
      "A value is trying to be set on a copy of a slice from a DataFrame.\n",
      "Try using .loc[row_indexer,col_indexer] = value instead\n",
      "\n",
      "See the caveats in the documentation: https://pandas.pydata.org/pandas-docs/stable/user_guide/indexing.html#returning-a-view-versus-a-copy\n",
      "\n",
      "C:\\Users\\zeusg\\Anaconda3\\lib\\site-packages\\ipykernel_launcher.py:7: SettingWithCopyWarning:\n",
      "\n",
      "\n",
      "A value is trying to be set on a copy of a slice from a DataFrame.\n",
      "Try using .loc[row_indexer,col_indexer] = value instead\n",
      "\n",
      "See the caveats in the documentation: https://pandas.pydata.org/pandas-docs/stable/user_guide/indexing.html#returning-a-view-versus-a-copy\n",
      "\n",
      "C:\\Users\\zeusg\\Anaconda3\\lib\\site-packages\\ipykernel_launcher.py:7: SettingWithCopyWarning:\n",
      "\n",
      "\n",
      "A value is trying to be set on a copy of a slice from a DataFrame.\n",
      "Try using .loc[row_indexer,col_indexer] = value instead\n",
      "\n",
      "See the caveats in the documentation: https://pandas.pydata.org/pandas-docs/stable/user_guide/indexing.html#returning-a-view-versus-a-copy\n",
      "\n",
      "C:\\Users\\zeusg\\Anaconda3\\lib\\site-packages\\ipykernel_launcher.py:7: SettingWithCopyWarning:\n",
      "\n",
      "\n",
      "A value is trying to be set on a copy of a slice from a DataFrame.\n",
      "Try using .loc[row_indexer,col_indexer] = value instead\n",
      "\n",
      "See the caveats in the documentation: https://pandas.pydata.org/pandas-docs/stable/user_guide/indexing.html#returning-a-view-versus-a-copy\n",
      "\n",
      "C:\\Users\\zeusg\\Anaconda3\\lib\\site-packages\\ipykernel_launcher.py:7: SettingWithCopyWarning:\n",
      "\n",
      "\n",
      "A value is trying to be set on a copy of a slice from a DataFrame.\n",
      "Try using .loc[row_indexer,col_indexer] = value instead\n",
      "\n",
      "See the caveats in the documentation: https://pandas.pydata.org/pandas-docs/stable/user_guide/indexing.html#returning-a-view-versus-a-copy\n",
      "\n",
      "C:\\Users\\zeusg\\Anaconda3\\lib\\site-packages\\ipykernel_launcher.py:7: SettingWithCopyWarning:\n",
      "\n",
      "\n",
      "A value is trying to be set on a copy of a slice from a DataFrame.\n",
      "Try using .loc[row_indexer,col_indexer] = value instead\n",
      "\n",
      "See the caveats in the documentation: https://pandas.pydata.org/pandas-docs/stable/user_guide/indexing.html#returning-a-view-versus-a-copy\n",
      "\n",
      "C:\\Users\\zeusg\\Anaconda3\\lib\\site-packages\\ipykernel_launcher.py:7: SettingWithCopyWarning:\n",
      "\n",
      "\n",
      "A value is trying to be set on a copy of a slice from a DataFrame.\n",
      "Try using .loc[row_indexer,col_indexer] = value instead\n",
      "\n",
      "See the caveats in the documentation: https://pandas.pydata.org/pandas-docs/stable/user_guide/indexing.html#returning-a-view-versus-a-copy\n",
      "\n",
      "C:\\Users\\zeusg\\Anaconda3\\lib\\site-packages\\ipykernel_launcher.py:7: SettingWithCopyWarning:\n",
      "\n",
      "\n",
      "A value is trying to be set on a copy of a slice from a DataFrame.\n",
      "Try using .loc[row_indexer,col_indexer] = value instead\n",
      "\n",
      "See the caveats in the documentation: https://pandas.pydata.org/pandas-docs/stable/user_guide/indexing.html#returning-a-view-versus-a-copy\n",
      "\n",
      "C:\\Users\\zeusg\\Anaconda3\\lib\\site-packages\\ipykernel_launcher.py:7: SettingWithCopyWarning:\n",
      "\n",
      "\n",
      "A value is trying to be set on a copy of a slice from a DataFrame.\n",
      "Try using .loc[row_indexer,col_indexer] = value instead\n",
      "\n",
      "See the caveats in the documentation: https://pandas.pydata.org/pandas-docs/stable/user_guide/indexing.html#returning-a-view-versus-a-copy\n",
      "\n",
      "C:\\Users\\zeusg\\Anaconda3\\lib\\site-packages\\ipykernel_launcher.py:7: SettingWithCopyWarning:\n",
      "\n",
      "\n",
      "A value is trying to be set on a copy of a slice from a DataFrame.\n",
      "Try using .loc[row_indexer,col_indexer] = value instead\n",
      "\n",
      "See the caveats in the documentation: https://pandas.pydata.org/pandas-docs/stable/user_guide/indexing.html#returning-a-view-versus-a-copy\n",
      "\n",
      "C:\\Users\\zeusg\\Anaconda3\\lib\\site-packages\\ipykernel_launcher.py:7: SettingWithCopyWarning:\n",
      "\n",
      "\n",
      "A value is trying to be set on a copy of a slice from a DataFrame.\n",
      "Try using .loc[row_indexer,col_indexer] = value instead\n",
      "\n",
      "See the caveats in the documentation: https://pandas.pydata.org/pandas-docs/stable/user_guide/indexing.html#returning-a-view-versus-a-copy\n",
      "\n",
      "C:\\Users\\zeusg\\Anaconda3\\lib\\site-packages\\ipykernel_launcher.py:7: SettingWithCopyWarning:\n",
      "\n",
      "\n",
      "A value is trying to be set on a copy of a slice from a DataFrame.\n",
      "Try using .loc[row_indexer,col_indexer] = value instead\n",
      "\n",
      "See the caveats in the documentation: https://pandas.pydata.org/pandas-docs/stable/user_guide/indexing.html#returning-a-view-versus-a-copy\n",
      "\n",
      "C:\\Users\\zeusg\\Anaconda3\\lib\\site-packages\\ipykernel_launcher.py:7: SettingWithCopyWarning:\n",
      "\n",
      "\n",
      "A value is trying to be set on a copy of a slice from a DataFrame.\n",
      "Try using .loc[row_indexer,col_indexer] = value instead\n",
      "\n",
      "See the caveats in the documentation: https://pandas.pydata.org/pandas-docs/stable/user_guide/indexing.html#returning-a-view-versus-a-copy\n",
      "\n",
      "C:\\Users\\zeusg\\Anaconda3\\lib\\site-packages\\ipykernel_launcher.py:7: SettingWithCopyWarning:\n",
      "\n",
      "\n",
      "A value is trying to be set on a copy of a slice from a DataFrame.\n",
      "Try using .loc[row_indexer,col_indexer] = value instead\n",
      "\n",
      "See the caveats in the documentation: https://pandas.pydata.org/pandas-docs/stable/user_guide/indexing.html#returning-a-view-versus-a-copy\n",
      "\n",
      "C:\\Users\\zeusg\\Anaconda3\\lib\\site-packages\\ipykernel_launcher.py:7: SettingWithCopyWarning:\n",
      "\n",
      "\n",
      "A value is trying to be set on a copy of a slice from a DataFrame.\n",
      "Try using .loc[row_indexer,col_indexer] = value instead\n",
      "\n",
      "See the caveats in the documentation: https://pandas.pydata.org/pandas-docs/stable/user_guide/indexing.html#returning-a-view-versus-a-copy\n",
      "\n",
      "C:\\Users\\zeusg\\Anaconda3\\lib\\site-packages\\ipykernel_launcher.py:7: SettingWithCopyWarning:\n",
      "\n",
      "\n",
      "A value is trying to be set on a copy of a slice from a DataFrame.\n",
      "Try using .loc[row_indexer,col_indexer] = value instead\n",
      "\n",
      "See the caveats in the documentation: https://pandas.pydata.org/pandas-docs/stable/user_guide/indexing.html#returning-a-view-versus-a-copy\n",
      "\n",
      "C:\\Users\\zeusg\\Anaconda3\\lib\\site-packages\\ipykernel_launcher.py:7: SettingWithCopyWarning:\n",
      "\n",
      "\n",
      "A value is trying to be set on a copy of a slice from a DataFrame.\n",
      "Try using .loc[row_indexer,col_indexer] = value instead\n",
      "\n",
      "See the caveats in the documentation: https://pandas.pydata.org/pandas-docs/stable/user_guide/indexing.html#returning-a-view-versus-a-copy\n",
      "\n",
      "C:\\Users\\zeusg\\Anaconda3\\lib\\site-packages\\ipykernel_launcher.py:7: SettingWithCopyWarning:\n",
      "\n",
      "\n",
      "A value is trying to be set on a copy of a slice from a DataFrame.\n",
      "Try using .loc[row_indexer,col_indexer] = value instead\n",
      "\n",
      "See the caveats in the documentation: https://pandas.pydata.org/pandas-docs/stable/user_guide/indexing.html#returning-a-view-versus-a-copy\n",
      "\n",
      "C:\\Users\\zeusg\\Anaconda3\\lib\\site-packages\\ipykernel_launcher.py:7: SettingWithCopyWarning:\n",
      "\n",
      "\n",
      "A value is trying to be set on a copy of a slice from a DataFrame.\n",
      "Try using .loc[row_indexer,col_indexer] = value instead\n",
      "\n",
      "See the caveats in the documentation: https://pandas.pydata.org/pandas-docs/stable/user_guide/indexing.html#returning-a-view-versus-a-copy\n",
      "\n",
      "C:\\Users\\zeusg\\Anaconda3\\lib\\site-packages\\ipykernel_launcher.py:7: SettingWithCopyWarning:\n",
      "\n",
      "\n",
      "A value is trying to be set on a copy of a slice from a DataFrame.\n",
      "Try using .loc[row_indexer,col_indexer] = value instead\n",
      "\n",
      "See the caveats in the documentation: https://pandas.pydata.org/pandas-docs/stable/user_guide/indexing.html#returning-a-view-versus-a-copy\n",
      "\n",
      "C:\\Users\\zeusg\\Anaconda3\\lib\\site-packages\\ipykernel_launcher.py:7: SettingWithCopyWarning:\n",
      "\n",
      "\n",
      "A value is trying to be set on a copy of a slice from a DataFrame.\n",
      "Try using .loc[row_indexer,col_indexer] = value instead\n",
      "\n",
      "See the caveats in the documentation: https://pandas.pydata.org/pandas-docs/stable/user_guide/indexing.html#returning-a-view-versus-a-copy\n",
      "\n",
      "C:\\Users\\zeusg\\Anaconda3\\lib\\site-packages\\ipykernel_launcher.py:7: SettingWithCopyWarning:\n",
      "\n",
      "\n",
      "A value is trying to be set on a copy of a slice from a DataFrame.\n",
      "Try using .loc[row_indexer,col_indexer] = value instead\n",
      "\n",
      "See the caveats in the documentation: https://pandas.pydata.org/pandas-docs/stable/user_guide/indexing.html#returning-a-view-versus-a-copy\n",
      "\n",
      "C:\\Users\\zeusg\\Anaconda3\\lib\\site-packages\\ipykernel_launcher.py:7: SettingWithCopyWarning:\n",
      "\n",
      "\n",
      "A value is trying to be set on a copy of a slice from a DataFrame.\n",
      "Try using .loc[row_indexer,col_indexer] = value instead\n",
      "\n",
      "See the caveats in the documentation: https://pandas.pydata.org/pandas-docs/stable/user_guide/indexing.html#returning-a-view-versus-a-copy\n",
      "\n",
      "C:\\Users\\zeusg\\Anaconda3\\lib\\site-packages\\ipykernel_launcher.py:7: SettingWithCopyWarning:\n",
      "\n",
      "\n",
      "A value is trying to be set on a copy of a slice from a DataFrame.\n",
      "Try using .loc[row_indexer,col_indexer] = value instead\n",
      "\n",
      "See the caveats in the documentation: https://pandas.pydata.org/pandas-docs/stable/user_guide/indexing.html#returning-a-view-versus-a-copy\n",
      "\n",
      "C:\\Users\\zeusg\\Anaconda3\\lib\\site-packages\\ipykernel_launcher.py:7: SettingWithCopyWarning:\n",
      "\n",
      "\n",
      "A value is trying to be set on a copy of a slice from a DataFrame.\n",
      "Try using .loc[row_indexer,col_indexer] = value instead\n",
      "\n",
      "See the caveats in the documentation: https://pandas.pydata.org/pandas-docs/stable/user_guide/indexing.html#returning-a-view-versus-a-copy\n",
      "\n",
      "C:\\Users\\zeusg\\Anaconda3\\lib\\site-packages\\ipykernel_launcher.py:7: SettingWithCopyWarning:\n",
      "\n",
      "\n",
      "A value is trying to be set on a copy of a slice from a DataFrame.\n",
      "Try using .loc[row_indexer,col_indexer] = value instead\n",
      "\n",
      "See the caveats in the documentation: https://pandas.pydata.org/pandas-docs/stable/user_guide/indexing.html#returning-a-view-versus-a-copy\n",
      "\n",
      "C:\\Users\\zeusg\\Anaconda3\\lib\\site-packages\\ipykernel_launcher.py:7: SettingWithCopyWarning:\n",
      "\n",
      "\n",
      "A value is trying to be set on a copy of a slice from a DataFrame.\n",
      "Try using .loc[row_indexer,col_indexer] = value instead\n",
      "\n",
      "See the caveats in the documentation: https://pandas.pydata.org/pandas-docs/stable/user_guide/indexing.html#returning-a-view-versus-a-copy\n",
      "\n",
      "Could not find West Virginia\n",
      "Could not find West Virginia\n",
      "Could not find West Virginia\n",
      "Could not find West Virginia\n",
      "Could not find West Virginia\n",
      "Could not find West Virginia\n",
      "Could not find West Virginia\n",
      "Could not find West Virginia\n",
      "Could not find West Virginia\n",
      "Could not find West Virginia\n",
      "Could not find West Virginia\n",
      "Could not find West Virginia\n",
      "Could not find West Virginia\n",
      "Could not find West Virginia\n",
      "Could not find West Virginia\n",
      "Could not find West Virginia\n",
      "Could not find West Virginia\n",
      "Could not find West Virginia\n",
      "Could not find West Virginia\n",
      "Could not find West Virginia\n",
      "Could not find West Virginia\n",
      "Could not find West Virginia\n",
      "Could not find West Virginia\n",
      "Could not find West Virginia\n",
      "Could not find West Virginia\n",
      "Could not find West Virginia\n",
      "['District\\xa0of\\xa0Columbia', 'District\\xa0of\\xa0Columbia', 'District\\xa0of\\xa0Columbia', 'District\\xa0of\\xa0Columbia', 'District\\xa0of\\xa0Columbia', 'District\\xa0of\\xa0Columbia', 'District\\xa0of\\xa0Columbia', 'District\\xa0of\\xa0Columbia', 'District\\xa0of\\xa0Columbia', 'District\\xa0of\\xa0Columbia', 'District\\xa0of\\xa0Columbia', 'District\\xa0of\\xa0Columbia', 'District\\xa0of\\xa0Columbia', 'District\\xa0of\\xa0Columbia', 'District\\xa0of\\xa0Columbia', 'District\\xa0of\\xa0Columbia', 'District\\xa0of\\xa0Columbia', 'District\\xa0of\\xa0Columbia', 'District\\xa0of\\xa0Columbia', 'District\\xa0of\\xa0Columbia', 'District\\xa0of\\xa0Columbia', 'District\\xa0of\\xa0Columbia', 'District\\xa0of\\xa0Columbia', 'District\\xa0of\\xa0Columbia', 'District\\xa0of\\xa0Columbia', 'District\\xa0of\\xa0Columbia', 'New\\xa0Hampshire', 'New\\xa0Hampshire', 'New\\xa0Hampshire', 'New\\xa0Hampshire', 'New\\xa0Hampshire', 'New\\xa0Hampshire', 'New\\xa0Hampshire', 'New\\xa0Hampshire', 'New\\xa0Hampshire', 'New\\xa0Hampshire', 'New\\xa0Hampshire', 'New\\xa0Hampshire', 'New\\xa0Hampshire', 'New\\xa0Hampshire', 'New\\xa0Hampshire', 'New\\xa0Hampshire', 'New\\xa0Hampshire', 'New\\xa0Hampshire', 'New\\xa0Hampshire', 'New\\xa0Hampshire', 'New\\xa0Hampshire', 'New\\xa0Hampshire', 'New\\xa0Hampshire', 'New\\xa0Hampshire', 'New\\xa0Hampshire', 'New\\xa0Hampshire', 'New\\xa0Jersey', 'New\\xa0Jersey', 'New\\xa0Jersey', 'New\\xa0Jersey', 'New\\xa0Jersey', 'New\\xa0Jersey', 'New\\xa0Jersey', 'New\\xa0Jersey', 'New\\xa0Jersey', 'New\\xa0Jersey', 'New\\xa0Jersey', 'New\\xa0Jersey', 'New\\xa0Jersey', 'New\\xa0Jersey', 'New\\xa0Jersey', 'New\\xa0Jersey', 'New\\xa0Jersey', 'New\\xa0Jersey', 'New\\xa0Jersey', 'New\\xa0Jersey', 'New\\xa0Jersey', 'New\\xa0Jersey', 'New\\xa0Jersey', 'New\\xa0Jersey', 'New\\xa0Jersey', 'New\\xa0Jersey', 'New\\xa0Mexico', 'New\\xa0Mexico', 'New\\xa0Mexico', 'New\\xa0Mexico', 'New\\xa0Mexico', 'New\\xa0Mexico', 'New\\xa0Mexico', 'New\\xa0Mexico', 'New\\xa0Mexico', 'New\\xa0Mexico', 'New\\xa0Mexico', 'New\\xa0Mexico', 'New\\xa0Mexico', 'New\\xa0Mexico', 'New\\xa0Mexico', 'New\\xa0Mexico', 'New\\xa0Mexico', 'New\\xa0Mexico', 'New\\xa0Mexico', 'New\\xa0Mexico', 'New\\xa0Mexico', 'New\\xa0Mexico', 'New\\xa0Mexico', 'New\\xa0Mexico', 'New\\xa0Mexico', 'New\\xa0Mexico', 'New\\xa0York', 'New\\xa0York', 'New\\xa0York', 'New\\xa0York', 'New\\xa0York', 'New\\xa0York', 'New\\xa0York', 'New\\xa0York', 'New\\xa0York', 'New\\xa0York', 'New\\xa0York', 'New\\xa0York', 'New\\xa0York', 'New\\xa0York', 'New\\xa0York', 'New\\xa0York', 'New\\xa0York', 'New\\xa0York', 'New\\xa0York', 'New\\xa0York', 'New\\xa0York', 'New\\xa0York', 'New\\xa0York', 'New\\xa0York', 'New\\xa0York', 'New\\xa0York', 'North\\xa0Carolina', 'North\\xa0Carolina', 'North\\xa0Carolina', 'North\\xa0Carolina', 'North\\xa0Carolina', 'North\\xa0Carolina', 'North\\xa0Carolina', 'North\\xa0Carolina', 'North\\xa0Carolina', 'North\\xa0Carolina', 'North\\xa0Carolina', 'North\\xa0Carolina', 'North\\xa0Carolina', 'North\\xa0Carolina', 'North\\xa0Carolina', 'North\\xa0Carolina', 'North\\xa0Carolina', 'North\\xa0Carolina', 'North\\xa0Carolina', 'North\\xa0Carolina', 'North\\xa0Carolina', 'North\\xa0Carolina', 'North\\xa0Carolina', 'North\\xa0Carolina', 'North\\xa0Carolina', 'North\\xa0Carolina', 'North\\xa0Dakota', 'North\\xa0Dakota', 'North\\xa0Dakota', 'North\\xa0Dakota', 'North\\xa0Dakota', 'North\\xa0Dakota', 'North\\xa0Dakota', 'North\\xa0Dakota', 'North\\xa0Dakota', 'North\\xa0Dakota', 'North\\xa0Dakota', 'North\\xa0Dakota', 'North\\xa0Dakota', 'North\\xa0Dakota', 'North\\xa0Dakota', 'North\\xa0Dakota', 'North\\xa0Dakota', 'North\\xa0Dakota', 'North\\xa0Dakota', 'North\\xa0Dakota', 'North\\xa0Dakota', 'North\\xa0Dakota', 'North\\xa0Dakota', 'North\\xa0Dakota', 'North\\xa0Dakota', 'North\\xa0Dakota', 'Rhode\\xa0Island', 'Rhode\\xa0Island', 'Rhode\\xa0Island', 'Rhode\\xa0Island', 'Rhode\\xa0Island', 'Rhode\\xa0Island', 'Rhode\\xa0Island', 'Rhode\\xa0Island', 'Rhode\\xa0Island', 'Rhode\\xa0Island', 'Rhode\\xa0Island', 'Rhode\\xa0Island', 'Rhode\\xa0Island', 'Rhode\\xa0Island', 'Rhode\\xa0Island', 'Rhode\\xa0Island', 'Rhode\\xa0Island', 'Rhode\\xa0Island', 'Rhode\\xa0Island', 'Rhode\\xa0Island', 'Rhode\\xa0Island', 'Rhode\\xa0Island', 'Rhode\\xa0Island', 'Rhode\\xa0Island', 'Rhode\\xa0Island', 'Rhode\\xa0Island', 'South\\xa0Carolina', 'South\\xa0Carolina', 'South\\xa0Carolina', 'South\\xa0Carolina', 'South\\xa0Carolina', 'South\\xa0Carolina', 'South\\xa0Carolina', 'South\\xa0Carolina', 'South\\xa0Carolina', 'South\\xa0Carolina', 'South\\xa0Carolina', 'South\\xa0Carolina', 'South\\xa0Carolina', 'South\\xa0Carolina', 'South\\xa0Carolina', 'South\\xa0Carolina', 'South\\xa0Carolina', 'South\\xa0Carolina', 'South\\xa0Carolina', 'South\\xa0Carolina', 'South\\xa0Carolina', 'South\\xa0Carolina', 'South\\xa0Carolina', 'South\\xa0Carolina', 'South\\xa0Carolina', 'South\\xa0Carolina', 'South\\xa0Dakota', 'South\\xa0Dakota', 'South\\xa0Dakota', 'South\\xa0Dakota', 'South\\xa0Dakota', 'South\\xa0Dakota', 'South\\xa0Dakota', 'South\\xa0Dakota', 'South\\xa0Dakota', 'South\\xa0Dakota', 'South\\xa0Dakota', 'South\\xa0Dakota', 'South\\xa0Dakota', 'South\\xa0Dakota', 'South\\xa0Dakota', 'South\\xa0Dakota', 'South\\xa0Dakota', 'South\\xa0Dakota', 'South\\xa0Dakota', 'South\\xa0Dakota', 'South\\xa0Dakota', 'South\\xa0Dakota', 'South\\xa0Dakota', 'South\\xa0Dakota', 'South\\xa0Dakota', 'South\\xa0Dakota', 'West\\xa0Virginia', 'West\\xa0Virginia', 'West\\xa0Virginia', 'West\\xa0Virginia', 'West\\xa0Virginia', 'West\\xa0Virginia', 'West\\xa0Virginia', 'West\\xa0Virginia', 'West\\xa0Virginia', 'West\\xa0Virginia', 'West\\xa0Virginia', 'West\\xa0Virginia', 'West\\xa0Virginia', 'West\\xa0Virginia', 'West\\xa0Virginia', 'West\\xa0Virginia', 'West\\xa0Virginia', 'West\\xa0Virginia', 'West\\xa0Virginia', 'West\\xa0Virginia', 'West\\xa0Virginia', 'West\\xa0Virginia', 'West\\xa0Virginia', 'West\\xa0Virginia', 'West\\xa0Virginia', 'West\\xa0Virginia']\n",
      "C:\\Users\\zeusg\\Anaconda3\\lib\\site-packages\\ipykernel_launcher.py:7: SettingWithCopyWarning:\n",
      "\n",
      "\n",
      "A value is trying to be set on a copy of a slice from a DataFrame.\n",
      "Try using .loc[row_indexer,col_indexer] = value instead\n",
      "\n",
      "See the caveats in the documentation: https://pandas.pydata.org/pandas-docs/stable/user_guide/indexing.html#returning-a-view-versus-a-copy\n",
      "\n",
      "C:\\Users\\zeusg\\Anaconda3\\lib\\site-packages\\ipykernel_launcher.py:7: SettingWithCopyWarning:\n",
      "\n",
      "\n",
      "A value is trying to be set on a copy of a slice from a DataFrame.\n",
      "Try using .loc[row_indexer,col_indexer] = value instead\n",
      "\n",
      "See the caveats in the documentation: https://pandas.pydata.org/pandas-docs/stable/user_guide/indexing.html#returning-a-view-versus-a-copy\n",
      "\n",
      "C:\\Users\\zeusg\\Anaconda3\\lib\\site-packages\\ipykernel_launcher.py:7: SettingWithCopyWarning:\n",
      "\n",
      "\n",
      "A value is trying to be set on a copy of a slice from a DataFrame.\n",
      "Try using .loc[row_indexer,col_indexer] = value instead\n",
      "\n",
      "See the caveats in the documentation: https://pandas.pydata.org/pandas-docs/stable/user_guide/indexing.html#returning-a-view-versus-a-copy\n",
      "\n",
      "C:\\Users\\zeusg\\Anaconda3\\lib\\site-packages\\ipykernel_launcher.py:7: SettingWithCopyWarning:\n",
      "\n",
      "\n",
      "A value is trying to be set on a copy of a slice from a DataFrame.\n",
      "Try using .loc[row_indexer,col_indexer] = value instead\n",
      "\n",
      "See the caveats in the documentation: https://pandas.pydata.org/pandas-docs/stable/user_guide/indexing.html#returning-a-view-versus-a-copy\n",
      "\n",
      "C:\\Users\\zeusg\\Anaconda3\\lib\\site-packages\\ipykernel_launcher.py:7: SettingWithCopyWarning:\n",
      "\n",
      "\n",
      "A value is trying to be set on a copy of a slice from a DataFrame.\n",
      "Try using .loc[row_indexer,col_indexer] = value instead\n",
      "\n",
      "See the caveats in the documentation: https://pandas.pydata.org/pandas-docs/stable/user_guide/indexing.html#returning-a-view-versus-a-copy\n",
      "\n",
      "C:\\Users\\zeusg\\Anaconda3\\lib\\site-packages\\ipykernel_launcher.py:7: SettingWithCopyWarning:\n",
      "\n",
      "\n",
      "A value is trying to be set on a copy of a slice from a DataFrame.\n",
      "Try using .loc[row_indexer,col_indexer] = value instead\n",
      "\n",
      "See the caveats in the documentation: https://pandas.pydata.org/pandas-docs/stable/user_guide/indexing.html#returning-a-view-versus-a-copy\n",
      "\n",
      "C:\\Users\\zeusg\\Anaconda3\\lib\\site-packages\\ipykernel_launcher.py:7: SettingWithCopyWarning:\n",
      "\n",
      "\n",
      "A value is trying to be set on a copy of a slice from a DataFrame.\n",
      "Try using .loc[row_indexer,col_indexer] = value instead\n",
      "\n",
      "See the caveats in the documentation: https://pandas.pydata.org/pandas-docs/stable/user_guide/indexing.html#returning-a-view-versus-a-copy\n",
      "\n",
      "C:\\Users\\zeusg\\Anaconda3\\lib\\site-packages\\ipykernel_launcher.py:7: SettingWithCopyWarning:\n",
      "\n",
      "\n",
      "A value is trying to be set on a copy of a slice from a DataFrame.\n",
      "Try using .loc[row_indexer,col_indexer] = value instead\n",
      "\n",
      "See the caveats in the documentation: https://pandas.pydata.org/pandas-docs/stable/user_guide/indexing.html#returning-a-view-versus-a-copy\n",
      "\n",
      "C:\\Users\\zeusg\\Anaconda3\\lib\\site-packages\\ipykernel_launcher.py:7: SettingWithCopyWarning:\n",
      "\n",
      "\n",
      "A value is trying to be set on a copy of a slice from a DataFrame.\n",
      "Try using .loc[row_indexer,col_indexer] = value instead\n",
      "\n",
      "See the caveats in the documentation: https://pandas.pydata.org/pandas-docs/stable/user_guide/indexing.html#returning-a-view-versus-a-copy\n",
      "\n"
     ]
    }
   ],
   "source": [
    "not_included = []\n",
    "for state in state_infra['State']:\n",
    "    state_infra[state_infra['State'] == state]\n",
    "    for date in range(1992,2018):\n",
    "        try:\n",
    "            per_cap = state_infra[state_infra['State'] == state][date]/state_pop[state_pop['DATE'] == date][state.upper()]*1000\n",
    "            state_infra[state_infra['State'] == state][date] = per_cap\n",
    "        except:\n",
    "            not_included.append(state)\n",
    "            print(\"Could not find \" + state)\n",
    "print(not_included)\n"
   ]
  },
  {
   "cell_type": "code",
   "execution_count": 135,
   "metadata": {},
   "outputs": [
    {
     "output_type": "execute_result",
     "data": {
      "text/plain": [
       "                   State      1992      1993      1994      1995      1996  \\\n",
       "1                Alabama  1328.224  1381.320  1386.588  1255.353  1187.131   \n",
       "2                 Alaska   663.753   690.286   702.651   645.963   621.262   \n",
       "3                Arizona  1334.245  1387.581  1482.938  1433.423  1451.814   \n",
       "4               Arkansas   818.852   851.586   932.240   922.080   954.727   \n",
       "5             California  6242.776  6492.330  6675.239  6202.962  6034.941   \n",
       "6               Colorado  1164.647  1211.204  1289.468  1241.702  1252.957   \n",
       "7            Connecticut  1470.460  1529.242  1492.437  1308.180  1191.502   \n",
       "8               Delaware   528.381   549.503   565.655   526.295   512.721   \n",
       "9   District of Columbia   260.788   271.213   250.540   204.934   170.589   \n",
       "10               Florida  5195.526  5403.216  5898.138  5818.295  6009.202   \n",
       "11               Georgia  2638.394  2743.863  3025.591  3012.826  3139.108   \n",
       "12                Hawaii   750.743   780.754   735.268   616.797   531.462   \n",
       "13                 Idaho   494.869   514.652   557.386   545.753   559.684   \n",
       "14              Illinois  4545.670  4727.383  4757.014  4318.482  4096.195   \n",
       "15               Indiana  1676.358  1743.371  1793.784  1668.151  1624.285   \n",
       "16                  Iowa  1525.831  1586.826  1684.111  1616.734  1626.412   \n",
       "17                Kansas  1124.774  1169.736  1397.243  1489.962  1647.454   \n",
       "18              Kentucky  1623.588  1688.491  1729.360  1600.409  1550.244   \n",
       "19             Louisiana  1475.718  1534.710  1592.727  1494.594  1469.139   \n",
       "20                 Maine   304.718   316.899   359.808   367.813   392.408   \n",
       "21              Maryland  1278.434  1329.539  1374.602  1284.837  1257.768   \n",
       "22         Massachusetts  2319.435  2412.154  2841.365  2996.065  3282.290   \n",
       "23              Michigan  2119.296  2204.015  2215.220  2008.381  1902.227   \n",
       "24             Minnesota  2724.718  2833.638  2893.207  2668.557  2575.665   \n",
       "25           Mississippi   910.125   946.507  1086.037  1120.336  1204.767   \n",
       "26              Missouri  1481.689  1540.919  1767.736  1823.266  1960.393   \n",
       "27               Montana   499.154   519.107   549.315   525.794   527.398   \n",
       "28              Nebraska   896.765   932.613   987.685   946.163   949.820   \n",
       "29                Nevada   826.583   859.626   975.515   996.765  1062.990   \n",
       "30         New Hampshire   271.684   282.545   277.537   245.132   225.305   \n",
       "31            New Jersey  3314.228  3446.714  3513.824  3235.682  3117.533   \n",
       "32            New Mexico  1079.946  1123.117   989.796   757.327   569.052   \n",
       "33              New York  6106.664  6350.777  7034.823  7034.504  7357.651   \n",
       "34        North Carolina  1927.611  2004.667  2347.716  2463.802  2688.496   \n",
       "35          North Dakota   315.124   327.721   331.617   302.899   289.266   \n",
       "36                  Ohio  3382.502  3517.717  3507.711  3152.097  2955.754   \n",
       "37              Oklahoma   948.324   986.233  1077.356  1063.501  1099.105   \n",
       "38                Oregon  1059.030  1101.364  1143.448  1073.435  1055.601   \n",
       "39          Pennsylvania  2562.041  2664.458  2757.002  2579.152  2527.064   \n",
       "40          Rhode Island   446.339   464.181   455.740   402.306   369.524   \n",
       "41        South Carolina  1073.820  1116.746  1027.164   835.299   689.576   \n",
       "42          South Dakota   412.038   428.510   447.222   422.119   417.437   \n",
       "43             Tennessee  1941.633  2019.250  2121.557  2016.178  2007.754   \n",
       "44                 Texas  6075.925  6318.809  6686.599  6400.385  6420.004   \n",
       "45                  Utah   631.275   656.511   700.855   676.722   684.678   \n",
       "46               Vermont   198.994   206.949   203.089   179.179   164.472   \n",
       "47              Virginia  1890.369  1965.936  2252.877  2321.498  2494.097   \n",
       "48            Washington  1763.471  1833.966  2227.757  2407.032  2689.758   \n",
       "49         West Virginia   737.343   766.818   839.325   830.067   859.349   \n",
       "50             Wisconsin  2287.867  2379.324  2409.446  2202.630  2105.430   \n",
       "51               Wyoming   456.048   474.279   488.367   454.529   442.956   \n",
       "\n",
       "        1997      1998      1999      2000  ...      2008      2009      2010  \\\n",
       "1   1259.965  1375.223  1496.583  1589.559  ...  1328.456  1326.456  1302.806   \n",
       "2    643.259   685.790   729.804   758.803  ...   957.262  1019.194   906.204   \n",
       "3   1485.783  1565.931  1647.698  1694.202  ...  1894.816  1994.613  1811.447   \n",
       "4   1002.030  1082.284  1166.251  1227.278  ...   703.331   646.685   695.219   \n",
       "5   6411.536  7004.449  7629.059  8109.436  ...  6948.694  6967.680  7253.290   \n",
       "6   1418.010  1636.962  1871.709  2077.379  ...  1416.429  1331.413  1287.155   \n",
       "7   1164.179  1169.045  1169.383  1140.229  ...   665.138   639.746   667.471   \n",
       "8    505.959   513.565   519.753   513.300  ...   430.840   441.204   454.788   \n",
       "9    156.700   146.386   134.366   118.025  ...   236.596   268.180   311.656   \n",
       "10  6195.618  6577.918  6971.777  7220.134  ...  6800.135  6980.372  6497.956   \n",
       "11  3206.523  3373.164  3542.664  3635.857  ...  2322.695  2223.712  2169.372   \n",
       "12   507.947   497.616   484.065   457.245  ...   328.306   333.678   323.261   \n",
       "13   554.688   565.624   575.264   571.129  ...   522.122   540.486   520.648   \n",
       "14  4293.389  4631.364  4984.656  5239.467  ...  4427.841  4445.221  4382.575   \n",
       "15  1620.599  1664.266  1705.320  1706.506  ...  1829.463  1929.050  1865.609   \n",
       "16  1623.230  1667.515  1709.238  1711.046  ...  1191.682  1175.225  1176.380   \n",
       "17  1602.801  1601.941  1594.093  1545.398  ...  1108.141  1113.756  1050.292   \n",
       "18  1598.449  1697.200  1798.945  1863.155  ...  1344.433  1316.759  1409.420   \n",
       "19  1453.688  1479.812  1502.288  1488.583  ...  2442.878  2687.122  2369.015   \n",
       "20   391.919   402.911   413.315   414.091  ...   274.916   268.398   295.328   \n",
       "21  1307.950  1400.288  1496.228  1561.826  ...  1589.236  1646.119  1561.926   \n",
       "22  3367.755  3558.521  3753.865  3869.571  ...  1584.567  1314.026  1293.493   \n",
       "23  1891.125  1934.776  1974.648  1967.761  ...  1533.872  1547.096  1446.257   \n",
       "24  2560.617  2619.705  2673.675  2664.331  ...  2138.881  2168.001  2152.538   \n",
       "25  1177.391  1182.588  1183.233  1154.061  ...   831.577   834.397   844.759   \n",
       "26  1989.074  2078.333  2167.955  2209.788  ...  1794.424  1807.760  1685.028   \n",
       "27   532.237   553.074   573.704   581.449  ...   558.317   578.350   568.058   \n",
       "28   947.209   972.241   995.698   995.836  ...   801.628   811.845   811.961   \n",
       "29  1076.821  1123.322  1169.836  1190.421  ...  1063.769  1089.071  1017.255   \n",
       "30   236.973   256.469   276.894   291.912  ...   257.622   260.325   275.971   \n",
       "31  3070.117  3109.411  3139.413  3092.490  ...  2209.205  2204.159  2339.425   \n",
       "32   595.804   642.048   690.351   724.966  ...   898.674   952.950   865.723   \n",
       "33  7240.305  7327.041  7391.269  7273.894  ...  5889.444  6004.877  5847.632   \n",
       "34  2744.780  2885.896  3029.306  3107.348  ...  2052.929  1981.066  2095.076   \n",
       "35   306.430   333.871   362.737   384.680  ...   419.819   437.266   554.885   \n",
       "36  3051.038  3243.044  3441.115  3567.655  ...  2744.689  2721.420  2755.294   \n",
       "37  1155.673  1250.394  1349.612  1422.443  ...  1389.157  1426.608  1397.350   \n",
       "38  1019.459  1010.600   996.463   956.079  ...   881.217   923.047   870.013   \n",
       "39  2796.163  3167.371  3563.668  3900.682  ...  5123.444  5423.416  5351.585   \n",
       "40   366.184   373.358   379.673   376.892  ...   128.112   101.135   133.891   \n",
       "41   826.304   997.445  1182.146  1351.303  ...   765.683   671.898   661.250   \n",
       "42   436.531   469.869   504.661   529.407  ...   460.930   465.424   495.822   \n",
       "43  1972.292  1992.163  2005.528  1969.303  ...  1744.406  1804.050  1678.370   \n",
       "44  6550.847  6883.897  7222.049  7404.071  ...  6797.626  6971.960  7219.003   \n",
       "45   732.351   805.078   881.926   942.459  ...  1110.225  1165.747  1064.650   \n",
       "46   173.557   188.416   204.013   215.668  ...   189.717   191.439   194.827   \n",
       "47  2535.686  2654.874  2775.064  2834.506  ...  1586.133  1472.240  1566.508   \n",
       "48  2649.432  2683.978  2710.570  2670.797  ...  2821.341  2981.812  2838.397   \n",
       "49   862.913   892.099   920.489   927.840  ...   837.802   861.635   809.800   \n",
       "50  2214.122  2395.934  2586.398  2726.315  ...  2148.340  2127.112  2068.524   \n",
       "51   447.393   465.307   483.087   490.048  ...   456.652   470.898   440.013   \n",
       "\n",
       "        2011      2012      2013      2014      2015      2016      2017  \n",
       "1   1250.968  1195.081  1136.053  1106.495  1119.064  1102.454  1072.971  \n",
       "2    778.668   656.070   539.793   610.094   709.777   798.959   777.593  \n",
       "3   1596.965  1388.926  1189.758  1175.529  1207.277  1209.132  1176.797  \n",
       "4    725.506   748.719   764.869   784.183   836.215   870.164   846.894  \n",
       "5   7360.099  7410.836  7407.330  6781.600  6382.483  5775.840  5621.377  \n",
       "6   1216.143  1142.809  1068.212  1066.178  1106.616  1120.645  1090.675  \n",
       "7    678.667   684.586   685.387   741.967   832.223   907.844   883.565  \n",
       "8    457.388   456.819   453.230   452.488   469.780   475.871   463.145  \n",
       "9    345.814   375.056   399.219   328.436   265.752   190.406   185.314  \n",
       "10  5894.055  5299.234  4720.854  4945.164  5383.076  5713.577  5560.779  \n",
       "11  2068.880  1962.846  1852.901  1952.677  2137.594  2280.820  2219.825  \n",
       "12   306.088   288.276   270.085   283.604   309.420   329.118   320.316  \n",
       "13   490.090   458.747   427.065   413.655   415.827   406.938   396.055  \n",
       "14  4224.222  4050.886  3865.497  4384.800  5116.264  5773.165  5618.773  \n",
       "15  1763.355  1657.677  1550.106  1492.909  1491.321  1449.245  1410.488  \n",
       "16  1150.904  1119.962  1084.201  1143.817  1253.388  1338.615  1302.817  \n",
       "17   966.431   882.871   800.691   841.455   918.748   977.932   951.780  \n",
       "18  1465.391  1507.480  1535.755  1533.258  1591.870  1612.530  1569.406  \n",
       "19  2014.071  1673.864  1352.180  1322.390  1343.340  1329.774  1294.212  \n",
       "20   314.177   329.512   341.292   339.550   351.257   354.483   345.003  \n",
       "21  1446.867  1331.439  1217.164  1288.629  1416.679  1517.581  1476.996  \n",
       "22  1244.821  1191.890  1135.582  1300.843  1529.842  1737.443  1690.978  \n",
       "23  1318.037  1191.313  1067.672  1129.259  1240.359  1327.600  1292.096  \n",
       "24  2089.266  2017.406  1938.276  2113.506  2385.664  2617.038  2547.051  \n",
       "25   835.498   821.545   803.293   769.228   763.490   736.594   716.895  \n",
       "26  1530.669  1378.474  1230.335  1131.605  1071.094   976.320   950.210  \n",
       "27   545.474   521.122   495.400   433.291   384.088   320.198   311.635  \n",
       "28   793.730   771.782   746.568   779.203   845.302   894.302   870.386  \n",
       "29   926.226   836.320   748.662   701.469   678.961   636.118   619.106  \n",
       "30   284.564   290.639   294.229   275.774   267.030   250.299   243.605  \n",
       "31  2414.761  2468.544  2501.032  2504.972  2609.320  2652.181  2581.254  \n",
       "32   763.513   664.358   569.415   529.892   508.741   471.979   459.357  \n",
       "33  5566.547  5271.388  4966.634  5257.216  5778.580  6189.119  6023.604  \n",
       "34  2155.789  2197.773  2221.315  2268.849  2410.450  2499.197  2432.361  \n",
       "35   653.805   740.742   815.093   878.900   982.371  1068.297  1039.728  \n",
       "36  2725.158  2679.717  2620.245  2748.724  2996.201  3184.220  3099.065  \n",
       "37  1338.064  1274.746  1208.402  1240.988  1325.492  1381.512  1344.567  \n",
       "38   800.107   730.489   662.053   699.116   766.756   819.556   797.639  \n",
       "39  5162.641  4955.026  4732.282  4973.926  5431.552  5782.177  5627.545  \n",
       "40   161.907   186.679   208.029   206.483   213.080   214.488   208.752  \n",
       "41   636.223   609.033   580.128   673.627   800.694   917.191   892.663  \n",
       "42   513.427   526.325   534.558   536.445   559.909   570.272   555.021  \n",
       "43  1521.368  1366.798  1216.568  1158.859  1143.370  1095.594  1066.295  \n",
       "44  7290.041  7308.261  7275.775  7380.175  7786.987  8018.635  7804.194  \n",
       "45   944.805   828.219   716.270   649.118   603.141   536.832   522.475  \n",
       "46   193.636   191.284   187.852   197.937   216.652   231.138   224.957  \n",
       "47  1620.451  1659.666  1684.297  1737.732  1864.423  1951.731  1899.536  \n",
       "48  2638.387  2436.936  2236.737  2143.713  2129.768  2056.982  2001.973  \n",
       "49   742.390   675.446   609.822   577.837   566.676   539.209   524.789  \n",
       "50  1966.285  1859.306  1749.193  1593.825  1491.126  1339.117  1303.306  \n",
       "51   400.809   362.076   324.300   319.368   326.851   326.145   317.423  \n",
       "\n",
       "[51 rows x 27 columns]"
      ],
      "text/html": "<div>\n<style scoped>\n    .dataframe tbody tr th:only-of-type {\n        vertical-align: middle;\n    }\n\n    .dataframe tbody tr th {\n        vertical-align: top;\n    }\n\n    .dataframe thead th {\n        text-align: right;\n    }\n</style>\n<table border=\"1\" class=\"dataframe\">\n  <thead>\n    <tr style=\"text-align: right;\">\n      <th></th>\n      <th>State</th>\n      <th>1992</th>\n      <th>1993</th>\n      <th>1994</th>\n      <th>1995</th>\n      <th>1996</th>\n      <th>1997</th>\n      <th>1998</th>\n      <th>1999</th>\n      <th>2000</th>\n      <th>...</th>\n      <th>2008</th>\n      <th>2009</th>\n      <th>2010</th>\n      <th>2011</th>\n      <th>2012</th>\n      <th>2013</th>\n      <th>2014</th>\n      <th>2015</th>\n      <th>2016</th>\n      <th>2017</th>\n    </tr>\n  </thead>\n  <tbody>\n    <tr>\n      <th>1</th>\n      <td>Alabama</td>\n      <td>1328.224</td>\n      <td>1381.320</td>\n      <td>1386.588</td>\n      <td>1255.353</td>\n      <td>1187.131</td>\n      <td>1259.965</td>\n      <td>1375.223</td>\n      <td>1496.583</td>\n      <td>1589.559</td>\n      <td>...</td>\n      <td>1328.456</td>\n      <td>1326.456</td>\n      <td>1302.806</td>\n      <td>1250.968</td>\n      <td>1195.081</td>\n      <td>1136.053</td>\n      <td>1106.495</td>\n      <td>1119.064</td>\n      <td>1102.454</td>\n      <td>1072.971</td>\n    </tr>\n    <tr>\n      <th>2</th>\n      <td>Alaska</td>\n      <td>663.753</td>\n      <td>690.286</td>\n      <td>702.651</td>\n      <td>645.963</td>\n      <td>621.262</td>\n      <td>643.259</td>\n      <td>685.790</td>\n      <td>729.804</td>\n      <td>758.803</td>\n      <td>...</td>\n      <td>957.262</td>\n      <td>1019.194</td>\n      <td>906.204</td>\n      <td>778.668</td>\n      <td>656.070</td>\n      <td>539.793</td>\n      <td>610.094</td>\n      <td>709.777</td>\n      <td>798.959</td>\n      <td>777.593</td>\n    </tr>\n    <tr>\n      <th>3</th>\n      <td>Arizona</td>\n      <td>1334.245</td>\n      <td>1387.581</td>\n      <td>1482.938</td>\n      <td>1433.423</td>\n      <td>1451.814</td>\n      <td>1485.783</td>\n      <td>1565.931</td>\n      <td>1647.698</td>\n      <td>1694.202</td>\n      <td>...</td>\n      <td>1894.816</td>\n      <td>1994.613</td>\n      <td>1811.447</td>\n      <td>1596.965</td>\n      <td>1388.926</td>\n      <td>1189.758</td>\n      <td>1175.529</td>\n      <td>1207.277</td>\n      <td>1209.132</td>\n      <td>1176.797</td>\n    </tr>\n    <tr>\n      <th>4</th>\n      <td>Arkansas</td>\n      <td>818.852</td>\n      <td>851.586</td>\n      <td>932.240</td>\n      <td>922.080</td>\n      <td>954.727</td>\n      <td>1002.030</td>\n      <td>1082.284</td>\n      <td>1166.251</td>\n      <td>1227.278</td>\n      <td>...</td>\n      <td>703.331</td>\n      <td>646.685</td>\n      <td>695.219</td>\n      <td>725.506</td>\n      <td>748.719</td>\n      <td>764.869</td>\n      <td>784.183</td>\n      <td>836.215</td>\n      <td>870.164</td>\n      <td>846.894</td>\n    </tr>\n    <tr>\n      <th>5</th>\n      <td>California</td>\n      <td>6242.776</td>\n      <td>6492.330</td>\n      <td>6675.239</td>\n      <td>6202.962</td>\n      <td>6034.941</td>\n      <td>6411.536</td>\n      <td>7004.449</td>\n      <td>7629.059</td>\n      <td>8109.436</td>\n      <td>...</td>\n      <td>6948.694</td>\n      <td>6967.680</td>\n      <td>7253.290</td>\n      <td>7360.099</td>\n      <td>7410.836</td>\n      <td>7407.330</td>\n      <td>6781.600</td>\n      <td>6382.483</td>\n      <td>5775.840</td>\n      <td>5621.377</td>\n    </tr>\n    <tr>\n      <th>6</th>\n      <td>Colorado</td>\n      <td>1164.647</td>\n      <td>1211.204</td>\n      <td>1289.468</td>\n      <td>1241.702</td>\n      <td>1252.957</td>\n      <td>1418.010</td>\n      <td>1636.962</td>\n      <td>1871.709</td>\n      <td>2077.379</td>\n      <td>...</td>\n      <td>1416.429</td>\n      <td>1331.413</td>\n      <td>1287.155</td>\n      <td>1216.143</td>\n      <td>1142.809</td>\n      <td>1068.212</td>\n      <td>1066.178</td>\n      <td>1106.616</td>\n      <td>1120.645</td>\n      <td>1090.675</td>\n    </tr>\n    <tr>\n      <th>7</th>\n      <td>Connecticut</td>\n      <td>1470.460</td>\n      <td>1529.242</td>\n      <td>1492.437</td>\n      <td>1308.180</td>\n      <td>1191.502</td>\n      <td>1164.179</td>\n      <td>1169.045</td>\n      <td>1169.383</td>\n      <td>1140.229</td>\n      <td>...</td>\n      <td>665.138</td>\n      <td>639.746</td>\n      <td>667.471</td>\n      <td>678.667</td>\n      <td>684.586</td>\n      <td>685.387</td>\n      <td>741.967</td>\n      <td>832.223</td>\n      <td>907.844</td>\n      <td>883.565</td>\n    </tr>\n    <tr>\n      <th>8</th>\n      <td>Delaware</td>\n      <td>528.381</td>\n      <td>549.503</td>\n      <td>565.655</td>\n      <td>526.295</td>\n      <td>512.721</td>\n      <td>505.959</td>\n      <td>513.565</td>\n      <td>519.753</td>\n      <td>513.300</td>\n      <td>...</td>\n      <td>430.840</td>\n      <td>441.204</td>\n      <td>454.788</td>\n      <td>457.388</td>\n      <td>456.819</td>\n      <td>453.230</td>\n      <td>452.488</td>\n      <td>469.780</td>\n      <td>475.871</td>\n      <td>463.145</td>\n    </tr>\n    <tr>\n      <th>9</th>\n      <td>District of Columbia</td>\n      <td>260.788</td>\n      <td>271.213</td>\n      <td>250.540</td>\n      <td>204.934</td>\n      <td>170.589</td>\n      <td>156.700</td>\n      <td>146.386</td>\n      <td>134.366</td>\n      <td>118.025</td>\n      <td>...</td>\n      <td>236.596</td>\n      <td>268.180</td>\n      <td>311.656</td>\n      <td>345.814</td>\n      <td>375.056</td>\n      <td>399.219</td>\n      <td>328.436</td>\n      <td>265.752</td>\n      <td>190.406</td>\n      <td>185.314</td>\n    </tr>\n    <tr>\n      <th>10</th>\n      <td>Florida</td>\n      <td>5195.526</td>\n      <td>5403.216</td>\n      <td>5898.138</td>\n      <td>5818.295</td>\n      <td>6009.202</td>\n      <td>6195.618</td>\n      <td>6577.918</td>\n      <td>6971.777</td>\n      <td>7220.134</td>\n      <td>...</td>\n      <td>6800.135</td>\n      <td>6980.372</td>\n      <td>6497.956</td>\n      <td>5894.055</td>\n      <td>5299.234</td>\n      <td>4720.854</td>\n      <td>4945.164</td>\n      <td>5383.076</td>\n      <td>5713.577</td>\n      <td>5560.779</td>\n    </tr>\n    <tr>\n      <th>11</th>\n      <td>Georgia</td>\n      <td>2638.394</td>\n      <td>2743.863</td>\n      <td>3025.591</td>\n      <td>3012.826</td>\n      <td>3139.108</td>\n      <td>3206.523</td>\n      <td>3373.164</td>\n      <td>3542.664</td>\n      <td>3635.857</td>\n      <td>...</td>\n      <td>2322.695</td>\n      <td>2223.712</td>\n      <td>2169.372</td>\n      <td>2068.880</td>\n      <td>1962.846</td>\n      <td>1852.901</td>\n      <td>1952.677</td>\n      <td>2137.594</td>\n      <td>2280.820</td>\n      <td>2219.825</td>\n    </tr>\n    <tr>\n      <th>12</th>\n      <td>Hawaii</td>\n      <td>750.743</td>\n      <td>780.754</td>\n      <td>735.268</td>\n      <td>616.797</td>\n      <td>531.462</td>\n      <td>507.947</td>\n      <td>497.616</td>\n      <td>484.065</td>\n      <td>457.245</td>\n      <td>...</td>\n      <td>328.306</td>\n      <td>333.678</td>\n      <td>323.261</td>\n      <td>306.088</td>\n      <td>288.276</td>\n      <td>270.085</td>\n      <td>283.604</td>\n      <td>309.420</td>\n      <td>329.118</td>\n      <td>320.316</td>\n    </tr>\n    <tr>\n      <th>13</th>\n      <td>Idaho</td>\n      <td>494.869</td>\n      <td>514.652</td>\n      <td>557.386</td>\n      <td>545.753</td>\n      <td>559.684</td>\n      <td>554.688</td>\n      <td>565.624</td>\n      <td>575.264</td>\n      <td>571.129</td>\n      <td>...</td>\n      <td>522.122</td>\n      <td>540.486</td>\n      <td>520.648</td>\n      <td>490.090</td>\n      <td>458.747</td>\n      <td>427.065</td>\n      <td>413.655</td>\n      <td>415.827</td>\n      <td>406.938</td>\n      <td>396.055</td>\n    </tr>\n    <tr>\n      <th>14</th>\n      <td>Illinois</td>\n      <td>4545.670</td>\n      <td>4727.383</td>\n      <td>4757.014</td>\n      <td>4318.482</td>\n      <td>4096.195</td>\n      <td>4293.389</td>\n      <td>4631.364</td>\n      <td>4984.656</td>\n      <td>5239.467</td>\n      <td>...</td>\n      <td>4427.841</td>\n      <td>4445.221</td>\n      <td>4382.575</td>\n      <td>4224.222</td>\n      <td>4050.886</td>\n      <td>3865.497</td>\n      <td>4384.800</td>\n      <td>5116.264</td>\n      <td>5773.165</td>\n      <td>5618.773</td>\n    </tr>\n    <tr>\n      <th>15</th>\n      <td>Indiana</td>\n      <td>1676.358</td>\n      <td>1743.371</td>\n      <td>1793.784</td>\n      <td>1668.151</td>\n      <td>1624.285</td>\n      <td>1620.599</td>\n      <td>1664.266</td>\n      <td>1705.320</td>\n      <td>1706.506</td>\n      <td>...</td>\n      <td>1829.463</td>\n      <td>1929.050</td>\n      <td>1865.609</td>\n      <td>1763.355</td>\n      <td>1657.677</td>\n      <td>1550.106</td>\n      <td>1492.909</td>\n      <td>1491.321</td>\n      <td>1449.245</td>\n      <td>1410.488</td>\n    </tr>\n    <tr>\n      <th>16</th>\n      <td>Iowa</td>\n      <td>1525.831</td>\n      <td>1586.826</td>\n      <td>1684.111</td>\n      <td>1616.734</td>\n      <td>1626.412</td>\n      <td>1623.230</td>\n      <td>1667.515</td>\n      <td>1709.238</td>\n      <td>1711.046</td>\n      <td>...</td>\n      <td>1191.682</td>\n      <td>1175.225</td>\n      <td>1176.380</td>\n      <td>1150.904</td>\n      <td>1119.962</td>\n      <td>1084.201</td>\n      <td>1143.817</td>\n      <td>1253.388</td>\n      <td>1338.615</td>\n      <td>1302.817</td>\n    </tr>\n    <tr>\n      <th>17</th>\n      <td>Kansas</td>\n      <td>1124.774</td>\n      <td>1169.736</td>\n      <td>1397.243</td>\n      <td>1489.962</td>\n      <td>1647.454</td>\n      <td>1602.801</td>\n      <td>1601.941</td>\n      <td>1594.093</td>\n      <td>1545.398</td>\n      <td>...</td>\n      <td>1108.141</td>\n      <td>1113.756</td>\n      <td>1050.292</td>\n      <td>966.431</td>\n      <td>882.871</td>\n      <td>800.691</td>\n      <td>841.455</td>\n      <td>918.748</td>\n      <td>977.932</td>\n      <td>951.780</td>\n    </tr>\n    <tr>\n      <th>18</th>\n      <td>Kentucky</td>\n      <td>1623.588</td>\n      <td>1688.491</td>\n      <td>1729.360</td>\n      <td>1600.409</td>\n      <td>1550.244</td>\n      <td>1598.449</td>\n      <td>1697.200</td>\n      <td>1798.945</td>\n      <td>1863.155</td>\n      <td>...</td>\n      <td>1344.433</td>\n      <td>1316.759</td>\n      <td>1409.420</td>\n      <td>1465.391</td>\n      <td>1507.480</td>\n      <td>1535.755</td>\n      <td>1533.258</td>\n      <td>1591.870</td>\n      <td>1612.530</td>\n      <td>1569.406</td>\n    </tr>\n    <tr>\n      <th>19</th>\n      <td>Louisiana</td>\n      <td>1475.718</td>\n      <td>1534.710</td>\n      <td>1592.727</td>\n      <td>1494.594</td>\n      <td>1469.139</td>\n      <td>1453.688</td>\n      <td>1479.812</td>\n      <td>1502.288</td>\n      <td>1488.583</td>\n      <td>...</td>\n      <td>2442.878</td>\n      <td>2687.122</td>\n      <td>2369.015</td>\n      <td>2014.071</td>\n      <td>1673.864</td>\n      <td>1352.180</td>\n      <td>1322.390</td>\n      <td>1343.340</td>\n      <td>1329.774</td>\n      <td>1294.212</td>\n    </tr>\n    <tr>\n      <th>20</th>\n      <td>Maine</td>\n      <td>304.718</td>\n      <td>316.899</td>\n      <td>359.808</td>\n      <td>367.813</td>\n      <td>392.408</td>\n      <td>391.919</td>\n      <td>402.911</td>\n      <td>413.315</td>\n      <td>414.091</td>\n      <td>...</td>\n      <td>274.916</td>\n      <td>268.398</td>\n      <td>295.328</td>\n      <td>314.177</td>\n      <td>329.512</td>\n      <td>341.292</td>\n      <td>339.550</td>\n      <td>351.257</td>\n      <td>354.483</td>\n      <td>345.003</td>\n    </tr>\n    <tr>\n      <th>21</th>\n      <td>Maryland</td>\n      <td>1278.434</td>\n      <td>1329.539</td>\n      <td>1374.602</td>\n      <td>1284.837</td>\n      <td>1257.768</td>\n      <td>1307.950</td>\n      <td>1400.288</td>\n      <td>1496.228</td>\n      <td>1561.826</td>\n      <td>...</td>\n      <td>1589.236</td>\n      <td>1646.119</td>\n      <td>1561.926</td>\n      <td>1446.867</td>\n      <td>1331.439</td>\n      <td>1217.164</td>\n      <td>1288.629</td>\n      <td>1416.679</td>\n      <td>1517.581</td>\n      <td>1476.996</td>\n    </tr>\n    <tr>\n      <th>22</th>\n      <td>Massachusetts</td>\n      <td>2319.435</td>\n      <td>2412.154</td>\n      <td>2841.365</td>\n      <td>2996.065</td>\n      <td>3282.290</td>\n      <td>3367.755</td>\n      <td>3558.521</td>\n      <td>3753.865</td>\n      <td>3869.571</td>\n      <td>...</td>\n      <td>1584.567</td>\n      <td>1314.026</td>\n      <td>1293.493</td>\n      <td>1244.821</td>\n      <td>1191.890</td>\n      <td>1135.582</td>\n      <td>1300.843</td>\n      <td>1529.842</td>\n      <td>1737.443</td>\n      <td>1690.978</td>\n    </tr>\n    <tr>\n      <th>23</th>\n      <td>Michigan</td>\n      <td>2119.296</td>\n      <td>2204.015</td>\n      <td>2215.220</td>\n      <td>2008.381</td>\n      <td>1902.227</td>\n      <td>1891.125</td>\n      <td>1934.776</td>\n      <td>1974.648</td>\n      <td>1967.761</td>\n      <td>...</td>\n      <td>1533.872</td>\n      <td>1547.096</td>\n      <td>1446.257</td>\n      <td>1318.037</td>\n      <td>1191.313</td>\n      <td>1067.672</td>\n      <td>1129.259</td>\n      <td>1240.359</td>\n      <td>1327.600</td>\n      <td>1292.096</td>\n    </tr>\n    <tr>\n      <th>24</th>\n      <td>Minnesota</td>\n      <td>2724.718</td>\n      <td>2833.638</td>\n      <td>2893.207</td>\n      <td>2668.557</td>\n      <td>2575.665</td>\n      <td>2560.617</td>\n      <td>2619.705</td>\n      <td>2673.675</td>\n      <td>2664.331</td>\n      <td>...</td>\n      <td>2138.881</td>\n      <td>2168.001</td>\n      <td>2152.538</td>\n      <td>2089.266</td>\n      <td>2017.406</td>\n      <td>1938.276</td>\n      <td>2113.506</td>\n      <td>2385.664</td>\n      <td>2617.038</td>\n      <td>2547.051</td>\n    </tr>\n    <tr>\n      <th>25</th>\n      <td>Mississippi</td>\n      <td>910.125</td>\n      <td>946.507</td>\n      <td>1086.037</td>\n      <td>1120.336</td>\n      <td>1204.767</td>\n      <td>1177.391</td>\n      <td>1182.588</td>\n      <td>1183.233</td>\n      <td>1154.061</td>\n      <td>...</td>\n      <td>831.577</td>\n      <td>834.397</td>\n      <td>844.759</td>\n      <td>835.498</td>\n      <td>821.545</td>\n      <td>803.293</td>\n      <td>769.228</td>\n      <td>763.490</td>\n      <td>736.594</td>\n      <td>716.895</td>\n    </tr>\n    <tr>\n      <th>26</th>\n      <td>Missouri</td>\n      <td>1481.689</td>\n      <td>1540.919</td>\n      <td>1767.736</td>\n      <td>1823.266</td>\n      <td>1960.393</td>\n      <td>1989.074</td>\n      <td>2078.333</td>\n      <td>2167.955</td>\n      <td>2209.788</td>\n      <td>...</td>\n      <td>1794.424</td>\n      <td>1807.760</td>\n      <td>1685.028</td>\n      <td>1530.669</td>\n      <td>1378.474</td>\n      <td>1230.335</td>\n      <td>1131.605</td>\n      <td>1071.094</td>\n      <td>976.320</td>\n      <td>950.210</td>\n    </tr>\n    <tr>\n      <th>27</th>\n      <td>Montana</td>\n      <td>499.154</td>\n      <td>519.107</td>\n      <td>549.315</td>\n      <td>525.794</td>\n      <td>527.398</td>\n      <td>532.237</td>\n      <td>553.074</td>\n      <td>573.704</td>\n      <td>581.449</td>\n      <td>...</td>\n      <td>558.317</td>\n      <td>578.350</td>\n      <td>568.058</td>\n      <td>545.474</td>\n      <td>521.122</td>\n      <td>495.400</td>\n      <td>433.291</td>\n      <td>384.088</td>\n      <td>320.198</td>\n      <td>311.635</td>\n    </tr>\n    <tr>\n      <th>28</th>\n      <td>Nebraska</td>\n      <td>896.765</td>\n      <td>932.613</td>\n      <td>987.685</td>\n      <td>946.163</td>\n      <td>949.820</td>\n      <td>947.209</td>\n      <td>972.241</td>\n      <td>995.698</td>\n      <td>995.836</td>\n      <td>...</td>\n      <td>801.628</td>\n      <td>811.845</td>\n      <td>811.961</td>\n      <td>793.730</td>\n      <td>771.782</td>\n      <td>746.568</td>\n      <td>779.203</td>\n      <td>845.302</td>\n      <td>894.302</td>\n      <td>870.386</td>\n    </tr>\n    <tr>\n      <th>29</th>\n      <td>Nevada</td>\n      <td>826.583</td>\n      <td>859.626</td>\n      <td>975.515</td>\n      <td>996.765</td>\n      <td>1062.990</td>\n      <td>1076.821</td>\n      <td>1123.322</td>\n      <td>1169.836</td>\n      <td>1190.421</td>\n      <td>...</td>\n      <td>1063.769</td>\n      <td>1089.071</td>\n      <td>1017.255</td>\n      <td>926.226</td>\n      <td>836.320</td>\n      <td>748.662</td>\n      <td>701.469</td>\n      <td>678.961</td>\n      <td>636.118</td>\n      <td>619.106</td>\n    </tr>\n    <tr>\n      <th>30</th>\n      <td>New Hampshire</td>\n      <td>271.684</td>\n      <td>282.545</td>\n      <td>277.537</td>\n      <td>245.132</td>\n      <td>225.305</td>\n      <td>236.973</td>\n      <td>256.469</td>\n      <td>276.894</td>\n      <td>291.912</td>\n      <td>...</td>\n      <td>257.622</td>\n      <td>260.325</td>\n      <td>275.971</td>\n      <td>284.564</td>\n      <td>290.639</td>\n      <td>294.229</td>\n      <td>275.774</td>\n      <td>267.030</td>\n      <td>250.299</td>\n      <td>243.605</td>\n    </tr>\n    <tr>\n      <th>31</th>\n      <td>New Jersey</td>\n      <td>3314.228</td>\n      <td>3446.714</td>\n      <td>3513.824</td>\n      <td>3235.682</td>\n      <td>3117.533</td>\n      <td>3070.117</td>\n      <td>3109.411</td>\n      <td>3139.413</td>\n      <td>3092.490</td>\n      <td>...</td>\n      <td>2209.205</td>\n      <td>2204.159</td>\n      <td>2339.425</td>\n      <td>2414.761</td>\n      <td>2468.544</td>\n      <td>2501.032</td>\n      <td>2504.972</td>\n      <td>2609.320</td>\n      <td>2652.181</td>\n      <td>2581.254</td>\n    </tr>\n    <tr>\n      <th>32</th>\n      <td>New Mexico</td>\n      <td>1079.946</td>\n      <td>1123.117</td>\n      <td>989.796</td>\n      <td>757.327</td>\n      <td>569.052</td>\n      <td>595.804</td>\n      <td>642.048</td>\n      <td>690.351</td>\n      <td>724.966</td>\n      <td>...</td>\n      <td>898.674</td>\n      <td>952.950</td>\n      <td>865.723</td>\n      <td>763.513</td>\n      <td>664.358</td>\n      <td>569.415</td>\n      <td>529.892</td>\n      <td>508.741</td>\n      <td>471.979</td>\n      <td>459.357</td>\n    </tr>\n    <tr>\n      <th>33</th>\n      <td>New York</td>\n      <td>6106.664</td>\n      <td>6350.777</td>\n      <td>7034.823</td>\n      <td>7034.504</td>\n      <td>7357.651</td>\n      <td>7240.305</td>\n      <td>7327.041</td>\n      <td>7391.269</td>\n      <td>7273.894</td>\n      <td>...</td>\n      <td>5889.444</td>\n      <td>6004.877</td>\n      <td>5847.632</td>\n      <td>5566.547</td>\n      <td>5271.388</td>\n      <td>4966.634</td>\n      <td>5257.216</td>\n      <td>5778.580</td>\n      <td>6189.119</td>\n      <td>6023.604</td>\n    </tr>\n    <tr>\n      <th>34</th>\n      <td>North Carolina</td>\n      <td>1927.611</td>\n      <td>2004.667</td>\n      <td>2347.716</td>\n      <td>2463.802</td>\n      <td>2688.496</td>\n      <td>2744.780</td>\n      <td>2885.896</td>\n      <td>3029.306</td>\n      <td>3107.348</td>\n      <td>...</td>\n      <td>2052.929</td>\n      <td>1981.066</td>\n      <td>2095.076</td>\n      <td>2155.789</td>\n      <td>2197.773</td>\n      <td>2221.315</td>\n      <td>2268.849</td>\n      <td>2410.450</td>\n      <td>2499.197</td>\n      <td>2432.361</td>\n    </tr>\n    <tr>\n      <th>35</th>\n      <td>North Dakota</td>\n      <td>315.124</td>\n      <td>327.721</td>\n      <td>331.617</td>\n      <td>302.899</td>\n      <td>289.266</td>\n      <td>306.430</td>\n      <td>333.871</td>\n      <td>362.737</td>\n      <td>384.680</td>\n      <td>...</td>\n      <td>419.819</td>\n      <td>437.266</td>\n      <td>554.885</td>\n      <td>653.805</td>\n      <td>740.742</td>\n      <td>815.093</td>\n      <td>878.900</td>\n      <td>982.371</td>\n      <td>1068.297</td>\n      <td>1039.728</td>\n    </tr>\n    <tr>\n      <th>36</th>\n      <td>Ohio</td>\n      <td>3382.502</td>\n      <td>3517.717</td>\n      <td>3507.711</td>\n      <td>3152.097</td>\n      <td>2955.754</td>\n      <td>3051.038</td>\n      <td>3243.044</td>\n      <td>3441.115</td>\n      <td>3567.655</td>\n      <td>...</td>\n      <td>2744.689</td>\n      <td>2721.420</td>\n      <td>2755.294</td>\n      <td>2725.158</td>\n      <td>2679.717</td>\n      <td>2620.245</td>\n      <td>2748.724</td>\n      <td>2996.201</td>\n      <td>3184.220</td>\n      <td>3099.065</td>\n    </tr>\n    <tr>\n      <th>37</th>\n      <td>Oklahoma</td>\n      <td>948.324</td>\n      <td>986.233</td>\n      <td>1077.356</td>\n      <td>1063.501</td>\n      <td>1099.105</td>\n      <td>1155.673</td>\n      <td>1250.394</td>\n      <td>1349.612</td>\n      <td>1422.443</td>\n      <td>...</td>\n      <td>1389.157</td>\n      <td>1426.608</td>\n      <td>1397.350</td>\n      <td>1338.064</td>\n      <td>1274.746</td>\n      <td>1208.402</td>\n      <td>1240.988</td>\n      <td>1325.492</td>\n      <td>1381.512</td>\n      <td>1344.567</td>\n    </tr>\n    <tr>\n      <th>38</th>\n      <td>Oregon</td>\n      <td>1059.030</td>\n      <td>1101.364</td>\n      <td>1143.448</td>\n      <td>1073.435</td>\n      <td>1055.601</td>\n      <td>1019.459</td>\n      <td>1010.600</td>\n      <td>996.463</td>\n      <td>956.079</td>\n      <td>...</td>\n      <td>881.217</td>\n      <td>923.047</td>\n      <td>870.013</td>\n      <td>800.107</td>\n      <td>730.489</td>\n      <td>662.053</td>\n      <td>699.116</td>\n      <td>766.756</td>\n      <td>819.556</td>\n      <td>797.639</td>\n    </tr>\n    <tr>\n      <th>39</th>\n      <td>Pennsylvania</td>\n      <td>2562.041</td>\n      <td>2664.458</td>\n      <td>2757.002</td>\n      <td>2579.152</td>\n      <td>2527.064</td>\n      <td>2796.163</td>\n      <td>3167.371</td>\n      <td>3563.668</td>\n      <td>3900.682</td>\n      <td>...</td>\n      <td>5123.444</td>\n      <td>5423.416</td>\n      <td>5351.585</td>\n      <td>5162.641</td>\n      <td>4955.026</td>\n      <td>4732.282</td>\n      <td>4973.926</td>\n      <td>5431.552</td>\n      <td>5782.177</td>\n      <td>5627.545</td>\n    </tr>\n    <tr>\n      <th>40</th>\n      <td>Rhode Island</td>\n      <td>446.339</td>\n      <td>464.181</td>\n      <td>455.740</td>\n      <td>402.306</td>\n      <td>369.524</td>\n      <td>366.184</td>\n      <td>373.358</td>\n      <td>379.673</td>\n      <td>376.892</td>\n      <td>...</td>\n      <td>128.112</td>\n      <td>101.135</td>\n      <td>133.891</td>\n      <td>161.907</td>\n      <td>186.679</td>\n      <td>208.029</td>\n      <td>206.483</td>\n      <td>213.080</td>\n      <td>214.488</td>\n      <td>208.752</td>\n    </tr>\n    <tr>\n      <th>41</th>\n      <td>South Carolina</td>\n      <td>1073.820</td>\n      <td>1116.746</td>\n      <td>1027.164</td>\n      <td>835.299</td>\n      <td>689.576</td>\n      <td>826.304</td>\n      <td>997.445</td>\n      <td>1182.146</td>\n      <td>1351.303</td>\n      <td>...</td>\n      <td>765.683</td>\n      <td>671.898</td>\n      <td>661.250</td>\n      <td>636.223</td>\n      <td>609.033</td>\n      <td>580.128</td>\n      <td>673.627</td>\n      <td>800.694</td>\n      <td>917.191</td>\n      <td>892.663</td>\n    </tr>\n    <tr>\n      <th>42</th>\n      <td>South Dakota</td>\n      <td>412.038</td>\n      <td>428.510</td>\n      <td>447.222</td>\n      <td>422.119</td>\n      <td>417.437</td>\n      <td>436.531</td>\n      <td>469.869</td>\n      <td>504.661</td>\n      <td>529.407</td>\n      <td>...</td>\n      <td>460.930</td>\n      <td>465.424</td>\n      <td>495.822</td>\n      <td>513.427</td>\n      <td>526.325</td>\n      <td>534.558</td>\n      <td>536.445</td>\n      <td>559.909</td>\n      <td>570.272</td>\n      <td>555.021</td>\n    </tr>\n    <tr>\n      <th>43</th>\n      <td>Tennessee</td>\n      <td>1941.633</td>\n      <td>2019.250</td>\n      <td>2121.557</td>\n      <td>2016.178</td>\n      <td>2007.754</td>\n      <td>1972.292</td>\n      <td>1992.163</td>\n      <td>2005.528</td>\n      <td>1969.303</td>\n      <td>...</td>\n      <td>1744.406</td>\n      <td>1804.050</td>\n      <td>1678.370</td>\n      <td>1521.368</td>\n      <td>1366.798</td>\n      <td>1216.568</td>\n      <td>1158.859</td>\n      <td>1143.370</td>\n      <td>1095.594</td>\n      <td>1066.295</td>\n    </tr>\n    <tr>\n      <th>44</th>\n      <td>Texas</td>\n      <td>6075.925</td>\n      <td>6318.809</td>\n      <td>6686.599</td>\n      <td>6400.385</td>\n      <td>6420.004</td>\n      <td>6550.847</td>\n      <td>6883.897</td>\n      <td>7222.049</td>\n      <td>7404.071</td>\n      <td>...</td>\n      <td>6797.626</td>\n      <td>6971.960</td>\n      <td>7219.003</td>\n      <td>7290.041</td>\n      <td>7308.261</td>\n      <td>7275.775</td>\n      <td>7380.175</td>\n      <td>7786.987</td>\n      <td>8018.635</td>\n      <td>7804.194</td>\n    </tr>\n    <tr>\n      <th>45</th>\n      <td>Utah</td>\n      <td>631.275</td>\n      <td>656.511</td>\n      <td>700.855</td>\n      <td>676.722</td>\n      <td>684.678</td>\n      <td>732.351</td>\n      <td>805.078</td>\n      <td>881.926</td>\n      <td>942.459</td>\n      <td>...</td>\n      <td>1110.225</td>\n      <td>1165.747</td>\n      <td>1064.650</td>\n      <td>944.805</td>\n      <td>828.219</td>\n      <td>716.270</td>\n      <td>649.118</td>\n      <td>603.141</td>\n      <td>536.832</td>\n      <td>522.475</td>\n    </tr>\n    <tr>\n      <th>46</th>\n      <td>Vermont</td>\n      <td>198.994</td>\n      <td>206.949</td>\n      <td>203.089</td>\n      <td>179.179</td>\n      <td>164.472</td>\n      <td>173.557</td>\n      <td>188.416</td>\n      <td>204.013</td>\n      <td>215.668</td>\n      <td>...</td>\n      <td>189.717</td>\n      <td>191.439</td>\n      <td>194.827</td>\n      <td>193.636</td>\n      <td>191.284</td>\n      <td>187.852</td>\n      <td>197.937</td>\n      <td>216.652</td>\n      <td>231.138</td>\n      <td>224.957</td>\n    </tr>\n    <tr>\n      <th>47</th>\n      <td>Virginia</td>\n      <td>1890.369</td>\n      <td>1965.936</td>\n      <td>2252.877</td>\n      <td>2321.498</td>\n      <td>2494.097</td>\n      <td>2535.686</td>\n      <td>2654.874</td>\n      <td>2775.064</td>\n      <td>2834.506</td>\n      <td>...</td>\n      <td>1586.133</td>\n      <td>1472.240</td>\n      <td>1566.508</td>\n      <td>1620.451</td>\n      <td>1659.666</td>\n      <td>1684.297</td>\n      <td>1737.732</td>\n      <td>1864.423</td>\n      <td>1951.731</td>\n      <td>1899.536</td>\n    </tr>\n    <tr>\n      <th>48</th>\n      <td>Washington</td>\n      <td>1763.471</td>\n      <td>1833.966</td>\n      <td>2227.757</td>\n      <td>2407.032</td>\n      <td>2689.758</td>\n      <td>2649.432</td>\n      <td>2683.978</td>\n      <td>2710.570</td>\n      <td>2670.797</td>\n      <td>...</td>\n      <td>2821.341</td>\n      <td>2981.812</td>\n      <td>2838.397</td>\n      <td>2638.387</td>\n      <td>2436.936</td>\n      <td>2236.737</td>\n      <td>2143.713</td>\n      <td>2129.768</td>\n      <td>2056.982</td>\n      <td>2001.973</td>\n    </tr>\n    <tr>\n      <th>49</th>\n      <td>West Virginia</td>\n      <td>737.343</td>\n      <td>766.818</td>\n      <td>839.325</td>\n      <td>830.067</td>\n      <td>859.349</td>\n      <td>862.913</td>\n      <td>892.099</td>\n      <td>920.489</td>\n      <td>927.840</td>\n      <td>...</td>\n      <td>837.802</td>\n      <td>861.635</td>\n      <td>809.800</td>\n      <td>742.390</td>\n      <td>675.446</td>\n      <td>609.822</td>\n      <td>577.837</td>\n      <td>566.676</td>\n      <td>539.209</td>\n      <td>524.789</td>\n    </tr>\n    <tr>\n      <th>50</th>\n      <td>Wisconsin</td>\n      <td>2287.867</td>\n      <td>2379.324</td>\n      <td>2409.446</td>\n      <td>2202.630</td>\n      <td>2105.430</td>\n      <td>2214.122</td>\n      <td>2395.934</td>\n      <td>2586.398</td>\n      <td>2726.315</td>\n      <td>...</td>\n      <td>2148.340</td>\n      <td>2127.112</td>\n      <td>2068.524</td>\n      <td>1966.285</td>\n      <td>1859.306</td>\n      <td>1749.193</td>\n      <td>1593.825</td>\n      <td>1491.126</td>\n      <td>1339.117</td>\n      <td>1303.306</td>\n    </tr>\n    <tr>\n      <th>51</th>\n      <td>Wyoming</td>\n      <td>456.048</td>\n      <td>474.279</td>\n      <td>488.367</td>\n      <td>454.529</td>\n      <td>442.956</td>\n      <td>447.393</td>\n      <td>465.307</td>\n      <td>483.087</td>\n      <td>490.048</td>\n      <td>...</td>\n      <td>456.652</td>\n      <td>470.898</td>\n      <td>440.013</td>\n      <td>400.809</td>\n      <td>362.076</td>\n      <td>324.300</td>\n      <td>319.368</td>\n      <td>326.851</td>\n      <td>326.145</td>\n      <td>317.423</td>\n    </tr>\n  </tbody>\n</table>\n<p>51 rows × 27 columns</p>\n</div>"
     },
     "metadata": {},
     "execution_count": 135
    }
   ],
   "source": [
    "state_infra"
   ]
  },
  {
   "cell_type": "code",
   "execution_count": 136,
   "metadata": {},
   "outputs": [
    {
     "output_type": "display_data",
     "data": {
      "application/vnd.plotly.v1+json": {
       "config": {
        "plotlyServerURL": "https://plot.ly"
       },
       "data": [
        {
         "labels": [
          "Alabama",
          "Alaska",
          "Arizona",
          "Arkansas",
          "California",
          "Colorado",
          "Connecticut",
          "Delaware",
          "District of Columbia",
          "Florida",
          "Georgia",
          "Hawaii",
          "Idaho",
          "Illinois",
          "Indiana",
          "Iowa",
          "Kansas",
          "Kentucky",
          "Louisiana",
          "Maine",
          "Maryland",
          "Massachusetts",
          "Michigan",
          "Minnesota",
          "Mississippi",
          "Missouri",
          "Montana",
          "Nebraska",
          "Nevada",
          "New Hampshire",
          "New Jersey",
          "New Mexico",
          "New York",
          "North Carolina",
          "North Dakota",
          "Ohio",
          "Oklahoma",
          "Oregon",
          "Pennsylvania",
          "Rhode Island",
          "South Carolina",
          "South Dakota",
          "Tennessee",
          "Texas",
          "Utah",
          "Vermont",
          "Virginia",
          "Washington",
          "West Virginia",
          "Wisconsin",
          "Wyoming"
         ],
         "parents": [
          "",
          "",
          "",
          "",
          "",
          "",
          "",
          "",
          "",
          "",
          "",
          "",
          "",
          "",
          "",
          "",
          "",
          "",
          "",
          "",
          "",
          "",
          "",
          "",
          "",
          "",
          "",
          "",
          "",
          "",
          "",
          "",
          "",
          "",
          "",
          "",
          "",
          "",
          "",
          "",
          "",
          "",
          "",
          "",
          "",
          "",
          "",
          "",
          "",
          "",
          ""
         ],
         "type": "treemap",
         "values": [
          1328.224,
          663.753,
          1334.245,
          818.852,
          6242.776,
          1164.647,
          1470.46,
          528.381,
          260.788,
          5195.526,
          2638.394,
          750.743,
          494.869,
          4545.67,
          1676.358,
          1525.831,
          1124.774,
          1623.588,
          1475.718,
          304.718,
          1278.434,
          2319.435,
          2119.296,
          2724.718,
          910.125,
          1481.689,
          499.154,
          896.765,
          826.583,
          271.684,
          3314.228,
          1079.946,
          6106.664,
          1927.611,
          315.124,
          3382.502,
          948.324,
          1059.03,
          2562.041,
          446.339,
          1073.82,
          412.038,
          1941.633,
          6075.925,
          631.275,
          198.994,
          1890.369,
          1763.471,
          737.343,
          2287.867,
          456.048
         ]
        }
       ],
       "layout": {
        "template": {
         "data": {
          "bar": [
           {
            "error_x": {
             "color": "#2a3f5f"
            },
            "error_y": {
             "color": "#2a3f5f"
            },
            "marker": {
             "line": {
              "color": "#E5ECF6",
              "width": 0.5
             }
            },
            "type": "bar"
           }
          ],
          "barpolar": [
           {
            "marker": {
             "line": {
              "color": "#E5ECF6",
              "width": 0.5
             }
            },
            "type": "barpolar"
           }
          ],
          "carpet": [
           {
            "aaxis": {
             "endlinecolor": "#2a3f5f",
             "gridcolor": "white",
             "linecolor": "white",
             "minorgridcolor": "white",
             "startlinecolor": "#2a3f5f"
            },
            "baxis": {
             "endlinecolor": "#2a3f5f",
             "gridcolor": "white",
             "linecolor": "white",
             "minorgridcolor": "white",
             "startlinecolor": "#2a3f5f"
            },
            "type": "carpet"
           }
          ],
          "choropleth": [
           {
            "colorbar": {
             "outlinewidth": 0,
             "ticks": ""
            },
            "type": "choropleth"
           }
          ],
          "contour": [
           {
            "colorbar": {
             "outlinewidth": 0,
             "ticks": ""
            },
            "colorscale": [
             [
              0,
              "#0d0887"
             ],
             [
              0.1111111111111111,
              "#46039f"
             ],
             [
              0.2222222222222222,
              "#7201a8"
             ],
             [
              0.3333333333333333,
              "#9c179e"
             ],
             [
              0.4444444444444444,
              "#bd3786"
             ],
             [
              0.5555555555555556,
              "#d8576b"
             ],
             [
              0.6666666666666666,
              "#ed7953"
             ],
             [
              0.7777777777777778,
              "#fb9f3a"
             ],
             [
              0.8888888888888888,
              "#fdca26"
             ],
             [
              1,
              "#f0f921"
             ]
            ],
            "type": "contour"
           }
          ],
          "contourcarpet": [
           {
            "colorbar": {
             "outlinewidth": 0,
             "ticks": ""
            },
            "type": "contourcarpet"
           }
          ],
          "heatmap": [
           {
            "colorbar": {
             "outlinewidth": 0,
             "ticks": ""
            },
            "colorscale": [
             [
              0,
              "#0d0887"
             ],
             [
              0.1111111111111111,
              "#46039f"
             ],
             [
              0.2222222222222222,
              "#7201a8"
             ],
             [
              0.3333333333333333,
              "#9c179e"
             ],
             [
              0.4444444444444444,
              "#bd3786"
             ],
             [
              0.5555555555555556,
              "#d8576b"
             ],
             [
              0.6666666666666666,
              "#ed7953"
             ],
             [
              0.7777777777777778,
              "#fb9f3a"
             ],
             [
              0.8888888888888888,
              "#fdca26"
             ],
             [
              1,
              "#f0f921"
             ]
            ],
            "type": "heatmap"
           }
          ],
          "heatmapgl": [
           {
            "colorbar": {
             "outlinewidth": 0,
             "ticks": ""
            },
            "colorscale": [
             [
              0,
              "#0d0887"
             ],
             [
              0.1111111111111111,
              "#46039f"
             ],
             [
              0.2222222222222222,
              "#7201a8"
             ],
             [
              0.3333333333333333,
              "#9c179e"
             ],
             [
              0.4444444444444444,
              "#bd3786"
             ],
             [
              0.5555555555555556,
              "#d8576b"
             ],
             [
              0.6666666666666666,
              "#ed7953"
             ],
             [
              0.7777777777777778,
              "#fb9f3a"
             ],
             [
              0.8888888888888888,
              "#fdca26"
             ],
             [
              1,
              "#f0f921"
             ]
            ],
            "type": "heatmapgl"
           }
          ],
          "histogram": [
           {
            "marker": {
             "colorbar": {
              "outlinewidth": 0,
              "ticks": ""
             }
            },
            "type": "histogram"
           }
          ],
          "histogram2d": [
           {
            "colorbar": {
             "outlinewidth": 0,
             "ticks": ""
            },
            "colorscale": [
             [
              0,
              "#0d0887"
             ],
             [
              0.1111111111111111,
              "#46039f"
             ],
             [
              0.2222222222222222,
              "#7201a8"
             ],
             [
              0.3333333333333333,
              "#9c179e"
             ],
             [
              0.4444444444444444,
              "#bd3786"
             ],
             [
              0.5555555555555556,
              "#d8576b"
             ],
             [
              0.6666666666666666,
              "#ed7953"
             ],
             [
              0.7777777777777778,
              "#fb9f3a"
             ],
             [
              0.8888888888888888,
              "#fdca26"
             ],
             [
              1,
              "#f0f921"
             ]
            ],
            "type": "histogram2d"
           }
          ],
          "histogram2dcontour": [
           {
            "colorbar": {
             "outlinewidth": 0,
             "ticks": ""
            },
            "colorscale": [
             [
              0,
              "#0d0887"
             ],
             [
              0.1111111111111111,
              "#46039f"
             ],
             [
              0.2222222222222222,
              "#7201a8"
             ],
             [
              0.3333333333333333,
              "#9c179e"
             ],
             [
              0.4444444444444444,
              "#bd3786"
             ],
             [
              0.5555555555555556,
              "#d8576b"
             ],
             [
              0.6666666666666666,
              "#ed7953"
             ],
             [
              0.7777777777777778,
              "#fb9f3a"
             ],
             [
              0.8888888888888888,
              "#fdca26"
             ],
             [
              1,
              "#f0f921"
             ]
            ],
            "type": "histogram2dcontour"
           }
          ],
          "mesh3d": [
           {
            "colorbar": {
             "outlinewidth": 0,
             "ticks": ""
            },
            "type": "mesh3d"
           }
          ],
          "parcoords": [
           {
            "line": {
             "colorbar": {
              "outlinewidth": 0,
              "ticks": ""
             }
            },
            "type": "parcoords"
           }
          ],
          "pie": [
           {
            "automargin": true,
            "type": "pie"
           }
          ],
          "scatter": [
           {
            "marker": {
             "colorbar": {
              "outlinewidth": 0,
              "ticks": ""
             }
            },
            "type": "scatter"
           }
          ],
          "scatter3d": [
           {
            "line": {
             "colorbar": {
              "outlinewidth": 0,
              "ticks": ""
             }
            },
            "marker": {
             "colorbar": {
              "outlinewidth": 0,
              "ticks": ""
             }
            },
            "type": "scatter3d"
           }
          ],
          "scattercarpet": [
           {
            "marker": {
             "colorbar": {
              "outlinewidth": 0,
              "ticks": ""
             }
            },
            "type": "scattercarpet"
           }
          ],
          "scattergeo": [
           {
            "marker": {
             "colorbar": {
              "outlinewidth": 0,
              "ticks": ""
             }
            },
            "type": "scattergeo"
           }
          ],
          "scattergl": [
           {
            "marker": {
             "colorbar": {
              "outlinewidth": 0,
              "ticks": ""
             }
            },
            "type": "scattergl"
           }
          ],
          "scattermapbox": [
           {
            "marker": {
             "colorbar": {
              "outlinewidth": 0,
              "ticks": ""
             }
            },
            "type": "scattermapbox"
           }
          ],
          "scatterpolar": [
           {
            "marker": {
             "colorbar": {
              "outlinewidth": 0,
              "ticks": ""
             }
            },
            "type": "scatterpolar"
           }
          ],
          "scatterpolargl": [
           {
            "marker": {
             "colorbar": {
              "outlinewidth": 0,
              "ticks": ""
             }
            },
            "type": "scatterpolargl"
           }
          ],
          "scatterternary": [
           {
            "marker": {
             "colorbar": {
              "outlinewidth": 0,
              "ticks": ""
             }
            },
            "type": "scatterternary"
           }
          ],
          "surface": [
           {
            "colorbar": {
             "outlinewidth": 0,
             "ticks": ""
            },
            "colorscale": [
             [
              0,
              "#0d0887"
             ],
             [
              0.1111111111111111,
              "#46039f"
             ],
             [
              0.2222222222222222,
              "#7201a8"
             ],
             [
              0.3333333333333333,
              "#9c179e"
             ],
             [
              0.4444444444444444,
              "#bd3786"
             ],
             [
              0.5555555555555556,
              "#d8576b"
             ],
             [
              0.6666666666666666,
              "#ed7953"
             ],
             [
              0.7777777777777778,
              "#fb9f3a"
             ],
             [
              0.8888888888888888,
              "#fdca26"
             ],
             [
              1,
              "#f0f921"
             ]
            ],
            "type": "surface"
           }
          ],
          "table": [
           {
            "cells": {
             "fill": {
              "color": "#EBF0F8"
             },
             "line": {
              "color": "white"
             }
            },
            "header": {
             "fill": {
              "color": "#C8D4E3"
             },
             "line": {
              "color": "white"
             }
            },
            "type": "table"
           }
          ]
         },
         "layout": {
          "annotationdefaults": {
           "arrowcolor": "#2a3f5f",
           "arrowhead": 0,
           "arrowwidth": 1
          },
          "coloraxis": {
           "colorbar": {
            "outlinewidth": 0,
            "ticks": ""
           }
          },
          "colorscale": {
           "diverging": [
            [
             0,
             "#8e0152"
            ],
            [
             0.1,
             "#c51b7d"
            ],
            [
             0.2,
             "#de77ae"
            ],
            [
             0.3,
             "#f1b6da"
            ],
            [
             0.4,
             "#fde0ef"
            ],
            [
             0.5,
             "#f7f7f7"
            ],
            [
             0.6,
             "#e6f5d0"
            ],
            [
             0.7,
             "#b8e186"
            ],
            [
             0.8,
             "#7fbc41"
            ],
            [
             0.9,
             "#4d9221"
            ],
            [
             1,
             "#276419"
            ]
           ],
           "sequential": [
            [
             0,
             "#0d0887"
            ],
            [
             0.1111111111111111,
             "#46039f"
            ],
            [
             0.2222222222222222,
             "#7201a8"
            ],
            [
             0.3333333333333333,
             "#9c179e"
            ],
            [
             0.4444444444444444,
             "#bd3786"
            ],
            [
             0.5555555555555556,
             "#d8576b"
            ],
            [
             0.6666666666666666,
             "#ed7953"
            ],
            [
             0.7777777777777778,
             "#fb9f3a"
            ],
            [
             0.8888888888888888,
             "#fdca26"
            ],
            [
             1,
             "#f0f921"
            ]
           ],
           "sequentialminus": [
            [
             0,
             "#0d0887"
            ],
            [
             0.1111111111111111,
             "#46039f"
            ],
            [
             0.2222222222222222,
             "#7201a8"
            ],
            [
             0.3333333333333333,
             "#9c179e"
            ],
            [
             0.4444444444444444,
             "#bd3786"
            ],
            [
             0.5555555555555556,
             "#d8576b"
            ],
            [
             0.6666666666666666,
             "#ed7953"
            ],
            [
             0.7777777777777778,
             "#fb9f3a"
            ],
            [
             0.8888888888888888,
             "#fdca26"
            ],
            [
             1,
             "#f0f921"
            ]
           ]
          },
          "colorway": [
           "#636efa",
           "#EF553B",
           "#00cc96",
           "#ab63fa",
           "#FFA15A",
           "#19d3f3",
           "#FF6692",
           "#B6E880",
           "#FF97FF",
           "#FECB52"
          ],
          "font": {
           "color": "#2a3f5f"
          },
          "geo": {
           "bgcolor": "white",
           "lakecolor": "white",
           "landcolor": "#E5ECF6",
           "showlakes": true,
           "showland": true,
           "subunitcolor": "white"
          },
          "hoverlabel": {
           "align": "left"
          },
          "hovermode": "closest",
          "mapbox": {
           "style": "light"
          },
          "paper_bgcolor": "white",
          "plot_bgcolor": "#E5ECF6",
          "polar": {
           "angularaxis": {
            "gridcolor": "white",
            "linecolor": "white",
            "ticks": ""
           },
           "bgcolor": "#E5ECF6",
           "radialaxis": {
            "gridcolor": "white",
            "linecolor": "white",
            "ticks": ""
           }
          },
          "scene": {
           "xaxis": {
            "backgroundcolor": "#E5ECF6",
            "gridcolor": "white",
            "gridwidth": 2,
            "linecolor": "white",
            "showbackground": true,
            "ticks": "",
            "zerolinecolor": "white"
           },
           "yaxis": {
            "backgroundcolor": "#E5ECF6",
            "gridcolor": "white",
            "gridwidth": 2,
            "linecolor": "white",
            "showbackground": true,
            "ticks": "",
            "zerolinecolor": "white"
           },
           "zaxis": {
            "backgroundcolor": "#E5ECF6",
            "gridcolor": "white",
            "gridwidth": 2,
            "linecolor": "white",
            "showbackground": true,
            "ticks": "",
            "zerolinecolor": "white"
           }
          },
          "shapedefaults": {
           "line": {
            "color": "#2a3f5f"
           }
          },
          "ternary": {
           "aaxis": {
            "gridcolor": "white",
            "linecolor": "white",
            "ticks": ""
           },
           "baxis": {
            "gridcolor": "white",
            "linecolor": "white",
            "ticks": ""
           },
           "bgcolor": "#E5ECF6",
           "caxis": {
            "gridcolor": "white",
            "linecolor": "white",
            "ticks": ""
           }
          },
          "title": {
           "x": 0.05
          },
          "xaxis": {
           "automargin": true,
           "gridcolor": "white",
           "linecolor": "white",
           "ticks": "",
           "title": {
            "standoff": 15
           },
           "zerolinecolor": "white",
           "zerolinewidth": 2
          },
          "yaxis": {
           "automargin": true,
           "gridcolor": "white",
           "linecolor": "white",
           "ticks": "",
           "title": {
            "standoff": 15
           },
           "zerolinecolor": "white",
           "zerolinewidth": 2
          }
         }
        }
       }
      },
      "text/html": "<div>\n        \n        \n            <div id=\"58ae68b1-4a83-4ed8-844c-d84a4f5c4494\" class=\"plotly-graph-div\" style=\"height:525px; width:100%;\"></div>\n            <script type=\"text/javascript\">\n                require([\"plotly\"], function(Plotly) {\n                    window.PLOTLYENV=window.PLOTLYENV || {};\n                    \n                if (document.getElementById(\"58ae68b1-4a83-4ed8-844c-d84a4f5c4494\")) {\n                    Plotly.newPlot(\n                        '58ae68b1-4a83-4ed8-844c-d84a4f5c4494',\n                        [{\"labels\": [\"Alabama\", \"Alaska\", \"Arizona\", \"Arkansas\", \"California\", \"Colorado\", \"Connecticut\", \"Delaware\", \"District\\u00a0of\\u00a0Columbia\", \"Florida\", \"Georgia\", \"Hawaii\", \"Idaho\", \"Illinois\", \"Indiana\", \"Iowa\", \"Kansas\", \"Kentucky\", \"Louisiana\", \"Maine\", \"Maryland\", \"Massachusetts\", \"Michigan\", \"Minnesota\", \"Mississippi\", \"Missouri\", \"Montana\", \"Nebraska\", \"Nevada\", \"New\\u00a0Hampshire\", \"New\\u00a0Jersey\", \"New\\u00a0Mexico\", \"New\\u00a0York\", \"North\\u00a0Carolina\", \"North\\u00a0Dakota\", \"Ohio\", \"Oklahoma\", \"Oregon\", \"Pennsylvania\", \"Rhode\\u00a0Island\", \"South\\u00a0Carolina\", \"South\\u00a0Dakota\", \"Tennessee\", \"Texas\", \"Utah\", \"Vermont\", \"Virginia\", \"Washington\", \"West\\u00a0Virginia\", \"Wisconsin\", \"Wyoming\"], \"parents\": [\"\", \"\", \"\", \"\", \"\", \"\", \"\", \"\", \"\", \"\", \"\", \"\", \"\", \"\", \"\", \"\", \"\", \"\", \"\", \"\", \"\", \"\", \"\", \"\", \"\", \"\", \"\", \"\", \"\", \"\", \"\", \"\", \"\", \"\", \"\", \"\", \"\", \"\", \"\", \"\", \"\", \"\", \"\", \"\", \"\", \"\", \"\", \"\", \"\", \"\", \"\"], \"type\": \"treemap\", \"values\": [1328.224, 663.753, 1334.245, 818.852, 6242.776, 1164.647, 1470.46, 528.381, 260.788, 5195.526, 2638.394, 750.743, 494.869, 4545.67, 1676.358, 1525.831, 1124.774, 1623.588, 1475.718, 304.718, 1278.434, 2319.435, 2119.296, 2724.718, 910.125, 1481.689, 499.154, 896.765, 826.583, 271.684, 3314.228, 1079.946, 6106.664, 1927.611, 315.124, 3382.502, 948.324, 1059.03, 2562.041, 446.339, 1073.82, 412.038, 1941.633, 6075.925, 631.275, 198.994, 1890.369, 1763.471, 737.343, 2287.867, 456.048]}],\n                        {\"template\": {\"data\": {\"bar\": [{\"error_x\": {\"color\": \"#2a3f5f\"}, \"error_y\": {\"color\": \"#2a3f5f\"}, \"marker\": {\"line\": {\"color\": \"#E5ECF6\", \"width\": 0.5}}, \"type\": \"bar\"}], \"barpolar\": [{\"marker\": {\"line\": {\"color\": \"#E5ECF6\", \"width\": 0.5}}, \"type\": \"barpolar\"}], \"carpet\": [{\"aaxis\": {\"endlinecolor\": \"#2a3f5f\", \"gridcolor\": \"white\", \"linecolor\": \"white\", \"minorgridcolor\": \"white\", \"startlinecolor\": \"#2a3f5f\"}, \"baxis\": {\"endlinecolor\": \"#2a3f5f\", \"gridcolor\": \"white\", \"linecolor\": \"white\", \"minorgridcolor\": \"white\", \"startlinecolor\": \"#2a3f5f\"}, \"type\": \"carpet\"}], \"choropleth\": [{\"colorbar\": {\"outlinewidth\": 0, \"ticks\": \"\"}, \"type\": \"choropleth\"}], \"contour\": [{\"colorbar\": {\"outlinewidth\": 0, \"ticks\": \"\"}, \"colorscale\": [[0.0, \"#0d0887\"], [0.1111111111111111, \"#46039f\"], [0.2222222222222222, \"#7201a8\"], [0.3333333333333333, \"#9c179e\"], [0.4444444444444444, \"#bd3786\"], [0.5555555555555556, \"#d8576b\"], [0.6666666666666666, \"#ed7953\"], [0.7777777777777778, \"#fb9f3a\"], [0.8888888888888888, \"#fdca26\"], [1.0, \"#f0f921\"]], \"type\": \"contour\"}], \"contourcarpet\": [{\"colorbar\": {\"outlinewidth\": 0, \"ticks\": \"\"}, \"type\": \"contourcarpet\"}], \"heatmap\": [{\"colorbar\": {\"outlinewidth\": 0, \"ticks\": \"\"}, \"colorscale\": [[0.0, \"#0d0887\"], [0.1111111111111111, \"#46039f\"], [0.2222222222222222, \"#7201a8\"], [0.3333333333333333, \"#9c179e\"], [0.4444444444444444, \"#bd3786\"], [0.5555555555555556, \"#d8576b\"], [0.6666666666666666, \"#ed7953\"], [0.7777777777777778, \"#fb9f3a\"], [0.8888888888888888, \"#fdca26\"], [1.0, \"#f0f921\"]], \"type\": \"heatmap\"}], \"heatmapgl\": [{\"colorbar\": {\"outlinewidth\": 0, \"ticks\": \"\"}, \"colorscale\": [[0.0, \"#0d0887\"], [0.1111111111111111, \"#46039f\"], [0.2222222222222222, \"#7201a8\"], [0.3333333333333333, \"#9c179e\"], [0.4444444444444444, \"#bd3786\"], [0.5555555555555556, \"#d8576b\"], [0.6666666666666666, \"#ed7953\"], [0.7777777777777778, \"#fb9f3a\"], [0.8888888888888888, \"#fdca26\"], [1.0, \"#f0f921\"]], \"type\": \"heatmapgl\"}], \"histogram\": [{\"marker\": {\"colorbar\": {\"outlinewidth\": 0, \"ticks\": \"\"}}, \"type\": \"histogram\"}], \"histogram2d\": [{\"colorbar\": {\"outlinewidth\": 0, \"ticks\": \"\"}, \"colorscale\": [[0.0, \"#0d0887\"], [0.1111111111111111, \"#46039f\"], [0.2222222222222222, \"#7201a8\"], [0.3333333333333333, \"#9c179e\"], [0.4444444444444444, \"#bd3786\"], [0.5555555555555556, \"#d8576b\"], [0.6666666666666666, \"#ed7953\"], [0.7777777777777778, \"#fb9f3a\"], [0.8888888888888888, \"#fdca26\"], [1.0, \"#f0f921\"]], \"type\": \"histogram2d\"}], \"histogram2dcontour\": [{\"colorbar\": {\"outlinewidth\": 0, \"ticks\": \"\"}, \"colorscale\": [[0.0, \"#0d0887\"], [0.1111111111111111, \"#46039f\"], [0.2222222222222222, \"#7201a8\"], [0.3333333333333333, \"#9c179e\"], [0.4444444444444444, \"#bd3786\"], [0.5555555555555556, \"#d8576b\"], [0.6666666666666666, \"#ed7953\"], [0.7777777777777778, \"#fb9f3a\"], [0.8888888888888888, \"#fdca26\"], [1.0, \"#f0f921\"]], \"type\": \"histogram2dcontour\"}], \"mesh3d\": [{\"colorbar\": {\"outlinewidth\": 0, \"ticks\": \"\"}, \"type\": \"mesh3d\"}], \"parcoords\": [{\"line\": {\"colorbar\": {\"outlinewidth\": 0, \"ticks\": \"\"}}, \"type\": \"parcoords\"}], \"pie\": [{\"automargin\": true, \"type\": \"pie\"}], \"scatter\": [{\"marker\": {\"colorbar\": {\"outlinewidth\": 0, \"ticks\": \"\"}}, \"type\": \"scatter\"}], \"scatter3d\": [{\"line\": {\"colorbar\": {\"outlinewidth\": 0, \"ticks\": \"\"}}, \"marker\": {\"colorbar\": {\"outlinewidth\": 0, \"ticks\": \"\"}}, \"type\": \"scatter3d\"}], \"scattercarpet\": [{\"marker\": {\"colorbar\": {\"outlinewidth\": 0, \"ticks\": \"\"}}, \"type\": \"scattercarpet\"}], \"scattergeo\": [{\"marker\": {\"colorbar\": {\"outlinewidth\": 0, \"ticks\": \"\"}}, \"type\": \"scattergeo\"}], \"scattergl\": [{\"marker\": {\"colorbar\": {\"outlinewidth\": 0, \"ticks\": \"\"}}, \"type\": \"scattergl\"}], \"scattermapbox\": [{\"marker\": {\"colorbar\": {\"outlinewidth\": 0, \"ticks\": \"\"}}, \"type\": \"scattermapbox\"}], \"scatterpolar\": [{\"marker\": {\"colorbar\": {\"outlinewidth\": 0, \"ticks\": \"\"}}, \"type\": \"scatterpolar\"}], \"scatterpolargl\": [{\"marker\": {\"colorbar\": {\"outlinewidth\": 0, \"ticks\": \"\"}}, \"type\": \"scatterpolargl\"}], \"scatterternary\": [{\"marker\": {\"colorbar\": {\"outlinewidth\": 0, \"ticks\": \"\"}}, \"type\": \"scatterternary\"}], \"surface\": [{\"colorbar\": {\"outlinewidth\": 0, \"ticks\": \"\"}, \"colorscale\": [[0.0, \"#0d0887\"], [0.1111111111111111, \"#46039f\"], [0.2222222222222222, \"#7201a8\"], [0.3333333333333333, \"#9c179e\"], [0.4444444444444444, \"#bd3786\"], [0.5555555555555556, \"#d8576b\"], [0.6666666666666666, \"#ed7953\"], [0.7777777777777778, \"#fb9f3a\"], [0.8888888888888888, \"#fdca26\"], [1.0, \"#f0f921\"]], \"type\": \"surface\"}], \"table\": [{\"cells\": {\"fill\": {\"color\": \"#EBF0F8\"}, \"line\": {\"color\": \"white\"}}, \"header\": {\"fill\": {\"color\": \"#C8D4E3\"}, \"line\": {\"color\": \"white\"}}, \"type\": \"table\"}]}, \"layout\": {\"annotationdefaults\": {\"arrowcolor\": \"#2a3f5f\", \"arrowhead\": 0, \"arrowwidth\": 1}, \"coloraxis\": {\"colorbar\": {\"outlinewidth\": 0, \"ticks\": \"\"}}, \"colorscale\": {\"diverging\": [[0, \"#8e0152\"], [0.1, \"#c51b7d\"], [0.2, \"#de77ae\"], [0.3, \"#f1b6da\"], [0.4, \"#fde0ef\"], [0.5, \"#f7f7f7\"], [0.6, \"#e6f5d0\"], [0.7, \"#b8e186\"], [0.8, \"#7fbc41\"], [0.9, \"#4d9221\"], [1, \"#276419\"]], \"sequential\": [[0.0, \"#0d0887\"], [0.1111111111111111, \"#46039f\"], [0.2222222222222222, \"#7201a8\"], [0.3333333333333333, \"#9c179e\"], [0.4444444444444444, \"#bd3786\"], [0.5555555555555556, \"#d8576b\"], [0.6666666666666666, \"#ed7953\"], [0.7777777777777778, \"#fb9f3a\"], [0.8888888888888888, \"#fdca26\"], [1.0, \"#f0f921\"]], \"sequentialminus\": [[0.0, \"#0d0887\"], [0.1111111111111111, \"#46039f\"], [0.2222222222222222, \"#7201a8\"], [0.3333333333333333, \"#9c179e\"], [0.4444444444444444, \"#bd3786\"], [0.5555555555555556, \"#d8576b\"], [0.6666666666666666, \"#ed7953\"], [0.7777777777777778, \"#fb9f3a\"], [0.8888888888888888, \"#fdca26\"], [1.0, \"#f0f921\"]]}, \"colorway\": [\"#636efa\", \"#EF553B\", \"#00cc96\", \"#ab63fa\", \"#FFA15A\", \"#19d3f3\", \"#FF6692\", \"#B6E880\", \"#FF97FF\", \"#FECB52\"], \"font\": {\"color\": \"#2a3f5f\"}, \"geo\": {\"bgcolor\": \"white\", \"lakecolor\": \"white\", \"landcolor\": \"#E5ECF6\", \"showlakes\": true, \"showland\": true, \"subunitcolor\": \"white\"}, \"hoverlabel\": {\"align\": \"left\"}, \"hovermode\": \"closest\", \"mapbox\": {\"style\": \"light\"}, \"paper_bgcolor\": \"white\", \"plot_bgcolor\": \"#E5ECF6\", \"polar\": {\"angularaxis\": {\"gridcolor\": \"white\", \"linecolor\": \"white\", \"ticks\": \"\"}, \"bgcolor\": \"#E5ECF6\", \"radialaxis\": {\"gridcolor\": \"white\", \"linecolor\": \"white\", \"ticks\": \"\"}}, \"scene\": {\"xaxis\": {\"backgroundcolor\": \"#E5ECF6\", \"gridcolor\": \"white\", \"gridwidth\": 2, \"linecolor\": \"white\", \"showbackground\": true, \"ticks\": \"\", \"zerolinecolor\": \"white\"}, \"yaxis\": {\"backgroundcolor\": \"#E5ECF6\", \"gridcolor\": \"white\", \"gridwidth\": 2, \"linecolor\": \"white\", \"showbackground\": true, \"ticks\": \"\", \"zerolinecolor\": \"white\"}, \"zaxis\": {\"backgroundcolor\": \"#E5ECF6\", \"gridcolor\": \"white\", \"gridwidth\": 2, \"linecolor\": \"white\", \"showbackground\": true, \"ticks\": \"\", \"zerolinecolor\": \"white\"}}, \"shapedefaults\": {\"line\": {\"color\": \"#2a3f5f\"}}, \"ternary\": {\"aaxis\": {\"gridcolor\": \"white\", \"linecolor\": \"white\", \"ticks\": \"\"}, \"baxis\": {\"gridcolor\": \"white\", \"linecolor\": \"white\", \"ticks\": \"\"}, \"bgcolor\": \"#E5ECF6\", \"caxis\": {\"gridcolor\": \"white\", \"linecolor\": \"white\", \"ticks\": \"\"}}, \"title\": {\"x\": 0.05}, \"xaxis\": {\"automargin\": true, \"gridcolor\": \"white\", \"linecolor\": \"white\", \"ticks\": \"\", \"title\": {\"standoff\": 15}, \"zerolinecolor\": \"white\", \"zerolinewidth\": 2}, \"yaxis\": {\"automargin\": true, \"gridcolor\": \"white\", \"linecolor\": \"white\", \"ticks\": \"\", \"title\": {\"standoff\": 15}, \"zerolinecolor\": \"white\", \"zerolinewidth\": 2}}}},\n                        {\"responsive\": true}\n                    ).then(function(){\n                            \nvar gd = document.getElementById('58ae68b1-4a83-4ed8-844c-d84a4f5c4494');\nvar x = new MutationObserver(function (mutations, observer) {{\n        var display = window.getComputedStyle(gd).display;\n        if (!display || display === 'none') {{\n            console.log([gd, 'removed!']);\n            Plotly.purge(gd);\n            observer.disconnect();\n        }}\n}});\n\n// Listen for the removal of the full notebook cells\nvar notebookContainer = gd.closest('#notebook-container');\nif (notebookContainer) {{\n    x.observe(notebookContainer, {childList: true});\n}}\n\n// Listen for the clearing of the current output cell\nvar outputEl = gd.closest('.output');\nif (outputEl) {{\n    x.observe(outputEl, {childList: true});\n}}\n\n                        })\n                };\n                });\n            </script>\n        </div>"
     },
     "metadata": {}
    }
   ],
   "source": [
    "fig = go.Figure()\n",
    "fig.add_trace(go.Treemap(\n",
    "    labels=list(state_infra['State']),\n",
    "    parents=[\"\" for parent in state_infra['State']],\n",
    "    values=list(state_infra[1992]),\n",
    "))\n",
    "fig.show()"
   ]
  },
  {
   "cell_type": "code",
   "execution_count": 117,
   "metadata": {},
   "outputs": [
    {
     "output_type": "stream",
     "name": "stdout",
     "text": [
      "1992\n1993\n1994\n1995\n1996\n1997\n1998\n1999\n2000\n2001\n2002\n2003\n2004\n2005\n2006\n2007\n2008\n2009\n2010\n2011\n2012\n2013\n2014\n2015\n2016\n"
     ]
    }
   ],
   "source": [
    "for date in range(1992,2018):\n",
    "    print(date)"
   ]
  },
  {
   "cell_type": "code",
   "execution_count": null,
   "metadata": {},
   "outputs": [],
   "source": []
  }
 ]
}